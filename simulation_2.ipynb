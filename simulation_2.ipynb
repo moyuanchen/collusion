{
 "cells": [
  {
   "cell_type": "code",
   "execution_count": 1,
   "metadata": {},
   "outputs": [],
   "source": [
    "import numpy as np\n",
    "import torch\n",
    "from itertools import product\n",
    "from collections import defaultdict\n",
    "from agents import *\n",
    "from config import Config\n",
    "from util import simulate"
   ]
  },
  {
   "cell_type": "code",
   "execution_count": null,
   "metadata": {},
   "outputs": [],
   "source": [
    "config = Config()\n",
    "config.sigma_u = 0.1\n",
    "\n",
    "_save_path = '/Users/mike/Documents/thesis/sim_3/data_part_0.npy'\n",
    "log, agents = simulate(config = config, T = 500000, save_path=_save_path)\n",
    "convergence_threshold = 1000000\n",
    "convergence = 0\n",
    "partitions = 1\n",
    "while convergence < convergence_threshold:\n",
    "    save_path = f'/Users/moyuanchen/Documents/thesis/sim_3/data_part_{partitions}.npy'\n",
    "    log, agents = simulate(config = config, T=500000, continue_simulation=_save_path, save_path=save_path)\n",
    "    _save_path = save_path\n",
    "    \n",
    "    convergence = log['convergence_counter']\n",
    "    print(f\"Partition {partitions} completed, convergence counter: {convergence}\")\n",
    "    partitions += 1\n",
    "\n",
    "# save config\n",
    "np.save('/Users/moyuanchen/Documents/thesis/sim_3/config.npy', config)"
   ]
  }
 ],
 "metadata": {
  "kernelspec": {
   "display_name": "sts",
   "language": "python",
   "name": "python3"
  },
  "language_info": {
   "codemirror_mode": {
    "name": "ipython",
    "version": 3
   },
   "file_extension": ".py",
   "mimetype": "text/x-python",
   "name": "python",
   "nbconvert_exporter": "python",
   "pygments_lexer": "ipython3",
   "version": "3.12.4"
  }
 },
 "nbformat": 4,
 "nbformat_minor": 2
}
