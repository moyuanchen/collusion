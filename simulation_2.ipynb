{
 "cells": [
  {
   "cell_type": "code",
   "execution_count": 1,
   "metadata": {},
   "outputs": [],
   "source": [
    "import numpy as np\n",
    "import torch\n",
    "from itertools import product\n",
    "from collections import defaultdict\n",
    "from agents import *\n",
    "from config import Config\n",
    "from util import simulate, simulate_constrained"
   ]
  },
  {
   "cell_type": "markdown",
   "metadata": {},
   "source": [
    "### simulate constrained"
   ]
  },
  {
   "cell_type": "code",
   "execution_count": null,
   "metadata": {},
   "outputs": [
    {
     "name": "stderr",
     "output_type": "stream",
     "text": [
      "Simulation Progress: 100%|██████████| 500000/500000 [02:06<00:00, 3946.76it/s]\n",
      "Simulation Progress: 100%|██████████| 500000/500000 [02:10<00:00, 3845.35it/s]\n"
     ]
    },
    {
     "name": "stdout",
     "output_type": "stream",
     "text": [
      "Partition 1 completed, convergence counter: 2\n"
     ]
    },
    {
     "name": "stderr",
     "output_type": "stream",
     "text": [
      "Simulation Progress: 100%|██████████| 500000/500000 [02:09<00:00, 3867.53it/s]\n"
     ]
    },
    {
     "name": "stdout",
     "output_type": "stream",
     "text": [
      "Partition 2 completed, convergence counter: 0\n"
     ]
    },
    {
     "name": "stderr",
     "output_type": "stream",
     "text": [
      "Simulation Progress:  74%|███████▍  | 369215/500000 [01:37<00:34, 3740.79it/s]"
     ]
    }
   ],
   "source": [
    "import os\n",
    "\n",
    "sigma_u_list = [0.1, 1, 10, 100]\n",
    "for sigma_u_ in sigma_u_list:\n",
    "    config = Config()\n",
    "    config.sigma_u = sigma_u_\n",
    "\n",
    "    save_folder = 'sim_sigma_u={0}'.format(sigma_u_)\n",
    "\n",
    "    _save_path = '/Users/mike/Documents/thesis/constrained/' + save_folder + '/data_part_0.npy'\n",
    "    if not os.path.exists(os.path.dirname(_save_path)):\n",
    "        os.makedirs(os.path.dirname(_save_path))\n",
    "    log, agents = simulate_constrained(config = config, T = 500000, save_path=_save_path)\n",
    "    # break\n",
    "    convergence_threshold = 1000000\n",
    "    convergence = 0\n",
    "    partitions = 1\n",
    "    while convergence < convergence_threshold:\n",
    "        save_path = f'/Users/mike/Documents/thesis/constrained/' + save_folder+ f'/data_part_{partitions}.npy'\n",
    "        log, agents = simulate_constrained(config = config, T=500000, continue_simulation=_save_path, save_path=save_path)\n",
    "        _save_path = save_path\n",
    "        \n",
    "        convergence = log['convergence_counter']\n",
    "        print(f\"Partition {partitions} completed, convergence counter: {convergence}\")\n",
    "        partitions += 1\n",
    "\n",
    "    # save config\n",
    "    np.save('/Users/mike/Documents/thesis/constrained' + save_folder + '/config.npy', config)"
   ]
  },
  {
   "cell_type": "markdown",
   "metadata": {},
   "source": [
    "### simulate unconstrained"
   ]
  },
  {
   "cell_type": "code",
   "execution_count": null,
   "metadata": {},
   "outputs": [],
   "source": [
    "sigma_u_list = [1, 10]\n",
    "for sigma_u_ in sigma_u_list:\n",
    "    config = Config()\n",
    "    config.sigma_u = sigma_u_\n",
    "\n",
    "    save_folder = 'sim_sigma_u={0}'.format(sigma_u_)\n",
    "\n",
    "    _save_path = '/Users/mike/Documents/thesis/unconstrained/' + save_folder + '/data_part_0.npy'\n",
    "    if not os.path.exists(os.path.dirname(_save_path)):\n",
    "        os.makedirs(os.path.dirname(_save_path))\n",
    "    log, agents = simulate(config = config, T = 500000, save_path=_save_path)\n",
    "    # break\n",
    "    convergence_threshold = 1000000\n",
    "    convergence = 0\n",
    "    partitions = 1\n",
    "    while convergence < convergence_threshold:\n",
    "        save_path = f'/Users/mike/Documents/thesis/unconstrained/' + save_folder+ '/data_part_{partitions}.npy'\n",
    "        log, agents = simulate(config = config, T=500000, continue_simulation=_save_path, save_path=save_path)\n",
    "        _save_path = save_path\n",
    "        \n",
    "        convergence = log['convergence_counter']\n",
    "        print(f\"Partition {partitions} completed, convergence counter: {convergence}\")\n",
    "        partitions += 1\n",
    "\n",
    "    # save config\n",
    "    np.save('/Users/mike/Documents/thesis/unconstrained/' + save_folder + '/config.npy', config)"
   ]
  },
  {
   "cell_type": "code",
   "execution_count": null,
   "metadata": {},
   "outputs": [],
   "source": []
  }
 ],
 "metadata": {
  "kernelspec": {
   "display_name": "sts",
   "language": "python",
   "name": "python3"
  },
  "language_info": {
   "codemirror_mode": {
    "name": "ipython",
    "version": 3
   },
   "file_extension": ".py",
   "mimetype": "text/x-python",
   "name": "python",
   "nbconvert_exporter": "python",
   "pygments_lexer": "ipython3",
   "version": "3.12.4"
  }
 },
 "nbformat": 4,
 "nbformat_minor": 2
}
