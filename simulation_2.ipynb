{
 "cells": [
  {
   "cell_type": "code",
   "execution_count": 1,
   "metadata": {},
   "outputs": [],
   "source": [
    "import numpy as np\n",
    "import torch\n",
    "from itertools import product\n",
    "from collections import defaultdict\n",
    "from agents import *\n",
    "from config import Config\n",
    "from util import simulate, simulate_constrained"
   ]
  },
  {
   "cell_type": "markdown",
   "metadata": {},
   "source": [
    "### simulate constrained"
   ]
  },
  {
   "cell_type": "code",
   "execution_count": 2,
   "metadata": {},
   "outputs": [
    {
     "name": "stderr",
     "output_type": "stream",
     "text": [
      "Simulation Progress: 100%|██████████| 500000/500000 [02:03<00:00, 4049.02it/s]\n",
      "Simulation Progress:   0%|          | 0/500000 [00:00<?, ?it/s]\n"
     ]
    },
    {
     "ename": "AttributeError",
     "evalue": "'Config' object has no attribute 'chi_n'",
     "output_type": "error",
     "traceback": [
      "\u001b[0;31m---------------------------------------------------------------------------\u001b[0m",
      "\u001b[0;31mAttributeError\u001b[0m                            Traceback (most recent call last)",
      "Cell \u001b[0;32mIn[2], line 20\u001b[0m\n\u001b[1;32m     18\u001b[0m \u001b[38;5;28;01mwhile\u001b[39;00m convergence \u001b[38;5;241m<\u001b[39m convergence_threshold:\n\u001b[1;32m     19\u001b[0m     save_path \u001b[38;5;241m=\u001b[39m \u001b[38;5;124mf\u001b[39m\u001b[38;5;124m'\u001b[39m\u001b[38;5;124m/Users/mike/Documents/thesis/constrained\u001b[39m\u001b[38;5;124m'\u001b[39m \u001b[38;5;241m+\u001b[39m save_folder\u001b[38;5;241m+\u001b[39m \u001b[38;5;124m'\u001b[39m\u001b[38;5;124m/data_part_\u001b[39m\u001b[38;5;132;01m{partitions}\u001b[39;00m\u001b[38;5;124m.npy\u001b[39m\u001b[38;5;124m'\u001b[39m\n\u001b[0;32m---> 20\u001b[0m     log, agents \u001b[38;5;241m=\u001b[39m simulate_constrained(config \u001b[38;5;241m=\u001b[39m config, T\u001b[38;5;241m=\u001b[39m\u001b[38;5;241m500000\u001b[39m, continue_simulation\u001b[38;5;241m=\u001b[39m_save_path, save_path\u001b[38;5;241m=\u001b[39msave_path)\n\u001b[1;32m     21\u001b[0m     _save_path \u001b[38;5;241m=\u001b[39m save_path\n\u001b[1;32m     23\u001b[0m     convergence \u001b[38;5;241m=\u001b[39m log[\u001b[38;5;124m'\u001b[39m\u001b[38;5;124mconvergence_counter\u001b[39m\u001b[38;5;124m'\u001b[39m]\n",
      "File \u001b[0;32m~/Documents/thesis/collusion/util.py:101\u001b[0m, in \u001b[0;36msimulate_constrained\u001b[0;34m(T, config, continue_simulation, save_path)\u001b[0m\n\u001b[1;32m     98\u001b[0m _x \u001b[38;5;241m=\u001b[39m []\n\u001b[1;32m    100\u001b[0m \u001b[38;5;66;03m# generate a grid from x_n to x_m each step\u001b[39;00m\n\u001b[0;32m--> 101\u001b[0m x_n, x_m \u001b[38;5;241m=\u001b[39m config\u001b[38;5;241m.\u001b[39mchi_n \u001b[38;5;241m*\u001b[39m _v, config\u001b[38;5;241m.\u001b[39mchi_m \u001b[38;5;241m*\u001b[39m _v\n\u001b[1;32m    102\u001b[0m x_diff \u001b[38;5;241m=\u001b[39m \u001b[38;5;28mabs\u001b[39m(x_m \u001b[38;5;241m-\u001b[39m x_n)\n\u001b[1;32m    103\u001b[0m \u001b[38;5;28;01mif\u001b[39;00m _v \u001b[38;5;241m>\u001b[39m config\u001b[38;5;241m.\u001b[39mv_bar:\n",
      "\u001b[0;31mAttributeError\u001b[0m: 'Config' object has no attribute 'chi_n'"
     ]
    }
   ],
   "source": [
    "import os\n",
    "\n",
    "sigma_u_list = [0.1, 1, 10, 100]\n",
    "for sigma_u_ in sigma_u_list:\n",
    "    config = Config()\n",
    "    config.sigma_u = sigma_u_\n",
    "\n",
    "    save_folder = 'sim_sigma_u={0}'.format(sigma_u_)\n",
    "\n",
    "    _save_path = '/Users/mike/Documents/thesis/constrained/' + save_folder + '/data_part_0.npy'\n",
    "    if not os.path.exists(os.path.dirname(_save_path)):\n",
    "        os.makedirs(os.path.dirname(_save_path))\n",
    "    log, agents = simulate_constrained(config = config, T = 500000, save_path=_save_path)\n",
    "    # break\n",
    "    convergence_threshold = 1000000\n",
    "    convergence = 0\n",
    "    partitions = 1\n",
    "    while convergence < convergence_threshold:\n",
    "        save_path = f'/Users/mike/Documents/thesis/constrained' + save_folder+ '/data_part_{partitions}.npy'\n",
    "        log, agents = simulate_constrained(config = config, T=500000, continue_simulation=_save_path, save_path=save_path)\n",
    "        _save_path = save_path\n",
    "        \n",
    "        convergence = log['convergence_counter']\n",
    "        print(f\"Partition {partitions} completed, convergence counter: {convergence}\")\n",
    "        partitions += 1\n",
    "\n",
    "    # save config\n",
    "    np.save('/Users/mike/Documents/thesis/constrained' + save_folder + '/config.npy', config)"
   ]
  },
  {
   "cell_type": "markdown",
   "metadata": {},
   "source": [
    "### simulate unconstrained"
   ]
  },
  {
   "cell_type": "code",
   "execution_count": null,
   "metadata": {},
   "outputs": [],
   "source": [
    "sigma_u_list = [1, 10]\n",
    "for sigma_u_ in sigma_u_list:\n",
    "    config = Config()\n",
    "    config.sigma_u = sigma_u_\n",
    "\n",
    "    save_folder = 'sim_sigma_u={0}'.format(sigma_u_)\n",
    "\n",
    "    _save_path = '/Users/mike/Documents/thesis/unconstrained/' + save_folder + '/data_part_0.npy'\n",
    "    if not os.path.exists(os.path.dirname(_save_path)):\n",
    "        os.makedirs(os.path.dirname(_save_path))\n",
    "    log, agents = simulate(config = config, T = 500000, save_path=_save_path)\n",
    "    # break\n",
    "    convergence_threshold = 1000000\n",
    "    convergence = 0\n",
    "    partitions = 1\n",
    "    while convergence < convergence_threshold:\n",
    "        save_path = f'/Users/mike/Documents/thesis/unconstrained' + save_folder+ '/data_part_{partitions}.npy'\n",
    "        log, agents = simulate(config = config, T=500000, continue_simulation=_save_path, save_path=save_path)\n",
    "        _save_path = save_path\n",
    "        \n",
    "        convergence = log['convergence_counter']\n",
    "        print(f\"Partition {partitions} completed, convergence counter: {convergence}\")\n",
    "        partitions += 1\n",
    "\n",
    "    # save config\n",
    "    np.save('/Users/mike/Documents/thesis/unconstrained' + save_folder + '/config.npy', config)"
   ]
  }
 ],
 "metadata": {
  "kernelspec": {
   "display_name": "sts",
   "language": "python",
   "name": "python3"
  },
  "language_info": {
   "codemirror_mode": {
    "name": "ipython",
    "version": 3
   },
   "file_extension": ".py",
   "mimetype": "text/x-python",
   "name": "python",
   "nbconvert_exporter": "python",
   "pygments_lexer": "ipython3",
   "version": "3.12.4"
  }
 },
 "nbformat": 4,
 "nbformat_minor": 2
}
