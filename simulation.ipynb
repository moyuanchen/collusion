{
 "cells": [
  {
   "cell_type": "code",
   "execution_count": 4,
   "metadata": {},
   "outputs": [],
   "source": [
    "from agents import InformedAgent, AdaptiveMarketMaker, NoiseAgent, PreferredHabitatAgent\n",
    "\n",
    "import numpy as np\n",
    "\n",
    "I = 2"
   ]
  },
  {
   "cell_type": "code",
   "execution_count": null,
   "metadata": {},
   "outputs": [],
   "source": [
    "def simulate(T = 1000000):\n",
    "    market_maker = AdaptiveMarketMaker()\n",
    "    noise_agent = NoiseAgent()\n",
    "    preferred_habitat_agent = PreferredHabitatAgent()\n",
    "    informed_agents = [InformedAgent() for _ in range(I)]\n",
    "    _pt = 1\n",
    "    for t in range(T):\n",
    "\n",
    "        ut = noise_agent.get_action()\n",
    "        yt = []\n",
    "        # state = (_pt, )\n",
    "        for agent in informed_agents:\n",
    "            yt.append(agent.get_action())"
   ]
  }
 ],
 "metadata": {
  "kernelspec": {
   "display_name": "sts",
   "language": "python",
   "name": "python3"
  },
  "language_info": {
   "codemirror_mode": {
    "name": "ipython",
    "version": 3
   },
   "file_extension": ".py",
   "mimetype": "text/x-python",
   "name": "python",
   "nbconvert_exporter": "python",
   "pygments_lexer": "ipython3",
   "version": "3.12.4"
  }
 },
 "nbformat": 4,
 "nbformat_minor": 2
}
