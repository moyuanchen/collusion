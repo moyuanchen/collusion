{
 "cells": [
  {
   "cell_type": "code",
   "execution_count": 2,
   "metadata": {},
   "outputs": [],
   "source": [
    "import numpy as np\n",
    "import torch\n",
    "from itertools import product\n",
    "from collections import defaultdict\n",
    "from agents import *\n",
    "from config import Config"
   ]
  },
  {
   "cell_type": "code",
   "execution_count": 3,
   "metadata": {},
   "outputs": [],
   "source": [
    "from tqdm import tqdm\n",
    "\n",
    "def get_next_v(v_bar = 1, sigma_v = 1):\n",
    "    return v_bar + np.random.normal(scale = sigma_v)\n",
    "\n",
    "def simulate(\n",
    "        T = 1000000, config = None,     # simulation time and config file\n",
    "        continue_simulation = False,    # continue simulation if True\n",
    "        save_path = None                # path to save the simulation\n",
    "        ):\n",
    "    assert config is not None, \"Config file required\"\n",
    "    I = config.I\n",
    "    Np = config.Np\n",
    "    Nv = config.Nv\n",
    "    Nx = config.Nx\n",
    "    sigma_u = config.sigma_u\n",
    "    if type(continue_simulation) == str:\n",
    "        log = np.load(continue_simulation, allow_pickle=True).item()\n",
    "        \n",
    "        v_hist = np.zeros(T)\n",
    "        p_hist = np.zeros(T)\n",
    "        z_hist = np.zeros(T)\n",
    "        x_hist = np.zeros((I, T))\n",
    "        # y_hist = np.zeros((I, T))\n",
    "        u_hist = np.zeros(T)\n",
    "        profit_hist = np.zeros((I, T))\n",
    "        t0 = 0\n",
    "\n",
    "        informed_agents = log[\"agents\"][\"informed\"]\n",
    "        noise_agent = log[\"agents\"][\"noise\"]\n",
    "        preferred_habitat_agent = log[\"agents\"][\"preferred_habitat\"]\n",
    "        market_maker = log[\"agents\"][\"market_maker\"]\n",
    "\n",
    "        _state = log[\"last_state\"]\n",
    "\n",
    "        convergence_counter = log['convergence_counter']\n",
    "    # elif type(continue_simulation) == dict:\n",
    "    #     log = continue_simulation\n",
    "    #     v_hist = log[\"v\"]\n",
    "    #     p_hist = log[\"p\"]\n",
    "    #     z_hist = log[\"z\"]\n",
    "    #     x_hist = log[\"x\"]\n",
    "    #     y_hist = log[\"y\"]\n",
    "    #     profit_hist = log[\"profit\"]\n",
    "    #     t0 = len(v_hist)\n",
    "    #     informed_agents = log[\"agents\"][\"informed\"]\n",
    "    #     noise_agent = log[\"agents\"][\"noise\"]\n",
    "    #     preferred_habitat_agent = log[\"agents\"][\"preferred_habitat\"]\n",
    "    #     market_maker = log[\"agents\"][\"market_maker\"]\n",
    "    #     _state = log[\"last_state\"]\n",
    "\n",
    "    #     profit_hist = np.concatenate((profit_hist, np.zeros((I, T))), axis=1)\n",
    "    #     v_hist = np.concatenate((v_hist, np.zeros(T)))\n",
    "    #     p_hist = np.concatenate((p_hist, np.zeros(T)))\n",
    "    #     z_hist = np.concatenate((z_hist, np.zeros(T)))\n",
    "    #     x_hist = np.concatenate((x_hist, np.zeros((I, T))), axis=1)\n",
    "    #     y_hist = np.concatenate((y_hist, np.zeros((I, T))), axis=1)\n",
    "\n",
    "    #     convergence_counter = log['convergence_counter']\n",
    "        \n",
    "    elif continue_simulation == False:\n",
    "\n",
    "        market_maker = AdaptiveMarketMaker(config)\n",
    "        noise_agent = NoiseAgent(config)\n",
    "        preferred_habitat_agent = PreferredHabitatAgent(config)\n",
    "        informed_agents = [InformedAgent(config) for _ in range(I)]\n",
    "        _state = (np.random.choice(Np), np.random.choice(Nv))\n",
    "\n",
    "        # log histories\n",
    "        v_hist = np.zeros(T)\n",
    "        p_hist = np.zeros(T)\n",
    "        z_hist = np.zeros(T)\n",
    "        x_hist = np.zeros((I, T))\n",
    "        # y_hist = np.zeros((I, T))\n",
    "        u_hist = np.zeros(T)\n",
    "        profit_hist = np.zeros((I, T))\n",
    "        t0 = 0\n",
    "        convergence_counter = 0\n",
    "    else:\n",
    "        raise ValueError(\"Invalid value for continue_simulation\")\n",
    "    for agent in informed_agents:\n",
    "        agent.convergence_counter = convergence_counter\n",
    "    if save_path is None:\n",
    "        save_path = '/Users/moyuanchen/Documents/thesis/data.npy'\n",
    "\n",
    "    for t in tqdm(range(T), desc=\"Simulation Progress\"):\n",
    "        yt = []\n",
    "        _p, _v = informed_agents[0].p_discrete[_state[0]], informed_agents[0].v_discrete[_state[1]]\n",
    "        v_hist[t+t0] = _v\n",
    "        p_hist[t+t0] = _p\n",
    "        _x = []\n",
    "        for idx, agent in enumerate(informed_agents):\n",
    "            x = agent.get_action(_state)\n",
    "            xd = agent.x_discrete[x]\n",
    "            yt.append(xd)\n",
    "            _x.append(x)\n",
    "\n",
    "            x_hist[idx, t + t0] = xd\n",
    "            # y_hist[idx, t + t0] = yt[-1]\n",
    "        ut = noise_agent.get_action()\n",
    "        u_hist[t+t0] = ut\n",
    "        yt_sum = np.sum(yt) + ut\n",
    "        # print(yt_sum)\n",
    "        zt = preferred_habitat_agent.get_action(_p)\n",
    "\n",
    "        z_hist[t+t0] = zt\n",
    "\n",
    "        \n",
    "        pt = market_maker.determine_price(yt_sum)\n",
    "        market_maker.update(_v, _p, zt, yt_sum)\n",
    "        vt = get_next_v()\n",
    "        next_state = informed_agents[0].continuous_to_discrete(pt, vt)\n",
    "        for idx, agent in enumerate(informed_agents):\n",
    "            reward = (_v - pt) * yt[idx]\n",
    "            agent.update(_state, _x[idx], reward, next_state)\n",
    "            profit_hist[idx, t + t0] = reward\n",
    "\n",
    "        _state = next_state\n",
    "    convergence = min([agent.convergence_counter for agent in informed_agents])\n",
    "    log = {\n",
    "        \"v\": v_hist,\n",
    "        \"p\": p_hist,\n",
    "        \"z\": z_hist,\n",
    "        \"x\": x_hist,\n",
    "        \"u\": u_hist,\n",
    "        \"profit\": profit_hist,\n",
    "        \"last_state\": _state,\n",
    "        \"convergence_counter\": convergence\n",
    "    }\n",
    "    agents = {\n",
    "        \"informed\": informed_agents,\n",
    "        \"noise\": noise_agent,\n",
    "        \"preferred_habitat\": preferred_habitat_agent,\n",
    "        \"market_maker\": market_maker\n",
    "    }\n",
    "    log[\"agents\"] = agents\n",
    "    np.save(save_path, log)\n",
    "    # print(max_c)\n",
    "    return log, agents"
   ]
  },
  {
   "cell_type": "markdown",
   "metadata": {},
   "source": [
    "#### Simulate $\\sigma_u = 0.1$"
   ]
  },
  {
   "cell_type": "code",
   "execution_count": 4,
   "metadata": {},
   "outputs": [
    {
     "name": "stderr",
     "output_type": "stream",
     "text": [
      "Simulation Progress: 100%|██████████| 500000/500000 [01:47<00:00, 4667.53it/s]\n",
      "Simulation Progress: 100%|██████████| 500000/500000 [01:59<00:00, 4189.86it/s]\n"
     ]
    },
    {
     "name": "stdout",
     "output_type": "stream",
     "text": [
      "Partition 1 completed, convergence counter: 1\n"
     ]
    },
    {
     "name": "stderr",
     "output_type": "stream",
     "text": [
      "Simulation Progress: 100%|██████████| 500000/500000 [02:07<00:00, 3926.28it/s]\n"
     ]
    },
    {
     "name": "stdout",
     "output_type": "stream",
     "text": [
      "Partition 2 completed, convergence counter: 33\n"
     ]
    },
    {
     "name": "stderr",
     "output_type": "stream",
     "text": [
      "Simulation Progress: 100%|██████████| 500000/500000 [02:12<00:00, 3780.02it/s]\n"
     ]
    },
    {
     "name": "stdout",
     "output_type": "stream",
     "text": [
      "Partition 3 completed, convergence counter: 6\n"
     ]
    },
    {
     "name": "stderr",
     "output_type": "stream",
     "text": [
      "Simulation Progress: 100%|██████████| 500000/500000 [02:15<00:00, 3698.98it/s]\n"
     ]
    },
    {
     "name": "stdout",
     "output_type": "stream",
     "text": [
      "Partition 4 completed, convergence counter: 1\n"
     ]
    },
    {
     "name": "stderr",
     "output_type": "stream",
     "text": [
      "Simulation Progress: 100%|██████████| 500000/500000 [02:07<00:00, 3932.69it/s]\n"
     ]
    },
    {
     "name": "stdout",
     "output_type": "stream",
     "text": [
      "Partition 5 completed, convergence counter: 407\n"
     ]
    },
    {
     "name": "stderr",
     "output_type": "stream",
     "text": [
      "Simulation Progress: 100%|██████████| 500000/500000 [02:19<00:00, 3588.14it/s]\n"
     ]
    },
    {
     "name": "stdout",
     "output_type": "stream",
     "text": [
      "Partition 6 completed, convergence counter: 1456\n"
     ]
    },
    {
     "name": "stderr",
     "output_type": "stream",
     "text": [
      "Simulation Progress: 100%|██████████| 500000/500000 [02:09<00:00, 3870.44it/s]\n"
     ]
    },
    {
     "name": "stdout",
     "output_type": "stream",
     "text": [
      "Partition 7 completed, convergence counter: 9585\n"
     ]
    },
    {
     "name": "stderr",
     "output_type": "stream",
     "text": [
      "Simulation Progress: 100%|██████████| 500000/500000 [02:36<00:00, 3195.29it/s]\n"
     ]
    },
    {
     "name": "stdout",
     "output_type": "stream",
     "text": [
      "Partition 8 completed, convergence counter: 3201\n"
     ]
    },
    {
     "name": "stderr",
     "output_type": "stream",
     "text": [
      "Simulation Progress: 100%|██████████| 500000/500000 [02:18<00:00, 3612.77it/s]\n"
     ]
    },
    {
     "name": "stdout",
     "output_type": "stream",
     "text": [
      "Partition 9 completed, convergence counter: 853\n"
     ]
    },
    {
     "name": "stderr",
     "output_type": "stream",
     "text": [
      "Simulation Progress: 100%|██████████| 500000/500000 [02:23<00:00, 3475.07it/s]\n"
     ]
    },
    {
     "name": "stdout",
     "output_type": "stream",
     "text": [
      "Partition 10 completed, convergence counter: 2639\n"
     ]
    },
    {
     "name": "stderr",
     "output_type": "stream",
     "text": [
      "Simulation Progress: 100%|██████████| 500000/500000 [02:35<00:00, 3218.03it/s]\n"
     ]
    },
    {
     "name": "stdout",
     "output_type": "stream",
     "text": [
      "Partition 11 completed, convergence counter: 30820\n"
     ]
    },
    {
     "name": "stderr",
     "output_type": "stream",
     "text": [
      "Simulation Progress: 100%|██████████| 500000/500000 [02:32<00:00, 3283.53it/s]\n"
     ]
    },
    {
     "name": "stdout",
     "output_type": "stream",
     "text": [
      "Partition 12 completed, convergence counter: 36687\n"
     ]
    },
    {
     "name": "stderr",
     "output_type": "stream",
     "text": [
      "Simulation Progress: 100%|██████████| 500000/500000 [02:46<00:00, 3009.05it/s]\n"
     ]
    },
    {
     "name": "stdout",
     "output_type": "stream",
     "text": [
      "Partition 13 completed, convergence counter: 48043\n"
     ]
    },
    {
     "name": "stderr",
     "output_type": "stream",
     "text": [
      "Simulation Progress: 100%|██████████| 500000/500000 [02:20<00:00, 3559.16it/s]\n"
     ]
    },
    {
     "name": "stdout",
     "output_type": "stream",
     "text": [
      "Partition 14 completed, convergence counter: 110992\n"
     ]
    },
    {
     "name": "stderr",
     "output_type": "stream",
     "text": [
      "Simulation Progress: 100%|██████████| 500000/500000 [02:20<00:00, 3570.24it/s]\n"
     ]
    },
    {
     "name": "stdout",
     "output_type": "stream",
     "text": [
      "Partition 15 completed, convergence counter: 59716\n"
     ]
    },
    {
     "name": "stderr",
     "output_type": "stream",
     "text": [
      "Simulation Progress: 100%|██████████| 500000/500000 [02:34<00:00, 3231.74it/s]\n"
     ]
    },
    {
     "name": "stdout",
     "output_type": "stream",
     "text": [
      "Partition 16 completed, convergence counter: 112149\n"
     ]
    },
    {
     "name": "stderr",
     "output_type": "stream",
     "text": [
      "Simulation Progress: 100%|██████████| 500000/500000 [02:30<00:00, 3330.24it/s]\n"
     ]
    },
    {
     "name": "stdout",
     "output_type": "stream",
     "text": [
      "Partition 17 completed, convergence counter: 34534\n"
     ]
    },
    {
     "name": "stderr",
     "output_type": "stream",
     "text": [
      "Simulation Progress: 100%|██████████| 500000/500000 [02:17<00:00, 3624.64it/s]\n"
     ]
    },
    {
     "name": "stdout",
     "output_type": "stream",
     "text": [
      "Partition 18 completed, convergence counter: 187893\n"
     ]
    },
    {
     "name": "stderr",
     "output_type": "stream",
     "text": [
      "Simulation Progress: 100%|██████████| 500000/500000 [02:24<00:00, 3451.66it/s]\n"
     ]
    },
    {
     "name": "stdout",
     "output_type": "stream",
     "text": [
      "Partition 19 completed, convergence counter: 9994\n"
     ]
    },
    {
     "name": "stderr",
     "output_type": "stream",
     "text": [
      "Simulation Progress: 100%|██████████| 500000/500000 [02:18<00:00, 3611.69it/s]\n"
     ]
    },
    {
     "name": "stdout",
     "output_type": "stream",
     "text": [
      "Partition 20 completed, convergence counter: 19004\n"
     ]
    },
    {
     "name": "stderr",
     "output_type": "stream",
     "text": [
      "Simulation Progress: 100%|██████████| 500000/500000 [02:42<00:00, 3073.50it/s]\n"
     ]
    },
    {
     "name": "stdout",
     "output_type": "stream",
     "text": [
      "Partition 21 completed, convergence counter: 33825\n"
     ]
    },
    {
     "name": "stderr",
     "output_type": "stream",
     "text": [
      "Simulation Progress: 100%|██████████| 500000/500000 [02:46<00:00, 3001.05it/s]\n"
     ]
    },
    {
     "name": "stdout",
     "output_type": "stream",
     "text": [
      "Partition 22 completed, convergence counter: 11375\n"
     ]
    },
    {
     "name": "stderr",
     "output_type": "stream",
     "text": [
      "Simulation Progress: 100%|██████████| 500000/500000 [02:33<00:00, 3252.68it/s]\n"
     ]
    },
    {
     "name": "stdout",
     "output_type": "stream",
     "text": [
      "Partition 23 completed, convergence counter: 7195\n"
     ]
    },
    {
     "name": "stderr",
     "output_type": "stream",
     "text": [
      "Simulation Progress: 100%|██████████| 500000/500000 [02:22<00:00, 3506.01it/s]\n"
     ]
    },
    {
     "name": "stdout",
     "output_type": "stream",
     "text": [
      "Partition 24 completed, convergence counter: 184317\n"
     ]
    },
    {
     "name": "stderr",
     "output_type": "stream",
     "text": [
      "Simulation Progress: 100%|██████████| 500000/500000 [02:44<00:00, 3046.09it/s]\n"
     ]
    },
    {
     "name": "stdout",
     "output_type": "stream",
     "text": [
      "Partition 25 completed, convergence counter: 383202\n"
     ]
    },
    {
     "name": "stderr",
     "output_type": "stream",
     "text": [
      "Simulation Progress: 100%|██████████| 500000/500000 [02:31<00:00, 3310.77it/s]\n"
     ]
    },
    {
     "name": "stdout",
     "output_type": "stream",
     "text": [
      "Partition 26 completed, convergence counter: 116887\n"
     ]
    },
    {
     "name": "stderr",
     "output_type": "stream",
     "text": [
      "Simulation Progress: 100%|██████████| 500000/500000 [02:29<00:00, 3346.56it/s]\n"
     ]
    },
    {
     "name": "stdout",
     "output_type": "stream",
     "text": [
      "Partition 27 completed, convergence counter: 105243\n"
     ]
    },
    {
     "name": "stderr",
     "output_type": "stream",
     "text": [
      "Simulation Progress: 100%|██████████| 500000/500000 [02:30<00:00, 3325.18it/s]\n"
     ]
    },
    {
     "name": "stdout",
     "output_type": "stream",
     "text": [
      "Partition 28 completed, convergence counter: 325874\n"
     ]
    },
    {
     "name": "stderr",
     "output_type": "stream",
     "text": [
      "Simulation Progress: 100%|██████████| 500000/500000 [02:47<00:00, 2984.58it/s]\n"
     ]
    },
    {
     "name": "stdout",
     "output_type": "stream",
     "text": [
      "Partition 29 completed, convergence counter: 181562\n"
     ]
    },
    {
     "name": "stderr",
     "output_type": "stream",
     "text": [
      "Simulation Progress: 100%|██████████| 500000/500000 [02:44<00:00, 3035.72it/s]\n"
     ]
    },
    {
     "name": "stdout",
     "output_type": "stream",
     "text": [
      "Partition 30 completed, convergence counter: 415760\n"
     ]
    },
    {
     "name": "stderr",
     "output_type": "stream",
     "text": [
      "Simulation Progress: 100%|██████████| 500000/500000 [02:30<00:00, 3329.80it/s]\n"
     ]
    },
    {
     "name": "stdout",
     "output_type": "stream",
     "text": [
      "Partition 31 completed, convergence counter: 657908\n"
     ]
    },
    {
     "name": "stderr",
     "output_type": "stream",
     "text": [
      "Simulation Progress: 100%|██████████| 500000/500000 [02:36<00:00, 3203.71it/s]\n"
     ]
    },
    {
     "name": "stdout",
     "output_type": "stream",
     "text": [
      "Partition 32 completed, convergence counter: 909379\n"
     ]
    },
    {
     "name": "stderr",
     "output_type": "stream",
     "text": [
      "Simulation Progress: 100%|██████████| 500000/500000 [02:25<00:00, 3444.92it/s]\n"
     ]
    },
    {
     "name": "stdout",
     "output_type": "stream",
     "text": [
      "Partition 33 completed, convergence counter: 1169752\n"
     ]
    }
   ],
   "source": [
    "config = Config()\n",
    "config.sigma_u = 0.1\n",
    "\n",
    "_save_path = '/Users/moyuanchen/Documents/thesis/sim_3/data_part_0.npy'\n",
    "log, agents = simulate(config = config, T = 500000, save_path=_save_path)\n",
    "convergence_threshold = 1000000\n",
    "convergence = 0\n",
    "partitions = 1\n",
    "while convergence < convergence_threshold:\n",
    "    save_path = f'/Users/moyuanchen/Documents/thesis/sim_3/data_part_{partitions}.npy'\n",
    "    log, agents = simulate(config = config, T=500000, continue_simulation=_save_path, save_path=save_path)\n",
    "    _save_path = save_path\n",
    "    \n",
    "    convergence = log['convergence_counter']\n",
    "    print(f\"Partition {partitions} completed, convergence counter: {convergence}\")\n",
    "    partitions += 1\n",
    "\n",
    "# save config\n",
    "np.save('/Users/moyuanchen/Documents/thesis/sim_3/config.npy', config)"
   ]
  },
  {
   "cell_type": "code",
   "execution_count": 5,
   "metadata": {},
   "outputs": [
    {
     "name": "stderr",
     "output_type": "stream",
     "text": [
      "Simulation Progress: 100%|██████████| 500000/500000 [02:24<00:00, 3450.92it/s]\n",
      "Simulation Progress: 100%|██████████| 500000/500000 [02:22<00:00, 3500.73it/s]\n"
     ]
    },
    {
     "name": "stdout",
     "output_type": "stream",
     "text": [
      "Partition 1 completed, convergence counter: 17\n"
     ]
    },
    {
     "name": "stderr",
     "output_type": "stream",
     "text": [
      "Simulation Progress: 100%|██████████| 500000/500000 [02:34<00:00, 3241.04it/s]\n"
     ]
    },
    {
     "name": "stdout",
     "output_type": "stream",
     "text": [
      "Partition 2 completed, convergence counter: 7\n"
     ]
    },
    {
     "name": "stderr",
     "output_type": "stream",
     "text": [
      "Simulation Progress: 100%|██████████| 500000/500000 [02:36<00:00, 3195.91it/s]\n"
     ]
    },
    {
     "name": "stdout",
     "output_type": "stream",
     "text": [
      "Partition 3 completed, convergence counter: 84\n"
     ]
    },
    {
     "name": "stderr",
     "output_type": "stream",
     "text": [
      "Simulation Progress: 100%|██████████| 500000/500000 [02:27<00:00, 3382.08it/s]\n"
     ]
    },
    {
     "name": "stdout",
     "output_type": "stream",
     "text": [
      "Partition 4 completed, convergence counter: 42\n"
     ]
    },
    {
     "name": "stderr",
     "output_type": "stream",
     "text": [
      "Simulation Progress: 100%|██████████| 500000/500000 [02:28<00:00, 3363.80it/s]\n"
     ]
    },
    {
     "name": "stdout",
     "output_type": "stream",
     "text": [
      "Partition 5 completed, convergence counter: 62\n"
     ]
    },
    {
     "name": "stderr",
     "output_type": "stream",
     "text": [
      "Simulation Progress: 100%|██████████| 500000/500000 [02:35<00:00, 3205.68it/s]\n"
     ]
    },
    {
     "name": "stdout",
     "output_type": "stream",
     "text": [
      "Partition 6 completed, convergence counter: 154\n"
     ]
    },
    {
     "name": "stderr",
     "output_type": "stream",
     "text": [
      "Simulation Progress: 100%|██████████| 500000/500000 [02:27<00:00, 3394.66it/s]\n"
     ]
    },
    {
     "name": "stdout",
     "output_type": "stream",
     "text": [
      "Partition 7 completed, convergence counter: 75\n"
     ]
    },
    {
     "name": "stderr",
     "output_type": "stream",
     "text": [
      "Simulation Progress: 100%|██████████| 500000/500000 [02:35<00:00, 3214.13it/s]\n"
     ]
    },
    {
     "name": "stdout",
     "output_type": "stream",
     "text": [
      "Partition 8 completed, convergence counter: 267\n"
     ]
    },
    {
     "name": "stderr",
     "output_type": "stream",
     "text": [
      "Simulation Progress: 100%|██████████| 500000/500000 [02:40<00:00, 3112.53it/s]\n"
     ]
    },
    {
     "name": "stdout",
     "output_type": "stream",
     "text": [
      "Partition 9 completed, convergence counter: 567\n"
     ]
    },
    {
     "name": "stderr",
     "output_type": "stream",
     "text": [
      "Simulation Progress: 100%|██████████| 500000/500000 [02:32<00:00, 3289.21it/s]\n"
     ]
    },
    {
     "name": "stdout",
     "output_type": "stream",
     "text": [
      "Partition 10 completed, convergence counter: 526\n"
     ]
    },
    {
     "name": "stderr",
     "output_type": "stream",
     "text": [
      "Simulation Progress: 100%|██████████| 500000/500000 [02:46<00:00, 3010.37it/s]\n"
     ]
    },
    {
     "name": "stdout",
     "output_type": "stream",
     "text": [
      "Partition 11 completed, convergence counter: 97\n"
     ]
    },
    {
     "name": "stderr",
     "output_type": "stream",
     "text": [
      "Simulation Progress: 100%|██████████| 500000/500000 [03:06<00:00, 2678.50it/s]\n"
     ]
    },
    {
     "name": "stdout",
     "output_type": "stream",
     "text": [
      "Partition 12 completed, convergence counter: 376\n"
     ]
    },
    {
     "name": "stderr",
     "output_type": "stream",
     "text": [
      "Simulation Progress: 100%|██████████| 500000/500000 [02:29<00:00, 3347.99it/s]\n"
     ]
    },
    {
     "name": "stdout",
     "output_type": "stream",
     "text": [
      "Partition 13 completed, convergence counter: 216\n"
     ]
    },
    {
     "name": "stderr",
     "output_type": "stream",
     "text": [
      "Simulation Progress: 100%|██████████| 500000/500000 [02:44<00:00, 3035.46it/s]\n"
     ]
    },
    {
     "name": "stdout",
     "output_type": "stream",
     "text": [
      "Partition 14 completed, convergence counter: 711\n"
     ]
    },
    {
     "name": "stderr",
     "output_type": "stream",
     "text": [
      "Simulation Progress: 100%|██████████| 500000/500000 [02:39<00:00, 3129.70it/s]\n"
     ]
    },
    {
     "name": "stdout",
     "output_type": "stream",
     "text": [
      "Partition 15 completed, convergence counter: 6365\n"
     ]
    },
    {
     "name": "stderr",
     "output_type": "stream",
     "text": [
      "Simulation Progress: 100%|██████████| 500000/500000 [02:44<00:00, 3043.44it/s]\n"
     ]
    },
    {
     "name": "stdout",
     "output_type": "stream",
     "text": [
      "Partition 16 completed, convergence counter: 1837\n"
     ]
    },
    {
     "name": "stderr",
     "output_type": "stream",
     "text": [
      "Simulation Progress: 100%|██████████| 500000/500000 [02:51<00:00, 2911.95it/s]\n"
     ]
    },
    {
     "name": "stdout",
     "output_type": "stream",
     "text": [
      "Partition 17 completed, convergence counter: 3427\n"
     ]
    },
    {
     "name": "stderr",
     "output_type": "stream",
     "text": [
      "Simulation Progress: 100%|██████████| 500000/500000 [02:55<00:00, 2845.30it/s]\n"
     ]
    },
    {
     "name": "stdout",
     "output_type": "stream",
     "text": [
      "Partition 18 completed, convergence counter: 4658\n"
     ]
    },
    {
     "name": "stderr",
     "output_type": "stream",
     "text": [
      "Simulation Progress: 100%|██████████| 500000/500000 [02:46<00:00, 3003.82it/s]\n"
     ]
    },
    {
     "name": "stdout",
     "output_type": "stream",
     "text": [
      "Partition 19 completed, convergence counter: 127\n"
     ]
    },
    {
     "name": "stderr",
     "output_type": "stream",
     "text": [
      "Simulation Progress: 100%|██████████| 500000/500000 [02:50<00:00, 2941.08it/s]\n"
     ]
    },
    {
     "name": "stdout",
     "output_type": "stream",
     "text": [
      "Partition 20 completed, convergence counter: 4579\n"
     ]
    },
    {
     "name": "stderr",
     "output_type": "stream",
     "text": [
      "Simulation Progress: 100%|██████████| 500000/500000 [02:31<00:00, 3295.29it/s]\n"
     ]
    },
    {
     "name": "stdout",
     "output_type": "stream",
     "text": [
      "Partition 21 completed, convergence counter: 20102\n"
     ]
    },
    {
     "name": "stderr",
     "output_type": "stream",
     "text": [
      "Simulation Progress: 100%|██████████| 500000/500000 [02:54<00:00, 2859.29it/s]\n"
     ]
    },
    {
     "name": "stdout",
     "output_type": "stream",
     "text": [
      "Partition 22 completed, convergence counter: 761\n"
     ]
    },
    {
     "name": "stderr",
     "output_type": "stream",
     "text": [
      "Simulation Progress: 100%|██████████| 500000/500000 [02:50<00:00, 2933.06it/s]\n"
     ]
    },
    {
     "name": "stdout",
     "output_type": "stream",
     "text": [
      "Partition 23 completed, convergence counter: 11154\n"
     ]
    },
    {
     "name": "stderr",
     "output_type": "stream",
     "text": [
      "Simulation Progress: 100%|██████████| 500000/500000 [02:45<00:00, 3027.21it/s]\n"
     ]
    },
    {
     "name": "stdout",
     "output_type": "stream",
     "text": [
      "Partition 24 completed, convergence counter: 15220\n"
     ]
    },
    {
     "name": "stderr",
     "output_type": "stream",
     "text": [
      "Simulation Progress: 100%|██████████| 500000/500000 [02:46<00:00, 2999.60it/s]\n"
     ]
    },
    {
     "name": "stdout",
     "output_type": "stream",
     "text": [
      "Partition 25 completed, convergence counter: 6554\n"
     ]
    },
    {
     "name": "stderr",
     "output_type": "stream",
     "text": [
      "Simulation Progress: 100%|██████████| 500000/500000 [02:35<00:00, 3218.38it/s]\n"
     ]
    },
    {
     "name": "stdout",
     "output_type": "stream",
     "text": [
      "Partition 26 completed, convergence counter: 4477\n"
     ]
    },
    {
     "name": "stderr",
     "output_type": "stream",
     "text": [
      "Simulation Progress: 100%|██████████| 500000/500000 [02:27<00:00, 3394.34it/s]\n"
     ]
    },
    {
     "name": "stdout",
     "output_type": "stream",
     "text": [
      "Partition 27 completed, convergence counter: 5290\n"
     ]
    },
    {
     "name": "stderr",
     "output_type": "stream",
     "text": [
      "Simulation Progress: 100%|██████████| 500000/500000 [03:09<00:00, 2636.94it/s]\n"
     ]
    },
    {
     "name": "stdout",
     "output_type": "stream",
     "text": [
      "Partition 28 completed, convergence counter: 14245\n"
     ]
    },
    {
     "name": "stderr",
     "output_type": "stream",
     "text": [
      "Simulation Progress: 100%|██████████| 500000/500000 [02:49<00:00, 2948.40it/s]\n"
     ]
    },
    {
     "name": "stdout",
     "output_type": "stream",
     "text": [
      "Partition 29 completed, convergence counter: 8738\n"
     ]
    },
    {
     "name": "stderr",
     "output_type": "stream",
     "text": [
      "Simulation Progress: 100%|██████████| 500000/500000 [02:30<00:00, 3332.66it/s]\n"
     ]
    },
    {
     "name": "stdout",
     "output_type": "stream",
     "text": [
      "Partition 30 completed, convergence counter: 121\n"
     ]
    },
    {
     "name": "stderr",
     "output_type": "stream",
     "text": [
      "Simulation Progress: 100%|██████████| 500000/500000 [02:49<00:00, 2942.58it/s]\n"
     ]
    },
    {
     "name": "stdout",
     "output_type": "stream",
     "text": [
      "Partition 31 completed, convergence counter: 1301\n"
     ]
    },
    {
     "name": "stderr",
     "output_type": "stream",
     "text": [
      "Simulation Progress: 100%|██████████| 500000/500000 [03:02<00:00, 2744.46it/s]\n"
     ]
    },
    {
     "name": "stdout",
     "output_type": "stream",
     "text": [
      "Partition 32 completed, convergence counter: 1306\n"
     ]
    },
    {
     "name": "stderr",
     "output_type": "stream",
     "text": [
      "Simulation Progress: 100%|██████████| 500000/500000 [02:55<00:00, 2845.18it/s]\n"
     ]
    },
    {
     "name": "stdout",
     "output_type": "stream",
     "text": [
      "Partition 33 completed, convergence counter: 82069\n"
     ]
    },
    {
     "name": "stderr",
     "output_type": "stream",
     "text": [
      "Simulation Progress: 100%|██████████| 500000/500000 [02:25<00:00, 3434.87it/s]\n"
     ]
    },
    {
     "name": "stdout",
     "output_type": "stream",
     "text": [
      "Partition 34 completed, convergence counter: 6824\n"
     ]
    },
    {
     "name": "stderr",
     "output_type": "stream",
     "text": [
      "Simulation Progress: 100%|██████████| 500000/500000 [02:11<00:00, 3800.67it/s]\n"
     ]
    },
    {
     "name": "stdout",
     "output_type": "stream",
     "text": [
      "Partition 35 completed, convergence counter: 103577\n"
     ]
    },
    {
     "name": "stderr",
     "output_type": "stream",
     "text": [
      "Simulation Progress: 100%|██████████| 500000/500000 [02:18<00:00, 3621.92it/s]\n"
     ]
    },
    {
     "name": "stdout",
     "output_type": "stream",
     "text": [
      "Partition 36 completed, convergence counter: 41580\n"
     ]
    },
    {
     "name": "stderr",
     "output_type": "stream",
     "text": [
      "Simulation Progress: 100%|██████████| 500000/500000 [02:26<00:00, 3421.26it/s]\n"
     ]
    },
    {
     "name": "stdout",
     "output_type": "stream",
     "text": [
      "Partition 37 completed, convergence counter: 24013\n"
     ]
    },
    {
     "name": "stderr",
     "output_type": "stream",
     "text": [
      "Simulation Progress: 100%|██████████| 500000/500000 [02:33<00:00, 3250.68it/s]\n"
     ]
    },
    {
     "name": "stdout",
     "output_type": "stream",
     "text": [
      "Partition 38 completed, convergence counter: 77242\n"
     ]
    },
    {
     "name": "stderr",
     "output_type": "stream",
     "text": [
      "Simulation Progress: 100%|██████████| 500000/500000 [02:23<00:00, 3487.33it/s]\n"
     ]
    },
    {
     "name": "stdout",
     "output_type": "stream",
     "text": [
      "Partition 39 completed, convergence counter: 7933\n"
     ]
    },
    {
     "name": "stderr",
     "output_type": "stream",
     "text": [
      "Simulation Progress: 100%|██████████| 500000/500000 [02:23<00:00, 3477.99it/s]\n"
     ]
    },
    {
     "name": "stdout",
     "output_type": "stream",
     "text": [
      "Partition 40 completed, convergence counter: 8857\n"
     ]
    },
    {
     "name": "stderr",
     "output_type": "stream",
     "text": [
      "Simulation Progress: 100%|██████████| 500000/500000 [02:20<00:00, 3558.10it/s]\n"
     ]
    },
    {
     "name": "stdout",
     "output_type": "stream",
     "text": [
      "Partition 41 completed, convergence counter: 5343\n"
     ]
    },
    {
     "name": "stderr",
     "output_type": "stream",
     "text": [
      "Simulation Progress: 100%|██████████| 500000/500000 [02:29<00:00, 3345.96it/s]\n"
     ]
    },
    {
     "name": "stdout",
     "output_type": "stream",
     "text": [
      "Partition 42 completed, convergence counter: 4746\n"
     ]
    },
    {
     "name": "stderr",
     "output_type": "stream",
     "text": [
      "Simulation Progress: 100%|██████████| 500000/500000 [02:32<00:00, 3288.73it/s]\n"
     ]
    },
    {
     "name": "stdout",
     "output_type": "stream",
     "text": [
      "Partition 43 completed, convergence counter: 27235\n"
     ]
    },
    {
     "name": "stderr",
     "output_type": "stream",
     "text": [
      "Simulation Progress: 100%|██████████| 500000/500000 [02:27<00:00, 3384.50it/s]\n"
     ]
    },
    {
     "name": "stdout",
     "output_type": "stream",
     "text": [
      "Partition 44 completed, convergence counter: 71129\n"
     ]
    },
    {
     "name": "stderr",
     "output_type": "stream",
     "text": [
      "Simulation Progress: 100%|██████████| 500000/500000 [02:29<00:00, 3334.40it/s]\n"
     ]
    },
    {
     "name": "stdout",
     "output_type": "stream",
     "text": [
      "Partition 45 completed, convergence counter: 7339\n"
     ]
    },
    {
     "name": "stderr",
     "output_type": "stream",
     "text": [
      "Simulation Progress: 100%|██████████| 500000/500000 [02:43<00:00, 3055.71it/s]\n"
     ]
    },
    {
     "name": "stdout",
     "output_type": "stream",
     "text": [
      "Partition 46 completed, convergence counter: 97785\n"
     ]
    },
    {
     "name": "stderr",
     "output_type": "stream",
     "text": [
      "Simulation Progress: 100%|██████████| 500000/500000 [02:18<00:00, 3616.10it/s]\n"
     ]
    },
    {
     "name": "stdout",
     "output_type": "stream",
     "text": [
      "Partition 47 completed, convergence counter: 1497\n"
     ]
    },
    {
     "name": "stderr",
     "output_type": "stream",
     "text": [
      "Simulation Progress: 100%|██████████| 500000/500000 [02:28<00:00, 3372.36it/s]\n"
     ]
    },
    {
     "name": "stdout",
     "output_type": "stream",
     "text": [
      "Partition 48 completed, convergence counter: 7980\n"
     ]
    },
    {
     "name": "stderr",
     "output_type": "stream",
     "text": [
      "Simulation Progress: 100%|██████████| 500000/500000 [02:45<00:00, 3015.12it/s]\n"
     ]
    },
    {
     "name": "stdout",
     "output_type": "stream",
     "text": [
      "Partition 49 completed, convergence counter: 88453\n"
     ]
    },
    {
     "name": "stderr",
     "output_type": "stream",
     "text": [
      "Simulation Progress: 100%|██████████| 500000/500000 [02:48<00:00, 2964.87it/s]\n"
     ]
    },
    {
     "name": "stdout",
     "output_type": "stream",
     "text": [
      "Partition 50 completed, convergence counter: 42124\n"
     ]
    },
    {
     "name": "stderr",
     "output_type": "stream",
     "text": [
      "Simulation Progress: 100%|██████████| 500000/500000 [02:31<00:00, 3296.49it/s]\n"
     ]
    },
    {
     "name": "stdout",
     "output_type": "stream",
     "text": [
      "Partition 51 completed, convergence counter: 18551\n"
     ]
    },
    {
     "name": "stderr",
     "output_type": "stream",
     "text": [
      "Simulation Progress: 100%|██████████| 500000/500000 [02:30<00:00, 3329.95it/s]\n"
     ]
    },
    {
     "name": "stdout",
     "output_type": "stream",
     "text": [
      "Partition 52 completed, convergence counter: 52959\n"
     ]
    },
    {
     "name": "stderr",
     "output_type": "stream",
     "text": [
      "Simulation Progress: 100%|██████████| 500000/500000 [02:30<00:00, 3321.03it/s]\n"
     ]
    },
    {
     "name": "stdout",
     "output_type": "stream",
     "text": [
      "Partition 53 completed, convergence counter: 377703\n"
     ]
    },
    {
     "name": "stderr",
     "output_type": "stream",
     "text": [
      "Simulation Progress: 100%|██████████| 500000/500000 [02:25<00:00, 3438.32it/s]\n"
     ]
    },
    {
     "name": "stdout",
     "output_type": "stream",
     "text": [
      "Partition 54 completed, convergence counter: 13745\n"
     ]
    },
    {
     "name": "stderr",
     "output_type": "stream",
     "text": [
      "Simulation Progress: 100%|██████████| 500000/500000 [02:43<00:00, 3061.68it/s]\n"
     ]
    },
    {
     "name": "stdout",
     "output_type": "stream",
     "text": [
      "Partition 55 completed, convergence counter: 13971\n"
     ]
    },
    {
     "name": "stderr",
     "output_type": "stream",
     "text": [
      "Simulation Progress: 100%|██████████| 500000/500000 [02:35<00:00, 3223.37it/s]\n"
     ]
    },
    {
     "name": "stdout",
     "output_type": "stream",
     "text": [
      "Partition 56 completed, convergence counter: 112217\n"
     ]
    },
    {
     "name": "stderr",
     "output_type": "stream",
     "text": [
      "Simulation Progress: 100%|██████████| 500000/500000 [02:27<00:00, 3382.23it/s]\n"
     ]
    },
    {
     "name": "stdout",
     "output_type": "stream",
     "text": [
      "Partition 57 completed, convergence counter: 148375\n"
     ]
    },
    {
     "name": "stderr",
     "output_type": "stream",
     "text": [
      "Simulation Progress: 100%|██████████| 500000/500000 [02:37<00:00, 3175.67it/s]\n"
     ]
    },
    {
     "name": "stdout",
     "output_type": "stream",
     "text": [
      "Partition 58 completed, convergence counter: 1081\n"
     ]
    },
    {
     "name": "stderr",
     "output_type": "stream",
     "text": [
      "Simulation Progress: 100%|██████████| 500000/500000 [02:36<00:00, 3196.33it/s]\n"
     ]
    },
    {
     "name": "stdout",
     "output_type": "stream",
     "text": [
      "Partition 59 completed, convergence counter: 115136\n"
     ]
    },
    {
     "name": "stderr",
     "output_type": "stream",
     "text": [
      "Simulation Progress: 100%|██████████| 500000/500000 [02:30<00:00, 3325.69it/s]\n"
     ]
    },
    {
     "name": "stdout",
     "output_type": "stream",
     "text": [
      "Partition 60 completed, convergence counter: 36434\n"
     ]
    },
    {
     "name": "stderr",
     "output_type": "stream",
     "text": [
      "Simulation Progress: 100%|██████████| 500000/500000 [02:29<00:00, 3334.27it/s]\n"
     ]
    },
    {
     "name": "stdout",
     "output_type": "stream",
     "text": [
      "Partition 61 completed, convergence counter: 75059\n"
     ]
    },
    {
     "name": "stderr",
     "output_type": "stream",
     "text": [
      "Simulation Progress: 100%|██████████| 500000/500000 [02:42<00:00, 3076.49it/s]\n"
     ]
    },
    {
     "name": "stdout",
     "output_type": "stream",
     "text": [
      "Partition 62 completed, convergence counter: 140763\n"
     ]
    },
    {
     "name": "stderr",
     "output_type": "stream",
     "text": [
      "Simulation Progress: 100%|██████████| 500000/500000 [02:46<00:00, 3009.70it/s]\n"
     ]
    },
    {
     "name": "stdout",
     "output_type": "stream",
     "text": [
      "Partition 63 completed, convergence counter: 221283\n"
     ]
    },
    {
     "name": "stderr",
     "output_type": "stream",
     "text": [
      "Simulation Progress: 100%|██████████| 500000/500000 [02:20<00:00, 3570.96it/s]\n"
     ]
    },
    {
     "name": "stdout",
     "output_type": "stream",
     "text": [
      "Partition 64 completed, convergence counter: 19499\n"
     ]
    },
    {
     "name": "stderr",
     "output_type": "stream",
     "text": [
      "Simulation Progress: 100%|██████████| 500000/500000 [02:21<00:00, 3539.70it/s]\n"
     ]
    },
    {
     "name": "stdout",
     "output_type": "stream",
     "text": [
      "Partition 65 completed, convergence counter: 149555\n"
     ]
    },
    {
     "name": "stderr",
     "output_type": "stream",
     "text": [
      "Simulation Progress: 100%|██████████| 500000/500000 [02:20<00:00, 3555.51it/s]\n"
     ]
    },
    {
     "name": "stdout",
     "output_type": "stream",
     "text": [
      "Partition 66 completed, convergence counter: 63928\n"
     ]
    },
    {
     "name": "stderr",
     "output_type": "stream",
     "text": [
      "Simulation Progress: 100%|██████████| 500000/500000 [02:25<00:00, 3439.79it/s]\n"
     ]
    },
    {
     "name": "stdout",
     "output_type": "stream",
     "text": [
      "Partition 67 completed, convergence counter: 138326\n"
     ]
    },
    {
     "name": "stderr",
     "output_type": "stream",
     "text": [
      "Simulation Progress: 100%|██████████| 500000/500000 [02:22<00:00, 3498.22it/s]\n"
     ]
    },
    {
     "name": "stdout",
     "output_type": "stream",
     "text": [
      "Partition 68 completed, convergence counter: 6643\n"
     ]
    },
    {
     "name": "stderr",
     "output_type": "stream",
     "text": [
      "Simulation Progress: 100%|██████████| 500000/500000 [02:32<00:00, 3287.21it/s]\n"
     ]
    },
    {
     "name": "stdout",
     "output_type": "stream",
     "text": [
      "Partition 69 completed, convergence counter: 5128\n"
     ]
    },
    {
     "name": "stderr",
     "output_type": "stream",
     "text": [
      "Simulation Progress: 100%|██████████| 500000/500000 [02:19<00:00, 3577.02it/s]\n"
     ]
    },
    {
     "name": "stdout",
     "output_type": "stream",
     "text": [
      "Partition 70 completed, convergence counter: 193929\n"
     ]
    },
    {
     "name": "stderr",
     "output_type": "stream",
     "text": [
      "Simulation Progress: 100%|██████████| 500000/500000 [02:31<00:00, 3303.46it/s]\n"
     ]
    },
    {
     "name": "stdout",
     "output_type": "stream",
     "text": [
      "Partition 71 completed, convergence counter: 18259\n"
     ]
    },
    {
     "name": "stderr",
     "output_type": "stream",
     "text": [
      "Simulation Progress: 100%|██████████| 500000/500000 [02:26<00:00, 3416.43it/s]\n"
     ]
    },
    {
     "name": "stdout",
     "output_type": "stream",
     "text": [
      "Partition 72 completed, convergence counter: 120900\n"
     ]
    },
    {
     "name": "stderr",
     "output_type": "stream",
     "text": [
      "Simulation Progress: 100%|██████████| 500000/500000 [02:29<00:00, 3339.39it/s]\n"
     ]
    },
    {
     "name": "stdout",
     "output_type": "stream",
     "text": [
      "Partition 73 completed, convergence counter: 494813\n"
     ]
    },
    {
     "name": "stderr",
     "output_type": "stream",
     "text": [
      "Simulation Progress: 100%|██████████| 500000/500000 [02:18<00:00, 3598.72it/s]\n"
     ]
    },
    {
     "name": "stdout",
     "output_type": "stream",
     "text": [
      "Partition 74 completed, convergence counter: 154535\n"
     ]
    },
    {
     "name": "stderr",
     "output_type": "stream",
     "text": [
      "Simulation Progress: 100%|██████████| 500000/500000 [02:33<00:00, 3249.75it/s]\n"
     ]
    },
    {
     "name": "stdout",
     "output_type": "stream",
     "text": [
      "Partition 75 completed, convergence counter: 532550\n"
     ]
    },
    {
     "name": "stderr",
     "output_type": "stream",
     "text": [
      "Simulation Progress: 100%|██████████| 500000/500000 [02:29<00:00, 3337.76it/s]\n"
     ]
    },
    {
     "name": "stdout",
     "output_type": "stream",
     "text": [
      "Partition 76 completed, convergence counter: 912505\n"
     ]
    },
    {
     "name": "stderr",
     "output_type": "stream",
     "text": [
      "Simulation Progress: 100%|██████████| 500000/500000 [02:20<00:00, 3566.09it/s]"
     ]
    },
    {
     "name": "stdout",
     "output_type": "stream",
     "text": [
      "Partition 77 completed, convergence counter: 1294355\n"
     ]
    },
    {
     "name": "stderr",
     "output_type": "stream",
     "text": [
      "\n"
     ]
    }
   ],
   "source": [
    "config = Config()\n",
    "config.sigma_u = 100\n",
    "\n",
    "_save_path = '/Users/moyuanchen/Documents/thesis/sim_4/data_part_0.npy'\n",
    "log, agents = simulate(config = config, T = 500000, save_path=_save_path)\n",
    "convergence_threshold = 1000000\n",
    "convergence = 0\n",
    "partitions = 1\n",
    "while convergence < convergence_threshold:\n",
    "    save_path = f'/Users/moyuanchen/Documents/thesis/sim_4/data_part_{partitions}.npy'\n",
    "    log, agents = simulate(config = config, T=500000, continue_simulation=_save_path, save_path=save_path)\n",
    "    _save_path = save_path\n",
    "    \n",
    "    convergence = log['convergence_counter']\n",
    "    print(f\"Partition {partitions} completed, convergence counter: {convergence}\")\n",
    "    partitions += 1\n",
    "\n",
    "# save config\n",
    "np.save('/Users/moyuanchen/Documents/thesis/sim_4/config.npy', config)"
   ]
  },
  {
   "cell_type": "markdown",
   "metadata": {},
   "source": [
    "### Continue Simulation after Convergence"
   ]
  },
  {
   "cell_type": "code",
   "execution_count": 6,
   "metadata": {},
   "outputs": [
    {
     "ename": "SyntaxError",
     "evalue": "expected argument value expression (1705007820.py, line 5)",
     "output_type": "error",
     "traceback": [
      "\u001b[0;36m  Cell \u001b[0;32mIn[6], line 5\u001b[0;36m\u001b[0m\n\u001b[0;31m    log, agents = simulate(config = config, T = 500000, save_path=_save_path, continue_simulation=)\u001b[0m\n\u001b[0m                                                                              ^\u001b[0m\n\u001b[0;31mSyntaxError\u001b[0m\u001b[0;31m:\u001b[0m expected argument value expression\n"
     ]
    }
   ],
   "source": [
    "config = Config()\n",
    "config.sigma_u = 0.1\n",
    "\n",
    "_save_path = '/Users/moyuanchen/Documents/thesis/sim_1/converged/data.npy'\n",
    "log, agents = simulate(config = config, T = 500000, save_path=_save_path, continue_simulation=)"
   ]
  }
 ],
 "metadata": {
  "kernelspec": {
   "display_name": "ai",
   "language": "python",
   "name": "python3"
  },
  "language_info": {
   "codemirror_mode": {
    "name": "ipython",
    "version": 3
   },
   "file_extension": ".py",
   "mimetype": "text/x-python",
   "name": "python",
   "nbconvert_exporter": "python",
   "pygments_lexer": "ipython3",
   "version": "3.12.2"
  }
 },
 "nbformat": 4,
 "nbformat_minor": 2
}
