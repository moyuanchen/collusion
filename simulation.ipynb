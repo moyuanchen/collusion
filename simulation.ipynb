{
 "cells": [
  {
   "cell_type": "code",
   "execution_count": 1,
   "metadata": {},
   "outputs": [],
   "source": [
    "import numpy as np\n",
    "import torch\n",
    "from itertools import product\n",
    "from collections import defaultdict\n",
    "from agents import *\n",
    "from config import Config"
   ]
  },
  {
   "cell_type": "code",
   "execution_count": 2,
   "metadata": {},
   "outputs": [],
   "source": [
    "from tqdm import tqdm\n",
    "\n",
    "def get_next_v(v_bar = 1, sigma_v = 1):\n",
    "    return v_bar + np.random.normal(scale = sigma_v)\n",
    "\n",
    "def simulate(\n",
    "        T = 1000000, config = None,     # simulation time and config file\n",
    "        continue_simulation = False,    # continue simulation if True\n",
    "        save_path = None                # path to save the simulation\n",
    "        ):\n",
    "    assert config is not None, \"Config file required\"\n",
    "    I = config.I\n",
    "    Np = config.Np\n",
    "    Nv = config.Nv\n",
    "    Nx = config.Nx\n",
    "    sigma_u = config.sigma_u\n",
    "    if type(continue_simulation) == str:\n",
    "        log = np.load(continue_simulation, allow_pickle=True).item()\n",
    "        \n",
    "        v_hist = np.zeros(T)\n",
    "        p_hist = np.zeros(T)\n",
    "        z_hist = np.zeros(T)\n",
    "        x_hist = np.zeros((I, T))\n",
    "        # y_hist = np.zeros((I, T))\n",
    "        u_hist = np.zeros(T)\n",
    "        profit_hist = np.zeros((I, T))\n",
    "        t0 = 0\n",
    "\n",
    "        informed_agents = log[\"agents\"][\"informed\"]\n",
    "        noise_agent = log[\"agents\"][\"noise\"]\n",
    "        preferred_habitat_agent = log[\"agents\"][\"preferred_habitat\"]\n",
    "        market_maker = log[\"agents\"][\"market_maker\"]\n",
    "\n",
    "        _state = log[\"last_state\"]\n",
    "\n",
    "        convergence_counter = log['convergence_counter']\n",
    "    # elif type(continue_simulation) == dict:\n",
    "    #     log = continue_simulation\n",
    "    #     v_hist = log[\"v\"]\n",
    "    #     p_hist = log[\"p\"]\n",
    "    #     z_hist = log[\"z\"]\n",
    "    #     x_hist = log[\"x\"]\n",
    "    #     y_hist = log[\"y\"]\n",
    "    #     profit_hist = log[\"profit\"]\n",
    "    #     t0 = len(v_hist)\n",
    "    #     informed_agents = log[\"agents\"][\"informed\"]\n",
    "    #     noise_agent = log[\"agents\"][\"noise\"]\n",
    "    #     preferred_habitat_agent = log[\"agents\"][\"preferred_habitat\"]\n",
    "    #     market_maker = log[\"agents\"][\"market_maker\"]\n",
    "    #     _state = log[\"last_state\"]\n",
    "\n",
    "    #     profit_hist = np.concatenate((profit_hist, np.zeros((I, T))), axis=1)\n",
    "    #     v_hist = np.concatenate((v_hist, np.zeros(T)))\n",
    "    #     p_hist = np.concatenate((p_hist, np.zeros(T)))\n",
    "    #     z_hist = np.concatenate((z_hist, np.zeros(T)))\n",
    "    #     x_hist = np.concatenate((x_hist, np.zeros((I, T))), axis=1)\n",
    "    #     y_hist = np.concatenate((y_hist, np.zeros((I, T))), axis=1)\n",
    "\n",
    "    #     convergence_counter = log['convergence_counter']\n",
    "        \n",
    "    elif continue_simulation == False:\n",
    "\n",
    "        market_maker = AdaptiveMarketMaker(config)\n",
    "        noise_agent = NoiseAgent(config)\n",
    "        preferred_habitat_agent = PreferredHabitatAgent(config)\n",
    "        informed_agents = [InformedAgent(config) for _ in range(I)]\n",
    "        _state = (np.random.choice(Np), np.random.choice(Nv))\n",
    "\n",
    "        # log histories\n",
    "        v_hist = np.zeros(T)\n",
    "        p_hist = np.zeros(T)\n",
    "        z_hist = np.zeros(T)\n",
    "        x_hist = np.zeros((I, T))\n",
    "        # y_hist = np.zeros((I, T))\n",
    "        u_hist = np.zeros(T)\n",
    "        profit_hist = np.zeros((I, T))\n",
    "        t0 = 0\n",
    "        convergence_counter = 0\n",
    "    else:\n",
    "        raise ValueError(\"Invalid value for continue_simulation\")\n",
    "    for agent in informed_agents:\n",
    "        agent.convergence_counter = convergence_counter\n",
    "    if save_path is None:\n",
    "        save_path = '/Users/moyuanchen/Documents/thesis/data.npy'\n",
    "\n",
    "    for t in tqdm(range(T), desc=\"Simulation Progress\"):\n",
    "        yt = []\n",
    "        _p, _v = informed_agents[0].p_discrete[_state[0]], informed_agents[0].v_discrete[_state[1]]\n",
    "        v_hist[t+t0] = _v\n",
    "        p_hist[t+t0] = _p\n",
    "        _x = []\n",
    "        for idx, agent in enumerate(informed_agents):\n",
    "            x = agent.get_action(_state)\n",
    "            xd = agent.x_discrete[x]\n",
    "            yt.append(xd)\n",
    "            _x.append(x)\n",
    "\n",
    "            x_hist[idx, t + t0] = xd\n",
    "            # y_hist[idx, t + t0] = yt[-1]\n",
    "        ut = noise_agent.get_action()\n",
    "        u_hist[t+t0] = ut\n",
    "        yt_sum = np.sum(yt) + ut\n",
    "        # print(yt_sum)\n",
    "        zt = preferred_habitat_agent.get_action(_p)\n",
    "\n",
    "        z_hist[t+t0] = zt\n",
    "\n",
    "        market_maker.update(_v, _p, zt, yt_sum)\n",
    "        pt = market_maker.determine_price(yt_sum)\n",
    "        vt = get_next_v()\n",
    "        next_state = informed_agents[0].continuous_to_discrete(pt, vt)\n",
    "        for idx, agent in enumerate(informed_agents):\n",
    "            reward = (_v - pt) * yt[idx]\n",
    "            agent.update(_state, _x[idx], reward, next_state)\n",
    "            profit_hist[idx, t + t0] = reward\n",
    "\n",
    "        _state = next_state\n",
    "    convergence = min([agent.convergence_counter for agent in informed_agents])\n",
    "    log = {\n",
    "        \"v\": v_hist,\n",
    "        \"p\": p_hist,\n",
    "        \"z\": z_hist,\n",
    "        \"x\": x_hist,\n",
    "        \"u\": u_hist,\n",
    "        \"profit\": profit_hist,\n",
    "        \"last_state\": _state,\n",
    "        \"convergence_counter\": convergence\n",
    "    }\n",
    "    agents = {\n",
    "        \"informed\": informed_agents,\n",
    "        \"noise\": noise_agent,\n",
    "        \"preferred_habitat\": preferred_habitat_agent,\n",
    "        \"market_maker\": market_maker\n",
    "    }\n",
    "    log[\"agents\"] = agents\n",
    "    np.save(save_path, log)\n",
    "    # print(max_c)\n",
    "    return log, agents"
   ]
  },
  {
   "cell_type": "markdown",
   "metadata": {},
   "source": [
    "#### Simulate $\\sigma_u = 0.1$"
   ]
  },
  {
   "cell_type": "code",
   "execution_count": null,
   "metadata": {},
   "outputs": [
    {
     "name": "stderr",
     "output_type": "stream",
     "text": [
      "Simulation Progress: 100%|██████████| 500000/500000 [03:16<00:00, 2540.96it/s]\n",
      "Simulation Progress: 100%|██████████| 500000/500000 [02:34<00:00, 3236.91it/s]\n"
     ]
    },
    {
     "name": "stdout",
     "output_type": "stream",
     "text": [
      "Partition 1 completed, convergence counter: 36\n"
     ]
    },
    {
     "name": "stderr",
     "output_type": "stream",
     "text": [
      "Simulation Progress: 100%|██████████| 500000/500000 [03:12<00:00, 2592.48it/s]\n"
     ]
    },
    {
     "name": "stdout",
     "output_type": "stream",
     "text": [
      "Partition 2 completed, convergence counter: 44\n"
     ]
    },
    {
     "name": "stderr",
     "output_type": "stream",
     "text": [
      "Simulation Progress: 100%|██████████| 500000/500000 [03:09<00:00, 2643.77it/s]\n"
     ]
    },
    {
     "name": "stdout",
     "output_type": "stream",
     "text": [
      "Partition 3 completed, convergence counter: 99\n"
     ]
    },
    {
     "name": "stderr",
     "output_type": "stream",
     "text": [
      "Simulation Progress: 100%|██████████| 500000/500000 [03:17<00:00, 2526.69it/s]\n"
     ]
    },
    {
     "name": "stdout",
     "output_type": "stream",
     "text": [
      "Partition 4 completed, convergence counter: 52\n"
     ]
    },
    {
     "name": "stderr",
     "output_type": "stream",
     "text": [
      "Simulation Progress: 100%|██████████| 500000/500000 [02:37<00:00, 3165.41it/s]\n"
     ]
    },
    {
     "name": "stdout",
     "output_type": "stream",
     "text": [
      "Partition 5 completed, convergence counter: 376\n"
     ]
    },
    {
     "name": "stderr",
     "output_type": "stream",
     "text": [
      "Simulation Progress: 100%|██████████| 500000/500000 [02:33<00:00, 3265.56it/s]\n"
     ]
    },
    {
     "name": "stdout",
     "output_type": "stream",
     "text": [
      "Partition 6 completed, convergence counter: 3963\n"
     ]
    },
    {
     "name": "stderr",
     "output_type": "stream",
     "text": [
      "Simulation Progress: 100%|██████████| 500000/500000 [02:46<00:00, 3009.85it/s]\n"
     ]
    },
    {
     "name": "stdout",
     "output_type": "stream",
     "text": [
      "Partition 7 completed, convergence counter: 1436\n"
     ]
    },
    {
     "name": "stderr",
     "output_type": "stream",
     "text": [
      "Simulation Progress: 100%|██████████| 500000/500000 [02:31<00:00, 3306.79it/s]\n"
     ]
    },
    {
     "name": "stdout",
     "output_type": "stream",
     "text": [
      "Partition 8 completed, convergence counter: 4174\n"
     ]
    },
    {
     "name": "stderr",
     "output_type": "stream",
     "text": [
      "Simulation Progress: 100%|██████████| 500000/500000 [02:23<00:00, 3475.96it/s]\n"
     ]
    },
    {
     "name": "stdout",
     "output_type": "stream",
     "text": [
      "Partition 9 completed, convergence counter: 29166\n"
     ]
    },
    {
     "name": "stderr",
     "output_type": "stream",
     "text": [
      "Simulation Progress: 100%|██████████| 500000/500000 [02:26<00:00, 3408.70it/s]\n"
     ]
    },
    {
     "name": "stdout",
     "output_type": "stream",
     "text": [
      "Partition 10 completed, convergence counter: 38925\n"
     ]
    },
    {
     "name": "stderr",
     "output_type": "stream",
     "text": [
      "Simulation Progress: 100%|██████████| 500000/500000 [02:37<00:00, 3171.93it/s]\n"
     ]
    },
    {
     "name": "stdout",
     "output_type": "stream",
     "text": [
      "Partition 11 completed, convergence counter: 160\n"
     ]
    },
    {
     "name": "stderr",
     "output_type": "stream",
     "text": [
      "Simulation Progress: 100%|██████████| 500000/500000 [02:36<00:00, 3186.34it/s]\n"
     ]
    },
    {
     "name": "stdout",
     "output_type": "stream",
     "text": [
      "Partition 12 completed, convergence counter: 4125\n"
     ]
    },
    {
     "name": "stderr",
     "output_type": "stream",
     "text": [
      "Simulation Progress: 100%|██████████| 500000/500000 [02:41<00:00, 3098.11it/s]\n"
     ]
    },
    {
     "name": "stdout",
     "output_type": "stream",
     "text": [
      "Partition 13 completed, convergence counter: 50967\n"
     ]
    },
    {
     "name": "stderr",
     "output_type": "stream",
     "text": [
      "Simulation Progress: 100%|██████████| 500000/500000 [02:47<00:00, 2979.88it/s]\n"
     ]
    },
    {
     "name": "stdout",
     "output_type": "stream",
     "text": [
      "Partition 14 completed, convergence counter: 120069\n"
     ]
    },
    {
     "name": "stderr",
     "output_type": "stream",
     "text": [
      "Simulation Progress: 100%|██████████| 500000/500000 [02:39<00:00, 3138.44it/s]\n"
     ]
    },
    {
     "name": "stdout",
     "output_type": "stream",
     "text": [
      "Partition 15 completed, convergence counter: 57155\n"
     ]
    },
    {
     "name": "stderr",
     "output_type": "stream",
     "text": [
      "Simulation Progress: 100%|██████████| 500000/500000 [02:07<00:00, 3925.89it/s]\n"
     ]
    },
    {
     "name": "stdout",
     "output_type": "stream",
     "text": [
      "Partition 16 completed, convergence counter: 11249\n"
     ]
    },
    {
     "name": "stderr",
     "output_type": "stream",
     "text": [
      "Simulation Progress: 100%|██████████| 500000/500000 [02:27<00:00, 3386.91it/s]\n"
     ]
    },
    {
     "name": "stdout",
     "output_type": "stream",
     "text": [
      "Partition 17 completed, convergence counter: 38137\n"
     ]
    },
    {
     "name": "stderr",
     "output_type": "stream",
     "text": [
      "Simulation Progress: 100%|██████████| 500000/500000 [02:56<00:00, 2837.73it/s]\n"
     ]
    },
    {
     "name": "stdout",
     "output_type": "stream",
     "text": [
      "Partition 18 completed, convergence counter: 190892\n"
     ]
    },
    {
     "name": "stderr",
     "output_type": "stream",
     "text": [
      "Simulation Progress: 100%|██████████| 500000/500000 [02:12<00:00, 3765.40it/s]\n"
     ]
    },
    {
     "name": "stdout",
     "output_type": "stream",
     "text": [
      "Partition 19 completed, convergence counter: 23286\n"
     ]
    },
    {
     "name": "stderr",
     "output_type": "stream",
     "text": [
      "Simulation Progress: 100%|██████████| 500000/500000 [02:19<00:00, 3573.72it/s]\n"
     ]
    },
    {
     "name": "stdout",
     "output_type": "stream",
     "text": [
      "Partition 20 completed, convergence counter: 17450\n"
     ]
    },
    {
     "name": "stderr",
     "output_type": "stream",
     "text": [
      "Simulation Progress: 100%|██████████| 500000/500000 [02:22<00:00, 3508.37it/s]\n"
     ]
    },
    {
     "name": "stdout",
     "output_type": "stream",
     "text": [
      "Partition 21 completed, convergence counter: 81492\n"
     ]
    },
    {
     "name": "stderr",
     "output_type": "stream",
     "text": [
      "Simulation Progress: 100%|██████████| 500000/500000 [02:25<00:00, 3430.49it/s]\n"
     ]
    },
    {
     "name": "stdout",
     "output_type": "stream",
     "text": [
      "Partition 22 completed, convergence counter: 48711\n"
     ]
    },
    {
     "name": "stderr",
     "output_type": "stream",
     "text": [
      "Simulation Progress: 100%|██████████| 500000/500000 [02:29<00:00, 3350.59it/s]\n"
     ]
    },
    {
     "name": "stdout",
     "output_type": "stream",
     "text": [
      "Partition 23 completed, convergence counter: 112749\n"
     ]
    },
    {
     "name": "stderr",
     "output_type": "stream",
     "text": [
      "Simulation Progress:  96%|█████████▌| 480712/500000 [02:21<00:06, 3205.20it/s]"
     ]
    }
   ],
   "source": [
    "config = Config()\n",
    "config.sigma_u = 0.1\n",
    "\n",
    "_save_path = '/Users/moyuanchen/Documents/thesis/sim_1/data_part_0.npy'\n",
    "log, agents = simulate(config = config, T = 500000, save_path=_save_path)\n",
    "convergence_threshold = 1000000\n",
    "convergence = 0\n",
    "partitions = 1\n",
    "while convergence < convergence_threshold:\n",
    "    save_path = f'/Users/moyuanchen/Documents/thesis/sim_1/data_part_{partitions}.npy'\n",
    "    log, agents = simulate(config = config, T=500000, continue_simulation=_save_path, save_path=save_path)\n",
    "    _save_path = save_path\n",
    "    \n",
    "    convergence = log['convergence_counter']\n",
    "    print(f\"Partition {partitions} completed, convergence counter: {convergence}\")\n",
    "    partitions += 1\n",
    "\n",
    "# save config\n",
    "np.save('/Users/moyuanchen/Documents/thesis/sim_1/config.npy', config)"
   ]
  },
  {
   "cell_type": "code",
   "execution_count": 5,
   "metadata": {},
   "outputs": [
    {
     "name": "stderr",
     "output_type": "stream",
     "text": [
      "Simulation Progress: 100%|██████████| 500000/500000 [04:23<00:00, 1900.82it/s]\n",
      "Simulation Progress: 100%|██████████| 500000/500000 [06:17<00:00, 1325.23it/s]\n"
     ]
    },
    {
     "name": "stdout",
     "output_type": "stream",
     "text": [
      "Partition 1 completed, convergence counter: 42\n"
     ]
    },
    {
     "name": "stderr",
     "output_type": "stream",
     "text": [
      "Simulation Progress: 100%|██████████| 500000/500000 [03:49<00:00, 2179.40it/s]\n"
     ]
    },
    {
     "name": "stdout",
     "output_type": "stream",
     "text": [
      "Partition 2 completed, convergence counter: 7\n"
     ]
    },
    {
     "name": "stderr",
     "output_type": "stream",
     "text": [
      "Simulation Progress: 100%|██████████| 500000/500000 [07:29<00:00, 1111.88it/s]\n"
     ]
    },
    {
     "name": "stdout",
     "output_type": "stream",
     "text": [
      "Partition 3 completed, convergence counter: 4\n"
     ]
    },
    {
     "name": "stderr",
     "output_type": "stream",
     "text": [
      "Simulation Progress: 100%|██████████| 500000/500000 [07:00<00:00, 1188.51it/s]\n"
     ]
    },
    {
     "name": "stdout",
     "output_type": "stream",
     "text": [
      "Partition 4 completed, convergence counter: 1\n"
     ]
    },
    {
     "name": "stderr",
     "output_type": "stream",
     "text": [
      "Simulation Progress: 100%|██████████| 500000/500000 [05:46<00:00, 1443.83it/s]\n"
     ]
    },
    {
     "name": "stdout",
     "output_type": "stream",
     "text": [
      "Partition 5 completed, convergence counter: 24\n"
     ]
    },
    {
     "name": "stderr",
     "output_type": "stream",
     "text": [
      "Simulation Progress: 100%|██████████| 500000/500000 [03:17<00:00, 2527.49it/s]\n"
     ]
    },
    {
     "name": "stdout",
     "output_type": "stream",
     "text": [
      "Partition 6 completed, convergence counter: 216\n"
     ]
    },
    {
     "name": "stderr",
     "output_type": "stream",
     "text": [
      "Simulation Progress: 100%|██████████| 500000/500000 [02:05<00:00, 3978.50it/s]\n"
     ]
    },
    {
     "name": "stdout",
     "output_type": "stream",
     "text": [
      "Partition 7 completed, convergence counter: 128\n"
     ]
    },
    {
     "name": "stderr",
     "output_type": "stream",
     "text": [
      "Simulation Progress: 100%|██████████| 500000/500000 [06:04<00:00, 1371.50it/s]\n"
     ]
    },
    {
     "name": "stdout",
     "output_type": "stream",
     "text": [
      "Partition 8 completed, convergence counter: 205\n"
     ]
    },
    {
     "name": "stderr",
     "output_type": "stream",
     "text": [
      "Simulation Progress: 100%|██████████| 500000/500000 [06:40<00:00, 1249.16it/s]\n"
     ]
    },
    {
     "name": "stdout",
     "output_type": "stream",
     "text": [
      "Partition 9 completed, convergence counter: 114\n"
     ]
    },
    {
     "name": "stderr",
     "output_type": "stream",
     "text": [
      "Simulation Progress: 100%|██████████| 500000/500000 [08:01<00:00, 1039.22it/s]\n"
     ]
    },
    {
     "name": "stdout",
     "output_type": "stream",
     "text": [
      "Partition 10 completed, convergence counter: 184\n"
     ]
    },
    {
     "name": "stderr",
     "output_type": "stream",
     "text": [
      "Simulation Progress: 100%|██████████| 500000/500000 [08:35<00:00, 969.68it/s] \n"
     ]
    },
    {
     "name": "stdout",
     "output_type": "stream",
     "text": [
      "Partition 11 completed, convergence counter: 1144\n"
     ]
    },
    {
     "name": "stderr",
     "output_type": "stream",
     "text": [
      "Simulation Progress: 100%|██████████| 500000/500000 [08:10<00:00, 1019.56it/s]\n"
     ]
    },
    {
     "name": "stdout",
     "output_type": "stream",
     "text": [
      "Partition 12 completed, convergence counter: 1699\n"
     ]
    },
    {
     "name": "stderr",
     "output_type": "stream",
     "text": [
      "Simulation Progress: 100%|██████████| 500000/500000 [07:55<00:00, 1050.83it/s]\n"
     ]
    },
    {
     "name": "stdout",
     "output_type": "stream",
     "text": [
      "Partition 13 completed, convergence counter: 308\n"
     ]
    },
    {
     "name": "stderr",
     "output_type": "stream",
     "text": [
      "Simulation Progress: 100%|██████████| 500000/500000 [10:09<00:00, 820.59it/s] \n"
     ]
    },
    {
     "name": "stdout",
     "output_type": "stream",
     "text": [
      "Partition 14 completed, convergence counter: 4541\n"
     ]
    },
    {
     "name": "stderr",
     "output_type": "stream",
     "text": [
      "Simulation Progress: 100%|██████████| 500000/500000 [10:51<00:00, 766.96it/s] \n"
     ]
    },
    {
     "name": "stdout",
     "output_type": "stream",
     "text": [
      "Partition 15 completed, convergence counter: 1487\n"
     ]
    },
    {
     "name": "stderr",
     "output_type": "stream",
     "text": [
      "Simulation Progress: 100%|██████████| 500000/500000 [10:39<00:00, 781.42it/s] \n"
     ]
    },
    {
     "name": "stdout",
     "output_type": "stream",
     "text": [
      "Partition 16 completed, convergence counter: 14512\n"
     ]
    },
    {
     "name": "stderr",
     "output_type": "stream",
     "text": [
      "Simulation Progress: 100%|██████████| 500000/500000 [09:53<00:00, 841.90it/s] \n"
     ]
    },
    {
     "name": "stdout",
     "output_type": "stream",
     "text": [
      "Partition 17 completed, convergence counter: 24\n"
     ]
    },
    {
     "name": "stderr",
     "output_type": "stream",
     "text": [
      "Simulation Progress: 100%|██████████| 500000/500000 [03:30<00:00, 2376.86it/s]\n"
     ]
    },
    {
     "name": "stdout",
     "output_type": "stream",
     "text": [
      "Partition 18 completed, convergence counter: 139\n"
     ]
    },
    {
     "name": "stderr",
     "output_type": "stream",
     "text": [
      "Simulation Progress: 100%|██████████| 500000/500000 [02:11<00:00, 3805.93it/s]\n"
     ]
    },
    {
     "name": "stdout",
     "output_type": "stream",
     "text": [
      "Partition 19 completed, convergence counter: 302\n"
     ]
    },
    {
     "name": "stderr",
     "output_type": "stream",
     "text": [
      "Simulation Progress: 100%|██████████| 500000/500000 [02:23<00:00, 3485.50it/s]\n"
     ]
    },
    {
     "name": "stdout",
     "output_type": "stream",
     "text": [
      "Partition 20 completed, convergence counter: 654\n"
     ]
    },
    {
     "name": "stderr",
     "output_type": "stream",
     "text": [
      "Simulation Progress: 100%|██████████| 500000/500000 [02:18<00:00, 3612.16it/s]\n"
     ]
    },
    {
     "name": "stdout",
     "output_type": "stream",
     "text": [
      "Partition 21 completed, convergence counter: 6988\n"
     ]
    },
    {
     "name": "stderr",
     "output_type": "stream",
     "text": [
      "Simulation Progress: 100%|██████████| 500000/500000 [02:31<00:00, 3310.38it/s]\n"
     ]
    },
    {
     "name": "stdout",
     "output_type": "stream",
     "text": [
      "Partition 22 completed, convergence counter: 4505\n"
     ]
    },
    {
     "name": "stderr",
     "output_type": "stream",
     "text": [
      "Simulation Progress: 100%|██████████| 500000/500000 [02:32<00:00, 3285.64it/s]\n"
     ]
    },
    {
     "name": "stdout",
     "output_type": "stream",
     "text": [
      "Partition 23 completed, convergence counter: 346\n"
     ]
    },
    {
     "name": "stderr",
     "output_type": "stream",
     "text": [
      "Simulation Progress: 100%|██████████| 500000/500000 [02:23<00:00, 3473.97it/s]\n"
     ]
    },
    {
     "name": "stdout",
     "output_type": "stream",
     "text": [
      "Partition 24 completed, convergence counter: 3227\n"
     ]
    },
    {
     "name": "stderr",
     "output_type": "stream",
     "text": [
      "Simulation Progress: 100%|██████████| 500000/500000 [02:19<00:00, 3574.53it/s]\n"
     ]
    },
    {
     "name": "stdout",
     "output_type": "stream",
     "text": [
      "Partition 25 completed, convergence counter: 4722\n"
     ]
    },
    {
     "name": "stderr",
     "output_type": "stream",
     "text": [
      "Simulation Progress: 100%|██████████| 500000/500000 [02:27<00:00, 3387.81it/s]\n"
     ]
    },
    {
     "name": "stdout",
     "output_type": "stream",
     "text": [
      "Partition 26 completed, convergence counter: 9554\n"
     ]
    },
    {
     "name": "stderr",
     "output_type": "stream",
     "text": [
      "Simulation Progress: 100%|██████████| 500000/500000 [02:42<00:00, 3082.83it/s]\n"
     ]
    },
    {
     "name": "stdout",
     "output_type": "stream",
     "text": [
      "Partition 27 completed, convergence counter: 23962\n"
     ]
    },
    {
     "name": "stderr",
     "output_type": "stream",
     "text": [
      "Simulation Progress: 100%|██████████| 500000/500000 [02:35<00:00, 3208.14it/s]\n"
     ]
    },
    {
     "name": "stdout",
     "output_type": "stream",
     "text": [
      "Partition 28 completed, convergence counter: 19289\n"
     ]
    },
    {
     "name": "stderr",
     "output_type": "stream",
     "text": [
      "Simulation Progress: 100%|██████████| 500000/500000 [02:28<00:00, 3374.10it/s]\n"
     ]
    },
    {
     "name": "stdout",
     "output_type": "stream",
     "text": [
      "Partition 29 completed, convergence counter: 250\n"
     ]
    },
    {
     "name": "stderr",
     "output_type": "stream",
     "text": [
      "Simulation Progress: 100%|██████████| 500000/500000 [02:44<00:00, 3035.91it/s]\n"
     ]
    },
    {
     "name": "stdout",
     "output_type": "stream",
     "text": [
      "Partition 30 completed, convergence counter: 843\n"
     ]
    },
    {
     "name": "stderr",
     "output_type": "stream",
     "text": [
      "Simulation Progress: 100%|██████████| 500000/500000 [02:35<00:00, 3225.72it/s]\n"
     ]
    },
    {
     "name": "stdout",
     "output_type": "stream",
     "text": [
      "Partition 31 completed, convergence counter: 9\n"
     ]
    },
    {
     "name": "stderr",
     "output_type": "stream",
     "text": [
      "Simulation Progress: 100%|██████████| 500000/500000 [02:32<00:00, 3271.24it/s]\n"
     ]
    },
    {
     "name": "stdout",
     "output_type": "stream",
     "text": [
      "Partition 32 completed, convergence counter: 13745\n"
     ]
    },
    {
     "name": "stderr",
     "output_type": "stream",
     "text": [
      "Simulation Progress: 100%|██████████| 500000/500000 [02:37<00:00, 3175.66it/s]\n"
     ]
    },
    {
     "name": "stdout",
     "output_type": "stream",
     "text": [
      "Partition 33 completed, convergence counter: 24545\n"
     ]
    },
    {
     "name": "stderr",
     "output_type": "stream",
     "text": [
      "Simulation Progress: 100%|██████████| 500000/500000 [02:58<00:00, 2806.41it/s]\n"
     ]
    },
    {
     "name": "stdout",
     "output_type": "stream",
     "text": [
      "Partition 34 completed, convergence counter: 2506\n"
     ]
    },
    {
     "name": "stderr",
     "output_type": "stream",
     "text": [
      "Simulation Progress: 100%|██████████| 500000/500000 [02:32<00:00, 3270.10it/s]\n"
     ]
    },
    {
     "name": "stdout",
     "output_type": "stream",
     "text": [
      "Partition 35 completed, convergence counter: 8557\n"
     ]
    },
    {
     "name": "stderr",
     "output_type": "stream",
     "text": [
      "Simulation Progress: 100%|██████████| 500000/500000 [02:31<00:00, 3297.59it/s]\n"
     ]
    },
    {
     "name": "stdout",
     "output_type": "stream",
     "text": [
      "Partition 36 completed, convergence counter: 4472\n"
     ]
    },
    {
     "name": "stderr",
     "output_type": "stream",
     "text": [
      "Simulation Progress: 100%|██████████| 500000/500000 [02:36<00:00, 3191.38it/s]\n"
     ]
    },
    {
     "name": "stdout",
     "output_type": "stream",
     "text": [
      "Partition 37 completed, convergence counter: 4387\n"
     ]
    },
    {
     "name": "stderr",
     "output_type": "stream",
     "text": [
      "Simulation Progress: 100%|██████████| 500000/500000 [02:32<00:00, 3277.67it/s]\n"
     ]
    },
    {
     "name": "stdout",
     "output_type": "stream",
     "text": [
      "Partition 38 completed, convergence counter: 20687\n"
     ]
    },
    {
     "name": "stderr",
     "output_type": "stream",
     "text": [
      "Simulation Progress: 100%|██████████| 500000/500000 [02:27<00:00, 3383.10it/s]\n"
     ]
    },
    {
     "name": "stdout",
     "output_type": "stream",
     "text": [
      "Partition 39 completed, convergence counter: 22093\n"
     ]
    },
    {
     "name": "stderr",
     "output_type": "stream",
     "text": [
      "Simulation Progress: 100%|██████████| 500000/500000 [02:45<00:00, 3022.60it/s]\n"
     ]
    },
    {
     "name": "stdout",
     "output_type": "stream",
     "text": [
      "Partition 40 completed, convergence counter: 2516\n"
     ]
    },
    {
     "name": "stderr",
     "output_type": "stream",
     "text": [
      "Simulation Progress: 100%|██████████| 500000/500000 [02:56<00:00, 2834.35it/s]\n"
     ]
    },
    {
     "name": "stdout",
     "output_type": "stream",
     "text": [
      "Partition 41 completed, convergence counter: 2790\n"
     ]
    },
    {
     "name": "stderr",
     "output_type": "stream",
     "text": [
      "Simulation Progress: 100%|██████████| 500000/500000 [02:45<00:00, 3025.05it/s]\n"
     ]
    },
    {
     "name": "stdout",
     "output_type": "stream",
     "text": [
      "Partition 42 completed, convergence counter: 30074\n"
     ]
    },
    {
     "name": "stderr",
     "output_type": "stream",
     "text": [
      "Simulation Progress: 100%|██████████| 500000/500000 [02:41<00:00, 3101.08it/s]\n"
     ]
    },
    {
     "name": "stdout",
     "output_type": "stream",
     "text": [
      "Partition 43 completed, convergence counter: 5583\n"
     ]
    },
    {
     "name": "stderr",
     "output_type": "stream",
     "text": [
      "Simulation Progress: 100%|██████████| 500000/500000 [02:41<00:00, 3088.99it/s]\n"
     ]
    },
    {
     "name": "stdout",
     "output_type": "stream",
     "text": [
      "Partition 44 completed, convergence counter: 22645\n"
     ]
    },
    {
     "name": "stderr",
     "output_type": "stream",
     "text": [
      "Simulation Progress: 100%|██████████| 500000/500000 [02:53<00:00, 2889.03it/s]\n"
     ]
    },
    {
     "name": "stdout",
     "output_type": "stream",
     "text": [
      "Partition 45 completed, convergence counter: 8914\n"
     ]
    },
    {
     "name": "stderr",
     "output_type": "stream",
     "text": [
      "Simulation Progress: 100%|██████████| 500000/500000 [02:59<00:00, 2778.23it/s]\n"
     ]
    },
    {
     "name": "stdout",
     "output_type": "stream",
     "text": [
      "Partition 46 completed, convergence counter: 101855\n"
     ]
    },
    {
     "name": "stderr",
     "output_type": "stream",
     "text": [
      "Simulation Progress: 100%|██████████| 500000/500000 [02:42<00:00, 3085.96it/s]\n"
     ]
    },
    {
     "name": "stdout",
     "output_type": "stream",
     "text": [
      "Partition 47 completed, convergence counter: 48308\n"
     ]
    },
    {
     "name": "stderr",
     "output_type": "stream",
     "text": [
      "Simulation Progress: 100%|██████████| 500000/500000 [02:37<00:00, 3182.26it/s]\n"
     ]
    },
    {
     "name": "stdout",
     "output_type": "stream",
     "text": [
      "Partition 48 completed, convergence counter: 65683\n"
     ]
    },
    {
     "name": "stderr",
     "output_type": "stream",
     "text": [
      "Simulation Progress: 100%|██████████| 500000/500000 [02:21<00:00, 3526.50it/s]\n"
     ]
    },
    {
     "name": "stdout",
     "output_type": "stream",
     "text": [
      "Partition 49 completed, convergence counter: 172192\n"
     ]
    },
    {
     "name": "stderr",
     "output_type": "stream",
     "text": [
      "Simulation Progress: 100%|██████████| 500000/500000 [02:53<00:00, 2879.76it/s]\n"
     ]
    },
    {
     "name": "stdout",
     "output_type": "stream",
     "text": [
      "Partition 50 completed, convergence counter: 7771\n"
     ]
    },
    {
     "name": "stderr",
     "output_type": "stream",
     "text": [
      "Simulation Progress: 100%|██████████| 500000/500000 [02:28<00:00, 3360.78it/s]\n"
     ]
    },
    {
     "name": "stdout",
     "output_type": "stream",
     "text": [
      "Partition 51 completed, convergence counter: 311597\n"
     ]
    },
    {
     "name": "stderr",
     "output_type": "stream",
     "text": [
      "Simulation Progress: 100%|██████████| 500000/500000 [02:42<00:00, 3085.18it/s]\n"
     ]
    },
    {
     "name": "stdout",
     "output_type": "stream",
     "text": [
      "Partition 52 completed, convergence counter: 633431\n"
     ]
    },
    {
     "name": "stderr",
     "output_type": "stream",
     "text": [
      "Simulation Progress: 100%|██████████| 500000/500000 [03:04<00:00, 2713.39it/s]\n"
     ]
    },
    {
     "name": "stdout",
     "output_type": "stream",
     "text": [
      "Partition 53 completed, convergence counter: 130138\n"
     ]
    },
    {
     "name": "stderr",
     "output_type": "stream",
     "text": [
      "Simulation Progress: 100%|██████████| 500000/500000 [02:28<00:00, 3361.81it/s]\n"
     ]
    },
    {
     "name": "stdout",
     "output_type": "stream",
     "text": [
      "Partition 54 completed, convergence counter: 40835\n"
     ]
    },
    {
     "name": "stderr",
     "output_type": "stream",
     "text": [
      "Simulation Progress: 100%|██████████| 500000/500000 [02:34<00:00, 3227.82it/s]\n"
     ]
    },
    {
     "name": "stdout",
     "output_type": "stream",
     "text": [
      "Partition 55 completed, convergence counter: 191214\n"
     ]
    },
    {
     "name": "stderr",
     "output_type": "stream",
     "text": [
      "Simulation Progress: 100%|██████████| 500000/500000 [02:36<00:00, 3203.25it/s]\n"
     ]
    },
    {
     "name": "stdout",
     "output_type": "stream",
     "text": [
      "Partition 56 completed, convergence counter: 73150\n"
     ]
    },
    {
     "name": "stderr",
     "output_type": "stream",
     "text": [
      "Simulation Progress: 100%|██████████| 500000/500000 [02:50<00:00, 2936.04it/s]\n"
     ]
    },
    {
     "name": "stdout",
     "output_type": "stream",
     "text": [
      "Partition 57 completed, convergence counter: 37515\n"
     ]
    },
    {
     "name": "stderr",
     "output_type": "stream",
     "text": [
      "Simulation Progress: 100%|██████████| 500000/500000 [02:51<00:00, 2909.91it/s]\n"
     ]
    },
    {
     "name": "stdout",
     "output_type": "stream",
     "text": [
      "Partition 58 completed, convergence counter: 51400\n"
     ]
    },
    {
     "name": "stderr",
     "output_type": "stream",
     "text": [
      "Simulation Progress: 100%|██████████| 500000/500000 [02:48<00:00, 2961.16it/s]\n"
     ]
    },
    {
     "name": "stdout",
     "output_type": "stream",
     "text": [
      "Partition 59 completed, convergence counter: 278252\n"
     ]
    },
    {
     "name": "stderr",
     "output_type": "stream",
     "text": [
      "Simulation Progress: 100%|██████████| 500000/500000 [03:00<00:00, 2771.35it/s]\n"
     ]
    },
    {
     "name": "stdout",
     "output_type": "stream",
     "text": [
      "Partition 60 completed, convergence counter: 227554\n"
     ]
    },
    {
     "name": "stderr",
     "output_type": "stream",
     "text": [
      "Simulation Progress: 100%|██████████| 500000/500000 [03:02<00:00, 2735.98it/s]\n"
     ]
    },
    {
     "name": "stdout",
     "output_type": "stream",
     "text": [
      "Partition 61 completed, convergence counter: 35701\n"
     ]
    },
    {
     "name": "stderr",
     "output_type": "stream",
     "text": [
      "Simulation Progress: 100%|██████████| 500000/500000 [02:53<00:00, 2878.38it/s]\n"
     ]
    },
    {
     "name": "stdout",
     "output_type": "stream",
     "text": [
      "Partition 62 completed, convergence counter: 47414\n"
     ]
    },
    {
     "name": "stderr",
     "output_type": "stream",
     "text": [
      "Simulation Progress: 100%|██████████| 500000/500000 [02:21<00:00, 3523.43it/s]\n"
     ]
    },
    {
     "name": "stdout",
     "output_type": "stream",
     "text": [
      "Partition 63 completed, convergence counter: 398496\n"
     ]
    },
    {
     "name": "stderr",
     "output_type": "stream",
     "text": [
      "Simulation Progress: 100%|██████████| 500000/500000 [02:17<00:00, 3641.37it/s]\n"
     ]
    },
    {
     "name": "stdout",
     "output_type": "stream",
     "text": [
      "Partition 64 completed, convergence counter: 255709\n"
     ]
    },
    {
     "name": "stderr",
     "output_type": "stream",
     "text": [
      "Simulation Progress: 100%|██████████| 500000/500000 [02:28<00:00, 3370.83it/s]\n"
     ]
    },
    {
     "name": "stdout",
     "output_type": "stream",
     "text": [
      "Partition 65 completed, convergence counter: 611709\n"
     ]
    },
    {
     "name": "stderr",
     "output_type": "stream",
     "text": [
      "Simulation Progress: 100%|██████████| 500000/500000 [02:46<00:00, 3006.15it/s]\n"
     ]
    },
    {
     "name": "stdout",
     "output_type": "stream",
     "text": [
      "Partition 66 completed, convergence counter: 969549\n"
     ]
    },
    {
     "name": "stderr",
     "output_type": "stream",
     "text": [
      "Simulation Progress: 100%|██████████| 500000/500000 [03:10<00:00, 2625.15it/s]\n"
     ]
    },
    {
     "name": "stdout",
     "output_type": "stream",
     "text": [
      "Partition 67 completed, convergence counter: 221951\n"
     ]
    },
    {
     "name": "stderr",
     "output_type": "stream",
     "text": [
      "Simulation Progress: 100%|██████████| 500000/500000 [02:50<00:00, 2939.13it/s]\n"
     ]
    },
    {
     "name": "stdout",
     "output_type": "stream",
     "text": [
      "Partition 68 completed, convergence counter: 53674\n"
     ]
    },
    {
     "name": "stderr",
     "output_type": "stream",
     "text": [
      "Simulation Progress: 100%|██████████| 500000/500000 [02:48<00:00, 2962.54it/s]\n"
     ]
    },
    {
     "name": "stdout",
     "output_type": "stream",
     "text": [
      "Partition 69 completed, convergence counter: 19785\n"
     ]
    },
    {
     "name": "stderr",
     "output_type": "stream",
     "text": [
      "Simulation Progress: 100%|██████████| 500000/500000 [02:44<00:00, 3030.36it/s]\n"
     ]
    },
    {
     "name": "stdout",
     "output_type": "stream",
     "text": [
      "Partition 70 completed, convergence counter: 64517\n"
     ]
    },
    {
     "name": "stderr",
     "output_type": "stream",
     "text": [
      "Simulation Progress: 100%|██████████| 500000/500000 [02:31<00:00, 3306.41it/s]\n"
     ]
    },
    {
     "name": "stdout",
     "output_type": "stream",
     "text": [
      "Partition 71 completed, convergence counter: 434082\n"
     ]
    },
    {
     "name": "stderr",
     "output_type": "stream",
     "text": [
      "Simulation Progress: 100%|██████████| 500000/500000 [02:40<00:00, 3109.09it/s]\n"
     ]
    },
    {
     "name": "stdout",
     "output_type": "stream",
     "text": [
      "Partition 72 completed, convergence counter: 805672\n"
     ]
    },
    {
     "name": "stderr",
     "output_type": "stream",
     "text": [
      "Simulation Progress: 100%|██████████| 500000/500000 [02:50<00:00, 2929.38it/s]\n"
     ]
    },
    {
     "name": "stdout",
     "output_type": "stream",
     "text": [
      "Partition 73 completed, convergence counter: 208629\n"
     ]
    },
    {
     "name": "stderr",
     "output_type": "stream",
     "text": [
      "Simulation Progress: 100%|██████████| 500000/500000 [03:08<00:00, 2651.51it/s]\n"
     ]
    },
    {
     "name": "stdout",
     "output_type": "stream",
     "text": [
      "Partition 74 completed, convergence counter: 584958\n"
     ]
    },
    {
     "name": "stderr",
     "output_type": "stream",
     "text": [
      "Simulation Progress: 100%|██████████| 500000/500000 [02:49<00:00, 2958.50it/s]\n"
     ]
    },
    {
     "name": "stdout",
     "output_type": "stream",
     "text": [
      "Partition 75 completed, convergence counter: 963041\n"
     ]
    },
    {
     "name": "stderr",
     "output_type": "stream",
     "text": [
      "Simulation Progress: 100%|██████████| 500000/500000 [02:58<00:00, 2793.57it/s]"
     ]
    },
    {
     "name": "stdout",
     "output_type": "stream",
     "text": [
      "Partition 76 completed, convergence counter: 1342911\n"
     ]
    },
    {
     "name": "stderr",
     "output_type": "stream",
     "text": [
      "\n"
     ]
    }
   ],
   "source": [
    "config = Config()\n",
    "config.sigma_u = 100\n",
    "\n",
    "_save_path = '/Users/moyuanchen/Documents/thesis/sim_2/data_part_0.npy'\n",
    "log, agents = simulate(config = config, T = 500000, save_path=_save_path)\n",
    "convergence_threshold = 1000000\n",
    "convergence = 0\n",
    "partitions = 1\n",
    "while convergence < convergence_threshold:\n",
    "    save_path = f'/Users/moyuanchen/Documents/thesis/sim_2/data_part_{partitions}.npy'\n",
    "    log, agents = simulate(config = config, T=500000, continue_simulation=_save_path, save_path=save_path)\n",
    "    _save_path = save_path\n",
    "    \n",
    "    convergence = log['convergence_counter']\n",
    "    print(f\"Partition {partitions} completed, convergence counter: {convergence}\")\n",
    "    partitions += 1\n",
    "\n",
    "# save config\n",
    "np.save('/Users/moyuanchen/Documents/thesis/sim_1/config.npy', config)"
   ]
  },
  {
   "cell_type": "code",
   "execution_count": null,
   "metadata": {},
   "outputs": [],
   "source": []
  }
 ],
 "metadata": {
  "kernelspec": {
   "display_name": "ai",
   "language": "python",
   "name": "python3"
  },
  "language_info": {
   "codemirror_mode": {
    "name": "ipython",
    "version": 3
   },
   "file_extension": ".py",
   "mimetype": "text/x-python",
   "name": "python",
   "nbconvert_exporter": "python",
   "pygments_lexer": "ipython3",
   "version": "3.12.2"
  }
 },
 "nbformat": 4,
 "nbformat_minor": 2
}
