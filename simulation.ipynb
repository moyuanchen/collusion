{
 "cells": [
  {
   "cell_type": "code",
   "execution_count": 1,
   "metadata": {},
   "outputs": [],
   "source": [
    "import numpy as np\n",
    "import torch\n",
    "from itertools import product\n",
    "from collections import defaultdict\n",
    "from agents import *\n",
    "from config import Config"
   ]
  },
  {
   "cell_type": "code",
   "execution_count": 2,
   "metadata": {},
   "outputs": [],
   "source": [
    "from tqdm import tqdm\n",
    "\n",
    "def get_next_v(v_bar = 1, sigma_v = 1):\n",
    "    return v_bar + np.random.normal(scale = sigma_v)\n",
    "\n",
    "def simulate(\n",
    "        T = 1000000, config = None,     # simulation time and config file\n",
    "        continue_simulation = False,    # continue simulation if True\n",
    "        save_path = None                # path to save the simulation\n",
    "        ):\n",
    "    assert config is not None, \"Config file required\"\n",
    "    I = config.I\n",
    "    Np = config.Np\n",
    "    Nv = config.Nv\n",
    "    Nx = config.Nx\n",
    "    sigma_u = config.sigma_u\n",
    "    if type(continue_simulation) == str:\n",
    "        log = np.load(continue_simulation, allow_pickle=True).item()\n",
    "        \n",
    "        v_hist = np.zeros(T)\n",
    "        p_hist = np.zeros(T)\n",
    "        z_hist = np.zeros(T)\n",
    "        x_hist = np.zeros((I, T))\n",
    "        # y_hist = np.zeros((I, T))\n",
    "        u_hist = np.zeros(T)\n",
    "        profit_hist = np.zeros((I, T))\n",
    "        t0 = 0\n",
    "\n",
    "        informed_agents = log[\"agents\"][\"informed\"]\n",
    "        noise_agent = log[\"agents\"][\"noise\"]\n",
    "        preferred_habitat_agent = log[\"agents\"][\"preferred_habitat\"]\n",
    "        market_maker = log[\"agents\"][\"market_maker\"]\n",
    "\n",
    "        _state = log[\"last_state\"]\n",
    "\n",
    "        convergence_counter = log['convergence_counter']\n",
    "    # elif type(continue_simulation) == dict:\n",
    "    #     log = continue_simulation\n",
    "    #     v_hist = log[\"v\"]\n",
    "    #     p_hist = log[\"p\"]\n",
    "    #     z_hist = log[\"z\"]\n",
    "    #     x_hist = log[\"x\"]\n",
    "    #     y_hist = log[\"y\"]\n",
    "    #     profit_hist = log[\"profit\"]\n",
    "    #     t0 = len(v_hist)\n",
    "    #     informed_agents = log[\"agents\"][\"informed\"]\n",
    "    #     noise_agent = log[\"agents\"][\"noise\"]\n",
    "    #     preferred_habitat_agent = log[\"agents\"][\"preferred_habitat\"]\n",
    "    #     market_maker = log[\"agents\"][\"market_maker\"]\n",
    "    #     _state = log[\"last_state\"]\n",
    "\n",
    "    #     profit_hist = np.concatenate((profit_hist, np.zeros((I, T))), axis=1)\n",
    "    #     v_hist = np.concatenate((v_hist, np.zeros(T)))\n",
    "    #     p_hist = np.concatenate((p_hist, np.zeros(T)))\n",
    "    #     z_hist = np.concatenate((z_hist, np.zeros(T)))\n",
    "    #     x_hist = np.concatenate((x_hist, np.zeros((I, T))), axis=1)\n",
    "    #     y_hist = np.concatenate((y_hist, np.zeros((I, T))), axis=1)\n",
    "\n",
    "    #     convergence_counter = log['convergence_counter']\n",
    "        \n",
    "    elif continue_simulation == False:\n",
    "\n",
    "        market_maker = AdaptiveMarketMaker(config)\n",
    "        noise_agent = NoiseAgent(config)\n",
    "        preferred_habitat_agent = PreferredHabitatAgent(config)\n",
    "        informed_agents = [InformedAgent(config) for _ in range(I)]\n",
    "        _state = (np.random.choice(Np), np.random.choice(Nv))\n",
    "\n",
    "        # log histories\n",
    "        v_hist = np.zeros(T)\n",
    "        p_hist = np.zeros(T)\n",
    "        z_hist = np.zeros(T)\n",
    "        x_hist = np.zeros((I, T))\n",
    "        # y_hist = np.zeros((I, T))\n",
    "        u_hist = np.zeros(T)\n",
    "        profit_hist = np.zeros((I, T))\n",
    "        t0 = 0\n",
    "        convergence_counter = 0\n",
    "    else:\n",
    "        raise ValueError(\"Invalid value for continue_simulation\")\n",
    "    for agent in informed_agents:\n",
    "        agent.convergence_counter = convergence_counter\n",
    "    if save_path is None:\n",
    "        save_path = '/Users/moyuanchen/Documents/thesis/data.npy'\n",
    "\n",
    "    for t in tqdm(range(T), desc=\"Simulation Progress\"):\n",
    "        yt = []\n",
    "        _p, _v = informed_agents[0].p_discrete[_state[0]], informed_agents[0].v_discrete[_state[1]]\n",
    "        v_hist[t+t0] = _v\n",
    "        p_hist[t+t0] = _p\n",
    "        _x = []\n",
    "        for idx, agent in enumerate(informed_agents):\n",
    "            x = agent.get_action(_state)\n",
    "            xd = agent.x_discrete[x]\n",
    "            yt.append(xd)\n",
    "            _x.append(x)\n",
    "\n",
    "            x_hist[idx, t + t0] = xd\n",
    "            # y_hist[idx, t + t0] = yt[-1]\n",
    "        ut = noise_agent.get_action()\n",
    "        u_hist[t+t0] = ut\n",
    "        yt_sum = np.sum(yt) + ut\n",
    "        # print(yt_sum)\n",
    "        zt = preferred_habitat_agent.get_action(_p)\n",
    "\n",
    "        z_hist[t+t0] = zt\n",
    "\n",
    "        \n",
    "        pt = market_maker.determine_price(yt_sum)\n",
    "        market_maker.update(_v, _p, zt, yt_sum)\n",
    "        vt = get_next_v()\n",
    "        next_state = informed_agents[0].continuous_to_discrete(pt, vt)\n",
    "        for idx, agent in enumerate(informed_agents):\n",
    "            reward = (_v - pt) * yt[idx]\n",
    "            agent.update(_state, _x[idx], reward, next_state)\n",
    "            profit_hist[idx, t + t0] = reward\n",
    "\n",
    "        _state = next_state\n",
    "    convergence = min([agent.convergence_counter for agent in informed_agents])\n",
    "    log = {\n",
    "        \"v\": v_hist,\n",
    "        \"p\": p_hist,\n",
    "        \"z\": z_hist,\n",
    "        \"x\": x_hist,\n",
    "        \"u\": u_hist,\n",
    "        \"profit\": profit_hist,\n",
    "        \"last_state\": _state,\n",
    "        \"convergence_counter\": convergence\n",
    "    }\n",
    "    agents = {\n",
    "        \"informed\": informed_agents,\n",
    "        \"noise\": noise_agent,\n",
    "        \"preferred_habitat\": preferred_habitat_agent,\n",
    "        \"market_maker\": market_maker\n",
    "    }\n",
    "    log[\"agents\"] = agents\n",
    "    np.save(save_path, log)\n",
    "    # print(max_c)\n",
    "    return log, agents"
   ]
  },
  {
   "cell_type": "markdown",
   "metadata": {},
   "source": [
    "#### Simulate $\\sigma_u = 0.1$"
   ]
  },
  {
   "cell_type": "code",
   "execution_count": 4,
   "metadata": {},
   "outputs": [
    {
     "name": "stderr",
     "output_type": "stream",
     "text": [
      "Simulation Progress: 100%|██████████| 500000/500000 [01:47<00:00, 4667.53it/s]\n",
      "Simulation Progress: 100%|██████████| 500000/500000 [01:59<00:00, 4189.86it/s]\n"
     ]
    },
    {
     "name": "stdout",
     "output_type": "stream",
     "text": [
      "Partition 1 completed, convergence counter: 1\n"
     ]
    },
    {
     "name": "stderr",
     "output_type": "stream",
     "text": [
      "Simulation Progress: 100%|██████████| 500000/500000 [02:07<00:00, 3926.28it/s]\n"
     ]
    },
    {
     "name": "stdout",
     "output_type": "stream",
     "text": [
      "Partition 2 completed, convergence counter: 33\n"
     ]
    },
    {
     "name": "stderr",
     "output_type": "stream",
     "text": [
      "Simulation Progress: 100%|██████████| 500000/500000 [02:12<00:00, 3780.02it/s]\n"
     ]
    },
    {
     "name": "stdout",
     "output_type": "stream",
     "text": [
      "Partition 3 completed, convergence counter: 6\n"
     ]
    },
    {
     "name": "stderr",
     "output_type": "stream",
     "text": [
      "Simulation Progress: 100%|██████████| 500000/500000 [02:15<00:00, 3698.98it/s]\n"
     ]
    },
    {
     "name": "stdout",
     "output_type": "stream",
     "text": [
      "Partition 4 completed, convergence counter: 1\n"
     ]
    },
    {
     "name": "stderr",
     "output_type": "stream",
     "text": [
      "Simulation Progress: 100%|██████████| 500000/500000 [02:07<00:00, 3932.69it/s]\n"
     ]
    },
    {
     "name": "stdout",
     "output_type": "stream",
     "text": [
      "Partition 5 completed, convergence counter: 407\n"
     ]
    },
    {
     "name": "stderr",
     "output_type": "stream",
     "text": [
      "Simulation Progress: 100%|██████████| 500000/500000 [02:19<00:00, 3588.14it/s]\n"
     ]
    },
    {
     "name": "stdout",
     "output_type": "stream",
     "text": [
      "Partition 6 completed, convergence counter: 1456\n"
     ]
    },
    {
     "name": "stderr",
     "output_type": "stream",
     "text": [
      "Simulation Progress: 100%|██████████| 500000/500000 [02:09<00:00, 3870.44it/s]\n"
     ]
    },
    {
     "name": "stdout",
     "output_type": "stream",
     "text": [
      "Partition 7 completed, convergence counter: 9585\n"
     ]
    },
    {
     "name": "stderr",
     "output_type": "stream",
     "text": [
      "Simulation Progress: 100%|██████████| 500000/500000 [02:36<00:00, 3195.29it/s]\n"
     ]
    },
    {
     "name": "stdout",
     "output_type": "stream",
     "text": [
      "Partition 8 completed, convergence counter: 3201\n"
     ]
    },
    {
     "name": "stderr",
     "output_type": "stream",
     "text": [
      "Simulation Progress: 100%|██████████| 500000/500000 [02:18<00:00, 3612.77it/s]\n"
     ]
    },
    {
     "name": "stdout",
     "output_type": "stream",
     "text": [
      "Partition 9 completed, convergence counter: 853\n"
     ]
    },
    {
     "name": "stderr",
     "output_type": "stream",
     "text": [
      "Simulation Progress: 100%|██████████| 500000/500000 [02:23<00:00, 3475.07it/s]\n"
     ]
    },
    {
     "name": "stdout",
     "output_type": "stream",
     "text": [
      "Partition 10 completed, convergence counter: 2639\n"
     ]
    },
    {
     "name": "stderr",
     "output_type": "stream",
     "text": [
      "Simulation Progress: 100%|██████████| 500000/500000 [02:35<00:00, 3218.03it/s]\n"
     ]
    },
    {
     "name": "stdout",
     "output_type": "stream",
     "text": [
      "Partition 11 completed, convergence counter: 30820\n"
     ]
    },
    {
     "name": "stderr",
     "output_type": "stream",
     "text": [
      "Simulation Progress: 100%|██████████| 500000/500000 [02:32<00:00, 3283.53it/s]\n"
     ]
    },
    {
     "name": "stdout",
     "output_type": "stream",
     "text": [
      "Partition 12 completed, convergence counter: 36687\n"
     ]
    },
    {
     "name": "stderr",
     "output_type": "stream",
     "text": [
      "Simulation Progress: 100%|██████████| 500000/500000 [02:46<00:00, 3009.05it/s]\n"
     ]
    },
    {
     "name": "stdout",
     "output_type": "stream",
     "text": [
      "Partition 13 completed, convergence counter: 48043\n"
     ]
    },
    {
     "name": "stderr",
     "output_type": "stream",
     "text": [
      "Simulation Progress: 100%|██████████| 500000/500000 [02:20<00:00, 3559.16it/s]\n"
     ]
    },
    {
     "name": "stdout",
     "output_type": "stream",
     "text": [
      "Partition 14 completed, convergence counter: 110992\n"
     ]
    },
    {
     "name": "stderr",
     "output_type": "stream",
     "text": [
      "Simulation Progress: 100%|██████████| 500000/500000 [02:20<00:00, 3570.24it/s]\n"
     ]
    },
    {
     "name": "stdout",
     "output_type": "stream",
     "text": [
      "Partition 15 completed, convergence counter: 59716\n"
     ]
    },
    {
     "name": "stderr",
     "output_type": "stream",
     "text": [
      "Simulation Progress: 100%|██████████| 500000/500000 [02:34<00:00, 3231.74it/s]\n"
     ]
    },
    {
     "name": "stdout",
     "output_type": "stream",
     "text": [
      "Partition 16 completed, convergence counter: 112149\n"
     ]
    },
    {
     "name": "stderr",
     "output_type": "stream",
     "text": [
      "Simulation Progress: 100%|██████████| 500000/500000 [02:30<00:00, 3330.24it/s]\n"
     ]
    },
    {
     "name": "stdout",
     "output_type": "stream",
     "text": [
      "Partition 17 completed, convergence counter: 34534\n"
     ]
    },
    {
     "name": "stderr",
     "output_type": "stream",
     "text": [
      "Simulation Progress: 100%|██████████| 500000/500000 [02:17<00:00, 3624.64it/s]\n"
     ]
    },
    {
     "name": "stdout",
     "output_type": "stream",
     "text": [
      "Partition 18 completed, convergence counter: 187893\n"
     ]
    },
    {
     "name": "stderr",
     "output_type": "stream",
     "text": [
      "Simulation Progress: 100%|██████████| 500000/500000 [02:24<00:00, 3451.66it/s]\n"
     ]
    },
    {
     "name": "stdout",
     "output_type": "stream",
     "text": [
      "Partition 19 completed, convergence counter: 9994\n"
     ]
    },
    {
     "name": "stderr",
     "output_type": "stream",
     "text": [
      "Simulation Progress: 100%|██████████| 500000/500000 [02:18<00:00, 3611.69it/s]\n"
     ]
    },
    {
     "name": "stdout",
     "output_type": "stream",
     "text": [
      "Partition 20 completed, convergence counter: 19004\n"
     ]
    },
    {
     "name": "stderr",
     "output_type": "stream",
     "text": [
      "Simulation Progress: 100%|██████████| 500000/500000 [02:42<00:00, 3073.50it/s]\n"
     ]
    },
    {
     "name": "stdout",
     "output_type": "stream",
     "text": [
      "Partition 21 completed, convergence counter: 33825\n"
     ]
    },
    {
     "name": "stderr",
     "output_type": "stream",
     "text": [
      "Simulation Progress: 100%|██████████| 500000/500000 [02:46<00:00, 3001.05it/s]\n"
     ]
    },
    {
     "name": "stdout",
     "output_type": "stream",
     "text": [
      "Partition 22 completed, convergence counter: 11375\n"
     ]
    },
    {
     "name": "stderr",
     "output_type": "stream",
     "text": [
      "Simulation Progress: 100%|██████████| 500000/500000 [02:33<00:00, 3252.68it/s]\n"
     ]
    },
    {
     "name": "stdout",
     "output_type": "stream",
     "text": [
      "Partition 23 completed, convergence counter: 7195\n"
     ]
    },
    {
     "name": "stderr",
     "output_type": "stream",
     "text": [
      "Simulation Progress: 100%|██████████| 500000/500000 [02:22<00:00, 3506.01it/s]\n"
     ]
    },
    {
     "name": "stdout",
     "output_type": "stream",
     "text": [
      "Partition 24 completed, convergence counter: 184317\n"
     ]
    },
    {
     "name": "stderr",
     "output_type": "stream",
     "text": [
      "Simulation Progress: 100%|██████████| 500000/500000 [02:44<00:00, 3046.09it/s]\n"
     ]
    },
    {
     "name": "stdout",
     "output_type": "stream",
     "text": [
      "Partition 25 completed, convergence counter: 383202\n"
     ]
    },
    {
     "name": "stderr",
     "output_type": "stream",
     "text": [
      "Simulation Progress: 100%|██████████| 500000/500000 [02:31<00:00, 3310.77it/s]\n"
     ]
    },
    {
     "name": "stdout",
     "output_type": "stream",
     "text": [
      "Partition 26 completed, convergence counter: 116887\n"
     ]
    },
    {
     "name": "stderr",
     "output_type": "stream",
     "text": [
      "Simulation Progress: 100%|██████████| 500000/500000 [02:29<00:00, 3346.56it/s]\n"
     ]
    },
    {
     "name": "stdout",
     "output_type": "stream",
     "text": [
      "Partition 27 completed, convergence counter: 105243\n"
     ]
    },
    {
     "name": "stderr",
     "output_type": "stream",
     "text": [
      "Simulation Progress: 100%|██████████| 500000/500000 [02:30<00:00, 3325.18it/s]\n"
     ]
    },
    {
     "name": "stdout",
     "output_type": "stream",
     "text": [
      "Partition 28 completed, convergence counter: 325874\n"
     ]
    },
    {
     "name": "stderr",
     "output_type": "stream",
     "text": [
      "Simulation Progress: 100%|██████████| 500000/500000 [02:47<00:00, 2984.58it/s]\n"
     ]
    },
    {
     "name": "stdout",
     "output_type": "stream",
     "text": [
      "Partition 29 completed, convergence counter: 181562\n"
     ]
    },
    {
     "name": "stderr",
     "output_type": "stream",
     "text": [
      "Simulation Progress: 100%|██████████| 500000/500000 [02:44<00:00, 3035.72it/s]\n"
     ]
    },
    {
     "name": "stdout",
     "output_type": "stream",
     "text": [
      "Partition 30 completed, convergence counter: 415760\n"
     ]
    },
    {
     "name": "stderr",
     "output_type": "stream",
     "text": [
      "Simulation Progress: 100%|██████████| 500000/500000 [02:30<00:00, 3329.80it/s]\n"
     ]
    },
    {
     "name": "stdout",
     "output_type": "stream",
     "text": [
      "Partition 31 completed, convergence counter: 657908\n"
     ]
    },
    {
     "name": "stderr",
     "output_type": "stream",
     "text": [
      "Simulation Progress: 100%|██████████| 500000/500000 [02:36<00:00, 3203.71it/s]\n"
     ]
    },
    {
     "name": "stdout",
     "output_type": "stream",
     "text": [
      "Partition 32 completed, convergence counter: 909379\n"
     ]
    },
    {
     "name": "stderr",
     "output_type": "stream",
     "text": [
      "Simulation Progress: 100%|██████████| 500000/500000 [02:25<00:00, 3444.92it/s]\n"
     ]
    },
    {
     "name": "stdout",
     "output_type": "stream",
     "text": [
      "Partition 33 completed, convergence counter: 1169752\n"
     ]
    }
   ],
   "source": [
    "config = Config()\n",
    "config.sigma_u = 0.1\n",
    "\n",
    "_save_path = '/Users/moyuanchen/Documents/thesis/sim_3/data_part_0.npy'\n",
    "log, agents = simulate(config = config, T = 500000, save_path=_save_path)\n",
    "convergence_threshold = 1000000\n",
    "convergence = 0\n",
    "partitions = 1\n",
    "while convergence < convergence_threshold:\n",
    "    save_path = f'/Users/moyuanchen/Documents/thesis/sim_3/data_part_{partitions}.npy'\n",
    "    log, agents = simulate(config = config, T=500000, continue_simulation=_save_path, save_path=save_path)\n",
    "    _save_path = save_path\n",
    "    \n",
    "    convergence = log['convergence_counter']\n",
    "    print(f\"Partition {partitions} completed, convergence counter: {convergence}\")\n",
    "    partitions += 1\n",
    "\n",
    "# save config\n",
    "np.save('/Users/moyuanchen/Documents/thesis/sim_3/config.npy', config)"
   ]
  },
  {
   "cell_type": "code",
   "execution_count": 5,
   "metadata": {},
   "outputs": [
    {
     "name": "stderr",
     "output_type": "stream",
     "text": [
      "Simulation Progress: 100%|██████████| 500000/500000 [02:24<00:00, 3450.92it/s]\n",
      "Simulation Progress: 100%|██████████| 500000/500000 [02:22<00:00, 3500.73it/s]\n"
     ]
    },
    {
     "name": "stdout",
     "output_type": "stream",
     "text": [
      "Partition 1 completed, convergence counter: 17\n"
     ]
    },
    {
     "name": "stderr",
     "output_type": "stream",
     "text": [
      "Simulation Progress: 100%|██████████| 500000/500000 [02:34<00:00, 3241.04it/s]\n"
     ]
    },
    {
     "name": "stdout",
     "output_type": "stream",
     "text": [
      "Partition 2 completed, convergence counter: 7\n"
     ]
    },
    {
     "name": "stderr",
     "output_type": "stream",
     "text": [
      "Simulation Progress: 100%|██████████| 500000/500000 [02:36<00:00, 3195.91it/s]\n"
     ]
    },
    {
     "name": "stdout",
     "output_type": "stream",
     "text": [
      "Partition 3 completed, convergence counter: 84\n"
     ]
    },
    {
     "name": "stderr",
     "output_type": "stream",
     "text": [
      "Simulation Progress: 100%|██████████| 500000/500000 [02:27<00:00, 3382.08it/s]\n"
     ]
    },
    {
     "name": "stdout",
     "output_type": "stream",
     "text": [
      "Partition 4 completed, convergence counter: 42\n"
     ]
    },
    {
     "name": "stderr",
     "output_type": "stream",
     "text": [
      "Simulation Progress: 100%|██████████| 500000/500000 [02:28<00:00, 3363.80it/s]\n"
     ]
    },
    {
     "name": "stdout",
     "output_type": "stream",
     "text": [
      "Partition 5 completed, convergence counter: 62\n"
     ]
    },
    {
     "name": "stderr",
     "output_type": "stream",
     "text": [
      "Simulation Progress: 100%|██████████| 500000/500000 [02:35<00:00, 3205.68it/s]\n"
     ]
    },
    {
     "name": "stdout",
     "output_type": "stream",
     "text": [
      "Partition 6 completed, convergence counter: 154\n"
     ]
    },
    {
     "name": "stderr",
     "output_type": "stream",
     "text": [
      "Simulation Progress: 100%|██████████| 500000/500000 [02:27<00:00, 3394.66it/s]\n"
     ]
    },
    {
     "name": "stdout",
     "output_type": "stream",
     "text": [
      "Partition 7 completed, convergence counter: 75\n"
     ]
    },
    {
     "name": "stderr",
     "output_type": "stream",
     "text": [
      "Simulation Progress: 100%|██████████| 500000/500000 [02:35<00:00, 3214.13it/s]\n"
     ]
    },
    {
     "name": "stdout",
     "output_type": "stream",
     "text": [
      "Partition 8 completed, convergence counter: 267\n"
     ]
    },
    {
     "name": "stderr",
     "output_type": "stream",
     "text": [
      "Simulation Progress: 100%|██████████| 500000/500000 [02:40<00:00, 3112.53it/s]\n"
     ]
    },
    {
     "name": "stdout",
     "output_type": "stream",
     "text": [
      "Partition 9 completed, convergence counter: 567\n"
     ]
    },
    {
     "name": "stderr",
     "output_type": "stream",
     "text": [
      "Simulation Progress: 100%|██████████| 500000/500000 [02:32<00:00, 3289.21it/s]\n"
     ]
    },
    {
     "name": "stdout",
     "output_type": "stream",
     "text": [
      "Partition 10 completed, convergence counter: 526\n"
     ]
    },
    {
     "name": "stderr",
     "output_type": "stream",
     "text": [
      "Simulation Progress: 100%|██████████| 500000/500000 [02:46<00:00, 3010.37it/s]\n"
     ]
    },
    {
     "name": "stdout",
     "output_type": "stream",
     "text": [
      "Partition 11 completed, convergence counter: 97\n"
     ]
    },
    {
     "name": "stderr",
     "output_type": "stream",
     "text": [
      "Simulation Progress: 100%|██████████| 500000/500000 [03:06<00:00, 2678.50it/s]\n"
     ]
    },
    {
     "name": "stdout",
     "output_type": "stream",
     "text": [
      "Partition 12 completed, convergence counter: 376\n"
     ]
    },
    {
     "name": "stderr",
     "output_type": "stream",
     "text": [
      "Simulation Progress: 100%|██████████| 500000/500000 [02:29<00:00, 3347.99it/s]\n"
     ]
    },
    {
     "name": "stdout",
     "output_type": "stream",
     "text": [
      "Partition 13 completed, convergence counter: 216\n"
     ]
    },
    {
     "name": "stderr",
     "output_type": "stream",
     "text": [
      "Simulation Progress: 100%|██████████| 500000/500000 [02:44<00:00, 3035.46it/s]\n"
     ]
    },
    {
     "name": "stdout",
     "output_type": "stream",
     "text": [
      "Partition 14 completed, convergence counter: 711\n"
     ]
    },
    {
     "name": "stderr",
     "output_type": "stream",
     "text": [
      "Simulation Progress: 100%|██████████| 500000/500000 [02:39<00:00, 3129.70it/s]\n"
     ]
    },
    {
     "name": "stdout",
     "output_type": "stream",
     "text": [
      "Partition 15 completed, convergence counter: 6365\n"
     ]
    },
    {
     "name": "stderr",
     "output_type": "stream",
     "text": [
      "Simulation Progress: 100%|██████████| 500000/500000 [02:44<00:00, 3043.44it/s]\n"
     ]
    },
    {
     "name": "stdout",
     "output_type": "stream",
     "text": [
      "Partition 16 completed, convergence counter: 1837\n"
     ]
    },
    {
     "name": "stderr",
     "output_type": "stream",
     "text": [
      "Simulation Progress: 100%|██████████| 500000/500000 [02:51<00:00, 2911.95it/s]\n"
     ]
    },
    {
     "name": "stdout",
     "output_type": "stream",
     "text": [
      "Partition 17 completed, convergence counter: 3427\n"
     ]
    },
    {
     "name": "stderr",
     "output_type": "stream",
     "text": [
      "Simulation Progress: 100%|██████████| 500000/500000 [02:55<00:00, 2845.30it/s]\n"
     ]
    },
    {
     "name": "stdout",
     "output_type": "stream",
     "text": [
      "Partition 18 completed, convergence counter: 4658\n"
     ]
    },
    {
     "name": "stderr",
     "output_type": "stream",
     "text": [
      "Simulation Progress: 100%|██████████| 500000/500000 [02:46<00:00, 3003.82it/s]\n"
     ]
    },
    {
     "name": "stdout",
     "output_type": "stream",
     "text": [
      "Partition 19 completed, convergence counter: 127\n"
     ]
    },
    {
     "name": "stderr",
     "output_type": "stream",
     "text": [
      "Simulation Progress: 100%|██████████| 500000/500000 [02:50<00:00, 2941.08it/s]\n"
     ]
    },
    {
     "name": "stdout",
     "output_type": "stream",
     "text": [
      "Partition 20 completed, convergence counter: 4579\n"
     ]
    },
    {
     "name": "stderr",
     "output_type": "stream",
     "text": [
      "Simulation Progress: 100%|██████████| 500000/500000 [02:31<00:00, 3295.29it/s]\n"
     ]
    },
    {
     "name": "stdout",
     "output_type": "stream",
     "text": [
      "Partition 21 completed, convergence counter: 20102\n"
     ]
    },
    {
     "name": "stderr",
     "output_type": "stream",
     "text": [
      "Simulation Progress: 100%|██████████| 500000/500000 [02:54<00:00, 2859.29it/s]\n"
     ]
    },
    {
     "name": "stdout",
     "output_type": "stream",
     "text": [
      "Partition 22 completed, convergence counter: 761\n"
     ]
    },
    {
     "name": "stderr",
     "output_type": "stream",
     "text": [
      "Simulation Progress: 100%|██████████| 500000/500000 [02:50<00:00, 2933.06it/s]\n"
     ]
    },
    {
     "name": "stdout",
     "output_type": "stream",
     "text": [
      "Partition 23 completed, convergence counter: 11154\n"
     ]
    },
    {
     "name": "stderr",
     "output_type": "stream",
     "text": [
      "Simulation Progress: 100%|██████████| 500000/500000 [02:45<00:00, 3027.21it/s]\n"
     ]
    },
    {
     "name": "stdout",
     "output_type": "stream",
     "text": [
      "Partition 24 completed, convergence counter: 15220\n"
     ]
    },
    {
     "name": "stderr",
     "output_type": "stream",
     "text": [
      "Simulation Progress: 100%|██████████| 500000/500000 [02:46<00:00, 2999.60it/s]\n"
     ]
    },
    {
     "name": "stdout",
     "output_type": "stream",
     "text": [
      "Partition 25 completed, convergence counter: 6554\n"
     ]
    },
    {
     "name": "stderr",
     "output_type": "stream",
     "text": [
      "Simulation Progress: 100%|██████████| 500000/500000 [02:35<00:00, 3218.38it/s]\n"
     ]
    },
    {
     "name": "stdout",
     "output_type": "stream",
     "text": [
      "Partition 26 completed, convergence counter: 4477\n"
     ]
    },
    {
     "name": "stderr",
     "output_type": "stream",
     "text": [
      "Simulation Progress: 100%|██████████| 500000/500000 [02:27<00:00, 3394.34it/s]\n"
     ]
    },
    {
     "name": "stdout",
     "output_type": "stream",
     "text": [
      "Partition 27 completed, convergence counter: 5290\n"
     ]
    },
    {
     "name": "stderr",
     "output_type": "stream",
     "text": [
      "Simulation Progress: 100%|██████████| 500000/500000 [03:09<00:00, 2636.94it/s]\n"
     ]
    },
    {
     "name": "stdout",
     "output_type": "stream",
     "text": [
      "Partition 28 completed, convergence counter: 14245\n"
     ]
    },
    {
     "name": "stderr",
     "output_type": "stream",
     "text": [
      "Simulation Progress: 100%|██████████| 500000/500000 [02:49<00:00, 2948.40it/s]\n"
     ]
    },
    {
     "name": "stdout",
     "output_type": "stream",
     "text": [
      "Partition 29 completed, convergence counter: 8738\n"
     ]
    },
    {
     "name": "stderr",
     "output_type": "stream",
     "text": [
      "Simulation Progress: 100%|██████████| 500000/500000 [02:30<00:00, 3332.66it/s]\n"
     ]
    },
    {
     "name": "stdout",
     "output_type": "stream",
     "text": [
      "Partition 30 completed, convergence counter: 121\n"
     ]
    },
    {
     "name": "stderr",
     "output_type": "stream",
     "text": [
      "Simulation Progress: 100%|██████████| 500000/500000 [02:49<00:00, 2942.58it/s]\n"
     ]
    },
    {
     "name": "stdout",
     "output_type": "stream",
     "text": [
      "Partition 31 completed, convergence counter: 1301\n"
     ]
    },
    {
     "name": "stderr",
     "output_type": "stream",
     "text": [
      "Simulation Progress: 100%|██████████| 500000/500000 [03:02<00:00, 2744.46it/s]\n"
     ]
    },
    {
     "name": "stdout",
     "output_type": "stream",
     "text": [
      "Partition 32 completed, convergence counter: 1306\n"
     ]
    },
    {
     "name": "stderr",
     "output_type": "stream",
     "text": [
      "Simulation Progress: 100%|██████████| 500000/500000 [02:55<00:00, 2845.18it/s]\n"
     ]
    },
    {
     "name": "stdout",
     "output_type": "stream",
     "text": [
      "Partition 33 completed, convergence counter: 82069\n"
     ]
    },
    {
     "name": "stderr",
     "output_type": "stream",
     "text": [
      "Simulation Progress: 100%|██████████| 500000/500000 [02:25<00:00, 3434.87it/s]\n"
     ]
    },
    {
     "name": "stdout",
     "output_type": "stream",
     "text": [
      "Partition 34 completed, convergence counter: 6824\n"
     ]
    },
    {
     "name": "stderr",
     "output_type": "stream",
     "text": [
      "Simulation Progress: 100%|██████████| 500000/500000 [02:11<00:00, 3800.67it/s]\n"
     ]
    },
    {
     "name": "stdout",
     "output_type": "stream",
     "text": [
      "Partition 35 completed, convergence counter: 103577\n"
     ]
    },
    {
     "name": "stderr",
     "output_type": "stream",
     "text": [
      "Simulation Progress: 100%|██████████| 500000/500000 [02:18<00:00, 3621.92it/s]\n"
     ]
    },
    {
     "name": "stdout",
     "output_type": "stream",
     "text": [
      "Partition 36 completed, convergence counter: 41580\n"
     ]
    },
    {
     "name": "stderr",
     "output_type": "stream",
     "text": [
      "Simulation Progress: 100%|██████████| 500000/500000 [02:26<00:00, 3421.26it/s]\n"
     ]
    },
    {
     "name": "stdout",
     "output_type": "stream",
     "text": [
      "Partition 37 completed, convergence counter: 24013\n"
     ]
    },
    {
     "name": "stderr",
     "output_type": "stream",
     "text": [
      "Simulation Progress: 100%|██████████| 500000/500000 [02:33<00:00, 3250.68it/s]\n"
     ]
    },
    {
     "name": "stdout",
     "output_type": "stream",
     "text": [
      "Partition 38 completed, convergence counter: 77242\n"
     ]
    },
    {
     "name": "stderr",
     "output_type": "stream",
     "text": [
      "Simulation Progress: 100%|██████████| 500000/500000 [02:23<00:00, 3487.33it/s]\n"
     ]
    },
    {
     "name": "stdout",
     "output_type": "stream",
     "text": [
      "Partition 39 completed, convergence counter: 7933\n"
     ]
    },
    {
     "name": "stderr",
     "output_type": "stream",
     "text": [
      "Simulation Progress: 100%|██████████| 500000/500000 [02:23<00:00, 3477.99it/s]\n"
     ]
    },
    {
     "name": "stdout",
     "output_type": "stream",
     "text": [
      "Partition 40 completed, convergence counter: 8857\n"
     ]
    },
    {
     "name": "stderr",
     "output_type": "stream",
     "text": [
      "Simulation Progress: 100%|██████████| 500000/500000 [02:20<00:00, 3558.10it/s]\n"
     ]
    },
    {
     "name": "stdout",
     "output_type": "stream",
     "text": [
      "Partition 41 completed, convergence counter: 5343\n"
     ]
    },
    {
     "name": "stderr",
     "output_type": "stream",
     "text": [
      "Simulation Progress: 100%|██████████| 500000/500000 [02:29<00:00, 3345.96it/s]\n"
     ]
    },
    {
     "name": "stdout",
     "output_type": "stream",
     "text": [
      "Partition 42 completed, convergence counter: 4746\n"
     ]
    },
    {
     "name": "stderr",
     "output_type": "stream",
     "text": [
      "Simulation Progress: 100%|██████████| 500000/500000 [02:32<00:00, 3288.73it/s]\n"
     ]
    },
    {
     "name": "stdout",
     "output_type": "stream",
     "text": [
      "Partition 43 completed, convergence counter: 27235\n"
     ]
    },
    {
     "name": "stderr",
     "output_type": "stream",
     "text": [
      "Simulation Progress: 100%|██████████| 500000/500000 [02:27<00:00, 3384.50it/s]\n"
     ]
    },
    {
     "name": "stdout",
     "output_type": "stream",
     "text": [
      "Partition 44 completed, convergence counter: 71129\n"
     ]
    },
    {
     "name": "stderr",
     "output_type": "stream",
     "text": [
      "Simulation Progress: 100%|██████████| 500000/500000 [02:29<00:00, 3334.40it/s]\n"
     ]
    },
    {
     "name": "stdout",
     "output_type": "stream",
     "text": [
      "Partition 45 completed, convergence counter: 7339\n"
     ]
    },
    {
     "name": "stderr",
     "output_type": "stream",
     "text": [
      "Simulation Progress: 100%|██████████| 500000/500000 [02:43<00:00, 3055.71it/s]\n"
     ]
    },
    {
     "name": "stdout",
     "output_type": "stream",
     "text": [
      "Partition 46 completed, convergence counter: 97785\n"
     ]
    },
    {
     "name": "stderr",
     "output_type": "stream",
     "text": [
      "Simulation Progress: 100%|██████████| 500000/500000 [02:18<00:00, 3616.10it/s]\n"
     ]
    },
    {
     "name": "stdout",
     "output_type": "stream",
     "text": [
      "Partition 47 completed, convergence counter: 1497\n"
     ]
    },
    {
     "name": "stderr",
     "output_type": "stream",
     "text": [
      "Simulation Progress: 100%|██████████| 500000/500000 [02:28<00:00, 3372.36it/s]\n"
     ]
    },
    {
     "name": "stdout",
     "output_type": "stream",
     "text": [
      "Partition 48 completed, convergence counter: 7980\n"
     ]
    },
    {
     "name": "stderr",
     "output_type": "stream",
     "text": [
      "Simulation Progress: 100%|██████████| 500000/500000 [02:45<00:00, 3015.12it/s]\n"
     ]
    },
    {
     "name": "stdout",
     "output_type": "stream",
     "text": [
      "Partition 49 completed, convergence counter: 88453\n"
     ]
    },
    {
     "name": "stderr",
     "output_type": "stream",
     "text": [
      "Simulation Progress: 100%|██████████| 500000/500000 [02:48<00:00, 2964.87it/s]\n"
     ]
    },
    {
     "name": "stdout",
     "output_type": "stream",
     "text": [
      "Partition 50 completed, convergence counter: 42124\n"
     ]
    },
    {
     "name": "stderr",
     "output_type": "stream",
     "text": [
      "Simulation Progress: 100%|██████████| 500000/500000 [02:31<00:00, 3296.49it/s]\n"
     ]
    },
    {
     "name": "stdout",
     "output_type": "stream",
     "text": [
      "Partition 51 completed, convergence counter: 18551\n"
     ]
    },
    {
     "name": "stderr",
     "output_type": "stream",
     "text": [
      "Simulation Progress: 100%|██████████| 500000/500000 [02:30<00:00, 3329.95it/s]\n"
     ]
    },
    {
     "name": "stdout",
     "output_type": "stream",
     "text": [
      "Partition 52 completed, convergence counter: 52959\n"
     ]
    },
    {
     "name": "stderr",
     "output_type": "stream",
     "text": [
      "Simulation Progress: 100%|██████████| 500000/500000 [02:30<00:00, 3321.03it/s]\n"
     ]
    },
    {
     "name": "stdout",
     "output_type": "stream",
     "text": [
      "Partition 53 completed, convergence counter: 377703\n"
     ]
    },
    {
     "name": "stderr",
     "output_type": "stream",
     "text": [
      "Simulation Progress: 100%|██████████| 500000/500000 [02:25<00:00, 3438.32it/s]\n"
     ]
    },
    {
     "name": "stdout",
     "output_type": "stream",
     "text": [
      "Partition 54 completed, convergence counter: 13745\n"
     ]
    },
    {
     "name": "stderr",
     "output_type": "stream",
     "text": [
      "Simulation Progress: 100%|██████████| 500000/500000 [02:43<00:00, 3061.68it/s]\n"
     ]
    },
    {
     "name": "stdout",
     "output_type": "stream",
     "text": [
      "Partition 55 completed, convergence counter: 13971\n"
     ]
    },
    {
     "name": "stderr",
     "output_type": "stream",
     "text": [
      "Simulation Progress: 100%|██████████| 500000/500000 [02:35<00:00, 3223.37it/s]\n"
     ]
    },
    {
     "name": "stdout",
     "output_type": "stream",
     "text": [
      "Partition 56 completed, convergence counter: 112217\n"
     ]
    },
    {
     "name": "stderr",
     "output_type": "stream",
     "text": [
      "Simulation Progress: 100%|██████████| 500000/500000 [02:27<00:00, 3382.23it/s]\n"
     ]
    },
    {
     "name": "stdout",
     "output_type": "stream",
     "text": [
      "Partition 57 completed, convergence counter: 148375\n"
     ]
    },
    {
     "name": "stderr",
     "output_type": "stream",
     "text": [
      "Simulation Progress: 100%|██████████| 500000/500000 [02:37<00:00, 3175.67it/s]\n"
     ]
    },
    {
     "name": "stdout",
     "output_type": "stream",
     "text": [
      "Partition 58 completed, convergence counter: 1081\n"
     ]
    },
    {
     "name": "stderr",
     "output_type": "stream",
     "text": [
      "Simulation Progress: 100%|██████████| 500000/500000 [02:36<00:00, 3196.33it/s]\n"
     ]
    },
    {
     "name": "stdout",
     "output_type": "stream",
     "text": [
      "Partition 59 completed, convergence counter: 115136\n"
     ]
    },
    {
     "name": "stderr",
     "output_type": "stream",
     "text": [
      "Simulation Progress: 100%|██████████| 500000/500000 [02:30<00:00, 3325.69it/s]\n"
     ]
    },
    {
     "name": "stdout",
     "output_type": "stream",
     "text": [
      "Partition 60 completed, convergence counter: 36434\n"
     ]
    },
    {
     "name": "stderr",
     "output_type": "stream",
     "text": [
      "Simulation Progress: 100%|██████████| 500000/500000 [02:29<00:00, 3334.27it/s]\n"
     ]
    },
    {
     "name": "stdout",
     "output_type": "stream",
     "text": [
      "Partition 61 completed, convergence counter: 75059\n"
     ]
    },
    {
     "name": "stderr",
     "output_type": "stream",
     "text": [
      "Simulation Progress: 100%|██████████| 500000/500000 [02:42<00:00, 3076.49it/s]\n"
     ]
    },
    {
     "name": "stdout",
     "output_type": "stream",
     "text": [
      "Partition 62 completed, convergence counter: 140763\n"
     ]
    },
    {
     "name": "stderr",
     "output_type": "stream",
     "text": [
      "Simulation Progress: 100%|██████████| 500000/500000 [02:46<00:00, 3009.70it/s]\n"
     ]
    },
    {
     "name": "stdout",
     "output_type": "stream",
     "text": [
      "Partition 63 completed, convergence counter: 221283\n"
     ]
    },
    {
     "name": "stderr",
     "output_type": "stream",
     "text": [
      "Simulation Progress: 100%|██████████| 500000/500000 [02:20<00:00, 3570.96it/s]\n"
     ]
    },
    {
     "name": "stdout",
     "output_type": "stream",
     "text": [
      "Partition 64 completed, convergence counter: 19499\n"
     ]
    },
    {
     "name": "stderr",
     "output_type": "stream",
     "text": [
      "Simulation Progress: 100%|██████████| 500000/500000 [02:21<00:00, 3539.70it/s]\n"
     ]
    },
    {
     "name": "stdout",
     "output_type": "stream",
     "text": [
      "Partition 65 completed, convergence counter: 149555\n"
     ]
    },
    {
     "name": "stderr",
     "output_type": "stream",
     "text": [
      "Simulation Progress: 100%|██████████| 500000/500000 [02:20<00:00, 3555.51it/s]\n"
     ]
    },
    {
     "name": "stdout",
     "output_type": "stream",
     "text": [
      "Partition 66 completed, convergence counter: 63928\n"
     ]
    },
    {
     "name": "stderr",
     "output_type": "stream",
     "text": [
      "Simulation Progress: 100%|██████████| 500000/500000 [02:25<00:00, 3439.79it/s]\n"
     ]
    },
    {
     "name": "stdout",
     "output_type": "stream",
     "text": [
      "Partition 67 completed, convergence counter: 138326\n"
     ]
    },
    {
     "name": "stderr",
     "output_type": "stream",
     "text": [
      "Simulation Progress: 100%|██████████| 500000/500000 [02:22<00:00, 3498.22it/s]\n"
     ]
    },
    {
     "name": "stdout",
     "output_type": "stream",
     "text": [
      "Partition 68 completed, convergence counter: 6643\n"
     ]
    },
    {
     "name": "stderr",
     "output_type": "stream",
     "text": [
      "Simulation Progress: 100%|██████████| 500000/500000 [02:32<00:00, 3287.21it/s]\n"
     ]
    },
    {
     "name": "stdout",
     "output_type": "stream",
     "text": [
      "Partition 69 completed, convergence counter: 5128\n"
     ]
    },
    {
     "name": "stderr",
     "output_type": "stream",
     "text": [
      "Simulation Progress: 100%|██████████| 500000/500000 [02:19<00:00, 3577.02it/s]\n"
     ]
    },
    {
     "name": "stdout",
     "output_type": "stream",
     "text": [
      "Partition 70 completed, convergence counter: 193929\n"
     ]
    },
    {
     "name": "stderr",
     "output_type": "stream",
     "text": [
      "Simulation Progress: 100%|██████████| 500000/500000 [02:31<00:00, 3303.46it/s]\n"
     ]
    },
    {
     "name": "stdout",
     "output_type": "stream",
     "text": [
      "Partition 71 completed, convergence counter: 18259\n"
     ]
    },
    {
     "name": "stderr",
     "output_type": "stream",
     "text": [
      "Simulation Progress: 100%|██████████| 500000/500000 [02:26<00:00, 3416.43it/s]\n"
     ]
    },
    {
     "name": "stdout",
     "output_type": "stream",
     "text": [
      "Partition 72 completed, convergence counter: 120900\n"
     ]
    },
    {
     "name": "stderr",
     "output_type": "stream",
     "text": [
      "Simulation Progress: 100%|██████████| 500000/500000 [02:29<00:00, 3339.39it/s]\n"
     ]
    },
    {
     "name": "stdout",
     "output_type": "stream",
     "text": [
      "Partition 73 completed, convergence counter: 494813\n"
     ]
    },
    {
     "name": "stderr",
     "output_type": "stream",
     "text": [
      "Simulation Progress: 100%|██████████| 500000/500000 [02:18<00:00, 3598.72it/s]\n"
     ]
    },
    {
     "name": "stdout",
     "output_type": "stream",
     "text": [
      "Partition 74 completed, convergence counter: 154535\n"
     ]
    },
    {
     "name": "stderr",
     "output_type": "stream",
     "text": [
      "Simulation Progress: 100%|██████████| 500000/500000 [02:33<00:00, 3249.75it/s]\n"
     ]
    },
    {
     "name": "stdout",
     "output_type": "stream",
     "text": [
      "Partition 75 completed, convergence counter: 532550\n"
     ]
    },
    {
     "name": "stderr",
     "output_type": "stream",
     "text": [
      "Simulation Progress: 100%|██████████| 500000/500000 [02:29<00:00, 3337.76it/s]\n"
     ]
    },
    {
     "name": "stdout",
     "output_type": "stream",
     "text": [
      "Partition 76 completed, convergence counter: 912505\n"
     ]
    },
    {
     "name": "stderr",
     "output_type": "stream",
     "text": [
      "Simulation Progress: 100%|██████████| 500000/500000 [02:20<00:00, 3566.09it/s]"
     ]
    },
    {
     "name": "stdout",
     "output_type": "stream",
     "text": [
      "Partition 77 completed, convergence counter: 1294355\n"
     ]
    },
    {
     "name": "stderr",
     "output_type": "stream",
     "text": [
      "\n"
     ]
    }
   ],
   "source": [
    "config = Config()\n",
    "config.sigma_u = 100\n",
    "\n",
    "_save_path = '/Users/moyuanchen/Documents/thesis/sim_4/data_part_0.npy'\n",
    "log, agents = simulate(config = config, T = 500000, save_path=_save_path)\n",
    "convergence_threshold = 1000000\n",
    "convergence = 0\n",
    "partitions = 1\n",
    "while convergence < convergence_threshold:\n",
    "    save_path = f'/Users/moyuanchen/Documents/thesis/sim_4/data_part_{partitions}.npy'\n",
    "    log, agents = simulate(config = config, T=500000, continue_simulation=_save_path, save_path=save_path)\n",
    "    _save_path = save_path\n",
    "    \n",
    "    convergence = log['convergence_counter']\n",
    "    print(f\"Partition {partitions} completed, convergence counter: {convergence}\")\n",
    "    partitions += 1\n",
    "\n",
    "# save config\n",
    "np.save('/Users/moyuanchen/Documents/thesis/sim_4/config.npy', config)"
   ]
  },
  {
   "cell_type": "markdown",
   "metadata": {},
   "source": [
    "### $\\sigma = 0.01, 1, 10$"
   ]
  },
  {
   "cell_type": "code",
   "execution_count": 3,
   "metadata": {},
   "outputs": [
    {
     "name": "stderr",
     "output_type": "stream",
     "text": [
      "Simulation Progress: 100%|██████████| 500000/500000 [01:46<00:00, 4676.52it/s]\n",
      "Simulation Progress: 100%|██████████| 500000/500000 [01:52<00:00, 4437.36it/s]\n"
     ]
    },
    {
     "name": "stdout",
     "output_type": "stream",
     "text": [
      "Partition 1 completed, convergence counter: 12\n"
     ]
    },
    {
     "name": "stderr",
     "output_type": "stream",
     "text": [
      "Simulation Progress: 100%|██████████| 500000/500000 [02:01<00:00, 4101.41it/s]\n"
     ]
    },
    {
     "name": "stdout",
     "output_type": "stream",
     "text": [
      "Partition 2 completed, convergence counter: 9\n"
     ]
    },
    {
     "name": "stderr",
     "output_type": "stream",
     "text": [
      "Simulation Progress: 100%|██████████| 500000/500000 [02:12<00:00, 3775.09it/s]\n"
     ]
    },
    {
     "name": "stdout",
     "output_type": "stream",
     "text": [
      "Partition 3 completed, convergence counter: 30\n"
     ]
    },
    {
     "name": "stderr",
     "output_type": "stream",
     "text": [
      "Simulation Progress: 100%|██████████| 500000/500000 [02:13<00:00, 3748.47it/s]\n"
     ]
    },
    {
     "name": "stdout",
     "output_type": "stream",
     "text": [
      "Partition 4 completed, convergence counter: 98\n"
     ]
    },
    {
     "name": "stderr",
     "output_type": "stream",
     "text": [
      "Simulation Progress: 100%|██████████| 500000/500000 [02:09<00:00, 3869.58it/s]\n"
     ]
    },
    {
     "name": "stdout",
     "output_type": "stream",
     "text": [
      "Partition 5 completed, convergence counter: 353\n"
     ]
    },
    {
     "name": "stderr",
     "output_type": "stream",
     "text": [
      "Simulation Progress: 100%|██████████| 500000/500000 [02:11<00:00, 3810.45it/s]\n"
     ]
    },
    {
     "name": "stdout",
     "output_type": "stream",
     "text": [
      "Partition 6 completed, convergence counter: 639\n"
     ]
    },
    {
     "name": "stderr",
     "output_type": "stream",
     "text": [
      "Simulation Progress: 100%|██████████| 500000/500000 [02:06<00:00, 3939.03it/s]\n"
     ]
    },
    {
     "name": "stdout",
     "output_type": "stream",
     "text": [
      "Partition 7 completed, convergence counter: 674\n"
     ]
    },
    {
     "name": "stderr",
     "output_type": "stream",
     "text": [
      "Simulation Progress: 100%|██████████| 500000/500000 [02:17<00:00, 3637.27it/s]\n"
     ]
    },
    {
     "name": "stdout",
     "output_type": "stream",
     "text": [
      "Partition 8 completed, convergence counter: 20112\n"
     ]
    },
    {
     "name": "stderr",
     "output_type": "stream",
     "text": [
      "Simulation Progress: 100%|██████████| 500000/500000 [02:32<00:00, 3282.53it/s]\n"
     ]
    },
    {
     "name": "stdout",
     "output_type": "stream",
     "text": [
      "Partition 9 completed, convergence counter: 24158\n"
     ]
    },
    {
     "name": "stderr",
     "output_type": "stream",
     "text": [
      "Simulation Progress: 100%|██████████| 500000/500000 [02:34<00:00, 3243.88it/s]\n"
     ]
    },
    {
     "name": "stdout",
     "output_type": "stream",
     "text": [
      "Partition 10 completed, convergence counter: 12767\n"
     ]
    },
    {
     "name": "stderr",
     "output_type": "stream",
     "text": [
      "Simulation Progress: 100%|██████████| 500000/500000 [02:33<00:00, 3247.35it/s]\n"
     ]
    },
    {
     "name": "stdout",
     "output_type": "stream",
     "text": [
      "Partition 11 completed, convergence counter: 38604\n"
     ]
    },
    {
     "name": "stderr",
     "output_type": "stream",
     "text": [
      "Simulation Progress: 100%|██████████| 500000/500000 [02:21<00:00, 3529.52it/s]\n"
     ]
    },
    {
     "name": "stdout",
     "output_type": "stream",
     "text": [
      "Partition 12 completed, convergence counter: 275\n"
     ]
    },
    {
     "name": "stderr",
     "output_type": "stream",
     "text": [
      "Simulation Progress: 100%|██████████| 500000/500000 [02:25<00:00, 3432.13it/s]\n"
     ]
    },
    {
     "name": "stdout",
     "output_type": "stream",
     "text": [
      "Partition 13 completed, convergence counter: 24099\n"
     ]
    },
    {
     "name": "stderr",
     "output_type": "stream",
     "text": [
      "Simulation Progress: 100%|██████████| 500000/500000 [02:31<00:00, 3295.43it/s]\n"
     ]
    },
    {
     "name": "stdout",
     "output_type": "stream",
     "text": [
      "Partition 14 completed, convergence counter: 18192\n"
     ]
    },
    {
     "name": "stderr",
     "output_type": "stream",
     "text": [
      "Simulation Progress: 100%|██████████| 500000/500000 [02:21<00:00, 3537.17it/s]\n"
     ]
    },
    {
     "name": "stdout",
     "output_type": "stream",
     "text": [
      "Partition 15 completed, convergence counter: 152123\n"
     ]
    },
    {
     "name": "stderr",
     "output_type": "stream",
     "text": [
      "Simulation Progress: 100%|██████████| 500000/500000 [02:19<00:00, 3589.99it/s]\n"
     ]
    },
    {
     "name": "stdout",
     "output_type": "stream",
     "text": [
      "Partition 16 completed, convergence counter: 28966\n"
     ]
    },
    {
     "name": "stderr",
     "output_type": "stream",
     "text": [
      "Simulation Progress: 100%|██████████| 500000/500000 [02:35<00:00, 3213.80it/s]\n"
     ]
    },
    {
     "name": "stdout",
     "output_type": "stream",
     "text": [
      "Partition 17 completed, convergence counter: 12288\n"
     ]
    },
    {
     "name": "stderr",
     "output_type": "stream",
     "text": [
      "Simulation Progress: 100%|██████████| 500000/500000 [02:41<00:00, 3088.37it/s]\n"
     ]
    },
    {
     "name": "stdout",
     "output_type": "stream",
     "text": [
      "Partition 18 completed, convergence counter: 29702\n"
     ]
    },
    {
     "name": "stderr",
     "output_type": "stream",
     "text": [
      "Simulation Progress: 100%|██████████| 500000/500000 [02:43<00:00, 3060.14it/s]\n"
     ]
    },
    {
     "name": "stdout",
     "output_type": "stream",
     "text": [
      "Partition 19 completed, convergence counter: 20433\n"
     ]
    },
    {
     "name": "stderr",
     "output_type": "stream",
     "text": [
      "Simulation Progress: 100%|██████████| 500000/500000 [02:11<00:00, 3801.06it/s]\n"
     ]
    },
    {
     "name": "stdout",
     "output_type": "stream",
     "text": [
      "Partition 20 completed, convergence counter: 2831\n"
     ]
    },
    {
     "name": "stderr",
     "output_type": "stream",
     "text": [
      "Simulation Progress: 100%|██████████| 500000/500000 [02:32<00:00, 3275.07it/s]\n"
     ]
    },
    {
     "name": "stdout",
     "output_type": "stream",
     "text": [
      "Partition 21 completed, convergence counter: 89051\n"
     ]
    },
    {
     "name": "stderr",
     "output_type": "stream",
     "text": [
      "Simulation Progress: 100%|██████████| 500000/500000 [02:28<00:00, 3362.95it/s]\n"
     ]
    },
    {
     "name": "stdout",
     "output_type": "stream",
     "text": [
      "Partition 22 completed, convergence counter: 154911\n"
     ]
    },
    {
     "name": "stderr",
     "output_type": "stream",
     "text": [
      "Simulation Progress: 100%|██████████| 500000/500000 [02:34<00:00, 3231.79it/s]\n"
     ]
    },
    {
     "name": "stdout",
     "output_type": "stream",
     "text": [
      "Partition 23 completed, convergence counter: 339631\n"
     ]
    },
    {
     "name": "stderr",
     "output_type": "stream",
     "text": [
      "Simulation Progress: 100%|██████████| 500000/500000 [02:31<00:00, 3291.84it/s]\n"
     ]
    },
    {
     "name": "stdout",
     "output_type": "stream",
     "text": [
      "Partition 24 completed, convergence counter: 172515\n"
     ]
    },
    {
     "name": "stderr",
     "output_type": "stream",
     "text": [
      "Simulation Progress: 100%|██████████| 500000/500000 [02:34<00:00, 3246.51it/s]\n"
     ]
    },
    {
     "name": "stdout",
     "output_type": "stream",
     "text": [
      "Partition 25 completed, convergence counter: 12260\n"
     ]
    },
    {
     "name": "stderr",
     "output_type": "stream",
     "text": [
      "Simulation Progress: 100%|██████████| 500000/500000 [02:43<00:00, 3055.80it/s]\n"
     ]
    },
    {
     "name": "stdout",
     "output_type": "stream",
     "text": [
      "Partition 26 completed, convergence counter: 30106\n"
     ]
    },
    {
     "name": "stderr",
     "output_type": "stream",
     "text": [
      "Simulation Progress: 100%|██████████| 500000/500000 [02:29<00:00, 3337.61it/s]\n"
     ]
    },
    {
     "name": "stdout",
     "output_type": "stream",
     "text": [
      "Partition 27 completed, convergence counter: 57448\n"
     ]
    },
    {
     "name": "stderr",
     "output_type": "stream",
     "text": [
      "Simulation Progress: 100%|██████████| 500000/500000 [02:33<00:00, 3254.93it/s]\n"
     ]
    },
    {
     "name": "stdout",
     "output_type": "stream",
     "text": [
      "Partition 28 completed, convergence counter: 28739\n"
     ]
    },
    {
     "name": "stderr",
     "output_type": "stream",
     "text": [
      "Simulation Progress: 100%|██████████| 500000/500000 [02:29<00:00, 3352.70it/s]\n"
     ]
    },
    {
     "name": "stdout",
     "output_type": "stream",
     "text": [
      "Partition 29 completed, convergence counter: 212154\n"
     ]
    },
    {
     "name": "stderr",
     "output_type": "stream",
     "text": [
      "Simulation Progress: 100%|██████████| 500000/500000 [02:31<00:00, 3296.28it/s]\n"
     ]
    },
    {
     "name": "stdout",
     "output_type": "stream",
     "text": [
      "Partition 30 completed, convergence counter: 121291\n"
     ]
    },
    {
     "name": "stderr",
     "output_type": "stream",
     "text": [
      "Simulation Progress: 100%|██████████| 500000/500000 [02:28<00:00, 3362.17it/s]\n"
     ]
    },
    {
     "name": "stdout",
     "output_type": "stream",
     "text": [
      "Partition 31 completed, convergence counter: 363863\n"
     ]
    },
    {
     "name": "stderr",
     "output_type": "stream",
     "text": [
      "Simulation Progress: 100%|██████████| 500000/500000 [02:42<00:00, 3073.95it/s]\n"
     ]
    },
    {
     "name": "stdout",
     "output_type": "stream",
     "text": [
      "Partition 32 completed, convergence counter: 109893\n"
     ]
    },
    {
     "name": "stderr",
     "output_type": "stream",
     "text": [
      "Simulation Progress: 100%|██████████| 500000/500000 [02:27<00:00, 3385.75it/s]\n"
     ]
    },
    {
     "name": "stdout",
     "output_type": "stream",
     "text": [
      "Partition 33 completed, convergence counter: 366357\n"
     ]
    },
    {
     "name": "stderr",
     "output_type": "stream",
     "text": [
      "Simulation Progress: 100%|██████████| 500000/500000 [02:40<00:00, 3109.96it/s]\n"
     ]
    },
    {
     "name": "stdout",
     "output_type": "stream",
     "text": [
      "Partition 34 completed, convergence counter: 151233\n"
     ]
    },
    {
     "name": "stderr",
     "output_type": "stream",
     "text": [
      "Simulation Progress: 100%|██████████| 500000/500000 [02:29<00:00, 3355.50it/s]\n"
     ]
    },
    {
     "name": "stdout",
     "output_type": "stream",
     "text": [
      "Partition 35 completed, convergence counter: 428134\n"
     ]
    },
    {
     "name": "stderr",
     "output_type": "stream",
     "text": [
      "Simulation Progress: 100%|██████████| 500000/500000 [02:50<00:00, 2927.33it/s]\n"
     ]
    },
    {
     "name": "stdout",
     "output_type": "stream",
     "text": [
      "Partition 36 completed, convergence counter: 715078\n"
     ]
    },
    {
     "name": "stderr",
     "output_type": "stream",
     "text": [
      "Simulation Progress: 100%|██████████| 500000/500000 [02:48<00:00, 2975.40it/s]\n"
     ]
    },
    {
     "name": "stdout",
     "output_type": "stream",
     "text": [
      "Partition 37 completed, convergence counter: 1010722\n"
     ]
    }
   ],
   "source": [
    "config = Config()\n",
    "config.sigma_u = 0.01\n",
    "\n",
    "_save_path = '/Users/moyuanchen/Documents/thesis/sim_5/data_part_0.npy'\n",
    "log, agents = simulate(config = config, T = 500000, save_path=_save_path)\n",
    "convergence_threshold = 1000000\n",
    "convergence = 0\n",
    "partitions = 1\n",
    "while convergence < convergence_threshold:\n",
    "    save_path = f'/Users/moyuanchen/Documents/thesis/sim_5/data_part_{partitions}.npy'\n",
    "    log, agents = simulate(config = config, T=500000, continue_simulation=_save_path, save_path=save_path)\n",
    "    _save_path = save_path\n",
    "    \n",
    "    convergence = log['convergence_counter']\n",
    "    print(f\"Partition {partitions} completed, convergence counter: {convergence}\")\n",
    "    partitions += 1\n",
    "\n",
    "# save config\n",
    "np.save('/Users/moyuanchen/Documents/thesis/sim_5/config.npy', config)"
   ]
  },
  {
   "cell_type": "code",
   "execution_count": 4,
   "metadata": {},
   "outputs": [
    {
     "name": "stderr",
     "output_type": "stream",
     "text": [
      "Simulation Progress: 100%|██████████| 500000/500000 [02:47<00:00, 2981.49it/s]\n",
      "Simulation Progress: 100%|██████████| 500000/500000 [02:57<00:00, 2811.92it/s]\n"
     ]
    },
    {
     "name": "stdout",
     "output_type": "stream",
     "text": [
      "Partition 1 completed, convergence counter: 3\n"
     ]
    },
    {
     "name": "stderr",
     "output_type": "stream",
     "text": [
      "Simulation Progress: 100%|██████████| 500000/500000 [02:26<00:00, 3422.13it/s]\n"
     ]
    },
    {
     "name": "stdout",
     "output_type": "stream",
     "text": [
      "Partition 2 completed, convergence counter: 19\n"
     ]
    },
    {
     "name": "stderr",
     "output_type": "stream",
     "text": [
      "Simulation Progress: 100%|██████████| 500000/500000 [02:23<00:00, 3487.60it/s]\n"
     ]
    },
    {
     "name": "stdout",
     "output_type": "stream",
     "text": [
      "Partition 3 completed, convergence counter: 37\n"
     ]
    },
    {
     "name": "stderr",
     "output_type": "stream",
     "text": [
      "Simulation Progress: 100%|██████████| 500000/500000 [02:37<00:00, 3175.27it/s]\n"
     ]
    },
    {
     "name": "stdout",
     "output_type": "stream",
     "text": [
      "Partition 4 completed, convergence counter: 85\n"
     ]
    },
    {
     "name": "stderr",
     "output_type": "stream",
     "text": [
      "Simulation Progress: 100%|██████████| 500000/500000 [02:38<00:00, 3148.08it/s]\n"
     ]
    },
    {
     "name": "stdout",
     "output_type": "stream",
     "text": [
      "Partition 5 completed, convergence counter: 2494\n"
     ]
    },
    {
     "name": "stderr",
     "output_type": "stream",
     "text": [
      "Simulation Progress: 100%|██████████| 500000/500000 [02:45<00:00, 3027.13it/s]\n"
     ]
    },
    {
     "name": "stdout",
     "output_type": "stream",
     "text": [
      "Partition 6 completed, convergence counter: 82\n"
     ]
    },
    {
     "name": "stderr",
     "output_type": "stream",
     "text": [
      "Simulation Progress: 100%|██████████| 500000/500000 [02:30<00:00, 3324.79it/s]\n"
     ]
    },
    {
     "name": "stdout",
     "output_type": "stream",
     "text": [
      "Partition 7 completed, convergence counter: 6836\n"
     ]
    },
    {
     "name": "stderr",
     "output_type": "stream",
     "text": [
      "Simulation Progress: 100%|██████████| 500000/500000 [02:23<00:00, 3478.20it/s]\n"
     ]
    },
    {
     "name": "stdout",
     "output_type": "stream",
     "text": [
      "Partition 8 completed, convergence counter: 18606\n"
     ]
    },
    {
     "name": "stderr",
     "output_type": "stream",
     "text": [
      "Simulation Progress: 100%|██████████| 500000/500000 [02:28<00:00, 3373.02it/s]\n"
     ]
    },
    {
     "name": "stdout",
     "output_type": "stream",
     "text": [
      "Partition 9 completed, convergence counter: 3834\n"
     ]
    },
    {
     "name": "stderr",
     "output_type": "stream",
     "text": [
      "Simulation Progress: 100%|██████████| 500000/500000 [02:41<00:00, 3104.27it/s]\n"
     ]
    },
    {
     "name": "stdout",
     "output_type": "stream",
     "text": [
      "Partition 10 completed, convergence counter: 12139\n"
     ]
    },
    {
     "name": "stderr",
     "output_type": "stream",
     "text": [
      "Simulation Progress: 100%|██████████| 500000/500000 [02:20<00:00, 3559.34it/s]\n"
     ]
    },
    {
     "name": "stdout",
     "output_type": "stream",
     "text": [
      "Partition 11 completed, convergence counter: 10080\n"
     ]
    },
    {
     "name": "stderr",
     "output_type": "stream",
     "text": [
      "Simulation Progress: 100%|██████████| 500000/500000 [02:40<00:00, 3109.83it/s]\n"
     ]
    },
    {
     "name": "stdout",
     "output_type": "stream",
     "text": [
      "Partition 12 completed, convergence counter: 62395\n"
     ]
    },
    {
     "name": "stderr",
     "output_type": "stream",
     "text": [
      "Simulation Progress: 100%|██████████| 500000/500000 [02:26<00:00, 3401.50it/s]\n"
     ]
    },
    {
     "name": "stdout",
     "output_type": "stream",
     "text": [
      "Partition 13 completed, convergence counter: 113195\n"
     ]
    },
    {
     "name": "stderr",
     "output_type": "stream",
     "text": [
      "Simulation Progress: 100%|██████████| 500000/500000 [02:35<00:00, 3225.61it/s]\n"
     ]
    },
    {
     "name": "stdout",
     "output_type": "stream",
     "text": [
      "Partition 14 completed, convergence counter: 15871\n"
     ]
    },
    {
     "name": "stderr",
     "output_type": "stream",
     "text": [
      "Simulation Progress: 100%|██████████| 500000/500000 [02:34<00:00, 3231.17it/s]\n"
     ]
    },
    {
     "name": "stdout",
     "output_type": "stream",
     "text": [
      "Partition 15 completed, convergence counter: 53505\n"
     ]
    },
    {
     "name": "stderr",
     "output_type": "stream",
     "text": [
      "Simulation Progress: 100%|██████████| 500000/500000 [02:36<00:00, 3196.73it/s]\n"
     ]
    },
    {
     "name": "stdout",
     "output_type": "stream",
     "text": [
      "Partition 16 completed, convergence counter: 87355\n"
     ]
    },
    {
     "name": "stderr",
     "output_type": "stream",
     "text": [
      "Simulation Progress: 100%|██████████| 500000/500000 [02:26<00:00, 3412.31it/s]\n"
     ]
    },
    {
     "name": "stdout",
     "output_type": "stream",
     "text": [
      "Partition 17 completed, convergence counter: 85325\n"
     ]
    },
    {
     "name": "stderr",
     "output_type": "stream",
     "text": [
      "Simulation Progress: 100%|██████████| 500000/500000 [02:39<00:00, 3133.49it/s]\n"
     ]
    },
    {
     "name": "stdout",
     "output_type": "stream",
     "text": [
      "Partition 18 completed, convergence counter: 237544\n"
     ]
    },
    {
     "name": "stderr",
     "output_type": "stream",
     "text": [
      "Simulation Progress: 100%|██████████| 500000/500000 [02:40<00:00, 3108.93it/s]\n"
     ]
    },
    {
     "name": "stdout",
     "output_type": "stream",
     "text": [
      "Partition 19 completed, convergence counter: 18604\n"
     ]
    },
    {
     "name": "stderr",
     "output_type": "stream",
     "text": [
      "Simulation Progress: 100%|██████████| 500000/500000 [02:43<00:00, 3058.63it/s]\n"
     ]
    },
    {
     "name": "stdout",
     "output_type": "stream",
     "text": [
      "Partition 20 completed, convergence counter: 44423\n"
     ]
    },
    {
     "name": "stderr",
     "output_type": "stream",
     "text": [
      "Simulation Progress: 100%|██████████| 500000/500000 [02:45<00:00, 3027.07it/s]\n"
     ]
    },
    {
     "name": "stdout",
     "output_type": "stream",
     "text": [
      "Partition 21 completed, convergence counter: 215947\n"
     ]
    },
    {
     "name": "stderr",
     "output_type": "stream",
     "text": [
      "Simulation Progress: 100%|██████████| 500000/500000 [02:38<00:00, 3157.44it/s]\n"
     ]
    },
    {
     "name": "stdout",
     "output_type": "stream",
     "text": [
      "Partition 22 completed, convergence counter: 393756\n"
     ]
    },
    {
     "name": "stderr",
     "output_type": "stream",
     "text": [
      "Simulation Progress: 100%|██████████| 500000/500000 [02:45<00:00, 3026.13it/s]\n"
     ]
    },
    {
     "name": "stdout",
     "output_type": "stream",
     "text": [
      "Partition 23 completed, convergence counter: 1454\n"
     ]
    },
    {
     "name": "stderr",
     "output_type": "stream",
     "text": [
      "Simulation Progress: 100%|██████████| 500000/500000 [02:41<00:00, 3094.40it/s]\n"
     ]
    },
    {
     "name": "stdout",
     "output_type": "stream",
     "text": [
      "Partition 24 completed, convergence counter: 2205\n"
     ]
    },
    {
     "name": "stderr",
     "output_type": "stream",
     "text": [
      "Simulation Progress: 100%|██████████| 500000/500000 [02:47<00:00, 2991.17it/s]\n"
     ]
    },
    {
     "name": "stdout",
     "output_type": "stream",
     "text": [
      "Partition 25 completed, convergence counter: 22\n"
     ]
    },
    {
     "name": "stderr",
     "output_type": "stream",
     "text": [
      "Simulation Progress: 100%|██████████| 500000/500000 [02:40<00:00, 3109.67it/s]\n"
     ]
    },
    {
     "name": "stdout",
     "output_type": "stream",
     "text": [
      "Partition 26 completed, convergence counter: 128226\n"
     ]
    },
    {
     "name": "stderr",
     "output_type": "stream",
     "text": [
      "Simulation Progress: 100%|██████████| 500000/500000 [02:43<00:00, 3053.47it/s]\n"
     ]
    },
    {
     "name": "stdout",
     "output_type": "stream",
     "text": [
      "Partition 27 completed, convergence counter: 338179\n"
     ]
    },
    {
     "name": "stderr",
     "output_type": "stream",
     "text": [
      "Simulation Progress: 100%|██████████| 500000/500000 [02:55<00:00, 2841.04it/s]\n"
     ]
    },
    {
     "name": "stdout",
     "output_type": "stream",
     "text": [
      "Partition 28 completed, convergence counter: 37978\n"
     ]
    },
    {
     "name": "stderr",
     "output_type": "stream",
     "text": [
      "Simulation Progress: 100%|██████████| 500000/500000 [02:38<00:00, 3150.76it/s]\n"
     ]
    },
    {
     "name": "stdout",
     "output_type": "stream",
     "text": [
      "Partition 29 completed, convergence counter: 143856\n"
     ]
    },
    {
     "name": "stderr",
     "output_type": "stream",
     "text": [
      "Simulation Progress: 100%|██████████| 500000/500000 [02:36<00:00, 3200.51it/s]\n"
     ]
    },
    {
     "name": "stdout",
     "output_type": "stream",
     "text": [
      "Partition 30 completed, convergence counter: 374216\n"
     ]
    },
    {
     "name": "stderr",
     "output_type": "stream",
     "text": [
      "Simulation Progress: 100%|██████████| 500000/500000 [02:30<00:00, 3320.58it/s]\n"
     ]
    },
    {
     "name": "stdout",
     "output_type": "stream",
     "text": [
      "Partition 31 completed, convergence counter: 211094\n"
     ]
    },
    {
     "name": "stderr",
     "output_type": "stream",
     "text": [
      "Simulation Progress: 100%|██████████| 500000/500000 [02:47<00:00, 2978.61it/s]\n"
     ]
    },
    {
     "name": "stdout",
     "output_type": "stream",
     "text": [
      "Partition 32 completed, convergence counter: 37599\n"
     ]
    },
    {
     "name": "stderr",
     "output_type": "stream",
     "text": [
      "Simulation Progress: 100%|██████████| 500000/500000 [02:32<00:00, 3269.32it/s]\n"
     ]
    },
    {
     "name": "stdout",
     "output_type": "stream",
     "text": [
      "Partition 33 completed, convergence counter: 186027\n"
     ]
    },
    {
     "name": "stderr",
     "output_type": "stream",
     "text": [
      "Simulation Progress: 100%|██████████| 500000/500000 [02:46<00:00, 3004.01it/s]\n"
     ]
    },
    {
     "name": "stdout",
     "output_type": "stream",
     "text": [
      "Partition 34 completed, convergence counter: 448009\n"
     ]
    },
    {
     "name": "stderr",
     "output_type": "stream",
     "text": [
      "Simulation Progress: 100%|██████████| 500000/500000 [02:50<00:00, 2927.22it/s]\n"
     ]
    },
    {
     "name": "stdout",
     "output_type": "stream",
     "text": [
      "Partition 35 completed, convergence counter: 717031\n"
     ]
    },
    {
     "name": "stderr",
     "output_type": "stream",
     "text": [
      "Simulation Progress: 100%|██████████| 500000/500000 [02:36<00:00, 3200.48it/s]\n"
     ]
    },
    {
     "name": "stdout",
     "output_type": "stream",
     "text": [
      "Partition 36 completed, convergence counter: 996457\n"
     ]
    },
    {
     "name": "stderr",
     "output_type": "stream",
     "text": [
      "Simulation Progress: 100%|██████████| 500000/500000 [02:41<00:00, 3086.98it/s]"
     ]
    },
    {
     "name": "stdout",
     "output_type": "stream",
     "text": [
      "Partition 37 completed, convergence counter: 1286052\n"
     ]
    },
    {
     "name": "stderr",
     "output_type": "stream",
     "text": [
      "\n"
     ]
    }
   ],
   "source": [
    "config = Config()\n",
    "config.sigma_u = 1\n",
    "\n",
    "_save_path = '/Users/moyuanchen/Documents/thesis/sim_6/data_part_0.npy'\n",
    "log, agents = simulate(config = config, T = 500000, save_path=_save_path)\n",
    "convergence_threshold = 1000000\n",
    "convergence = 0\n",
    "partitions = 1\n",
    "while convergence < convergence_threshold:\n",
    "    save_path = f'/Users/moyuanchen/Documents/thesis/sim_6/data_part_{partitions}.npy'\n",
    "    log, agents = simulate(config = config, T=500000, continue_simulation=_save_path, save_path=save_path)\n",
    "    _save_path = save_path\n",
    "    \n",
    "    convergence = log['convergence_counter']\n",
    "    print(f\"Partition {partitions} completed, convergence counter: {convergence}\")\n",
    "    partitions += 1\n",
    "\n",
    "# save config\n",
    "np.save('/Users/moyuanchen/Documents/thesis/sim_6/config.npy', config)"
   ]
  },
  {
   "cell_type": "code",
   "execution_count": 5,
   "metadata": {},
   "outputs": [
    {
     "name": "stderr",
     "output_type": "stream",
     "text": [
      "Simulation Progress: 100%|██████████| 500000/500000 [02:40<00:00, 3121.23it/s]\n",
      "Simulation Progress: 100%|██████████| 500000/500000 [03:07<00:00, 2663.45it/s]\n"
     ]
    },
    {
     "name": "stdout",
     "output_type": "stream",
     "text": [
      "Partition 1 completed, convergence counter: 1\n"
     ]
    },
    {
     "name": "stderr",
     "output_type": "stream",
     "text": [
      "Simulation Progress: 100%|██████████| 500000/500000 [02:32<00:00, 3273.45it/s]\n"
     ]
    },
    {
     "name": "stdout",
     "output_type": "stream",
     "text": [
      "Partition 2 completed, convergence counter: 21\n"
     ]
    },
    {
     "name": "stderr",
     "output_type": "stream",
     "text": [
      "Simulation Progress: 100%|██████████| 500000/500000 [02:47<00:00, 2989.52it/s]\n"
     ]
    },
    {
     "name": "stdout",
     "output_type": "stream",
     "text": [
      "Partition 3 completed, convergence counter: 257\n"
     ]
    },
    {
     "name": "stderr",
     "output_type": "stream",
     "text": [
      "Simulation Progress: 100%|██████████| 500000/500000 [02:37<00:00, 3166.81it/s]\n"
     ]
    },
    {
     "name": "stdout",
     "output_type": "stream",
     "text": [
      "Partition 4 completed, convergence counter: 247\n"
     ]
    },
    {
     "name": "stderr",
     "output_type": "stream",
     "text": [
      "Simulation Progress: 100%|██████████| 500000/500000 [02:20<00:00, 3568.38it/s]\n"
     ]
    },
    {
     "name": "stdout",
     "output_type": "stream",
     "text": [
      "Partition 5 completed, convergence counter: 17\n"
     ]
    },
    {
     "name": "stderr",
     "output_type": "stream",
     "text": [
      "Simulation Progress: 100%|██████████| 500000/500000 [02:34<00:00, 3245.07it/s]\n"
     ]
    },
    {
     "name": "stdout",
     "output_type": "stream",
     "text": [
      "Partition 6 completed, convergence counter: 99\n"
     ]
    },
    {
     "name": "stderr",
     "output_type": "stream",
     "text": [
      "Simulation Progress: 100%|██████████| 500000/500000 [02:41<00:00, 3100.70it/s]\n"
     ]
    },
    {
     "name": "stdout",
     "output_type": "stream",
     "text": [
      "Partition 7 completed, convergence counter: 433\n"
     ]
    },
    {
     "name": "stderr",
     "output_type": "stream",
     "text": [
      "Simulation Progress: 100%|██████████| 500000/500000 [02:36<00:00, 3185.36it/s]\n"
     ]
    },
    {
     "name": "stdout",
     "output_type": "stream",
     "text": [
      "Partition 8 completed, convergence counter: 80\n"
     ]
    },
    {
     "name": "stderr",
     "output_type": "stream",
     "text": [
      "Simulation Progress: 100%|██████████| 500000/500000 [02:23<00:00, 3474.37it/s]\n"
     ]
    },
    {
     "name": "stdout",
     "output_type": "stream",
     "text": [
      "Partition 9 completed, convergence counter: 325\n"
     ]
    },
    {
     "name": "stderr",
     "output_type": "stream",
     "text": [
      "Simulation Progress: 100%|██████████| 500000/500000 [02:22<00:00, 3502.30it/s]\n"
     ]
    },
    {
     "name": "stdout",
     "output_type": "stream",
     "text": [
      "Partition 10 completed, convergence counter: 659\n"
     ]
    },
    {
     "name": "stderr",
     "output_type": "stream",
     "text": [
      "Simulation Progress: 100%|██████████| 500000/500000 [02:23<00:00, 3472.52it/s]\n"
     ]
    },
    {
     "name": "stdout",
     "output_type": "stream",
     "text": [
      "Partition 11 completed, convergence counter: 1989\n"
     ]
    },
    {
     "name": "stderr",
     "output_type": "stream",
     "text": [
      "Simulation Progress: 100%|██████████| 500000/500000 [02:07<00:00, 3934.37it/s]\n"
     ]
    },
    {
     "name": "stdout",
     "output_type": "stream",
     "text": [
      "Partition 12 completed, convergence counter: 1519\n"
     ]
    },
    {
     "name": "stderr",
     "output_type": "stream",
     "text": [
      "Simulation Progress: 100%|██████████| 500000/500000 [02:17<00:00, 3648.43it/s]\n"
     ]
    },
    {
     "name": "stdout",
     "output_type": "stream",
     "text": [
      "Partition 13 completed, convergence counter: 1989\n"
     ]
    },
    {
     "name": "stderr",
     "output_type": "stream",
     "text": [
      "Simulation Progress: 100%|██████████| 500000/500000 [02:22<00:00, 3497.37it/s]\n"
     ]
    },
    {
     "name": "stdout",
     "output_type": "stream",
     "text": [
      "Partition 14 completed, convergence counter: 1475\n"
     ]
    },
    {
     "name": "stderr",
     "output_type": "stream",
     "text": [
      "Simulation Progress: 100%|██████████| 500000/500000 [02:14<00:00, 3720.34it/s]\n"
     ]
    },
    {
     "name": "stdout",
     "output_type": "stream",
     "text": [
      "Partition 15 completed, convergence counter: 263\n"
     ]
    },
    {
     "name": "stderr",
     "output_type": "stream",
     "text": [
      "Simulation Progress: 100%|██████████| 500000/500000 [02:07<00:00, 3912.11it/s]\n"
     ]
    },
    {
     "name": "stdout",
     "output_type": "stream",
     "text": [
      "Partition 16 completed, convergence counter: 46044\n"
     ]
    },
    {
     "name": "stderr",
     "output_type": "stream",
     "text": [
      "Simulation Progress: 100%|██████████| 500000/500000 [02:21<00:00, 3539.51it/s]\n"
     ]
    },
    {
     "name": "stdout",
     "output_type": "stream",
     "text": [
      "Partition 17 completed, convergence counter: 3582\n"
     ]
    },
    {
     "name": "stderr",
     "output_type": "stream",
     "text": [
      "Simulation Progress: 100%|██████████| 500000/500000 [02:18<00:00, 3611.61it/s]\n"
     ]
    },
    {
     "name": "stdout",
     "output_type": "stream",
     "text": [
      "Partition 18 completed, convergence counter: 131564\n"
     ]
    },
    {
     "name": "stderr",
     "output_type": "stream",
     "text": [
      "Simulation Progress: 100%|██████████| 500000/500000 [02:17<00:00, 3626.25it/s]\n"
     ]
    },
    {
     "name": "stdout",
     "output_type": "stream",
     "text": [
      "Partition 19 completed, convergence counter: 5131\n"
     ]
    },
    {
     "name": "stderr",
     "output_type": "stream",
     "text": [
      "Simulation Progress: 100%|██████████| 500000/500000 [02:26<00:00, 3406.74it/s]\n"
     ]
    },
    {
     "name": "stdout",
     "output_type": "stream",
     "text": [
      "Partition 20 completed, convergence counter: 8140\n"
     ]
    },
    {
     "name": "stderr",
     "output_type": "stream",
     "text": [
      "Simulation Progress: 100%|██████████| 500000/500000 [02:23<00:00, 3488.17it/s]\n"
     ]
    },
    {
     "name": "stdout",
     "output_type": "stream",
     "text": [
      "Partition 21 completed, convergence counter: 59929\n"
     ]
    },
    {
     "name": "stderr",
     "output_type": "stream",
     "text": [
      "Simulation Progress: 100%|██████████| 500000/500000 [02:29<00:00, 3345.44it/s]\n"
     ]
    },
    {
     "name": "stdout",
     "output_type": "stream",
     "text": [
      "Partition 22 completed, convergence counter: 49853\n"
     ]
    },
    {
     "name": "stderr",
     "output_type": "stream",
     "text": [
      "Simulation Progress: 100%|██████████| 500000/500000 [02:13<00:00, 3752.70it/s]\n"
     ]
    },
    {
     "name": "stdout",
     "output_type": "stream",
     "text": [
      "Partition 23 completed, convergence counter: 58269\n"
     ]
    },
    {
     "name": "stderr",
     "output_type": "stream",
     "text": [
      "Simulation Progress: 100%|██████████| 500000/500000 [02:26<00:00, 3422.91it/s]\n"
     ]
    },
    {
     "name": "stdout",
     "output_type": "stream",
     "text": [
      "Partition 24 completed, convergence counter: 23864\n"
     ]
    },
    {
     "name": "stderr",
     "output_type": "stream",
     "text": [
      "Simulation Progress: 100%|██████████| 500000/500000 [02:19<00:00, 3580.05it/s]\n"
     ]
    },
    {
     "name": "stdout",
     "output_type": "stream",
     "text": [
      "Partition 25 completed, convergence counter: 42161\n"
     ]
    },
    {
     "name": "stderr",
     "output_type": "stream",
     "text": [
      "Simulation Progress: 100%|██████████| 500000/500000 [02:27<00:00, 3391.63it/s]\n"
     ]
    },
    {
     "name": "stdout",
     "output_type": "stream",
     "text": [
      "Partition 26 completed, convergence counter: 5516\n"
     ]
    },
    {
     "name": "stderr",
     "output_type": "stream",
     "text": [
      "Simulation Progress: 100%|██████████| 500000/500000 [02:39<00:00, 3129.89it/s]\n"
     ]
    },
    {
     "name": "stdout",
     "output_type": "stream",
     "text": [
      "Partition 27 completed, convergence counter: 5234\n"
     ]
    },
    {
     "name": "stderr",
     "output_type": "stream",
     "text": [
      "Simulation Progress: 100%|██████████| 500000/500000 [02:30<00:00, 3325.28it/s]\n"
     ]
    },
    {
     "name": "stdout",
     "output_type": "stream",
     "text": [
      "Partition 28 completed, convergence counter: 111917\n"
     ]
    },
    {
     "name": "stderr",
     "output_type": "stream",
     "text": [
      "Simulation Progress: 100%|██████████| 500000/500000 [02:48<00:00, 2959.83it/s]\n"
     ]
    },
    {
     "name": "stdout",
     "output_type": "stream",
     "text": [
      "Partition 29 completed, convergence counter: 9069\n"
     ]
    },
    {
     "name": "stderr",
     "output_type": "stream",
     "text": [
      "Simulation Progress: 100%|██████████| 500000/500000 [02:29<00:00, 3342.13it/s]\n"
     ]
    },
    {
     "name": "stdout",
     "output_type": "stream",
     "text": [
      "Partition 30 completed, convergence counter: 66070\n"
     ]
    },
    {
     "name": "stderr",
     "output_type": "stream",
     "text": [
      "Simulation Progress: 100%|██████████| 500000/500000 [02:37<00:00, 3179.39it/s]\n"
     ]
    },
    {
     "name": "stdout",
     "output_type": "stream",
     "text": [
      "Partition 31 completed, convergence counter: 20644\n"
     ]
    },
    {
     "name": "stderr",
     "output_type": "stream",
     "text": [
      "Simulation Progress: 100%|██████████| 500000/500000 [02:35<00:00, 3218.70it/s]\n"
     ]
    },
    {
     "name": "stdout",
     "output_type": "stream",
     "text": [
      "Partition 32 completed, convergence counter: 6593\n"
     ]
    },
    {
     "name": "stderr",
     "output_type": "stream",
     "text": [
      "Simulation Progress: 100%|██████████| 500000/500000 [02:28<00:00, 3370.36it/s]\n"
     ]
    },
    {
     "name": "stdout",
     "output_type": "stream",
     "text": [
      "Partition 33 completed, convergence counter: 67868\n"
     ]
    },
    {
     "name": "stderr",
     "output_type": "stream",
     "text": [
      "Simulation Progress: 100%|██████████| 500000/500000 [02:27<00:00, 3381.08it/s]\n"
     ]
    },
    {
     "name": "stdout",
     "output_type": "stream",
     "text": [
      "Partition 34 completed, convergence counter: 46749\n"
     ]
    },
    {
     "name": "stderr",
     "output_type": "stream",
     "text": [
      "Simulation Progress: 100%|██████████| 500000/500000 [02:29<00:00, 3335.87it/s]\n"
     ]
    },
    {
     "name": "stdout",
     "output_type": "stream",
     "text": [
      "Partition 35 completed, convergence counter: 6108\n"
     ]
    },
    {
     "name": "stderr",
     "output_type": "stream",
     "text": [
      "Simulation Progress: 100%|██████████| 500000/500000 [02:06<00:00, 3941.60it/s]\n"
     ]
    },
    {
     "name": "stdout",
     "output_type": "stream",
     "text": [
      "Partition 36 completed, convergence counter: 217471\n"
     ]
    },
    {
     "name": "stderr",
     "output_type": "stream",
     "text": [
      "Simulation Progress: 100%|██████████| 500000/500000 [02:44<00:00, 3039.16it/s]\n"
     ]
    },
    {
     "name": "stdout",
     "output_type": "stream",
     "text": [
      "Partition 37 completed, convergence counter: 15463\n"
     ]
    },
    {
     "name": "stderr",
     "output_type": "stream",
     "text": [
      "Simulation Progress: 100%|██████████| 500000/500000 [02:36<00:00, 3194.25it/s]\n"
     ]
    },
    {
     "name": "stdout",
     "output_type": "stream",
     "text": [
      "Partition 38 completed, convergence counter: 292256\n"
     ]
    },
    {
     "name": "stderr",
     "output_type": "stream",
     "text": [
      "Simulation Progress: 100%|██████████| 500000/500000 [02:49<00:00, 2950.63it/s]\n"
     ]
    },
    {
     "name": "stdout",
     "output_type": "stream",
     "text": [
      "Partition 39 completed, convergence counter: 575357\n"
     ]
    },
    {
     "name": "stderr",
     "output_type": "stream",
     "text": [
      "Simulation Progress: 100%|██████████| 500000/500000 [02:42<00:00, 3075.22it/s]\n"
     ]
    },
    {
     "name": "stdout",
     "output_type": "stream",
     "text": [
      "Partition 40 completed, convergence counter: 864369\n"
     ]
    },
    {
     "name": "stderr",
     "output_type": "stream",
     "text": [
      "Simulation Progress: 100%|██████████| 500000/500000 [02:21<00:00, 3545.05it/s]"
     ]
    },
    {
     "name": "stdout",
     "output_type": "stream",
     "text": [
      "Partition 41 completed, convergence counter: 1160388\n"
     ]
    },
    {
     "name": "stderr",
     "output_type": "stream",
     "text": [
      "\n"
     ]
    }
   ],
   "source": [
    "config = Config()\n",
    "config.sigma_u = 10\n",
    "\n",
    "_save_path = '/Users/moyuanchen/Documents/thesis/sim_7/data_part_0.npy'\n",
    "log, agents = simulate(config = config, T = 500000, save_path=_save_path)\n",
    "convergence_threshold = 1000000\n",
    "convergence = 0\n",
    "partitions = 1\n",
    "while convergence < convergence_threshold:\n",
    "    save_path = f'/Users/moyuanchen/Documents/thesis/sim_7/data_part_{partitions}.npy'\n",
    "    log, agents = simulate(config = config, T=500000, continue_simulation=_save_path, save_path=save_path)\n",
    "    _save_path = save_path\n",
    "    \n",
    "    convergence = log['convergence_counter']\n",
    "    print(f\"Partition {partitions} completed, convergence counter: {convergence}\")\n",
    "    partitions += 1\n",
    "\n",
    "# save config\n",
    "np.save('/Users/moyuanchen/Documents/thesis/sim_7/config.npy', config)"
   ]
  },
  {
   "cell_type": "code",
   "execution_count": 6,
   "metadata": {},
   "outputs": [
    {
     "name": "stderr",
     "output_type": "stream",
     "text": [
      "Simulation Progress: 100%|██████████| 500000/500000 [01:56<00:00, 4283.38it/s]\n",
      "Simulation Progress: 100%|██████████| 500000/500000 [02:07<00:00, 3927.63it/s]\n"
     ]
    },
    {
     "name": "stdout",
     "output_type": "stream",
     "text": [
      "Partition 1 completed, convergence counter: 17\n"
     ]
    },
    {
     "name": "stderr",
     "output_type": "stream",
     "text": [
      "Simulation Progress: 100%|██████████| 500000/500000 [02:10<00:00, 3840.22it/s]\n"
     ]
    },
    {
     "name": "stdout",
     "output_type": "stream",
     "text": [
      "Partition 2 completed, convergence counter: 7\n"
     ]
    },
    {
     "name": "stderr",
     "output_type": "stream",
     "text": [
      "Simulation Progress: 100%|██████████| 500000/500000 [02:11<00:00, 3814.52it/s]\n"
     ]
    },
    {
     "name": "stdout",
     "output_type": "stream",
     "text": [
      "Partition 3 completed, convergence counter: 1\n"
     ]
    },
    {
     "name": "stderr",
     "output_type": "stream",
     "text": [
      "Simulation Progress: 100%|██████████| 500000/500000 [02:22<00:00, 3506.66it/s]\n"
     ]
    },
    {
     "name": "stdout",
     "output_type": "stream",
     "text": [
      "Partition 4 completed, convergence counter: 98\n"
     ]
    },
    {
     "name": "stderr",
     "output_type": "stream",
     "text": [
      "Simulation Progress: 100%|██████████| 500000/500000 [02:07<00:00, 3927.85it/s]\n"
     ]
    },
    {
     "name": "stdout",
     "output_type": "stream",
     "text": [
      "Partition 5 completed, convergence counter: 22\n"
     ]
    },
    {
     "name": "stderr",
     "output_type": "stream",
     "text": [
      "Simulation Progress: 100%|██████████| 500000/500000 [02:10<00:00, 3837.17it/s]\n"
     ]
    },
    {
     "name": "stdout",
     "output_type": "stream",
     "text": [
      "Partition 6 completed, convergence counter: 86\n"
     ]
    },
    {
     "name": "stderr",
     "output_type": "stream",
     "text": [
      "Simulation Progress: 100%|██████████| 500000/500000 [02:19<00:00, 3589.95it/s]\n"
     ]
    },
    {
     "name": "stdout",
     "output_type": "stream",
     "text": [
      "Partition 7 completed, convergence counter: 22\n"
     ]
    },
    {
     "name": "stderr",
     "output_type": "stream",
     "text": [
      "Simulation Progress: 100%|██████████| 500000/500000 [02:19<00:00, 3589.21it/s]\n"
     ]
    },
    {
     "name": "stdout",
     "output_type": "stream",
     "text": [
      "Partition 8 completed, convergence counter: 64\n"
     ]
    },
    {
     "name": "stderr",
     "output_type": "stream",
     "text": [
      "Simulation Progress: 100%|██████████| 500000/500000 [02:27<00:00, 3381.95it/s]\n"
     ]
    },
    {
     "name": "stdout",
     "output_type": "stream",
     "text": [
      "Partition 9 completed, convergence counter: 216\n"
     ]
    },
    {
     "name": "stderr",
     "output_type": "stream",
     "text": [
      "Simulation Progress: 100%|██████████| 500000/500000 [02:34<00:00, 3241.10it/s]\n"
     ]
    },
    {
     "name": "stdout",
     "output_type": "stream",
     "text": [
      "Partition 10 completed, convergence counter: 2\n"
     ]
    },
    {
     "name": "stderr",
     "output_type": "stream",
     "text": [
      "Simulation Progress: 100%|██████████| 500000/500000 [02:42<00:00, 3072.10it/s]\n"
     ]
    },
    {
     "name": "stdout",
     "output_type": "stream",
     "text": [
      "Partition 11 completed, convergence counter: 52\n"
     ]
    },
    {
     "name": "stderr",
     "output_type": "stream",
     "text": [
      "Simulation Progress: 100%|██████████| 500000/500000 [02:34<00:00, 3233.64it/s]\n"
     ]
    },
    {
     "name": "stdout",
     "output_type": "stream",
     "text": [
      "Partition 12 completed, convergence counter: 67\n"
     ]
    },
    {
     "name": "stderr",
     "output_type": "stream",
     "text": [
      "Simulation Progress: 100%|██████████| 500000/500000 [02:35<00:00, 3206.01it/s]\n"
     ]
    },
    {
     "name": "stdout",
     "output_type": "stream",
     "text": [
      "Partition 13 completed, convergence counter: 143\n"
     ]
    },
    {
     "name": "stderr",
     "output_type": "stream",
     "text": [
      "Simulation Progress: 100%|██████████| 500000/500000 [02:17<00:00, 3639.67it/s]\n"
     ]
    },
    {
     "name": "stdout",
     "output_type": "stream",
     "text": [
      "Partition 14 completed, convergence counter: 280\n"
     ]
    },
    {
     "name": "stderr",
     "output_type": "stream",
     "text": [
      "Simulation Progress: 100%|██████████| 500000/500000 [02:34<00:00, 3240.48it/s]\n"
     ]
    },
    {
     "name": "stdout",
     "output_type": "stream",
     "text": [
      "Partition 15 completed, convergence counter: 44\n"
     ]
    },
    {
     "name": "stderr",
     "output_type": "stream",
     "text": [
      "Simulation Progress: 100%|██████████| 500000/500000 [02:46<00:00, 2996.90it/s]\n"
     ]
    },
    {
     "name": "stdout",
     "output_type": "stream",
     "text": [
      "Partition 16 completed, convergence counter: 279\n"
     ]
    },
    {
     "name": "stderr",
     "output_type": "stream",
     "text": [
      "Simulation Progress: 100%|██████████| 500000/500000 [02:46<00:00, 3011.37it/s]\n"
     ]
    },
    {
     "name": "stdout",
     "output_type": "stream",
     "text": [
      "Partition 17 completed, convergence counter: 1\n"
     ]
    },
    {
     "name": "stderr",
     "output_type": "stream",
     "text": [
      "Simulation Progress: 100%|██████████| 500000/500000 [02:35<00:00, 3221.92it/s]\n"
     ]
    },
    {
     "name": "stdout",
     "output_type": "stream",
     "text": [
      "Partition 18 completed, convergence counter: 421\n"
     ]
    },
    {
     "name": "stderr",
     "output_type": "stream",
     "text": [
      "Simulation Progress: 100%|██████████| 500000/500000 [02:30<00:00, 3312.58it/s]\n"
     ]
    },
    {
     "name": "stdout",
     "output_type": "stream",
     "text": [
      "Partition 19 completed, convergence counter: 324\n"
     ]
    },
    {
     "name": "stderr",
     "output_type": "stream",
     "text": [
      "Simulation Progress: 100%|██████████| 500000/500000 [02:29<00:00, 3343.18it/s]\n"
     ]
    },
    {
     "name": "stdout",
     "output_type": "stream",
     "text": [
      "Partition 20 completed, convergence counter: 235\n"
     ]
    },
    {
     "name": "stderr",
     "output_type": "stream",
     "text": [
      "Simulation Progress: 100%|██████████| 500000/500000 [02:23<00:00, 3490.12it/s]\n"
     ]
    },
    {
     "name": "stdout",
     "output_type": "stream",
     "text": [
      "Partition 21 completed, convergence counter: 136\n"
     ]
    },
    {
     "name": "stderr",
     "output_type": "stream",
     "text": [
      "Simulation Progress: 100%|██████████| 500000/500000 [02:42<00:00, 3086.27it/s]\n"
     ]
    },
    {
     "name": "stdout",
     "output_type": "stream",
     "text": [
      "Partition 22 completed, convergence counter: 108\n"
     ]
    },
    {
     "name": "stderr",
     "output_type": "stream",
     "text": [
      "Simulation Progress: 100%|██████████| 500000/500000 [02:18<00:00, 3612.20it/s]\n"
     ]
    },
    {
     "name": "stdout",
     "output_type": "stream",
     "text": [
      "Partition 23 completed, convergence counter: 62\n"
     ]
    },
    {
     "name": "stderr",
     "output_type": "stream",
     "text": [
      "Simulation Progress: 100%|██████████| 500000/500000 [02:31<00:00, 3299.75it/s]\n"
     ]
    },
    {
     "name": "stdout",
     "output_type": "stream",
     "text": [
      "Partition 24 completed, convergence counter: 327\n"
     ]
    },
    {
     "name": "stderr",
     "output_type": "stream",
     "text": [
      "Simulation Progress: 100%|██████████| 500000/500000 [02:47<00:00, 2982.28it/s]\n"
     ]
    },
    {
     "name": "stdout",
     "output_type": "stream",
     "text": [
      "Partition 25 completed, convergence counter: 817\n"
     ]
    },
    {
     "name": "stderr",
     "output_type": "stream",
     "text": [
      "Simulation Progress: 100%|██████████| 500000/500000 [02:42<00:00, 3072.95it/s]\n"
     ]
    },
    {
     "name": "stdout",
     "output_type": "stream",
     "text": [
      "Partition 26 completed, convergence counter: 118\n"
     ]
    },
    {
     "name": "stderr",
     "output_type": "stream",
     "text": [
      "Simulation Progress: 100%|██████████| 500000/500000 [02:41<00:00, 3105.19it/s]\n"
     ]
    },
    {
     "name": "stdout",
     "output_type": "stream",
     "text": [
      "Partition 27 completed, convergence counter: 30\n"
     ]
    },
    {
     "name": "stderr",
     "output_type": "stream",
     "text": [
      "Simulation Progress: 100%|██████████| 500000/500000 [02:33<00:00, 3254.97it/s]\n"
     ]
    },
    {
     "name": "stdout",
     "output_type": "stream",
     "text": [
      "Partition 28 completed, convergence counter: 270\n"
     ]
    },
    {
     "name": "stderr",
     "output_type": "stream",
     "text": [
      "Simulation Progress: 100%|██████████| 500000/500000 [02:39<00:00, 3144.09it/s]\n"
     ]
    },
    {
     "name": "stdout",
     "output_type": "stream",
     "text": [
      "Partition 29 completed, convergence counter: 81\n"
     ]
    },
    {
     "name": "stderr",
     "output_type": "stream",
     "text": [
      "Simulation Progress: 100%|██████████| 500000/500000 [02:34<00:00, 3236.26it/s]\n"
     ]
    },
    {
     "name": "stdout",
     "output_type": "stream",
     "text": [
      "Partition 30 completed, convergence counter: 734\n"
     ]
    },
    {
     "name": "stderr",
     "output_type": "stream",
     "text": [
      "Simulation Progress: 100%|██████████| 500000/500000 [02:47<00:00, 2978.42it/s]\n"
     ]
    },
    {
     "name": "stdout",
     "output_type": "stream",
     "text": [
      "Partition 31 completed, convergence counter: 136\n"
     ]
    },
    {
     "name": "stderr",
     "output_type": "stream",
     "text": [
      "Simulation Progress: 100%|██████████| 500000/500000 [02:44<00:00, 3037.07it/s]\n"
     ]
    },
    {
     "name": "stdout",
     "output_type": "stream",
     "text": [
      "Partition 32 completed, convergence counter: 105\n"
     ]
    },
    {
     "name": "stderr",
     "output_type": "stream",
     "text": [
      "Simulation Progress: 100%|██████████| 500000/500000 [02:44<00:00, 3032.68it/s]\n"
     ]
    },
    {
     "name": "stdout",
     "output_type": "stream",
     "text": [
      "Partition 33 completed, convergence counter: 344\n"
     ]
    },
    {
     "name": "stderr",
     "output_type": "stream",
     "text": [
      "Simulation Progress: 100%|██████████| 500000/500000 [02:53<00:00, 2883.43it/s]\n"
     ]
    },
    {
     "name": "stdout",
     "output_type": "stream",
     "text": [
      "Partition 34 completed, convergence counter: 412\n"
     ]
    },
    {
     "name": "stderr",
     "output_type": "stream",
     "text": [
      "Simulation Progress: 100%|██████████| 500000/500000 [02:42<00:00, 3067.74it/s]\n"
     ]
    },
    {
     "name": "stdout",
     "output_type": "stream",
     "text": [
      "Partition 35 completed, convergence counter: 59\n"
     ]
    },
    {
     "name": "stderr",
     "output_type": "stream",
     "text": [
      "Simulation Progress: 100%|██████████| 500000/500000 [02:40<00:00, 3114.00it/s]\n"
     ]
    },
    {
     "name": "stdout",
     "output_type": "stream",
     "text": [
      "Partition 36 completed, convergence counter: 24\n"
     ]
    },
    {
     "name": "stderr",
     "output_type": "stream",
     "text": [
      "Simulation Progress: 100%|██████████| 500000/500000 [02:29<00:00, 3338.64it/s]\n"
     ]
    },
    {
     "name": "stdout",
     "output_type": "stream",
     "text": [
      "Partition 37 completed, convergence counter: 160\n"
     ]
    },
    {
     "name": "stderr",
     "output_type": "stream",
     "text": [
      "Simulation Progress: 100%|██████████| 500000/500000 [02:54<00:00, 2869.87it/s]\n"
     ]
    },
    {
     "name": "stdout",
     "output_type": "stream",
     "text": [
      "Partition 38 completed, convergence counter: 160\n"
     ]
    },
    {
     "name": "stderr",
     "output_type": "stream",
     "text": [
      "Simulation Progress: 100%|██████████| 500000/500000 [02:46<00:00, 2994.69it/s]\n"
     ]
    },
    {
     "name": "stdout",
     "output_type": "stream",
     "text": [
      "Partition 39 completed, convergence counter: 98\n"
     ]
    },
    {
     "name": "stderr",
     "output_type": "stream",
     "text": [
      "Simulation Progress: 100%|██████████| 500000/500000 [02:21<00:00, 3525.36it/s]\n"
     ]
    },
    {
     "name": "stdout",
     "output_type": "stream",
     "text": [
      "Partition 40 completed, convergence counter: 104\n"
     ]
    },
    {
     "name": "stderr",
     "output_type": "stream",
     "text": [
      "Simulation Progress: 100%|██████████| 500000/500000 [02:26<00:00, 3405.53it/s]\n"
     ]
    },
    {
     "name": "stdout",
     "output_type": "stream",
     "text": [
      "Partition 41 completed, convergence counter: 173\n"
     ]
    },
    {
     "name": "stderr",
     "output_type": "stream",
     "text": [
      "Simulation Progress: 100%|██████████| 500000/500000 [02:29<00:00, 3341.86it/s]\n"
     ]
    },
    {
     "name": "stdout",
     "output_type": "stream",
     "text": [
      "Partition 42 completed, convergence counter: 16\n"
     ]
    },
    {
     "name": "stderr",
     "output_type": "stream",
     "text": [
      "Simulation Progress: 100%|██████████| 500000/500000 [02:26<00:00, 3411.14it/s]\n"
     ]
    },
    {
     "name": "stdout",
     "output_type": "stream",
     "text": [
      "Partition 43 completed, convergence counter: 6\n"
     ]
    },
    {
     "name": "stderr",
     "output_type": "stream",
     "text": [
      "Simulation Progress: 100%|██████████| 500000/500000 [02:27<00:00, 3385.31it/s]\n"
     ]
    },
    {
     "name": "stdout",
     "output_type": "stream",
     "text": [
      "Partition 44 completed, convergence counter: 161\n"
     ]
    },
    {
     "name": "stderr",
     "output_type": "stream",
     "text": [
      "Simulation Progress: 100%|██████████| 500000/500000 [02:23<00:00, 3477.12it/s]\n"
     ]
    },
    {
     "name": "stdout",
     "output_type": "stream",
     "text": [
      "Partition 45 completed, convergence counter: 197\n"
     ]
    },
    {
     "name": "stderr",
     "output_type": "stream",
     "text": [
      "Simulation Progress: 100%|██████████| 500000/500000 [02:03<00:00, 4042.39it/s]\n"
     ]
    },
    {
     "name": "stdout",
     "output_type": "stream",
     "text": [
      "Partition 46 completed, convergence counter: 167\n"
     ]
    },
    {
     "name": "stderr",
     "output_type": "stream",
     "text": [
      "Simulation Progress: 100%|██████████| 500000/500000 [02:15<00:00, 3700.80it/s]\n"
     ]
    },
    {
     "name": "stdout",
     "output_type": "stream",
     "text": [
      "Partition 47 completed, convergence counter: 71\n"
     ]
    },
    {
     "name": "stderr",
     "output_type": "stream",
     "text": [
      "Simulation Progress: 100%|██████████| 500000/500000 [02:16<00:00, 3657.14it/s]\n"
     ]
    },
    {
     "name": "stdout",
     "output_type": "stream",
     "text": [
      "Partition 48 completed, convergence counter: 612\n"
     ]
    },
    {
     "name": "stderr",
     "output_type": "stream",
     "text": [
      "Simulation Progress: 100%|██████████| 500000/500000 [02:24<00:00, 3458.38it/s]\n"
     ]
    },
    {
     "name": "stdout",
     "output_type": "stream",
     "text": [
      "Partition 49 completed, convergence counter: 88\n"
     ]
    },
    {
     "name": "stderr",
     "output_type": "stream",
     "text": [
      "Simulation Progress: 100%|██████████| 500000/500000 [02:23<00:00, 3473.39it/s]\n"
     ]
    },
    {
     "name": "stdout",
     "output_type": "stream",
     "text": [
      "Partition 50 completed, convergence counter: 545\n"
     ]
    },
    {
     "name": "stderr",
     "output_type": "stream",
     "text": [
      "Simulation Progress: 100%|██████████| 500000/500000 [02:00<00:00, 4141.69it/s]\n"
     ]
    },
    {
     "name": "stdout",
     "output_type": "stream",
     "text": [
      "Partition 51 completed, convergence counter: 99\n"
     ]
    },
    {
     "name": "stderr",
     "output_type": "stream",
     "text": [
      "Simulation Progress: 100%|██████████| 500000/500000 [02:17<00:00, 3646.48it/s]\n"
     ]
    },
    {
     "name": "stdout",
     "output_type": "stream",
     "text": [
      "Partition 52 completed, convergence counter: 117\n"
     ]
    },
    {
     "name": "stderr",
     "output_type": "stream",
     "text": [
      "Simulation Progress: 100%|██████████| 500000/500000 [02:22<00:00, 3519.20it/s]\n"
     ]
    },
    {
     "name": "stdout",
     "output_type": "stream",
     "text": [
      "Partition 53 completed, convergence counter: 41\n"
     ]
    },
    {
     "name": "stderr",
     "output_type": "stream",
     "text": [
      "Simulation Progress: 100%|██████████| 500000/500000 [02:10<00:00, 3829.50it/s]\n"
     ]
    },
    {
     "name": "stdout",
     "output_type": "stream",
     "text": [
      "Partition 54 completed, convergence counter: 0\n"
     ]
    },
    {
     "name": "stderr",
     "output_type": "stream",
     "text": [
      "Simulation Progress: 100%|██████████| 500000/500000 [02:09<00:00, 3857.42it/s]\n"
     ]
    },
    {
     "name": "stdout",
     "output_type": "stream",
     "text": [
      "Partition 55 completed, convergence counter: 1802\n"
     ]
    },
    {
     "name": "stderr",
     "output_type": "stream",
     "text": [
      "Simulation Progress: 100%|██████████| 500000/500000 [02:19<00:00, 3574.29it/s]\n"
     ]
    },
    {
     "name": "stdout",
     "output_type": "stream",
     "text": [
      "Partition 56 completed, convergence counter: 23\n"
     ]
    },
    {
     "name": "stderr",
     "output_type": "stream",
     "text": [
      "Simulation Progress: 100%|██████████| 500000/500000 [02:17<00:00, 3634.94it/s]\n"
     ]
    },
    {
     "name": "stdout",
     "output_type": "stream",
     "text": [
      "Partition 57 completed, convergence counter: 177\n"
     ]
    },
    {
     "name": "stderr",
     "output_type": "stream",
     "text": [
      "Simulation Progress: 100%|██████████| 500000/500000 [02:29<00:00, 3341.87it/s]\n"
     ]
    },
    {
     "name": "stdout",
     "output_type": "stream",
     "text": [
      "Partition 58 completed, convergence counter: 37\n"
     ]
    },
    {
     "name": "stderr",
     "output_type": "stream",
     "text": [
      "Simulation Progress: 100%|██████████| 500000/500000 [02:18<00:00, 3610.20it/s]\n"
     ]
    },
    {
     "name": "stdout",
     "output_type": "stream",
     "text": [
      "Partition 59 completed, convergence counter: 191\n"
     ]
    },
    {
     "name": "stderr",
     "output_type": "stream",
     "text": [
      "Simulation Progress: 100%|██████████| 500000/500000 [02:08<00:00, 3884.94it/s]\n"
     ]
    },
    {
     "name": "stdout",
     "output_type": "stream",
     "text": [
      "Partition 60 completed, convergence counter: 168\n"
     ]
    },
    {
     "name": "stderr",
     "output_type": "stream",
     "text": [
      "Simulation Progress: 100%|██████████| 500000/500000 [02:27<00:00, 3397.71it/s]\n"
     ]
    },
    {
     "name": "stdout",
     "output_type": "stream",
     "text": [
      "Partition 61 completed, convergence counter: 67\n"
     ]
    },
    {
     "name": "stderr",
     "output_type": "stream",
     "text": [
      "Simulation Progress: 100%|██████████| 500000/500000 [02:25<00:00, 3425.54it/s]\n"
     ]
    },
    {
     "name": "stdout",
     "output_type": "stream",
     "text": [
      "Partition 62 completed, convergence counter: 307\n"
     ]
    },
    {
     "name": "stderr",
     "output_type": "stream",
     "text": [
      "Simulation Progress: 100%|██████████| 500000/500000 [02:26<00:00, 3408.43it/s]\n"
     ]
    },
    {
     "name": "stdout",
     "output_type": "stream",
     "text": [
      "Partition 63 completed, convergence counter: 544\n"
     ]
    },
    {
     "name": "stderr",
     "output_type": "stream",
     "text": [
      "Simulation Progress: 100%|██████████| 500000/500000 [02:20<00:00, 3547.33it/s]\n"
     ]
    },
    {
     "name": "stdout",
     "output_type": "stream",
     "text": [
      "Partition 64 completed, convergence counter: 351\n"
     ]
    },
    {
     "name": "stderr",
     "output_type": "stream",
     "text": [
      "Simulation Progress: 100%|██████████| 500000/500000 [02:15<00:00, 3699.01it/s]\n"
     ]
    },
    {
     "name": "stdout",
     "output_type": "stream",
     "text": [
      "Partition 65 completed, convergence counter: 1152\n"
     ]
    },
    {
     "name": "stderr",
     "output_type": "stream",
     "text": [
      "Simulation Progress: 100%|██████████| 500000/500000 [02:26<00:00, 3406.84it/s]\n"
     ]
    },
    {
     "name": "stdout",
     "output_type": "stream",
     "text": [
      "Partition 66 completed, convergence counter: 101\n"
     ]
    },
    {
     "name": "stderr",
     "output_type": "stream",
     "text": [
      "Simulation Progress: 100%|██████████| 500000/500000 [02:14<00:00, 3717.43it/s]\n"
     ]
    },
    {
     "name": "stdout",
     "output_type": "stream",
     "text": [
      "Partition 67 completed, convergence counter: 273\n"
     ]
    },
    {
     "name": "stderr",
     "output_type": "stream",
     "text": [
      "Simulation Progress: 100%|██████████| 500000/500000 [02:15<00:00, 3702.78it/s]\n"
     ]
    },
    {
     "name": "stdout",
     "output_type": "stream",
     "text": [
      "Partition 68 completed, convergence counter: 398\n"
     ]
    },
    {
     "name": "stderr",
     "output_type": "stream",
     "text": [
      "Simulation Progress: 100%|██████████| 500000/500000 [02:11<00:00, 3790.88it/s]\n"
     ]
    },
    {
     "name": "stdout",
     "output_type": "stream",
     "text": [
      "Partition 69 completed, convergence counter: 206\n"
     ]
    },
    {
     "name": "stderr",
     "output_type": "stream",
     "text": [
      "Simulation Progress: 100%|██████████| 500000/500000 [02:11<00:00, 3798.18it/s]\n"
     ]
    },
    {
     "name": "stdout",
     "output_type": "stream",
     "text": [
      "Partition 70 completed, convergence counter: 386\n"
     ]
    },
    {
     "name": "stderr",
     "output_type": "stream",
     "text": [
      "Simulation Progress: 100%|██████████| 500000/500000 [02:22<00:00, 3517.56it/s]\n"
     ]
    },
    {
     "name": "stdout",
     "output_type": "stream",
     "text": [
      "Partition 71 completed, convergence counter: 322\n"
     ]
    },
    {
     "name": "stderr",
     "output_type": "stream",
     "text": [
      "Simulation Progress: 100%|██████████| 500000/500000 [02:15<00:00, 3700.85it/s]\n"
     ]
    },
    {
     "name": "stdout",
     "output_type": "stream",
     "text": [
      "Partition 72 completed, convergence counter: 41\n"
     ]
    },
    {
     "name": "stderr",
     "output_type": "stream",
     "text": [
      "Simulation Progress: 100%|██████████| 500000/500000 [02:13<00:00, 3738.20it/s]\n"
     ]
    },
    {
     "name": "stdout",
     "output_type": "stream",
     "text": [
      "Partition 73 completed, convergence counter: 732\n"
     ]
    },
    {
     "name": "stderr",
     "output_type": "stream",
     "text": [
      "Simulation Progress: 100%|██████████| 500000/500000 [02:15<00:00, 3677.74it/s]\n"
     ]
    },
    {
     "name": "stdout",
     "output_type": "stream",
     "text": [
      "Partition 74 completed, convergence counter: 19\n"
     ]
    },
    {
     "name": "stderr",
     "output_type": "stream",
     "text": [
      "Simulation Progress: 100%|██████████| 500000/500000 [02:37<00:00, 3184.21it/s]\n"
     ]
    },
    {
     "name": "stdout",
     "output_type": "stream",
     "text": [
      "Partition 75 completed, convergence counter: 2168\n"
     ]
    },
    {
     "name": "stderr",
     "output_type": "stream",
     "text": [
      "Simulation Progress: 100%|██████████| 500000/500000 [02:30<00:00, 3316.88it/s]\n"
     ]
    },
    {
     "name": "stdout",
     "output_type": "stream",
     "text": [
      "Partition 76 completed, convergence counter: 2721\n"
     ]
    },
    {
     "name": "stderr",
     "output_type": "stream",
     "text": [
      "Simulation Progress: 100%|██████████| 500000/500000 [02:14<00:00, 3724.15it/s]\n"
     ]
    },
    {
     "name": "stdout",
     "output_type": "stream",
     "text": [
      "Partition 77 completed, convergence counter: 2732\n"
     ]
    },
    {
     "name": "stderr",
     "output_type": "stream",
     "text": [
      "Simulation Progress: 100%|██████████| 500000/500000 [02:29<00:00, 3351.05it/s]\n"
     ]
    },
    {
     "name": "stdout",
     "output_type": "stream",
     "text": [
      "Partition 78 completed, convergence counter: 592\n"
     ]
    },
    {
     "name": "stderr",
     "output_type": "stream",
     "text": [
      "Simulation Progress: 100%|██████████| 500000/500000 [02:36<00:00, 3187.10it/s]\n"
     ]
    },
    {
     "name": "stdout",
     "output_type": "stream",
     "text": [
      "Partition 79 completed, convergence counter: 58\n"
     ]
    },
    {
     "name": "stderr",
     "output_type": "stream",
     "text": [
      "Simulation Progress: 100%|██████████| 500000/500000 [02:21<00:00, 3535.47it/s]\n"
     ]
    },
    {
     "name": "stdout",
     "output_type": "stream",
     "text": [
      "Partition 80 completed, convergence counter: 135\n"
     ]
    },
    {
     "name": "stderr",
     "output_type": "stream",
     "text": [
      "Simulation Progress: 100%|██████████| 500000/500000 [02:11<00:00, 3809.74it/s]\n"
     ]
    },
    {
     "name": "stdout",
     "output_type": "stream",
     "text": [
      "Partition 81 completed, convergence counter: 97\n"
     ]
    },
    {
     "name": "stderr",
     "output_type": "stream",
     "text": [
      "Simulation Progress: 100%|██████████| 500000/500000 [02:19<00:00, 3587.90it/s]\n"
     ]
    },
    {
     "name": "stdout",
     "output_type": "stream",
     "text": [
      "Partition 82 completed, convergence counter: 207\n"
     ]
    },
    {
     "name": "stderr",
     "output_type": "stream",
     "text": [
      "Simulation Progress: 100%|██████████| 500000/500000 [02:12<00:00, 3761.68it/s]\n"
     ]
    },
    {
     "name": "stdout",
     "output_type": "stream",
     "text": [
      "Partition 83 completed, convergence counter: 108\n"
     ]
    },
    {
     "name": "stderr",
     "output_type": "stream",
     "text": [
      "Simulation Progress: 100%|██████████| 500000/500000 [02:26<00:00, 3412.22it/s]\n"
     ]
    },
    {
     "name": "stdout",
     "output_type": "stream",
     "text": [
      "Partition 84 completed, convergence counter: 15\n"
     ]
    },
    {
     "name": "stderr",
     "output_type": "stream",
     "text": [
      "Simulation Progress: 100%|██████████| 500000/500000 [02:31<00:00, 3294.76it/s]\n"
     ]
    },
    {
     "name": "stdout",
     "output_type": "stream",
     "text": [
      "Partition 85 completed, convergence counter: 468\n"
     ]
    },
    {
     "name": "stderr",
     "output_type": "stream",
     "text": [
      "Simulation Progress: 100%|██████████| 500000/500000 [07:57<00:00, 1047.26it/s]\n"
     ]
    },
    {
     "name": "stdout",
     "output_type": "stream",
     "text": [
      "Partition 86 completed, convergence counter: 1051\n"
     ]
    },
    {
     "name": "stderr",
     "output_type": "stream",
     "text": [
      "Simulation Progress: 100%|██████████| 500000/500000 [08:10<00:00, 1019.16it/s]\n"
     ]
    },
    {
     "name": "stdout",
     "output_type": "stream",
     "text": [
      "Partition 87 completed, convergence counter: 64\n"
     ]
    },
    {
     "name": "stderr",
     "output_type": "stream",
     "text": [
      "Simulation Progress: 100%|██████████| 500000/500000 [05:51<00:00, 1423.47it/s]\n"
     ]
    },
    {
     "name": "stdout",
     "output_type": "stream",
     "text": [
      "Partition 88 completed, convergence counter: 1962\n"
     ]
    },
    {
     "name": "stderr",
     "output_type": "stream",
     "text": [
      "Simulation Progress: 100%|██████████| 500000/500000 [02:12<00:00, 3777.07it/s]\n"
     ]
    },
    {
     "name": "stdout",
     "output_type": "stream",
     "text": [
      "Partition 89 completed, convergence counter: 267\n"
     ]
    },
    {
     "name": "stderr",
     "output_type": "stream",
     "text": [
      "Simulation Progress: 100%|██████████| 500000/500000 [02:14<00:00, 3730.50it/s]\n"
     ]
    },
    {
     "name": "stdout",
     "output_type": "stream",
     "text": [
      "Partition 90 completed, convergence counter: 148\n"
     ]
    },
    {
     "name": "stderr",
     "output_type": "stream",
     "text": [
      "Simulation Progress: 100%|██████████| 500000/500000 [02:11<00:00, 3797.00it/s]\n"
     ]
    },
    {
     "name": "stdout",
     "output_type": "stream",
     "text": [
      "Partition 91 completed, convergence counter: 3880\n"
     ]
    },
    {
     "name": "stderr",
     "output_type": "stream",
     "text": [
      "Simulation Progress: 100%|██████████| 500000/500000 [02:09<00:00, 3875.96it/s]\n"
     ]
    },
    {
     "name": "stdout",
     "output_type": "stream",
     "text": [
      "Partition 92 completed, convergence counter: 172\n"
     ]
    },
    {
     "name": "stderr",
     "output_type": "stream",
     "text": [
      "Simulation Progress: 100%|██████████| 500000/500000 [02:31<00:00, 3308.82it/s]\n"
     ]
    },
    {
     "name": "stdout",
     "output_type": "stream",
     "text": [
      "Partition 93 completed, convergence counter: 194\n"
     ]
    },
    {
     "name": "stderr",
     "output_type": "stream",
     "text": [
      "Simulation Progress: 100%|██████████| 500000/500000 [02:29<00:00, 3348.57it/s]\n"
     ]
    },
    {
     "name": "stdout",
     "output_type": "stream",
     "text": [
      "Partition 94 completed, convergence counter: 51\n"
     ]
    },
    {
     "name": "stderr",
     "output_type": "stream",
     "text": [
      "Simulation Progress: 100%|██████████| 500000/500000 [02:29<00:00, 3351.16it/s]\n"
     ]
    },
    {
     "name": "stdout",
     "output_type": "stream",
     "text": [
      "Partition 95 completed, convergence counter: 815\n"
     ]
    },
    {
     "name": "stderr",
     "output_type": "stream",
     "text": [
      "Simulation Progress: 100%|██████████| 500000/500000 [02:27<00:00, 3399.55it/s]\n"
     ]
    },
    {
     "name": "stdout",
     "output_type": "stream",
     "text": [
      "Partition 96 completed, convergence counter: 127\n"
     ]
    },
    {
     "name": "stderr",
     "output_type": "stream",
     "text": [
      "Simulation Progress: 100%|██████████| 500000/500000 [02:23<00:00, 3485.90it/s]\n"
     ]
    },
    {
     "name": "stdout",
     "output_type": "stream",
     "text": [
      "Partition 97 completed, convergence counter: 3588\n"
     ]
    },
    {
     "name": "stderr",
     "output_type": "stream",
     "text": [
      "Simulation Progress: 100%|██████████| 500000/500000 [02:18<00:00, 3618.77it/s]\n"
     ]
    },
    {
     "name": "stdout",
     "output_type": "stream",
     "text": [
      "Partition 98 completed, convergence counter: 52\n"
     ]
    },
    {
     "name": "stderr",
     "output_type": "stream",
     "text": [
      "Simulation Progress: 100%|██████████| 500000/500000 [02:07<00:00, 3930.67it/s]\n"
     ]
    },
    {
     "name": "stdout",
     "output_type": "stream",
     "text": [
      "Partition 99 completed, convergence counter: 355\n"
     ]
    },
    {
     "name": "stderr",
     "output_type": "stream",
     "text": [
      "Simulation Progress: 100%|██████████| 500000/500000 [02:28<00:00, 3362.39it/s]\n"
     ]
    },
    {
     "name": "stdout",
     "output_type": "stream",
     "text": [
      "Partition 100 completed, convergence counter: 4573\n"
     ]
    },
    {
     "name": "stderr",
     "output_type": "stream",
     "text": [
      "Simulation Progress: 100%|██████████| 500000/500000 [02:16<00:00, 3651.55it/s]\n"
     ]
    },
    {
     "name": "stdout",
     "output_type": "stream",
     "text": [
      "Partition 101 completed, convergence counter: 257\n"
     ]
    },
    {
     "name": "stderr",
     "output_type": "stream",
     "text": [
      "Simulation Progress: 100%|██████████| 500000/500000 [02:29<00:00, 3344.80it/s]\n"
     ]
    },
    {
     "name": "stdout",
     "output_type": "stream",
     "text": [
      "Partition 102 completed, convergence counter: 346\n"
     ]
    },
    {
     "name": "stderr",
     "output_type": "stream",
     "text": [
      "Simulation Progress: 100%|██████████| 500000/500000 [02:26<00:00, 3409.37it/s]\n"
     ]
    },
    {
     "name": "stdout",
     "output_type": "stream",
     "text": [
      "Partition 103 completed, convergence counter: 202\n"
     ]
    },
    {
     "name": "stderr",
     "output_type": "stream",
     "text": [
      "Simulation Progress: 100%|██████████| 500000/500000 [02:20<00:00, 3547.94it/s]\n"
     ]
    },
    {
     "name": "stdout",
     "output_type": "stream",
     "text": [
      "Partition 104 completed, convergence counter: 1425\n"
     ]
    },
    {
     "name": "stderr",
     "output_type": "stream",
     "text": [
      "Simulation Progress: 100%|██████████| 500000/500000 [02:21<00:00, 3536.87it/s]\n"
     ]
    },
    {
     "name": "stdout",
     "output_type": "stream",
     "text": [
      "Partition 105 completed, convergence counter: 1488\n"
     ]
    },
    {
     "name": "stderr",
     "output_type": "stream",
     "text": [
      "Simulation Progress: 100%|██████████| 500000/500000 [02:19<00:00, 3572.95it/s]\n"
     ]
    },
    {
     "name": "stdout",
     "output_type": "stream",
     "text": [
      "Partition 106 completed, convergence counter: 35\n"
     ]
    },
    {
     "name": "stderr",
     "output_type": "stream",
     "text": [
      "Simulation Progress: 100%|██████████| 500000/500000 [02:20<00:00, 3570.06it/s]\n"
     ]
    },
    {
     "name": "stdout",
     "output_type": "stream",
     "text": [
      "Partition 107 completed, convergence counter: 244\n"
     ]
    },
    {
     "name": "stderr",
     "output_type": "stream",
     "text": [
      "Simulation Progress: 100%|██████████| 500000/500000 [02:06<00:00, 3939.47it/s]\n"
     ]
    },
    {
     "name": "stdout",
     "output_type": "stream",
     "text": [
      "Partition 108 completed, convergence counter: 46\n"
     ]
    },
    {
     "name": "stderr",
     "output_type": "stream",
     "text": [
      "Simulation Progress: 100%|██████████| 500000/500000 [02:30<00:00, 3329.72it/s]\n"
     ]
    },
    {
     "name": "stdout",
     "output_type": "stream",
     "text": [
      "Partition 109 completed, convergence counter: 3154\n"
     ]
    },
    {
     "name": "stderr",
     "output_type": "stream",
     "text": [
      "Simulation Progress: 100%|██████████| 500000/500000 [02:35<00:00, 3217.36it/s]\n"
     ]
    },
    {
     "name": "stdout",
     "output_type": "stream",
     "text": [
      "Partition 110 completed, convergence counter: 3627\n"
     ]
    },
    {
     "name": "stderr",
     "output_type": "stream",
     "text": [
      "Simulation Progress: 100%|██████████| 500000/500000 [02:26<00:00, 3416.30it/s]\n"
     ]
    },
    {
     "name": "stdout",
     "output_type": "stream",
     "text": [
      "Partition 111 completed, convergence counter: 317\n"
     ]
    },
    {
     "name": "stderr",
     "output_type": "stream",
     "text": [
      "Simulation Progress: 100%|██████████| 500000/500000 [02:32<00:00, 3273.37it/s]\n"
     ]
    },
    {
     "name": "stdout",
     "output_type": "stream",
     "text": [
      "Partition 112 completed, convergence counter: 224\n"
     ]
    },
    {
     "name": "stderr",
     "output_type": "stream",
     "text": [
      "Simulation Progress: 100%|██████████| 500000/500000 [02:39<00:00, 3140.35it/s]\n"
     ]
    },
    {
     "name": "stdout",
     "output_type": "stream",
     "text": [
      "Partition 113 completed, convergence counter: 302\n"
     ]
    },
    {
     "name": "stderr",
     "output_type": "stream",
     "text": [
      "Simulation Progress: 100%|██████████| 500000/500000 [02:15<00:00, 3694.62it/s]\n"
     ]
    },
    {
     "name": "stdout",
     "output_type": "stream",
     "text": [
      "Partition 114 completed, convergence counter: 962\n"
     ]
    },
    {
     "name": "stderr",
     "output_type": "stream",
     "text": [
      "Simulation Progress: 100%|██████████| 500000/500000 [02:21<00:00, 3540.04it/s]\n"
     ]
    },
    {
     "name": "stdout",
     "output_type": "stream",
     "text": [
      "Partition 115 completed, convergence counter: 457\n"
     ]
    },
    {
     "name": "stderr",
     "output_type": "stream",
     "text": [
      "Simulation Progress: 100%|██████████| 500000/500000 [02:25<00:00, 3427.61it/s]\n"
     ]
    },
    {
     "name": "stdout",
     "output_type": "stream",
     "text": [
      "Partition 116 completed, convergence counter: 1380\n"
     ]
    },
    {
     "name": "stderr",
     "output_type": "stream",
     "text": [
      "Simulation Progress: 100%|██████████| 500000/500000 [02:29<00:00, 3337.09it/s]\n"
     ]
    },
    {
     "name": "stdout",
     "output_type": "stream",
     "text": [
      "Partition 117 completed, convergence counter: 744\n"
     ]
    },
    {
     "name": "stderr",
     "output_type": "stream",
     "text": [
      "Simulation Progress: 100%|██████████| 500000/500000 [02:26<00:00, 3413.58it/s]\n"
     ]
    },
    {
     "name": "stdout",
     "output_type": "stream",
     "text": [
      "Partition 118 completed, convergence counter: 919\n"
     ]
    },
    {
     "name": "stderr",
     "output_type": "stream",
     "text": [
      "Simulation Progress: 100%|██████████| 500000/500000 [02:42<00:00, 3075.91it/s]\n"
     ]
    },
    {
     "name": "stdout",
     "output_type": "stream",
     "text": [
      "Partition 119 completed, convergence counter: 17\n"
     ]
    },
    {
     "name": "stderr",
     "output_type": "stream",
     "text": [
      "Simulation Progress: 100%|██████████| 500000/500000 [02:39<00:00, 3142.28it/s]\n"
     ]
    },
    {
     "name": "stdout",
     "output_type": "stream",
     "text": [
      "Partition 120 completed, convergence counter: 222\n"
     ]
    },
    {
     "name": "stderr",
     "output_type": "stream",
     "text": [
      "Simulation Progress: 100%|██████████| 500000/500000 [02:13<00:00, 3746.51it/s]\n"
     ]
    },
    {
     "name": "stdout",
     "output_type": "stream",
     "text": [
      "Partition 121 completed, convergence counter: 93\n"
     ]
    },
    {
     "name": "stderr",
     "output_type": "stream",
     "text": [
      "Simulation Progress: 100%|██████████| 500000/500000 [02:09<00:00, 3847.22it/s]\n"
     ]
    },
    {
     "name": "stdout",
     "output_type": "stream",
     "text": [
      "Partition 122 completed, convergence counter: 637\n"
     ]
    },
    {
     "name": "stderr",
     "output_type": "stream",
     "text": [
      "Simulation Progress: 100%|██████████| 500000/500000 [02:28<00:00, 3356.66it/s]\n"
     ]
    },
    {
     "name": "stdout",
     "output_type": "stream",
     "text": [
      "Partition 123 completed, convergence counter: 345\n"
     ]
    },
    {
     "name": "stderr",
     "output_type": "stream",
     "text": [
      "Simulation Progress: 100%|██████████| 500000/500000 [02:32<00:00, 3275.80it/s]\n"
     ]
    },
    {
     "name": "stdout",
     "output_type": "stream",
     "text": [
      "Partition 124 completed, convergence counter: 36\n"
     ]
    },
    {
     "name": "stderr",
     "output_type": "stream",
     "text": [
      "Simulation Progress: 100%|██████████| 500000/500000 [02:27<00:00, 3381.94it/s]\n"
     ]
    },
    {
     "name": "stdout",
     "output_type": "stream",
     "text": [
      "Partition 125 completed, convergence counter: 1104\n"
     ]
    },
    {
     "name": "stderr",
     "output_type": "stream",
     "text": [
      "Simulation Progress: 100%|██████████| 500000/500000 [02:27<00:00, 3378.58it/s]\n"
     ]
    },
    {
     "name": "stdout",
     "output_type": "stream",
     "text": [
      "Partition 126 completed, convergence counter: 78\n"
     ]
    },
    {
     "name": "stderr",
     "output_type": "stream",
     "text": [
      "Simulation Progress: 100%|██████████| 500000/500000 [02:33<00:00, 3267.49it/s]\n"
     ]
    },
    {
     "name": "stdout",
     "output_type": "stream",
     "text": [
      "Partition 127 completed, convergence counter: 563\n"
     ]
    },
    {
     "name": "stderr",
     "output_type": "stream",
     "text": [
      "Simulation Progress: 100%|██████████| 500000/500000 [02:19<00:00, 3584.75it/s]\n"
     ]
    },
    {
     "name": "stdout",
     "output_type": "stream",
     "text": [
      "Partition 128 completed, convergence counter: 8\n"
     ]
    },
    {
     "name": "stderr",
     "output_type": "stream",
     "text": [
      "Simulation Progress: 100%|██████████| 500000/500000 [02:33<00:00, 3256.21it/s]\n"
     ]
    },
    {
     "name": "stdout",
     "output_type": "stream",
     "text": [
      "Partition 129 completed, convergence counter: 377\n"
     ]
    },
    {
     "name": "stderr",
     "output_type": "stream",
     "text": [
      "Simulation Progress: 100%|██████████| 500000/500000 [02:32<00:00, 3282.14it/s]\n"
     ]
    },
    {
     "name": "stdout",
     "output_type": "stream",
     "text": [
      "Partition 130 completed, convergence counter: 46\n"
     ]
    },
    {
     "name": "stderr",
     "output_type": "stream",
     "text": [
      "Simulation Progress: 100%|██████████| 500000/500000 [02:32<00:00, 3271.79it/s]\n"
     ]
    },
    {
     "name": "stdout",
     "output_type": "stream",
     "text": [
      "Partition 131 completed, convergence counter: 497\n"
     ]
    },
    {
     "name": "stderr",
     "output_type": "stream",
     "text": [
      "Simulation Progress: 100%|██████████| 500000/500000 [02:26<00:00, 3401.88it/s]\n"
     ]
    },
    {
     "name": "stdout",
     "output_type": "stream",
     "text": [
      "Partition 132 completed, convergence counter: 45\n"
     ]
    },
    {
     "name": "stderr",
     "output_type": "stream",
     "text": [
      "Simulation Progress: 100%|██████████| 500000/500000 [02:35<00:00, 3221.74it/s]\n"
     ]
    },
    {
     "name": "stdout",
     "output_type": "stream",
     "text": [
      "Partition 133 completed, convergence counter: 38\n"
     ]
    },
    {
     "name": "stderr",
     "output_type": "stream",
     "text": [
      "Simulation Progress: 100%|██████████| 500000/500000 [02:24<00:00, 3450.26it/s]\n"
     ]
    },
    {
     "name": "stdout",
     "output_type": "stream",
     "text": [
      "Partition 134 completed, convergence counter: 810\n"
     ]
    },
    {
     "name": "stderr",
     "output_type": "stream",
     "text": [
      "Simulation Progress: 100%|██████████| 500000/500000 [02:24<00:00, 3465.97it/s]\n"
     ]
    },
    {
     "name": "stdout",
     "output_type": "stream",
     "text": [
      "Partition 135 completed, convergence counter: 340\n"
     ]
    },
    {
     "name": "stderr",
     "output_type": "stream",
     "text": [
      "Simulation Progress: 100%|██████████| 500000/500000 [02:12<00:00, 3780.55it/s]\n"
     ]
    },
    {
     "name": "stdout",
     "output_type": "stream",
     "text": [
      "Partition 136 completed, convergence counter: 648\n"
     ]
    },
    {
     "name": "stderr",
     "output_type": "stream",
     "text": [
      "Simulation Progress: 100%|██████████| 500000/500000 [02:45<00:00, 3028.58it/s]\n"
     ]
    },
    {
     "name": "stdout",
     "output_type": "stream",
     "text": [
      "Partition 137 completed, convergence counter: 975\n"
     ]
    },
    {
     "name": "stderr",
     "output_type": "stream",
     "text": [
      "Simulation Progress: 100%|██████████| 500000/500000 [02:46<00:00, 3009.68it/s]\n"
     ]
    },
    {
     "name": "stdout",
     "output_type": "stream",
     "text": [
      "Partition 138 completed, convergence counter: 686\n"
     ]
    },
    {
     "name": "stderr",
     "output_type": "stream",
     "text": [
      "Simulation Progress: 100%|██████████| 500000/500000 [02:29<00:00, 3348.39it/s]\n"
     ]
    },
    {
     "name": "stdout",
     "output_type": "stream",
     "text": [
      "Partition 139 completed, convergence counter: 2111\n"
     ]
    },
    {
     "name": "stderr",
     "output_type": "stream",
     "text": [
      "Simulation Progress: 100%|██████████| 500000/500000 [02:47<00:00, 2992.50it/s]\n"
     ]
    },
    {
     "name": "stdout",
     "output_type": "stream",
     "text": [
      "Partition 140 completed, convergence counter: 140\n"
     ]
    },
    {
     "name": "stderr",
     "output_type": "stream",
     "text": [
      "Simulation Progress: 100%|██████████| 500000/500000 [02:39<00:00, 3139.34it/s]\n"
     ]
    },
    {
     "name": "stdout",
     "output_type": "stream",
     "text": [
      "Partition 141 completed, convergence counter: 947\n"
     ]
    },
    {
     "name": "stderr",
     "output_type": "stream",
     "text": [
      "Simulation Progress: 100%|██████████| 500000/500000 [02:23<00:00, 3473.95it/s]\n"
     ]
    },
    {
     "name": "stdout",
     "output_type": "stream",
     "text": [
      "Partition 142 completed, convergence counter: 764\n"
     ]
    },
    {
     "name": "stderr",
     "output_type": "stream",
     "text": [
      "Simulation Progress: 100%|██████████| 500000/500000 [02:12<00:00, 3761.03it/s]\n"
     ]
    },
    {
     "name": "stdout",
     "output_type": "stream",
     "text": [
      "Partition 143 completed, convergence counter: 1817\n"
     ]
    },
    {
     "name": "stderr",
     "output_type": "stream",
     "text": [
      "Simulation Progress: 100%|██████████| 500000/500000 [02:33<00:00, 3265.47it/s]\n"
     ]
    },
    {
     "name": "stdout",
     "output_type": "stream",
     "text": [
      "Partition 144 completed, convergence counter: 238\n"
     ]
    },
    {
     "name": "stderr",
     "output_type": "stream",
     "text": [
      "Simulation Progress: 100%|██████████| 500000/500000 [02:42<00:00, 3074.58it/s]\n"
     ]
    },
    {
     "name": "stdout",
     "output_type": "stream",
     "text": [
      "Partition 145 completed, convergence counter: 247\n"
     ]
    },
    {
     "name": "stderr",
     "output_type": "stream",
     "text": [
      "Simulation Progress: 100%|██████████| 500000/500000 [02:53<00:00, 2875.64it/s]\n"
     ]
    },
    {
     "name": "stdout",
     "output_type": "stream",
     "text": [
      "Partition 146 completed, convergence counter: 1781\n"
     ]
    },
    {
     "name": "stderr",
     "output_type": "stream",
     "text": [
      "Simulation Progress: 100%|██████████| 500000/500000 [02:49<00:00, 2957.67it/s]\n"
     ]
    },
    {
     "name": "stdout",
     "output_type": "stream",
     "text": [
      "Partition 147 completed, convergence counter: 888\n"
     ]
    },
    {
     "name": "stderr",
     "output_type": "stream",
     "text": [
      "Simulation Progress: 100%|██████████| 500000/500000 [03:01<00:00, 2756.58it/s]\n"
     ]
    },
    {
     "name": "stdout",
     "output_type": "stream",
     "text": [
      "Partition 148 completed, convergence counter: 60\n"
     ]
    },
    {
     "name": "stderr",
     "output_type": "stream",
     "text": [
      "Simulation Progress: 100%|██████████| 500000/500000 [02:50<00:00, 2933.15it/s]\n"
     ]
    },
    {
     "name": "stdout",
     "output_type": "stream",
     "text": [
      "Partition 149 completed, convergence counter: 2088\n"
     ]
    },
    {
     "name": "stderr",
     "output_type": "stream",
     "text": [
      "Simulation Progress: 100%|██████████| 500000/500000 [02:47<00:00, 2976.98it/s]\n"
     ]
    },
    {
     "name": "stdout",
     "output_type": "stream",
     "text": [
      "Partition 150 completed, convergence counter: 137\n"
     ]
    },
    {
     "name": "stderr",
     "output_type": "stream",
     "text": [
      "Simulation Progress: 100%|██████████| 500000/500000 [02:54<00:00, 2872.48it/s]\n"
     ]
    },
    {
     "name": "stdout",
     "output_type": "stream",
     "text": [
      "Partition 151 completed, convergence counter: 814\n"
     ]
    },
    {
     "name": "stderr",
     "output_type": "stream",
     "text": [
      "Simulation Progress: 100%|██████████| 500000/500000 [02:49<00:00, 2952.23it/s]\n"
     ]
    },
    {
     "name": "stdout",
     "output_type": "stream",
     "text": [
      "Partition 152 completed, convergence counter: 253\n"
     ]
    },
    {
     "name": "stderr",
     "output_type": "stream",
     "text": [
      "Simulation Progress: 100%|██████████| 500000/500000 [02:45<00:00, 3019.06it/s]\n"
     ]
    },
    {
     "name": "stdout",
     "output_type": "stream",
     "text": [
      "Partition 153 completed, convergence counter: 562\n"
     ]
    },
    {
     "name": "stderr",
     "output_type": "stream",
     "text": [
      "Simulation Progress: 100%|██████████| 500000/500000 [02:54<00:00, 2858.02it/s]\n"
     ]
    },
    {
     "name": "stdout",
     "output_type": "stream",
     "text": [
      "Partition 154 completed, convergence counter: 691\n"
     ]
    },
    {
     "name": "stderr",
     "output_type": "stream",
     "text": [
      "Simulation Progress: 100%|██████████| 500000/500000 [02:56<00:00, 2831.16it/s]\n"
     ]
    },
    {
     "name": "stdout",
     "output_type": "stream",
     "text": [
      "Partition 155 completed, convergence counter: 251\n"
     ]
    },
    {
     "name": "stderr",
     "output_type": "stream",
     "text": [
      "Simulation Progress: 100%|██████████| 500000/500000 [02:26<00:00, 3413.41it/s]\n"
     ]
    },
    {
     "name": "stdout",
     "output_type": "stream",
     "text": [
      "Partition 156 completed, convergence counter: 40\n"
     ]
    },
    {
     "name": "stderr",
     "output_type": "stream",
     "text": [
      "Simulation Progress: 100%|██████████| 500000/500000 [02:50<00:00, 2934.55it/s]\n"
     ]
    },
    {
     "name": "stdout",
     "output_type": "stream",
     "text": [
      "Partition 157 completed, convergence counter: 26\n"
     ]
    },
    {
     "name": "stderr",
     "output_type": "stream",
     "text": [
      "Simulation Progress: 100%|██████████| 500000/500000 [02:56<00:00, 2837.95it/s]\n"
     ]
    },
    {
     "name": "stdout",
     "output_type": "stream",
     "text": [
      "Partition 158 completed, convergence counter: 241\n"
     ]
    },
    {
     "name": "stderr",
     "output_type": "stream",
     "text": [
      "Simulation Progress: 100%|██████████| 500000/500000 [03:06<00:00, 2673.90it/s]\n"
     ]
    },
    {
     "name": "stdout",
     "output_type": "stream",
     "text": [
      "Partition 159 completed, convergence counter: 988\n"
     ]
    },
    {
     "name": "stderr",
     "output_type": "stream",
     "text": [
      "Simulation Progress: 100%|██████████| 500000/500000 [02:57<00:00, 2814.25it/s]\n"
     ]
    },
    {
     "name": "stdout",
     "output_type": "stream",
     "text": [
      "Partition 160 completed, convergence counter: 104\n"
     ]
    },
    {
     "name": "stderr",
     "output_type": "stream",
     "text": [
      "Simulation Progress: 100%|██████████| 500000/500000 [02:57<00:00, 2812.92it/s]\n"
     ]
    },
    {
     "name": "stdout",
     "output_type": "stream",
     "text": [
      "Partition 161 completed, convergence counter: 146\n"
     ]
    },
    {
     "name": "stderr",
     "output_type": "stream",
     "text": [
      "Simulation Progress: 100%|██████████| 500000/500000 [02:59<00:00, 2784.40it/s]\n"
     ]
    },
    {
     "name": "stdout",
     "output_type": "stream",
     "text": [
      "Partition 162 completed, convergence counter: 300\n"
     ]
    },
    {
     "name": "stderr",
     "output_type": "stream",
     "text": [
      "Simulation Progress: 100%|██████████| 500000/500000 [02:41<00:00, 3095.89it/s]\n"
     ]
    },
    {
     "name": "stdout",
     "output_type": "stream",
     "text": [
      "Partition 163 completed, convergence counter: 218\n"
     ]
    },
    {
     "name": "stderr",
     "output_type": "stream",
     "text": [
      "Simulation Progress: 100%|██████████| 500000/500000 [02:38<00:00, 3157.99it/s]\n"
     ]
    },
    {
     "name": "stdout",
     "output_type": "stream",
     "text": [
      "Partition 164 completed, convergence counter: 852\n"
     ]
    },
    {
     "name": "stderr",
     "output_type": "stream",
     "text": [
      "Simulation Progress: 100%|██████████| 500000/500000 [02:37<00:00, 3183.26it/s]\n"
     ]
    },
    {
     "name": "stdout",
     "output_type": "stream",
     "text": [
      "Partition 165 completed, convergence counter: 368\n"
     ]
    },
    {
     "name": "stderr",
     "output_type": "stream",
     "text": [
      "Simulation Progress: 100%|██████████| 500000/500000 [02:40<00:00, 3111.65it/s]\n"
     ]
    },
    {
     "name": "stdout",
     "output_type": "stream",
     "text": [
      "Partition 166 completed, convergence counter: 191\n"
     ]
    },
    {
     "name": "stderr",
     "output_type": "stream",
     "text": [
      "Simulation Progress: 100%|██████████| 500000/500000 [02:38<00:00, 3159.17it/s]\n"
     ]
    },
    {
     "name": "stdout",
     "output_type": "stream",
     "text": [
      "Partition 167 completed, convergence counter: 785\n"
     ]
    },
    {
     "name": "stderr",
     "output_type": "stream",
     "text": [
      "Simulation Progress: 100%|██████████| 500000/500000 [02:41<00:00, 3102.82it/s]\n"
     ]
    },
    {
     "name": "stdout",
     "output_type": "stream",
     "text": [
      "Partition 168 completed, convergence counter: 2994\n"
     ]
    },
    {
     "name": "stderr",
     "output_type": "stream",
     "text": [
      "Simulation Progress: 100%|██████████| 500000/500000 [02:55<00:00, 2853.17it/s]\n"
     ]
    },
    {
     "name": "stdout",
     "output_type": "stream",
     "text": [
      "Partition 169 completed, convergence counter: 69\n"
     ]
    },
    {
     "name": "stderr",
     "output_type": "stream",
     "text": [
      "Simulation Progress: 100%|██████████| 500000/500000 [02:53<00:00, 2880.35it/s]\n"
     ]
    },
    {
     "name": "stdout",
     "output_type": "stream",
     "text": [
      "Partition 170 completed, convergence counter: 1097\n"
     ]
    },
    {
     "name": "stderr",
     "output_type": "stream",
     "text": [
      "Simulation Progress: 100%|██████████| 500000/500000 [02:36<00:00, 3190.94it/s]\n"
     ]
    },
    {
     "name": "stdout",
     "output_type": "stream",
     "text": [
      "Partition 171 completed, convergence counter: 471\n"
     ]
    },
    {
     "name": "stderr",
     "output_type": "stream",
     "text": [
      "Simulation Progress: 100%|██████████| 500000/500000 [02:33<00:00, 3253.32it/s]\n"
     ]
    },
    {
     "name": "stdout",
     "output_type": "stream",
     "text": [
      "Partition 172 completed, convergence counter: 7200\n"
     ]
    },
    {
     "name": "stderr",
     "output_type": "stream",
     "text": [
      "Simulation Progress: 100%|██████████| 500000/500000 [02:34<00:00, 3235.13it/s]\n"
     ]
    },
    {
     "name": "stdout",
     "output_type": "stream",
     "text": [
      "Partition 173 completed, convergence counter: 1807\n"
     ]
    },
    {
     "name": "stderr",
     "output_type": "stream",
     "text": [
      "Simulation Progress: 100%|██████████| 500000/500000 [02:27<00:00, 3394.58it/s]\n"
     ]
    },
    {
     "name": "stdout",
     "output_type": "stream",
     "text": [
      "Partition 174 completed, convergence counter: 287\n"
     ]
    },
    {
     "name": "stderr",
     "output_type": "stream",
     "text": [
      "Simulation Progress: 100%|██████████| 500000/500000 [02:43<00:00, 3065.71it/s]\n"
     ]
    },
    {
     "name": "stdout",
     "output_type": "stream",
     "text": [
      "Partition 175 completed, convergence counter: 922\n"
     ]
    },
    {
     "name": "stderr",
     "output_type": "stream",
     "text": [
      "Simulation Progress: 100%|██████████| 500000/500000 [02:47<00:00, 2990.33it/s]\n"
     ]
    },
    {
     "name": "stdout",
     "output_type": "stream",
     "text": [
      "Partition 176 completed, convergence counter: 626\n"
     ]
    },
    {
     "name": "stderr",
     "output_type": "stream",
     "text": [
      "Simulation Progress: 100%|██████████| 500000/500000 [02:39<00:00, 3126.92it/s]\n"
     ]
    },
    {
     "name": "stdout",
     "output_type": "stream",
     "text": [
      "Partition 177 completed, convergence counter: 179\n"
     ]
    },
    {
     "name": "stderr",
     "output_type": "stream",
     "text": [
      "Simulation Progress: 100%|██████████| 500000/500000 [02:48<00:00, 2975.69it/s]\n"
     ]
    },
    {
     "name": "stdout",
     "output_type": "stream",
     "text": [
      "Partition 178 completed, convergence counter: 215\n"
     ]
    },
    {
     "name": "stderr",
     "output_type": "stream",
     "text": [
      "Simulation Progress: 100%|██████████| 500000/500000 [02:30<00:00, 3325.46it/s]\n"
     ]
    },
    {
     "name": "stdout",
     "output_type": "stream",
     "text": [
      "Partition 179 completed, convergence counter: 1852\n"
     ]
    },
    {
     "name": "stderr",
     "output_type": "stream",
     "text": [
      "Simulation Progress: 100%|██████████| 500000/500000 [02:50<00:00, 2931.95it/s]\n"
     ]
    },
    {
     "name": "stdout",
     "output_type": "stream",
     "text": [
      "Partition 180 completed, convergence counter: 675\n"
     ]
    },
    {
     "name": "stderr",
     "output_type": "stream",
     "text": [
      "Simulation Progress: 100%|██████████| 500000/500000 [02:48<00:00, 2963.19it/s]\n"
     ]
    },
    {
     "name": "stdout",
     "output_type": "stream",
     "text": [
      "Partition 181 completed, convergence counter: 47\n"
     ]
    },
    {
     "name": "stderr",
     "output_type": "stream",
     "text": [
      "Simulation Progress: 100%|██████████| 500000/500000 [02:38<00:00, 3160.39it/s]\n"
     ]
    },
    {
     "name": "stdout",
     "output_type": "stream",
     "text": [
      "Partition 182 completed, convergence counter: 1182\n"
     ]
    },
    {
     "name": "stderr",
     "output_type": "stream",
     "text": [
      "Simulation Progress: 100%|██████████| 500000/500000 [02:31<00:00, 3305.27it/s]\n"
     ]
    },
    {
     "name": "stdout",
     "output_type": "stream",
     "text": [
      "Partition 183 completed, convergence counter: 1584\n"
     ]
    },
    {
     "name": "stderr",
     "output_type": "stream",
     "text": [
      "Simulation Progress: 100%|██████████| 500000/500000 [02:42<00:00, 3079.38it/s]\n"
     ]
    },
    {
     "name": "stdout",
     "output_type": "stream",
     "text": [
      "Partition 184 completed, convergence counter: 875\n"
     ]
    },
    {
     "name": "stderr",
     "output_type": "stream",
     "text": [
      "Simulation Progress: 100%|██████████| 500000/500000 [02:44<00:00, 3045.53it/s]\n"
     ]
    },
    {
     "name": "stdout",
     "output_type": "stream",
     "text": [
      "Partition 185 completed, convergence counter: 7\n"
     ]
    },
    {
     "name": "stderr",
     "output_type": "stream",
     "text": [
      "Simulation Progress: 100%|██████████| 500000/500000 [02:30<00:00, 3323.75it/s]\n"
     ]
    },
    {
     "name": "stdout",
     "output_type": "stream",
     "text": [
      "Partition 186 completed, convergence counter: 179\n"
     ]
    },
    {
     "name": "stderr",
     "output_type": "stream",
     "text": [
      "Simulation Progress: 100%|██████████| 500000/500000 [02:48<00:00, 2971.04it/s]\n"
     ]
    },
    {
     "name": "stdout",
     "output_type": "stream",
     "text": [
      "Partition 187 completed, convergence counter: 727\n"
     ]
    },
    {
     "name": "stderr",
     "output_type": "stream",
     "text": [
      "Simulation Progress: 100%|██████████| 500000/500000 [02:31<00:00, 3292.83it/s]\n"
     ]
    },
    {
     "name": "stdout",
     "output_type": "stream",
     "text": [
      "Partition 188 completed, convergence counter: 956\n"
     ]
    },
    {
     "name": "stderr",
     "output_type": "stream",
     "text": [
      "Simulation Progress: 100%|██████████| 500000/500000 [02:38<00:00, 3145.54it/s]\n"
     ]
    },
    {
     "name": "stdout",
     "output_type": "stream",
     "text": [
      "Partition 189 completed, convergence counter: 837\n"
     ]
    },
    {
     "name": "stderr",
     "output_type": "stream",
     "text": [
      "Simulation Progress: 100%|██████████| 500000/500000 [02:32<00:00, 3287.18it/s]\n"
     ]
    },
    {
     "name": "stdout",
     "output_type": "stream",
     "text": [
      "Partition 190 completed, convergence counter: 340\n"
     ]
    },
    {
     "name": "stderr",
     "output_type": "stream",
     "text": [
      "Simulation Progress: 100%|██████████| 500000/500000 [02:26<00:00, 3401.46it/s]\n"
     ]
    },
    {
     "name": "stdout",
     "output_type": "stream",
     "text": [
      "Partition 191 completed, convergence counter: 758\n"
     ]
    },
    {
     "name": "stderr",
     "output_type": "stream",
     "text": [
      "Simulation Progress: 100%|██████████| 500000/500000 [02:49<00:00, 2948.37it/s]\n"
     ]
    },
    {
     "name": "stdout",
     "output_type": "stream",
     "text": [
      "Partition 192 completed, convergence counter: 1892\n"
     ]
    },
    {
     "name": "stderr",
     "output_type": "stream",
     "text": [
      "Simulation Progress: 100%|██████████| 500000/500000 [02:42<00:00, 3067.60it/s]\n"
     ]
    },
    {
     "name": "stdout",
     "output_type": "stream",
     "text": [
      "Partition 193 completed, convergence counter: 4029\n"
     ]
    },
    {
     "name": "stderr",
     "output_type": "stream",
     "text": [
      "Simulation Progress: 100%|██████████| 500000/500000 [02:40<00:00, 3108.37it/s]\n"
     ]
    },
    {
     "name": "stdout",
     "output_type": "stream",
     "text": [
      "Partition 194 completed, convergence counter: 515\n"
     ]
    },
    {
     "name": "stderr",
     "output_type": "stream",
     "text": [
      "Simulation Progress: 100%|██████████| 500000/500000 [02:47<00:00, 2982.52it/s]\n"
     ]
    },
    {
     "name": "stdout",
     "output_type": "stream",
     "text": [
      "Partition 195 completed, convergence counter: 945\n"
     ]
    },
    {
     "name": "stderr",
     "output_type": "stream",
     "text": [
      "Simulation Progress: 100%|██████████| 500000/500000 [02:49<00:00, 2957.34it/s]\n"
     ]
    },
    {
     "name": "stdout",
     "output_type": "stream",
     "text": [
      "Partition 196 completed, convergence counter: 103\n"
     ]
    },
    {
     "name": "stderr",
     "output_type": "stream",
     "text": [
      "Simulation Progress: 100%|██████████| 500000/500000 [02:47<00:00, 2991.40it/s]\n"
     ]
    },
    {
     "name": "stdout",
     "output_type": "stream",
     "text": [
      "Partition 197 completed, convergence counter: 336\n"
     ]
    },
    {
     "name": "stderr",
     "output_type": "stream",
     "text": [
      "Simulation Progress: 100%|██████████| 500000/500000 [02:38<00:00, 3149.54it/s]\n"
     ]
    },
    {
     "name": "stdout",
     "output_type": "stream",
     "text": [
      "Partition 198 completed, convergence counter: 7703\n"
     ]
    },
    {
     "name": "stderr",
     "output_type": "stream",
     "text": [
      "Simulation Progress: 100%|██████████| 500000/500000 [02:48<00:00, 2963.52it/s]\n"
     ]
    },
    {
     "name": "stdout",
     "output_type": "stream",
     "text": [
      "Partition 199 completed, convergence counter: 4759\n"
     ]
    },
    {
     "name": "stderr",
     "output_type": "stream",
     "text": [
      "Simulation Progress: 100%|██████████| 500000/500000 [02:37<00:00, 3179.16it/s]\n"
     ]
    },
    {
     "name": "stdout",
     "output_type": "stream",
     "text": [
      "Partition 200 completed, convergence counter: 1059\n"
     ]
    },
    {
     "name": "stderr",
     "output_type": "stream",
     "text": [
      "Simulation Progress: 100%|██████████| 500000/500000 [02:35<00:00, 3207.30it/s]\n"
     ]
    },
    {
     "name": "stdout",
     "output_type": "stream",
     "text": [
      "Partition 201 completed, convergence counter: 1632\n"
     ]
    },
    {
     "name": "stderr",
     "output_type": "stream",
     "text": [
      "Simulation Progress: 100%|██████████| 500000/500000 [02:27<00:00, 3397.97it/s]\n"
     ]
    },
    {
     "name": "stdout",
     "output_type": "stream",
     "text": [
      "Partition 202 completed, convergence counter: 94\n"
     ]
    },
    {
     "name": "stderr",
     "output_type": "stream",
     "text": [
      "Simulation Progress: 100%|██████████| 500000/500000 [02:26<00:00, 3411.23it/s]\n"
     ]
    },
    {
     "name": "stdout",
     "output_type": "stream",
     "text": [
      "Partition 203 completed, convergence counter: 2070\n"
     ]
    },
    {
     "name": "stderr",
     "output_type": "stream",
     "text": [
      "Simulation Progress: 100%|██████████| 500000/500000 [02:23<00:00, 3474.29it/s]\n"
     ]
    },
    {
     "name": "stdout",
     "output_type": "stream",
     "text": [
      "Partition 204 completed, convergence counter: 592\n"
     ]
    },
    {
     "name": "stderr",
     "output_type": "stream",
     "text": [
      "Simulation Progress: 100%|██████████| 500000/500000 [02:29<00:00, 3350.94it/s]\n"
     ]
    },
    {
     "name": "stdout",
     "output_type": "stream",
     "text": [
      "Partition 205 completed, convergence counter: 2282\n"
     ]
    },
    {
     "name": "stderr",
     "output_type": "stream",
     "text": [
      "Simulation Progress: 100%|██████████| 500000/500000 [02:21<00:00, 3534.98it/s]\n"
     ]
    },
    {
     "name": "stdout",
     "output_type": "stream",
     "text": [
      "Partition 206 completed, convergence counter: 695\n"
     ]
    },
    {
     "name": "stderr",
     "output_type": "stream",
     "text": [
      "Simulation Progress: 100%|██████████| 500000/500000 [02:39<00:00, 3137.17it/s]\n"
     ]
    },
    {
     "name": "stdout",
     "output_type": "stream",
     "text": [
      "Partition 207 completed, convergence counter: 107\n"
     ]
    },
    {
     "name": "stderr",
     "output_type": "stream",
     "text": [
      "Simulation Progress: 100%|██████████| 500000/500000 [02:28<00:00, 3376.57it/s]\n"
     ]
    },
    {
     "name": "stdout",
     "output_type": "stream",
     "text": [
      "Partition 208 completed, convergence counter: 957\n"
     ]
    },
    {
     "name": "stderr",
     "output_type": "stream",
     "text": [
      "Simulation Progress: 100%|██████████| 500000/500000 [02:39<00:00, 3140.37it/s]\n"
     ]
    },
    {
     "name": "stdout",
     "output_type": "stream",
     "text": [
      "Partition 209 completed, convergence counter: 1876\n"
     ]
    },
    {
     "name": "stderr",
     "output_type": "stream",
     "text": [
      "Simulation Progress: 100%|██████████| 500000/500000 [02:20<00:00, 3565.65it/s]\n"
     ]
    },
    {
     "name": "stdout",
     "output_type": "stream",
     "text": [
      "Partition 210 completed, convergence counter: 1237\n"
     ]
    },
    {
     "name": "stderr",
     "output_type": "stream",
     "text": [
      "Simulation Progress: 100%|██████████| 500000/500000 [02:22<00:00, 3498.90it/s]\n"
     ]
    },
    {
     "name": "stdout",
     "output_type": "stream",
     "text": [
      "Partition 211 completed, convergence counter: 1405\n"
     ]
    },
    {
     "name": "stderr",
     "output_type": "stream",
     "text": [
      "Simulation Progress: 100%|██████████| 500000/500000 [02:36<00:00, 3203.43it/s]\n"
     ]
    },
    {
     "name": "stdout",
     "output_type": "stream",
     "text": [
      "Partition 212 completed, convergence counter: 824\n"
     ]
    },
    {
     "name": "stderr",
     "output_type": "stream",
     "text": [
      "Simulation Progress: 100%|██████████| 500000/500000 [02:34<00:00, 3241.98it/s]\n"
     ]
    },
    {
     "name": "stdout",
     "output_type": "stream",
     "text": [
      "Partition 213 completed, convergence counter: 341\n"
     ]
    },
    {
     "name": "stderr",
     "output_type": "stream",
     "text": [
      "Simulation Progress: 100%|██████████| 500000/500000 [02:28<00:00, 3370.88it/s]\n"
     ]
    },
    {
     "name": "stdout",
     "output_type": "stream",
     "text": [
      "Partition 214 completed, convergence counter: 1826\n"
     ]
    },
    {
     "name": "stderr",
     "output_type": "stream",
     "text": [
      "Simulation Progress: 100%|██████████| 500000/500000 [02:29<00:00, 3344.17it/s]\n"
     ]
    },
    {
     "name": "stdout",
     "output_type": "stream",
     "text": [
      "Partition 215 completed, convergence counter: 1360\n"
     ]
    },
    {
     "name": "stderr",
     "output_type": "stream",
     "text": [
      "Simulation Progress: 100%|██████████| 500000/500000 [02:37<00:00, 3166.58it/s]\n"
     ]
    },
    {
     "name": "stdout",
     "output_type": "stream",
     "text": [
      "Partition 216 completed, convergence counter: 153\n"
     ]
    },
    {
     "name": "stderr",
     "output_type": "stream",
     "text": [
      "Simulation Progress: 100%|██████████| 500000/500000 [02:31<00:00, 3305.16it/s]\n"
     ]
    },
    {
     "name": "stdout",
     "output_type": "stream",
     "text": [
      "Partition 217 completed, convergence counter: 566\n"
     ]
    },
    {
     "name": "stderr",
     "output_type": "stream",
     "text": [
      "Simulation Progress: 100%|██████████| 500000/500000 [02:47<00:00, 2979.04it/s]\n"
     ]
    },
    {
     "name": "stdout",
     "output_type": "stream",
     "text": [
      "Partition 218 completed, convergence counter: 1438\n"
     ]
    },
    {
     "name": "stderr",
     "output_type": "stream",
     "text": [
      "Simulation Progress: 100%|██████████| 500000/500000 [02:40<00:00, 3112.25it/s]\n"
     ]
    },
    {
     "name": "stdout",
     "output_type": "stream",
     "text": [
      "Partition 219 completed, convergence counter: 2865\n"
     ]
    },
    {
     "name": "stderr",
     "output_type": "stream",
     "text": [
      "Simulation Progress: 100%|██████████| 500000/500000 [02:37<00:00, 3168.27it/s]\n"
     ]
    },
    {
     "name": "stdout",
     "output_type": "stream",
     "text": [
      "Partition 220 completed, convergence counter: 340\n"
     ]
    },
    {
     "name": "stderr",
     "output_type": "stream",
     "text": [
      "Simulation Progress: 100%|██████████| 500000/500000 [02:36<00:00, 3185.56it/s]\n"
     ]
    },
    {
     "name": "stdout",
     "output_type": "stream",
     "text": [
      "Partition 221 completed, convergence counter: 1236\n"
     ]
    },
    {
     "name": "stderr",
     "output_type": "stream",
     "text": [
      "Simulation Progress: 100%|██████████| 500000/500000 [02:35<00:00, 3208.75it/s]\n"
     ]
    },
    {
     "name": "stdout",
     "output_type": "stream",
     "text": [
      "Partition 222 completed, convergence counter: 1842\n"
     ]
    },
    {
     "name": "stderr",
     "output_type": "stream",
     "text": [
      "Simulation Progress: 100%|██████████| 500000/500000 [02:55<00:00, 2853.90it/s]\n"
     ]
    },
    {
     "name": "stdout",
     "output_type": "stream",
     "text": [
      "Partition 223 completed, convergence counter: 435\n"
     ]
    },
    {
     "name": "stderr",
     "output_type": "stream",
     "text": [
      "Simulation Progress: 100%|██████████| 500000/500000 [02:52<00:00, 2905.61it/s]\n"
     ]
    },
    {
     "name": "stdout",
     "output_type": "stream",
     "text": [
      "Partition 224 completed, convergence counter: 1565\n"
     ]
    },
    {
     "name": "stderr",
     "output_type": "stream",
     "text": [
      "Simulation Progress: 100%|██████████| 500000/500000 [02:26<00:00, 3404.91it/s]\n"
     ]
    },
    {
     "name": "stdout",
     "output_type": "stream",
     "text": [
      "Partition 225 completed, convergence counter: 344\n"
     ]
    },
    {
     "name": "stderr",
     "output_type": "stream",
     "text": [
      "Simulation Progress: 100%|██████████| 500000/500000 [02:20<00:00, 3562.70it/s]\n"
     ]
    },
    {
     "name": "stdout",
     "output_type": "stream",
     "text": [
      "Partition 226 completed, convergence counter: 114\n"
     ]
    },
    {
     "name": "stderr",
     "output_type": "stream",
     "text": [
      "Simulation Progress: 100%|██████████| 500000/500000 [02:35<00:00, 3222.30it/s]\n"
     ]
    },
    {
     "name": "stdout",
     "output_type": "stream",
     "text": [
      "Partition 227 completed, convergence counter: 190\n"
     ]
    },
    {
     "name": "stderr",
     "output_type": "stream",
     "text": [
      "Simulation Progress: 100%|██████████| 500000/500000 [02:16<00:00, 3675.78it/s]\n"
     ]
    },
    {
     "name": "stdout",
     "output_type": "stream",
     "text": [
      "Partition 228 completed, convergence counter: 432\n"
     ]
    },
    {
     "name": "stderr",
     "output_type": "stream",
     "text": [
      "Simulation Progress: 100%|██████████| 500000/500000 [04:05<00:00, 2038.30it/s]\n"
     ]
    },
    {
     "name": "stdout",
     "output_type": "stream",
     "text": [
      "Partition 229 completed, convergence counter: 1950\n"
     ]
    },
    {
     "name": "stderr",
     "output_type": "stream",
     "text": [
      "Simulation Progress: 100%|██████████| 500000/500000 [10:16<00:00, 810.83it/s] \n"
     ]
    },
    {
     "name": "stdout",
     "output_type": "stream",
     "text": [
      "Partition 230 completed, convergence counter: 5374\n"
     ]
    },
    {
     "name": "stderr",
     "output_type": "stream",
     "text": [
      "Simulation Progress: 100%|██████████| 500000/500000 [07:40<00:00, 1085.43it/s]\n"
     ]
    },
    {
     "name": "stdout",
     "output_type": "stream",
     "text": [
      "Partition 231 completed, convergence counter: 3306\n"
     ]
    },
    {
     "name": "stderr",
     "output_type": "stream",
     "text": [
      "Simulation Progress: 100%|██████████| 500000/500000 [09:24<00:00, 885.51it/s] \n"
     ]
    },
    {
     "name": "stdout",
     "output_type": "stream",
     "text": [
      "Partition 232 completed, convergence counter: 1684\n"
     ]
    },
    {
     "name": "stderr",
     "output_type": "stream",
     "text": [
      "Simulation Progress: 100%|██████████| 500000/500000 [08:27<00:00, 984.88it/s] \n"
     ]
    },
    {
     "name": "stdout",
     "output_type": "stream",
     "text": [
      "Partition 233 completed, convergence counter: 1426\n"
     ]
    },
    {
     "name": "stderr",
     "output_type": "stream",
     "text": [
      "Simulation Progress: 100%|██████████| 500000/500000 [02:33<00:00, 3257.16it/s]\n"
     ]
    },
    {
     "name": "stdout",
     "output_type": "stream",
     "text": [
      "Partition 234 completed, convergence counter: 889\n"
     ]
    },
    {
     "name": "stderr",
     "output_type": "stream",
     "text": [
      "Simulation Progress: 100%|██████████| 500000/500000 [02:23<00:00, 3485.20it/s]\n"
     ]
    },
    {
     "name": "stdout",
     "output_type": "stream",
     "text": [
      "Partition 235 completed, convergence counter: 113\n"
     ]
    },
    {
     "name": "stderr",
     "output_type": "stream",
     "text": [
      "Simulation Progress: 100%|██████████| 500000/500000 [02:20<00:00, 3554.15it/s]\n"
     ]
    },
    {
     "name": "stdout",
     "output_type": "stream",
     "text": [
      "Partition 236 completed, convergence counter: 167\n"
     ]
    },
    {
     "name": "stderr",
     "output_type": "stream",
     "text": [
      "Simulation Progress: 100%|██████████| 500000/500000 [02:36<00:00, 3185.99it/s]\n"
     ]
    },
    {
     "name": "stdout",
     "output_type": "stream",
     "text": [
      "Partition 237 completed, convergence counter: 3080\n"
     ]
    },
    {
     "name": "stderr",
     "output_type": "stream",
     "text": [
      "Simulation Progress: 100%|██████████| 500000/500000 [02:19<00:00, 3575.76it/s]\n"
     ]
    },
    {
     "name": "stdout",
     "output_type": "stream",
     "text": [
      "Partition 238 completed, convergence counter: 969\n"
     ]
    },
    {
     "name": "stderr",
     "output_type": "stream",
     "text": [
      "Simulation Progress: 100%|██████████| 500000/500000 [02:38<00:00, 3163.17it/s]\n"
     ]
    },
    {
     "name": "stdout",
     "output_type": "stream",
     "text": [
      "Partition 239 completed, convergence counter: 53\n"
     ]
    },
    {
     "name": "stderr",
     "output_type": "stream",
     "text": [
      "Simulation Progress: 100%|██████████| 500000/500000 [02:49<00:00, 2956.97it/s]\n"
     ]
    },
    {
     "name": "stdout",
     "output_type": "stream",
     "text": [
      "Partition 240 completed, convergence counter: 1293\n"
     ]
    },
    {
     "name": "stderr",
     "output_type": "stream",
     "text": [
      "Simulation Progress: 100%|██████████| 500000/500000 [02:21<00:00, 3522.20it/s]\n"
     ]
    },
    {
     "name": "stdout",
     "output_type": "stream",
     "text": [
      "Partition 241 completed, convergence counter: 273\n"
     ]
    },
    {
     "name": "stderr",
     "output_type": "stream",
     "text": [
      "Simulation Progress: 100%|██████████| 500000/500000 [02:37<00:00, 3168.56it/s]\n"
     ]
    },
    {
     "name": "stdout",
     "output_type": "stream",
     "text": [
      "Partition 242 completed, convergence counter: 1077\n"
     ]
    },
    {
     "name": "stderr",
     "output_type": "stream",
     "text": [
      "Simulation Progress: 100%|██████████| 500000/500000 [02:50<00:00, 2927.42it/s]\n"
     ]
    },
    {
     "name": "stdout",
     "output_type": "stream",
     "text": [
      "Partition 243 completed, convergence counter: 6261\n"
     ]
    },
    {
     "name": "stderr",
     "output_type": "stream",
     "text": [
      "Simulation Progress: 100%|██████████| 500000/500000 [02:56<00:00, 2825.33it/s]\n"
     ]
    },
    {
     "name": "stdout",
     "output_type": "stream",
     "text": [
      "Partition 244 completed, convergence counter: 757\n"
     ]
    },
    {
     "name": "stderr",
     "output_type": "stream",
     "text": [
      "Simulation Progress: 100%|██████████| 500000/500000 [02:46<00:00, 3000.74it/s]\n"
     ]
    },
    {
     "name": "stdout",
     "output_type": "stream",
     "text": [
      "Partition 245 completed, convergence counter: 740\n"
     ]
    },
    {
     "name": "stderr",
     "output_type": "stream",
     "text": [
      "Simulation Progress: 100%|██████████| 500000/500000 [02:40<00:00, 3116.99it/s]\n"
     ]
    },
    {
     "name": "stdout",
     "output_type": "stream",
     "text": [
      "Partition 246 completed, convergence counter: 1940\n"
     ]
    },
    {
     "name": "stderr",
     "output_type": "stream",
     "text": [
      "Simulation Progress: 100%|██████████| 500000/500000 [03:00<00:00, 2766.85it/s]\n"
     ]
    },
    {
     "name": "stdout",
     "output_type": "stream",
     "text": [
      "Partition 247 completed, convergence counter: 192\n"
     ]
    },
    {
     "name": "stderr",
     "output_type": "stream",
     "text": [
      "Simulation Progress: 100%|██████████| 500000/500000 [02:54<00:00, 2869.73it/s]\n"
     ]
    },
    {
     "name": "stdout",
     "output_type": "stream",
     "text": [
      "Partition 248 completed, convergence counter: 850\n"
     ]
    },
    {
     "name": "stderr",
     "output_type": "stream",
     "text": [
      "Simulation Progress: 100%|██████████| 500000/500000 [02:47<00:00, 2993.90it/s]\n"
     ]
    },
    {
     "name": "stdout",
     "output_type": "stream",
     "text": [
      "Partition 249 completed, convergence counter: 1485\n"
     ]
    },
    {
     "name": "stderr",
     "output_type": "stream",
     "text": [
      "Simulation Progress: 100%|██████████| 500000/500000 [02:56<00:00, 2833.34it/s]\n"
     ]
    },
    {
     "name": "stdout",
     "output_type": "stream",
     "text": [
      "Partition 250 completed, convergence counter: 3112\n"
     ]
    },
    {
     "name": "stderr",
     "output_type": "stream",
     "text": [
      "Simulation Progress: 100%|██████████| 500000/500000 [02:35<00:00, 3216.20it/s]\n"
     ]
    },
    {
     "name": "stdout",
     "output_type": "stream",
     "text": [
      "Partition 251 completed, convergence counter: 668\n"
     ]
    },
    {
     "name": "stderr",
     "output_type": "stream",
     "text": [
      "Simulation Progress: 100%|██████████| 500000/500000 [02:40<00:00, 3120.65it/s]\n"
     ]
    },
    {
     "name": "stdout",
     "output_type": "stream",
     "text": [
      "Partition 252 completed, convergence counter: 1392\n"
     ]
    },
    {
     "name": "stderr",
     "output_type": "stream",
     "text": [
      "Simulation Progress: 100%|██████████| 500000/500000 [02:39<00:00, 3141.48it/s]\n"
     ]
    },
    {
     "name": "stdout",
     "output_type": "stream",
     "text": [
      "Partition 253 completed, convergence counter: 1379\n"
     ]
    },
    {
     "name": "stderr",
     "output_type": "stream",
     "text": [
      "Simulation Progress: 100%|██████████| 500000/500000 [02:27<00:00, 3389.35it/s]\n"
     ]
    },
    {
     "name": "stdout",
     "output_type": "stream",
     "text": [
      "Partition 254 completed, convergence counter: 272\n"
     ]
    },
    {
     "name": "stderr",
     "output_type": "stream",
     "text": [
      "Simulation Progress: 100%|██████████| 500000/500000 [02:29<00:00, 3335.05it/s]\n"
     ]
    },
    {
     "name": "stdout",
     "output_type": "stream",
     "text": [
      "Partition 255 completed, convergence counter: 8186\n"
     ]
    },
    {
     "name": "stderr",
     "output_type": "stream",
     "text": [
      "Simulation Progress: 100%|██████████| 500000/500000 [02:32<00:00, 3268.84it/s]\n"
     ]
    },
    {
     "name": "stdout",
     "output_type": "stream",
     "text": [
      "Partition 256 completed, convergence counter: 42813\n"
     ]
    },
    {
     "name": "stderr",
     "output_type": "stream",
     "text": [
      "Simulation Progress: 100%|██████████| 500000/500000 [02:38<00:00, 3152.97it/s]\n"
     ]
    },
    {
     "name": "stdout",
     "output_type": "stream",
     "text": [
      "Partition 257 completed, convergence counter: 1071\n"
     ]
    },
    {
     "name": "stderr",
     "output_type": "stream",
     "text": [
      "Simulation Progress: 100%|██████████| 500000/500000 [02:34<00:00, 3240.80it/s]\n"
     ]
    },
    {
     "name": "stdout",
     "output_type": "stream",
     "text": [
      "Partition 258 completed, convergence counter: 2288\n"
     ]
    },
    {
     "name": "stderr",
     "output_type": "stream",
     "text": [
      "Simulation Progress: 100%|██████████| 500000/500000 [02:41<00:00, 3093.10it/s]\n"
     ]
    },
    {
     "name": "stdout",
     "output_type": "stream",
     "text": [
      "Partition 259 completed, convergence counter: 1128\n"
     ]
    },
    {
     "name": "stderr",
     "output_type": "stream",
     "text": [
      "Simulation Progress: 100%|██████████| 500000/500000 [02:40<00:00, 3117.75it/s]\n"
     ]
    },
    {
     "name": "stdout",
     "output_type": "stream",
     "text": [
      "Partition 260 completed, convergence counter: 2418\n"
     ]
    },
    {
     "name": "stderr",
     "output_type": "stream",
     "text": [
      "Simulation Progress: 100%|██████████| 500000/500000 [02:36<00:00, 3188.73it/s]\n"
     ]
    },
    {
     "name": "stdout",
     "output_type": "stream",
     "text": [
      "Partition 261 completed, convergence counter: 1847\n"
     ]
    },
    {
     "name": "stderr",
     "output_type": "stream",
     "text": [
      "Simulation Progress: 100%|██████████| 500000/500000 [02:55<00:00, 2850.15it/s]\n"
     ]
    },
    {
     "name": "stdout",
     "output_type": "stream",
     "text": [
      "Partition 262 completed, convergence counter: 4583\n"
     ]
    },
    {
     "name": "stderr",
     "output_type": "stream",
     "text": [
      "Simulation Progress: 100%|██████████| 500000/500000 [02:58<00:00, 2806.97it/s]\n"
     ]
    },
    {
     "name": "stdout",
     "output_type": "stream",
     "text": [
      "Partition 263 completed, convergence counter: 15513\n"
     ]
    },
    {
     "name": "stderr",
     "output_type": "stream",
     "text": [
      "Simulation Progress: 100%|██████████| 500000/500000 [03:01<00:00, 2759.03it/s]\n"
     ]
    },
    {
     "name": "stdout",
     "output_type": "stream",
     "text": [
      "Partition 264 completed, convergence counter: 3985\n"
     ]
    },
    {
     "name": "stderr",
     "output_type": "stream",
     "text": [
      "Simulation Progress: 100%|██████████| 500000/500000 [03:00<00:00, 2764.21it/s]\n"
     ]
    },
    {
     "name": "stdout",
     "output_type": "stream",
     "text": [
      "Partition 265 completed, convergence counter: 4195\n"
     ]
    },
    {
     "name": "stderr",
     "output_type": "stream",
     "text": [
      "Simulation Progress: 100%|██████████| 500000/500000 [02:59<00:00, 2789.51it/s]\n"
     ]
    },
    {
     "name": "stdout",
     "output_type": "stream",
     "text": [
      "Partition 266 completed, convergence counter: 2579\n"
     ]
    },
    {
     "name": "stderr",
     "output_type": "stream",
     "text": [
      "Simulation Progress: 100%|██████████| 500000/500000 [02:48<00:00, 2971.79it/s]\n"
     ]
    },
    {
     "name": "stdout",
     "output_type": "stream",
     "text": [
      "Partition 267 completed, convergence counter: 27\n"
     ]
    },
    {
     "name": "stderr",
     "output_type": "stream",
     "text": [
      "Simulation Progress: 100%|██████████| 500000/500000 [02:31<00:00, 3293.87it/s]\n"
     ]
    },
    {
     "name": "stdout",
     "output_type": "stream",
     "text": [
      "Partition 268 completed, convergence counter: 6550\n"
     ]
    },
    {
     "name": "stderr",
     "output_type": "stream",
     "text": [
      "Simulation Progress: 100%|██████████| 500000/500000 [02:29<00:00, 3336.92it/s]\n"
     ]
    },
    {
     "name": "stdout",
     "output_type": "stream",
     "text": [
      "Partition 269 completed, convergence counter: 143\n"
     ]
    },
    {
     "name": "stderr",
     "output_type": "stream",
     "text": [
      "Simulation Progress: 100%|██████████| 500000/500000 [02:34<00:00, 3234.58it/s]\n"
     ]
    },
    {
     "name": "stdout",
     "output_type": "stream",
     "text": [
      "Partition 270 completed, convergence counter: 504\n"
     ]
    },
    {
     "name": "stderr",
     "output_type": "stream",
     "text": [
      "Simulation Progress: 100%|██████████| 500000/500000 [02:39<00:00, 3128.62it/s]\n"
     ]
    },
    {
     "name": "stdout",
     "output_type": "stream",
     "text": [
      "Partition 271 completed, convergence counter: 91\n"
     ]
    },
    {
     "name": "stderr",
     "output_type": "stream",
     "text": [
      "Simulation Progress: 100%|██████████| 500000/500000 [02:52<00:00, 2900.15it/s]\n"
     ]
    },
    {
     "name": "stdout",
     "output_type": "stream",
     "text": [
      "Partition 272 completed, convergence counter: 3908\n"
     ]
    },
    {
     "name": "stderr",
     "output_type": "stream",
     "text": [
      "Simulation Progress: 100%|██████████| 500000/500000 [02:56<00:00, 2840.86it/s]\n"
     ]
    },
    {
     "name": "stdout",
     "output_type": "stream",
     "text": [
      "Partition 273 completed, convergence counter: 76\n"
     ]
    },
    {
     "name": "stderr",
     "output_type": "stream",
     "text": [
      "Simulation Progress: 100%|██████████| 500000/500000 [02:55<00:00, 2844.05it/s]\n"
     ]
    },
    {
     "name": "stdout",
     "output_type": "stream",
     "text": [
      "Partition 274 completed, convergence counter: 1536\n"
     ]
    },
    {
     "name": "stderr",
     "output_type": "stream",
     "text": [
      "Simulation Progress: 100%|██████████| 500000/500000 [02:52<00:00, 2893.55it/s]\n"
     ]
    },
    {
     "name": "stdout",
     "output_type": "stream",
     "text": [
      "Partition 275 completed, convergence counter: 1376\n"
     ]
    },
    {
     "name": "stderr",
     "output_type": "stream",
     "text": [
      "Simulation Progress: 100%|██████████| 500000/500000 [02:48<00:00, 2964.99it/s]\n"
     ]
    },
    {
     "name": "stdout",
     "output_type": "stream",
     "text": [
      "Partition 276 completed, convergence counter: 4148\n"
     ]
    },
    {
     "name": "stderr",
     "output_type": "stream",
     "text": [
      "Simulation Progress: 100%|██████████| 500000/500000 [02:34<00:00, 3230.99it/s]\n"
     ]
    },
    {
     "name": "stdout",
     "output_type": "stream",
     "text": [
      "Partition 277 completed, convergence counter: 137\n"
     ]
    },
    {
     "name": "stderr",
     "output_type": "stream",
     "text": [
      "Simulation Progress: 100%|██████████| 500000/500000 [02:52<00:00, 2905.84it/s]\n"
     ]
    },
    {
     "name": "stdout",
     "output_type": "stream",
     "text": [
      "Partition 278 completed, convergence counter: 11\n"
     ]
    },
    {
     "name": "stderr",
     "output_type": "stream",
     "text": [
      "Simulation Progress: 100%|██████████| 500000/500000 [02:52<00:00, 2894.07it/s]\n"
     ]
    },
    {
     "name": "stdout",
     "output_type": "stream",
     "text": [
      "Partition 279 completed, convergence counter: 1265\n"
     ]
    },
    {
     "name": "stderr",
     "output_type": "stream",
     "text": [
      "Simulation Progress: 100%|██████████| 500000/500000 [02:38<00:00, 3161.38it/s]\n"
     ]
    },
    {
     "name": "stdout",
     "output_type": "stream",
     "text": [
      "Partition 280 completed, convergence counter: 1629\n"
     ]
    },
    {
     "name": "stderr",
     "output_type": "stream",
     "text": [
      "Simulation Progress: 100%|██████████| 500000/500000 [02:32<00:00, 3287.54it/s]\n"
     ]
    },
    {
     "name": "stdout",
     "output_type": "stream",
     "text": [
      "Partition 281 completed, convergence counter: 263\n"
     ]
    },
    {
     "name": "stderr",
     "output_type": "stream",
     "text": [
      "Simulation Progress: 100%|██████████| 500000/500000 [02:47<00:00, 2988.73it/s]\n"
     ]
    },
    {
     "name": "stdout",
     "output_type": "stream",
     "text": [
      "Partition 282 completed, convergence counter: 1965\n"
     ]
    },
    {
     "name": "stderr",
     "output_type": "stream",
     "text": [
      "Simulation Progress: 100%|██████████| 500000/500000 [02:56<00:00, 2839.34it/s]\n"
     ]
    },
    {
     "name": "stdout",
     "output_type": "stream",
     "text": [
      "Partition 283 completed, convergence counter: 16\n"
     ]
    },
    {
     "name": "stderr",
     "output_type": "stream",
     "text": [
      "Simulation Progress: 100%|██████████| 500000/500000 [02:54<00:00, 2867.66it/s]\n"
     ]
    },
    {
     "name": "stdout",
     "output_type": "stream",
     "text": [
      "Partition 284 completed, convergence counter: 489\n"
     ]
    },
    {
     "name": "stderr",
     "output_type": "stream",
     "text": [
      "Simulation Progress: 100%|██████████| 500000/500000 [03:08<00:00, 2649.32it/s]\n"
     ]
    },
    {
     "name": "stdout",
     "output_type": "stream",
     "text": [
      "Partition 285 completed, convergence counter: 656\n"
     ]
    },
    {
     "name": "stderr",
     "output_type": "stream",
     "text": [
      "Simulation Progress: 100%|██████████| 500000/500000 [02:46<00:00, 3000.88it/s]\n"
     ]
    },
    {
     "name": "stdout",
     "output_type": "stream",
     "text": [
      "Partition 286 completed, convergence counter: 4666\n"
     ]
    },
    {
     "name": "stderr",
     "output_type": "stream",
     "text": [
      "Simulation Progress: 100%|██████████| 500000/500000 [03:05<00:00, 2700.41it/s]\n"
     ]
    },
    {
     "name": "stdout",
     "output_type": "stream",
     "text": [
      "Partition 287 completed, convergence counter: 128\n"
     ]
    },
    {
     "name": "stderr",
     "output_type": "stream",
     "text": [
      "Simulation Progress: 100%|██████████| 500000/500000 [02:36<00:00, 3200.34it/s]\n"
     ]
    },
    {
     "name": "stdout",
     "output_type": "stream",
     "text": [
      "Partition 288 completed, convergence counter: 2070\n"
     ]
    },
    {
     "name": "stderr",
     "output_type": "stream",
     "text": [
      "Simulation Progress: 100%|██████████| 500000/500000 [02:50<00:00, 2933.54it/s]\n"
     ]
    },
    {
     "name": "stdout",
     "output_type": "stream",
     "text": [
      "Partition 289 completed, convergence counter: 2318\n"
     ]
    },
    {
     "name": "stderr",
     "output_type": "stream",
     "text": [
      "Simulation Progress: 100%|██████████| 500000/500000 [02:54<00:00, 2869.80it/s]\n"
     ]
    },
    {
     "name": "stdout",
     "output_type": "stream",
     "text": [
      "Partition 290 completed, convergence counter: 1036\n"
     ]
    },
    {
     "name": "stderr",
     "output_type": "stream",
     "text": [
      "Simulation Progress: 100%|██████████| 500000/500000 [02:57<00:00, 2811.11it/s]\n"
     ]
    },
    {
     "name": "stdout",
     "output_type": "stream",
     "text": [
      "Partition 291 completed, convergence counter: 6149\n"
     ]
    },
    {
     "name": "stderr",
     "output_type": "stream",
     "text": [
      "Simulation Progress: 100%|██████████| 500000/500000 [02:48<00:00, 2962.15it/s]\n"
     ]
    },
    {
     "name": "stdout",
     "output_type": "stream",
     "text": [
      "Partition 292 completed, convergence counter: 1094\n"
     ]
    },
    {
     "name": "stderr",
     "output_type": "stream",
     "text": [
      "Simulation Progress: 100%|██████████| 500000/500000 [02:35<00:00, 3218.90it/s]\n"
     ]
    },
    {
     "name": "stdout",
     "output_type": "stream",
     "text": [
      "Partition 293 completed, convergence counter: 2278\n"
     ]
    },
    {
     "name": "stderr",
     "output_type": "stream",
     "text": [
      "Simulation Progress: 100%|██████████| 500000/500000 [03:06<00:00, 2674.85it/s]\n"
     ]
    },
    {
     "name": "stdout",
     "output_type": "stream",
     "text": [
      "Partition 294 completed, convergence counter: 3363\n"
     ]
    },
    {
     "name": "stderr",
     "output_type": "stream",
     "text": [
      "Simulation Progress: 100%|██████████| 500000/500000 [03:18<00:00, 2513.82it/s]\n"
     ]
    },
    {
     "name": "stdout",
     "output_type": "stream",
     "text": [
      "Partition 295 completed, convergence counter: 4440\n"
     ]
    },
    {
     "name": "stderr",
     "output_type": "stream",
     "text": [
      "Simulation Progress: 100%|██████████| 500000/500000 [02:56<00:00, 2827.93it/s]\n"
     ]
    },
    {
     "name": "stdout",
     "output_type": "stream",
     "text": [
      "Partition 296 completed, convergence counter: 347\n"
     ]
    },
    {
     "name": "stderr",
     "output_type": "stream",
     "text": [
      "Simulation Progress: 100%|██████████| 500000/500000 [03:04<00:00, 2709.84it/s]\n"
     ]
    },
    {
     "name": "stdout",
     "output_type": "stream",
     "text": [
      "Partition 297 completed, convergence counter: 1329\n"
     ]
    },
    {
     "name": "stderr",
     "output_type": "stream",
     "text": [
      "Simulation Progress: 100%|██████████| 500000/500000 [02:59<00:00, 2780.47it/s]\n"
     ]
    },
    {
     "name": "stdout",
     "output_type": "stream",
     "text": [
      "Partition 298 completed, convergence counter: 212\n"
     ]
    },
    {
     "name": "stderr",
     "output_type": "stream",
     "text": [
      "Simulation Progress: 100%|██████████| 500000/500000 [02:53<00:00, 2886.26it/s]\n"
     ]
    },
    {
     "name": "stdout",
     "output_type": "stream",
     "text": [
      "Partition 299 completed, convergence counter: 724\n"
     ]
    },
    {
     "name": "stderr",
     "output_type": "stream",
     "text": [
      "Simulation Progress: 100%|██████████| 500000/500000 [03:09<00:00, 2641.79it/s]\n"
     ]
    },
    {
     "name": "stdout",
     "output_type": "stream",
     "text": [
      "Partition 300 completed, convergence counter: 1021\n"
     ]
    },
    {
     "name": "stderr",
     "output_type": "stream",
     "text": [
      "Simulation Progress: 100%|██████████| 500000/500000 [03:02<00:00, 2737.95it/s]\n"
     ]
    },
    {
     "name": "stdout",
     "output_type": "stream",
     "text": [
      "Partition 301 completed, convergence counter: 1330\n"
     ]
    },
    {
     "name": "stderr",
     "output_type": "stream",
     "text": [
      "Simulation Progress: 100%|██████████| 500000/500000 [03:02<00:00, 2732.96it/s]\n"
     ]
    },
    {
     "name": "stdout",
     "output_type": "stream",
     "text": [
      "Partition 302 completed, convergence counter: 1807\n"
     ]
    },
    {
     "name": "stderr",
     "output_type": "stream",
     "text": [
      "Simulation Progress: 100%|██████████| 500000/500000 [02:34<00:00, 3229.26it/s]\n"
     ]
    },
    {
     "name": "stdout",
     "output_type": "stream",
     "text": [
      "Partition 303 completed, convergence counter: 586\n"
     ]
    },
    {
     "name": "stderr",
     "output_type": "stream",
     "text": [
      "Simulation Progress: 100%|██████████| 500000/500000 [03:06<00:00, 2681.43it/s]\n"
     ]
    },
    {
     "name": "stdout",
     "output_type": "stream",
     "text": [
      "Partition 304 completed, convergence counter: 1011\n"
     ]
    },
    {
     "name": "stderr",
     "output_type": "stream",
     "text": [
      "Simulation Progress: 100%|██████████| 500000/500000 [02:53<00:00, 2874.95it/s]\n"
     ]
    },
    {
     "name": "stdout",
     "output_type": "stream",
     "text": [
      "Partition 305 completed, convergence counter: 1318\n"
     ]
    },
    {
     "name": "stderr",
     "output_type": "stream",
     "text": [
      "Simulation Progress: 100%|██████████| 500000/500000 [02:43<00:00, 3049.03it/s]\n"
     ]
    },
    {
     "name": "stdout",
     "output_type": "stream",
     "text": [
      "Partition 306 completed, convergence counter: 200\n"
     ]
    },
    {
     "name": "stderr",
     "output_type": "stream",
     "text": [
      "Simulation Progress: 100%|██████████| 500000/500000 [02:46<00:00, 3009.27it/s]\n"
     ]
    },
    {
     "name": "stdout",
     "output_type": "stream",
     "text": [
      "Partition 307 completed, convergence counter: 1853\n"
     ]
    },
    {
     "name": "stderr",
     "output_type": "stream",
     "text": [
      "Simulation Progress: 100%|██████████| 500000/500000 [03:00<00:00, 2772.69it/s]\n"
     ]
    },
    {
     "name": "stdout",
     "output_type": "stream",
     "text": [
      "Partition 308 completed, convergence counter: 367\n"
     ]
    },
    {
     "name": "stderr",
     "output_type": "stream",
     "text": [
      "Simulation Progress: 100%|██████████| 500000/500000 [02:59<00:00, 2788.90it/s]\n"
     ]
    },
    {
     "name": "stdout",
     "output_type": "stream",
     "text": [
      "Partition 309 completed, convergence counter: 1234\n"
     ]
    },
    {
     "name": "stderr",
     "output_type": "stream",
     "text": [
      "Simulation Progress: 100%|██████████| 500000/500000 [02:54<00:00, 2868.21it/s]\n"
     ]
    },
    {
     "name": "stdout",
     "output_type": "stream",
     "text": [
      "Partition 310 completed, convergence counter: 4910\n"
     ]
    },
    {
     "name": "stderr",
     "output_type": "stream",
     "text": [
      "Simulation Progress: 100%|██████████| 500000/500000 [02:59<00:00, 2779.49it/s]\n"
     ]
    },
    {
     "name": "stdout",
     "output_type": "stream",
     "text": [
      "Partition 311 completed, convergence counter: 113\n"
     ]
    },
    {
     "name": "stderr",
     "output_type": "stream",
     "text": [
      "Simulation Progress: 100%|██████████| 500000/500000 [02:55<00:00, 2841.33it/s]\n"
     ]
    },
    {
     "name": "stdout",
     "output_type": "stream",
     "text": [
      "Partition 312 completed, convergence counter: 5702\n"
     ]
    },
    {
     "name": "stderr",
     "output_type": "stream",
     "text": [
      "Simulation Progress: 100%|██████████| 500000/500000 [02:58<00:00, 2800.62it/s]\n"
     ]
    },
    {
     "name": "stdout",
     "output_type": "stream",
     "text": [
      "Partition 313 completed, convergence counter: 735\n"
     ]
    },
    {
     "name": "stderr",
     "output_type": "stream",
     "text": [
      "Simulation Progress: 100%|██████████| 500000/500000 [02:36<00:00, 3194.84it/s]\n"
     ]
    },
    {
     "name": "stdout",
     "output_type": "stream",
     "text": [
      "Partition 314 completed, convergence counter: 2884\n"
     ]
    },
    {
     "name": "stderr",
     "output_type": "stream",
     "text": [
      "Simulation Progress: 100%|██████████| 500000/500000 [03:13<00:00, 2587.55it/s]\n"
     ]
    },
    {
     "name": "stdout",
     "output_type": "stream",
     "text": [
      "Partition 315 completed, convergence counter: 1218\n"
     ]
    },
    {
     "name": "stderr",
     "output_type": "stream",
     "text": [
      "Simulation Progress: 100%|██████████| 500000/500000 [03:01<00:00, 2747.75it/s]\n"
     ]
    },
    {
     "name": "stdout",
     "output_type": "stream",
     "text": [
      "Partition 316 completed, convergence counter: 1375\n"
     ]
    },
    {
     "name": "stderr",
     "output_type": "stream",
     "text": [
      "Simulation Progress: 100%|██████████| 500000/500000 [03:07<00:00, 2666.12it/s]\n"
     ]
    },
    {
     "name": "stdout",
     "output_type": "stream",
     "text": [
      "Partition 317 completed, convergence counter: 15\n"
     ]
    },
    {
     "name": "stderr",
     "output_type": "stream",
     "text": [
      "Simulation Progress: 100%|██████████| 500000/500000 [03:01<00:00, 2753.45it/s]\n"
     ]
    },
    {
     "name": "stdout",
     "output_type": "stream",
     "text": [
      "Partition 318 completed, convergence counter: 479\n"
     ]
    },
    {
     "name": "stderr",
     "output_type": "stream",
     "text": [
      "Simulation Progress: 100%|██████████| 500000/500000 [02:49<00:00, 2945.06it/s]\n"
     ]
    },
    {
     "name": "stdout",
     "output_type": "stream",
     "text": [
      "Partition 319 completed, convergence counter: 1861\n"
     ]
    },
    {
     "name": "stderr",
     "output_type": "stream",
     "text": [
      "Simulation Progress: 100%|██████████| 500000/500000 [02:49<00:00, 2953.27it/s]\n"
     ]
    },
    {
     "name": "stdout",
     "output_type": "stream",
     "text": [
      "Partition 320 completed, convergence counter: 1452\n"
     ]
    },
    {
     "name": "stderr",
     "output_type": "stream",
     "text": [
      "Simulation Progress: 100%|██████████| 500000/500000 [02:50<00:00, 2938.81it/s]\n"
     ]
    },
    {
     "name": "stdout",
     "output_type": "stream",
     "text": [
      "Partition 321 completed, convergence counter: 1731\n"
     ]
    },
    {
     "name": "stderr",
     "output_type": "stream",
     "text": [
      "Simulation Progress: 100%|██████████| 500000/500000 [02:38<00:00, 3150.29it/s]\n"
     ]
    },
    {
     "name": "stdout",
     "output_type": "stream",
     "text": [
      "Partition 322 completed, convergence counter: 6\n"
     ]
    },
    {
     "name": "stderr",
     "output_type": "stream",
     "text": [
      "Simulation Progress: 100%|██████████| 500000/500000 [03:06<00:00, 2678.36it/s]\n"
     ]
    },
    {
     "name": "stdout",
     "output_type": "stream",
     "text": [
      "Partition 323 completed, convergence counter: 6159\n"
     ]
    },
    {
     "name": "stderr",
     "output_type": "stream",
     "text": [
      "Simulation Progress: 100%|██████████| 500000/500000 [03:10<00:00, 2618.56it/s]\n"
     ]
    },
    {
     "name": "stdout",
     "output_type": "stream",
     "text": [
      "Partition 324 completed, convergence counter: 1426\n"
     ]
    },
    {
     "name": "stderr",
     "output_type": "stream",
     "text": [
      "Simulation Progress: 100%|██████████| 500000/500000 [03:12<00:00, 2599.63it/s]\n"
     ]
    },
    {
     "name": "stdout",
     "output_type": "stream",
     "text": [
      "Partition 325 completed, convergence counter: 4810\n"
     ]
    },
    {
     "name": "stderr",
     "output_type": "stream",
     "text": [
      "Simulation Progress: 100%|██████████| 500000/500000 [03:08<00:00, 2652.06it/s]\n"
     ]
    },
    {
     "name": "stdout",
     "output_type": "stream",
     "text": [
      "Partition 326 completed, convergence counter: 1647\n"
     ]
    },
    {
     "name": "stderr",
     "output_type": "stream",
     "text": [
      "Simulation Progress: 100%|██████████| 500000/500000 [03:14<00:00, 2575.97it/s]\n"
     ]
    },
    {
     "name": "stdout",
     "output_type": "stream",
     "text": [
      "Partition 327 completed, convergence counter: 332\n"
     ]
    },
    {
     "name": "stderr",
     "output_type": "stream",
     "text": [
      "Simulation Progress: 100%|██████████| 500000/500000 [03:01<00:00, 2761.80it/s]\n"
     ]
    },
    {
     "name": "stdout",
     "output_type": "stream",
     "text": [
      "Partition 328 completed, convergence counter: 16148\n"
     ]
    },
    {
     "name": "stderr",
     "output_type": "stream",
     "text": [
      "Simulation Progress: 100%|██████████| 500000/500000 [03:02<00:00, 2734.83it/s]\n"
     ]
    },
    {
     "name": "stdout",
     "output_type": "stream",
     "text": [
      "Partition 329 completed, convergence counter: 17354\n"
     ]
    },
    {
     "name": "stderr",
     "output_type": "stream",
     "text": [
      "Simulation Progress: 100%|██████████| 500000/500000 [03:21<00:00, 2481.59it/s]\n"
     ]
    },
    {
     "name": "stdout",
     "output_type": "stream",
     "text": [
      "Partition 330 completed, convergence counter: 2762\n"
     ]
    },
    {
     "name": "stderr",
     "output_type": "stream",
     "text": [
      "Simulation Progress: 100%|██████████| 500000/500000 [02:44<00:00, 3037.27it/s]\n"
     ]
    },
    {
     "name": "stdout",
     "output_type": "stream",
     "text": [
      "Partition 331 completed, convergence counter: 16817\n"
     ]
    },
    {
     "name": "stderr",
     "output_type": "stream",
     "text": [
      "Simulation Progress: 100%|██████████| 500000/500000 [02:45<00:00, 3028.12it/s]\n"
     ]
    },
    {
     "name": "stdout",
     "output_type": "stream",
     "text": [
      "Partition 332 completed, convergence counter: 1343\n"
     ]
    },
    {
     "name": "stderr",
     "output_type": "stream",
     "text": [
      "Simulation Progress: 100%|██████████| 500000/500000 [03:02<00:00, 2744.02it/s]\n"
     ]
    },
    {
     "name": "stdout",
     "output_type": "stream",
     "text": [
      "Partition 333 completed, convergence counter: 2068\n"
     ]
    },
    {
     "name": "stderr",
     "output_type": "stream",
     "text": [
      "Simulation Progress: 100%|██████████| 500000/500000 [02:59<00:00, 2781.33it/s]\n"
     ]
    },
    {
     "name": "stdout",
     "output_type": "stream",
     "text": [
      "Partition 334 completed, convergence counter: 3152\n"
     ]
    },
    {
     "name": "stderr",
     "output_type": "stream",
     "text": [
      "Simulation Progress: 100%|██████████| 500000/500000 [03:00<00:00, 2766.38it/s]\n"
     ]
    },
    {
     "name": "stdout",
     "output_type": "stream",
     "text": [
      "Partition 335 completed, convergence counter: 796\n"
     ]
    },
    {
     "name": "stderr",
     "output_type": "stream",
     "text": [
      "Simulation Progress: 100%|██████████| 500000/500000 [03:15<00:00, 2557.82it/s]\n"
     ]
    },
    {
     "name": "stdout",
     "output_type": "stream",
     "text": [
      "Partition 336 completed, convergence counter: 8495\n"
     ]
    },
    {
     "name": "stderr",
     "output_type": "stream",
     "text": [
      "Simulation Progress: 100%|██████████| 500000/500000 [02:52<00:00, 2895.27it/s]\n"
     ]
    },
    {
     "name": "stdout",
     "output_type": "stream",
     "text": [
      "Partition 337 completed, convergence counter: 13724\n"
     ]
    },
    {
     "name": "stderr",
     "output_type": "stream",
     "text": [
      "Simulation Progress: 100%|██████████| 500000/500000 [03:07<00:00, 2660.83it/s]\n"
     ]
    },
    {
     "name": "stdout",
     "output_type": "stream",
     "text": [
      "Partition 338 completed, convergence counter: 330\n"
     ]
    },
    {
     "name": "stderr",
     "output_type": "stream",
     "text": [
      "Simulation Progress: 100%|██████████| 500000/500000 [03:00<00:00, 2769.49it/s]\n"
     ]
    },
    {
     "name": "stdout",
     "output_type": "stream",
     "text": [
      "Partition 339 completed, convergence counter: 1972\n"
     ]
    },
    {
     "name": "stderr",
     "output_type": "stream",
     "text": [
      "Simulation Progress: 100%|██████████| 500000/500000 [02:57<00:00, 2809.13it/s]\n"
     ]
    },
    {
     "name": "stdout",
     "output_type": "stream",
     "text": [
      "Partition 340 completed, convergence counter: 174\n"
     ]
    },
    {
     "name": "stderr",
     "output_type": "stream",
     "text": [
      "Simulation Progress: 100%|██████████| 500000/500000 [03:01<00:00, 2755.65it/s]\n"
     ]
    },
    {
     "name": "stdout",
     "output_type": "stream",
     "text": [
      "Partition 341 completed, convergence counter: 1047\n"
     ]
    },
    {
     "name": "stderr",
     "output_type": "stream",
     "text": [
      "Simulation Progress: 100%|██████████| 500000/500000 [02:59<00:00, 2779.16it/s]\n"
     ]
    },
    {
     "name": "stdout",
     "output_type": "stream",
     "text": [
      "Partition 342 completed, convergence counter: 1522\n"
     ]
    },
    {
     "name": "stderr",
     "output_type": "stream",
     "text": [
      "Simulation Progress: 100%|██████████| 500000/500000 [02:53<00:00, 2877.66it/s]\n"
     ]
    },
    {
     "name": "stdout",
     "output_type": "stream",
     "text": [
      "Partition 343 completed, convergence counter: 2184\n"
     ]
    },
    {
     "name": "stderr",
     "output_type": "stream",
     "text": [
      "Simulation Progress: 100%|██████████| 500000/500000 [03:08<00:00, 2655.85it/s]\n"
     ]
    },
    {
     "name": "stdout",
     "output_type": "stream",
     "text": [
      "Partition 344 completed, convergence counter: 2403\n"
     ]
    },
    {
     "name": "stderr",
     "output_type": "stream",
     "text": [
      "Simulation Progress: 100%|██████████| 500000/500000 [03:09<00:00, 2635.28it/s]\n"
     ]
    },
    {
     "name": "stdout",
     "output_type": "stream",
     "text": [
      "Partition 345 completed, convergence counter: 1821\n"
     ]
    },
    {
     "name": "stderr",
     "output_type": "stream",
     "text": [
      "Simulation Progress: 100%|██████████| 500000/500000 [03:08<00:00, 2647.05it/s]\n"
     ]
    },
    {
     "name": "stdout",
     "output_type": "stream",
     "text": [
      "Partition 346 completed, convergence counter: 3157\n"
     ]
    },
    {
     "name": "stderr",
     "output_type": "stream",
     "text": [
      "Simulation Progress: 100%|██████████| 500000/500000 [03:01<00:00, 2754.88it/s]\n"
     ]
    },
    {
     "name": "stdout",
     "output_type": "stream",
     "text": [
      "Partition 347 completed, convergence counter: 1447\n"
     ]
    },
    {
     "name": "stderr",
     "output_type": "stream",
     "text": [
      "Simulation Progress: 100%|██████████| 500000/500000 [03:17<00:00, 2530.27it/s]\n"
     ]
    },
    {
     "name": "stdout",
     "output_type": "stream",
     "text": [
      "Partition 348 completed, convergence counter: 128\n"
     ]
    },
    {
     "name": "stderr",
     "output_type": "stream",
     "text": [
      "Simulation Progress: 100%|██████████| 500000/500000 [03:27<00:00, 2414.19it/s]\n"
     ]
    },
    {
     "name": "stdout",
     "output_type": "stream",
     "text": [
      "Partition 349 completed, convergence counter: 3476\n"
     ]
    },
    {
     "name": "stderr",
     "output_type": "stream",
     "text": [
      "Simulation Progress: 100%|██████████| 500000/500000 [03:02<00:00, 2737.73it/s]\n"
     ]
    },
    {
     "name": "stdout",
     "output_type": "stream",
     "text": [
      "Partition 350 completed, convergence counter: 9429\n"
     ]
    },
    {
     "name": "stderr",
     "output_type": "stream",
     "text": [
      "Simulation Progress: 100%|██████████| 500000/500000 [02:55<00:00, 2852.05it/s]\n"
     ]
    },
    {
     "name": "stdout",
     "output_type": "stream",
     "text": [
      "Partition 351 completed, convergence counter: 2663\n"
     ]
    },
    {
     "name": "stderr",
     "output_type": "stream",
     "text": [
      "Simulation Progress: 100%|██████████| 500000/500000 [02:40<00:00, 3120.63it/s]\n"
     ]
    },
    {
     "name": "stdout",
     "output_type": "stream",
     "text": [
      "Partition 352 completed, convergence counter: 1598\n"
     ]
    },
    {
     "name": "stderr",
     "output_type": "stream",
     "text": [
      "Simulation Progress: 100%|██████████| 500000/500000 [02:50<00:00, 2937.12it/s]\n"
     ]
    },
    {
     "name": "stdout",
     "output_type": "stream",
     "text": [
      "Partition 353 completed, convergence counter: 10711\n"
     ]
    },
    {
     "name": "stderr",
     "output_type": "stream",
     "text": [
      "Simulation Progress: 100%|██████████| 500000/500000 [02:47<00:00, 2977.81it/s]\n"
     ]
    },
    {
     "name": "stdout",
     "output_type": "stream",
     "text": [
      "Partition 354 completed, convergence counter: 768\n"
     ]
    },
    {
     "name": "stderr",
     "output_type": "stream",
     "text": [
      "Simulation Progress: 100%|██████████| 500000/500000 [02:36<00:00, 3203.20it/s]\n"
     ]
    },
    {
     "name": "stdout",
     "output_type": "stream",
     "text": [
      "Partition 355 completed, convergence counter: 4897\n"
     ]
    },
    {
     "name": "stderr",
     "output_type": "stream",
     "text": [
      "Simulation Progress: 100%|██████████| 500000/500000 [02:32<00:00, 3274.24it/s]\n"
     ]
    },
    {
     "name": "stdout",
     "output_type": "stream",
     "text": [
      "Partition 356 completed, convergence counter: 12431\n"
     ]
    },
    {
     "name": "stderr",
     "output_type": "stream",
     "text": [
      "Simulation Progress: 100%|██████████| 500000/500000 [03:03<00:00, 2730.83it/s]\n"
     ]
    },
    {
     "name": "stdout",
     "output_type": "stream",
     "text": [
      "Partition 357 completed, convergence counter: 5971\n"
     ]
    },
    {
     "name": "stderr",
     "output_type": "stream",
     "text": [
      "Simulation Progress: 100%|██████████| 500000/500000 [02:43<00:00, 3048.93it/s]\n"
     ]
    },
    {
     "name": "stdout",
     "output_type": "stream",
     "text": [
      "Partition 358 completed, convergence counter: 3067\n"
     ]
    },
    {
     "name": "stderr",
     "output_type": "stream",
     "text": [
      "Simulation Progress: 100%|██████████| 500000/500000 [03:23<00:00, 2457.60it/s]\n"
     ]
    },
    {
     "name": "stdout",
     "output_type": "stream",
     "text": [
      "Partition 359 completed, convergence counter: 2933\n"
     ]
    },
    {
     "name": "stderr",
     "output_type": "stream",
     "text": [
      "Simulation Progress: 100%|██████████| 500000/500000 [02:53<00:00, 2884.21it/s]\n"
     ]
    },
    {
     "name": "stdout",
     "output_type": "stream",
     "text": [
      "Partition 360 completed, convergence counter: 168\n"
     ]
    },
    {
     "name": "stderr",
     "output_type": "stream",
     "text": [
      "Simulation Progress: 100%|██████████| 500000/500000 [02:46<00:00, 2997.21it/s]\n"
     ]
    },
    {
     "name": "stdout",
     "output_type": "stream",
     "text": [
      "Partition 361 completed, convergence counter: 4552\n"
     ]
    },
    {
     "name": "stderr",
     "output_type": "stream",
     "text": [
      "Simulation Progress: 100%|██████████| 500000/500000 [03:21<00:00, 2477.34it/s]\n"
     ]
    },
    {
     "name": "stdout",
     "output_type": "stream",
     "text": [
      "Partition 362 completed, convergence counter: 636\n"
     ]
    },
    {
     "name": "stderr",
     "output_type": "stream",
     "text": [
      "Simulation Progress: 100%|██████████| 500000/500000 [03:04<00:00, 2710.66it/s]\n"
     ]
    },
    {
     "name": "stdout",
     "output_type": "stream",
     "text": [
      "Partition 363 completed, convergence counter: 3822\n"
     ]
    },
    {
     "name": "stderr",
     "output_type": "stream",
     "text": [
      "Simulation Progress: 100%|██████████| 500000/500000 [03:09<00:00, 2643.41it/s]\n"
     ]
    },
    {
     "name": "stdout",
     "output_type": "stream",
     "text": [
      "Partition 364 completed, convergence counter: 886\n"
     ]
    },
    {
     "name": "stderr",
     "output_type": "stream",
     "text": [
      "Simulation Progress: 100%|██████████| 500000/500000 [03:18<00:00, 2522.15it/s]\n"
     ]
    },
    {
     "name": "stdout",
     "output_type": "stream",
     "text": [
      "Partition 365 completed, convergence counter: 230\n"
     ]
    },
    {
     "name": "stderr",
     "output_type": "stream",
     "text": [
      "Simulation Progress: 100%|██████████| 500000/500000 [03:16<00:00, 2546.75it/s]\n"
     ]
    },
    {
     "name": "stdout",
     "output_type": "stream",
     "text": [
      "Partition 366 completed, convergence counter: 4184\n"
     ]
    },
    {
     "name": "stderr",
     "output_type": "stream",
     "text": [
      "Simulation Progress: 100%|██████████| 500000/500000 [03:14<00:00, 2565.78it/s]\n"
     ]
    },
    {
     "name": "stdout",
     "output_type": "stream",
     "text": [
      "Partition 367 completed, convergence counter: 1002\n"
     ]
    },
    {
     "name": "stderr",
     "output_type": "stream",
     "text": [
      "Simulation Progress: 100%|██████████| 500000/500000 [03:05<00:00, 2695.06it/s]\n"
     ]
    },
    {
     "name": "stdout",
     "output_type": "stream",
     "text": [
      "Partition 368 completed, convergence counter: 87\n"
     ]
    },
    {
     "name": "stderr",
     "output_type": "stream",
     "text": [
      "Simulation Progress: 100%|██████████| 500000/500000 [02:43<00:00, 3061.55it/s]\n"
     ]
    },
    {
     "name": "stdout",
     "output_type": "stream",
     "text": [
      "Partition 369 completed, convergence counter: 212\n"
     ]
    },
    {
     "name": "stderr",
     "output_type": "stream",
     "text": [
      "Simulation Progress: 100%|██████████| 500000/500000 [03:22<00:00, 2474.06it/s]\n"
     ]
    },
    {
     "name": "stdout",
     "output_type": "stream",
     "text": [
      "Partition 370 completed, convergence counter: 186\n"
     ]
    },
    {
     "name": "stderr",
     "output_type": "stream",
     "text": [
      "Simulation Progress: 100%|██████████| 500000/500000 [03:01<00:00, 2760.80it/s]\n"
     ]
    },
    {
     "name": "stdout",
     "output_type": "stream",
     "text": [
      "Partition 371 completed, convergence counter: 1165\n"
     ]
    },
    {
     "name": "stderr",
     "output_type": "stream",
     "text": [
      "Simulation Progress: 100%|██████████| 500000/500000 [03:07<00:00, 2662.99it/s]\n"
     ]
    },
    {
     "name": "stdout",
     "output_type": "stream",
     "text": [
      "Partition 372 completed, convergence counter: 16\n"
     ]
    },
    {
     "name": "stderr",
     "output_type": "stream",
     "text": [
      "Simulation Progress: 100%|██████████| 500000/500000 [03:04<00:00, 2708.17it/s]\n"
     ]
    },
    {
     "name": "stdout",
     "output_type": "stream",
     "text": [
      "Partition 373 completed, convergence counter: 607\n"
     ]
    },
    {
     "name": "stderr",
     "output_type": "stream",
     "text": [
      "Simulation Progress: 100%|██████████| 500000/500000 [03:02<00:00, 2742.86it/s]\n"
     ]
    },
    {
     "name": "stdout",
     "output_type": "stream",
     "text": [
      "Partition 374 completed, convergence counter: 441\n"
     ]
    },
    {
     "name": "stderr",
     "output_type": "stream",
     "text": [
      "Simulation Progress: 100%|██████████| 500000/500000 [02:42<00:00, 3075.06it/s]\n"
     ]
    },
    {
     "name": "stdout",
     "output_type": "stream",
     "text": [
      "Partition 375 completed, convergence counter: 388\n"
     ]
    },
    {
     "name": "stderr",
     "output_type": "stream",
     "text": [
      "Simulation Progress: 100%|██████████| 500000/500000 [02:43<00:00, 3063.62it/s]\n"
     ]
    },
    {
     "name": "stdout",
     "output_type": "stream",
     "text": [
      "Partition 376 completed, convergence counter: 504\n"
     ]
    },
    {
     "name": "stderr",
     "output_type": "stream",
     "text": [
      "Simulation Progress: 100%|██████████| 500000/500000 [03:01<00:00, 2760.48it/s]\n"
     ]
    },
    {
     "name": "stdout",
     "output_type": "stream",
     "text": [
      "Partition 377 completed, convergence counter: 1861\n"
     ]
    },
    {
     "name": "stderr",
     "output_type": "stream",
     "text": [
      "Simulation Progress: 100%|██████████| 500000/500000 [02:37<00:00, 3184.30it/s]\n"
     ]
    },
    {
     "name": "stdout",
     "output_type": "stream",
     "text": [
      "Partition 378 completed, convergence counter: 2526\n"
     ]
    },
    {
     "name": "stderr",
     "output_type": "stream",
     "text": [
      "Simulation Progress: 100%|██████████| 500000/500000 [03:18<00:00, 2513.32it/s]\n"
     ]
    },
    {
     "name": "stdout",
     "output_type": "stream",
     "text": [
      "Partition 379 completed, convergence counter: 8789\n"
     ]
    },
    {
     "name": "stderr",
     "output_type": "stream",
     "text": [
      "Simulation Progress: 100%|██████████| 500000/500000 [02:49<00:00, 2950.62it/s]\n"
     ]
    },
    {
     "name": "stdout",
     "output_type": "stream",
     "text": [
      "Partition 380 completed, convergence counter: 83\n"
     ]
    },
    {
     "name": "stderr",
     "output_type": "stream",
     "text": [
      "Simulation Progress: 100%|██████████| 500000/500000 [03:07<00:00, 2660.20it/s]\n"
     ]
    },
    {
     "name": "stdout",
     "output_type": "stream",
     "text": [
      "Partition 381 completed, convergence counter: 12174\n"
     ]
    },
    {
     "name": "stderr",
     "output_type": "stream",
     "text": [
      "Simulation Progress: 100%|██████████| 500000/500000 [03:00<00:00, 2771.23it/s]\n"
     ]
    },
    {
     "name": "stdout",
     "output_type": "stream",
     "text": [
      "Partition 382 completed, convergence counter: 10096\n"
     ]
    },
    {
     "name": "stderr",
     "output_type": "stream",
     "text": [
      "Simulation Progress: 100%|██████████| 500000/500000 [02:28<00:00, 3363.86it/s]\n"
     ]
    },
    {
     "name": "stdout",
     "output_type": "stream",
     "text": [
      "Partition 383 completed, convergence counter: 11509\n"
     ]
    },
    {
     "name": "stderr",
     "output_type": "stream",
     "text": [
      "Simulation Progress: 100%|██████████| 500000/500000 [03:12<00:00, 2600.95it/s]\n"
     ]
    },
    {
     "name": "stdout",
     "output_type": "stream",
     "text": [
      "Partition 384 completed, convergence counter: 9864\n"
     ]
    },
    {
     "name": "stderr",
     "output_type": "stream",
     "text": [
      "Simulation Progress: 100%|██████████| 500000/500000 [03:16<00:00, 2544.04it/s]\n"
     ]
    },
    {
     "name": "stdout",
     "output_type": "stream",
     "text": [
      "Partition 385 completed, convergence counter: 956\n"
     ]
    },
    {
     "name": "stderr",
     "output_type": "stream",
     "text": [
      "Simulation Progress: 100%|██████████| 500000/500000 [02:38<00:00, 3160.34it/s]\n"
     ]
    },
    {
     "name": "stdout",
     "output_type": "stream",
     "text": [
      "Partition 386 completed, convergence counter: 1948\n"
     ]
    },
    {
     "name": "stderr",
     "output_type": "stream",
     "text": [
      "Simulation Progress: 100%|██████████| 500000/500000 [03:22<00:00, 2474.46it/s]\n"
     ]
    },
    {
     "name": "stdout",
     "output_type": "stream",
     "text": [
      "Partition 387 completed, convergence counter: 14717\n"
     ]
    },
    {
     "name": "stderr",
     "output_type": "stream",
     "text": [
      "Simulation Progress: 100%|██████████| 500000/500000 [03:24<00:00, 2448.01it/s]\n"
     ]
    },
    {
     "name": "stdout",
     "output_type": "stream",
     "text": [
      "Partition 388 completed, convergence counter: 301\n"
     ]
    },
    {
     "name": "stderr",
     "output_type": "stream",
     "text": [
      "Simulation Progress: 100%|██████████| 500000/500000 [02:54<00:00, 2860.63it/s]\n"
     ]
    },
    {
     "name": "stdout",
     "output_type": "stream",
     "text": [
      "Partition 389 completed, convergence counter: 1012\n"
     ]
    },
    {
     "name": "stderr",
     "output_type": "stream",
     "text": [
      "Simulation Progress: 100%|██████████| 500000/500000 [03:23<00:00, 2460.58it/s]\n"
     ]
    },
    {
     "name": "stdout",
     "output_type": "stream",
     "text": [
      "Partition 390 completed, convergence counter: 425\n"
     ]
    },
    {
     "name": "stderr",
     "output_type": "stream",
     "text": [
      "Simulation Progress: 100%|██████████| 500000/500000 [03:09<00:00, 2643.34it/s]\n"
     ]
    },
    {
     "name": "stdout",
     "output_type": "stream",
     "text": [
      "Partition 391 completed, convergence counter: 804\n"
     ]
    },
    {
     "name": "stderr",
     "output_type": "stream",
     "text": [
      "Simulation Progress: 100%|██████████| 500000/500000 [03:16<00:00, 2546.55it/s]\n"
     ]
    },
    {
     "name": "stdout",
     "output_type": "stream",
     "text": [
      "Partition 392 completed, convergence counter: 140\n"
     ]
    },
    {
     "name": "stderr",
     "output_type": "stream",
     "text": [
      "Simulation Progress: 100%|██████████| 500000/500000 [02:53<00:00, 2883.69it/s]\n"
     ]
    },
    {
     "name": "stdout",
     "output_type": "stream",
     "text": [
      "Partition 393 completed, convergence counter: 2100\n"
     ]
    },
    {
     "name": "stderr",
     "output_type": "stream",
     "text": [
      "Simulation Progress: 100%|██████████| 500000/500000 [03:20<00:00, 2493.31it/s]\n"
     ]
    },
    {
     "name": "stdout",
     "output_type": "stream",
     "text": [
      "Partition 394 completed, convergence counter: 2164\n"
     ]
    },
    {
     "name": "stderr",
     "output_type": "stream",
     "text": [
      "Simulation Progress: 100%|██████████| 500000/500000 [03:18<00:00, 2517.10it/s]\n"
     ]
    },
    {
     "name": "stdout",
     "output_type": "stream",
     "text": [
      "Partition 395 completed, convergence counter: 4267\n"
     ]
    },
    {
     "name": "stderr",
     "output_type": "stream",
     "text": [
      "Simulation Progress: 100%|██████████| 500000/500000 [03:19<00:00, 2510.72it/s]\n"
     ]
    },
    {
     "name": "stdout",
     "output_type": "stream",
     "text": [
      "Partition 396 completed, convergence counter: 706\n"
     ]
    },
    {
     "name": "stderr",
     "output_type": "stream",
     "text": [
      "Simulation Progress: 100%|██████████| 500000/500000 [02:45<00:00, 3020.32it/s]\n"
     ]
    },
    {
     "name": "stdout",
     "output_type": "stream",
     "text": [
      "Partition 397 completed, convergence counter: 2970\n"
     ]
    },
    {
     "name": "stderr",
     "output_type": "stream",
     "text": [
      "Simulation Progress: 100%|██████████| 500000/500000 [02:59<00:00, 2782.99it/s]\n"
     ]
    },
    {
     "name": "stdout",
     "output_type": "stream",
     "text": [
      "Partition 398 completed, convergence counter: 806\n"
     ]
    },
    {
     "name": "stderr",
     "output_type": "stream",
     "text": [
      "Simulation Progress: 100%|██████████| 500000/500000 [03:02<00:00, 2737.88it/s]\n"
     ]
    },
    {
     "name": "stdout",
     "output_type": "stream",
     "text": [
      "Partition 399 completed, convergence counter: 591\n"
     ]
    },
    {
     "name": "stderr",
     "output_type": "stream",
     "text": [
      "Simulation Progress: 100%|██████████| 500000/500000 [03:36<00:00, 2314.00it/s]\n"
     ]
    },
    {
     "name": "stdout",
     "output_type": "stream",
     "text": [
      "Partition 400 completed, convergence counter: 7587\n"
     ]
    },
    {
     "name": "stderr",
     "output_type": "stream",
     "text": [
      "Simulation Progress: 100%|██████████| 500000/500000 [03:10<00:00, 2623.48it/s]\n"
     ]
    },
    {
     "name": "stdout",
     "output_type": "stream",
     "text": [
      "Partition 401 completed, convergence counter: 4856\n"
     ]
    },
    {
     "name": "stderr",
     "output_type": "stream",
     "text": [
      "Simulation Progress: 100%|██████████| 500000/500000 [02:49<00:00, 2949.14it/s]\n"
     ]
    },
    {
     "name": "stdout",
     "output_type": "stream",
     "text": [
      "Partition 402 completed, convergence counter: 37\n"
     ]
    },
    {
     "name": "stderr",
     "output_type": "stream",
     "text": [
      "Simulation Progress: 100%|██████████| 500000/500000 [03:09<00:00, 2636.71it/s]\n"
     ]
    },
    {
     "name": "stdout",
     "output_type": "stream",
     "text": [
      "Partition 403 completed, convergence counter: 7084\n"
     ]
    },
    {
     "name": "stderr",
     "output_type": "stream",
     "text": [
      "Simulation Progress: 100%|██████████| 500000/500000 [02:46<00:00, 2999.25it/s]\n"
     ]
    },
    {
     "name": "stdout",
     "output_type": "stream",
     "text": [
      "Partition 404 completed, convergence counter: 20\n"
     ]
    },
    {
     "name": "stderr",
     "output_type": "stream",
     "text": [
      "Simulation Progress: 100%|██████████| 500000/500000 [03:02<00:00, 2737.31it/s]\n"
     ]
    },
    {
     "name": "stdout",
     "output_type": "stream",
     "text": [
      "Partition 405 completed, convergence counter: 1594\n"
     ]
    },
    {
     "name": "stderr",
     "output_type": "stream",
     "text": [
      "Simulation Progress: 100%|██████████| 500000/500000 [03:00<00:00, 2775.93it/s]\n"
     ]
    },
    {
     "name": "stdout",
     "output_type": "stream",
     "text": [
      "Partition 406 completed, convergence counter: 2429\n"
     ]
    },
    {
     "name": "stderr",
     "output_type": "stream",
     "text": [
      "Simulation Progress: 100%|██████████| 500000/500000 [02:44<00:00, 3043.77it/s]\n"
     ]
    },
    {
     "name": "stdout",
     "output_type": "stream",
     "text": [
      "Partition 407 completed, convergence counter: 179\n"
     ]
    },
    {
     "name": "stderr",
     "output_type": "stream",
     "text": [
      "Simulation Progress: 100%|██████████| 500000/500000 [03:12<00:00, 2591.87it/s]\n"
     ]
    },
    {
     "name": "stdout",
     "output_type": "stream",
     "text": [
      "Partition 408 completed, convergence counter: 2011\n"
     ]
    },
    {
     "name": "stderr",
     "output_type": "stream",
     "text": [
      "Simulation Progress: 100%|██████████| 500000/500000 [03:07<00:00, 2663.28it/s]\n"
     ]
    },
    {
     "name": "stdout",
     "output_type": "stream",
     "text": [
      "Partition 409 completed, convergence counter: 29415\n"
     ]
    },
    {
     "name": "stderr",
     "output_type": "stream",
     "text": [
      "Simulation Progress: 100%|██████████| 500000/500000 [03:04<00:00, 2705.28it/s]\n"
     ]
    },
    {
     "name": "stdout",
     "output_type": "stream",
     "text": [
      "Partition 410 completed, convergence counter: 429\n"
     ]
    },
    {
     "name": "stderr",
     "output_type": "stream",
     "text": [
      "Simulation Progress: 100%|██████████| 500000/500000 [03:15<00:00, 2560.45it/s]\n"
     ]
    },
    {
     "name": "stdout",
     "output_type": "stream",
     "text": [
      "Partition 411 completed, convergence counter: 6166\n"
     ]
    },
    {
     "name": "stderr",
     "output_type": "stream",
     "text": [
      "Simulation Progress: 100%|██████████| 500000/500000 [03:09<00:00, 2642.66it/s]\n"
     ]
    },
    {
     "name": "stdout",
     "output_type": "stream",
     "text": [
      "Partition 412 completed, convergence counter: 652\n"
     ]
    },
    {
     "name": "stderr",
     "output_type": "stream",
     "text": [
      "Simulation Progress: 100%|██████████| 500000/500000 [02:52<00:00, 2899.41it/s]\n"
     ]
    },
    {
     "name": "stdout",
     "output_type": "stream",
     "text": [
      "Partition 413 completed, convergence counter: 1253\n"
     ]
    },
    {
     "name": "stderr",
     "output_type": "stream",
     "text": [
      "Simulation Progress: 100%|██████████| 500000/500000 [02:39<00:00, 3131.66it/s]\n"
     ]
    },
    {
     "name": "stdout",
     "output_type": "stream",
     "text": [
      "Partition 414 completed, convergence counter: 1035\n"
     ]
    },
    {
     "name": "stderr",
     "output_type": "stream",
     "text": [
      "Simulation Progress: 100%|██████████| 500000/500000 [02:42<00:00, 3072.15it/s]\n"
     ]
    },
    {
     "name": "stdout",
     "output_type": "stream",
     "text": [
      "Partition 415 completed, convergence counter: 830\n"
     ]
    },
    {
     "name": "stderr",
     "output_type": "stream",
     "text": [
      "Simulation Progress: 100%|██████████| 500000/500000 [03:01<00:00, 2755.78it/s]\n"
     ]
    },
    {
     "name": "stdout",
     "output_type": "stream",
     "text": [
      "Partition 416 completed, convergence counter: 6440\n"
     ]
    },
    {
     "name": "stderr",
     "output_type": "stream",
     "text": [
      "Simulation Progress: 100%|██████████| 500000/500000 [02:41<00:00, 3089.01it/s]\n"
     ]
    },
    {
     "name": "stdout",
     "output_type": "stream",
     "text": [
      "Partition 417 completed, convergence counter: 4725\n"
     ]
    },
    {
     "name": "stderr",
     "output_type": "stream",
     "text": [
      "Simulation Progress: 100%|██████████| 500000/500000 [02:46<00:00, 3011.45it/s]\n"
     ]
    },
    {
     "name": "stdout",
     "output_type": "stream",
     "text": [
      "Partition 418 completed, convergence counter: 9172\n"
     ]
    },
    {
     "name": "stderr",
     "output_type": "stream",
     "text": [
      "Simulation Progress: 100%|██████████| 500000/500000 [03:13<00:00, 2582.72it/s]\n"
     ]
    },
    {
     "name": "stdout",
     "output_type": "stream",
     "text": [
      "Partition 419 completed, convergence counter: 189\n"
     ]
    },
    {
     "name": "stderr",
     "output_type": "stream",
     "text": [
      "Simulation Progress: 100%|██████████| 500000/500000 [02:45<00:00, 3015.44it/s]\n"
     ]
    },
    {
     "name": "stdout",
     "output_type": "stream",
     "text": [
      "Partition 420 completed, convergence counter: 1317\n"
     ]
    },
    {
     "name": "stderr",
     "output_type": "stream",
     "text": [
      "Simulation Progress: 100%|██████████| 500000/500000 [03:13<00:00, 2590.25it/s]\n"
     ]
    },
    {
     "name": "stdout",
     "output_type": "stream",
     "text": [
      "Partition 421 completed, convergence counter: 825\n"
     ]
    },
    {
     "name": "stderr",
     "output_type": "stream",
     "text": [
      "Simulation Progress: 100%|██████████| 500000/500000 [03:12<00:00, 2598.00it/s]\n"
     ]
    },
    {
     "name": "stdout",
     "output_type": "stream",
     "text": [
      "Partition 422 completed, convergence counter: 17\n"
     ]
    },
    {
     "name": "stderr",
     "output_type": "stream",
     "text": [
      "Simulation Progress: 100%|██████████| 500000/500000 [03:24<00:00, 2441.25it/s]\n"
     ]
    },
    {
     "name": "stdout",
     "output_type": "stream",
     "text": [
      "Partition 423 completed, convergence counter: 442\n"
     ]
    },
    {
     "name": "stderr",
     "output_type": "stream",
     "text": [
      "Simulation Progress: 100%|██████████| 500000/500000 [03:04<00:00, 2708.71it/s]\n"
     ]
    },
    {
     "name": "stdout",
     "output_type": "stream",
     "text": [
      "Partition 424 completed, convergence counter: 29850\n"
     ]
    },
    {
     "name": "stderr",
     "output_type": "stream",
     "text": [
      "Simulation Progress: 100%|██████████| 500000/500000 [03:23<00:00, 2458.24it/s]\n"
     ]
    },
    {
     "name": "stdout",
     "output_type": "stream",
     "text": [
      "Partition 425 completed, convergence counter: 8658\n"
     ]
    },
    {
     "name": "stderr",
     "output_type": "stream",
     "text": [
      "Simulation Progress: 100%|██████████| 500000/500000 [03:17<00:00, 2537.74it/s]\n"
     ]
    },
    {
     "name": "stdout",
     "output_type": "stream",
     "text": [
      "Partition 426 completed, convergence counter: 848\n"
     ]
    },
    {
     "name": "stderr",
     "output_type": "stream",
     "text": [
      "Simulation Progress: 100%|██████████| 500000/500000 [03:19<00:00, 2501.13it/s]\n"
     ]
    },
    {
     "name": "stdout",
     "output_type": "stream",
     "text": [
      "Partition 427 completed, convergence counter: 309\n"
     ]
    },
    {
     "name": "stderr",
     "output_type": "stream",
     "text": [
      "Simulation Progress: 100%|██████████| 500000/500000 [03:06<00:00, 2684.45it/s]\n"
     ]
    },
    {
     "name": "stdout",
     "output_type": "stream",
     "text": [
      "Partition 428 completed, convergence counter: 15696\n"
     ]
    },
    {
     "name": "stderr",
     "output_type": "stream",
     "text": [
      "Simulation Progress: 100%|██████████| 500000/500000 [02:53<00:00, 2884.74it/s]\n"
     ]
    },
    {
     "name": "stdout",
     "output_type": "stream",
     "text": [
      "Partition 429 completed, convergence counter: 2451\n"
     ]
    },
    {
     "name": "stderr",
     "output_type": "stream",
     "text": [
      "Simulation Progress: 100%|██████████| 500000/500000 [03:20<00:00, 2496.46it/s]\n"
     ]
    },
    {
     "name": "stdout",
     "output_type": "stream",
     "text": [
      "Partition 430 completed, convergence counter: 426\n"
     ]
    },
    {
     "name": "stderr",
     "output_type": "stream",
     "text": [
      "Simulation Progress: 100%|██████████| 500000/500000 [03:26<00:00, 2418.40it/s]\n"
     ]
    },
    {
     "name": "stdout",
     "output_type": "stream",
     "text": [
      "Partition 431 completed, convergence counter: 2239\n"
     ]
    },
    {
     "name": "stderr",
     "output_type": "stream",
     "text": [
      "Simulation Progress: 100%|██████████| 500000/500000 [03:17<00:00, 2526.13it/s]\n"
     ]
    },
    {
     "name": "stdout",
     "output_type": "stream",
     "text": [
      "Partition 432 completed, convergence counter: 1424\n"
     ]
    },
    {
     "name": "stderr",
     "output_type": "stream",
     "text": [
      "Simulation Progress: 100%|██████████| 500000/500000 [03:23<00:00, 2458.51it/s]\n"
     ]
    },
    {
     "name": "stdout",
     "output_type": "stream",
     "text": [
      "Partition 433 completed, convergence counter: 3631\n"
     ]
    },
    {
     "name": "stderr",
     "output_type": "stream",
     "text": [
      "Simulation Progress: 100%|██████████| 500000/500000 [03:18<00:00, 2521.71it/s]\n"
     ]
    },
    {
     "name": "stdout",
     "output_type": "stream",
     "text": [
      "Partition 434 completed, convergence counter: 739\n"
     ]
    },
    {
     "name": "stderr",
     "output_type": "stream",
     "text": [
      "Simulation Progress: 100%|██████████| 500000/500000 [03:25<00:00, 2433.70it/s]\n"
     ]
    },
    {
     "name": "stdout",
     "output_type": "stream",
     "text": [
      "Partition 435 completed, convergence counter: 17215\n"
     ]
    },
    {
     "name": "stderr",
     "output_type": "stream",
     "text": [
      "Simulation Progress: 100%|██████████| 500000/500000 [03:30<00:00, 2372.50it/s]\n"
     ]
    },
    {
     "name": "stdout",
     "output_type": "stream",
     "text": [
      "Partition 436 completed, convergence counter: 2986\n"
     ]
    },
    {
     "name": "stderr",
     "output_type": "stream",
     "text": [
      "Simulation Progress: 100%|██████████| 500000/500000 [03:14<00:00, 2570.09it/s]\n"
     ]
    },
    {
     "name": "stdout",
     "output_type": "stream",
     "text": [
      "Partition 437 completed, convergence counter: 393\n"
     ]
    },
    {
     "name": "stderr",
     "output_type": "stream",
     "text": [
      "Simulation Progress: 100%|██████████| 500000/500000 [03:24<00:00, 2447.63it/s]\n"
     ]
    },
    {
     "name": "stdout",
     "output_type": "stream",
     "text": [
      "Partition 438 completed, convergence counter: 989\n"
     ]
    },
    {
     "name": "stderr",
     "output_type": "stream",
     "text": [
      "Simulation Progress: 100%|██████████| 500000/500000 [03:23<00:00, 2460.48it/s]\n"
     ]
    },
    {
     "name": "stdout",
     "output_type": "stream",
     "text": [
      "Partition 439 completed, convergence counter: 23284\n"
     ]
    },
    {
     "name": "stderr",
     "output_type": "stream",
     "text": [
      "Simulation Progress: 100%|██████████| 500000/500000 [03:03<00:00, 2731.60it/s]\n"
     ]
    },
    {
     "name": "stdout",
     "output_type": "stream",
     "text": [
      "Partition 440 completed, convergence counter: 5826\n"
     ]
    },
    {
     "name": "stderr",
     "output_type": "stream",
     "text": [
      "Simulation Progress: 100%|██████████| 500000/500000 [03:04<00:00, 2712.24it/s]\n"
     ]
    },
    {
     "name": "stdout",
     "output_type": "stream",
     "text": [
      "Partition 441 completed, convergence counter: 791\n"
     ]
    },
    {
     "name": "stderr",
     "output_type": "stream",
     "text": [
      "Simulation Progress: 100%|██████████| 500000/500000 [03:02<00:00, 2739.73it/s]\n"
     ]
    },
    {
     "name": "stdout",
     "output_type": "stream",
     "text": [
      "Partition 442 completed, convergence counter: 3125\n"
     ]
    },
    {
     "name": "stderr",
     "output_type": "stream",
     "text": [
      "Simulation Progress: 100%|██████████| 500000/500000 [03:18<00:00, 2513.83it/s]\n"
     ]
    },
    {
     "name": "stdout",
     "output_type": "stream",
     "text": [
      "Partition 443 completed, convergence counter: 1152\n"
     ]
    },
    {
     "name": "stderr",
     "output_type": "stream",
     "text": [
      "Simulation Progress: 100%|██████████| 500000/500000 [02:44<00:00, 3047.06it/s]\n"
     ]
    },
    {
     "name": "stdout",
     "output_type": "stream",
     "text": [
      "Partition 444 completed, convergence counter: 633\n"
     ]
    },
    {
     "name": "stderr",
     "output_type": "stream",
     "text": [
      "Simulation Progress: 100%|██████████| 500000/500000 [02:49<00:00, 2948.49it/s]\n"
     ]
    },
    {
     "name": "stdout",
     "output_type": "stream",
     "text": [
      "Partition 445 completed, convergence counter: 2989\n"
     ]
    },
    {
     "name": "stderr",
     "output_type": "stream",
     "text": [
      "Simulation Progress: 100%|██████████| 500000/500000 [02:43<00:00, 3060.35it/s]\n"
     ]
    },
    {
     "name": "stdout",
     "output_type": "stream",
     "text": [
      "Partition 446 completed, convergence counter: 1009\n"
     ]
    },
    {
     "name": "stderr",
     "output_type": "stream",
     "text": [
      "Simulation Progress: 100%|██████████| 500000/500000 [02:51<00:00, 2920.09it/s]\n"
     ]
    },
    {
     "name": "stdout",
     "output_type": "stream",
     "text": [
      "Partition 447 completed, convergence counter: 24110\n"
     ]
    },
    {
     "name": "stderr",
     "output_type": "stream",
     "text": [
      "Simulation Progress: 100%|██████████| 500000/500000 [02:47<00:00, 2989.06it/s]\n"
     ]
    },
    {
     "name": "stdout",
     "output_type": "stream",
     "text": [
      "Partition 448 completed, convergence counter: 316\n"
     ]
    },
    {
     "name": "stderr",
     "output_type": "stream",
     "text": [
      "Simulation Progress: 100%|██████████| 500000/500000 [02:39<00:00, 3125.84it/s]\n"
     ]
    },
    {
     "name": "stdout",
     "output_type": "stream",
     "text": [
      "Partition 449 completed, convergence counter: 4167\n"
     ]
    },
    {
     "name": "stderr",
     "output_type": "stream",
     "text": [
      "Simulation Progress: 100%|██████████| 500000/500000 [02:51<00:00, 2923.34it/s]\n"
     ]
    },
    {
     "name": "stdout",
     "output_type": "stream",
     "text": [
      "Partition 450 completed, convergence counter: 332\n"
     ]
    },
    {
     "name": "stderr",
     "output_type": "stream",
     "text": [
      "Simulation Progress: 100%|██████████| 500000/500000 [02:54<00:00, 2873.38it/s]\n"
     ]
    },
    {
     "name": "stdout",
     "output_type": "stream",
     "text": [
      "Partition 451 completed, convergence counter: 3107\n"
     ]
    },
    {
     "name": "stderr",
     "output_type": "stream",
     "text": [
      "Simulation Progress: 100%|██████████| 500000/500000 [02:38<00:00, 3157.10it/s]\n"
     ]
    },
    {
     "name": "stdout",
     "output_type": "stream",
     "text": [
      "Partition 452 completed, convergence counter: 10879\n"
     ]
    },
    {
     "name": "stderr",
     "output_type": "stream",
     "text": [
      "Simulation Progress: 100%|██████████| 500000/500000 [02:37<00:00, 3176.40it/s]\n"
     ]
    },
    {
     "name": "stdout",
     "output_type": "stream",
     "text": [
      "Partition 453 completed, convergence counter: 6447\n"
     ]
    },
    {
     "name": "stderr",
     "output_type": "stream",
     "text": [
      "Simulation Progress: 100%|██████████| 500000/500000 [02:29<00:00, 3353.10it/s]\n"
     ]
    },
    {
     "name": "stdout",
     "output_type": "stream",
     "text": [
      "Partition 454 completed, convergence counter: 1104\n"
     ]
    },
    {
     "name": "stderr",
     "output_type": "stream",
     "text": [
      "Simulation Progress: 100%|██████████| 500000/500000 [02:35<00:00, 3216.30it/s]\n"
     ]
    },
    {
     "name": "stdout",
     "output_type": "stream",
     "text": [
      "Partition 455 completed, convergence counter: 850\n"
     ]
    },
    {
     "name": "stderr",
     "output_type": "stream",
     "text": [
      "Simulation Progress: 100%|██████████| 500000/500000 [02:42<00:00, 3072.51it/s]\n"
     ]
    },
    {
     "name": "stdout",
     "output_type": "stream",
     "text": [
      "Partition 456 completed, convergence counter: 1116\n"
     ]
    },
    {
     "name": "stderr",
     "output_type": "stream",
     "text": [
      "Simulation Progress: 100%|██████████| 500000/500000 [02:55<00:00, 2846.65it/s]\n"
     ]
    },
    {
     "name": "stdout",
     "output_type": "stream",
     "text": [
      "Partition 457 completed, convergence counter: 2798\n"
     ]
    },
    {
     "name": "stderr",
     "output_type": "stream",
     "text": [
      "Simulation Progress: 100%|██████████| 500000/500000 [02:55<00:00, 2841.84it/s]\n"
     ]
    },
    {
     "name": "stdout",
     "output_type": "stream",
     "text": [
      "Partition 458 completed, convergence counter: 1509\n"
     ]
    },
    {
     "name": "stderr",
     "output_type": "stream",
     "text": [
      "Simulation Progress: 100%|██████████| 500000/500000 [02:50<00:00, 2936.46it/s]\n"
     ]
    },
    {
     "name": "stdout",
     "output_type": "stream",
     "text": [
      "Partition 459 completed, convergence counter: 4109\n"
     ]
    },
    {
     "name": "stderr",
     "output_type": "stream",
     "text": [
      "Simulation Progress: 100%|██████████| 500000/500000 [02:37<00:00, 3171.58it/s]\n"
     ]
    },
    {
     "name": "stdout",
     "output_type": "stream",
     "text": [
      "Partition 460 completed, convergence counter: 371\n"
     ]
    },
    {
     "name": "stderr",
     "output_type": "stream",
     "text": [
      "Simulation Progress: 100%|██████████| 500000/500000 [02:33<00:00, 3248.22it/s]\n"
     ]
    },
    {
     "name": "stdout",
     "output_type": "stream",
     "text": [
      "Partition 461 completed, convergence counter: 4216\n"
     ]
    },
    {
     "name": "stderr",
     "output_type": "stream",
     "text": [
      "Simulation Progress: 100%|██████████| 500000/500000 [02:49<00:00, 2945.06it/s]\n"
     ]
    },
    {
     "name": "stdout",
     "output_type": "stream",
     "text": [
      "Partition 462 completed, convergence counter: 920\n"
     ]
    },
    {
     "name": "stderr",
     "output_type": "stream",
     "text": [
      "Simulation Progress: 100%|██████████| 500000/500000 [03:06<00:00, 2686.92it/s]\n"
     ]
    },
    {
     "name": "stdout",
     "output_type": "stream",
     "text": [
      "Partition 463 completed, convergence counter: 4019\n"
     ]
    },
    {
     "name": "stderr",
     "output_type": "stream",
     "text": [
      "Simulation Progress: 100%|██████████| 500000/500000 [03:08<00:00, 2656.90it/s]\n"
     ]
    },
    {
     "name": "stdout",
     "output_type": "stream",
     "text": [
      "Partition 464 completed, convergence counter: 1551\n"
     ]
    },
    {
     "name": "stderr",
     "output_type": "stream",
     "text": [
      "Simulation Progress: 100%|██████████| 500000/500000 [03:10<00:00, 2628.92it/s]\n"
     ]
    },
    {
     "name": "stdout",
     "output_type": "stream",
     "text": [
      "Partition 465 completed, convergence counter: 313\n"
     ]
    },
    {
     "name": "stderr",
     "output_type": "stream",
     "text": [
      "Simulation Progress: 100%|██████████| 500000/500000 [03:07<00:00, 2671.09it/s]\n"
     ]
    },
    {
     "name": "stdout",
     "output_type": "stream",
     "text": [
      "Partition 466 completed, convergence counter: 532\n"
     ]
    },
    {
     "name": "stderr",
     "output_type": "stream",
     "text": [
      "Simulation Progress: 100%|██████████| 500000/500000 [03:05<00:00, 2689.49it/s]\n"
     ]
    },
    {
     "name": "stdout",
     "output_type": "stream",
     "text": [
      "Partition 467 completed, convergence counter: 21\n"
     ]
    },
    {
     "name": "stderr",
     "output_type": "stream",
     "text": [
      "Simulation Progress: 100%|██████████| 500000/500000 [03:03<00:00, 2719.21it/s]\n"
     ]
    },
    {
     "name": "stdout",
     "output_type": "stream",
     "text": [
      "Partition 468 completed, convergence counter: 1785\n"
     ]
    },
    {
     "name": "stderr",
     "output_type": "stream",
     "text": [
      "Simulation Progress: 100%|██████████| 500000/500000 [03:04<00:00, 2713.85it/s]\n"
     ]
    },
    {
     "name": "stdout",
     "output_type": "stream",
     "text": [
      "Partition 469 completed, convergence counter: 116\n"
     ]
    },
    {
     "name": "stderr",
     "output_type": "stream",
     "text": [
      "Simulation Progress: 100%|██████████| 500000/500000 [02:17<00:00, 3648.22it/s]\n"
     ]
    },
    {
     "name": "stdout",
     "output_type": "stream",
     "text": [
      "Partition 470 completed, convergence counter: 7903\n"
     ]
    },
    {
     "name": "stderr",
     "output_type": "stream",
     "text": [
      "Simulation Progress: 100%|██████████| 500000/500000 [02:34<00:00, 3230.61it/s]\n"
     ]
    },
    {
     "name": "stdout",
     "output_type": "stream",
     "text": [
      "Partition 471 completed, convergence counter: 7580\n"
     ]
    },
    {
     "name": "stderr",
     "output_type": "stream",
     "text": [
      "Simulation Progress: 100%|██████████| 500000/500000 [02:35<00:00, 3213.04it/s]\n"
     ]
    },
    {
     "name": "stdout",
     "output_type": "stream",
     "text": [
      "Partition 472 completed, convergence counter: 4345\n"
     ]
    },
    {
     "name": "stderr",
     "output_type": "stream",
     "text": [
      "Simulation Progress: 100%|██████████| 500000/500000 [02:34<00:00, 3241.10it/s]\n"
     ]
    },
    {
     "name": "stdout",
     "output_type": "stream",
     "text": [
      "Partition 473 completed, convergence counter: 5237\n"
     ]
    },
    {
     "name": "stderr",
     "output_type": "stream",
     "text": [
      "Simulation Progress: 100%|██████████| 500000/500000 [02:35<00:00, 3221.62it/s]\n"
     ]
    },
    {
     "name": "stdout",
     "output_type": "stream",
     "text": [
      "Partition 474 completed, convergence counter: 1782\n"
     ]
    },
    {
     "name": "stderr",
     "output_type": "stream",
     "text": [
      "Simulation Progress: 100%|██████████| 500000/500000 [02:56<00:00, 2839.21it/s]\n"
     ]
    },
    {
     "name": "stdout",
     "output_type": "stream",
     "text": [
      "Partition 475 completed, convergence counter: 9512\n"
     ]
    },
    {
     "name": "stderr",
     "output_type": "stream",
     "text": [
      "Simulation Progress: 100%|██████████| 500000/500000 [02:48<00:00, 2965.85it/s]\n"
     ]
    },
    {
     "name": "stdout",
     "output_type": "stream",
     "text": [
      "Partition 476 completed, convergence counter: 2991\n"
     ]
    },
    {
     "name": "stderr",
     "output_type": "stream",
     "text": [
      "Simulation Progress: 100%|██████████| 500000/500000 [02:50<00:00, 2929.63it/s]\n"
     ]
    },
    {
     "name": "stdout",
     "output_type": "stream",
     "text": [
      "Partition 477 completed, convergence counter: 3079\n"
     ]
    },
    {
     "name": "stderr",
     "output_type": "stream",
     "text": [
      "Simulation Progress: 100%|██████████| 500000/500000 [02:43<00:00, 3056.58it/s]\n"
     ]
    },
    {
     "name": "stdout",
     "output_type": "stream",
     "text": [
      "Partition 478 completed, convergence counter: 731\n"
     ]
    },
    {
     "name": "stderr",
     "output_type": "stream",
     "text": [
      "Simulation Progress: 100%|██████████| 500000/500000 [03:00<00:00, 2776.63it/s]\n"
     ]
    },
    {
     "name": "stdout",
     "output_type": "stream",
     "text": [
      "Partition 479 completed, convergence counter: 358\n"
     ]
    },
    {
     "name": "stderr",
     "output_type": "stream",
     "text": [
      "Simulation Progress: 100%|██████████| 500000/500000 [02:49<00:00, 2946.48it/s]\n"
     ]
    },
    {
     "name": "stdout",
     "output_type": "stream",
     "text": [
      "Partition 480 completed, convergence counter: 390\n"
     ]
    },
    {
     "name": "stderr",
     "output_type": "stream",
     "text": [
      "Simulation Progress: 100%|██████████| 500000/500000 [02:33<00:00, 3247.70it/s]\n"
     ]
    },
    {
     "name": "stdout",
     "output_type": "stream",
     "text": [
      "Partition 481 completed, convergence counter: 5036\n"
     ]
    },
    {
     "name": "stderr",
     "output_type": "stream",
     "text": [
      "Simulation Progress: 100%|██████████| 500000/500000 [02:30<00:00, 3318.92it/s]\n"
     ]
    },
    {
     "name": "stdout",
     "output_type": "stream",
     "text": [
      "Partition 482 completed, convergence counter: 19\n"
     ]
    },
    {
     "name": "stderr",
     "output_type": "stream",
     "text": [
      "Simulation Progress: 100%|██████████| 500000/500000 [02:45<00:00, 3027.63it/s]\n"
     ]
    },
    {
     "name": "stdout",
     "output_type": "stream",
     "text": [
      "Partition 483 completed, convergence counter: 11181\n"
     ]
    },
    {
     "name": "stderr",
     "output_type": "stream",
     "text": [
      "Simulation Progress: 100%|██████████| 500000/500000 [02:41<00:00, 3094.21it/s]\n"
     ]
    },
    {
     "name": "stdout",
     "output_type": "stream",
     "text": [
      "Partition 484 completed, convergence counter: 3350\n"
     ]
    },
    {
     "name": "stderr",
     "output_type": "stream",
     "text": [
      "Simulation Progress: 100%|██████████| 500000/500000 [03:04<00:00, 2708.39it/s]\n"
     ]
    },
    {
     "name": "stdout",
     "output_type": "stream",
     "text": [
      "Partition 485 completed, convergence counter: 4152\n"
     ]
    },
    {
     "name": "stderr",
     "output_type": "stream",
     "text": [
      "Simulation Progress: 100%|██████████| 500000/500000 [02:53<00:00, 2874.26it/s]\n"
     ]
    },
    {
     "name": "stdout",
     "output_type": "stream",
     "text": [
      "Partition 486 completed, convergence counter: 689\n"
     ]
    },
    {
     "name": "stderr",
     "output_type": "stream",
     "text": [
      "Simulation Progress: 100%|██████████| 500000/500000 [03:11<00:00, 2614.91it/s]\n"
     ]
    },
    {
     "name": "stdout",
     "output_type": "stream",
     "text": [
      "Partition 487 completed, convergence counter: 1259\n"
     ]
    },
    {
     "name": "stderr",
     "output_type": "stream",
     "text": [
      "Simulation Progress: 100%|██████████| 500000/500000 [06:25<00:00, 1297.03it/s]\n"
     ]
    },
    {
     "name": "stdout",
     "output_type": "stream",
     "text": [
      "Partition 488 completed, convergence counter: 592\n"
     ]
    },
    {
     "name": "stderr",
     "output_type": "stream",
     "text": [
      "Simulation Progress: 100%|██████████| 500000/500000 [11:25<00:00, 729.15it/s] \n"
     ]
    },
    {
     "name": "stdout",
     "output_type": "stream",
     "text": [
      "Partition 489 completed, convergence counter: 85\n"
     ]
    },
    {
     "name": "stderr",
     "output_type": "stream",
     "text": [
      "Simulation Progress: 100%|██████████| 500000/500000 [10:02<00:00, 830.36it/s] \n"
     ]
    },
    {
     "name": "stdout",
     "output_type": "stream",
     "text": [
      "Partition 490 completed, convergence counter: 2070\n"
     ]
    },
    {
     "name": "stderr",
     "output_type": "stream",
     "text": [
      "Simulation Progress:  39%|███▉      | 195339/500000 [02:16<03:32, 1436.13it/s]\n"
     ]
    },
    {
     "ename": "KeyboardInterrupt",
     "evalue": "",
     "output_type": "error",
     "traceback": [
      "\u001b[0;31m---------------------------------------------------------------------------\u001b[0m",
      "\u001b[0;31mKeyboardInterrupt\u001b[0m                         Traceback (most recent call last)",
      "Cell \u001b[0;32mIn[6], line 11\u001b[0m\n\u001b[1;32m      9\u001b[0m \u001b[38;5;28;01mwhile\u001b[39;00m convergence \u001b[38;5;241m<\u001b[39m convergence_threshold:\n\u001b[1;32m     10\u001b[0m     save_path \u001b[38;5;241m=\u001b[39m \u001b[38;5;124mf\u001b[39m\u001b[38;5;124m'\u001b[39m\u001b[38;5;124m/Users/moyuanchen/Documents/thesis/sim_8/data_part_\u001b[39m\u001b[38;5;132;01m{\u001b[39;00mpartitions\u001b[38;5;132;01m}\u001b[39;00m\u001b[38;5;124m.npy\u001b[39m\u001b[38;5;124m'\u001b[39m\n\u001b[0;32m---> 11\u001b[0m     log, agents \u001b[38;5;241m=\u001b[39m simulate(config \u001b[38;5;241m=\u001b[39m config, T\u001b[38;5;241m=\u001b[39m\u001b[38;5;241m500000\u001b[39m, continue_simulation\u001b[38;5;241m=\u001b[39m_save_path, save_path\u001b[38;5;241m=\u001b[39msave_path)\n\u001b[1;32m     12\u001b[0m     _save_path \u001b[38;5;241m=\u001b[39m save_path\n\u001b[1;32m     14\u001b[0m     convergence \u001b[38;5;241m=\u001b[39m log[\u001b[38;5;124m'\u001b[39m\u001b[38;5;124mconvergence_counter\u001b[39m\u001b[38;5;124m'\u001b[39m]\n",
      "Cell \u001b[0;32mIn[2], line 109\u001b[0m, in \u001b[0;36msimulate\u001b[0;34m(T, config, continue_simulation, save_path)\u001b[0m\n\u001b[1;32m    104\u001b[0m zt \u001b[38;5;241m=\u001b[39m preferred_habitat_agent\u001b[38;5;241m.\u001b[39mget_action(_p)\n\u001b[1;32m    106\u001b[0m z_hist[t\u001b[38;5;241m+\u001b[39mt0] \u001b[38;5;241m=\u001b[39m zt\n\u001b[0;32m--> 109\u001b[0m pt \u001b[38;5;241m=\u001b[39m market_maker\u001b[38;5;241m.\u001b[39mdetermine_price(yt_sum)\n\u001b[1;32m    110\u001b[0m market_maker\u001b[38;5;241m.\u001b[39mupdate(_v, _p, zt, yt_sum)\n\u001b[1;32m    111\u001b[0m vt \u001b[38;5;241m=\u001b[39m get_next_v()\n",
      "File \u001b[0;32m~/Documents/thesis/collusion/agents.py:261\u001b[0m, in \u001b[0;36mAdaptiveMarketMaker.determine_price\u001b[0;34m(self, yt)\u001b[0m\n\u001b[1;32m    252\u001b[0m \u001b[38;5;28;01mdef\u001b[39;00m \u001b[38;5;21mdetermine_price\u001b[39m(\u001b[38;5;28mself\u001b[39m, yt):\n\u001b[1;32m    253\u001b[0m \u001b[38;5;250m    \u001b[39m\u001b[38;5;124;03m\"\"\"\u001b[39;00m\n\u001b[1;32m    254\u001b[0m \u001b[38;5;124;03m    Determines the price based on historical data and a given input.\u001b[39;00m\n\u001b[1;32m    255\u001b[0m \u001b[38;5;124;03m    This method uses Ordinary Least Squares (OLS) regression to calculate\u001b[39;00m\n\u001b[0;32m   (...)\u001b[0m\n\u001b[1;32m    258\u001b[0m \u001b[38;5;124;03m    float: The determined price based on the input `yt`.\u001b[39;00m\n\u001b[1;32m    259\u001b[0m \u001b[38;5;124;03m    \"\"\"\u001b[39;00m\n\u001b[0;32m--> 261\u001b[0m     xi_1, _ \u001b[38;5;241m=\u001b[39m \u001b[38;5;28mself\u001b[39m\u001b[38;5;241m.\u001b[39mOLS(\u001b[38;5;28mself\u001b[39m\u001b[38;5;241m.\u001b[39mhistorical_data[\u001b[38;5;124m'\u001b[39m\u001b[38;5;124mz\u001b[39m\u001b[38;5;124m'\u001b[39m], \u001b[38;5;28mself\u001b[39m\u001b[38;5;241m.\u001b[39mhistorical_data[\u001b[38;5;124m'\u001b[39m\u001b[38;5;124mp\u001b[39m\u001b[38;5;124m'\u001b[39m])\n\u001b[1;32m    262\u001b[0m     gamma_1, gamma_0 \u001b[38;5;241m=\u001b[39m \u001b[38;5;28mself\u001b[39m\u001b[38;5;241m.\u001b[39mOLS(\u001b[38;5;28mself\u001b[39m\u001b[38;5;241m.\u001b[39mhistorical_data[\u001b[38;5;124m'\u001b[39m\u001b[38;5;124mv\u001b[39m\u001b[38;5;124m'\u001b[39m], \u001b[38;5;28mself\u001b[39m\u001b[38;5;241m.\u001b[39mhistorical_data[\u001b[38;5;124m'\u001b[39m\u001b[38;5;124my\u001b[39m\u001b[38;5;124m'\u001b[39m])\n\u001b[1;32m    263\u001b[0m     lambda_ \u001b[38;5;241m=\u001b[39m (xi_1 \u001b[38;5;241m+\u001b[39m \u001b[38;5;28mself\u001b[39m\u001b[38;5;241m.\u001b[39mtheta \u001b[38;5;241m*\u001b[39m gamma_1) \u001b[38;5;241m/\u001b[39m (xi_1\u001b[38;5;241m*\u001b[39m\u001b[38;5;241m*\u001b[39m\u001b[38;5;241m2\u001b[39m \u001b[38;5;241m+\u001b[39m \u001b[38;5;28mself\u001b[39m\u001b[38;5;241m.\u001b[39mtheta)\n",
      "File \u001b[0;32m~/Documents/thesis/collusion/agents.py:249\u001b[0m, in \u001b[0;36mAdaptiveMarketMaker.OLS\u001b[0;34m(self, y, X)\u001b[0m\n\u001b[1;32m    246\u001b[0m X \u001b[38;5;241m=\u001b[39m X\u001b[38;5;241m.\u001b[39mget()\n\u001b[1;32m    248\u001b[0m X \u001b[38;5;241m=\u001b[39m np\u001b[38;5;241m.\u001b[39mvstack([X, np\u001b[38;5;241m.\u001b[39mones(\u001b[38;5;28mlen\u001b[39m(X))])\u001b[38;5;241m.\u001b[39mT\n\u001b[0;32m--> 249\u001b[0m coef_, _, _, _ \u001b[38;5;241m=\u001b[39m np\u001b[38;5;241m.\u001b[39mlinalg\u001b[38;5;241m.\u001b[39mlstsq(X, y, rcond\u001b[38;5;241m=\u001b[39m\u001b[38;5;28;01mNone\u001b[39;00m)\n\u001b[1;32m    250\u001b[0m \u001b[38;5;28;01mreturn\u001b[39;00m coef_\n",
      "File \u001b[0;32m~/anaconda3/envs/ai/lib/python3.12/site-packages/numpy/linalg/linalg.py:2345\u001b[0m, in \u001b[0;36mlstsq\u001b[0;34m(a, b, rcond)\u001b[0m\n\u001b[1;32m   2342\u001b[0m     resids \u001b[38;5;241m=\u001b[39m array([], result_real_t)\n\u001b[1;32m   2344\u001b[0m \u001b[38;5;66;03m# coerce output arrays\u001b[39;00m\n\u001b[0;32m-> 2345\u001b[0m s \u001b[38;5;241m=\u001b[39m s\u001b[38;5;241m.\u001b[39mastype(result_real_t, copy\u001b[38;5;241m=\u001b[39m\u001b[38;5;28;01mFalse\u001b[39;00m)\n\u001b[1;32m   2346\u001b[0m resids \u001b[38;5;241m=\u001b[39m resids\u001b[38;5;241m.\u001b[39mastype(result_real_t, copy\u001b[38;5;241m=\u001b[39m\u001b[38;5;28;01mFalse\u001b[39;00m)\n\u001b[1;32m   2347\u001b[0m x \u001b[38;5;241m=\u001b[39m x\u001b[38;5;241m.\u001b[39mastype(result_t, copy\u001b[38;5;241m=\u001b[39m\u001b[38;5;28;01mTrue\u001b[39;00m)  \u001b[38;5;66;03m# Copying lets the memory in r_parts be freed\u001b[39;00m\n",
      "\u001b[0;31mKeyboardInterrupt\u001b[0m: "
     ]
    }
   ],
   "source": [
    "config = Config()\n",
    "config.sigma_u = 1000\n",
    "\n",
    "_save_path = '/Users/moyuanchen/Documents/thesis/sim_8/data_part_0.npy'\n",
    "log, agents = simulate(config = config, T = 500000, save_path=_save_path)\n",
    "convergence_threshold = 1000000\n",
    "convergence = 0\n",
    "partitions = 1\n",
    "while convergence < convergence_threshold:\n",
    "    save_path = f'/Users/moyuanchen/Documents/thesis/sim_8/data_part_{partitions}.npy'\n",
    "    log, agents = simulate(config = config, T=500000, continue_simulation=_save_path, save_path=save_path)\n",
    "    _save_path = save_path\n",
    "    \n",
    "    convergence = log['convergence_counter']\n",
    "    print(f\"Partition {partitions} completed, convergence counter: {convergence}\")\n",
    "    partitions += 1\n",
    "\n",
    "# save config\n",
    "np.save('/Users/moyuanchen/Documents/thesis/sim_8/config.npy', config)"
   ]
  },
  {
   "cell_type": "code",
   "execution_count": null,
   "metadata": {},
   "outputs": [],
   "source": [
    "config = Config()\n",
    "config.sigma_u = 10000\n",
    "\n",
    "_save_path = '/Users/moyuanchen/Documents/thesis/sim_9/data_part_0.npy'\n",
    "log, agents = simulate(config = config, T = 500000, save_path=_save_path)\n",
    "convergence_threshold = 1000000\n",
    "convergence = 0\n",
    "partitions = 1\n",
    "while convergence < convergence_threshold:\n",
    "    save_path = f'/Users/moyuanchen/Documents/thesis/sim_9/data_part_{partitions}.npy'\n",
    "    log, agents = simulate(config = config, T=500000, continue_simulation=_save_path, save_path=save_path)\n",
    "    _save_path = save_path\n",
    "    \n",
    "    convergence = log['convergence_counter']\n",
    "    print(f\"Partition {partitions} completed, convergence counter: {convergence}\")\n",
    "    partitions += 1\n",
    "\n",
    "# save config\n",
    "np.save('/Users/moyuanchen/Documents/thesis/sim_9/config.npy', config)"
   ]
  },
  {
   "cell_type": "code",
   "execution_count": 7,
   "metadata": {},
   "outputs": [
    {
     "name": "stderr",
     "output_type": "stream",
     "text": [
      "Simulation Progress: 100%|██████████| 500000/500000 [02:29<00:00, 3338.43it/s]\n",
      "Simulation Progress: 100%|██████████| 500000/500000 [02:26<00:00, 3420.33it/s]\n"
     ]
    },
    {
     "name": "stdout",
     "output_type": "stream",
     "text": [
      "Partition 1 completed, convergence counter: 0\n"
     ]
    },
    {
     "name": "stderr",
     "output_type": "stream",
     "text": [
      "Simulation Progress: 100%|██████████| 500000/500000 [02:18<00:00, 3608.36it/s]\n"
     ]
    },
    {
     "name": "stdout",
     "output_type": "stream",
     "text": [
      "Partition 2 completed, convergence counter: 12\n"
     ]
    },
    {
     "name": "stderr",
     "output_type": "stream",
     "text": [
      "Simulation Progress: 100%|██████████| 500000/500000 [02:22<00:00, 3499.97it/s]\n"
     ]
    },
    {
     "name": "stdout",
     "output_type": "stream",
     "text": [
      "Partition 3 completed, convergence counter: 24\n"
     ]
    },
    {
     "name": "stderr",
     "output_type": "stream",
     "text": [
      "Simulation Progress: 100%|██████████| 500000/500000 [02:25<00:00, 3432.99it/s]\n"
     ]
    },
    {
     "name": "stdout",
     "output_type": "stream",
     "text": [
      "Partition 4 completed, convergence counter: 58\n"
     ]
    },
    {
     "name": "stderr",
     "output_type": "stream",
     "text": [
      "Simulation Progress: 100%|██████████| 500000/500000 [02:31<00:00, 3298.57it/s]\n"
     ]
    },
    {
     "name": "stdout",
     "output_type": "stream",
     "text": [
      "Partition 5 completed, convergence counter: 159\n"
     ]
    },
    {
     "name": "stderr",
     "output_type": "stream",
     "text": [
      "Simulation Progress: 100%|██████████| 500000/500000 [02:38<00:00, 3154.16it/s]\n"
     ]
    },
    {
     "name": "stdout",
     "output_type": "stream",
     "text": [
      "Partition 6 completed, convergence counter: 3612\n"
     ]
    },
    {
     "name": "stderr",
     "output_type": "stream",
     "text": [
      "Simulation Progress: 100%|██████████| 500000/500000 [02:24<00:00, 3470.64it/s]\n"
     ]
    },
    {
     "name": "stdout",
     "output_type": "stream",
     "text": [
      "Partition 7 completed, convergence counter: 3785\n"
     ]
    },
    {
     "name": "stderr",
     "output_type": "stream",
     "text": [
      "Simulation Progress: 100%|██████████| 500000/500000 [02:33<00:00, 3260.68it/s]\n"
     ]
    },
    {
     "name": "stdout",
     "output_type": "stream",
     "text": [
      "Partition 8 completed, convergence counter: 22152\n"
     ]
    },
    {
     "name": "stderr",
     "output_type": "stream",
     "text": [
      "Simulation Progress: 100%|██████████| 500000/500000 [02:45<00:00, 3027.90it/s]\n"
     ]
    },
    {
     "name": "stdout",
     "output_type": "stream",
     "text": [
      "Partition 9 completed, convergence counter: 55261\n"
     ]
    },
    {
     "name": "stderr",
     "output_type": "stream",
     "text": [
      "Simulation Progress: 100%|██████████| 500000/500000 [02:31<00:00, 3307.28it/s]\n"
     ]
    },
    {
     "name": "stdout",
     "output_type": "stream",
     "text": [
      "Partition 10 completed, convergence counter: 23935\n"
     ]
    },
    {
     "name": "stderr",
     "output_type": "stream",
     "text": [
      "Simulation Progress: 100%|██████████| 500000/500000 [02:27<00:00, 3391.90it/s]\n"
     ]
    },
    {
     "name": "stdout",
     "output_type": "stream",
     "text": [
      "Partition 11 completed, convergence counter: 82778\n"
     ]
    },
    {
     "name": "stderr",
     "output_type": "stream",
     "text": [
      "Simulation Progress: 100%|██████████| 500000/500000 [02:32<00:00, 3269.47it/s]\n"
     ]
    },
    {
     "name": "stdout",
     "output_type": "stream",
     "text": [
      "Partition 12 completed, convergence counter: 18760\n"
     ]
    },
    {
     "name": "stderr",
     "output_type": "stream",
     "text": [
      "Simulation Progress: 100%|██████████| 500000/500000 [02:25<00:00, 3432.40it/s]\n"
     ]
    },
    {
     "name": "stdout",
     "output_type": "stream",
     "text": [
      "Partition 13 completed, convergence counter: 21547\n"
     ]
    },
    {
     "name": "stderr",
     "output_type": "stream",
     "text": [
      "Simulation Progress: 100%|██████████| 500000/500000 [02:15<00:00, 3684.79it/s]\n"
     ]
    },
    {
     "name": "stdout",
     "output_type": "stream",
     "text": [
      "Partition 14 completed, convergence counter: 105283\n"
     ]
    },
    {
     "name": "stderr",
     "output_type": "stream",
     "text": [
      "Simulation Progress: 100%|██████████| 500000/500000 [02:22<00:00, 3502.82it/s]\n"
     ]
    },
    {
     "name": "stdout",
     "output_type": "stream",
     "text": [
      "Partition 15 completed, convergence counter: 31797\n"
     ]
    },
    {
     "name": "stderr",
     "output_type": "stream",
     "text": [
      "Simulation Progress: 100%|██████████| 500000/500000 [02:29<00:00, 3347.67it/s]\n"
     ]
    },
    {
     "name": "stdout",
     "output_type": "stream",
     "text": [
      "Partition 16 completed, convergence counter: 59402\n"
     ]
    },
    {
     "name": "stderr",
     "output_type": "stream",
     "text": [
      "Simulation Progress: 100%|██████████| 500000/500000 [02:27<00:00, 3383.47it/s]\n"
     ]
    },
    {
     "name": "stdout",
     "output_type": "stream",
     "text": [
      "Partition 17 completed, convergence counter: 98223\n"
     ]
    },
    {
     "name": "stderr",
     "output_type": "stream",
     "text": [
      "Simulation Progress: 100%|██████████| 500000/500000 [02:20<00:00, 3549.30it/s]\n"
     ]
    },
    {
     "name": "stdout",
     "output_type": "stream",
     "text": [
      "Partition 18 completed, convergence counter: 132446\n"
     ]
    },
    {
     "name": "stderr",
     "output_type": "stream",
     "text": [
      "Simulation Progress: 100%|██████████| 500000/500000 [03:00<00:00, 2765.28it/s]\n"
     ]
    },
    {
     "name": "stdout",
     "output_type": "stream",
     "text": [
      "Partition 19 completed, convergence counter: 11476\n"
     ]
    },
    {
     "name": "stderr",
     "output_type": "stream",
     "text": [
      "Simulation Progress: 100%|██████████| 500000/500000 [09:43<00:00, 857.17it/s] \n"
     ]
    },
    {
     "name": "stdout",
     "output_type": "stream",
     "text": [
      "Partition 20 completed, convergence counter: 57955\n"
     ]
    },
    {
     "name": "stderr",
     "output_type": "stream",
     "text": [
      "Simulation Progress: 100%|██████████| 500000/500000 [02:30<00:00, 3313.90it/s]\n"
     ]
    },
    {
     "name": "stdout",
     "output_type": "stream",
     "text": [
      "Partition 21 completed, convergence counter: 125578\n"
     ]
    },
    {
     "name": "stderr",
     "output_type": "stream",
     "text": [
      "Simulation Progress: 100%|██████████| 500000/500000 [02:32<00:00, 3281.50it/s]\n"
     ]
    },
    {
     "name": "stdout",
     "output_type": "stream",
     "text": [
      "Partition 22 completed, convergence counter: 27976\n"
     ]
    },
    {
     "name": "stderr",
     "output_type": "stream",
     "text": [
      "Simulation Progress: 100%|██████████| 500000/500000 [02:35<00:00, 3221.34it/s]\n"
     ]
    },
    {
     "name": "stdout",
     "output_type": "stream",
     "text": [
      "Partition 23 completed, convergence counter: 213311\n"
     ]
    },
    {
     "name": "stderr",
     "output_type": "stream",
     "text": [
      "Simulation Progress: 100%|██████████| 500000/500000 [02:34<00:00, 3228.71it/s]\n"
     ]
    },
    {
     "name": "stdout",
     "output_type": "stream",
     "text": [
      "Partition 24 completed, convergence counter: 33269\n"
     ]
    },
    {
     "name": "stderr",
     "output_type": "stream",
     "text": [
      "Simulation Progress: 100%|██████████| 500000/500000 [02:42<00:00, 3075.65it/s]\n"
     ]
    },
    {
     "name": "stdout",
     "output_type": "stream",
     "text": [
      "Partition 25 completed, convergence counter: 19684\n"
     ]
    },
    {
     "name": "stderr",
     "output_type": "stream",
     "text": [
      "Simulation Progress: 100%|██████████| 500000/500000 [02:24<00:00, 3448.47it/s]\n"
     ]
    },
    {
     "name": "stdout",
     "output_type": "stream",
     "text": [
      "Partition 26 completed, convergence counter: 31503\n"
     ]
    },
    {
     "name": "stderr",
     "output_type": "stream",
     "text": [
      "Simulation Progress: 100%|██████████| 500000/500000 [02:38<00:00, 3163.75it/s]\n"
     ]
    },
    {
     "name": "stdout",
     "output_type": "stream",
     "text": [
      "Partition 27 completed, convergence counter: 136685\n"
     ]
    },
    {
     "name": "stderr",
     "output_type": "stream",
     "text": [
      "Simulation Progress: 100%|██████████| 500000/500000 [02:51<00:00, 2909.65it/s]\n"
     ]
    },
    {
     "name": "stdout",
     "output_type": "stream",
     "text": [
      "Partition 28 completed, convergence counter: 114662\n"
     ]
    },
    {
     "name": "stderr",
     "output_type": "stream",
     "text": [
      "Simulation Progress: 100%|██████████| 500000/500000 [02:21<00:00, 3533.82it/s]\n"
     ]
    },
    {
     "name": "stdout",
     "output_type": "stream",
     "text": [
      "Partition 29 completed, convergence counter: 219378\n"
     ]
    },
    {
     "name": "stderr",
     "output_type": "stream",
     "text": [
      "Simulation Progress: 100%|██████████| 500000/500000 [02:24<00:00, 3454.63it/s]\n"
     ]
    },
    {
     "name": "stdout",
     "output_type": "stream",
     "text": [
      "Partition 30 completed, convergence counter: 454269\n"
     ]
    },
    {
     "name": "stderr",
     "output_type": "stream",
     "text": [
      "Simulation Progress: 100%|██████████| 500000/500000 [02:18<00:00, 3600.41it/s]\n"
     ]
    },
    {
     "name": "stdout",
     "output_type": "stream",
     "text": [
      "Partition 31 completed, convergence counter: 21970\n"
     ]
    },
    {
     "name": "stderr",
     "output_type": "stream",
     "text": [
      "Simulation Progress: 100%|██████████| 500000/500000 [02:28<00:00, 3369.24it/s]\n"
     ]
    },
    {
     "name": "stdout",
     "output_type": "stream",
     "text": [
      "Partition 32 completed, convergence counter: 273390\n"
     ]
    },
    {
     "name": "stderr",
     "output_type": "stream",
     "text": [
      "Simulation Progress: 100%|██████████| 500000/500000 [02:24<00:00, 3470.87it/s]\n"
     ]
    },
    {
     "name": "stdout",
     "output_type": "stream",
     "text": [
      "Partition 33 completed, convergence counter: 532532\n"
     ]
    },
    {
     "name": "stderr",
     "output_type": "stream",
     "text": [
      "Simulation Progress: 100%|██████████| 500000/500000 [02:19<00:00, 3574.43it/s]\n"
     ]
    },
    {
     "name": "stdout",
     "output_type": "stream",
     "text": [
      "Partition 34 completed, convergence counter: 800519\n"
     ]
    },
    {
     "name": "stderr",
     "output_type": "stream",
     "text": [
      "Simulation Progress: 100%|██████████| 500000/500000 [02:39<00:00, 3130.33it/s]"
     ]
    },
    {
     "name": "stdout",
     "output_type": "stream",
     "text": [
      "Partition 35 completed, convergence counter: 1076099\n"
     ]
    },
    {
     "name": "stderr",
     "output_type": "stream",
     "text": [
      "\n"
     ]
    }
   ],
   "source": [
    "config = Config()\n",
    "config.sigma_u = 1e-3\n",
    "\n",
    "_save_path = '/Users/moyuanchen/Documents/thesis/sim_10/data_part_0.npy'\n",
    "log, agents = simulate(config = config, T = 500000, save_path=_save_path)\n",
    "convergence_threshold = 1000000\n",
    "convergence = 0\n",
    "partitions = 1\n",
    "while convergence < convergence_threshold:\n",
    "    save_path = f'/Users/moyuanchen/Documents/thesis/sim_10/data_part_{partitions}.npy'\n",
    "    log, agents = simulate(config = config, T=500000, continue_simulation=_save_path, save_path=save_path)\n",
    "    _save_path = save_path\n",
    "    \n",
    "    convergence = log['convergence_counter']\n",
    "    print(f\"Partition {partitions} completed, convergence counter: {convergence}\")\n",
    "    partitions += 1\n",
    "\n",
    "# save config\n",
    "np.save('/Users/moyuanchen/Documents/thesis/sim_10/config.npy', config)"
   ]
  },
  {
   "cell_type": "code",
   "execution_count": 8,
   "metadata": {},
   "outputs": [
    {
     "name": "stderr",
     "output_type": "stream",
     "text": [
      "Simulation Progress: 100%|██████████| 500000/500000 [02:28<00:00, 3368.61it/s]\n",
      "Simulation Progress: 100%|██████████| 500000/500000 [02:23<00:00, 3478.58it/s]\n"
     ]
    },
    {
     "name": "stdout",
     "output_type": "stream",
     "text": [
      "Partition 1 completed, convergence counter: 20\n"
     ]
    },
    {
     "name": "stderr",
     "output_type": "stream",
     "text": [
      "Simulation Progress: 100%|██████████| 500000/500000 [02:39<00:00, 3132.58it/s]\n"
     ]
    },
    {
     "name": "stdout",
     "output_type": "stream",
     "text": [
      "Partition 2 completed, convergence counter: 38\n"
     ]
    },
    {
     "name": "stderr",
     "output_type": "stream",
     "text": [
      "Simulation Progress: 100%|██████████| 500000/500000 [02:47<00:00, 2979.96it/s]\n"
     ]
    },
    {
     "name": "stdout",
     "output_type": "stream",
     "text": [
      "Partition 3 completed, convergence counter: 17\n"
     ]
    },
    {
     "name": "stderr",
     "output_type": "stream",
     "text": [
      "Simulation Progress: 100%|██████████| 500000/500000 [02:39<00:00, 3141.51it/s]\n"
     ]
    },
    {
     "name": "stdout",
     "output_type": "stream",
     "text": [
      "Partition 4 completed, convergence counter: 5\n"
     ]
    },
    {
     "name": "stderr",
     "output_type": "stream",
     "text": [
      "Simulation Progress: 100%|██████████| 500000/500000 [02:48<00:00, 2968.24it/s]\n"
     ]
    },
    {
     "name": "stdout",
     "output_type": "stream",
     "text": [
      "Partition 5 completed, convergence counter: 1259\n"
     ]
    },
    {
     "name": "stderr",
     "output_type": "stream",
     "text": [
      "Simulation Progress: 100%|██████████| 500000/500000 [02:47<00:00, 2985.58it/s]\n"
     ]
    },
    {
     "name": "stdout",
     "output_type": "stream",
     "text": [
      "Partition 6 completed, convergence counter: 7592\n"
     ]
    },
    {
     "name": "stderr",
     "output_type": "stream",
     "text": [
      "Simulation Progress: 100%|██████████| 500000/500000 [02:42<00:00, 3074.22it/s]\n"
     ]
    },
    {
     "name": "stdout",
     "output_type": "stream",
     "text": [
      "Partition 7 completed, convergence counter: 24277\n"
     ]
    },
    {
     "name": "stderr",
     "output_type": "stream",
     "text": [
      "Simulation Progress: 100%|██████████| 500000/500000 [02:46<00:00, 3008.15it/s]\n"
     ]
    },
    {
     "name": "stdout",
     "output_type": "stream",
     "text": [
      "Partition 8 completed, convergence counter: 4006\n"
     ]
    },
    {
     "name": "stderr",
     "output_type": "stream",
     "text": [
      "Simulation Progress: 100%|██████████| 500000/500000 [02:43<00:00, 3055.37it/s]\n"
     ]
    },
    {
     "name": "stdout",
     "output_type": "stream",
     "text": [
      "Partition 9 completed, convergence counter: 24455\n"
     ]
    },
    {
     "name": "stderr",
     "output_type": "stream",
     "text": [
      "Simulation Progress: 100%|██████████| 500000/500000 [02:26<00:00, 3409.43it/s]\n"
     ]
    },
    {
     "name": "stdout",
     "output_type": "stream",
     "text": [
      "Partition 10 completed, convergence counter: 15147\n"
     ]
    },
    {
     "name": "stderr",
     "output_type": "stream",
     "text": [
      "Simulation Progress: 100%|██████████| 500000/500000 [02:29<00:00, 3340.87it/s]\n"
     ]
    },
    {
     "name": "stdout",
     "output_type": "stream",
     "text": [
      "Partition 11 completed, convergence counter: 21330\n"
     ]
    },
    {
     "name": "stderr",
     "output_type": "stream",
     "text": [
      "Simulation Progress: 100%|██████████| 500000/500000 [02:31<00:00, 3300.67it/s]\n"
     ]
    },
    {
     "name": "stdout",
     "output_type": "stream",
     "text": [
      "Partition 12 completed, convergence counter: 39875\n"
     ]
    },
    {
     "name": "stderr",
     "output_type": "stream",
     "text": [
      "Simulation Progress: 100%|██████████| 500000/500000 [02:20<00:00, 3568.97it/s]\n"
     ]
    },
    {
     "name": "stdout",
     "output_type": "stream",
     "text": [
      "Partition 13 completed, convergence counter: 24509\n"
     ]
    },
    {
     "name": "stderr",
     "output_type": "stream",
     "text": [
      "Simulation Progress: 100%|██████████| 500000/500000 [02:28<00:00, 3357.99it/s]\n"
     ]
    },
    {
     "name": "stdout",
     "output_type": "stream",
     "text": [
      "Partition 14 completed, convergence counter: 58457\n"
     ]
    },
    {
     "name": "stderr",
     "output_type": "stream",
     "text": [
      "Simulation Progress: 100%|██████████| 500000/500000 [02:19<00:00, 3593.18it/s]\n"
     ]
    },
    {
     "name": "stdout",
     "output_type": "stream",
     "text": [
      "Partition 15 completed, convergence counter: 191875\n"
     ]
    },
    {
     "name": "stderr",
     "output_type": "stream",
     "text": [
      "Simulation Progress: 100%|██████████| 500000/500000 [02:36<00:00, 3186.47it/s]\n"
     ]
    },
    {
     "name": "stdout",
     "output_type": "stream",
     "text": [
      "Partition 16 completed, convergence counter: 20678\n"
     ]
    },
    {
     "name": "stderr",
     "output_type": "stream",
     "text": [
      "Simulation Progress: 100%|██████████| 500000/500000 [02:35<00:00, 3206.03it/s]\n"
     ]
    },
    {
     "name": "stdout",
     "output_type": "stream",
     "text": [
      "Partition 17 completed, convergence counter: 97633\n"
     ]
    },
    {
     "name": "stderr",
     "output_type": "stream",
     "text": [
      "Simulation Progress: 100%|██████████| 500000/500000 [02:34<00:00, 3243.88it/s]\n"
     ]
    },
    {
     "name": "stdout",
     "output_type": "stream",
     "text": [
      "Partition 18 completed, convergence counter: 250751\n"
     ]
    },
    {
     "name": "stderr",
     "output_type": "stream",
     "text": [
      "Simulation Progress: 100%|██████████| 500000/500000 [02:49<00:00, 2949.63it/s]\n"
     ]
    },
    {
     "name": "stdout",
     "output_type": "stream",
     "text": [
      "Partition 19 completed, convergence counter: 83389\n"
     ]
    },
    {
     "name": "stderr",
     "output_type": "stream",
     "text": [
      "Simulation Progress: 100%|██████████| 500000/500000 [02:45<00:00, 3019.46it/s]\n"
     ]
    },
    {
     "name": "stdout",
     "output_type": "stream",
     "text": [
      "Partition 20 completed, convergence counter: 125675\n"
     ]
    },
    {
     "name": "stderr",
     "output_type": "stream",
     "text": [
      "Simulation Progress: 100%|██████████| 500000/500000 [02:43<00:00, 3058.98it/s]\n"
     ]
    },
    {
     "name": "stdout",
     "output_type": "stream",
     "text": [
      "Partition 21 completed, convergence counter: 297832\n"
     ]
    },
    {
     "name": "stderr",
     "output_type": "stream",
     "text": [
      "Simulation Progress: 100%|██████████| 500000/500000 [02:34<00:00, 3226.81it/s]\n"
     ]
    },
    {
     "name": "stdout",
     "output_type": "stream",
     "text": [
      "Partition 22 completed, convergence counter: 10684\n"
     ]
    },
    {
     "name": "stderr",
     "output_type": "stream",
     "text": [
      "Simulation Progress: 100%|██████████| 500000/500000 [02:39<00:00, 3126.92it/s]\n"
     ]
    },
    {
     "name": "stdout",
     "output_type": "stream",
     "text": [
      "Partition 23 completed, convergence counter: 13409\n"
     ]
    },
    {
     "name": "stderr",
     "output_type": "stream",
     "text": [
      "Simulation Progress: 100%|██████████| 500000/500000 [02:41<00:00, 3099.51it/s]\n"
     ]
    },
    {
     "name": "stdout",
     "output_type": "stream",
     "text": [
      "Partition 24 completed, convergence counter: 44781\n"
     ]
    },
    {
     "name": "stderr",
     "output_type": "stream",
     "text": [
      "Simulation Progress: 100%|██████████| 500000/500000 [02:32<00:00, 3277.80it/s]\n"
     ]
    },
    {
     "name": "stdout",
     "output_type": "stream",
     "text": [
      "Partition 25 completed, convergence counter: 89878\n"
     ]
    },
    {
     "name": "stderr",
     "output_type": "stream",
     "text": [
      "Simulation Progress: 100%|██████████| 500000/500000 [02:46<00:00, 3007.23it/s]\n"
     ]
    },
    {
     "name": "stdout",
     "output_type": "stream",
     "text": [
      "Partition 26 completed, convergence counter: 162251\n"
     ]
    },
    {
     "name": "stderr",
     "output_type": "stream",
     "text": [
      "Simulation Progress: 100%|██████████| 500000/500000 [02:48<00:00, 2964.39it/s]\n"
     ]
    },
    {
     "name": "stdout",
     "output_type": "stream",
     "text": [
      "Partition 27 completed, convergence counter: 79090\n"
     ]
    },
    {
     "name": "stderr",
     "output_type": "stream",
     "text": [
      "Simulation Progress: 100%|██████████| 500000/500000 [02:47<00:00, 2985.29it/s]\n"
     ]
    },
    {
     "name": "stdout",
     "output_type": "stream",
     "text": [
      "Partition 28 completed, convergence counter: 46947\n"
     ]
    },
    {
     "name": "stderr",
     "output_type": "stream",
     "text": [
      "Simulation Progress: 100%|██████████| 500000/500000 [02:48<00:00, 2968.38it/s]\n"
     ]
    },
    {
     "name": "stdout",
     "output_type": "stream",
     "text": [
      "Partition 29 completed, convergence counter: 274619\n"
     ]
    },
    {
     "name": "stderr",
     "output_type": "stream",
     "text": [
      "Simulation Progress: 100%|██████████| 500000/500000 [02:42<00:00, 3077.10it/s]\n"
     ]
    },
    {
     "name": "stdout",
     "output_type": "stream",
     "text": [
      "Partition 30 completed, convergence counter: 509795\n"
     ]
    },
    {
     "name": "stderr",
     "output_type": "stream",
     "text": [
      "Simulation Progress: 100%|██████████| 500000/500000 [02:27<00:00, 3387.44it/s]\n"
     ]
    },
    {
     "name": "stdout",
     "output_type": "stream",
     "text": [
      "Partition 31 completed, convergence counter: 156583\n"
     ]
    },
    {
     "name": "stderr",
     "output_type": "stream",
     "text": [
      "Simulation Progress: 100%|██████████| 500000/500000 [02:22<00:00, 3505.92it/s]\n"
     ]
    },
    {
     "name": "stdout",
     "output_type": "stream",
     "text": [
      "Partition 32 completed, convergence counter: 407926\n"
     ]
    },
    {
     "name": "stderr",
     "output_type": "stream",
     "text": [
      "Simulation Progress: 100%|██████████| 500000/500000 [02:33<00:00, 3259.43it/s]\n"
     ]
    },
    {
     "name": "stdout",
     "output_type": "stream",
     "text": [
      "Partition 33 completed, convergence counter: 667475\n"
     ]
    },
    {
     "name": "stderr",
     "output_type": "stream",
     "text": [
      "Simulation Progress: 100%|██████████| 500000/500000 [02:34<00:00, 3239.92it/s]\n"
     ]
    },
    {
     "name": "stdout",
     "output_type": "stream",
     "text": [
      "Partition 34 completed, convergence counter: 936450\n"
     ]
    },
    {
     "name": "stderr",
     "output_type": "stream",
     "text": [
      "Simulation Progress: 100%|██████████| 500000/500000 [02:29<00:00, 3347.49it/s]"
     ]
    },
    {
     "name": "stdout",
     "output_type": "stream",
     "text": [
      "Partition 35 completed, convergence counter: 1215301\n"
     ]
    },
    {
     "name": "stderr",
     "output_type": "stream",
     "text": [
      "\n"
     ]
    }
   ],
   "source": [
    "config = Config()\n",
    "config.sigma_u = 1e-4\n",
    "\n",
    "_save_path = '/Users/moyuanchen/Documents/thesis/sim_11/data_part_0.npy'\n",
    "log, agents = simulate(config = config, T = 500000, save_path=_save_path)\n",
    "convergence_threshold = 1000000\n",
    "convergence = 0\n",
    "partitions = 1\n",
    "while convergence < convergence_threshold:\n",
    "    save_path = f'/Users/moyuanchen/Documents/thesis/sim_11/data_part_{partitions}.npy'\n",
    "    log, agents = simulate(config = config, T=500000, continue_simulation=_save_path, save_path=save_path)\n",
    "    _save_path = save_path\n",
    "    \n",
    "    convergence = log['convergence_counter']\n",
    "    print(f\"Partition {partitions} completed, convergence counter: {convergence}\")\n",
    "    partitions += 1\n",
    "\n",
    "# save config\n",
    "np.save('/Users/moyuanchen/Documents/thesis/sim_11/config.npy', config)"
   ]
  },
  {
   "cell_type": "code",
   "execution_count": 10,
   "metadata": {},
   "outputs": [
    {
     "name": "stderr",
     "output_type": "stream",
     "text": [
      "Simulation Progress: 100%|██████████| 500000/500000 [02:05<00:00, 3969.02it/s]\n",
      "Simulation Progress: 100%|██████████| 500000/500000 [02:07<00:00, 3927.16it/s]\n"
     ]
    },
    {
     "name": "stdout",
     "output_type": "stream",
     "text": [
      "Partition 1 completed, convergence counter: 22\n"
     ]
    },
    {
     "name": "stderr",
     "output_type": "stream",
     "text": [
      "Simulation Progress: 100%|██████████| 500000/500000 [02:29<00:00, 3336.48it/s]\n"
     ]
    },
    {
     "name": "stdout",
     "output_type": "stream",
     "text": [
      "Partition 2 completed, convergence counter: 2\n"
     ]
    },
    {
     "name": "stderr",
     "output_type": "stream",
     "text": [
      "Simulation Progress: 100%|██████████| 500000/500000 [02:31<00:00, 3296.62it/s]\n"
     ]
    },
    {
     "name": "stdout",
     "output_type": "stream",
     "text": [
      "Partition 3 completed, convergence counter: 67\n"
     ]
    },
    {
     "name": "stderr",
     "output_type": "stream",
     "text": [
      "Simulation Progress: 100%|██████████| 500000/500000 [02:07<00:00, 3913.44it/s]\n"
     ]
    },
    {
     "name": "stdout",
     "output_type": "stream",
     "text": [
      "Partition 4 completed, convergence counter: 49\n"
     ]
    },
    {
     "name": "stderr",
     "output_type": "stream",
     "text": [
      "Simulation Progress: 100%|██████████| 500000/500000 [02:08<00:00, 3888.09it/s]\n"
     ]
    },
    {
     "name": "stdout",
     "output_type": "stream",
     "text": [
      "Partition 5 completed, convergence counter: 1917\n"
     ]
    },
    {
     "name": "stderr",
     "output_type": "stream",
     "text": [
      "Simulation Progress: 100%|██████████| 500000/500000 [02:13<00:00, 3755.58it/s]\n"
     ]
    },
    {
     "name": "stdout",
     "output_type": "stream",
     "text": [
      "Partition 6 completed, convergence counter: 814\n"
     ]
    },
    {
     "name": "stderr",
     "output_type": "stream",
     "text": [
      "Simulation Progress: 100%|██████████| 500000/500000 [01:52<00:00, 4449.72it/s]\n"
     ]
    },
    {
     "name": "stdout",
     "output_type": "stream",
     "text": [
      "Partition 7 completed, convergence counter: 478\n"
     ]
    },
    {
     "name": "stderr",
     "output_type": "stream",
     "text": [
      "Simulation Progress: 100%|██████████| 500000/500000 [01:56<00:00, 4282.21it/s]\n"
     ]
    },
    {
     "name": "stdout",
     "output_type": "stream",
     "text": [
      "Partition 8 completed, convergence counter: 72852\n"
     ]
    },
    {
     "name": "stderr",
     "output_type": "stream",
     "text": [
      "Simulation Progress: 100%|██████████| 500000/500000 [02:23<00:00, 3479.69it/s]\n"
     ]
    },
    {
     "name": "stdout",
     "output_type": "stream",
     "text": [
      "Partition 9 completed, convergence counter: 10325\n"
     ]
    },
    {
     "name": "stderr",
     "output_type": "stream",
     "text": [
      "Simulation Progress: 100%|██████████| 500000/500000 [02:37<00:00, 3179.87it/s]\n"
     ]
    },
    {
     "name": "stdout",
     "output_type": "stream",
     "text": [
      "Partition 10 completed, convergence counter: 5087\n"
     ]
    },
    {
     "name": "stderr",
     "output_type": "stream",
     "text": [
      "Simulation Progress: 100%|██████████| 500000/500000 [02:30<00:00, 3321.50it/s]\n"
     ]
    },
    {
     "name": "stdout",
     "output_type": "stream",
     "text": [
      "Partition 11 completed, convergence counter: 39772\n"
     ]
    },
    {
     "name": "stderr",
     "output_type": "stream",
     "text": [
      "Simulation Progress: 100%|██████████| 500000/500000 [02:12<00:00, 3772.46it/s]\n"
     ]
    },
    {
     "name": "stdout",
     "output_type": "stream",
     "text": [
      "Partition 12 completed, convergence counter: 22412\n"
     ]
    },
    {
     "name": "stderr",
     "output_type": "stream",
     "text": [
      "Simulation Progress: 100%|██████████| 500000/500000 [02:23<00:00, 3475.73it/s]\n"
     ]
    },
    {
     "name": "stdout",
     "output_type": "stream",
     "text": [
      "Partition 13 completed, convergence counter: 24954\n"
     ]
    },
    {
     "name": "stderr",
     "output_type": "stream",
     "text": [
      "Simulation Progress: 100%|██████████| 500000/500000 [02:27<00:00, 3393.03it/s]\n"
     ]
    },
    {
     "name": "stdout",
     "output_type": "stream",
     "text": [
      "Partition 14 completed, convergence counter: 23366\n"
     ]
    },
    {
     "name": "stderr",
     "output_type": "stream",
     "text": [
      "Simulation Progress: 100%|██████████| 500000/500000 [02:20<00:00, 3562.28it/s]\n"
     ]
    },
    {
     "name": "stdout",
     "output_type": "stream",
     "text": [
      "Partition 15 completed, convergence counter: 85203\n"
     ]
    },
    {
     "name": "stderr",
     "output_type": "stream",
     "text": [
      "Simulation Progress: 100%|██████████| 500000/500000 [02:30<00:00, 3319.44it/s]\n"
     ]
    },
    {
     "name": "stdout",
     "output_type": "stream",
     "text": [
      "Partition 16 completed, convergence counter: 225099\n"
     ]
    },
    {
     "name": "stderr",
     "output_type": "stream",
     "text": [
      "Simulation Progress: 100%|██████████| 500000/500000 [02:34<00:00, 3230.79it/s]\n"
     ]
    },
    {
     "name": "stdout",
     "output_type": "stream",
     "text": [
      "Partition 17 completed, convergence counter: 140979\n"
     ]
    },
    {
     "name": "stderr",
     "output_type": "stream",
     "text": [
      "Simulation Progress: 100%|██████████| 500000/500000 [02:31<00:00, 3293.30it/s]\n"
     ]
    },
    {
     "name": "stdout",
     "output_type": "stream",
     "text": [
      "Partition 18 completed, convergence counter: 11462\n"
     ]
    },
    {
     "name": "stderr",
     "output_type": "stream",
     "text": [
      "Simulation Progress: 100%|██████████| 500000/500000 [02:33<00:00, 3252.39it/s]\n"
     ]
    },
    {
     "name": "stdout",
     "output_type": "stream",
     "text": [
      "Partition 19 completed, convergence counter: 16139\n"
     ]
    },
    {
     "name": "stderr",
     "output_type": "stream",
     "text": [
      "Simulation Progress: 100%|██████████| 500000/500000 [02:05<00:00, 3991.86it/s]\n"
     ]
    },
    {
     "name": "stdout",
     "output_type": "stream",
     "text": [
      "Partition 20 completed, convergence counter: 32211\n"
     ]
    },
    {
     "name": "stderr",
     "output_type": "stream",
     "text": [
      "Simulation Progress: 100%|██████████| 500000/500000 [02:13<00:00, 3734.27it/s]\n"
     ]
    },
    {
     "name": "stdout",
     "output_type": "stream",
     "text": [
      "Partition 21 completed, convergence counter: 2041\n"
     ]
    },
    {
     "name": "stderr",
     "output_type": "stream",
     "text": [
      "Simulation Progress: 100%|██████████| 500000/500000 [01:58<00:00, 4213.34it/s]\n"
     ]
    },
    {
     "name": "stdout",
     "output_type": "stream",
     "text": [
      "Partition 22 completed, convergence counter: 8862\n"
     ]
    },
    {
     "name": "stderr",
     "output_type": "stream",
     "text": [
      "Simulation Progress: 100%|██████████| 500000/500000 [02:44<00:00, 3031.34it/s]\n"
     ]
    },
    {
     "name": "stdout",
     "output_type": "stream",
     "text": [
      "Partition 23 completed, convergence counter: 121911\n"
     ]
    },
    {
     "name": "stderr",
     "output_type": "stream",
     "text": [
      "Simulation Progress: 100%|██████████| 500000/500000 [02:59<00:00, 2792.13it/s]\n"
     ]
    },
    {
     "name": "stdout",
     "output_type": "stream",
     "text": [
      "Partition 24 completed, convergence counter: 20535\n"
     ]
    },
    {
     "name": "stderr",
     "output_type": "stream",
     "text": [
      "Simulation Progress: 100%|██████████| 500000/500000 [02:54<00:00, 2870.11it/s]\n"
     ]
    },
    {
     "name": "stdout",
     "output_type": "stream",
     "text": [
      "Partition 25 completed, convergence counter: 53198\n"
     ]
    },
    {
     "name": "stderr",
     "output_type": "stream",
     "text": [
      "Simulation Progress: 100%|██████████| 500000/500000 [02:25<00:00, 3447.47it/s]\n"
     ]
    },
    {
     "name": "stdout",
     "output_type": "stream",
     "text": [
      "Partition 26 completed, convergence counter: 9154\n"
     ]
    },
    {
     "name": "stderr",
     "output_type": "stream",
     "text": [
      "Simulation Progress: 100%|██████████| 500000/500000 [02:23<00:00, 3483.72it/s]\n"
     ]
    },
    {
     "name": "stdout",
     "output_type": "stream",
     "text": [
      "Partition 27 completed, convergence counter: 222047\n"
     ]
    },
    {
     "name": "stderr",
     "output_type": "stream",
     "text": [
      "Simulation Progress: 100%|██████████| 500000/500000 [02:20<00:00, 3557.26it/s]\n"
     ]
    },
    {
     "name": "stdout",
     "output_type": "stream",
     "text": [
      "Partition 28 completed, convergence counter: 442595\n"
     ]
    },
    {
     "name": "stderr",
     "output_type": "stream",
     "text": [
      "Simulation Progress: 100%|██████████| 500000/500000 [02:56<00:00, 2837.43it/s]\n"
     ]
    },
    {
     "name": "stdout",
     "output_type": "stream",
     "text": [
      "Partition 29 completed, convergence counter: 670784\n"
     ]
    },
    {
     "name": "stderr",
     "output_type": "stream",
     "text": [
      "Simulation Progress: 100%|██████████| 500000/500000 [02:45<00:00, 3017.83it/s]\n"
     ]
    },
    {
     "name": "stdout",
     "output_type": "stream",
     "text": [
      "Partition 30 completed, convergence counter: 905855\n"
     ]
    },
    {
     "name": "stderr",
     "output_type": "stream",
     "text": [
      "Simulation Progress: 100%|██████████| 500000/500000 [02:17<00:00, 3629.76it/s]\n"
     ]
    },
    {
     "name": "stdout",
     "output_type": "stream",
     "text": [
      "Partition 31 completed, convergence counter: 1149560\n"
     ]
    }
   ],
   "source": [
    "config = Config()\n",
    "config.sigma_u = 1e-5\n",
    "\n",
    "_save_path = '/Users/moyuanchen/Documents/thesis/sim_12/data_part_0.npy'\n",
    "log, agents = simulate(config = config, T = 500000, save_path=_save_path)\n",
    "convergence_threshold = 1000000\n",
    "convergence = 0\n",
    "partitions = 1\n",
    "while convergence < convergence_threshold:\n",
    "    save_path = f'/Users/moyuanchen/Documents/thesis/sim_12/data_part_{partitions}.npy'\n",
    "    log, agents = simulate(config = config, T=500000, continue_simulation=_save_path, save_path=save_path)\n",
    "    _save_path = save_path\n",
    "    \n",
    "    convergence = log['convergence_counter']\n",
    "    print(f\"Partition {partitions} completed, convergence counter: {convergence}\")\n",
    "    partitions += 1\n",
    "\n",
    "# save config\n",
    "np.save('/Users/moyuanchen/Documents/thesis/sim_12/config.npy', config)"
   ]
  },
  {
   "cell_type": "code",
   "execution_count": 11,
   "metadata": {},
   "outputs": [
    {
     "name": "stderr",
     "output_type": "stream",
     "text": [
      "Simulation Progress: 100%|██████████| 500000/500000 [02:20<00:00, 3551.41it/s]\n",
      "Simulation Progress: 100%|██████████| 500000/500000 [02:17<00:00, 3648.20it/s]\n"
     ]
    },
    {
     "name": "stdout",
     "output_type": "stream",
     "text": [
      "Partition 1 completed, convergence counter: 74\n"
     ]
    },
    {
     "name": "stderr",
     "output_type": "stream",
     "text": [
      "Simulation Progress: 100%|██████████| 500000/500000 [02:16<00:00, 3669.69it/s]\n"
     ]
    },
    {
     "name": "stdout",
     "output_type": "stream",
     "text": [
      "Partition 2 completed, convergence counter: 5\n"
     ]
    },
    {
     "name": "stderr",
     "output_type": "stream",
     "text": [
      "Simulation Progress: 100%|██████████| 500000/500000 [02:28<00:00, 3369.98it/s]\n"
     ]
    },
    {
     "name": "stdout",
     "output_type": "stream",
     "text": [
      "Partition 3 completed, convergence counter: 117\n"
     ]
    },
    {
     "name": "stderr",
     "output_type": "stream",
     "text": [
      "Simulation Progress: 100%|██████████| 500000/500000 [02:40<00:00, 3117.63it/s]\n"
     ]
    },
    {
     "name": "stdout",
     "output_type": "stream",
     "text": [
      "Partition 4 completed, convergence counter: 316\n"
     ]
    },
    {
     "name": "stderr",
     "output_type": "stream",
     "text": [
      "Simulation Progress: 100%|██████████| 500000/500000 [02:37<00:00, 3176.54it/s]\n"
     ]
    },
    {
     "name": "stdout",
     "output_type": "stream",
     "text": [
      "Partition 5 completed, convergence counter: 255\n"
     ]
    },
    {
     "name": "stderr",
     "output_type": "stream",
     "text": [
      "Simulation Progress: 100%|██████████| 500000/500000 [02:13<00:00, 3741.46it/s]\n"
     ]
    },
    {
     "name": "stdout",
     "output_type": "stream",
     "text": [
      "Partition 6 completed, convergence counter: 133\n"
     ]
    },
    {
     "name": "stderr",
     "output_type": "stream",
     "text": [
      "Simulation Progress: 100%|██████████| 500000/500000 [02:16<00:00, 3656.89it/s]\n"
     ]
    },
    {
     "name": "stdout",
     "output_type": "stream",
     "text": [
      "Partition 7 completed, convergence counter: 6569\n"
     ]
    },
    {
     "name": "stderr",
     "output_type": "stream",
     "text": [
      "Simulation Progress: 100%|██████████| 500000/500000 [02:10<00:00, 3822.10it/s]\n"
     ]
    },
    {
     "name": "stdout",
     "output_type": "stream",
     "text": [
      "Partition 8 completed, convergence counter: 26177\n"
     ]
    },
    {
     "name": "stderr",
     "output_type": "stream",
     "text": [
      "Simulation Progress: 100%|██████████| 500000/500000 [02:27<00:00, 3396.25it/s]\n"
     ]
    },
    {
     "name": "stdout",
     "output_type": "stream",
     "text": [
      "Partition 9 completed, convergence counter: 31718\n"
     ]
    },
    {
     "name": "stderr",
     "output_type": "stream",
     "text": [
      "Simulation Progress: 100%|██████████| 500000/500000 [02:31<00:00, 3306.84it/s]\n"
     ]
    },
    {
     "name": "stdout",
     "output_type": "stream",
     "text": [
      "Partition 10 completed, convergence counter: 20118\n"
     ]
    },
    {
     "name": "stderr",
     "output_type": "stream",
     "text": [
      "Simulation Progress: 100%|██████████| 500000/500000 [02:24<00:00, 3456.71it/s]\n"
     ]
    },
    {
     "name": "stdout",
     "output_type": "stream",
     "text": [
      "Partition 11 completed, convergence counter: 13487\n"
     ]
    },
    {
     "name": "stderr",
     "output_type": "stream",
     "text": [
      "Simulation Progress: 100%|██████████| 500000/500000 [02:45<00:00, 3019.47it/s]\n"
     ]
    },
    {
     "name": "stdout",
     "output_type": "stream",
     "text": [
      "Partition 12 completed, convergence counter: 126179\n"
     ]
    },
    {
     "name": "stderr",
     "output_type": "stream",
     "text": [
      "Simulation Progress: 100%|██████████| 500000/500000 [02:19<00:00, 3593.71it/s]\n"
     ]
    },
    {
     "name": "stdout",
     "output_type": "stream",
     "text": [
      "Partition 13 completed, convergence counter: 49516\n"
     ]
    },
    {
     "name": "stderr",
     "output_type": "stream",
     "text": [
      "Simulation Progress: 100%|██████████| 500000/500000 [02:22<00:00, 3515.63it/s]\n"
     ]
    },
    {
     "name": "stdout",
     "output_type": "stream",
     "text": [
      "Partition 14 completed, convergence counter: 58552\n"
     ]
    },
    {
     "name": "stderr",
     "output_type": "stream",
     "text": [
      "Simulation Progress: 100%|██████████| 500000/500000 [02:21<00:00, 3528.75it/s]\n"
     ]
    },
    {
     "name": "stdout",
     "output_type": "stream",
     "text": [
      "Partition 15 completed, convergence counter: 192010\n"
     ]
    },
    {
     "name": "stderr",
     "output_type": "stream",
     "text": [
      "Simulation Progress: 100%|██████████| 500000/500000 [02:19<00:00, 3580.08it/s]\n"
     ]
    },
    {
     "name": "stdout",
     "output_type": "stream",
     "text": [
      "Partition 16 completed, convergence counter: 18006\n"
     ]
    },
    {
     "name": "stderr",
     "output_type": "stream",
     "text": [
      "Simulation Progress: 100%|██████████| 500000/500000 [02:22<00:00, 3498.00it/s]\n"
     ]
    },
    {
     "name": "stdout",
     "output_type": "stream",
     "text": [
      "Partition 17 completed, convergence counter: 163895\n"
     ]
    },
    {
     "name": "stderr",
     "output_type": "stream",
     "text": [
      "Simulation Progress: 100%|██████████| 500000/500000 [02:03<00:00, 4058.57it/s]\n"
     ]
    },
    {
     "name": "stdout",
     "output_type": "stream",
     "text": [
      "Partition 18 completed, convergence counter: 317046\n"
     ]
    },
    {
     "name": "stderr",
     "output_type": "stream",
     "text": [
      "Simulation Progress: 100%|██████████| 500000/500000 [02:27<00:00, 3396.76it/s]\n"
     ]
    },
    {
     "name": "stdout",
     "output_type": "stream",
     "text": [
      "Partition 19 completed, convergence counter: 110023\n"
     ]
    },
    {
     "name": "stderr",
     "output_type": "stream",
     "text": [
      "Simulation Progress: 100%|██████████| 500000/500000 [02:49<00:00, 2943.79it/s]\n"
     ]
    },
    {
     "name": "stdout",
     "output_type": "stream",
     "text": [
      "Partition 20 completed, convergence counter: 276373\n"
     ]
    },
    {
     "name": "stderr",
     "output_type": "stream",
     "text": [
      "Simulation Progress: 100%|██████████| 500000/500000 [02:35<00:00, 3220.10it/s]\n"
     ]
    },
    {
     "name": "stdout",
     "output_type": "stream",
     "text": [
      "Partition 21 completed, convergence counter: 8163\n"
     ]
    },
    {
     "name": "stderr",
     "output_type": "stream",
     "text": [
      "Simulation Progress: 100%|██████████| 500000/500000 [02:46<00:00, 3004.46it/s]\n"
     ]
    },
    {
     "name": "stdout",
     "output_type": "stream",
     "text": [
      "Partition 22 completed, convergence counter: 128169\n"
     ]
    },
    {
     "name": "stderr",
     "output_type": "stream",
     "text": [
      "Simulation Progress: 100%|██████████| 500000/500000 [02:41<00:00, 3089.48it/s]\n"
     ]
    },
    {
     "name": "stdout",
     "output_type": "stream",
     "text": [
      "Partition 23 completed, convergence counter: 7211\n"
     ]
    },
    {
     "name": "stderr",
     "output_type": "stream",
     "text": [
      "Simulation Progress: 100%|██████████| 500000/500000 [02:38<00:00, 3145.34it/s]\n"
     ]
    },
    {
     "name": "stdout",
     "output_type": "stream",
     "text": [
      "Partition 24 completed, convergence counter: 89231\n"
     ]
    },
    {
     "name": "stderr",
     "output_type": "stream",
     "text": [
      "Simulation Progress: 100%|██████████| 500000/500000 [02:27<00:00, 3401.21it/s]\n"
     ]
    },
    {
     "name": "stdout",
     "output_type": "stream",
     "text": [
      "Partition 25 completed, convergence counter: 117954\n"
     ]
    },
    {
     "name": "stderr",
     "output_type": "stream",
     "text": [
      "Simulation Progress: 100%|██████████| 500000/500000 [02:38<00:00, 3152.26it/s]\n"
     ]
    },
    {
     "name": "stdout",
     "output_type": "stream",
     "text": [
      "Partition 26 completed, convergence counter: 322831\n"
     ]
    },
    {
     "name": "stderr",
     "output_type": "stream",
     "text": [
      "Simulation Progress: 100%|██████████| 500000/500000 [02:35<00:00, 3218.22it/s]\n"
     ]
    },
    {
     "name": "stdout",
     "output_type": "stream",
     "text": [
      "Partition 27 completed, convergence counter: 3967\n"
     ]
    },
    {
     "name": "stderr",
     "output_type": "stream",
     "text": [
      "Simulation Progress: 100%|██████████| 500000/500000 [02:04<00:00, 4028.07it/s]\n"
     ]
    },
    {
     "name": "stdout",
     "output_type": "stream",
     "text": [
      "Partition 28 completed, convergence counter: 83141\n"
     ]
    },
    {
     "name": "stderr",
     "output_type": "stream",
     "text": [
      "Simulation Progress: 100%|██████████| 500000/500000 [02:11<00:00, 3816.68it/s]\n"
     ]
    },
    {
     "name": "stdout",
     "output_type": "stream",
     "text": [
      "Partition 29 completed, convergence counter: 193959\n"
     ]
    },
    {
     "name": "stderr",
     "output_type": "stream",
     "text": [
      "Simulation Progress: 100%|██████████| 500000/500000 [02:55<00:00, 2845.50it/s]\n"
     ]
    },
    {
     "name": "stdout",
     "output_type": "stream",
     "text": [
      "Partition 30 completed, convergence counter: 428569\n"
     ]
    },
    {
     "name": "stderr",
     "output_type": "stream",
     "text": [
      "Simulation Progress: 100%|██████████| 500000/500000 [02:46<00:00, 2996.00it/s]\n"
     ]
    },
    {
     "name": "stdout",
     "output_type": "stream",
     "text": [
      "Partition 31 completed, convergence counter: 672154\n"
     ]
    },
    {
     "name": "stderr",
     "output_type": "stream",
     "text": [
      "Simulation Progress: 100%|██████████| 500000/500000 [02:18<00:00, 3621.50it/s]\n"
     ]
    },
    {
     "name": "stdout",
     "output_type": "stream",
     "text": [
      "Partition 32 completed, convergence counter: 923288\n"
     ]
    },
    {
     "name": "stderr",
     "output_type": "stream",
     "text": [
      "Simulation Progress: 100%|██████████| 500000/500000 [02:31<00:00, 3302.26it/s]\n"
     ]
    },
    {
     "name": "stdout",
     "output_type": "stream",
     "text": [
      "Partition 33 completed, convergence counter: 215286\n"
     ]
    },
    {
     "name": "stderr",
     "output_type": "stream",
     "text": [
      "Simulation Progress: 100%|██████████| 500000/500000 [02:20<00:00, 3549.56it/s]\n"
     ]
    },
    {
     "name": "stdout",
     "output_type": "stream",
     "text": [
      "Partition 34 completed, convergence counter: 181178\n"
     ]
    },
    {
     "name": "stderr",
     "output_type": "stream",
     "text": [
      "Simulation Progress: 100%|██████████| 500000/500000 [02:29<00:00, 3354.83it/s]\n"
     ]
    },
    {
     "name": "stdout",
     "output_type": "stream",
     "text": [
      "Partition 35 completed, convergence counter: 458919\n"
     ]
    },
    {
     "name": "stderr",
     "output_type": "stream",
     "text": [
      "Simulation Progress: 100%|██████████| 500000/500000 [02:45<00:00, 3014.74it/s]\n"
     ]
    },
    {
     "name": "stdout",
     "output_type": "stream",
     "text": [
      "Partition 36 completed, convergence counter: 745838\n"
     ]
    },
    {
     "name": "stderr",
     "output_type": "stream",
     "text": [
      "Simulation Progress: 100%|██████████| 500000/500000 [02:19<00:00, 3584.56it/s]"
     ]
    },
    {
     "name": "stdout",
     "output_type": "stream",
     "text": [
      "Partition 37 completed, convergence counter: 1043197\n"
     ]
    },
    {
     "name": "stderr",
     "output_type": "stream",
     "text": [
      "\n"
     ]
    }
   ],
   "source": [
    "config = Config()\n",
    "config.sigma_u = 1e-6\n",
    "\n",
    "_save_path = '/Users/moyuanchen/Documents/thesis/sim_13/data_part_0.npy'\n",
    "log, agents = simulate(config = config, T = 500000, save_path=_save_path)\n",
    "convergence_threshold = 1000000\n",
    "convergence = 0\n",
    "partitions = 1\n",
    "while convergence < convergence_threshold:\n",
    "    save_path = f'/Users/moyuanchen/Documents/thesis/sim_13/data_part_{partitions}.npy'\n",
    "    log, agents = simulate(config = config, T=500000, continue_simulation=_save_path, save_path=save_path)\n",
    "    _save_path = save_path\n",
    "    \n",
    "    convergence = log['convergence_counter']\n",
    "    print(f\"Partition {partitions} completed, convergence counter: {convergence}\")\n",
    "    partitions += 1\n",
    "\n",
    "# save config\n",
    "np.save('/Users/moyuanchen/Documents/thesis/sim_13/config.npy', config)"
   ]
  },
  {
   "cell_type": "code",
   "execution_count": 18,
   "metadata": {},
   "outputs": [
    {
     "name": "stderr",
     "output_type": "stream",
     "text": [
      "Simulation Progress: 100%|██████████| 500000/500000 [02:04<00:00, 4023.62it/s]\n",
      "Simulation Progress: 100%|██████████| 500000/500000 [02:04<00:00, 4013.97it/s]\n"
     ]
    },
    {
     "name": "stdout",
     "output_type": "stream",
     "text": [
      "Partition 1 completed, convergence counter: 11\n"
     ]
    },
    {
     "name": "stderr",
     "output_type": "stream",
     "text": [
      "Simulation Progress: 100%|██████████| 500000/500000 [02:19<00:00, 3595.68it/s]\n"
     ]
    },
    {
     "name": "stdout",
     "output_type": "stream",
     "text": [
      "Partition 2 completed, convergence counter: 49\n"
     ]
    },
    {
     "name": "stderr",
     "output_type": "stream",
     "text": [
      "Simulation Progress: 100%|██████████| 500000/500000 [02:10<00:00, 3831.67it/s]\n"
     ]
    },
    {
     "name": "stdout",
     "output_type": "stream",
     "text": [
      "Partition 3 completed, convergence counter: 1\n"
     ]
    },
    {
     "name": "stderr",
     "output_type": "stream",
     "text": [
      "Simulation Progress: 100%|██████████| 500000/500000 [02:09<00:00, 3872.25it/s]\n"
     ]
    },
    {
     "name": "stdout",
     "output_type": "stream",
     "text": [
      "Partition 4 completed, convergence counter: 31\n"
     ]
    },
    {
     "name": "stderr",
     "output_type": "stream",
     "text": [
      "Simulation Progress: 100%|██████████| 500000/500000 [02:09<00:00, 3871.04it/s]\n"
     ]
    },
    {
     "name": "stdout",
     "output_type": "stream",
     "text": [
      "Partition 5 completed, convergence counter: 272\n"
     ]
    },
    {
     "name": "stderr",
     "output_type": "stream",
     "text": [
      "Simulation Progress: 100%|██████████| 500000/500000 [02:08<00:00, 3878.90it/s]\n"
     ]
    },
    {
     "name": "stdout",
     "output_type": "stream",
     "text": [
      "Partition 6 completed, convergence counter: 319\n"
     ]
    },
    {
     "name": "stderr",
     "output_type": "stream",
     "text": [
      "Simulation Progress: 100%|██████████| 500000/500000 [02:08<00:00, 3904.58it/s]\n"
     ]
    },
    {
     "name": "stdout",
     "output_type": "stream",
     "text": [
      "Partition 7 completed, convergence counter: 24340\n"
     ]
    },
    {
     "name": "stderr",
     "output_type": "stream",
     "text": [
      "Simulation Progress: 100%|██████████| 500000/500000 [02:09<00:00, 3857.68it/s]\n"
     ]
    },
    {
     "name": "stdout",
     "output_type": "stream",
     "text": [
      "Partition 8 completed, convergence counter: 3536\n"
     ]
    },
    {
     "name": "stderr",
     "output_type": "stream",
     "text": [
      "Simulation Progress: 100%|██████████| 500000/500000 [02:06<00:00, 3942.36it/s]\n"
     ]
    },
    {
     "name": "stdout",
     "output_type": "stream",
     "text": [
      "Partition 9 completed, convergence counter: 57334\n"
     ]
    },
    {
     "name": "stderr",
     "output_type": "stream",
     "text": [
      "Simulation Progress: 100%|██████████| 500000/500000 [02:07<00:00, 3918.04it/s]\n"
     ]
    },
    {
     "name": "stdout",
     "output_type": "stream",
     "text": [
      "Partition 10 completed, convergence counter: 8662\n"
     ]
    },
    {
     "name": "stderr",
     "output_type": "stream",
     "text": [
      "Simulation Progress: 100%|██████████| 500000/500000 [02:12<00:00, 3764.28it/s]\n"
     ]
    },
    {
     "name": "stdout",
     "output_type": "stream",
     "text": [
      "Partition 11 completed, convergence counter: 11093\n"
     ]
    },
    {
     "name": "stderr",
     "output_type": "stream",
     "text": [
      "Simulation Progress: 100%|██████████| 500000/500000 [02:25<00:00, 3433.36it/s]\n"
     ]
    },
    {
     "name": "stdout",
     "output_type": "stream",
     "text": [
      "Partition 12 completed, convergence counter: 124126\n"
     ]
    },
    {
     "name": "stderr",
     "output_type": "stream",
     "text": [
      "Simulation Progress: 100%|██████████| 500000/500000 [02:16<00:00, 3656.10it/s]\n"
     ]
    },
    {
     "name": "stdout",
     "output_type": "stream",
     "text": [
      "Partition 13 completed, convergence counter: 37693\n"
     ]
    },
    {
     "name": "stderr",
     "output_type": "stream",
     "text": [
      "Simulation Progress: 100%|██████████| 500000/500000 [02:13<00:00, 3757.52it/s]\n"
     ]
    },
    {
     "name": "stdout",
     "output_type": "stream",
     "text": [
      "Partition 14 completed, convergence counter: 50629\n"
     ]
    },
    {
     "name": "stderr",
     "output_type": "stream",
     "text": [
      "Simulation Progress: 100%|██████████| 500000/500000 [02:14<00:00, 3726.09it/s]\n"
     ]
    },
    {
     "name": "stdout",
     "output_type": "stream",
     "text": [
      "Partition 15 completed, convergence counter: 63205\n"
     ]
    },
    {
     "name": "stderr",
     "output_type": "stream",
     "text": [
      "Simulation Progress: 100%|██████████| 500000/500000 [02:11<00:00, 3800.01it/s]\n"
     ]
    },
    {
     "name": "stdout",
     "output_type": "stream",
     "text": [
      "Partition 16 completed, convergence counter: 29922\n"
     ]
    },
    {
     "name": "stderr",
     "output_type": "stream",
     "text": [
      "Simulation Progress: 100%|██████████| 500000/500000 [02:07<00:00, 3927.15it/s]\n"
     ]
    },
    {
     "name": "stdout",
     "output_type": "stream",
     "text": [
      "Partition 17 completed, convergence counter: 176308\n"
     ]
    },
    {
     "name": "stderr",
     "output_type": "stream",
     "text": [
      "Simulation Progress: 100%|██████████| 500000/500000 [02:07<00:00, 3909.49it/s]\n"
     ]
    },
    {
     "name": "stdout",
     "output_type": "stream",
     "text": [
      "Partition 18 completed, convergence counter: 75434\n"
     ]
    },
    {
     "name": "stderr",
     "output_type": "stream",
     "text": [
      "Simulation Progress: 100%|██████████| 500000/500000 [02:13<00:00, 3740.77it/s]\n"
     ]
    },
    {
     "name": "stdout",
     "output_type": "stream",
     "text": [
      "Partition 19 completed, convergence counter: 234458\n"
     ]
    },
    {
     "name": "stderr",
     "output_type": "stream",
     "text": [
      "Simulation Progress: 100%|██████████| 500000/500000 [02:21<00:00, 3522.35it/s]\n"
     ]
    },
    {
     "name": "stdout",
     "output_type": "stream",
     "text": [
      "Partition 20 completed, convergence counter: 159535\n"
     ]
    },
    {
     "name": "stderr",
     "output_type": "stream",
     "text": [
      "Simulation Progress: 100%|██████████| 500000/500000 [02:12<00:00, 3767.90it/s]\n"
     ]
    },
    {
     "name": "stdout",
     "output_type": "stream",
     "text": [
      "Partition 21 completed, convergence counter: 75143\n"
     ]
    },
    {
     "name": "stderr",
     "output_type": "stream",
     "text": [
      "Simulation Progress: 100%|██████████| 500000/500000 [02:16<00:00, 3671.25it/s]\n"
     ]
    },
    {
     "name": "stdout",
     "output_type": "stream",
     "text": [
      "Partition 22 completed, convergence counter: 24226\n"
     ]
    },
    {
     "name": "stderr",
     "output_type": "stream",
     "text": [
      "Simulation Progress: 100%|██████████| 500000/500000 [02:11<00:00, 3802.25it/s]\n"
     ]
    },
    {
     "name": "stdout",
     "output_type": "stream",
     "text": [
      "Partition 23 completed, convergence counter: 98330\n"
     ]
    },
    {
     "name": "stderr",
     "output_type": "stream",
     "text": [
      "Simulation Progress: 100%|██████████| 500000/500000 [02:15<00:00, 3699.79it/s]\n"
     ]
    },
    {
     "name": "stdout",
     "output_type": "stream",
     "text": [
      "Partition 24 completed, convergence counter: 5619\n"
     ]
    },
    {
     "name": "stderr",
     "output_type": "stream",
     "text": [
      "Simulation Progress: 100%|██████████| 500000/500000 [02:15<00:00, 3689.91it/s]\n"
     ]
    },
    {
     "name": "stdout",
     "output_type": "stream",
     "text": [
      "Partition 25 completed, convergence counter: 107880\n"
     ]
    },
    {
     "name": "stderr",
     "output_type": "stream",
     "text": [
      "Simulation Progress: 100%|██████████| 500000/500000 [02:11<00:00, 3800.31it/s]\n"
     ]
    },
    {
     "name": "stdout",
     "output_type": "stream",
     "text": [
      "Partition 26 completed, convergence counter: 161788\n"
     ]
    },
    {
     "name": "stderr",
     "output_type": "stream",
     "text": [
      "Simulation Progress: 100%|██████████| 500000/500000 [02:08<00:00, 3887.24it/s]\n"
     ]
    },
    {
     "name": "stdout",
     "output_type": "stream",
     "text": [
      "Partition 27 completed, convergence counter: 16604\n"
     ]
    },
    {
     "name": "stderr",
     "output_type": "stream",
     "text": [
      "Simulation Progress: 100%|██████████| 500000/500000 [02:04<00:00, 4002.80it/s]\n"
     ]
    },
    {
     "name": "stdout",
     "output_type": "stream",
     "text": [
      "Partition 28 completed, convergence counter: 236485\n"
     ]
    },
    {
     "name": "stderr",
     "output_type": "stream",
     "text": [
      "Simulation Progress: 100%|██████████| 500000/500000 [02:04<00:00, 4026.85it/s]\n"
     ]
    },
    {
     "name": "stdout",
     "output_type": "stream",
     "text": [
      "Partition 29 completed, convergence counter: 463439\n"
     ]
    },
    {
     "name": "stderr",
     "output_type": "stream",
     "text": [
      "Simulation Progress: 100%|██████████| 500000/500000 [02:04<00:00, 4018.88it/s]\n"
     ]
    },
    {
     "name": "stdout",
     "output_type": "stream",
     "text": [
      "Partition 30 completed, convergence counter: 698240\n"
     ]
    },
    {
     "name": "stderr",
     "output_type": "stream",
     "text": [
      "Simulation Progress: 100%|██████████| 500000/500000 [02:15<00:00, 3702.60it/s]\n"
     ]
    },
    {
     "name": "stdout",
     "output_type": "stream",
     "text": [
      "Partition 31 completed, convergence counter: 97229\n"
     ]
    },
    {
     "name": "stderr",
     "output_type": "stream",
     "text": [
      "Simulation Progress: 100%|██████████| 500000/500000 [02:20<00:00, 3548.13it/s]\n"
     ]
    },
    {
     "name": "stdout",
     "output_type": "stream",
     "text": [
      "Partition 32 completed, convergence counter: 348282\n"
     ]
    },
    {
     "name": "stderr",
     "output_type": "stream",
     "text": [
      "Simulation Progress: 100%|██████████| 500000/500000 [02:19<00:00, 3583.89it/s]\n"
     ]
    },
    {
     "name": "stdout",
     "output_type": "stream",
     "text": [
      "Partition 33 completed, convergence counter: 12176\n"
     ]
    },
    {
     "name": "stderr",
     "output_type": "stream",
     "text": [
      "Simulation Progress: 100%|██████████| 500000/500000 [02:10<00:00, 3841.46it/s]\n"
     ]
    },
    {
     "name": "stdout",
     "output_type": "stream",
     "text": [
      "Partition 34 completed, convergence counter: 279646\n"
     ]
    },
    {
     "name": "stderr",
     "output_type": "stream",
     "text": [
      "Simulation Progress: 100%|██████████| 500000/500000 [02:09<00:00, 3854.19it/s]\n"
     ]
    },
    {
     "name": "stdout",
     "output_type": "stream",
     "text": [
      "Partition 35 completed, convergence counter: 556299\n"
     ]
    },
    {
     "name": "stderr",
     "output_type": "stream",
     "text": [
      "Simulation Progress: 100%|██████████| 500000/500000 [02:04<00:00, 4008.29it/s]\n"
     ]
    },
    {
     "name": "stdout",
     "output_type": "stream",
     "text": [
      "Partition 36 completed, convergence counter: 841888\n"
     ]
    },
    {
     "name": "stderr",
     "output_type": "stream",
     "text": [
      "Simulation Progress: 100%|██████████| 500000/500000 [02:09<00:00, 3872.52it/s]\n"
     ]
    },
    {
     "name": "stdout",
     "output_type": "stream",
     "text": [
      "Partition 37 completed, convergence counter: 1138630\n"
     ]
    },
    {
     "name": "stderr",
     "output_type": "stream",
     "text": [
      "Simulation Progress: 100%|██████████| 500000/500000 [01:51<00:00, 4467.45it/s]\n",
      "Simulation Progress: 100%|██████████| 500000/500000 [01:57<00:00, 4271.00it/s]\n"
     ]
    },
    {
     "name": "stdout",
     "output_type": "stream",
     "text": [
      "Partition 1 completed, convergence counter: 8\n"
     ]
    },
    {
     "name": "stderr",
     "output_type": "stream",
     "text": [
      "Simulation Progress: 100%|██████████| 500000/500000 [02:15<00:00, 3691.05it/s]\n"
     ]
    },
    {
     "name": "stdout",
     "output_type": "stream",
     "text": [
      "Partition 2 completed, convergence counter: 8\n"
     ]
    },
    {
     "name": "stderr",
     "output_type": "stream",
     "text": [
      "Simulation Progress: 100%|██████████| 500000/500000 [02:12<00:00, 3769.98it/s]\n"
     ]
    },
    {
     "name": "stdout",
     "output_type": "stream",
     "text": [
      "Partition 3 completed, convergence counter: 122\n"
     ]
    },
    {
     "name": "stderr",
     "output_type": "stream",
     "text": [
      "Simulation Progress: 100%|██████████| 500000/500000 [02:11<00:00, 3810.07it/s]\n"
     ]
    },
    {
     "name": "stdout",
     "output_type": "stream",
     "text": [
      "Partition 4 completed, convergence counter: 527\n"
     ]
    },
    {
     "name": "stderr",
     "output_type": "stream",
     "text": [
      "Simulation Progress: 100%|██████████| 500000/500000 [02:15<00:00, 3682.41it/s]\n"
     ]
    },
    {
     "name": "stdout",
     "output_type": "stream",
     "text": [
      "Partition 5 completed, convergence counter: 209\n"
     ]
    },
    {
     "name": "stderr",
     "output_type": "stream",
     "text": [
      "Simulation Progress: 100%|██████████| 500000/500000 [02:08<00:00, 3899.22it/s]\n"
     ]
    },
    {
     "name": "stdout",
     "output_type": "stream",
     "text": [
      "Partition 6 completed, convergence counter: 5960\n"
     ]
    },
    {
     "name": "stderr",
     "output_type": "stream",
     "text": [
      "Simulation Progress: 100%|██████████| 500000/500000 [02:15<00:00, 3686.64it/s]\n"
     ]
    },
    {
     "name": "stdout",
     "output_type": "stream",
     "text": [
      "Partition 7 completed, convergence counter: 4\n"
     ]
    },
    {
     "name": "stderr",
     "output_type": "stream",
     "text": [
      "Simulation Progress: 100%|██████████| 500000/500000 [02:11<00:00, 3794.32it/s]\n"
     ]
    },
    {
     "name": "stdout",
     "output_type": "stream",
     "text": [
      "Partition 8 completed, convergence counter: 19052\n"
     ]
    },
    {
     "name": "stderr",
     "output_type": "stream",
     "text": [
      "Simulation Progress: 100%|██████████| 500000/500000 [02:07<00:00, 3907.65it/s]\n"
     ]
    },
    {
     "name": "stdout",
     "output_type": "stream",
     "text": [
      "Partition 9 completed, convergence counter: 6200\n"
     ]
    },
    {
     "name": "stderr",
     "output_type": "stream",
     "text": [
      "Simulation Progress: 100%|██████████| 500000/500000 [01:53<00:00, 4399.84it/s]\n"
     ]
    },
    {
     "name": "stdout",
     "output_type": "stream",
     "text": [
      "Partition 10 completed, convergence counter: 10714\n"
     ]
    },
    {
     "name": "stderr",
     "output_type": "stream",
     "text": [
      "Simulation Progress: 100%|██████████| 500000/500000 [02:16<00:00, 3666.84it/s]\n"
     ]
    },
    {
     "name": "stdout",
     "output_type": "stream",
     "text": [
      "Partition 11 completed, convergence counter: 21502\n"
     ]
    },
    {
     "name": "stderr",
     "output_type": "stream",
     "text": [
      "Simulation Progress: 100%|██████████| 500000/500000 [02:25<00:00, 3441.44it/s]\n"
     ]
    },
    {
     "name": "stdout",
     "output_type": "stream",
     "text": [
      "Partition 12 completed, convergence counter: 23588\n"
     ]
    },
    {
     "name": "stderr",
     "output_type": "stream",
     "text": [
      "Simulation Progress: 100%|██████████| 500000/500000 [02:14<00:00, 3706.40it/s]\n"
     ]
    },
    {
     "name": "stdout",
     "output_type": "stream",
     "text": [
      "Partition 13 completed, convergence counter: 15216\n"
     ]
    },
    {
     "name": "stderr",
     "output_type": "stream",
     "text": [
      "Simulation Progress: 100%|██████████| 500000/500000 [02:14<00:00, 3704.06it/s]\n"
     ]
    },
    {
     "name": "stdout",
     "output_type": "stream",
     "text": [
      "Partition 14 completed, convergence counter: 72706\n"
     ]
    },
    {
     "name": "stderr",
     "output_type": "stream",
     "text": [
      "Simulation Progress: 100%|██████████| 500000/500000 [02:23<00:00, 3493.39it/s]\n"
     ]
    },
    {
     "name": "stdout",
     "output_type": "stream",
     "text": [
      "Partition 15 completed, convergence counter: 77652\n"
     ]
    },
    {
     "name": "stderr",
     "output_type": "stream",
     "text": [
      "Simulation Progress: 100%|██████████| 500000/500000 [02:25<00:00, 3425.37it/s]\n"
     ]
    },
    {
     "name": "stdout",
     "output_type": "stream",
     "text": [
      "Partition 16 completed, convergence counter: 1363\n"
     ]
    },
    {
     "name": "stderr",
     "output_type": "stream",
     "text": [
      "Simulation Progress: 100%|██████████| 500000/500000 [02:27<00:00, 3394.18it/s]\n"
     ]
    },
    {
     "name": "stdout",
     "output_type": "stream",
     "text": [
      "Partition 17 completed, convergence counter: 37358\n"
     ]
    },
    {
     "name": "stderr",
     "output_type": "stream",
     "text": [
      "Simulation Progress: 100%|██████████| 500000/500000 [02:25<00:00, 3436.01it/s]\n"
     ]
    },
    {
     "name": "stdout",
     "output_type": "stream",
     "text": [
      "Partition 18 completed, convergence counter: 30325\n"
     ]
    },
    {
     "name": "stderr",
     "output_type": "stream",
     "text": [
      "Simulation Progress: 100%|██████████| 500000/500000 [02:22<00:00, 3504.51it/s]\n"
     ]
    },
    {
     "name": "stdout",
     "output_type": "stream",
     "text": [
      "Partition 19 completed, convergence counter: 17658\n"
     ]
    },
    {
     "name": "stderr",
     "output_type": "stream",
     "text": [
      "Simulation Progress: 100%|██████████| 500000/500000 [02:19<00:00, 3580.26it/s]\n"
     ]
    },
    {
     "name": "stdout",
     "output_type": "stream",
     "text": [
      "Partition 20 completed, convergence counter: 26987\n"
     ]
    },
    {
     "name": "stderr",
     "output_type": "stream",
     "text": [
      "Simulation Progress: 100%|██████████| 500000/500000 [02:18<00:00, 3603.09it/s]\n"
     ]
    },
    {
     "name": "stdout",
     "output_type": "stream",
     "text": [
      "Partition 21 completed, convergence counter: 13075\n"
     ]
    },
    {
     "name": "stderr",
     "output_type": "stream",
     "text": [
      "Simulation Progress: 100%|██████████| 500000/500000 [02:16<00:00, 3665.11it/s]\n"
     ]
    },
    {
     "name": "stdout",
     "output_type": "stream",
     "text": [
      "Partition 22 completed, convergence counter: 13173\n"
     ]
    },
    {
     "name": "stderr",
     "output_type": "stream",
     "text": [
      "Simulation Progress: 100%|██████████| 500000/500000 [02:20<00:00, 3557.43it/s]\n"
     ]
    },
    {
     "name": "stdout",
     "output_type": "stream",
     "text": [
      "Partition 23 completed, convergence counter: 45007\n"
     ]
    },
    {
     "name": "stderr",
     "output_type": "stream",
     "text": [
      "Simulation Progress: 100%|██████████| 500000/500000 [02:13<00:00, 3733.14it/s]\n"
     ]
    },
    {
     "name": "stdout",
     "output_type": "stream",
     "text": [
      "Partition 24 completed, convergence counter: 236908\n"
     ]
    },
    {
     "name": "stderr",
     "output_type": "stream",
     "text": [
      "Simulation Progress: 100%|██████████| 500000/500000 [02:14<00:00, 3729.68it/s]\n"
     ]
    },
    {
     "name": "stdout",
     "output_type": "stream",
     "text": [
      "Partition 25 completed, convergence counter: 141219\n"
     ]
    },
    {
     "name": "stderr",
     "output_type": "stream",
     "text": [
      "Simulation Progress: 100%|██████████| 500000/500000 [02:20<00:00, 3559.50it/s]\n"
     ]
    },
    {
     "name": "stdout",
     "output_type": "stream",
     "text": [
      "Partition 26 completed, convergence counter: 52142\n"
     ]
    },
    {
     "name": "stderr",
     "output_type": "stream",
     "text": [
      "Simulation Progress: 100%|██████████| 500000/500000 [02:18<00:00, 3601.11it/s]\n"
     ]
    },
    {
     "name": "stdout",
     "output_type": "stream",
     "text": [
      "Partition 27 completed, convergence counter: 125941\n"
     ]
    },
    {
     "name": "stderr",
     "output_type": "stream",
     "text": [
      "Simulation Progress: 100%|██████████| 500000/500000 [02:12<00:00, 3777.16it/s]\n"
     ]
    },
    {
     "name": "stdout",
     "output_type": "stream",
     "text": [
      "Partition 28 completed, convergence counter: 87484\n"
     ]
    },
    {
     "name": "stderr",
     "output_type": "stream",
     "text": [
      "Simulation Progress: 100%|██████████| 500000/500000 [02:06<00:00, 3951.21it/s]\n"
     ]
    },
    {
     "name": "stdout",
     "output_type": "stream",
     "text": [
      "Partition 29 completed, convergence counter: 153651\n"
     ]
    },
    {
     "name": "stderr",
     "output_type": "stream",
     "text": [
      "Simulation Progress: 100%|██████████| 500000/500000 [02:14<00:00, 3719.70it/s]\n"
     ]
    },
    {
     "name": "stdout",
     "output_type": "stream",
     "text": [
      "Partition 30 completed, convergence counter: 104339\n"
     ]
    },
    {
     "name": "stderr",
     "output_type": "stream",
     "text": [
      "Simulation Progress: 100%|██████████| 500000/500000 [02:06<00:00, 3964.69it/s]\n"
     ]
    },
    {
     "name": "stdout",
     "output_type": "stream",
     "text": [
      "Partition 31 completed, convergence counter: 347492\n"
     ]
    },
    {
     "name": "stderr",
     "output_type": "stream",
     "text": [
      "Simulation Progress: 100%|██████████| 500000/500000 [02:06<00:00, 3962.70it/s]\n"
     ]
    },
    {
     "name": "stdout",
     "output_type": "stream",
     "text": [
      "Partition 32 completed, convergence counter: 597888\n"
     ]
    },
    {
     "name": "stderr",
     "output_type": "stream",
     "text": [
      "Simulation Progress: 100%|██████████| 500000/500000 [02:06<00:00, 3959.75it/s]\n"
     ]
    },
    {
     "name": "stdout",
     "output_type": "stream",
     "text": [
      "Partition 33 completed, convergence counter: 857639\n"
     ]
    },
    {
     "name": "stderr",
     "output_type": "stream",
     "text": [
      "Simulation Progress: 100%|██████████| 500000/500000 [02:05<00:00, 3996.77it/s]\n"
     ]
    },
    {
     "name": "stdout",
     "output_type": "stream",
     "text": [
      "Partition 34 completed, convergence counter: 1125808\n"
     ]
    },
    {
     "name": "stderr",
     "output_type": "stream",
     "text": [
      "Simulation Progress: 100%|██████████| 500000/500000 [02:01<00:00, 4113.68it/s]\n",
      "Simulation Progress: 100%|██████████| 500000/500000 [02:02<00:00, 4068.26it/s]\n"
     ]
    },
    {
     "name": "stdout",
     "output_type": "stream",
     "text": [
      "Partition 1 completed, convergence counter: 8\n"
     ]
    },
    {
     "name": "stderr",
     "output_type": "stream",
     "text": [
      "Simulation Progress: 100%|██████████| 500000/500000 [02:10<00:00, 3841.69it/s]\n"
     ]
    },
    {
     "name": "stdout",
     "output_type": "stream",
     "text": [
      "Partition 2 completed, convergence counter: 73\n"
     ]
    },
    {
     "name": "stderr",
     "output_type": "stream",
     "text": [
      "Simulation Progress: 100%|██████████| 500000/500000 [02:04<00:00, 4016.04it/s]\n"
     ]
    },
    {
     "name": "stdout",
     "output_type": "stream",
     "text": [
      "Partition 3 completed, convergence counter: 35\n"
     ]
    },
    {
     "name": "stderr",
     "output_type": "stream",
     "text": [
      "Simulation Progress: 100%|██████████| 500000/500000 [02:11<00:00, 3804.74it/s]\n"
     ]
    },
    {
     "name": "stdout",
     "output_type": "stream",
     "text": [
      "Partition 4 completed, convergence counter: 100\n"
     ]
    },
    {
     "name": "stderr",
     "output_type": "stream",
     "text": [
      "Simulation Progress: 100%|██████████| 500000/500000 [02:08<00:00, 3906.01it/s]\n"
     ]
    },
    {
     "name": "stdout",
     "output_type": "stream",
     "text": [
      "Partition 5 completed, convergence counter: 14\n"
     ]
    },
    {
     "name": "stderr",
     "output_type": "stream",
     "text": [
      "Simulation Progress: 100%|██████████| 500000/500000 [02:02<00:00, 4074.49it/s]\n"
     ]
    },
    {
     "name": "stdout",
     "output_type": "stream",
     "text": [
      "Partition 6 completed, convergence counter: 132\n"
     ]
    },
    {
     "name": "stderr",
     "output_type": "stream",
     "text": [
      "Simulation Progress: 100%|██████████| 500000/500000 [02:06<00:00, 3957.39it/s]\n"
     ]
    },
    {
     "name": "stdout",
     "output_type": "stream",
     "text": [
      "Partition 7 completed, convergence counter: 18766\n"
     ]
    },
    {
     "name": "stderr",
     "output_type": "stream",
     "text": [
      "Simulation Progress: 100%|██████████| 500000/500000 [02:18<00:00, 3604.15it/s]\n"
     ]
    },
    {
     "name": "stdout",
     "output_type": "stream",
     "text": [
      "Partition 8 completed, convergence counter: 29486\n"
     ]
    },
    {
     "name": "stderr",
     "output_type": "stream",
     "text": [
      "Simulation Progress: 100%|██████████| 500000/500000 [02:16<00:00, 3659.34it/s]\n"
     ]
    },
    {
     "name": "stdout",
     "output_type": "stream",
     "text": [
      "Partition 9 completed, convergence counter: 9818\n"
     ]
    },
    {
     "name": "stderr",
     "output_type": "stream",
     "text": [
      "Simulation Progress: 100%|██████████| 500000/500000 [02:14<00:00, 3720.62it/s]\n"
     ]
    },
    {
     "name": "stdout",
     "output_type": "stream",
     "text": [
      "Partition 10 completed, convergence counter: 26951\n"
     ]
    },
    {
     "name": "stderr",
     "output_type": "stream",
     "text": [
      "Simulation Progress: 100%|██████████| 500000/500000 [02:21<00:00, 3533.19it/s]\n"
     ]
    },
    {
     "name": "stdout",
     "output_type": "stream",
     "text": [
      "Partition 11 completed, convergence counter: 132373\n"
     ]
    },
    {
     "name": "stderr",
     "output_type": "stream",
     "text": [
      "Simulation Progress: 100%|██████████| 500000/500000 [02:22<00:00, 3513.15it/s]\n"
     ]
    },
    {
     "name": "stdout",
     "output_type": "stream",
     "text": [
      "Partition 12 completed, convergence counter: 865\n"
     ]
    },
    {
     "name": "stderr",
     "output_type": "stream",
     "text": [
      "Simulation Progress: 100%|██████████| 500000/500000 [02:18<00:00, 3600.00it/s]\n"
     ]
    },
    {
     "name": "stdout",
     "output_type": "stream",
     "text": [
      "Partition 13 completed, convergence counter: 46484\n"
     ]
    },
    {
     "name": "stderr",
     "output_type": "stream",
     "text": [
      "Simulation Progress: 100%|██████████| 500000/500000 [02:18<00:00, 3603.87it/s]\n"
     ]
    },
    {
     "name": "stdout",
     "output_type": "stream",
     "text": [
      "Partition 14 completed, convergence counter: 70206\n"
     ]
    },
    {
     "name": "stderr",
     "output_type": "stream",
     "text": [
      "Simulation Progress: 100%|██████████| 500000/500000 [02:16<00:00, 3659.88it/s]\n"
     ]
    },
    {
     "name": "stdout",
     "output_type": "stream",
     "text": [
      "Partition 15 completed, convergence counter: 131788\n"
     ]
    },
    {
     "name": "stderr",
     "output_type": "stream",
     "text": [
      "Simulation Progress: 100%|██████████| 500000/500000 [02:04<00:00, 4017.59it/s]\n"
     ]
    },
    {
     "name": "stdout",
     "output_type": "stream",
     "text": [
      "Partition 16 completed, convergence counter: 5189\n"
     ]
    },
    {
     "name": "stderr",
     "output_type": "stream",
     "text": [
      "Simulation Progress: 100%|██████████| 500000/500000 [02:04<00:00, 4029.95it/s]\n"
     ]
    },
    {
     "name": "stdout",
     "output_type": "stream",
     "text": [
      "Partition 17 completed, convergence counter: 11397\n"
     ]
    },
    {
     "name": "stderr",
     "output_type": "stream",
     "text": [
      "Simulation Progress: 100%|██████████| 500000/500000 [02:03<00:00, 4034.39it/s]\n"
     ]
    },
    {
     "name": "stdout",
     "output_type": "stream",
     "text": [
      "Partition 18 completed, convergence counter: 7948\n"
     ]
    },
    {
     "name": "stderr",
     "output_type": "stream",
     "text": [
      "Simulation Progress: 100%|██████████| 500000/500000 [02:04<00:00, 4032.01it/s]\n"
     ]
    },
    {
     "name": "stdout",
     "output_type": "stream",
     "text": [
      "Partition 19 completed, convergence counter: 167550\n"
     ]
    },
    {
     "name": "stderr",
     "output_type": "stream",
     "text": [
      "Simulation Progress: 100%|██████████| 500000/500000 [02:04<00:00, 4011.89it/s]\n"
     ]
    },
    {
     "name": "stdout",
     "output_type": "stream",
     "text": [
      "Partition 20 completed, convergence counter: 333659\n"
     ]
    },
    {
     "name": "stderr",
     "output_type": "stream",
     "text": [
      "Simulation Progress: 100%|██████████| 500000/500000 [02:07<00:00, 3909.87it/s]\n"
     ]
    },
    {
     "name": "stdout",
     "output_type": "stream",
     "text": [
      "Partition 21 completed, convergence counter: 139135\n"
     ]
    },
    {
     "name": "stderr",
     "output_type": "stream",
     "text": [
      "Simulation Progress: 100%|██████████| 500000/500000 [02:09<00:00, 3863.90it/s]\n"
     ]
    },
    {
     "name": "stdout",
     "output_type": "stream",
     "text": [
      "Partition 22 completed, convergence counter: 37112\n"
     ]
    },
    {
     "name": "stderr",
     "output_type": "stream",
     "text": [
      "Simulation Progress: 100%|██████████| 500000/500000 [02:14<00:00, 3724.40it/s]\n"
     ]
    },
    {
     "name": "stdout",
     "output_type": "stream",
     "text": [
      "Partition 23 completed, convergence counter: 222717\n"
     ]
    },
    {
     "name": "stderr",
     "output_type": "stream",
     "text": [
      "Simulation Progress: 100%|██████████| 500000/500000 [02:25<00:00, 3439.23it/s]\n"
     ]
    },
    {
     "name": "stdout",
     "output_type": "stream",
     "text": [
      "Partition 24 completed, convergence counter: 22576\n"
     ]
    },
    {
     "name": "stderr",
     "output_type": "stream",
     "text": [
      "Simulation Progress: 100%|██████████| 500000/500000 [02:13<00:00, 3741.33it/s]\n"
     ]
    },
    {
     "name": "stdout",
     "output_type": "stream",
     "text": [
      "Partition 25 completed, convergence counter: 222370\n"
     ]
    },
    {
     "name": "stderr",
     "output_type": "stream",
     "text": [
      "Simulation Progress: 100%|██████████| 500000/500000 [02:09<00:00, 3858.81it/s]\n"
     ]
    },
    {
     "name": "stdout",
     "output_type": "stream",
     "text": [
      "Partition 26 completed, convergence counter: 140084\n"
     ]
    },
    {
     "name": "stderr",
     "output_type": "stream",
     "text": [
      "Simulation Progress: 100%|██████████| 500000/500000 [02:08<00:00, 3883.16it/s]\n"
     ]
    },
    {
     "name": "stdout",
     "output_type": "stream",
     "text": [
      "Partition 27 completed, convergence counter: 91191\n"
     ]
    },
    {
     "name": "stderr",
     "output_type": "stream",
     "text": [
      "Simulation Progress: 100%|██████████| 500000/500000 [02:09<00:00, 3858.06it/s]\n"
     ]
    },
    {
     "name": "stdout",
     "output_type": "stream",
     "text": [
      "Partition 28 completed, convergence counter: 158414\n"
     ]
    },
    {
     "name": "stderr",
     "output_type": "stream",
     "text": [
      "Simulation Progress: 100%|██████████| 500000/500000 [02:04<00:00, 4015.11it/s]\n"
     ]
    },
    {
     "name": "stdout",
     "output_type": "stream",
     "text": [
      "Partition 29 completed, convergence counter: 385199\n"
     ]
    },
    {
     "name": "stderr",
     "output_type": "stream",
     "text": [
      "Simulation Progress: 100%|██████████| 500000/500000 [02:06<00:00, 3945.63it/s]\n"
     ]
    },
    {
     "name": "stdout",
     "output_type": "stream",
     "text": [
      "Partition 30 completed, convergence counter: 620211\n"
     ]
    },
    {
     "name": "stderr",
     "output_type": "stream",
     "text": [
      "Simulation Progress: 100%|██████████| 500000/500000 [02:07<00:00, 3915.00it/s]\n"
     ]
    },
    {
     "name": "stdout",
     "output_type": "stream",
     "text": [
      "Partition 31 completed, convergence counter: 863762\n"
     ]
    },
    {
     "name": "stderr",
     "output_type": "stream",
     "text": [
      "Simulation Progress: 100%|██████████| 500000/500000 [02:09<00:00, 3850.88it/s]\n"
     ]
    },
    {
     "name": "stdout",
     "output_type": "stream",
     "text": [
      "Partition 32 completed, convergence counter: 1115333\n"
     ]
    },
    {
     "name": "stderr",
     "output_type": "stream",
     "text": [
      "Simulation Progress: 100%|██████████| 500000/500000 [02:09<00:00, 3859.47it/s]\n",
      "Simulation Progress: 100%|██████████| 500000/500000 [02:13<00:00, 3756.81it/s]\n"
     ]
    },
    {
     "name": "stdout",
     "output_type": "stream",
     "text": [
      "Partition 1 completed, convergence counter: 9\n"
     ]
    },
    {
     "name": "stderr",
     "output_type": "stream",
     "text": [
      "Simulation Progress: 100%|██████████| 500000/500000 [02:02<00:00, 4088.53it/s]\n"
     ]
    },
    {
     "name": "stdout",
     "output_type": "stream",
     "text": [
      "Partition 2 completed, convergence counter: 18\n"
     ]
    },
    {
     "name": "stderr",
     "output_type": "stream",
     "text": [
      "Simulation Progress: 100%|██████████| 500000/500000 [02:13<00:00, 3747.78it/s]\n"
     ]
    },
    {
     "name": "stdout",
     "output_type": "stream",
     "text": [
      "Partition 3 completed, convergence counter: 30\n"
     ]
    },
    {
     "name": "stderr",
     "output_type": "stream",
     "text": [
      "Simulation Progress: 100%|██████████| 500000/500000 [02:16<00:00, 3650.39it/s]\n"
     ]
    },
    {
     "name": "stdout",
     "output_type": "stream",
     "text": [
      "Partition 4 completed, convergence counter: 46\n"
     ]
    },
    {
     "name": "stderr",
     "output_type": "stream",
     "text": [
      "Simulation Progress: 100%|██████████| 500000/500000 [02:07<00:00, 3908.67it/s]\n"
     ]
    },
    {
     "name": "stdout",
     "output_type": "stream",
     "text": [
      "Partition 5 completed, convergence counter: 532\n"
     ]
    },
    {
     "name": "stderr",
     "output_type": "stream",
     "text": [
      "Simulation Progress: 100%|██████████| 500000/500000 [02:02<00:00, 4067.68it/s]\n"
     ]
    },
    {
     "name": "stdout",
     "output_type": "stream",
     "text": [
      "Partition 6 completed, convergence counter: 727\n"
     ]
    },
    {
     "name": "stderr",
     "output_type": "stream",
     "text": [
      "Simulation Progress: 100%|██████████| 500000/500000 [02:01<00:00, 4126.40it/s]\n"
     ]
    },
    {
     "name": "stdout",
     "output_type": "stream",
     "text": [
      "Partition 7 completed, convergence counter: 497\n"
     ]
    },
    {
     "name": "stderr",
     "output_type": "stream",
     "text": [
      "Simulation Progress: 100%|██████████| 500000/500000 [01:58<00:00, 4226.83it/s]\n"
     ]
    },
    {
     "name": "stdout",
     "output_type": "stream",
     "text": [
      "Partition 8 completed, convergence counter: 8640\n"
     ]
    },
    {
     "name": "stderr",
     "output_type": "stream",
     "text": [
      "Simulation Progress: 100%|██████████| 500000/500000 [02:00<00:00, 4146.51it/s]\n"
     ]
    },
    {
     "name": "stdout",
     "output_type": "stream",
     "text": [
      "Partition 9 completed, convergence counter: 1949\n"
     ]
    },
    {
     "name": "stderr",
     "output_type": "stream",
     "text": [
      "Simulation Progress: 100%|██████████| 500000/500000 [01:57<00:00, 4260.01it/s]\n"
     ]
    },
    {
     "name": "stdout",
     "output_type": "stream",
     "text": [
      "Partition 10 completed, convergence counter: 62877\n"
     ]
    },
    {
     "name": "stderr",
     "output_type": "stream",
     "text": [
      "Simulation Progress: 100%|██████████| 500000/500000 [02:17<00:00, 3638.76it/s]\n"
     ]
    },
    {
     "name": "stdout",
     "output_type": "stream",
     "text": [
      "Partition 11 completed, convergence counter: 9737\n"
     ]
    },
    {
     "name": "stderr",
     "output_type": "stream",
     "text": [
      "Simulation Progress: 100%|██████████| 500000/500000 [02:13<00:00, 3759.37it/s]\n"
     ]
    },
    {
     "name": "stdout",
     "output_type": "stream",
     "text": [
      "Partition 12 completed, convergence counter: 796\n"
     ]
    },
    {
     "name": "stderr",
     "output_type": "stream",
     "text": [
      "Simulation Progress: 100%|██████████| 500000/500000 [02:02<00:00, 4078.85it/s]\n"
     ]
    },
    {
     "name": "stdout",
     "output_type": "stream",
     "text": [
      "Partition 13 completed, convergence counter: 43388\n"
     ]
    },
    {
     "name": "stderr",
     "output_type": "stream",
     "text": [
      "Simulation Progress: 100%|██████████| 500000/500000 [02:18<00:00, 3614.04it/s]\n"
     ]
    },
    {
     "name": "stdout",
     "output_type": "stream",
     "text": [
      "Partition 14 completed, convergence counter: 169949\n"
     ]
    },
    {
     "name": "stderr",
     "output_type": "stream",
     "text": [
      "Simulation Progress: 100%|██████████| 500000/500000 [02:14<00:00, 3723.88it/s]\n"
     ]
    },
    {
     "name": "stdout",
     "output_type": "stream",
     "text": [
      "Partition 15 completed, convergence counter: 66187\n"
     ]
    },
    {
     "name": "stderr",
     "output_type": "stream",
     "text": [
      "Simulation Progress: 100%|██████████| 500000/500000 [02:14<00:00, 3708.92it/s]\n"
     ]
    },
    {
     "name": "stdout",
     "output_type": "stream",
     "text": [
      "Partition 16 completed, convergence counter: 206293\n"
     ]
    },
    {
     "name": "stderr",
     "output_type": "stream",
     "text": [
      "Simulation Progress: 100%|██████████| 500000/500000 [02:08<00:00, 3897.91it/s]\n"
     ]
    },
    {
     "name": "stdout",
     "output_type": "stream",
     "text": [
      "Partition 17 completed, convergence counter: 125273\n"
     ]
    },
    {
     "name": "stderr",
     "output_type": "stream",
     "text": [
      "Simulation Progress: 100%|██████████| 500000/500000 [02:19<00:00, 3584.31it/s]\n"
     ]
    },
    {
     "name": "stdout",
     "output_type": "stream",
     "text": [
      "Partition 18 completed, convergence counter: 102353\n"
     ]
    },
    {
     "name": "stderr",
     "output_type": "stream",
     "text": [
      "Simulation Progress: 100%|██████████| 500000/500000 [02:23<00:00, 3488.52it/s]\n"
     ]
    },
    {
     "name": "stdout",
     "output_type": "stream",
     "text": [
      "Partition 19 completed, convergence counter: 4112\n"
     ]
    },
    {
     "name": "stderr",
     "output_type": "stream",
     "text": [
      "Simulation Progress: 100%|██████████| 500000/500000 [02:12<00:00, 3759.91it/s]\n"
     ]
    },
    {
     "name": "stdout",
     "output_type": "stream",
     "text": [
      "Partition 20 completed, convergence counter: 44837\n"
     ]
    },
    {
     "name": "stderr",
     "output_type": "stream",
     "text": [
      "Simulation Progress: 100%|██████████| 500000/500000 [02:14<00:00, 3718.39it/s]\n"
     ]
    },
    {
     "name": "stdout",
     "output_type": "stream",
     "text": [
      "Partition 21 completed, convergence counter: 72884\n"
     ]
    },
    {
     "name": "stderr",
     "output_type": "stream",
     "text": [
      "Simulation Progress: 100%|██████████| 500000/500000 [02:18<00:00, 3600.34it/s]\n"
     ]
    },
    {
     "name": "stdout",
     "output_type": "stream",
     "text": [
      "Partition 22 completed, convergence counter: 7182\n"
     ]
    },
    {
     "name": "stderr",
     "output_type": "stream",
     "text": [
      "Simulation Progress: 100%|██████████| 500000/500000 [02:14<00:00, 3715.77it/s]\n"
     ]
    },
    {
     "name": "stdout",
     "output_type": "stream",
     "text": [
      "Partition 23 completed, convergence counter: 52066\n"
     ]
    },
    {
     "name": "stderr",
     "output_type": "stream",
     "text": [
      "Simulation Progress: 100%|██████████| 500000/500000 [02:16<00:00, 3673.22it/s]\n"
     ]
    },
    {
     "name": "stdout",
     "output_type": "stream",
     "text": [
      "Partition 24 completed, convergence counter: 13709\n"
     ]
    },
    {
     "name": "stderr",
     "output_type": "stream",
     "text": [
      "Simulation Progress: 100%|██████████| 500000/500000 [02:14<00:00, 3719.44it/s]\n"
     ]
    },
    {
     "name": "stdout",
     "output_type": "stream",
     "text": [
      "Partition 25 completed, convergence counter: 108968\n"
     ]
    },
    {
     "name": "stderr",
     "output_type": "stream",
     "text": [
      "Simulation Progress: 100%|██████████| 500000/500000 [02:15<00:00, 3698.11it/s]\n"
     ]
    },
    {
     "name": "stdout",
     "output_type": "stream",
     "text": [
      "Partition 26 completed, convergence counter: 127727\n"
     ]
    },
    {
     "name": "stderr",
     "output_type": "stream",
     "text": [
      "Simulation Progress: 100%|██████████| 500000/500000 [02:11<00:00, 3808.84it/s]\n"
     ]
    },
    {
     "name": "stdout",
     "output_type": "stream",
     "text": [
      "Partition 27 completed, convergence counter: 341071\n"
     ]
    },
    {
     "name": "stderr",
     "output_type": "stream",
     "text": [
      "Simulation Progress: 100%|██████████| 500000/500000 [02:16<00:00, 3662.97it/s]\n"
     ]
    },
    {
     "name": "stdout",
     "output_type": "stream",
     "text": [
      "Partition 28 completed, convergence counter: 159427\n"
     ]
    },
    {
     "name": "stderr",
     "output_type": "stream",
     "text": [
      "Simulation Progress: 100%|██████████| 500000/500000 [02:17<00:00, 3647.18it/s]\n"
     ]
    },
    {
     "name": "stdout",
     "output_type": "stream",
     "text": [
      "Partition 29 completed, convergence counter: 145559\n"
     ]
    },
    {
     "name": "stderr",
     "output_type": "stream",
     "text": [
      "Simulation Progress: 100%|██████████| 500000/500000 [02:17<00:00, 3645.87it/s]\n"
     ]
    },
    {
     "name": "stdout",
     "output_type": "stream",
     "text": [
      "Partition 30 completed, convergence counter: 7167\n"
     ]
    },
    {
     "name": "stderr",
     "output_type": "stream",
     "text": [
      "Simulation Progress: 100%|██████████| 500000/500000 [02:13<00:00, 3759.25it/s]\n"
     ]
    },
    {
     "name": "stdout",
     "output_type": "stream",
     "text": [
      "Partition 31 completed, convergence counter: 250331\n"
     ]
    },
    {
     "name": "stderr",
     "output_type": "stream",
     "text": [
      "Simulation Progress: 100%|██████████| 500000/500000 [02:01<00:00, 4124.84it/s]\n"
     ]
    },
    {
     "name": "stdout",
     "output_type": "stream",
     "text": [
      "Partition 32 completed, convergence counter: 58413\n"
     ]
    },
    {
     "name": "stderr",
     "output_type": "stream",
     "text": [
      "Simulation Progress: 100%|██████████| 500000/500000 [02:17<00:00, 3638.46it/s]\n"
     ]
    },
    {
     "name": "stdout",
     "output_type": "stream",
     "text": [
      "Partition 33 completed, convergence counter: 318696\n"
     ]
    },
    {
     "name": "stderr",
     "output_type": "stream",
     "text": [
      "Simulation Progress: 100%|██████████| 500000/500000 [02:01<00:00, 4104.32it/s]\n"
     ]
    },
    {
     "name": "stdout",
     "output_type": "stream",
     "text": [
      "Partition 34 completed, convergence counter: 588013\n"
     ]
    },
    {
     "name": "stderr",
     "output_type": "stream",
     "text": [
      "Simulation Progress: 100%|██████████| 500000/500000 [02:07<00:00, 3930.32it/s]\n"
     ]
    },
    {
     "name": "stdout",
     "output_type": "stream",
     "text": [
      "Partition 35 completed, convergence counter: 866406\n"
     ]
    },
    {
     "name": "stderr",
     "output_type": "stream",
     "text": [
      "Simulation Progress: 100%|██████████| 500000/500000 [02:14<00:00, 3723.60it/s]\n"
     ]
    },
    {
     "name": "stdout",
     "output_type": "stream",
     "text": [
      "Partition 36 completed, convergence counter: 1153268\n"
     ]
    },
    {
     "name": "stderr",
     "output_type": "stream",
     "text": [
      "Simulation Progress: 100%|██████████| 500000/500000 [02:16<00:00, 3672.51it/s]\n",
      "Simulation Progress: 100%|██████████| 500000/500000 [02:10<00:00, 3822.02it/s]\n"
     ]
    },
    {
     "name": "stdout",
     "output_type": "stream",
     "text": [
      "Partition 1 completed, convergence counter: 10\n"
     ]
    },
    {
     "name": "stderr",
     "output_type": "stream",
     "text": [
      "Simulation Progress: 100%|██████████| 500000/500000 [02:10<00:00, 3824.85it/s]\n"
     ]
    },
    {
     "name": "stdout",
     "output_type": "stream",
     "text": [
      "Partition 2 completed, convergence counter: 12\n"
     ]
    },
    {
     "name": "stderr",
     "output_type": "stream",
     "text": [
      "Simulation Progress: 100%|██████████| 500000/500000 [02:07<00:00, 3920.60it/s]\n"
     ]
    },
    {
     "name": "stdout",
     "output_type": "stream",
     "text": [
      "Partition 3 completed, convergence counter: 59\n"
     ]
    },
    {
     "name": "stderr",
     "output_type": "stream",
     "text": [
      "Simulation Progress: 100%|██████████| 500000/500000 [02:11<00:00, 3809.37it/s]\n"
     ]
    },
    {
     "name": "stdout",
     "output_type": "stream",
     "text": [
      "Partition 4 completed, convergence counter: 17\n"
     ]
    },
    {
     "name": "stderr",
     "output_type": "stream",
     "text": [
      "Simulation Progress: 100%|██████████| 500000/500000 [02:10<00:00, 3821.00it/s]\n"
     ]
    },
    {
     "name": "stdout",
     "output_type": "stream",
     "text": [
      "Partition 5 completed, convergence counter: 389\n"
     ]
    },
    {
     "name": "stderr",
     "output_type": "stream",
     "text": [
      "Simulation Progress: 100%|██████████| 500000/500000 [02:03<00:00, 4040.99it/s]\n"
     ]
    },
    {
     "name": "stdout",
     "output_type": "stream",
     "text": [
      "Partition 6 completed, convergence counter: 567\n"
     ]
    },
    {
     "name": "stderr",
     "output_type": "stream",
     "text": [
      "Simulation Progress: 100%|██████████| 500000/500000 [02:04<00:00, 4017.04it/s]\n"
     ]
    },
    {
     "name": "stdout",
     "output_type": "stream",
     "text": [
      "Partition 7 completed, convergence counter: 3079\n"
     ]
    },
    {
     "name": "stderr",
     "output_type": "stream",
     "text": [
      "Simulation Progress: 100%|██████████| 500000/500000 [02:22<00:00, 3502.24it/s]\n"
     ]
    },
    {
     "name": "stdout",
     "output_type": "stream",
     "text": [
      "Partition 8 completed, convergence counter: 26273\n"
     ]
    },
    {
     "name": "stderr",
     "output_type": "stream",
     "text": [
      "Simulation Progress: 100%|██████████| 500000/500000 [02:21<00:00, 3525.77it/s]\n"
     ]
    },
    {
     "name": "stdout",
     "output_type": "stream",
     "text": [
      "Partition 9 completed, convergence counter: 26260\n"
     ]
    },
    {
     "name": "stderr",
     "output_type": "stream",
     "text": [
      "Simulation Progress: 100%|██████████| 500000/500000 [02:23<00:00, 3474.93it/s]\n"
     ]
    },
    {
     "name": "stdout",
     "output_type": "stream",
     "text": [
      "Partition 10 completed, convergence counter: 1445\n"
     ]
    },
    {
     "name": "stderr",
     "output_type": "stream",
     "text": [
      "Simulation Progress: 100%|██████████| 500000/500000 [02:21<00:00, 3528.61it/s]\n"
     ]
    },
    {
     "name": "stdout",
     "output_type": "stream",
     "text": [
      "Partition 11 completed, convergence counter: 107465\n"
     ]
    },
    {
     "name": "stderr",
     "output_type": "stream",
     "text": [
      "Simulation Progress: 100%|██████████| 500000/500000 [02:02<00:00, 4091.01it/s]\n"
     ]
    },
    {
     "name": "stdout",
     "output_type": "stream",
     "text": [
      "Partition 12 completed, convergence counter: 57713\n"
     ]
    },
    {
     "name": "stderr",
     "output_type": "stream",
     "text": [
      "Simulation Progress: 100%|██████████| 500000/500000 [02:02<00:00, 4079.40it/s]\n"
     ]
    },
    {
     "name": "stdout",
     "output_type": "stream",
     "text": [
      "Partition 13 completed, convergence counter: 90730\n"
     ]
    },
    {
     "name": "stderr",
     "output_type": "stream",
     "text": [
      "Simulation Progress: 100%|██████████| 500000/500000 [02:01<00:00, 4100.96it/s]\n"
     ]
    },
    {
     "name": "stdout",
     "output_type": "stream",
     "text": [
      "Partition 14 completed, convergence counter: 120142\n"
     ]
    },
    {
     "name": "stderr",
     "output_type": "stream",
     "text": [
      "Simulation Progress: 100%|██████████| 500000/500000 [02:01<00:00, 4131.85it/s]\n"
     ]
    },
    {
     "name": "stdout",
     "output_type": "stream",
     "text": [
      "Partition 15 completed, convergence counter: 8511\n"
     ]
    },
    {
     "name": "stderr",
     "output_type": "stream",
     "text": [
      "Simulation Progress: 100%|██████████| 500000/500000 [02:12<00:00, 3782.07it/s]\n"
     ]
    },
    {
     "name": "stdout",
     "output_type": "stream",
     "text": [
      "Partition 16 completed, convergence counter: 21599\n"
     ]
    },
    {
     "name": "stderr",
     "output_type": "stream",
     "text": [
      "Simulation Progress: 100%|██████████| 500000/500000 [02:01<00:00, 4107.84it/s]\n"
     ]
    },
    {
     "name": "stdout",
     "output_type": "stream",
     "text": [
      "Partition 17 completed, convergence counter: 57250\n"
     ]
    },
    {
     "name": "stderr",
     "output_type": "stream",
     "text": [
      "Simulation Progress: 100%|██████████| 500000/500000 [02:04<00:00, 4030.97it/s]\n"
     ]
    },
    {
     "name": "stdout",
     "output_type": "stream",
     "text": [
      "Partition 18 completed, convergence counter: 32319\n"
     ]
    },
    {
     "name": "stderr",
     "output_type": "stream",
     "text": [
      "Simulation Progress: 100%|██████████| 500000/500000 [02:03<00:00, 4064.95it/s]\n"
     ]
    },
    {
     "name": "stdout",
     "output_type": "stream",
     "text": [
      "Partition 19 completed, convergence counter: 71814\n"
     ]
    },
    {
     "name": "stderr",
     "output_type": "stream",
     "text": [
      "Simulation Progress: 100%|██████████| 500000/500000 [02:03<00:00, 4045.71it/s]\n"
     ]
    },
    {
     "name": "stdout",
     "output_type": "stream",
     "text": [
      "Partition 20 completed, convergence counter: 237494\n"
     ]
    },
    {
     "name": "stderr",
     "output_type": "stream",
     "text": [
      "Simulation Progress: 100%|██████████| 500000/500000 [01:58<00:00, 4209.86it/s]\n"
     ]
    },
    {
     "name": "stdout",
     "output_type": "stream",
     "text": [
      "Partition 21 completed, convergence counter: 76367\n"
     ]
    },
    {
     "name": "stderr",
     "output_type": "stream",
     "text": [
      "Simulation Progress: 100%|██████████| 500000/500000 [02:00<00:00, 4158.24it/s]\n"
     ]
    },
    {
     "name": "stdout",
     "output_type": "stream",
     "text": [
      "Partition 22 completed, convergence counter: 89645\n"
     ]
    },
    {
     "name": "stderr",
     "output_type": "stream",
     "text": [
      "Simulation Progress: 100%|██████████| 500000/500000 [02:05<00:00, 3998.06it/s]\n"
     ]
    },
    {
     "name": "stdout",
     "output_type": "stream",
     "text": [
      "Partition 23 completed, convergence counter: 157479\n"
     ]
    },
    {
     "name": "stderr",
     "output_type": "stream",
     "text": [
      "Simulation Progress: 100%|██████████| 500000/500000 [02:13<00:00, 3757.90it/s]\n"
     ]
    },
    {
     "name": "stdout",
     "output_type": "stream",
     "text": [
      "Partition 24 completed, convergence counter: 44977\n"
     ]
    },
    {
     "name": "stderr",
     "output_type": "stream",
     "text": [
      "Simulation Progress: 100%|██████████| 500000/500000 [02:21<00:00, 3536.53it/s]\n"
     ]
    },
    {
     "name": "stdout",
     "output_type": "stream",
     "text": [
      "Partition 25 completed, convergence counter: 243276\n"
     ]
    },
    {
     "name": "stderr",
     "output_type": "stream",
     "text": [
      "Simulation Progress: 100%|██████████| 500000/500000 [02:16<00:00, 3658.79it/s]\n"
     ]
    },
    {
     "name": "stdout",
     "output_type": "stream",
     "text": [
      "Partition 26 completed, convergence counter: 77566\n"
     ]
    },
    {
     "name": "stderr",
     "output_type": "stream",
     "text": [
      "Simulation Progress: 100%|██████████| 500000/500000 [02:16<00:00, 3660.31it/s]\n"
     ]
    },
    {
     "name": "stdout",
     "output_type": "stream",
     "text": [
      "Partition 27 completed, convergence counter: 290331\n"
     ]
    },
    {
     "name": "stderr",
     "output_type": "stream",
     "text": [
      "Simulation Progress: 100%|██████████| 500000/500000 [02:12<00:00, 3769.46it/s]\n"
     ]
    },
    {
     "name": "stdout",
     "output_type": "stream",
     "text": [
      "Partition 28 completed, convergence counter: 49170\n"
     ]
    },
    {
     "name": "stderr",
     "output_type": "stream",
     "text": [
      "Simulation Progress: 100%|██████████| 500000/500000 [02:15<00:00, 3678.71it/s]\n"
     ]
    },
    {
     "name": "stdout",
     "output_type": "stream",
     "text": [
      "Partition 29 completed, convergence counter: 144637\n"
     ]
    },
    {
     "name": "stderr",
     "output_type": "stream",
     "text": [
      "Simulation Progress: 100%|██████████| 500000/500000 [02:14<00:00, 3712.98it/s]\n"
     ]
    },
    {
     "name": "stdout",
     "output_type": "stream",
     "text": [
      "Partition 30 completed, convergence counter: 379456\n"
     ]
    },
    {
     "name": "stderr",
     "output_type": "stream",
     "text": [
      "Simulation Progress: 100%|██████████| 500000/500000 [02:17<00:00, 3626.11it/s]\n"
     ]
    },
    {
     "name": "stdout",
     "output_type": "stream",
     "text": [
      "Partition 31 completed, convergence counter: 621461\n"
     ]
    },
    {
     "name": "stderr",
     "output_type": "stream",
     "text": [
      "Simulation Progress: 100%|██████████| 500000/500000 [02:01<00:00, 4127.94it/s]\n"
     ]
    },
    {
     "name": "stdout",
     "output_type": "stream",
     "text": [
      "Partition 32 completed, convergence counter: 871894\n"
     ]
    },
    {
     "name": "stderr",
     "output_type": "stream",
     "text": [
      "Simulation Progress: 100%|██████████| 500000/500000 [02:07<00:00, 3924.08it/s]\n"
     ]
    },
    {
     "name": "stdout",
     "output_type": "stream",
     "text": [
      "Partition 33 completed, convergence counter: 1131677\n"
     ]
    },
    {
     "name": "stderr",
     "output_type": "stream",
     "text": [
      "Simulation Progress: 100%|██████████| 500000/500000 [02:14<00:00, 3710.89it/s]\n",
      "Simulation Progress: 100%|██████████| 500000/500000 [02:07<00:00, 3928.68it/s]\n"
     ]
    },
    {
     "name": "stdout",
     "output_type": "stream",
     "text": [
      "Partition 1 completed, convergence counter: 5\n"
     ]
    },
    {
     "name": "stderr",
     "output_type": "stream",
     "text": [
      "Simulation Progress: 100%|██████████| 500000/500000 [02:16<00:00, 3663.56it/s]\n"
     ]
    },
    {
     "name": "stdout",
     "output_type": "stream",
     "text": [
      "Partition 2 completed, convergence counter: 18\n"
     ]
    },
    {
     "name": "stderr",
     "output_type": "stream",
     "text": [
      "Simulation Progress: 100%|██████████| 500000/500000 [02:16<00:00, 3650.35it/s]\n"
     ]
    },
    {
     "name": "stdout",
     "output_type": "stream",
     "text": [
      "Partition 3 completed, convergence counter: 19\n"
     ]
    },
    {
     "name": "stderr",
     "output_type": "stream",
     "text": [
      "Simulation Progress: 100%|██████████| 500000/500000 [02:02<00:00, 4075.79it/s]\n"
     ]
    },
    {
     "name": "stdout",
     "output_type": "stream",
     "text": [
      "Partition 4 completed, convergence counter: 209\n"
     ]
    },
    {
     "name": "stderr",
     "output_type": "stream",
     "text": [
      "Simulation Progress: 100%|██████████| 500000/500000 [02:17<00:00, 3645.42it/s]\n"
     ]
    },
    {
     "name": "stdout",
     "output_type": "stream",
     "text": [
      "Partition 5 completed, convergence counter: 146\n"
     ]
    },
    {
     "name": "stderr",
     "output_type": "stream",
     "text": [
      "Simulation Progress: 100%|██████████| 500000/500000 [02:17<00:00, 3644.84it/s]\n"
     ]
    },
    {
     "name": "stdout",
     "output_type": "stream",
     "text": [
      "Partition 6 completed, convergence counter: 185\n"
     ]
    },
    {
     "name": "stderr",
     "output_type": "stream",
     "text": [
      "Simulation Progress: 100%|██████████| 500000/500000 [02:03<00:00, 4038.77it/s]\n"
     ]
    },
    {
     "name": "stdout",
     "output_type": "stream",
     "text": [
      "Partition 7 completed, convergence counter: 773\n"
     ]
    },
    {
     "name": "stderr",
     "output_type": "stream",
     "text": [
      "Simulation Progress: 100%|██████████| 500000/500000 [02:11<00:00, 3799.14it/s]\n"
     ]
    },
    {
     "name": "stdout",
     "output_type": "stream",
     "text": [
      "Partition 8 completed, convergence counter: 15351\n"
     ]
    },
    {
     "name": "stderr",
     "output_type": "stream",
     "text": [
      "Simulation Progress: 100%|██████████| 500000/500000 [02:20<00:00, 3569.42it/s]\n"
     ]
    },
    {
     "name": "stdout",
     "output_type": "stream",
     "text": [
      "Partition 9 completed, convergence counter: 8058\n"
     ]
    },
    {
     "name": "stderr",
     "output_type": "stream",
     "text": [
      "Simulation Progress: 100%|██████████| 500000/500000 [02:19<00:00, 3580.97it/s]\n"
     ]
    },
    {
     "name": "stdout",
     "output_type": "stream",
     "text": [
      "Partition 10 completed, convergence counter: 7430\n"
     ]
    },
    {
     "name": "stderr",
     "output_type": "stream",
     "text": [
      "Simulation Progress: 100%|██████████| 500000/500000 [02:08<00:00, 3903.44it/s]\n"
     ]
    },
    {
     "name": "stdout",
     "output_type": "stream",
     "text": [
      "Partition 11 completed, convergence counter: 7793\n"
     ]
    },
    {
     "name": "stderr",
     "output_type": "stream",
     "text": [
      "Simulation Progress: 100%|██████████| 500000/500000 [01:58<00:00, 4222.59it/s]\n"
     ]
    },
    {
     "name": "stdout",
     "output_type": "stream",
     "text": [
      "Partition 12 completed, convergence counter: 38420\n"
     ]
    },
    {
     "name": "stderr",
     "output_type": "stream",
     "text": [
      "Simulation Progress: 100%|██████████| 500000/500000 [02:03<00:00, 4042.41it/s]\n"
     ]
    },
    {
     "name": "stdout",
     "output_type": "stream",
     "text": [
      "Partition 13 completed, convergence counter: 31516\n"
     ]
    },
    {
     "name": "stderr",
     "output_type": "stream",
     "text": [
      "Simulation Progress: 100%|██████████| 500000/500000 [02:13<00:00, 3740.04it/s]\n"
     ]
    },
    {
     "name": "stdout",
     "output_type": "stream",
     "text": [
      "Partition 14 completed, convergence counter: 1085\n"
     ]
    },
    {
     "name": "stderr",
     "output_type": "stream",
     "text": [
      "Simulation Progress: 100%|██████████| 500000/500000 [02:10<00:00, 3822.20it/s]\n"
     ]
    },
    {
     "name": "stdout",
     "output_type": "stream",
     "text": [
      "Partition 15 completed, convergence counter: 115153\n"
     ]
    },
    {
     "name": "stderr",
     "output_type": "stream",
     "text": [
      "Simulation Progress: 100%|██████████| 500000/500000 [02:21<00:00, 3523.08it/s]\n"
     ]
    },
    {
     "name": "stdout",
     "output_type": "stream",
     "text": [
      "Partition 16 completed, convergence counter: 255033\n"
     ]
    },
    {
     "name": "stderr",
     "output_type": "stream",
     "text": [
      "Simulation Progress: 100%|██████████| 500000/500000 [02:22<00:00, 3513.70it/s]\n"
     ]
    },
    {
     "name": "stdout",
     "output_type": "stream",
     "text": [
      "Partition 17 completed, convergence counter: 99050\n"
     ]
    },
    {
     "name": "stderr",
     "output_type": "stream",
     "text": [
      "Simulation Progress: 100%|██████████| 500000/500000 [02:16<00:00, 3671.34it/s]\n"
     ]
    },
    {
     "name": "stdout",
     "output_type": "stream",
     "text": [
      "Partition 18 completed, convergence counter: 95208\n"
     ]
    },
    {
     "name": "stderr",
     "output_type": "stream",
     "text": [
      "Simulation Progress: 100%|██████████| 500000/500000 [02:06<00:00, 3960.55it/s]\n"
     ]
    },
    {
     "name": "stdout",
     "output_type": "stream",
     "text": [
      "Partition 19 completed, convergence counter: 141668\n"
     ]
    },
    {
     "name": "stderr",
     "output_type": "stream",
     "text": [
      "Simulation Progress: 100%|██████████| 500000/500000 [02:09<00:00, 3853.87it/s]\n"
     ]
    },
    {
     "name": "stdout",
     "output_type": "stream",
     "text": [
      "Partition 20 completed, convergence counter: 109195\n"
     ]
    },
    {
     "name": "stderr",
     "output_type": "stream",
     "text": [
      "Simulation Progress: 100%|██████████| 500000/500000 [02:25<00:00, 3429.62it/s]\n"
     ]
    },
    {
     "name": "stdout",
     "output_type": "stream",
     "text": [
      "Partition 21 completed, convergence counter: 165927\n"
     ]
    },
    {
     "name": "stderr",
     "output_type": "stream",
     "text": [
      "Simulation Progress: 100%|██████████| 500000/500000 [02:18<00:00, 3611.99it/s]\n"
     ]
    },
    {
     "name": "stdout",
     "output_type": "stream",
     "text": [
      "Partition 22 completed, convergence counter: 8855\n"
     ]
    },
    {
     "name": "stderr",
     "output_type": "stream",
     "text": [
      "Simulation Progress: 100%|██████████| 500000/500000 [02:17<00:00, 3631.15it/s]\n"
     ]
    },
    {
     "name": "stdout",
     "output_type": "stream",
     "text": [
      "Partition 23 completed, convergence counter: 38498\n"
     ]
    },
    {
     "name": "stderr",
     "output_type": "stream",
     "text": [
      "Simulation Progress: 100%|██████████| 500000/500000 [02:17<00:00, 3648.93it/s]\n"
     ]
    },
    {
     "name": "stdout",
     "output_type": "stream",
     "text": [
      "Partition 24 completed, convergence counter: 11067\n"
     ]
    },
    {
     "name": "stderr",
     "output_type": "stream",
     "text": [
      "Simulation Progress: 100%|██████████| 500000/500000 [02:16<00:00, 3657.96it/s]\n"
     ]
    },
    {
     "name": "stdout",
     "output_type": "stream",
     "text": [
      "Partition 25 completed, convergence counter: 209333\n"
     ]
    },
    {
     "name": "stderr",
     "output_type": "stream",
     "text": [
      "Simulation Progress: 100%|██████████| 500000/500000 [02:24<00:00, 3459.91it/s]\n"
     ]
    },
    {
     "name": "stdout",
     "output_type": "stream",
     "text": [
      "Partition 26 completed, convergence counter: 135239\n"
     ]
    },
    {
     "name": "stderr",
     "output_type": "stream",
     "text": [
      "Simulation Progress: 100%|██████████| 500000/500000 [02:24<00:00, 3458.71it/s]\n"
     ]
    },
    {
     "name": "stdout",
     "output_type": "stream",
     "text": [
      "Partition 27 completed, convergence counter: 100767\n"
     ]
    },
    {
     "name": "stderr",
     "output_type": "stream",
     "text": [
      "Simulation Progress: 100%|██████████| 500000/500000 [02:24<00:00, 3457.77it/s]\n"
     ]
    },
    {
     "name": "stdout",
     "output_type": "stream",
     "text": [
      "Partition 28 completed, convergence counter: 320052\n"
     ]
    },
    {
     "name": "stderr",
     "output_type": "stream",
     "text": [
      "Simulation Progress: 100%|██████████| 500000/500000 [02:26<00:00, 3404.08it/s]\n"
     ]
    },
    {
     "name": "stdout",
     "output_type": "stream",
     "text": [
      "Partition 29 completed, convergence counter: 546935\n"
     ]
    },
    {
     "name": "stderr",
     "output_type": "stream",
     "text": [
      "Simulation Progress: 100%|██████████| 500000/500000 [02:27<00:00, 3380.37it/s]\n"
     ]
    },
    {
     "name": "stdout",
     "output_type": "stream",
     "text": [
      "Partition 30 completed, convergence counter: 1122\n"
     ]
    },
    {
     "name": "stderr",
     "output_type": "stream",
     "text": [
      "Simulation Progress: 100%|██████████| 500000/500000 [02:22<00:00, 3505.06it/s]\n"
     ]
    },
    {
     "name": "stdout",
     "output_type": "stream",
     "text": [
      "Partition 31 completed, convergence counter: 229062\n"
     ]
    },
    {
     "name": "stderr",
     "output_type": "stream",
     "text": [
      "Simulation Progress: 100%|██████████| 500000/500000 [02:17<00:00, 3635.59it/s]\n"
     ]
    },
    {
     "name": "stdout",
     "output_type": "stream",
     "text": [
      "Partition 32 completed, convergence counter: 480547\n"
     ]
    },
    {
     "name": "stderr",
     "output_type": "stream",
     "text": [
      "Simulation Progress: 100%|██████████| 500000/500000 [02:14<00:00, 3718.94it/s]\n"
     ]
    },
    {
     "name": "stdout",
     "output_type": "stream",
     "text": [
      "Partition 33 completed, convergence counter: 739721\n"
     ]
    },
    {
     "name": "stderr",
     "output_type": "stream",
     "text": [
      "Simulation Progress: 100%|██████████| 500000/500000 [02:19<00:00, 3591.67it/s]"
     ]
    },
    {
     "name": "stdout",
     "output_type": "stream",
     "text": [
      "Partition 34 completed, convergence counter: 1006650\n"
     ]
    },
    {
     "name": "stderr",
     "output_type": "stream",
     "text": [
      "\n"
     ]
    }
   ],
   "source": [
    "sigma_list = [10**(-i) for i in range(7, 13)]\n",
    "import os\n",
    "sim_counter = 13\n",
    "for sigma in sigma_list:\n",
    "    save_folder = f'/Users/moyuanchen/Documents/thesis/sim_{sim_counter}/'\n",
    "    sim_counter += 1\n",
    "    try:\n",
    "        os.mkdir(save_folder)\n",
    "    except FileExistsError:\n",
    "        pass\n",
    "    config = Config()\n",
    "    config.sigma_u = sigma\n",
    "\n",
    "    _save_path = save_folder + f'data_part_0.npy'\n",
    "    log, agents = simulate(config = config, T = 500000, save_path=_save_path)\n",
    "    convergence_threshold = 1000000\n",
    "    convergence = 0\n",
    "    partitions = 1\n",
    "    while convergence < convergence_threshold:\n",
    "        save_path = save_folder + 'data_part_{partitions}.npy'\n",
    "        log, agents = simulate(config = config, T=500000, continue_simulation=_save_path, save_path=save_path)\n",
    "        _save_path = save_path\n",
    "        \n",
    "        convergence = log['convergence_counter']\n",
    "        print(f\"Partition {partitions} completed, convergence counter: {convergence}\")\n",
    "        partitions += 1\n",
    "\n",
    "    # save config\n",
    "    np.save(save_folder + 'config.npy', config)"
   ]
  },
  {
   "cell_type": "code",
   "execution_count": 19,
   "metadata": {},
   "outputs": [
    {
     "name": "stdout",
     "output_type": "stream",
     "text": [
      "[-5, -4, -3, -2, -1, 0, 1, 2, 3, 4]\n"
     ]
    }
   ],
   "source": [
    "print([i for i in range(-5,5)])"
   ]
  },
  {
   "cell_type": "code",
   "execution_count": null,
   "metadata": {},
   "outputs": [
    {
     "name": "stderr",
     "output_type": "stream",
     "text": [
      "Simulation Progress: 100%|██████████| 500000/500000 [02:04<00:00, 4023.50it/s]\n",
      "Simulation Progress: 100%|██████████| 500000/500000 [02:03<00:00, 4060.08it/s]\n"
     ]
    },
    {
     "name": "stdout",
     "output_type": "stream",
     "text": [
      "Partition 1 completed, convergence counter: 2\n"
     ]
    },
    {
     "name": "stderr",
     "output_type": "stream",
     "text": [
      "Simulation Progress: 100%|██████████| 500000/500000 [02:01<00:00, 4110.34it/s]\n"
     ]
    },
    {
     "name": "stdout",
     "output_type": "stream",
     "text": [
      "Partition 2 completed, convergence counter: 42\n"
     ]
    },
    {
     "name": "stderr",
     "output_type": "stream",
     "text": [
      "Simulation Progress: 100%|██████████| 500000/500000 [01:58<00:00, 4223.98it/s]\n"
     ]
    },
    {
     "name": "stdout",
     "output_type": "stream",
     "text": [
      "Partition 3 completed, convergence counter: 5\n"
     ]
    },
    {
     "name": "stderr",
     "output_type": "stream",
     "text": [
      "Simulation Progress: 100%|██████████| 500000/500000 [02:09<00:00, 3848.45it/s]\n"
     ]
    },
    {
     "name": "stdout",
     "output_type": "stream",
     "text": [
      "Partition 4 completed, convergence counter: 243\n"
     ]
    },
    {
     "name": "stderr",
     "output_type": "stream",
     "text": [
      "Simulation Progress: 100%|██████████| 500000/500000 [01:58<00:00, 4216.10it/s]\n"
     ]
    },
    {
     "name": "stdout",
     "output_type": "stream",
     "text": [
      "Partition 5 completed, convergence counter: 70\n"
     ]
    },
    {
     "name": "stderr",
     "output_type": "stream",
     "text": [
      "Simulation Progress: 100%|██████████| 500000/500000 [02:00<00:00, 4136.97it/s]\n"
     ]
    },
    {
     "name": "stdout",
     "output_type": "stream",
     "text": [
      "Partition 6 completed, convergence counter: 1578\n"
     ]
    },
    {
     "name": "stderr",
     "output_type": "stream",
     "text": [
      "Simulation Progress: 100%|██████████| 500000/500000 [02:11<00:00, 3788.20it/s]\n"
     ]
    },
    {
     "name": "stdout",
     "output_type": "stream",
     "text": [
      "Partition 7 completed, convergence counter: 3602\n"
     ]
    },
    {
     "name": "stderr",
     "output_type": "stream",
     "text": [
      "Simulation Progress: 100%|██████████| 500000/500000 [02:02<00:00, 4095.44it/s]\n"
     ]
    },
    {
     "name": "stdout",
     "output_type": "stream",
     "text": [
      "Partition 8 completed, convergence counter: 14862\n"
     ]
    },
    {
     "name": "stderr",
     "output_type": "stream",
     "text": [
      "Simulation Progress: 100%|██████████| 500000/500000 [02:00<00:00, 4133.66it/s]\n"
     ]
    },
    {
     "name": "stdout",
     "output_type": "stream",
     "text": [
      "Partition 9 completed, convergence counter: 11002\n"
     ]
    },
    {
     "name": "stderr",
     "output_type": "stream",
     "text": [
      "Simulation Progress: 100%|██████████| 500000/500000 [02:05<00:00, 3986.23it/s]\n"
     ]
    },
    {
     "name": "stdout",
     "output_type": "stream",
     "text": [
      "Partition 10 completed, convergence counter: 1085\n"
     ]
    },
    {
     "name": "stderr",
     "output_type": "stream",
     "text": [
      "Simulation Progress: 100%|██████████| 500000/500000 [02:10<00:00, 3823.11it/s]\n"
     ]
    },
    {
     "name": "stdout",
     "output_type": "stream",
     "text": [
      "Partition 11 completed, convergence counter: 57674\n"
     ]
    },
    {
     "name": "stderr",
     "output_type": "stream",
     "text": [
      "Simulation Progress: 100%|██████████| 500000/500000 [02:10<00:00, 3817.01it/s]\n"
     ]
    },
    {
     "name": "stdout",
     "output_type": "stream",
     "text": [
      "Partition 12 completed, convergence counter: 85964\n"
     ]
    },
    {
     "name": "stderr",
     "output_type": "stream",
     "text": [
      "Simulation Progress: 100%|██████████| 500000/500000 [02:03<00:00, 4041.79it/s]\n"
     ]
    },
    {
     "name": "stdout",
     "output_type": "stream",
     "text": [
      "Partition 13 completed, convergence counter: 17601\n"
     ]
    },
    {
     "name": "stderr",
     "output_type": "stream",
     "text": [
      "Simulation Progress: 100%|██████████| 500000/500000 [01:58<00:00, 4208.63it/s]\n"
     ]
    },
    {
     "name": "stdout",
     "output_type": "stream",
     "text": [
      "Partition 14 completed, convergence counter: 144071\n"
     ]
    },
    {
     "name": "stderr",
     "output_type": "stream",
     "text": [
      "Simulation Progress: 100%|██████████| 500000/500000 [02:01<00:00, 4114.45it/s]\n"
     ]
    },
    {
     "name": "stdout",
     "output_type": "stream",
     "text": [
      "Partition 15 completed, convergence counter: 82468\n"
     ]
    },
    {
     "name": "stderr",
     "output_type": "stream",
     "text": [
      "Simulation Progress: 100%|██████████| 500000/500000 [02:07<00:00, 3917.87it/s]\n"
     ]
    },
    {
     "name": "stdout",
     "output_type": "stream",
     "text": [
      "Partition 16 completed, convergence counter: 9024\n"
     ]
    },
    {
     "name": "stderr",
     "output_type": "stream",
     "text": [
      "Simulation Progress: 100%|██████████| 500000/500000 [01:58<00:00, 4210.17it/s]\n"
     ]
    },
    {
     "name": "stdout",
     "output_type": "stream",
     "text": [
      "Partition 17 completed, convergence counter: 6713\n"
     ]
    },
    {
     "name": "stderr",
     "output_type": "stream",
     "text": [
      "Simulation Progress: 100%|██████████| 500000/500000 [02:03<00:00, 4033.64it/s]\n"
     ]
    },
    {
     "name": "stdout",
     "output_type": "stream",
     "text": [
      "Partition 18 completed, convergence counter: 34803\n"
     ]
    },
    {
     "name": "stderr",
     "output_type": "stream",
     "text": [
      "Simulation Progress: 100%|██████████| 500000/500000 [02:03<00:00, 4043.33it/s]\n"
     ]
    },
    {
     "name": "stdout",
     "output_type": "stream",
     "text": [
      "Partition 19 completed, convergence counter: 194067\n"
     ]
    },
    {
     "name": "stderr",
     "output_type": "stream",
     "text": [
      "Simulation Progress: 100%|██████████| 500000/500000 [02:03<00:00, 4051.15it/s]\n"
     ]
    },
    {
     "name": "stdout",
     "output_type": "stream",
     "text": [
      "Partition 20 completed, convergence counter: 152815\n"
     ]
    },
    {
     "name": "stderr",
     "output_type": "stream",
     "text": [
      "Simulation Progress: 100%|██████████| 500000/500000 [02:03<00:00, 4052.85it/s]\n"
     ]
    },
    {
     "name": "stdout",
     "output_type": "stream",
     "text": [
      "Partition 21 completed, convergence counter: 26727\n"
     ]
    },
    {
     "name": "stderr",
     "output_type": "stream",
     "text": [
      "Simulation Progress:  55%|█████▌    | 275021/500000 [01:12<00:59, 3770.44it/s]"
     ]
    }
   ],
   "source": [
    "sigma_list = [10**(i) for i in range(-10, 4)]\n",
    "import os\n",
    "sim_counter = 0\n",
    "for sigma in sigma_list:\n",
    "    save_folder = f'/Users/moyuanchen/Documents/thesis/5mconv/sim_{sim_counter}/'\n",
    "    sim_counter += 1\n",
    "    try:\n",
    "        os.mkdir(save_folder)\n",
    "    except FileExistsError:\n",
    "        pass\n",
    "    config = Config()\n",
    "    config.sigma_u = sigma\n",
    "\n",
    "    _save_path = save_folder + f'data_part_0.npy'\n",
    "    log, agents = simulate(config = config, T = 500000, save_path=_save_path)\n",
    "    convergence_threshold = 5000000\n",
    "    convergence = 0\n",
    "    partitions = 1\n",
    "    while convergence < convergence_threshold:\n",
    "        save_path = save_folder + f'data_part_{partitions}.npy'\n",
    "        log, agents = simulate(config = config, T=500000, continue_simulation=_save_path, save_path=save_path)\n",
    "        _save_path = save_path\n",
    "        \n",
    "        convergence = log['convergence_counter']\n",
    "        print(f\"Partition {partitions} completed, convergence counter: {convergence}\")\n",
    "        partitions += 1\n",
    "\n",
    "    # save config\n",
    "    np.save(save_folder + 'config.npy', config)"
   ]
  },
  {
   "cell_type": "code",
   "execution_count": null,
   "metadata": {},
   "outputs": [],
   "source": []
  },
  {
   "cell_type": "markdown",
   "metadata": {},
   "source": [
    "### Continue Simulation after Convergence"
   ]
  },
  {
   "cell_type": "code",
   "execution_count": 6,
   "metadata": {},
   "outputs": [
    {
     "ename": "SyntaxError",
     "evalue": "expected argument value expression (1705007820.py, line 5)",
     "output_type": "error",
     "traceback": [
      "\u001b[0;36m  Cell \u001b[0;32mIn[6], line 5\u001b[0;36m\u001b[0m\n\u001b[0;31m    log, agents = simulate(config = config, T = 500000, save_path=_save_path, continue_simulation=)\u001b[0m\n\u001b[0m                                                                              ^\u001b[0m\n\u001b[0;31mSyntaxError\u001b[0m\u001b[0;31m:\u001b[0m expected argument value expression\n"
     ]
    }
   ],
   "source": [
    "config = Config()\n",
    "config.sigma_u = 0.1\n",
    "\n",
    "_save_path = '/Users/moyuanchen/Documents/thesis/sim_1/converged/data.npy'\n",
    "log, agents = simulate(config = config, T = 500000, save_path=_save_path, continue_simulation=)"
   ]
  }
 ],
 "metadata": {
  "kernelspec": {
   "display_name": "ai",
   "language": "python",
   "name": "python3"
  },
  "language_info": {
   "codemirror_mode": {
    "name": "ipython",
    "version": 3
   },
   "file_extension": ".py",
   "mimetype": "text/x-python",
   "name": "python",
   "nbconvert_exporter": "python",
   "pygments_lexer": "ipython3",
   "version": "3.12.2"
  }
 },
 "nbformat": 4,
 "nbformat_minor": 2
}
