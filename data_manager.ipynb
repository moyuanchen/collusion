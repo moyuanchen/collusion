{
 "cells": [
  {
   "cell_type": "code",
   "execution_count": 2,
   "metadata": {},
   "outputs": [],
   "source": [
    "import numpy as np"
   ]
  },
  {
   "cell_type": "code",
   "execution_count": 3,
   "metadata": {},
   "outputs": [],
   "source": [
    "metadata_0 = {\n",
    "    \"Np\": 61,\n",
    "    \"Nv\": 20,\n",
    "    \"Nx\": 30,\n",
    "    \"T\": 500000,\n",
    "    \"iota\": 0.1,\n",
    "    \"u_mean\": 0,\n",
    "    \"v_mean\": 1,\n",
    "    \"sigma_u\": 0.1,\n",
    "    \"sigma_v\": 1,\n",
    "    \"xi\": 500,\n",
    "    \"theta\": 0.1,\n",
    "    \"alpha\": 0.01,\n",
    "    \"beta\": 1e-5,\n",
    "    \"rho\": 0.95,\n",
    "    \"Tm\": 10000,\n",
    "    \"I\": 3,\n",
    "    \"convergence_threshold\": 1000000\n",
    "}\n",
    "\n",
    "datalut = {'sim0': {'metadata': metadata_0, 'data': '/Users/moyuanchen/Documents/thesis/sim_0'}}\n",
    "#save\n",
    "np.save('datalut.npy', datalut)"
   ]
  },
  {
   "cell_type": "code",
   "execution_count": null,
   "metadata": {},
   "outputs": [],
   "source": []
  }
 ],
 "metadata": {
  "kernelspec": {
   "display_name": "ai",
   "language": "python",
   "name": "python3"
  },
  "language_info": {
   "codemirror_mode": {
    "name": "ipython",
    "version": 3
   },
   "file_extension": ".py",
   "mimetype": "text/x-python",
   "name": "python",
   "nbconvert_exporter": "python",
   "pygments_lexer": "ipython3",
   "version": "3.12.2"
  }
 },
 "nbformat": 4,
 "nbformat_minor": 2
}
