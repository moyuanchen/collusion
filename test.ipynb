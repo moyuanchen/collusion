{
 "cells": [
  {
   "cell_type": "code",
   "execution_count": 1,
   "metadata": {},
   "outputs": [],
   "source": [
    "from agents import *\n",
    "from config import Config\n",
    "from util import *\n",
    "c = Config()"
   ]
  },
  {
   "cell_type": "code",
   "execution_count": 2,
   "metadata": {},
   "outputs": [],
   "source": [
    "out = simulate_batch(T = 1000, B = 10, config = c, save_path='test.pt')"
   ]
  },
  {
   "cell_type": "code",
   "execution_count": 3,
   "metadata": {},
   "outputs": [
    {
     "data": {
      "text/plain": [
       "({'v': tensor([[9, 8, 6,  ..., 0, 2, 3],\n",
       "          [1, 0, 3,  ..., 9, 9, 9],\n",
       "          [2, 2, 5,  ..., 0, 0, 0],\n",
       "          ...,\n",
       "          [4, 5, 8,  ..., 0, 0, 0],\n",
       "          [5, 7, 8,  ..., 0, 0, 0],\n",
       "          [8, 8, 9,  ..., 9, 9, 9]]),\n",
       "  'p': tensor([[1.1064, 0.1996, 0.4131,  ..., 0.1996, 0.1996, 0.1996],\n",
       "          [0.6797, 0.1996, 0.1996,  ..., 0.3062, 0.3596, 0.3596],\n",
       "          [0.4663, 0.1996, 0.1996,  ..., 0.1996, 0.1996, 0.1996],\n",
       "          ...,\n",
       "          [1.2139, 0.1996, 0.1996,  ..., 0.1996, 0.1996, 0.1996],\n",
       "          [1.0537, 0.1996, 0.7334,  ..., 0.1996, 0.1996, 0.1996],\n",
       "          [1.5869, 0.1996, 0.1996,  ..., 0.2529, 0.1996, 0.2529]],\n",
       "         dtype=torch.float16),\n",
       "  'z': tensor([[500.0000, 283.0000, 625.5000,  ..., 445.0000, 523.0000, 476.2500],\n",
       "          [500.0000, 516.0000, 513.5000,  ..., 308.0000, 314.5000, 321.0000],\n",
       "          [500.0000, 511.0000, 471.5000,  ..., 523.5000, 565.5000, 537.5000],\n",
       "          ...,\n",
       "          [500.0000, 854.0000, 356.5000,  ..., 484.7500, 543.5000, 538.5000],\n",
       "          [500.0000, 139.2500, 727.0000,  ..., 511.2500, 471.7500, 516.0000],\n",
       "          [500.0000, 537.0000, 394.2500,  ..., 458.2500, 364.7500, 286.0000]],\n",
       "         dtype=torch.float16),\n",
       "  'y': tensor([[ 245.1250,  196.1250, -121.1250,  ...,   98.6875, -267.5000,\n",
       "            -47.9062],\n",
       "          [-218.5000,  -23.1719,  -23.3906,  ...,  269.5000,  245.0000,\n",
       "            220.7500],\n",
       "          [  74.1875,  -23.5156,   74.2500,  ...,   25.4219, -194.1250,\n",
       "            -47.7188],\n",
       "          ...,\n",
       "          [-194.2500, -291.7500,  147.5000,  ...,  171.8750, -121.0625,\n",
       "            -96.6875],\n",
       "          [ 122.9375,  342.5000, -218.8750,  ...,  -47.8438,  147.5000,\n",
       "            -72.1875],\n",
       "          [ 220.6250,  -23.3281,   74.4375,  ..., -267.2500,   50.0000,\n",
       "            318.5000]], dtype=torch.float16),\n",
       "  'u': tensor([[1.0771, 0.8623, 0.8882,  ..., 1.0500, 1.0578, 0.8934],\n",
       "          [1.1275, 1.2301, 1.0168,  ..., 1.1131, 1.0033, 1.0861],\n",
       "          [0.9516, 0.8865, 1.0517,  ..., 1.0125, 1.0950, 1.0807],\n",
       "          ...,\n",
       "          [1.0190, 1.0496, 1.0264,  ..., 1.0087, 0.9812, 0.9362],\n",
       "          [0.9193, 0.8186, 0.7896,  ..., 0.9740, 1.1168, 1.0533],\n",
       "          [0.9375, 1.0724, 1.1949,  ..., 1.1242, 1.1878, 1.1270]]),\n",
       "  'profit': tensor([[[31.7344, 12.8203, 13.0938,  ..., -6.7930,  0.0000,  0.0000],\n",
       "           [31.7344, 22.4375,  1.6367,  ..., -6.7930,  1.1143,  0.0000]],\n",
       "  \n",
       "          [[-0.0000, -7.9727,  1.2822,  ..., 31.6562, 22.7344,  0.0000],\n",
       "           [-0.1821, -0.0000,  7.0547,  ..., 24.8750, 31.8281,  0.0000]],\n",
       "  \n",
       "          [[ 1.6279,  1.0420,  3.2051,  ..., -5.3789, -0.0000,  0.0000],\n",
       "           [ 3.9062,  3.4746, 14.9609,  ..., -3.5859, -3.0820,  0.0000]],\n",
       "  \n",
       "          ...,\n",
       "  \n",
       "          [[ 5.2461,  3.6680, 17.5000,  ..., -5.4023, -0.0000,  0.0000],\n",
       "           [ 0.0000,  0.0000, 17.5000,  ..., -8.7812, -5.0195,  0.0000]],\n",
       "  \n",
       "          [[ 5.6289, 13.3438, 12.4531,  ..., -0.0000, -5.6094,  0.0000],\n",
       "           [15.7578, 13.3438,  0.0000,  ..., -7.4688, -8.4141,  0.0000]],\n",
       "  \n",
       "          [[28.5156, 21.1094,  7.3008,  ...,  5.1211,  4.7500,  0.0000],\n",
       "           [18.3281,  6.3320, 34.0625,  ...,  2.5605, 33.2500,  0.0000]]],\n",
       "         dtype=torch.float16),\n",
       "  'last_state': tensor([[0, 3],\n",
       "          [3, 9],\n",
       "          [0, 0],\n",
       "          [0, 0],\n",
       "          [1, 9],\n",
       "          [0, 0],\n",
       "          [0, 9],\n",
       "          [0, 0],\n",
       "          [0, 0],\n",
       "          [1, 9]]),\n",
       "  'convergence_counter': tensor(0, dtype=torch.int16),\n",
       "  'config': Config(I=2, batch=100, steps=1000000, Np=31, Nv=10, Nx=15, iota=0.1, v_bar=1.0, sigma_v=1.0, sigma_u=0.1, rho=0.95, alpha=0.01, beta=1e-05, xi=500.0, Tm=10000, theta=0.1, device='cpu', num_workers=1, chi_N=166.66663333334233, chi_M=124.999950000016, lambda_N=0.002000000399999972, lambda_M=0.002000000800000064),\n",
       "  'agents': {'informed': <agents.InformedAgents_Batch at 0x130825fd0>,\n",
       "   'preferred_habitat': <agents.PreferredHabitatAgent at 0x169a1f650>,\n",
       "   'market_maker': <agents.AdaptiveMarketMaker_Batch at 0x1698bf5c0>}},\n",
       " {'informed': <agents.InformedAgents_Batch at 0x130825fd0>,\n",
       "  'preferred_habitat': <agents.PreferredHabitatAgent at 0x169a1f650>,\n",
       "  'market_maker': <agents.AdaptiveMarketMaker_Batch at 0x1698bf5c0>})"
      ]
     },
     "execution_count": 3,
     "metadata": {},
     "output_type": "execute_result"
    }
   ],
   "source": [
    "out"
   ]
  },
  {
   "cell_type": "code",
   "execution_count": 7,
   "metadata": {},
   "outputs": [
    {
     "data": {
      "text/plain": [
       "tensor([[ 14,  14],\n",
       "        [  0,   0],\n",
       "        [966, 966],\n",
       "        [295, 295],\n",
       "        [  0,   0],\n",
       "        [287, 287],\n",
       "        [  0,   0],\n",
       "        [852, 852],\n",
       "        [ 61,  61],\n",
       "        [  0,   0]], dtype=torch.int16)"
      ]
     },
     "execution_count": 7,
     "metadata": {},
     "output_type": "execute_result"
    }
   ],
   "source": [
    "out[1]['informed'].convergence_counter"
   ]
  },
  {
   "cell_type": "code",
   "execution_count": 4,
   "metadata": {},
   "outputs": [],
   "source": [
    "a = InformedAgent(c)"
   ]
  },
  {
   "cell_type": "code",
   "execution_count": 6,
   "metadata": {},
   "outputs": [
    {
     "data": {
      "text/plain": [
       "166.66663333334233"
      ]
     },
     "execution_count": 6,
     "metadata": {},
     "output_type": "execute_result"
    }
   ],
   "source": [
    "a.x_n"
   ]
  },
  {
   "cell_type": "code",
   "execution_count": 7,
   "metadata": {},
   "outputs": [
    {
     "data": {
      "text/plain": [
       "124.999950000016"
      ]
     },
     "execution_count": 7,
     "metadata": {},
     "output_type": "execute_result"
    }
   ],
   "source": [
    "a.x_m"
   ]
  },
  {
   "cell_type": "code",
   "execution_count": null,
   "metadata": {},
   "outputs": [],
   "source": []
  }
 ],
 "metadata": {
  "kernelspec": {
   "display_name": "sts",
   "language": "python",
   "name": "python3"
  },
  "language_info": {
   "codemirror_mode": {
    "name": "ipython",
    "version": 3
   },
   "file_extension": ".py",
   "mimetype": "text/x-python",
   "name": "python",
   "nbconvert_exporter": "python",
   "pygments_lexer": "ipython3",
   "version": "3.12.4"
  }
 },
 "nbformat": 4,
 "nbformat_minor": 2
}
