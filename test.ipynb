{
 "cells": [
  {
   "cell_type": "code",
   "execution_count": 1,
   "metadata": {},
   "outputs": [],
   "source": [
    "from agents import *\n",
    "from config import Config\n",
    "from util import *\n",
    "import matplotlib.pyplot as plt\n",
    "c = Config()"
   ]
  },
  {
   "cell_type": "code",
   "execution_count": 2,
   "metadata": {},
   "outputs": [],
   "source": [
    "out_single = simulate(T = 50000,config = c, save_path='test.pt')"
   ]
  },
  {
   "cell_type": "code",
   "execution_count": 3,
   "metadata": {},
   "outputs": [],
   "source": [
    "out = simulate_batch(T = 50000, B = 10, config = c, save_path='test.pt')"
   ]
  },
  {
   "cell_type": "code",
   "execution_count": 23,
   "metadata": {},
   "outputs": [],
   "source": [
    "out_cont = simulate_batch(T = 50000, B = 10, config = c, save_path='test_pt2.pt', continue_simulation='test.pt')"
   ]
  },
  {
   "cell_type": "code",
   "execution_count": 25,
   "metadata": {},
   "outputs": [
    {
     "data": {
      "text/plain": [
       "({'v': tensor([[3, 0, 3,  ..., 6, 6, 9],\n",
       "          [8, 3, 2,  ..., 2, 5, 9],\n",
       "          [0, 3, 1,  ..., 7, 6, 3],\n",
       "          ...,\n",
       "          [0, 3, 0,  ..., 1, 1, 9],\n",
       "          [3, 9, 8,  ..., 0, 8, 6],\n",
       "          [6, 0, 0,  ..., 7, 4, 4]]),\n",
       "  'p': tensor([[0.3596, 1.3203, 0.7334,  ..., 1.4805, 1.0000, 0.8931],\n",
       "          [1.2139, 1.3203, 0.9468,  ..., 1.6934, 0.7334, 0.5732],\n",
       "          [1.0537, 1.2666, 1.3203,  ..., 0.7866, 0.5195, 1.0000],\n",
       "          ...,\n",
       "          [0.8398, 1.0537, 1.0000,  ..., 0.8931, 0.8398, 1.1602],\n",
       "          [0.7866, 1.5869, 0.7334,  ..., 0.4663, 1.5332, 1.1064],\n",
       "          [0.8931, 1.1602, 0.7334,  ..., 1.3740, 0.4131, 1.0000]],\n",
       "         dtype=torch.float16),\n",
       "  'z': tensor([[ 320.2500, -160.1250,  133.3750,  ..., -240.1250,   -0.0000,\n",
       "             53.3750],\n",
       "          [-106.7500, -160.1250,   26.6875,  ..., -346.7500,  133.3750,\n",
       "            213.5000],\n",
       "          [ -26.6875, -133.3750, -160.1250,  ...,  106.7500,  240.1250,\n",
       "             -0.0000],\n",
       "          ...,\n",
       "          [  80.0625,  -26.6875,   -0.0000,  ...,   53.3750,   80.0625,\n",
       "            -80.0625],\n",
       "          [ 106.7500, -293.5000,  133.3750,  ...,  266.7500, -266.7500,\n",
       "            -53.3750],\n",
       "          [  53.3750,  -80.0625,  133.3750,  ..., -186.7500,  293.5000,\n",
       "             -0.0000]], dtype=torch.float16),\n",
       "  'y': tensor([[-145.6250,  147.5000,  -23.4688,  ...,    1.0801,   49.9688,\n",
       "            196.2500],\n",
       "          [-169.8750,   25.4219, -267.5000,  ...,  147.5000,  220.6250,\n",
       "           -169.8750],\n",
       "          [-121.1250, -145.5000,  -47.8750,  ...,  245.0000,    0.9932,\n",
       "            245.0000],\n",
       "          ...,\n",
       "          [ -23.3281,   25.5312,   49.8125,  ...,   74.1250,  -72.4375,\n",
       "            171.7500],\n",
       "          [-291.7500,  147.5000, -145.6250,  ..., -267.5000,  -47.9375,\n",
       "            342.5000],\n",
       "          [ -72.1875,  123.1875,  -96.5000,  ...,  294.0000,    0.8384,\n",
       "              1.0137]], dtype=torch.float16),\n",
       "  'u': tensor([[0.8094, 1.0800, 0.9301,  ..., 1.0803, 1.1535, 0.9842],\n",
       "          [1.0170, 1.0248, 1.0077,  ..., 1.0671, 0.9257, 0.9356],\n",
       "          [0.8849, 0.8823, 0.9436,  ..., 0.9365, 0.9933, 0.9060],\n",
       "          ...,\n",
       "          [1.0750, 1.1203, 1.0098,  ..., 0.9336, 0.7709, 0.8863],\n",
       "          [1.0386, 1.0659, 0.8553,  ..., 1.0308, 0.8873, 0.9250],\n",
       "          [1.0461, 1.1515, 1.1318,  ..., 1.0290, 0.8385, 1.0133]]),\n",
       "  'profit': tensor([[[-11.7344, -17.7969,  -2.7070,  ...,   4.4414,   5.1484,   0.0000],\n",
       "           [ -3.9102,  -9.5781,  -3.1582,  ...,   0.7402,   2.3398,   0.0000]],\n",
       "  \n",
       "          [[ -3.2363,  -3.9766,  -0.0000,  ...,  -3.4688,   6.1680,   0.0000],\n",
       "           [ -0.0000,  -0.9941,  -3.6191,  ...,  -4.2383,   6.7305,   0.0000]],\n",
       "  \n",
       "          [[ -1.9082,  -4.8789,  -3.4570,  ...,  16.1406,   4.5039,   0.0000],\n",
       "           [-15.2656,  -0.6968, -10.3750,  ...,  11.5234,   0.7505,   0.0000]],\n",
       "  \n",
       "          ...,\n",
       "  \n",
       "          [[  3.1172,  -4.3359,  -6.2891,  ..., -12.4688,  -1.1836,   0.0000],\n",
       "           [  0.9351,  -1.0840, -18.8594,  ...,  -2.6719, -11.8359,   0.0000]],\n",
       "  \n",
       "          [[ -0.2161,  19.2188,   0.0000,  ...,  -6.5977,   3.6836,   0.0000],\n",
       "           [ -0.2161,  19.2188,   5.8164,  ...,  -0.0000,   7.3672,   0.0000]],\n",
       "  \n",
       "          [[ -8.1953, -19.4375,  -1.8271,  ...,  17.5469,  -1.8672,   0.0000],\n",
       "           [ -4.6836,  -6.9414, -16.4531,  ...,  15.0391,  -0.0000,   0.0000]]],\n",
       "         dtype=torch.float16),\n",
       "  'last_state': tensor([[13,  9],\n",
       "          [ 7,  9],\n",
       "          [15,  3],\n",
       "          [12,  9],\n",
       "          [13,  5],\n",
       "          [22,  1],\n",
       "          [ 2,  6],\n",
       "          [18,  9],\n",
       "          [17,  6],\n",
       "          [15,  4]]),\n",
       "  'convergence_counter': tensor([[ 0,  0],\n",
       "          [ 0,  0],\n",
       "          [ 1,  1],\n",
       "          [ 0,  0],\n",
       "          [11, 11],\n",
       "          [ 1,  0],\n",
       "          [ 0,  0],\n",
       "          [ 0,  0],\n",
       "          [ 0,  0],\n",
       "          [ 2,  2]], dtype=torch.int16),\n",
       "  'config': Config(I=2, batch=100, steps=1000000, Np=31, Nv=10, Nx=15, iota=0.1, v_bar=1.0, sigma_v=1.0, sigma_u=0.1, rho=0.95, alpha=0.01, beta=1e-05, xi=500.0, Tm=10000, theta=0.1, device='cpu', num_workers=1, chi_N=166.66663333334233, chi_M=124.999950000016, lambda_N=0.002000000399999972, lambda_M=0.002000000800000064),\n",
       "  'agents': {'informed': <agents.InformedAgents_Batch at 0x150417290>,\n",
       "   'preferred_habitat': <agents.PreferredHabitatAgent at 0x15030ce90>,\n",
       "   'market_maker': <agents.AdaptiveMarketMaker_Batch at 0x14fe27020>}},\n",
       " {'informed': <agents.InformedAgents_Batch at 0x150417290>,\n",
       "  'preferred_habitat': <agents.PreferredHabitatAgent at 0x15030ce90>,\n",
       "  'market_maker': <agents.AdaptiveMarketMaker_Batch at 0x14fe27020>})"
      ]
     },
     "execution_count": 25,
     "metadata": {},
     "output_type": "execute_result"
    }
   ],
   "source": [
    "out_cont"
   ]
  },
  {
   "cell_type": "code",
   "execution_count": 4,
   "metadata": {},
   "outputs": [
    {
     "data": {
      "text/plain": [
       "tensor([0.1995, 0.2529, 0.3063, 0.3596, 0.4130, 0.4664, 0.5197, 0.5731, 0.6264,\n",
       "        0.6798, 0.7332, 0.7865, 0.8399, 0.8933, 0.9466, 1.0000, 1.0534, 1.1067,\n",
       "        1.1601, 1.2135, 1.2668, 1.3202, 1.3736, 1.4269, 1.4803, 1.5336, 1.5870,\n",
       "        1.6404, 1.6937, 1.7471, 1.8005])"
      ]
     },
     "execution_count": 4,
     "metadata": {},
     "output_type": "execute_result"
    }
   ],
   "source": [
    "informed = out[1]['informed']\n",
    "p = out[0]['p']\n",
    "informed.p_discrete"
   ]
  },
  {
   "cell_type": "code",
   "execution_count": 5,
   "metadata": {},
   "outputs": [
    {
     "data": {
      "text/plain": [
       "tensor(343., dtype=torch.float16)"
      ]
     },
     "execution_count": 5,
     "metadata": {},
     "output_type": "execute_result"
    }
   ],
   "source": [
    "y = out[0]['y']\n",
    "min(y.view(-1))\n",
    "max(y.view(-1))"
   ]
  },
  {
   "cell_type": "code",
   "execution_count": 6,
   "metadata": {},
   "outputs": [
    {
     "name": "stdout",
     "output_type": "stream",
     "text": [
      "y: -350, price: 1.6917836537698858\n",
      "y: -340, price: 1.671783661417962\n",
      "y: -330, price: 1.6517836690660381\n",
      "y: -320, price: 1.6317836767141145\n",
      "y: -310, price: 1.6117836843621909\n",
      "y: -300, price: 1.5917836920102668\n",
      "y: -290, price: 1.5717836996583432\n",
      "y: -280, price: 1.5517837073064196\n",
      "y: -270, price: 1.5317837149544957\n",
      "y: -260, price: 1.5117837226025719\n",
      "y: -250, price: 1.4917837302506483\n",
      "y: -240, price: 1.4717837378987244\n",
      "y: -230, price: 1.4517837455468006\n",
      "y: -220, price: 1.431783753194877\n",
      "y: -210, price: 1.411783760842953\n",
      "y: -200, price: 1.3917837684910292\n",
      "y: -190, price: 1.3717837761391056\n",
      "y: -180, price: 1.3517837837871818\n",
      "y: -170, price: 1.331783791435258\n",
      "y: -160, price: 1.3117837990833343\n",
      "y: -150, price: 1.2917838067314105\n",
      "y: -140, price: 1.2717838143794868\n",
      "y: -130, price: 1.251783822027563\n",
      "y: -120, price: 1.2317838296756394\n",
      "y: -110, price: 1.2117838373237155\n",
      "y: -100, price: 1.1917838449717917\n",
      "y: -90, price: 1.171783852619868\n",
      "y: -80, price: 1.1517838602679442\n",
      "y: -70, price: 1.1317838679160204\n",
      "y: -60, price: 1.1117838755640967\n",
      "y: -50, price: 1.091783883212173\n",
      "y: -40, price: 1.071783890860249\n",
      "y: -30, price: 1.0517838985083254\n",
      "y: -20, price: 1.0317839061564016\n",
      "y: -10, price: 1.011783913804478\n",
      "y: 0, price: 0.9917839214525541\n",
      "y: 10, price: 0.9717839291006304\n",
      "y: 20, price: 0.9517839367487066\n",
      "y: 30, price: 0.9317839443967828\n",
      "y: 40, price: 0.9117839520448591\n",
      "y: 50, price: 0.8917839596929353\n",
      "y: 60, price: 0.8717839673410115\n",
      "y: 70, price: 0.8517839749890878\n",
      "y: 80, price: 0.831783982637164\n",
      "y: 90, price: 0.8117839902852403\n",
      "y: 100, price: 0.7917839979333166\n",
      "y: 110, price: 0.7717840055813927\n",
      "y: 120, price: 0.751784013229469\n",
      "y: 130, price: 0.7317840208775452\n",
      "y: 140, price: 0.7117840285256214\n",
      "y: 150, price: 0.6917840361736978\n",
      "y: 160, price: 0.6717840438217739\n",
      "y: 170, price: 0.6517840514698502\n",
      "y: 180, price: 0.6317840591179265\n",
      "y: 190, price: 0.6117840667660026\n",
      "y: 200, price: 0.5917840744140789\n",
      "y: 210, price: 0.5717840820621551\n",
      "y: 220, price: 0.5517840897102313\n",
      "y: 230, price: 0.5317840973583077\n",
      "y: 240, price: 0.5117841050063838\n",
      "y: 250, price: 0.4917841126544601\n",
      "y: 260, price: 0.47178412030253636\n",
      "y: 270, price: 0.4517841279506125\n",
      "y: 280, price: 0.4317841355986888\n",
      "y: 290, price: 0.41178414324676504\n",
      "y: 300, price: 0.3917841508948413\n",
      "y: 310, price: 0.37178415854291746\n",
      "y: 320, price: 0.35178416619099373\n",
      "y: 330, price: 0.33178417383907\n",
      "y: 340, price: 0.31178418148714626\n"
     ]
    }
   ],
   "source": [
    "mm = out_single[1]['market_maker']\n",
    "for y in range(-350,350,10):\n",
    "    price = mm.determine_price(y)\n",
    "    print(f\"y: {y}, price: {price}\")"
   ]
  },
  {
   "cell_type": "code",
   "execution_count": 26,
   "metadata": {},
   "outputs": [
    {
     "name": "stdout",
     "output_type": "stream",
     "text": [
      "y: -350, price: tensor([1.7171, 1.7061, 1.7123, 1.7184, 1.6961, 1.7108, 1.7127, 1.7024, 1.7193,\n",
      "        1.7093])\n",
      "y: -340, price: tensor([1.6971, 1.6861, 1.6923, 1.6984, 1.6761, 1.6908, 1.6927, 1.6824, 1.6993,\n",
      "        1.6893])\n",
      "y: -330, price: tensor([1.6771, 1.6661, 1.6723, 1.6784, 1.6561, 1.6708, 1.6727, 1.6624, 1.6793,\n",
      "        1.6693])\n",
      "y: -320, price: tensor([1.6571, 1.6461, 1.6523, 1.6584, 1.6361, 1.6508, 1.6527, 1.6424, 1.6593,\n",
      "        1.6493])\n",
      "y: -310, price: tensor([1.6371, 1.6261, 1.6323, 1.6384, 1.6161, 1.6308, 1.6327, 1.6224, 1.6393,\n",
      "        1.6293])\n",
      "y: -300, price: tensor([1.6171, 1.6061, 1.6123, 1.6184, 1.5961, 1.6108, 1.6127, 1.6024, 1.6193,\n",
      "        1.6093])\n",
      "y: -290, price: tensor([1.5971, 1.5861, 1.5923, 1.5984, 1.5761, 1.5908, 1.5927, 1.5824, 1.5993,\n",
      "        1.5893])\n",
      "y: -280, price: tensor([1.5771, 1.5661, 1.5723, 1.5784, 1.5561, 1.5708, 1.5727, 1.5624, 1.5793,\n",
      "        1.5693])\n",
      "y: -270, price: tensor([1.5571, 1.5461, 1.5523, 1.5584, 1.5361, 1.5508, 1.5527, 1.5424, 1.5593,\n",
      "        1.5493])\n",
      "y: -260, price: tensor([1.5371, 1.5261, 1.5323, 1.5384, 1.5161, 1.5308, 1.5327, 1.5224, 1.5393,\n",
      "        1.5293])\n",
      "y: -250, price: tensor([1.5171, 1.5061, 1.5123, 1.5184, 1.4961, 1.5108, 1.5127, 1.5024, 1.5193,\n",
      "        1.5093])\n",
      "y: -240, price: tensor([1.4971, 1.4861, 1.4923, 1.4984, 1.4761, 1.4908, 1.4927, 1.4824, 1.4993,\n",
      "        1.4893])\n",
      "y: -230, price: tensor([1.4771, 1.4661, 1.4723, 1.4784, 1.4561, 1.4708, 1.4727, 1.4624, 1.4793,\n",
      "        1.4693])\n",
      "y: -220, price: tensor([1.4571, 1.4461, 1.4523, 1.4584, 1.4361, 1.4508, 1.4527, 1.4424, 1.4593,\n",
      "        1.4493])\n",
      "y: -210, price: tensor([1.4371, 1.4261, 1.4323, 1.4384, 1.4161, 1.4308, 1.4327, 1.4224, 1.4393,\n",
      "        1.4293])\n",
      "y: -200, price: tensor([1.4171, 1.4061, 1.4123, 1.4184, 1.3961, 1.4108, 1.4127, 1.4024, 1.4193,\n",
      "        1.4093])\n",
      "y: -190, price: tensor([1.3971, 1.3861, 1.3923, 1.3984, 1.3761, 1.3908, 1.3927, 1.3824, 1.3993,\n",
      "        1.3893])\n",
      "y: -180, price: tensor([1.3771, 1.3661, 1.3723, 1.3784, 1.3561, 1.3708, 1.3727, 1.3624, 1.3793,\n",
      "        1.3693])\n",
      "y: -170, price: tensor([1.3571, 1.3461, 1.3523, 1.3584, 1.3361, 1.3508, 1.3527, 1.3424, 1.3593,\n",
      "        1.3493])\n",
      "y: -160, price: tensor([1.3371, 1.3261, 1.3323, 1.3384, 1.3161, 1.3308, 1.3327, 1.3224, 1.3393,\n",
      "        1.3293])\n",
      "y: -150, price: tensor([1.3171, 1.3061, 1.3123, 1.3184, 1.2961, 1.3108, 1.3127, 1.3024, 1.3193,\n",
      "        1.3093])\n",
      "y: -140, price: tensor([1.2971, 1.2861, 1.2923, 1.2984, 1.2761, 1.2908, 1.2927, 1.2824, 1.2993,\n",
      "        1.2893])\n",
      "y: -130, price: tensor([1.2771, 1.2661, 1.2723, 1.2784, 1.2561, 1.2708, 1.2727, 1.2624, 1.2793,\n",
      "        1.2693])\n",
      "y: -120, price: tensor([1.2571, 1.2461, 1.2523, 1.2584, 1.2361, 1.2508, 1.2527, 1.2424, 1.2593,\n",
      "        1.2493])\n",
      "y: -110, price: tensor([1.2371, 1.2261, 1.2323, 1.2384, 1.2161, 1.2308, 1.2327, 1.2224, 1.2393,\n",
      "        1.2293])\n",
      "y: -100, price: tensor([1.2171, 1.2061, 1.2123, 1.2184, 1.1961, 1.2108, 1.2127, 1.2024, 1.2193,\n",
      "        1.2093])\n",
      "y: -90, price: tensor([1.1971, 1.1861, 1.1923, 1.1984, 1.1761, 1.1908, 1.1927, 1.1824, 1.1993,\n",
      "        1.1893])\n",
      "y: -80, price: tensor([1.1771, 1.1661, 1.1723, 1.1784, 1.1561, 1.1708, 1.1727, 1.1624, 1.1793,\n",
      "        1.1693])\n",
      "y: -70, price: tensor([1.1571, 1.1461, 1.1523, 1.1584, 1.1361, 1.1508, 1.1527, 1.1424, 1.1593,\n",
      "        1.1493])\n",
      "y: -60, price: tensor([1.1371, 1.1261, 1.1323, 1.1384, 1.1161, 1.1308, 1.1327, 1.1224, 1.1393,\n",
      "        1.1293])\n",
      "y: -50, price: tensor([1.1171, 1.1061, 1.1123, 1.1184, 1.0961, 1.1108, 1.1127, 1.1024, 1.1193,\n",
      "        1.1093])\n",
      "y: -40, price: tensor([1.0971, 1.0861, 1.0923, 1.0984, 1.0761, 1.0908, 1.0927, 1.0824, 1.0993,\n",
      "        1.0893])\n",
      "y: -30, price: tensor([1.0771, 1.0661, 1.0723, 1.0784, 1.0561, 1.0708, 1.0727, 1.0624, 1.0793,\n",
      "        1.0693])\n",
      "y: -20, price: tensor([1.0571, 1.0461, 1.0523, 1.0584, 1.0361, 1.0508, 1.0527, 1.0424, 1.0593,\n",
      "        1.0493])\n",
      "y: -10, price: tensor([1.0371, 1.0261, 1.0323, 1.0385, 1.0161, 1.0308, 1.0327, 1.0224, 1.0393,\n",
      "        1.0293])\n",
      "y: 0, price: tensor([1.0171, 1.0061, 1.0123, 1.0185, 0.9961, 1.0108, 1.0127, 1.0024, 1.0193,\n",
      "        1.0093])\n",
      "y: 10, price: tensor([0.9971, 0.9861, 0.9923, 0.9985, 0.9761, 0.9908, 0.9927, 0.9824, 0.9993,\n",
      "        0.9893])\n",
      "y: 20, price: tensor([0.9771, 0.9661, 0.9723, 0.9785, 0.9561, 0.9708, 0.9727, 0.9624, 0.9793,\n",
      "        0.9693])\n",
      "y: 30, price: tensor([0.9571, 0.9461, 0.9523, 0.9585, 0.9361, 0.9508, 0.9527, 0.9424, 0.9593,\n",
      "        0.9493])\n",
      "y: 40, price: tensor([0.9371, 0.9261, 0.9323, 0.9385, 0.9161, 0.9308, 0.9327, 0.9224, 0.9393,\n",
      "        0.9293])\n",
      "y: 50, price: tensor([0.9171, 0.9061, 0.9123, 0.9185, 0.8961, 0.9108, 0.9127, 0.9024, 0.9193,\n",
      "        0.9093])\n",
      "y: 60, price: tensor([0.8971, 0.8861, 0.8923, 0.8985, 0.8761, 0.8908, 0.8927, 0.8824, 0.8993,\n",
      "        0.8893])\n",
      "y: 70, price: tensor([0.8771, 0.8661, 0.8723, 0.8785, 0.8561, 0.8708, 0.8727, 0.8624, 0.8793,\n",
      "        0.8693])\n",
      "y: 80, price: tensor([0.8571, 0.8461, 0.8523, 0.8585, 0.8361, 0.8508, 0.8527, 0.8424, 0.8593,\n",
      "        0.8493])\n",
      "y: 90, price: tensor([0.8371, 0.8261, 0.8323, 0.8385, 0.8161, 0.8308, 0.8327, 0.8224, 0.8393,\n",
      "        0.8293])\n",
      "y: 100, price: tensor([0.8171, 0.8061, 0.8123, 0.8185, 0.7961, 0.8108, 0.8127, 0.8024, 0.8193,\n",
      "        0.8093])\n",
      "y: 110, price: tensor([0.7971, 0.7861, 0.7923, 0.7985, 0.7761, 0.7908, 0.7927, 0.7824, 0.7993,\n",
      "        0.7893])\n",
      "y: 120, price: tensor([0.7771, 0.7661, 0.7723, 0.7785, 0.7561, 0.7708, 0.7727, 0.7624, 0.7793,\n",
      "        0.7693])\n",
      "y: 130, price: tensor([0.7571, 0.7461, 0.7523, 0.7585, 0.7361, 0.7508, 0.7527, 0.7424, 0.7593,\n",
      "        0.7493])\n",
      "y: 140, price: tensor([0.7371, 0.7261, 0.7323, 0.7385, 0.7161, 0.7308, 0.7327, 0.7224, 0.7393,\n",
      "        0.7293])\n",
      "y: 150, price: tensor([0.7171, 0.7061, 0.7123, 0.7185, 0.6961, 0.7108, 0.7127, 0.7024, 0.7193,\n",
      "        0.7093])\n",
      "y: 160, price: tensor([0.6971, 0.6861, 0.6923, 0.6985, 0.6761, 0.6908, 0.6927, 0.6824, 0.6993,\n",
      "        0.6893])\n",
      "y: 170, price: tensor([0.6771, 0.6661, 0.6723, 0.6785, 0.6561, 0.6708, 0.6727, 0.6624, 0.6793,\n",
      "        0.6693])\n",
      "y: 180, price: tensor([0.6571, 0.6461, 0.6523, 0.6585, 0.6361, 0.6508, 0.6527, 0.6424, 0.6593,\n",
      "        0.6493])\n",
      "y: 190, price: tensor([0.6371, 0.6261, 0.6323, 0.6385, 0.6161, 0.6308, 0.6327, 0.6224, 0.6393,\n",
      "        0.6293])\n",
      "y: 200, price: tensor([0.6171, 0.6061, 0.6123, 0.6185, 0.5961, 0.6108, 0.6127, 0.6024, 0.6193,\n",
      "        0.6093])\n",
      "y: 210, price: tensor([0.5971, 0.5861, 0.5923, 0.5985, 0.5761, 0.5908, 0.5927, 0.5824, 0.5993,\n",
      "        0.5893])\n",
      "y: 220, price: tensor([0.5771, 0.5661, 0.5723, 0.5785, 0.5561, 0.5708, 0.5727, 0.5624, 0.5793,\n",
      "        0.5693])\n",
      "y: 230, price: tensor([0.5571, 0.5461, 0.5523, 0.5585, 0.5361, 0.5508, 0.5527, 0.5424, 0.5593,\n",
      "        0.5493])\n",
      "y: 240, price: tensor([0.5371, 0.5261, 0.5323, 0.5385, 0.5161, 0.5308, 0.5327, 0.5224, 0.5393,\n",
      "        0.5293])\n",
      "y: 250, price: tensor([0.5171, 0.5061, 0.5123, 0.5185, 0.4961, 0.5108, 0.5127, 0.5024, 0.5193,\n",
      "        0.5093])\n",
      "y: 260, price: tensor([0.4971, 0.4861, 0.4923, 0.4985, 0.4761, 0.4908, 0.4927, 0.4824, 0.4993,\n",
      "        0.4893])\n",
      "y: 270, price: tensor([0.4771, 0.4661, 0.4723, 0.4785, 0.4561, 0.4708, 0.4727, 0.4624, 0.4793,\n",
      "        0.4693])\n",
      "y: 280, price: tensor([0.4571, 0.4461, 0.4523, 0.4585, 0.4361, 0.4508, 0.4527, 0.4424, 0.4593,\n",
      "        0.4493])\n",
      "y: 290, price: tensor([0.4371, 0.4261, 0.4323, 0.4385, 0.4161, 0.4308, 0.4327, 0.4224, 0.4393,\n",
      "        0.4293])\n",
      "y: 300, price: tensor([0.4171, 0.4061, 0.4123, 0.4185, 0.3961, 0.4108, 0.4127, 0.4024, 0.4193,\n",
      "        0.4093])\n",
      "y: 310, price: tensor([0.3971, 0.3861, 0.3923, 0.3985, 0.3761, 0.3908, 0.3927, 0.3824, 0.3993,\n",
      "        0.3893])\n",
      "y: 320, price: tensor([0.3771, 0.3661, 0.3723, 0.3785, 0.3561, 0.3708, 0.3727, 0.3624, 0.3793,\n",
      "        0.3693])\n",
      "y: 330, price: tensor([0.3571, 0.3461, 0.3523, 0.3585, 0.3361, 0.3508, 0.3527, 0.3424, 0.3593,\n",
      "        0.3493])\n",
      "y: 340, price: tensor([0.3371, 0.3261, 0.3323, 0.3385, 0.3161, 0.3308, 0.3327, 0.3224, 0.3393,\n",
      "        0.3293])\n"
     ]
    }
   ],
   "source": [
    "mm = out_cont[1]['market_maker']\n",
    "for y in range(-350,350,10):\n",
    "    price = mm.determine_price(y)\n",
    "    print(f\"y: {y}, price: {price}\")\n"
   ]
  },
  {
   "cell_type": "code",
   "execution_count": 4,
   "metadata": {},
   "outputs": [
    {
     "data": {
      "text/plain": [
       "tensor([-0.6449, -0.0364,  0.3255,  0.6147,  0.8743,  1.1257,  1.3853,  1.6745,\n",
       "         2.0364,  2.6449])"
      ]
     },
     "execution_count": 4,
     "metadata": {},
     "output_type": "execute_result"
    }
   ],
   "source": [
    "informed.v_discrete"
   ]
  },
  {
   "cell_type": "code",
   "execution_count": 7,
   "metadata": {},
   "outputs": [
    {
     "data": {
      "text/plain": [
       "(array([1.11128889, 0.        , 0.        , 0.        , 0.        ,\n",
       "        0.        , 0.        , 0.        , 0.        , 0.        ,\n",
       "        0.        , 1.11877778, 0.        , 0.        , 0.        ,\n",
       "        0.        , 0.        , 0.        , 0.        , 0.        ,\n",
       "        0.        , 0.        , 1.11104444, 0.        , 0.        ,\n",
       "        0.        , 0.        , 0.        , 0.        , 0.        ,\n",
       "        0.        , 0.        , 0.        , 1.09806667, 0.        ,\n",
       "        0.        , 0.        , 0.        , 0.        , 0.        ,\n",
       "        0.        , 0.        , 0.        , 0.        , 1.11564444,\n",
       "        0.        , 0.        , 0.        , 0.        , 0.        ,\n",
       "        0.        , 0.        , 0.        , 0.        , 0.        ,\n",
       "        1.11515556, 0.        , 0.        , 0.        , 0.        ,\n",
       "        0.        , 0.        , 0.        , 0.        , 0.        ,\n",
       "        0.        , 1.10717778, 0.        , 0.        , 0.        ,\n",
       "        0.        , 0.        , 0.        , 0.        , 0.        ,\n",
       "        0.        , 0.        , 1.1146    , 0.        , 0.        ,\n",
       "        0.        , 0.        , 0.        , 0.        , 0.        ,\n",
       "        0.        , 0.        , 0.        , 1.11895556, 0.        ,\n",
       "        0.        , 0.        , 0.        , 0.        , 0.        ,\n",
       "        0.        , 0.        , 0.        , 0.        , 1.1004    ]),\n",
       " array([0.  , 0.09, 0.18, 0.27, 0.36, 0.45, 0.54, 0.63, 0.72, 0.81, 0.9 ,\n",
       "        0.99, 1.08, 1.17, 1.26, 1.35, 1.44, 1.53, 1.62, 1.71, 1.8 , 1.89,\n",
       "        1.98, 2.07, 2.16, 2.25, 2.34, 2.43, 2.52, 2.61, 2.7 , 2.79, 2.88,\n",
       "        2.97, 3.06, 3.15, 3.24, 3.33, 3.42, 3.51, 3.6 , 3.69, 3.78, 3.87,\n",
       "        3.96, 4.05, 4.14, 4.23, 4.32, 4.41, 4.5 , 4.59, 4.68, 4.77, 4.86,\n",
       "        4.95, 5.04, 5.13, 5.22, 5.31, 5.4 , 5.49, 5.58, 5.67, 5.76, 5.85,\n",
       "        5.94, 6.03, 6.12, 6.21, 6.3 , 6.39, 6.48, 6.57, 6.66, 6.75, 6.84,\n",
       "        6.93, 7.02, 7.11, 7.2 , 7.29, 7.38, 7.47, 7.56, 7.65, 7.74, 7.83,\n",
       "        7.92, 8.01, 8.1 , 8.19, 8.28, 8.37, 8.46, 8.55, 8.64, 8.73, 8.82,\n",
       "        8.91, 9.  ]),\n",
       " <BarContainer object of 100 artists>)"
      ]
     },
     "execution_count": 7,
     "metadata": {},
     "output_type": "execute_result"
    },
    {
     "data": {
      "image/png": "[encoded data removed]",
      "text/plain": [
       "<Figure size 640x480 with 1 Axes>"
      ]
     },
     "metadata": {},
     "output_type": "display_data"
    }
   ],
   "source": [
    "v = out[0]['v']\n",
    "plt.hist(v.view(-1).numpy(), bins=100, density=True)"
   ]
  },
  {
   "cell_type": "code",
   "execution_count": 27,
   "metadata": {},
   "outputs": [
    {
     "data": {
      "text/plain": [
       "(array([0.95271523, 0.        , 0.        , 1.24748351, 0.        ,\n",
       "        0.        , 0.        , 1.2816887 , 0.        , 0.        ,\n",
       "        0.        , 1.45185235, 0.        , 0.        , 0.        ,\n",
       "        1.626112  , 0.        , 0.        , 0.        , 1.92277943,\n",
       "        0.        , 0.        , 0.        , 2.07158731, 0.        ,\n",
       "        0.        , 2.48202971, 0.        , 0.        , 0.        ,\n",
       "        2.77369821, 0.        , 0.        , 0.        , 3.51246629,\n",
       "        0.        , 0.        , 0.        , 3.90070857, 0.        ,\n",
       "        0.        , 0.        , 3.99077517, 0.        , 0.        ,\n",
       "        0.        , 4.28982857, 0.        , 0.        , 0.        ,\n",
       "        4.893696  , 0.        , 0.        , 3.8535168 , 0.        ,\n",
       "        0.        , 0.        , 3.812352  , 0.        , 0.        ,\n",
       "        0.        , 3.54567314, 0.        , 0.        , 0.        ,\n",
       "        3.36237714, 0.        , 0.        , 0.        , 3.21375086,\n",
       "        0.        , 0.        , 0.        , 2.9577216 , 0.        ,\n",
       "        0.        , 0.        , 3.17864229, 0.        , 0.        ,\n",
       "        2.79054629, 0.        , 0.        , 0.        , 2.373632  ,\n",
       "        0.        , 0.        , 0.        , 1.90244571, 0.        ,\n",
       "        0.        , 0.        , 1.4880768 , 0.        , 0.        ,\n",
       "        0.        , 1.447936  , 0.        , 0.        , 1.76420571]),\n",
       " array([0.30615234, 0.32006836, 0.33398438, 0.34765625, 0.36157227,\n",
       "        0.37548828, 0.3894043 , 0.40332031, 0.41723633, 0.4309082 ,\n",
       "        0.44482422, 0.45874023, 0.47265625, 0.48657227, 0.50048828,\n",
       "        0.51416016, 0.52832031, 0.54199219, 0.55566406, 0.56982422,\n",
       "        0.58349609, 0.59765625, 0.61132812, 0.625     , 0.63916016,\n",
       "        0.65283203, 0.66699219, 0.68066406, 0.69433594, 0.70849609,\n",
       "        0.72216797, 0.73632812, 0.75      , 0.76416016, 0.77783203,\n",
       "        0.79150391, 0.80566406, 0.81933594, 0.83349609, 0.84716797,\n",
       "        0.86083984, 0.875     , 0.88867188, 0.90283203, 0.91650391,\n",
       "        0.93017578, 0.94433594, 0.95800781, 0.97216797, 0.98583984,\n",
       "        1.        , 1.01367188, 1.02734375, 1.04101562, 1.05566406,\n",
       "        1.06933594, 1.08300781, 1.09667969, 1.11035156, 1.125     ,\n",
       "        1.13867188, 1.15234375, 1.16601562, 1.1796875 , 1.19433594,\n",
       "        1.20800781, 1.22167969, 1.23535156, 1.24902344, 1.26367188,\n",
       "        1.27734375, 1.29101562, 1.3046875 , 1.31835938, 1.33300781,\n",
       "        1.34667969, 1.36035156, 1.37402344, 1.38769531, 1.40234375,\n",
       "        1.41601562, 1.4296875 , 1.44335938, 1.45800781, 1.47167969,\n",
       "        1.48535156, 1.49902344, 1.51269531, 1.52734375, 1.54101562,\n",
       "        1.5546875 , 1.56835938, 1.58203125, 1.59667969, 1.61035156,\n",
       "        1.62402344, 1.63769531, 1.65136719, 1.66601562, 1.6796875 ,\n",
       "        1.69335938]),\n",
       " <BarContainer object of 100 artists>)"
      ]
     },
     "execution_count": 27,
     "metadata": {},
     "output_type": "execute_result"
    },
    {
     "data": {
      "image/png": "[encoded data removed]",
      "text/plain": [
       "<Figure size 640x480 with 1 Axes>"
      ]
     },
     "metadata": {},
     "output_type": "display_data"
    }
   ],
   "source": [
    "p = out_cont[0]['p']\n",
    "plt.hist(p.view(-1).numpy(), bins=100, density=True)"
   ]
  },
  {
   "cell_type": "code",
   "execution_count": 22,
   "metadata": {},
   "outputs": [
    {
     "data": {
      "text/plain": [
       "[<matplotlib.lines.Line2D at 0x1503afec0>]"
      ]
     },
     "execution_count": 22,
     "metadata": {},
     "output_type": "execute_result"
    },
    {
     "data": {
      "image/png": "[encoded data removed]",
      "text/plain": [
       "<Figure size 640x480 with 1 Axes>"
      ]
     },
     "metadata": {},
     "output_type": "display_data"
    }
   ],
   "source": [
    "x = np.linspace(-2,2,1000)\n",
    "def f(x):\n",
    "    return x**2\n",
    "def g(x):\n",
    "    return np.cos(x*10)\n",
    "\n",
    "plt.plot(x, f(x) + g(x), label='f(x) + g(x)')\n",
    "plt.plot(x, f(g(x)))"
   ]
  },
  {
   "cell_type": "code",
   "execution_count": 28,
   "metadata": {},
   "outputs": [
    {
     "data": {
      "text/plain": [
       "tensor([[ 0,  0],\n",
       "        [ 0,  0],\n",
       "        [ 1,  1],\n",
       "        [ 0,  0],\n",
       "        [11, 11],\n",
       "        [ 1,  0],\n",
       "        [ 0,  0],\n",
       "        [ 0,  0],\n",
       "        [ 0,  0],\n",
       "        [ 2,  2]], dtype=torch.int16)"
      ]
     },
     "execution_count": 28,
     "metadata": {},
     "output_type": "execute_result"
    }
   ],
   "source": [
    "out_cont[0]['convergence_counter']"
   ]
  },
  {
   "cell_type": "code",
   "execution_count": 9,
   "metadata": {},
   "outputs": [
    {
     "data": {
      "text/plain": [
       "tensor([[[ 1.0492e+01,  7.9805e+00,  3.0527e+00,  ...,  3.4497e-01,\n",
       "           2.3828e+01,  0.0000e+00],\n",
       "         [ 0.0000e+00,  6.1377e-01,  7.1250e+00,  ...,  1.3799e+00,\n",
       "           2.3828e+01,  0.0000e+00]],\n",
       "\n",
       "        [[ 2.3797e+01,  5.1602e+00,  4.6992e+00,  ..., -9.2031e+00,\n",
       "          -9.1357e-01,  0.0000e+00],\n",
       "         [ 5.2891e+00,  1.0322e+00,  1.8797e+01,  ..., -0.0000e+00,\n",
       "          -7.3086e+00,  0.0000e+00]],\n",
       "\n",
       "        [[ 6.1484e+00,  7.4258e+00,  9.8047e-01,  ..., -8.1543e-01,\n",
       "           1.7432e-01,  0.0000e+00],\n",
       "         [ 1.8438e+00,  1.4852e+01,  9.8047e+00,  ..., -5.0195e-01,\n",
       "           5.8105e-01,  0.0000e+00]],\n",
       "\n",
       "        ...,\n",
       "\n",
       "        [[ 5.5312e+00,  6.5977e+00,  3.4707e+00,  ...,  6.0107e-01,\n",
       "           1.6344e+01,  0.0000e+00],\n",
       "         [ 0.0000e+00,  1.9797e+01,  0.0000e+00,  ...,  7.2148e+00,\n",
       "           1.6344e+01,  0.0000e+00]],\n",
       "\n",
       "        [[ 1.4633e+01, -0.0000e+00,  7.3625e+01,  ...,  1.5172e+01,\n",
       "           1.7703e+01,  0.0000e+00],\n",
       "         [ 5.6289e+00, -1.4234e+01,  1.0519e+02,  ...,  4.6680e+00,\n",
       "           6.3242e+00,  0.0000e+00]],\n",
       "\n",
       "        [[ 2.1766e+01,  2.2844e+01,  1.3070e+01,  ...,  1.5833e-01,\n",
       "          -4.8462e-02,  0.0000e+00],\n",
       "         [ 2.3438e+01,  5.7109e+00,  0.0000e+00,  ...,  3.1665e-01,\n",
       "          -2.0996e-01,  0.0000e+00]]], dtype=torch.float16)"
      ]
     },
     "execution_count": 9,
     "metadata": {},
     "output_type": "execute_result"
    }
   ],
   "source": [
    "out[0]['profit']"
   ]
  },
  {
   "cell_type": "code",
   "execution_count": 10,
   "metadata": {},
   "outputs": [
    {
     "data": {
      "text/plain": [
       "torch.Size([10, 2, 31, 10])"
      ]
     },
     "execution_count": 10,
     "metadata": {},
     "output_type": "execute_result"
    }
   ],
   "source": [
    "sc = out[1]['informed'].state_count\n",
    "sc.shape"
   ]
  },
  {
   "cell_type": "code",
   "execution_count": 13,
   "metadata": {},
   "outputs": [],
   "source": [
    "sc_avg = torch.mean(sc.to(torch.float32), dim = (0,1))"
   ]
  },
  {
   "cell_type": "code",
   "execution_count": 14,
   "metadata": {},
   "outputs": [
    {
     "data": {
      "text/plain": [
       "tensor([[352.7000, 348.7000, 350.0000, 347.3000, 348.6000, 344.2000, 345.7000,\n",
       "         349.5000, 358.2000, 343.6000],\n",
       "        [ 57.2000,  59.7000,  52.3000,  55.5000,  56.9000,  54.7000,  57.3000,\n",
       "          55.6000,  52.7000,  51.6000],\n",
       "        [104.4000,  99.5000, 105.4000,  94.1000, 101.9000, 100.5000, 100.9000,\n",
       "         103.5000, 109.9000,  95.7000],\n",
       "        [123.2000, 116.2000, 116.8000, 117.3000, 116.3000, 120.4000, 110.3000,\n",
       "         116.6000, 122.6000, 113.6000],\n",
       "        [108.1000, 112.6000, 109.4000, 100.3000, 114.0000, 109.0000, 113.8000,\n",
       "         110.4000, 103.1000, 102.6000],\n",
       "        [106.0000, 118.4000, 112.5000, 108.7000, 115.1000, 114.7000, 114.7000,\n",
       "         117.3000, 109.4000, 113.2000],\n",
       "        [121.5000, 119.7000, 119.9000, 121.7000, 128.6000, 125.3000, 120.3000,\n",
       "         119.4000, 123.2000, 121.8000],\n",
       "        [131.2000, 139.6000, 138.1000, 125.8000, 128.7000, 134.4000, 133.3000,\n",
       "         136.6000, 133.1000, 132.1000],\n",
       "        [144.0000, 142.7000, 141.6000, 139.1000, 139.7000, 147.3000, 145.9000,\n",
       "         148.1000, 144.7000, 148.0000],\n",
       "        [160.4000, 162.8000, 155.7000, 156.5000, 160.3000, 157.0000, 158.9000,\n",
       "         161.5000, 159.9000, 156.2000],\n",
       "        [175.2000, 186.4000, 185.1000, 183.1000, 178.5000, 186.1000, 189.8000,\n",
       "         176.4000, 188.5000, 178.4000],\n",
       "        [203.8000, 208.0000, 207.4000, 208.7000, 212.1000, 210.1000, 209.5000,\n",
       "         205.4000, 203.8000, 207.8000],\n",
       "        [235.5000, 228.5000, 226.7000, 234.3000, 225.4000, 226.7000, 233.4000,\n",
       "         224.2000, 231.5000, 224.0000],\n",
       "        [239.6000, 242.2000, 232.6000, 247.9000, 239.5000, 237.6000, 243.9000,\n",
       "         243.0000, 239.8000, 238.4000],\n",
       "        [257.1000, 248.6000, 258.0000, 253.0000, 254.7000, 254.4000, 246.6000,\n",
       "         252.3000, 258.7000, 246.3000],\n",
       "        [287.1000, 279.6000, 282.2000, 288.7000, 292.0000, 285.7000, 277.6000,\n",
       "         284.6000, 284.9000, 286.0000],\n",
       "        [247.0000, 247.0000, 240.7000, 234.8000, 250.7000, 249.5000, 236.7000,\n",
       "         251.3000, 247.1000, 244.4000],\n",
       "        [230.1000, 231.4000, 221.6000, 222.0000, 222.9000, 238.2000, 233.1000,\n",
       "         225.7000, 225.4000, 217.6000],\n",
       "        [206.7000, 209.6000, 213.4000, 209.2000, 210.5000, 209.6000, 216.8000,\n",
       "         211.2000, 212.0000, 211.4000],\n",
       "        [200.1000, 206.0000, 201.0000, 200.2000, 202.3000, 204.2000, 200.8000,\n",
       "         206.8000, 200.8000, 202.0000],\n",
       "        [191.2000, 181.1000, 189.1000, 181.3000, 185.2000, 182.5000, 181.4000,\n",
       "         189.6000, 183.2000, 191.4000],\n",
       "        [189.1000, 191.5000, 191.1000, 183.4000, 186.4000, 193.4000, 190.0000,\n",
       "         192.7000, 189.5000, 185.3000],\n",
       "        [176.9000, 180.5000, 181.2000, 174.5000, 178.4000, 175.5000, 173.3000,\n",
       "         170.2000, 184.6000, 180.4000],\n",
       "        [157.2000, 163.1000, 160.7000, 160.6000, 164.3000, 154.8000, 155.6000,\n",
       "         164.5000, 165.3000, 159.2000],\n",
       "        [139.2000, 135.3000, 139.9000, 138.1000, 140.6000, 140.7000, 135.2000,\n",
       "         136.2000, 133.2000, 136.3000],\n",
       "        [110.8000, 117.4000, 115.8000, 112.3000, 114.6000, 116.3000, 109.7000,\n",
       "         113.9000, 116.6000, 116.6000],\n",
       "        [ 91.9000,  93.5000,  97.6000,  90.2000,  97.6000,  92.3000,  91.1000,\n",
       "          89.4000,  98.1000,  91.4000],\n",
       "        [ 82.0000,  86.2000,  82.2000,  77.3000,  79.0000,  79.8000,  80.4000,\n",
       "          80.3000,  79.8000,  75.7000],\n",
       "        [118.9000, 121.5000, 117.3000, 122.1000, 120.9000, 118.6000, 121.2000,\n",
       "         123.9000, 117.8000, 122.1000],\n",
       "        [  6.2000,   6.4000,   6.4000,   5.5000,   6.2000,   6.3000,   8.2000,\n",
       "           7.0000,   5.9000,   6.0000],\n",
       "        [ 46.5000,  50.8000,  48.0000,  47.8000,  48.5000,  48.4000,  46.9000,\n",
       "          48.6000,  52.0000,  52.7000]])"
      ]
     },
     "execution_count": 14,
     "metadata": {},
     "output_type": "execute_result"
    }
   ],
   "source": [
    "sc_avg"
   ]
  },
  {
   "cell_type": "code",
   "execution_count": 15,
   "metadata": {},
   "outputs": [
    {
     "data": {
      "text/plain": [
       "tensor([[1, 1],\n",
       "        [8, 5],\n",
       "        [4, 0],\n",
       "        [4, 6],\n",
       "        [0, 0],\n",
       "        [0, 0],\n",
       "        [1, 1],\n",
       "        [0, 0],\n",
       "        [0, 0],\n",
       "        [0, 6]], dtype=torch.int16)"
      ]
     },
     "execution_count": 15,
     "metadata": {},
     "output_type": "execute_result"
    }
   ],
   "source": [
    "out[1]['informed'].convergence_counter"
   ]
  },
  {
   "cell_type": "code",
   "execution_count": 5,
   "metadata": {},
   "outputs": [],
   "source": [
    "a = InformedAgent(c)"
   ]
  },
  {
   "cell_type": "code",
   "execution_count": 6,
   "metadata": {},
   "outputs": [
    {
     "data": {
      "text/plain": [
       "166.66663333334233"
      ]
     },
     "execution_count": 6,
     "metadata": {},
     "output_type": "execute_result"
    }
   ],
   "source": [
    "a.x_n"
   ]
  },
  {
   "cell_type": "code",
   "execution_count": 7,
   "metadata": {},
   "outputs": [
    {
     "data": {
      "text/plain": [
       "124.999950000016"
      ]
     },
     "execution_count": 7,
     "metadata": {},
     "output_type": "execute_result"
    }
   ],
   "source": [
    "a.x_m"
   ]
  },
  {
   "cell_type": "code",
   "execution_count": null,
   "metadata": {},
   "outputs": [],
   "source": []
  },
  {
   "cell_type": "code",
   "execution_count": null,
   "metadata": {},
   "outputs": [],
   "source": []
  },
  {
   "cell_type": "code",
   "execution_count": null,
   "metadata": {},
   "outputs": [],
   "source": []
  }
 ],
 "metadata": {
  "kernelspec": {
   "display_name": "ai",
   "language": "python",
   "name": "python3"
  },
  "language_info": {
   "codemirror_mode": {
    "name": "ipython",
    "version": 3
   },
   "file_extension": ".py",
   "mimetype": "text/x-python",
   "name": "python",
   "nbconvert_exporter": "python",
   "pygments_lexer": "ipython3",
   "version": "3.12.2"
  }
 },
 "nbformat": 4,
 "nbformat_minor": 2
}
