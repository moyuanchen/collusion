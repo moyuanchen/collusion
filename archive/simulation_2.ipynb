{
 "cells": [
  {
   "cell_type": "code",
   "execution_count": 2,
   "metadata": {},
   "outputs": [],
   "source": [
    "import numpy as np\n",
    "import torch\n",
    "from itertools import product\n",
    "from collections import defaultdict\n",
    "from agents import *\n",
    "from config import Config\n",
    "from util import simulate, simulate_constrained"
   ]
  },
  {
   "cell_type": "markdown",
   "metadata": {},
   "source": [
    "### simulate constrained"
   ]
  },
  {
   "cell_type": "code",
   "execution_count": 2,
   "metadata": {},
   "outputs": [
    {
     "name": "stderr",
     "output_type": "stream",
     "text": [
      "Simulation Progress: 100%|██████████| 500000/500000 [02:06<00:00, 3946.76it/s]\n",
      "Simulation Progress: 100%|██████████| 500000/500000 [02:10<00:00, 3845.35it/s]\n"
     ]
    },
    {
     "name": "stdout",
     "output_type": "stream",
     "text": [
      "Partition 1 completed, convergence counter: 2\n"
     ]
    },
    {
     "name": "stderr",
     "output_type": "stream",
     "text": [
      "Simulation Progress: 100%|██████████| 500000/500000 [02:09<00:00, 3867.53it/s]\n"
     ]
    },
    {
     "name": "stdout",
     "output_type": "stream",
     "text": [
      "Partition 2 completed, convergence counter: 0\n"
     ]
    },
    {
     "name": "stderr",
     "output_type": "stream",
     "text": [
      "Simulation Progress: 100%|██████████| 500000/500000 [02:12<00:00, 3779.15it/s]\n"
     ]
    },
    {
     "name": "stdout",
     "output_type": "stream",
     "text": [
      "Partition 3 completed, convergence counter: 80\n"
     ]
    },
    {
     "name": "stderr",
     "output_type": "stream",
     "text": [
      "Simulation Progress: 100%|██████████| 500000/500000 [02:15<00:00, 3689.93it/s]\n"
     ]
    },
    {
     "name": "stdout",
     "output_type": "stream",
     "text": [
      "Partition 4 completed, convergence counter: 80\n"
     ]
    },
    {
     "name": "stderr",
     "output_type": "stream",
     "text": [
      "Simulation Progress: 100%|██████████| 500000/500000 [02:14<00:00, 3723.09it/s]\n"
     ]
    },
    {
     "name": "stdout",
     "output_type": "stream",
     "text": [
      "Partition 5 completed, convergence counter: 1229\n"
     ]
    },
    {
     "name": "stderr",
     "output_type": "stream",
     "text": [
      "Simulation Progress: 100%|██████████| 500000/500000 [02:18<00:00, 3607.02it/s]\n"
     ]
    },
    {
     "name": "stdout",
     "output_type": "stream",
     "text": [
      "Partition 6 completed, convergence counter: 2\n"
     ]
    },
    {
     "name": "stderr",
     "output_type": "stream",
     "text": [
      "Simulation Progress: 100%|██████████| 500000/500000 [02:25<00:00, 3425.59it/s]\n"
     ]
    },
    {
     "name": "stdout",
     "output_type": "stream",
     "text": [
      "Partition 7 completed, convergence counter: 120\n"
     ]
    },
    {
     "name": "stderr",
     "output_type": "stream",
     "text": [
      "Simulation Progress: 100%|██████████| 500000/500000 [02:30<00:00, 3326.78it/s]\n"
     ]
    },
    {
     "name": "stdout",
     "output_type": "stream",
     "text": [
      "Partition 8 completed, convergence counter: 153\n"
     ]
    },
    {
     "name": "stderr",
     "output_type": "stream",
     "text": [
      "Simulation Progress: 100%|██████████| 500000/500000 [02:44<00:00, 3038.60it/s]\n"
     ]
    },
    {
     "name": "stdout",
     "output_type": "stream",
     "text": [
      "Partition 9 completed, convergence counter: 51\n"
     ]
    },
    {
     "name": "stderr",
     "output_type": "stream",
     "text": [
      "Simulation Progress: 100%|██████████| 500000/500000 [02:34<00:00, 3242.69it/s]\n"
     ]
    },
    {
     "name": "stdout",
     "output_type": "stream",
     "text": [
      "Partition 10 completed, convergence counter: 205\n"
     ]
    },
    {
     "name": "stderr",
     "output_type": "stream",
     "text": [
      "Simulation Progress: 100%|██████████| 500000/500000 [02:27<00:00, 3391.25it/s]\n"
     ]
    },
    {
     "name": "stdout",
     "output_type": "stream",
     "text": [
      "Partition 11 completed, convergence counter: 120\n"
     ]
    },
    {
     "name": "stderr",
     "output_type": "stream",
     "text": [
      "Simulation Progress: 100%|██████████| 500000/500000 [02:25<00:00, 3440.59it/s]\n"
     ]
    },
    {
     "name": "stdout",
     "output_type": "stream",
     "text": [
      "Partition 12 completed, convergence counter: 45\n"
     ]
    },
    {
     "name": "stderr",
     "output_type": "stream",
     "text": [
      "Simulation Progress: 100%|██████████| 500000/500000 [02:30<00:00, 3328.28it/s]\n"
     ]
    },
    {
     "name": "stdout",
     "output_type": "stream",
     "text": [
      "Partition 13 completed, convergence counter: 6\n"
     ]
    },
    {
     "name": "stderr",
     "output_type": "stream",
     "text": [
      "Simulation Progress: 100%|██████████| 500000/500000 [02:36<00:00, 3190.55it/s]\n"
     ]
    },
    {
     "name": "stdout",
     "output_type": "stream",
     "text": [
      "Partition 14 completed, convergence counter: 47\n"
     ]
    },
    {
     "name": "stderr",
     "output_type": "stream",
     "text": [
      "Simulation Progress: 100%|██████████| 500000/500000 [02:34<00:00, 3226.66it/s]\n"
     ]
    },
    {
     "name": "stdout",
     "output_type": "stream",
     "text": [
      "Partition 15 completed, convergence counter: 1220\n"
     ]
    },
    {
     "name": "stderr",
     "output_type": "stream",
     "text": [
      "Simulation Progress: 100%|██████████| 500000/500000 [02:25<00:00, 3439.60it/s]\n"
     ]
    },
    {
     "name": "stdout",
     "output_type": "stream",
     "text": [
      "Partition 16 completed, convergence counter: 31\n"
     ]
    },
    {
     "name": "stderr",
     "output_type": "stream",
     "text": [
      "Simulation Progress: 100%|██████████| 500000/500000 [02:28<00:00, 3376.75it/s]\n"
     ]
    },
    {
     "name": "stdout",
     "output_type": "stream",
     "text": [
      "Partition 17 completed, convergence counter: 16\n"
     ]
    },
    {
     "name": "stderr",
     "output_type": "stream",
     "text": [
      "Simulation Progress: 100%|██████████| 500000/500000 [02:22<00:00, 3517.12it/s]\n"
     ]
    },
    {
     "name": "stdout",
     "output_type": "stream",
     "text": [
      "Partition 18 completed, convergence counter: 97\n"
     ]
    },
    {
     "name": "stderr",
     "output_type": "stream",
     "text": [
      "Simulation Progress: 100%|██████████| 500000/500000 [02:34<00:00, 3226.05it/s]\n"
     ]
    },
    {
     "name": "stdout",
     "output_type": "stream",
     "text": [
      "Partition 19 completed, convergence counter: 468\n"
     ]
    },
    {
     "name": "stderr",
     "output_type": "stream",
     "text": [
      "Simulation Progress: 100%|██████████| 500000/500000 [02:36<00:00, 3198.40it/s]\n"
     ]
    },
    {
     "name": "stdout",
     "output_type": "stream",
     "text": [
      "Partition 20 completed, convergence counter: 74\n"
     ]
    },
    {
     "name": "stderr",
     "output_type": "stream",
     "text": [
      "Simulation Progress: 100%|██████████| 500000/500000 [02:32<00:00, 3268.36it/s]\n"
     ]
    },
    {
     "name": "stdout",
     "output_type": "stream",
     "text": [
      "Partition 21 completed, convergence counter: 147\n"
     ]
    },
    {
     "name": "stderr",
     "output_type": "stream",
     "text": [
      "Simulation Progress: 100%|██████████| 500000/500000 [02:35<00:00, 3219.44it/s]\n"
     ]
    },
    {
     "name": "stdout",
     "output_type": "stream",
     "text": [
      "Partition 22 completed, convergence counter: 1247\n"
     ]
    },
    {
     "name": "stderr",
     "output_type": "stream",
     "text": [
      "Simulation Progress: 100%|██████████| 500000/500000 [02:42<00:00, 3086.00it/s]\n"
     ]
    },
    {
     "name": "stdout",
     "output_type": "stream",
     "text": [
      "Partition 23 completed, convergence counter: 243\n"
     ]
    },
    {
     "name": "stderr",
     "output_type": "stream",
     "text": [
      "Simulation Progress: 100%|██████████| 500000/500000 [02:37<00:00, 3168.36it/s]\n"
     ]
    },
    {
     "name": "stdout",
     "output_type": "stream",
     "text": [
      "Partition 24 completed, convergence counter: 37\n"
     ]
    },
    {
     "name": "stderr",
     "output_type": "stream",
     "text": [
      "Simulation Progress: 100%|██████████| 500000/500000 [02:39<00:00, 3140.52it/s]\n"
     ]
    },
    {
     "name": "stdout",
     "output_type": "stream",
     "text": [
      "Partition 25 completed, convergence counter: 64\n"
     ]
    },
    {
     "name": "stderr",
     "output_type": "stream",
     "text": [
      "Simulation Progress: 100%|██████████| 500000/500000 [02:41<00:00, 3090.92it/s]\n"
     ]
    },
    {
     "name": "stdout",
     "output_type": "stream",
     "text": [
      "Partition 26 completed, convergence counter: 184\n"
     ]
    },
    {
     "name": "stderr",
     "output_type": "stream",
     "text": [
      "Simulation Progress: 100%|██████████| 500000/500000 [02:36<00:00, 3202.90it/s]\n"
     ]
    },
    {
     "name": "stdout",
     "output_type": "stream",
     "text": [
      "Partition 27 completed, convergence counter: 83\n"
     ]
    },
    {
     "name": "stderr",
     "output_type": "stream",
     "text": [
      "Simulation Progress: 100%|██████████| 500000/500000 [02:35<00:00, 3208.85it/s]\n"
     ]
    },
    {
     "name": "stdout",
     "output_type": "stream",
     "text": [
      "Partition 28 completed, convergence counter: 183\n"
     ]
    },
    {
     "name": "stderr",
     "output_type": "stream",
     "text": [
      "Simulation Progress: 100%|██████████| 500000/500000 [02:42<00:00, 3068.78it/s]\n"
     ]
    },
    {
     "name": "stdout",
     "output_type": "stream",
     "text": [
      "Partition 29 completed, convergence counter: 318\n"
     ]
    },
    {
     "name": "stderr",
     "output_type": "stream",
     "text": [
      "Simulation Progress: 100%|██████████| 500000/500000 [02:38<00:00, 3148.20it/s]\n"
     ]
    },
    {
     "name": "stdout",
     "output_type": "stream",
     "text": [
      "Partition 30 completed, convergence counter: 23\n"
     ]
    },
    {
     "name": "stderr",
     "output_type": "stream",
     "text": [
      "Simulation Progress: 100%|██████████| 500000/500000 [02:40<00:00, 3116.61it/s]\n"
     ]
    },
    {
     "name": "stdout",
     "output_type": "stream",
     "text": [
      "Partition 31 completed, convergence counter: 101\n"
     ]
    },
    {
     "name": "stderr",
     "output_type": "stream",
     "text": [
      "Simulation Progress: 100%|██████████| 500000/500000 [02:50<00:00, 2937.10it/s]\n"
     ]
    },
    {
     "name": "stdout",
     "output_type": "stream",
     "text": [
      "Partition 32 completed, convergence counter: 42\n"
     ]
    },
    {
     "name": "stderr",
     "output_type": "stream",
     "text": [
      "Simulation Progress: 100%|██████████| 500000/500000 [02:50<00:00, 2934.97it/s]\n"
     ]
    },
    {
     "name": "stdout",
     "output_type": "stream",
     "text": [
      "Partition 33 completed, convergence counter: 95\n"
     ]
    },
    {
     "name": "stderr",
     "output_type": "stream",
     "text": [
      "Simulation Progress: 100%|██████████| 500000/500000 [02:45<00:00, 3017.51it/s]\n"
     ]
    },
    {
     "name": "stdout",
     "output_type": "stream",
     "text": [
      "Partition 34 completed, convergence counter: 441\n"
     ]
    },
    {
     "name": "stderr",
     "output_type": "stream",
     "text": [
      "Simulation Progress: 100%|██████████| 500000/500000 [02:41<00:00, 3087.33it/s]\n"
     ]
    },
    {
     "name": "stdout",
     "output_type": "stream",
     "text": [
      "Partition 35 completed, convergence counter: 204\n"
     ]
    },
    {
     "name": "stderr",
     "output_type": "stream",
     "text": [
      "Simulation Progress: 100%|██████████| 500000/500000 [02:31<00:00, 3301.11it/s]\n"
     ]
    },
    {
     "name": "stdout",
     "output_type": "stream",
     "text": [
      "Partition 36 completed, convergence counter: 10\n"
     ]
    },
    {
     "name": "stderr",
     "output_type": "stream",
     "text": [
      "Simulation Progress: 100%|██████████| 500000/500000 [02:40<00:00, 3108.12it/s]\n"
     ]
    },
    {
     "name": "stdout",
     "output_type": "stream",
     "text": [
      "Partition 37 completed, convergence counter: 27\n"
     ]
    },
    {
     "name": "stderr",
     "output_type": "stream",
     "text": [
      "Simulation Progress: 100%|██████████| 500000/500000 [02:40<00:00, 3116.40it/s]\n"
     ]
    },
    {
     "name": "stdout",
     "output_type": "stream",
     "text": [
      "Partition 38 completed, convergence counter: 336\n"
     ]
    },
    {
     "name": "stderr",
     "output_type": "stream",
     "text": [
      "Simulation Progress: 100%|██████████| 500000/500000 [02:47<00:00, 2987.21it/s]\n"
     ]
    },
    {
     "name": "stdout",
     "output_type": "stream",
     "text": [
      "Partition 39 completed, convergence counter: 674\n"
     ]
    },
    {
     "name": "stderr",
     "output_type": "stream",
     "text": [
      "Simulation Progress: 100%|██████████| 500000/500000 [02:42<00:00, 3083.00it/s]\n"
     ]
    },
    {
     "name": "stdout",
     "output_type": "stream",
     "text": [
      "Partition 40 completed, convergence counter: 2352\n"
     ]
    },
    {
     "name": "stderr",
     "output_type": "stream",
     "text": [
      "Simulation Progress: 100%|██████████| 500000/500000 [02:29<00:00, 3345.02it/s]\n"
     ]
    },
    {
     "name": "stdout",
     "output_type": "stream",
     "text": [
      "Partition 41 completed, convergence counter: 271\n"
     ]
    },
    {
     "name": "stderr",
     "output_type": "stream",
     "text": [
      "Simulation Progress: 100%|██████████| 500000/500000 [02:29<00:00, 3343.01it/s]\n"
     ]
    },
    {
     "name": "stdout",
     "output_type": "stream",
     "text": [
      "Partition 42 completed, convergence counter: 190\n"
     ]
    },
    {
     "name": "stderr",
     "output_type": "stream",
     "text": [
      "Simulation Progress: 100%|██████████| 500000/500000 [02:31<00:00, 3308.99it/s]\n"
     ]
    },
    {
     "name": "stdout",
     "output_type": "stream",
     "text": [
      "Partition 43 completed, convergence counter: 2019\n"
     ]
    },
    {
     "name": "stderr",
     "output_type": "stream",
     "text": [
      "Simulation Progress: 100%|██████████| 500000/500000 [02:32<00:00, 3279.57it/s]\n"
     ]
    },
    {
     "name": "stdout",
     "output_type": "stream",
     "text": [
      "Partition 44 completed, convergence counter: 449\n"
     ]
    },
    {
     "name": "stderr",
     "output_type": "stream",
     "text": [
      "Simulation Progress: 100%|██████████| 500000/500000 [02:35<00:00, 3225.26it/s]\n"
     ]
    },
    {
     "name": "stdout",
     "output_type": "stream",
     "text": [
      "Partition 45 completed, convergence counter: 4\n"
     ]
    },
    {
     "name": "stderr",
     "output_type": "stream",
     "text": [
      "Simulation Progress: 100%|██████████| 500000/500000 [02:35<00:00, 3225.72it/s]\n"
     ]
    },
    {
     "name": "stdout",
     "output_type": "stream",
     "text": [
      "Partition 46 completed, convergence counter: 569\n"
     ]
    },
    {
     "name": "stderr",
     "output_type": "stream",
     "text": [
      "Simulation Progress: 100%|██████████| 500000/500000 [02:28<00:00, 3367.47it/s]\n"
     ]
    },
    {
     "name": "stdout",
     "output_type": "stream",
     "text": [
      "Partition 47 completed, convergence counter: 754\n"
     ]
    },
    {
     "name": "stderr",
     "output_type": "stream",
     "text": [
      "Simulation Progress: 100%|██████████| 500000/500000 [02:41<00:00, 3105.03it/s]\n"
     ]
    },
    {
     "name": "stdout",
     "output_type": "stream",
     "text": [
      "Partition 48 completed, convergence counter: 246\n"
     ]
    },
    {
     "name": "stderr",
     "output_type": "stream",
     "text": [
      "Simulation Progress: 100%|██████████| 500000/500000 [02:39<00:00, 3131.72it/s]\n"
     ]
    },
    {
     "name": "stdout",
     "output_type": "stream",
     "text": [
      "Partition 49 completed, convergence counter: 30\n"
     ]
    },
    {
     "name": "stderr",
     "output_type": "stream",
     "text": [
      "Simulation Progress: 100%|██████████| 500000/500000 [02:56<00:00, 2826.01it/s]\n"
     ]
    },
    {
     "name": "stdout",
     "output_type": "stream",
     "text": [
      "Partition 50 completed, convergence counter: 82\n"
     ]
    },
    {
     "name": "stderr",
     "output_type": "stream",
     "text": [
      "Simulation Progress: 100%|██████████| 500000/500000 [02:48<00:00, 2974.66it/s]\n"
     ]
    },
    {
     "name": "stdout",
     "output_type": "stream",
     "text": [
      "Partition 51 completed, convergence counter: 728\n"
     ]
    },
    {
     "name": "stderr",
     "output_type": "stream",
     "text": [
      "Simulation Progress: 100%|██████████| 500000/500000 [02:52<00:00, 2906.24it/s]\n"
     ]
    },
    {
     "name": "stdout",
     "output_type": "stream",
     "text": [
      "Partition 52 completed, convergence counter: 84\n"
     ]
    },
    {
     "name": "stderr",
     "output_type": "stream",
     "text": [
      "Simulation Progress: 100%|██████████| 500000/500000 [02:48<00:00, 2963.47it/s]\n"
     ]
    },
    {
     "name": "stdout",
     "output_type": "stream",
     "text": [
      "Partition 53 completed, convergence counter: 303\n"
     ]
    },
    {
     "name": "stderr",
     "output_type": "stream",
     "text": [
      "Simulation Progress: 100%|██████████| 500000/500000 [02:43<00:00, 3066.78it/s]\n"
     ]
    },
    {
     "name": "stdout",
     "output_type": "stream",
     "text": [
      "Partition 54 completed, convergence counter: 2213\n"
     ]
    },
    {
     "name": "stderr",
     "output_type": "stream",
     "text": [
      "Simulation Progress: 100%|██████████| 500000/500000 [02:47<00:00, 2986.85it/s]\n"
     ]
    },
    {
     "name": "stdout",
     "output_type": "stream",
     "text": [
      "Partition 55 completed, convergence counter: 46\n"
     ]
    },
    {
     "name": "stderr",
     "output_type": "stream",
     "text": [
      "Simulation Progress: 100%|██████████| 500000/500000 [03:03<00:00, 2726.24it/s]\n"
     ]
    },
    {
     "name": "stdout",
     "output_type": "stream",
     "text": [
      "Partition 56 completed, convergence counter: 1936\n"
     ]
    },
    {
     "name": "stderr",
     "output_type": "stream",
     "text": [
      "Simulation Progress: 100%|██████████| 500000/500000 [02:56<00:00, 2839.78it/s]\n"
     ]
    },
    {
     "name": "stdout",
     "output_type": "stream",
     "text": [
      "Partition 57 completed, convergence counter: 4514\n"
     ]
    },
    {
     "name": "stderr",
     "output_type": "stream",
     "text": [
      "Simulation Progress: 100%|██████████| 500000/500000 [02:32<00:00, 3287.99it/s]\n"
     ]
    },
    {
     "name": "stdout",
     "output_type": "stream",
     "text": [
      "Partition 58 completed, convergence counter: 601\n"
     ]
    },
    {
     "name": "stderr",
     "output_type": "stream",
     "text": [
      "Simulation Progress: 100%|██████████| 500000/500000 [02:43<00:00, 3052.55it/s]\n"
     ]
    },
    {
     "name": "stdout",
     "output_type": "stream",
     "text": [
      "Partition 59 completed, convergence counter: 113\n"
     ]
    },
    {
     "name": "stderr",
     "output_type": "stream",
     "text": [
      "Simulation Progress: 100%|██████████| 500000/500000 [03:01<00:00, 2749.36it/s]\n"
     ]
    },
    {
     "name": "stdout",
     "output_type": "stream",
     "text": [
      "Partition 60 completed, convergence counter: 77\n"
     ]
    },
    {
     "name": "stderr",
     "output_type": "stream",
     "text": [
      "Simulation Progress: 100%|██████████| 500000/500000 [02:50<00:00, 2928.97it/s]\n"
     ]
    },
    {
     "name": "stdout",
     "output_type": "stream",
     "text": [
      "Partition 61 completed, convergence counter: 7229\n"
     ]
    },
    {
     "name": "stderr",
     "output_type": "stream",
     "text": [
      "Simulation Progress: 100%|██████████| 500000/500000 [02:51<00:00, 2916.23it/s]\n"
     ]
    },
    {
     "name": "stdout",
     "output_type": "stream",
     "text": [
      "Partition 62 completed, convergence counter: 314\n"
     ]
    },
    {
     "name": "stderr",
     "output_type": "stream",
     "text": [
      "Simulation Progress: 100%|██████████| 500000/500000 [02:57<00:00, 2823.53it/s]\n"
     ]
    },
    {
     "name": "stdout",
     "output_type": "stream",
     "text": [
      "Partition 63 completed, convergence counter: 13\n"
     ]
    },
    {
     "name": "stderr",
     "output_type": "stream",
     "text": [
      "Simulation Progress: 100%|██████████| 500000/500000 [02:46<00:00, 2998.00it/s]\n"
     ]
    },
    {
     "name": "stdout",
     "output_type": "stream",
     "text": [
      "Partition 64 completed, convergence counter: 16272\n"
     ]
    },
    {
     "name": "stderr",
     "output_type": "stream",
     "text": [
      "Simulation Progress: 100%|██████████| 500000/500000 [02:29<00:00, 3347.66it/s]\n"
     ]
    },
    {
     "name": "stdout",
     "output_type": "stream",
     "text": [
      "Partition 65 completed, convergence counter: 2894\n"
     ]
    },
    {
     "name": "stderr",
     "output_type": "stream",
     "text": [
      "Simulation Progress: 100%|██████████| 500000/500000 [02:39<00:00, 3132.28it/s]\n"
     ]
    },
    {
     "name": "stdout",
     "output_type": "stream",
     "text": [
      "Partition 66 completed, convergence counter: 91\n"
     ]
    },
    {
     "name": "stderr",
     "output_type": "stream",
     "text": [
      "Simulation Progress: 100%|██████████| 500000/500000 [02:39<00:00, 3140.89it/s]\n"
     ]
    },
    {
     "name": "stdout",
     "output_type": "stream",
     "text": [
      "Partition 67 completed, convergence counter: 1681\n"
     ]
    },
    {
     "name": "stderr",
     "output_type": "stream",
     "text": [
      "Simulation Progress: 100%|██████████| 500000/500000 [02:37<00:00, 3173.02it/s]\n"
     ]
    },
    {
     "name": "stdout",
     "output_type": "stream",
     "text": [
      "Partition 68 completed, convergence counter: 251\n"
     ]
    },
    {
     "name": "stderr",
     "output_type": "stream",
     "text": [
      "Simulation Progress: 100%|██████████| 500000/500000 [02:38<00:00, 3155.41it/s]\n"
     ]
    },
    {
     "name": "stdout",
     "output_type": "stream",
     "text": [
      "Partition 69 completed, convergence counter: 946\n"
     ]
    },
    {
     "name": "stderr",
     "output_type": "stream",
     "text": [
      "Simulation Progress: 100%|██████████| 500000/500000 [02:40<00:00, 3114.24it/s]\n"
     ]
    },
    {
     "name": "stdout",
     "output_type": "stream",
     "text": [
      "Partition 70 completed, convergence counter: 11546\n"
     ]
    },
    {
     "name": "stderr",
     "output_type": "stream",
     "text": [
      "Simulation Progress: 100%|██████████| 500000/500000 [02:35<00:00, 3218.01it/s]\n"
     ]
    },
    {
     "name": "stdout",
     "output_type": "stream",
     "text": [
      "Partition 71 completed, convergence counter: 236\n"
     ]
    },
    {
     "name": "stderr",
     "output_type": "stream",
     "text": [
      "Simulation Progress: 100%|██████████| 500000/500000 [02:42<00:00, 3080.59it/s]\n"
     ]
    },
    {
     "name": "stdout",
     "output_type": "stream",
     "text": [
      "Partition 72 completed, convergence counter: 267\n"
     ]
    },
    {
     "name": "stderr",
     "output_type": "stream",
     "text": [
      "Simulation Progress: 100%|██████████| 500000/500000 [02:42<00:00, 3081.00it/s]\n"
     ]
    },
    {
     "name": "stdout",
     "output_type": "stream",
     "text": [
      "Partition 73 completed, convergence counter: 6983\n"
     ]
    },
    {
     "name": "stderr",
     "output_type": "stream",
     "text": [
      "Simulation Progress: 100%|██████████| 500000/500000 [02:43<00:00, 3063.66it/s]\n"
     ]
    },
    {
     "name": "stdout",
     "output_type": "stream",
     "text": [
      "Partition 74 completed, convergence counter: 21\n"
     ]
    },
    {
     "name": "stderr",
     "output_type": "stream",
     "text": [
      "Simulation Progress: 100%|██████████| 500000/500000 [02:38<00:00, 3158.50it/s]\n"
     ]
    },
    {
     "name": "stdout",
     "output_type": "stream",
     "text": [
      "Partition 75 completed, convergence counter: 385\n"
     ]
    },
    {
     "name": "stderr",
     "output_type": "stream",
     "text": [
      "Simulation Progress: 100%|██████████| 500000/500000 [02:54<00:00, 2864.85it/s]\n"
     ]
    },
    {
     "name": "stdout",
     "output_type": "stream",
     "text": [
      "Partition 76 completed, convergence counter: 36\n"
     ]
    },
    {
     "name": "stderr",
     "output_type": "stream",
     "text": [
      "Simulation Progress: 100%|██████████| 500000/500000 [02:47<00:00, 2993.08it/s]\n"
     ]
    },
    {
     "name": "stdout",
     "output_type": "stream",
     "text": [
      "Partition 77 completed, convergence counter: 379\n"
     ]
    },
    {
     "name": "stderr",
     "output_type": "stream",
     "text": [
      "Simulation Progress: 100%|██████████| 500000/500000 [02:33<00:00, 3257.73it/s]\n"
     ]
    },
    {
     "name": "stdout",
     "output_type": "stream",
     "text": [
      "Partition 78 completed, convergence counter: 7802\n"
     ]
    },
    {
     "name": "stderr",
     "output_type": "stream",
     "text": [
      "Simulation Progress: 100%|██████████| 500000/500000 [02:28<00:00, 3363.53it/s]\n"
     ]
    },
    {
     "name": "stdout",
     "output_type": "stream",
     "text": [
      "Partition 79 completed, convergence counter: 34217\n"
     ]
    },
    {
     "name": "stderr",
     "output_type": "stream",
     "text": [
      "Simulation Progress: 100%|██████████| 500000/500000 [02:29<00:00, 3334.76it/s]\n"
     ]
    },
    {
     "name": "stdout",
     "output_type": "stream",
     "text": [
      "Partition 80 completed, convergence counter: 223\n"
     ]
    },
    {
     "name": "stderr",
     "output_type": "stream",
     "text": [
      "Simulation Progress: 100%|██████████| 500000/500000 [02:31<00:00, 3307.77it/s]\n"
     ]
    },
    {
     "name": "stdout",
     "output_type": "stream",
     "text": [
      "Partition 81 completed, convergence counter: 8085\n"
     ]
    },
    {
     "name": "stderr",
     "output_type": "stream",
     "text": [
      "Simulation Progress: 100%|██████████| 500000/500000 [02:30<00:00, 3320.08it/s]\n"
     ]
    },
    {
     "name": "stdout",
     "output_type": "stream",
     "text": [
      "Partition 82 completed, convergence counter: 3635\n"
     ]
    },
    {
     "name": "stderr",
     "output_type": "stream",
     "text": [
      "Simulation Progress: 100%|██████████| 500000/500000 [02:29<00:00, 3351.80it/s]\n"
     ]
    },
    {
     "name": "stdout",
     "output_type": "stream",
     "text": [
      "Partition 83 completed, convergence counter: 17755\n"
     ]
    },
    {
     "name": "stderr",
     "output_type": "stream",
     "text": [
      "Simulation Progress: 100%|██████████| 500000/500000 [02:35<00:00, 3215.48it/s]\n"
     ]
    },
    {
     "name": "stdout",
     "output_type": "stream",
     "text": [
      "Partition 84 completed, convergence counter: 3588\n"
     ]
    },
    {
     "name": "stderr",
     "output_type": "stream",
     "text": [
      "Simulation Progress: 100%|██████████| 500000/500000 [02:35<00:00, 3216.69it/s]\n"
     ]
    },
    {
     "name": "stdout",
     "output_type": "stream",
     "text": [
      "Partition 85 completed, convergence counter: 5888\n"
     ]
    },
    {
     "name": "stderr",
     "output_type": "stream",
     "text": [
      "Simulation Progress: 100%|██████████| 500000/500000 [02:39<00:00, 3136.31it/s]\n"
     ]
    },
    {
     "name": "stdout",
     "output_type": "stream",
     "text": [
      "Partition 86 completed, convergence counter: 176\n"
     ]
    },
    {
     "name": "stderr",
     "output_type": "stream",
     "text": [
      "Simulation Progress: 100%|██████████| 500000/500000 [02:33<00:00, 3261.01it/s]\n"
     ]
    },
    {
     "name": "stdout",
     "output_type": "stream",
     "text": [
      "Partition 87 completed, convergence counter: 54\n"
     ]
    },
    {
     "name": "stderr",
     "output_type": "stream",
     "text": [
      "Simulation Progress: 100%|██████████| 500000/500000 [02:44<00:00, 3045.95it/s]\n"
     ]
    },
    {
     "name": "stdout",
     "output_type": "stream",
     "text": [
      "Partition 88 completed, convergence counter: 101\n"
     ]
    },
    {
     "name": "stderr",
     "output_type": "stream",
     "text": [
      "Simulation Progress: 100%|██████████| 500000/500000 [02:36<00:00, 3202.88it/s]\n"
     ]
    },
    {
     "name": "stdout",
     "output_type": "stream",
     "text": [
      "Partition 89 completed, convergence counter: 2720\n"
     ]
    },
    {
     "name": "stderr",
     "output_type": "stream",
     "text": [
      "Simulation Progress: 100%|██████████| 500000/500000 [02:48<00:00, 2960.55it/s]\n"
     ]
    },
    {
     "name": "stdout",
     "output_type": "stream",
     "text": [
      "Partition 90 completed, convergence counter: 948\n"
     ]
    },
    {
     "name": "stderr",
     "output_type": "stream",
     "text": [
      "Simulation Progress: 100%|██████████| 500000/500000 [02:56<00:00, 2827.93it/s]\n"
     ]
    },
    {
     "name": "stdout",
     "output_type": "stream",
     "text": [
      "Partition 91 completed, convergence counter: 15\n"
     ]
    },
    {
     "name": "stderr",
     "output_type": "stream",
     "text": [
      "Simulation Progress: 100%|██████████| 500000/500000 [02:56<00:00, 2832.31it/s]\n"
     ]
    },
    {
     "name": "stdout",
     "output_type": "stream",
     "text": [
      "Partition 92 completed, convergence counter: 22\n"
     ]
    },
    {
     "name": "stderr",
     "output_type": "stream",
     "text": [
      "Simulation Progress: 100%|██████████| 500000/500000 [02:51<00:00, 2922.25it/s]\n"
     ]
    },
    {
     "name": "stdout",
     "output_type": "stream",
     "text": [
      "Partition 93 completed, convergence counter: 3257\n"
     ]
    },
    {
     "name": "stderr",
     "output_type": "stream",
     "text": [
      "Simulation Progress: 100%|██████████| 500000/500000 [02:49<00:00, 2943.68it/s]\n"
     ]
    },
    {
     "name": "stdout",
     "output_type": "stream",
     "text": [
      "Partition 94 completed, convergence counter: 796\n"
     ]
    },
    {
     "name": "stderr",
     "output_type": "stream",
     "text": [
      "Simulation Progress: 100%|██████████| 500000/500000 [02:37<00:00, 3180.95it/s]\n"
     ]
    },
    {
     "name": "stdout",
     "output_type": "stream",
     "text": [
      "Partition 95 completed, convergence counter: 301\n"
     ]
    },
    {
     "name": "stderr",
     "output_type": "stream",
     "text": [
      "Simulation Progress: 100%|██████████| 500000/500000 [02:40<00:00, 3109.43it/s]\n"
     ]
    },
    {
     "name": "stdout",
     "output_type": "stream",
     "text": [
      "Partition 96 completed, convergence counter: 95\n"
     ]
    },
    {
     "name": "stderr",
     "output_type": "stream",
     "text": [
      "Simulation Progress: 100%|██████████| 500000/500000 [02:45<00:00, 3014.70it/s]\n"
     ]
    },
    {
     "name": "stdout",
     "output_type": "stream",
     "text": [
      "Partition 97 completed, convergence counter: 115\n"
     ]
    },
    {
     "name": "stderr",
     "output_type": "stream",
     "text": [
      "Simulation Progress: 100%|██████████| 500000/500000 [02:45<00:00, 3022.08it/s]\n"
     ]
    },
    {
     "name": "stdout",
     "output_type": "stream",
     "text": [
      "Partition 98 completed, convergence counter: 161\n"
     ]
    },
    {
     "name": "stderr",
     "output_type": "stream",
     "text": [
      "Simulation Progress: 100%|██████████| 500000/500000 [02:50<00:00, 2930.25it/s]\n"
     ]
    },
    {
     "name": "stdout",
     "output_type": "stream",
     "text": [
      "Partition 99 completed, convergence counter: 13744\n"
     ]
    },
    {
     "name": "stderr",
     "output_type": "stream",
     "text": [
      "Simulation Progress: 100%|██████████| 500000/500000 [02:54<00:00, 2872.45it/s]\n"
     ]
    },
    {
     "name": "stdout",
     "output_type": "stream",
     "text": [
      "Partition 100 completed, convergence counter: 3067\n"
     ]
    },
    {
     "name": "stderr",
     "output_type": "stream",
     "text": [
      "Simulation Progress: 100%|██████████| 500000/500000 [02:29<00:00, 3333.50it/s]\n"
     ]
    },
    {
     "name": "stdout",
     "output_type": "stream",
     "text": [
      "Partition 101 completed, convergence counter: 149\n"
     ]
    },
    {
     "name": "stderr",
     "output_type": "stream",
     "text": [
      "Simulation Progress: 100%|██████████| 500000/500000 [02:43<00:00, 3060.02it/s]\n"
     ]
    },
    {
     "name": "stdout",
     "output_type": "stream",
     "text": [
      "Partition 102 completed, convergence counter: 102\n"
     ]
    },
    {
     "name": "stderr",
     "output_type": "stream",
     "text": [
      "Simulation Progress: 100%|██████████| 500000/500000 [02:42<00:00, 3078.37it/s]\n"
     ]
    },
    {
     "name": "stdout",
     "output_type": "stream",
     "text": [
      "Partition 103 completed, convergence counter: 3121\n"
     ]
    },
    {
     "name": "stderr",
     "output_type": "stream",
     "text": [
      "Simulation Progress: 100%|██████████| 500000/500000 [02:43<00:00, 3050.73it/s]\n"
     ]
    },
    {
     "name": "stdout",
     "output_type": "stream",
     "text": [
      "Partition 104 completed, convergence counter: 7288\n"
     ]
    },
    {
     "name": "stderr",
     "output_type": "stream",
     "text": [
      "Simulation Progress: 100%|██████████| 500000/500000 [02:44<00:00, 3041.75it/s]\n"
     ]
    },
    {
     "name": "stdout",
     "output_type": "stream",
     "text": [
      "Partition 105 completed, convergence counter: 45\n"
     ]
    },
    {
     "name": "stderr",
     "output_type": "stream",
     "text": [
      "Simulation Progress: 100%|██████████| 500000/500000 [02:42<00:00, 3080.45it/s]\n"
     ]
    },
    {
     "name": "stdout",
     "output_type": "stream",
     "text": [
      "Partition 106 completed, convergence counter: 75\n"
     ]
    },
    {
     "name": "stderr",
     "output_type": "stream",
     "text": [
      "Simulation Progress: 100%|██████████| 500000/500000 [02:34<00:00, 3239.54it/s]\n"
     ]
    },
    {
     "name": "stdout",
     "output_type": "stream",
     "text": [
      "Partition 107 completed, convergence counter: 2805\n"
     ]
    },
    {
     "name": "stderr",
     "output_type": "stream",
     "text": [
      "Simulation Progress: 100%|██████████| 500000/500000 [02:54<00:00, 2865.88it/s]\n"
     ]
    },
    {
     "name": "stdout",
     "output_type": "stream",
     "text": [
      "Partition 108 completed, convergence counter: 156\n"
     ]
    },
    {
     "name": "stderr",
     "output_type": "stream",
     "text": [
      "Simulation Progress: 100%|██████████| 500000/500000 [02:47<00:00, 2984.78it/s]\n"
     ]
    },
    {
     "name": "stdout",
     "output_type": "stream",
     "text": [
      "Partition 109 completed, convergence counter: 87\n"
     ]
    },
    {
     "name": "stderr",
     "output_type": "stream",
     "text": [
      "Simulation Progress: 100%|██████████| 500000/500000 [02:37<00:00, 3182.56it/s]\n"
     ]
    },
    {
     "name": "stdout",
     "output_type": "stream",
     "text": [
      "Partition 110 completed, convergence counter: 54\n"
     ]
    },
    {
     "name": "stderr",
     "output_type": "stream",
     "text": [
      "Simulation Progress: 100%|██████████| 500000/500000 [02:47<00:00, 2976.53it/s]\n"
     ]
    },
    {
     "name": "stdout",
     "output_type": "stream",
     "text": [
      "Partition 111 completed, convergence counter: 1693\n"
     ]
    },
    {
     "name": "stderr",
     "output_type": "stream",
     "text": [
      "Simulation Progress: 100%|██████████| 500000/500000 [02:43<00:00, 3058.71it/s]\n"
     ]
    },
    {
     "name": "stdout",
     "output_type": "stream",
     "text": [
      "Partition 112 completed, convergence counter: 565\n"
     ]
    },
    {
     "name": "stderr",
     "output_type": "stream",
     "text": [
      "Simulation Progress: 100%|██████████| 500000/500000 [02:42<00:00, 3085.94it/s]\n"
     ]
    },
    {
     "name": "stdout",
     "output_type": "stream",
     "text": [
      "Partition 113 completed, convergence counter: 7373\n"
     ]
    },
    {
     "name": "stderr",
     "output_type": "stream",
     "text": [
      "Simulation Progress: 100%|██████████| 500000/500000 [02:52<00:00, 2905.47it/s]\n"
     ]
    },
    {
     "name": "stdout",
     "output_type": "stream",
     "text": [
      "Partition 114 completed, convergence counter: 426\n"
     ]
    },
    {
     "name": "stderr",
     "output_type": "stream",
     "text": [
      "Simulation Progress: 100%|██████████| 500000/500000 [02:38<00:00, 3159.90it/s]\n"
     ]
    },
    {
     "name": "stdout",
     "output_type": "stream",
     "text": [
      "Partition 115 completed, convergence counter: 105\n"
     ]
    },
    {
     "name": "stderr",
     "output_type": "stream",
     "text": [
      "Simulation Progress: 100%|██████████| 500000/500000 [02:37<00:00, 3173.46it/s]\n"
     ]
    },
    {
     "name": "stdout",
     "output_type": "stream",
     "text": [
      "Partition 116 completed, convergence counter: 2017\n"
     ]
    },
    {
     "name": "stderr",
     "output_type": "stream",
     "text": [
      "Simulation Progress: 100%|██████████| 500000/500000 [02:34<00:00, 3230.86it/s]\n"
     ]
    },
    {
     "name": "stdout",
     "output_type": "stream",
     "text": [
      "Partition 117 completed, convergence counter: 2105\n"
     ]
    },
    {
     "name": "stderr",
     "output_type": "stream",
     "text": [
      "Simulation Progress: 100%|██████████| 500000/500000 [02:35<00:00, 3215.94it/s]\n"
     ]
    },
    {
     "name": "stdout",
     "output_type": "stream",
     "text": [
      "Partition 118 completed, convergence counter: 121\n"
     ]
    },
    {
     "name": "stderr",
     "output_type": "stream",
     "text": [
      "Simulation Progress: 100%|██████████| 500000/500000 [02:39<00:00, 3127.20it/s]\n"
     ]
    },
    {
     "name": "stdout",
     "output_type": "stream",
     "text": [
      "Partition 119 completed, convergence counter: 559\n"
     ]
    },
    {
     "name": "stderr",
     "output_type": "stream",
     "text": [
      "Simulation Progress: 100%|██████████| 500000/500000 [02:31<00:00, 3310.35it/s]\n"
     ]
    },
    {
     "name": "stdout",
     "output_type": "stream",
     "text": [
      "Partition 120 completed, convergence counter: 2778\n"
     ]
    },
    {
     "name": "stderr",
     "output_type": "stream",
     "text": [
      "Simulation Progress: 100%|██████████| 500000/500000 [02:44<00:00, 3044.78it/s]\n"
     ]
    },
    {
     "name": "stdout",
     "output_type": "stream",
     "text": [
      "Partition 121 completed, convergence counter: 5610\n"
     ]
    },
    {
     "name": "stderr",
     "output_type": "stream",
     "text": [
      "Simulation Progress: 100%|██████████| 500000/500000 [02:43<00:00, 3060.48it/s]\n"
     ]
    },
    {
     "name": "stdout",
     "output_type": "stream",
     "text": [
      "Partition 122 completed, convergence counter: 7350\n"
     ]
    },
    {
     "name": "stderr",
     "output_type": "stream",
     "text": [
      "Simulation Progress: 100%|██████████| 500000/500000 [02:44<00:00, 3032.28it/s]\n"
     ]
    },
    {
     "name": "stdout",
     "output_type": "stream",
     "text": [
      "Partition 123 completed, convergence counter: 1084\n"
     ]
    },
    {
     "name": "stderr",
     "output_type": "stream",
     "text": [
      "Simulation Progress: 100%|██████████| 500000/500000 [02:49<00:00, 2941.64it/s]\n"
     ]
    },
    {
     "name": "stdout",
     "output_type": "stream",
     "text": [
      "Partition 124 completed, convergence counter: 2929\n"
     ]
    },
    {
     "name": "stderr",
     "output_type": "stream",
     "text": [
      "Simulation Progress: 100%|██████████| 500000/500000 [02:44<00:00, 3041.55it/s]\n"
     ]
    },
    {
     "name": "stdout",
     "output_type": "stream",
     "text": [
      "Partition 125 completed, convergence counter: 6\n"
     ]
    },
    {
     "name": "stderr",
     "output_type": "stream",
     "text": [
      "Simulation Progress: 100%|██████████| 500000/500000 [02:34<00:00, 3226.62it/s]\n"
     ]
    },
    {
     "name": "stdout",
     "output_type": "stream",
     "text": [
      "Partition 126 completed, convergence counter: 890\n"
     ]
    },
    {
     "name": "stderr",
     "output_type": "stream",
     "text": [
      "Simulation Progress: 100%|██████████| 500000/500000 [02:41<00:00, 3102.84it/s]\n"
     ]
    },
    {
     "name": "stdout",
     "output_type": "stream",
     "text": [
      "Partition 127 completed, convergence counter: 22\n"
     ]
    },
    {
     "name": "stderr",
     "output_type": "stream",
     "text": [
      "Simulation Progress: 100%|██████████| 500000/500000 [02:37<00:00, 3174.89it/s]\n"
     ]
    },
    {
     "name": "stdout",
     "output_type": "stream",
     "text": [
      "Partition 128 completed, convergence counter: 6113\n"
     ]
    },
    {
     "name": "stderr",
     "output_type": "stream",
     "text": [
      "Simulation Progress: 100%|██████████| 500000/500000 [02:25<00:00, 3424.78it/s]\n"
     ]
    },
    {
     "name": "stdout",
     "output_type": "stream",
     "text": [
      "Partition 129 completed, convergence counter: 344\n"
     ]
    },
    {
     "name": "stderr",
     "output_type": "stream",
     "text": [
      "Simulation Progress: 100%|██████████| 500000/500000 [02:37<00:00, 3177.30it/s]\n"
     ]
    },
    {
     "name": "stdout",
     "output_type": "stream",
     "text": [
      "Partition 130 completed, convergence counter: 323\n"
     ]
    },
    {
     "name": "stderr",
     "output_type": "stream",
     "text": [
      "Simulation Progress: 100%|██████████| 500000/500000 [02:44<00:00, 3046.70it/s]\n"
     ]
    },
    {
     "name": "stdout",
     "output_type": "stream",
     "text": [
      "Partition 131 completed, convergence counter: 8113\n"
     ]
    },
    {
     "name": "stderr",
     "output_type": "stream",
     "text": [
      "Simulation Progress: 100%|██████████| 500000/500000 [02:37<00:00, 3183.11it/s]\n"
     ]
    },
    {
     "name": "stdout",
     "output_type": "stream",
     "text": [
      "Partition 132 completed, convergence counter: 70\n"
     ]
    },
    {
     "name": "stderr",
     "output_type": "stream",
     "text": [
      "Simulation Progress: 100%|██████████| 500000/500000 [02:41<00:00, 3100.20it/s]\n"
     ]
    },
    {
     "name": "stdout",
     "output_type": "stream",
     "text": [
      "Partition 133 completed, convergence counter: 12\n"
     ]
    },
    {
     "name": "stderr",
     "output_type": "stream",
     "text": [
      "Simulation Progress: 100%|██████████| 500000/500000 [02:41<00:00, 3087.41it/s]\n"
     ]
    },
    {
     "name": "stdout",
     "output_type": "stream",
     "text": [
      "Partition 134 completed, convergence counter: 11140\n"
     ]
    },
    {
     "name": "stderr",
     "output_type": "stream",
     "text": [
      "Simulation Progress: 100%|██████████| 500000/500000 [02:39<00:00, 3125.32it/s]\n"
     ]
    },
    {
     "name": "stdout",
     "output_type": "stream",
     "text": [
      "Partition 135 completed, convergence counter: 2210\n"
     ]
    },
    {
     "name": "stderr",
     "output_type": "stream",
     "text": [
      "Simulation Progress: 100%|██████████| 500000/500000 [02:36<00:00, 3200.59it/s]\n"
     ]
    },
    {
     "name": "stdout",
     "output_type": "stream",
     "text": [
      "Partition 136 completed, convergence counter: 179\n"
     ]
    },
    {
     "name": "stderr",
     "output_type": "stream",
     "text": [
      "Simulation Progress: 100%|██████████| 500000/500000 [02:43<00:00, 3055.27it/s]\n"
     ]
    },
    {
     "name": "stdout",
     "output_type": "stream",
     "text": [
      "Partition 137 completed, convergence counter: 182\n"
     ]
    },
    {
     "name": "stderr",
     "output_type": "stream",
     "text": [
      "Simulation Progress: 100%|██████████| 500000/500000 [02:48<00:00, 2964.69it/s]\n"
     ]
    },
    {
     "name": "stdout",
     "output_type": "stream",
     "text": [
      "Partition 138 completed, convergence counter: 31\n"
     ]
    },
    {
     "name": "stderr",
     "output_type": "stream",
     "text": [
      "Simulation Progress: 100%|██████████| 500000/500000 [02:52<00:00, 2898.11it/s]\n"
     ]
    },
    {
     "name": "stdout",
     "output_type": "stream",
     "text": [
      "Partition 139 completed, convergence counter: 35\n"
     ]
    },
    {
     "name": "stderr",
     "output_type": "stream",
     "text": [
      "Simulation Progress: 100%|██████████| 500000/500000 [02:59<00:00, 2786.89it/s]\n"
     ]
    },
    {
     "name": "stdout",
     "output_type": "stream",
     "text": [
      "Partition 140 completed, convergence counter: 278\n"
     ]
    },
    {
     "name": "stderr",
     "output_type": "stream",
     "text": [
      "Simulation Progress: 100%|██████████| 500000/500000 [02:47<00:00, 2982.19it/s]\n"
     ]
    },
    {
     "name": "stdout",
     "output_type": "stream",
     "text": [
      "Partition 141 completed, convergence counter: 1426\n"
     ]
    },
    {
     "name": "stderr",
     "output_type": "stream",
     "text": [
      "Simulation Progress: 100%|██████████| 500000/500000 [02:48<00:00, 2963.27it/s]\n"
     ]
    },
    {
     "name": "stdout",
     "output_type": "stream",
     "text": [
      "Partition 142 completed, convergence counter: 1404\n"
     ]
    },
    {
     "name": "stderr",
     "output_type": "stream",
     "text": [
      "Simulation Progress: 100%|██████████| 500000/500000 [02:44<00:00, 3043.09it/s]\n"
     ]
    },
    {
     "name": "stdout",
     "output_type": "stream",
     "text": [
      "Partition 143 completed, convergence counter: 27\n"
     ]
    },
    {
     "name": "stderr",
     "output_type": "stream",
     "text": [
      "Simulation Progress: 100%|██████████| 500000/500000 [02:38<00:00, 3144.80it/s]\n"
     ]
    },
    {
     "name": "stdout",
     "output_type": "stream",
     "text": [
      "Partition 144 completed, convergence counter: 4041\n"
     ]
    },
    {
     "name": "stderr",
     "output_type": "stream",
     "text": [
      "Simulation Progress: 100%|██████████| 500000/500000 [02:45<00:00, 3018.13it/s]\n"
     ]
    },
    {
     "name": "stdout",
     "output_type": "stream",
     "text": [
      "Partition 145 completed, convergence counter: 6234\n"
     ]
    },
    {
     "name": "stderr",
     "output_type": "stream",
     "text": [
      "Simulation Progress: 100%|██████████| 500000/500000 [02:49<00:00, 2952.00it/s]\n"
     ]
    },
    {
     "name": "stdout",
     "output_type": "stream",
     "text": [
      "Partition 146 completed, convergence counter: 45649\n"
     ]
    },
    {
     "name": "stderr",
     "output_type": "stream",
     "text": [
      "Simulation Progress: 100%|██████████| 500000/500000 [02:36<00:00, 3202.35it/s]\n"
     ]
    },
    {
     "name": "stdout",
     "output_type": "stream",
     "text": [
      "Partition 147 completed, convergence counter: 12002\n"
     ]
    },
    {
     "name": "stderr",
     "output_type": "stream",
     "text": [
      "Simulation Progress: 100%|██████████| 500000/500000 [02:51<00:00, 2908.08it/s]\n"
     ]
    },
    {
     "name": "stdout",
     "output_type": "stream",
     "text": [
      "Partition 148 completed, convergence counter: 1510\n"
     ]
    },
    {
     "name": "stderr",
     "output_type": "stream",
     "text": [
      "Simulation Progress: 100%|██████████| 500000/500000 [02:39<00:00, 3132.65it/s]\n"
     ]
    },
    {
     "name": "stdout",
     "output_type": "stream",
     "text": [
      "Partition 149 completed, convergence counter: 1053\n"
     ]
    },
    {
     "name": "stderr",
     "output_type": "stream",
     "text": [
      "Simulation Progress: 100%|██████████| 500000/500000 [02:33<00:00, 3253.73it/s]\n"
     ]
    },
    {
     "name": "stdout",
     "output_type": "stream",
     "text": [
      "Partition 150 completed, convergence counter: 928\n"
     ]
    },
    {
     "name": "stderr",
     "output_type": "stream",
     "text": [
      "Simulation Progress: 100%|██████████| 500000/500000 [02:44<00:00, 3030.69it/s]\n"
     ]
    },
    {
     "name": "stdout",
     "output_type": "stream",
     "text": [
      "Partition 151 completed, convergence counter: 2350\n"
     ]
    },
    {
     "name": "stderr",
     "output_type": "stream",
     "text": [
      "Simulation Progress: 100%|██████████| 500000/500000 [02:42<00:00, 3076.84it/s]\n"
     ]
    },
    {
     "name": "stdout",
     "output_type": "stream",
     "text": [
      "Partition 152 completed, convergence counter: 218\n"
     ]
    },
    {
     "name": "stderr",
     "output_type": "stream",
     "text": [
      "Simulation Progress: 100%|██████████| 500000/500000 [02:55<00:00, 2842.14it/s]\n"
     ]
    },
    {
     "name": "stdout",
     "output_type": "stream",
     "text": [
      "Partition 153 completed, convergence counter: 851\n"
     ]
    },
    {
     "name": "stderr",
     "output_type": "stream",
     "text": [
      "Simulation Progress: 100%|██████████| 500000/500000 [03:03<00:00, 2722.59it/s]\n"
     ]
    },
    {
     "name": "stdout",
     "output_type": "stream",
     "text": [
      "Partition 154 completed, convergence counter: 257\n"
     ]
    },
    {
     "name": "stderr",
     "output_type": "stream",
     "text": [
      "Simulation Progress: 100%|██████████| 500000/500000 [02:56<00:00, 2840.69it/s]\n"
     ]
    },
    {
     "name": "stdout",
     "output_type": "stream",
     "text": [
      "Partition 155 completed, convergence counter: 21516\n"
     ]
    },
    {
     "name": "stderr",
     "output_type": "stream",
     "text": [
      "Simulation Progress: 100%|██████████| 500000/500000 [02:47<00:00, 2983.36it/s]\n"
     ]
    },
    {
     "name": "stdout",
     "output_type": "stream",
     "text": [
      "Partition 156 completed, convergence counter: 6123\n"
     ]
    },
    {
     "name": "stderr",
     "output_type": "stream",
     "text": [
      "Simulation Progress: 100%|██████████| 500000/500000 [02:45<00:00, 3028.57it/s]\n"
     ]
    },
    {
     "name": "stdout",
     "output_type": "stream",
     "text": [
      "Partition 157 completed, convergence counter: 727\n"
     ]
    },
    {
     "name": "stderr",
     "output_type": "stream",
     "text": [
      "Simulation Progress: 100%|██████████| 500000/500000 [02:52<00:00, 2899.52it/s]\n"
     ]
    },
    {
     "name": "stdout",
     "output_type": "stream",
     "text": [
      "Partition 158 completed, convergence counter: 5989\n"
     ]
    },
    {
     "name": "stderr",
     "output_type": "stream",
     "text": [
      "Simulation Progress: 100%|██████████| 500000/500000 [02:47<00:00, 2989.63it/s]\n"
     ]
    },
    {
     "name": "stdout",
     "output_type": "stream",
     "text": [
      "Partition 159 completed, convergence counter: 190\n"
     ]
    },
    {
     "name": "stderr",
     "output_type": "stream",
     "text": [
      "Simulation Progress: 100%|██████████| 500000/500000 [02:55<00:00, 2855.86it/s]\n"
     ]
    },
    {
     "name": "stdout",
     "output_type": "stream",
     "text": [
      "Partition 160 completed, convergence counter: 1543\n"
     ]
    },
    {
     "name": "stderr",
     "output_type": "stream",
     "text": [
      "Simulation Progress: 100%|██████████| 500000/500000 [03:07<00:00, 2671.77it/s]\n"
     ]
    },
    {
     "name": "stdout",
     "output_type": "stream",
     "text": [
      "Partition 161 completed, convergence counter: 14888\n"
     ]
    },
    {
     "name": "stderr",
     "output_type": "stream",
     "text": [
      "Simulation Progress: 100%|██████████| 500000/500000 [02:51<00:00, 2922.86it/s]\n"
     ]
    },
    {
     "name": "stdout",
     "output_type": "stream",
     "text": [
      "Partition 162 completed, convergence counter: 60308\n"
     ]
    },
    {
     "name": "stderr",
     "output_type": "stream",
     "text": [
      "Simulation Progress: 100%|██████████| 500000/500000 [02:41<00:00, 3102.31it/s]\n"
     ]
    },
    {
     "name": "stdout",
     "output_type": "stream",
     "text": [
      "Partition 163 completed, convergence counter: 2973\n"
     ]
    },
    {
     "name": "stderr",
     "output_type": "stream",
     "text": [
      "Simulation Progress: 100%|██████████| 500000/500000 [02:44<00:00, 3032.36it/s]\n"
     ]
    },
    {
     "name": "stdout",
     "output_type": "stream",
     "text": [
      "Partition 164 completed, convergence counter: 55\n"
     ]
    },
    {
     "name": "stderr",
     "output_type": "stream",
     "text": [
      "Simulation Progress: 100%|██████████| 500000/500000 [02:37<00:00, 3173.18it/s]\n"
     ]
    },
    {
     "name": "stdout",
     "output_type": "stream",
     "text": [
      "Partition 165 completed, convergence counter: 354\n"
     ]
    },
    {
     "name": "stderr",
     "output_type": "stream",
     "text": [
      "Simulation Progress: 100%|██████████| 500000/500000 [02:42<00:00, 3086.27it/s]\n"
     ]
    },
    {
     "name": "stdout",
     "output_type": "stream",
     "text": [
      "Partition 166 completed, convergence counter: 5513\n"
     ]
    },
    {
     "name": "stderr",
     "output_type": "stream",
     "text": [
      "Simulation Progress: 100%|██████████| 500000/500000 [02:37<00:00, 3166.18it/s]\n"
     ]
    },
    {
     "name": "stdout",
     "output_type": "stream",
     "text": [
      "Partition 167 completed, convergence counter: 24153\n"
     ]
    },
    {
     "name": "stderr",
     "output_type": "stream",
     "text": [
      "Simulation Progress: 100%|██████████| 500000/500000 [02:45<00:00, 3019.51it/s]\n"
     ]
    },
    {
     "name": "stdout",
     "output_type": "stream",
     "text": [
      "Partition 168 completed, convergence counter: 34169\n"
     ]
    },
    {
     "name": "stderr",
     "output_type": "stream",
     "text": [
      "Simulation Progress: 100%|██████████| 500000/500000 [02:44<00:00, 3037.17it/s]\n"
     ]
    },
    {
     "name": "stdout",
     "output_type": "stream",
     "text": [
      "Partition 169 completed, convergence counter: 34165\n"
     ]
    },
    {
     "name": "stderr",
     "output_type": "stream",
     "text": [
      "Simulation Progress: 100%|██████████| 500000/500000 [02:42<00:00, 3081.37it/s]\n"
     ]
    },
    {
     "name": "stdout",
     "output_type": "stream",
     "text": [
      "Partition 170 completed, convergence counter: 33941\n"
     ]
    },
    {
     "name": "stderr",
     "output_type": "stream",
     "text": [
      "Simulation Progress: 100%|██████████| 500000/500000 [02:46<00:00, 2998.09it/s]\n"
     ]
    },
    {
     "name": "stdout",
     "output_type": "stream",
     "text": [
      "Partition 171 completed, convergence counter: 1844\n"
     ]
    },
    {
     "name": "stderr",
     "output_type": "stream",
     "text": [
      "Simulation Progress: 100%|██████████| 500000/500000 [02:58<00:00, 2805.15it/s]\n"
     ]
    },
    {
     "name": "stdout",
     "output_type": "stream",
     "text": [
      "Partition 172 completed, convergence counter: 941\n"
     ]
    },
    {
     "name": "stderr",
     "output_type": "stream",
     "text": [
      "Simulation Progress: 100%|██████████| 500000/500000 [02:56<00:00, 2825.44it/s]\n"
     ]
    },
    {
     "name": "stdout",
     "output_type": "stream",
     "text": [
      "Partition 173 completed, convergence counter: 17808\n"
     ]
    },
    {
     "name": "stderr",
     "output_type": "stream",
     "text": [
      "Simulation Progress: 100%|██████████| 500000/500000 [02:44<00:00, 3037.57it/s]\n"
     ]
    },
    {
     "name": "stdout",
     "output_type": "stream",
     "text": [
      "Partition 174 completed, convergence counter: 12525\n"
     ]
    },
    {
     "name": "stderr",
     "output_type": "stream",
     "text": [
      "Simulation Progress: 100%|██████████| 500000/500000 [02:43<00:00, 3053.89it/s]\n"
     ]
    },
    {
     "name": "stdout",
     "output_type": "stream",
     "text": [
      "Partition 175 completed, convergence counter: 23479\n"
     ]
    },
    {
     "name": "stderr",
     "output_type": "stream",
     "text": [
      "Simulation Progress: 100%|██████████| 500000/500000 [02:32<00:00, 3274.95it/s]\n"
     ]
    },
    {
     "name": "stdout",
     "output_type": "stream",
     "text": [
      "Partition 176 completed, convergence counter: 10215\n"
     ]
    },
    {
     "name": "stderr",
     "output_type": "stream",
     "text": [
      "Simulation Progress: 100%|██████████| 500000/500000 [02:43<00:00, 3063.73it/s]\n"
     ]
    },
    {
     "name": "stdout",
     "output_type": "stream",
     "text": [
      "Partition 177 completed, convergence counter: 25748\n"
     ]
    },
    {
     "name": "stderr",
     "output_type": "stream",
     "text": [
      "Simulation Progress: 100%|██████████| 500000/500000 [02:36<00:00, 3187.50it/s]\n"
     ]
    },
    {
     "name": "stdout",
     "output_type": "stream",
     "text": [
      "Partition 178 completed, convergence counter: 42469\n"
     ]
    },
    {
     "name": "stderr",
     "output_type": "stream",
     "text": [
      "Simulation Progress: 100%|██████████| 500000/500000 [02:36<00:00, 3197.61it/s]\n"
     ]
    },
    {
     "name": "stdout",
     "output_type": "stream",
     "text": [
      "Partition 179 completed, convergence counter: 59438\n"
     ]
    },
    {
     "name": "stderr",
     "output_type": "stream",
     "text": [
      "Simulation Progress: 100%|██████████| 500000/500000 [02:29<00:00, 3341.43it/s]\n"
     ]
    },
    {
     "name": "stdout",
     "output_type": "stream",
     "text": [
      "Partition 180 completed, convergence counter: 2881\n"
     ]
    },
    {
     "name": "stderr",
     "output_type": "stream",
     "text": [
      "Simulation Progress: 100%|██████████| 500000/500000 [02:37<00:00, 3178.81it/s]\n"
     ]
    },
    {
     "name": "stdout",
     "output_type": "stream",
     "text": [
      "Partition 181 completed, convergence counter: 490\n"
     ]
    },
    {
     "name": "stderr",
     "output_type": "stream",
     "text": [
      "Simulation Progress: 100%|██████████| 500000/500000 [02:35<00:00, 3209.09it/s]\n"
     ]
    },
    {
     "name": "stdout",
     "output_type": "stream",
     "text": [
      "Partition 182 completed, convergence counter: 10276\n"
     ]
    },
    {
     "name": "stderr",
     "output_type": "stream",
     "text": [
      "Simulation Progress: 100%|██████████| 500000/500000 [02:40<00:00, 3114.97it/s]\n"
     ]
    },
    {
     "name": "stdout",
     "output_type": "stream",
     "text": [
      "Partition 183 completed, convergence counter: 182101\n"
     ]
    },
    {
     "name": "stderr",
     "output_type": "stream",
     "text": [
      "Simulation Progress: 100%|██████████| 500000/500000 [02:40<00:00, 3115.54it/s]\n"
     ]
    },
    {
     "name": "stdout",
     "output_type": "stream",
     "text": [
      "Partition 184 completed, convergence counter: 762\n"
     ]
    },
    {
     "name": "stderr",
     "output_type": "stream",
     "text": [
      "Simulation Progress: 100%|██████████| 500000/500000 [02:39<00:00, 3141.71it/s]\n"
     ]
    },
    {
     "name": "stdout",
     "output_type": "stream",
     "text": [
      "Partition 185 completed, convergence counter: 33829\n"
     ]
    },
    {
     "name": "stderr",
     "output_type": "stream",
     "text": [
      "Simulation Progress: 100%|██████████| 500000/500000 [02:26<00:00, 3411.96it/s]\n"
     ]
    },
    {
     "name": "stdout",
     "output_type": "stream",
     "text": [
      "Partition 186 completed, convergence counter: 9237\n"
     ]
    },
    {
     "name": "stderr",
     "output_type": "stream",
     "text": [
      "Simulation Progress: 100%|██████████| 500000/500000 [02:25<00:00, 3439.04it/s]\n"
     ]
    },
    {
     "name": "stdout",
     "output_type": "stream",
     "text": [
      "Partition 187 completed, convergence counter: 85884\n"
     ]
    },
    {
     "name": "stderr",
     "output_type": "stream",
     "text": [
      "Simulation Progress: 100%|██████████| 500000/500000 [02:17<00:00, 3642.43it/s]\n"
     ]
    },
    {
     "name": "stdout",
     "output_type": "stream",
     "text": [
      "Partition 188 completed, convergence counter: 5676\n"
     ]
    },
    {
     "name": "stderr",
     "output_type": "stream",
     "text": [
      "Simulation Progress: 100%|██████████| 500000/500000 [02:20<00:00, 3546.54it/s]\n"
     ]
    },
    {
     "name": "stdout",
     "output_type": "stream",
     "text": [
      "Partition 189 completed, convergence counter: 68412\n"
     ]
    },
    {
     "name": "stderr",
     "output_type": "stream",
     "text": [
      "Simulation Progress: 100%|██████████| 500000/500000 [02:39<00:00, 3143.28it/s]\n"
     ]
    },
    {
     "name": "stdout",
     "output_type": "stream",
     "text": [
      "Partition 190 completed, convergence counter: 6239\n"
     ]
    },
    {
     "name": "stderr",
     "output_type": "stream",
     "text": [
      "Simulation Progress: 100%|██████████| 500000/500000 [02:34<00:00, 3241.26it/s]\n"
     ]
    },
    {
     "name": "stdout",
     "output_type": "stream",
     "text": [
      "Partition 191 completed, convergence counter: 13602\n"
     ]
    },
    {
     "name": "stderr",
     "output_type": "stream",
     "text": [
      "Simulation Progress: 100%|██████████| 500000/500000 [02:30<00:00, 3329.23it/s]\n"
     ]
    },
    {
     "name": "stdout",
     "output_type": "stream",
     "text": [
      "Partition 192 completed, convergence counter: 261842\n"
     ]
    },
    {
     "name": "stderr",
     "output_type": "stream",
     "text": [
      "Simulation Progress: 100%|██████████| 500000/500000 [02:33<00:00, 3264.60it/s]\n"
     ]
    },
    {
     "name": "stdout",
     "output_type": "stream",
     "text": [
      "Partition 193 completed, convergence counter: 8847\n"
     ]
    },
    {
     "name": "stderr",
     "output_type": "stream",
     "text": [
      "Simulation Progress: 100%|██████████| 500000/500000 [02:33<00:00, 3262.08it/s]\n"
     ]
    },
    {
     "name": "stdout",
     "output_type": "stream",
     "text": [
      "Partition 194 completed, convergence counter: 35286\n"
     ]
    },
    {
     "name": "stderr",
     "output_type": "stream",
     "text": [
      "Simulation Progress: 100%|██████████| 500000/500000 [02:31<00:00, 3307.46it/s]\n"
     ]
    },
    {
     "name": "stdout",
     "output_type": "stream",
     "text": [
      "Partition 195 completed, convergence counter: 73170\n"
     ]
    },
    {
     "name": "stderr",
     "output_type": "stream",
     "text": [
      "Simulation Progress: 100%|██████████| 500000/500000 [02:44<00:00, 3041.59it/s]\n"
     ]
    },
    {
     "name": "stdout",
     "output_type": "stream",
     "text": [
      "Partition 196 completed, convergence counter: 65218\n"
     ]
    },
    {
     "name": "stderr",
     "output_type": "stream",
     "text": [
      "Simulation Progress: 100%|██████████| 500000/500000 [02:43<00:00, 3062.18it/s]\n"
     ]
    },
    {
     "name": "stdout",
     "output_type": "stream",
     "text": [
      "Partition 197 completed, convergence counter: 33647\n"
     ]
    },
    {
     "name": "stderr",
     "output_type": "stream",
     "text": [
      "Simulation Progress: 100%|██████████| 500000/500000 [02:49<00:00, 2956.94it/s]\n"
     ]
    },
    {
     "name": "stdout",
     "output_type": "stream",
     "text": [
      "Partition 198 completed, convergence counter: 166804\n"
     ]
    },
    {
     "name": "stderr",
     "output_type": "stream",
     "text": [
      "Simulation Progress: 100%|██████████| 500000/500000 [02:36<00:00, 3185.87it/s]\n"
     ]
    },
    {
     "name": "stdout",
     "output_type": "stream",
     "text": [
      "Partition 199 completed, convergence counter: 12696\n"
     ]
    },
    {
     "name": "stderr",
     "output_type": "stream",
     "text": [
      "Simulation Progress: 100%|██████████| 500000/500000 [02:46<00:00, 3006.64it/s]\n"
     ]
    },
    {
     "name": "stdout",
     "output_type": "stream",
     "text": [
      "Partition 200 completed, convergence counter: 120409\n"
     ]
    },
    {
     "name": "stderr",
     "output_type": "stream",
     "text": [
      "Simulation Progress: 100%|██████████| 500000/500000 [02:37<00:00, 3182.92it/s]\n"
     ]
    },
    {
     "name": "stdout",
     "output_type": "stream",
     "text": [
      "Partition 201 completed, convergence counter: 4833\n"
     ]
    },
    {
     "name": "stderr",
     "output_type": "stream",
     "text": [
      "Simulation Progress: 100%|██████████| 500000/500000 [02:44<00:00, 3045.27it/s]\n"
     ]
    },
    {
     "name": "stdout",
     "output_type": "stream",
     "text": [
      "Partition 202 completed, convergence counter: 76294\n"
     ]
    },
    {
     "name": "stderr",
     "output_type": "stream",
     "text": [
      "Simulation Progress: 100%|██████████| 500000/500000 [02:59<00:00, 2783.27it/s]\n"
     ]
    },
    {
     "name": "stdout",
     "output_type": "stream",
     "text": [
      "Partition 203 completed, convergence counter: 118855\n"
     ]
    },
    {
     "name": "stderr",
     "output_type": "stream",
     "text": [
      "Simulation Progress: 100%|██████████| 500000/500000 [02:47<00:00, 2983.12it/s]\n"
     ]
    },
    {
     "name": "stdout",
     "output_type": "stream",
     "text": [
      "Partition 204 completed, convergence counter: 7587\n"
     ]
    },
    {
     "name": "stderr",
     "output_type": "stream",
     "text": [
      "Simulation Progress: 100%|██████████| 500000/500000 [03:00<00:00, 2765.62it/s]\n"
     ]
    },
    {
     "name": "stdout",
     "output_type": "stream",
     "text": [
      "Partition 205 completed, convergence counter: 3150\n"
     ]
    },
    {
     "name": "stderr",
     "output_type": "stream",
     "text": [
      "Simulation Progress: 100%|██████████| 500000/500000 [03:03<00:00, 2725.32it/s]\n"
     ]
    },
    {
     "name": "stdout",
     "output_type": "stream",
     "text": [
      "Partition 206 completed, convergence counter: 55246\n"
     ]
    },
    {
     "name": "stderr",
     "output_type": "stream",
     "text": [
      "Simulation Progress: 100%|██████████| 500000/500000 [02:57<00:00, 2818.63it/s]\n"
     ]
    },
    {
     "name": "stdout",
     "output_type": "stream",
     "text": [
      "Partition 207 completed, convergence counter: 73792\n"
     ]
    },
    {
     "name": "stderr",
     "output_type": "stream",
     "text": [
      "Simulation Progress: 100%|██████████| 500000/500000 [02:54<00:00, 2858.06it/s]\n"
     ]
    },
    {
     "name": "stdout",
     "output_type": "stream",
     "text": [
      "Partition 208 completed, convergence counter: 19169\n"
     ]
    },
    {
     "name": "stderr",
     "output_type": "stream",
     "text": [
      "Simulation Progress: 100%|██████████| 500000/500000 [02:46<00:00, 3001.25it/s]\n"
     ]
    },
    {
     "name": "stdout",
     "output_type": "stream",
     "text": [
      "Partition 209 completed, convergence counter: 5693\n"
     ]
    },
    {
     "name": "stderr",
     "output_type": "stream",
     "text": [
      "Simulation Progress: 100%|██████████| 500000/500000 [02:58<00:00, 2794.42it/s]\n"
     ]
    },
    {
     "name": "stdout",
     "output_type": "stream",
     "text": [
      "Partition 210 completed, convergence counter: 28255\n"
     ]
    },
    {
     "name": "stderr",
     "output_type": "stream",
     "text": [
      "Simulation Progress: 100%|██████████| 500000/500000 [02:37<00:00, 3175.34it/s]\n"
     ]
    },
    {
     "name": "stdout",
     "output_type": "stream",
     "text": [
      "Partition 211 completed, convergence counter: 3329\n"
     ]
    },
    {
     "name": "stderr",
     "output_type": "stream",
     "text": [
      "Simulation Progress: 100%|██████████| 500000/500000 [03:12<00:00, 2600.86it/s]\n"
     ]
    },
    {
     "name": "stdout",
     "output_type": "stream",
     "text": [
      "Partition 212 completed, convergence counter: 75\n"
     ]
    },
    {
     "name": "stderr",
     "output_type": "stream",
     "text": [
      "Simulation Progress: 100%|██████████| 500000/500000 [03:00<00:00, 2769.37it/s]\n"
     ]
    },
    {
     "name": "stdout",
     "output_type": "stream",
     "text": [
      "Partition 213 completed, convergence counter: 43141\n"
     ]
    },
    {
     "name": "stderr",
     "output_type": "stream",
     "text": [
      "Simulation Progress: 100%|██████████| 500000/500000 [02:58<00:00, 2802.67it/s]\n"
     ]
    },
    {
     "name": "stdout",
     "output_type": "stream",
     "text": [
      "Partition 214 completed, convergence counter: 11962\n"
     ]
    },
    {
     "name": "stderr",
     "output_type": "stream",
     "text": [
      "Simulation Progress: 100%|██████████| 500000/500000 [02:45<00:00, 3016.17it/s]\n"
     ]
    },
    {
     "name": "stdout",
     "output_type": "stream",
     "text": [
      "Partition 215 completed, convergence counter: 8320\n"
     ]
    },
    {
     "name": "stderr",
     "output_type": "stream",
     "text": [
      "Simulation Progress: 100%|██████████| 500000/500000 [02:37<00:00, 3173.44it/s]\n"
     ]
    },
    {
     "name": "stdout",
     "output_type": "stream",
     "text": [
      "Partition 216 completed, convergence counter: 12731\n"
     ]
    },
    {
     "name": "stderr",
     "output_type": "stream",
     "text": [
      "Simulation Progress: 100%|██████████| 500000/500000 [02:46<00:00, 3005.54it/s]\n"
     ]
    },
    {
     "name": "stdout",
     "output_type": "stream",
     "text": [
      "Partition 217 completed, convergence counter: 2212\n"
     ]
    },
    {
     "name": "stderr",
     "output_type": "stream",
     "text": [
      "Simulation Progress: 100%|██████████| 500000/500000 [02:40<00:00, 3112.58it/s]\n"
     ]
    },
    {
     "name": "stdout",
     "output_type": "stream",
     "text": [
      "Partition 218 completed, convergence counter: 27912\n"
     ]
    },
    {
     "name": "stderr",
     "output_type": "stream",
     "text": [
      "Simulation Progress: 100%|██████████| 500000/500000 [02:48<00:00, 2959.14it/s]\n"
     ]
    },
    {
     "name": "stdout",
     "output_type": "stream",
     "text": [
      "Partition 219 completed, convergence counter: 5855\n"
     ]
    },
    {
     "name": "stderr",
     "output_type": "stream",
     "text": [
      "Simulation Progress: 100%|██████████| 500000/500000 [02:43<00:00, 3067.20it/s]\n"
     ]
    },
    {
     "name": "stdout",
     "output_type": "stream",
     "text": [
      "Partition 220 completed, convergence counter: 20487\n"
     ]
    },
    {
     "name": "stderr",
     "output_type": "stream",
     "text": [
      "Simulation Progress: 100%|██████████| 500000/500000 [02:36<00:00, 3198.75it/s]\n"
     ]
    },
    {
     "name": "stdout",
     "output_type": "stream",
     "text": [
      "Partition 221 completed, convergence counter: 1496\n"
     ]
    },
    {
     "name": "stderr",
     "output_type": "stream",
     "text": [
      "Simulation Progress: 100%|██████████| 500000/500000 [02:36<00:00, 3196.67it/s]\n"
     ]
    },
    {
     "name": "stdout",
     "output_type": "stream",
     "text": [
      "Partition 222 completed, convergence counter: 2025\n"
     ]
    },
    {
     "name": "stderr",
     "output_type": "stream",
     "text": [
      "Simulation Progress: 100%|██████████| 500000/500000 [02:42<00:00, 3082.80it/s]\n"
     ]
    },
    {
     "name": "stdout",
     "output_type": "stream",
     "text": [
      "Partition 223 completed, convergence counter: 12673\n"
     ]
    },
    {
     "name": "stderr",
     "output_type": "stream",
     "text": [
      "Simulation Progress: 100%|██████████| 500000/500000 [02:25<00:00, 3432.64it/s]\n"
     ]
    },
    {
     "name": "stdout",
     "output_type": "stream",
     "text": [
      "Partition 224 completed, convergence counter: 65892\n"
     ]
    },
    {
     "name": "stderr",
     "output_type": "stream",
     "text": [
      "Simulation Progress: 100%|██████████| 500000/500000 [02:20<00:00, 3549.00it/s]\n"
     ]
    },
    {
     "name": "stdout",
     "output_type": "stream",
     "text": [
      "Partition 225 completed, convergence counter: 17941\n"
     ]
    },
    {
     "name": "stderr",
     "output_type": "stream",
     "text": [
      "Simulation Progress: 100%|██████████| 500000/500000 [34:57<00:00, 238.34it/s]  \n"
     ]
    },
    {
     "name": "stdout",
     "output_type": "stream",
     "text": [
      "Partition 226 completed, convergence counter: 4073\n"
     ]
    },
    {
     "name": "stderr",
     "output_type": "stream",
     "text": [
      "Simulation Progress: 100%|██████████| 500000/500000 [33:13<00:00, 250.80it/s]  \n"
     ]
    },
    {
     "name": "stdout",
     "output_type": "stream",
     "text": [
      "Partition 227 completed, convergence counter: 4533\n"
     ]
    },
    {
     "name": "stderr",
     "output_type": "stream",
     "text": [
      "Simulation Progress: 100%|██████████| 500000/500000 [43:13<00:00, 192.77it/s]  \n"
     ]
    },
    {
     "name": "stdout",
     "output_type": "stream",
     "text": [
      "Partition 228 completed, convergence counter: 62930\n"
     ]
    },
    {
     "name": "stderr",
     "output_type": "stream",
     "text": [
      "Simulation Progress: 100%|██████████| 500000/500000 [02:18<00:00, 3602.01it/s]\n"
     ]
    },
    {
     "name": "stdout",
     "output_type": "stream",
     "text": [
      "Partition 229 completed, convergence counter: 132397\n"
     ]
    },
    {
     "name": "stderr",
     "output_type": "stream",
     "text": [
      "Simulation Progress: 100%|██████████| 500000/500000 [02:21<00:00, 3541.47it/s]\n"
     ]
    },
    {
     "name": "stdout",
     "output_type": "stream",
     "text": [
      "Partition 230 completed, convergence counter: 7562\n"
     ]
    },
    {
     "name": "stderr",
     "output_type": "stream",
     "text": [
      "Simulation Progress: 100%|██████████| 500000/500000 [02:38<00:00, 3146.71it/s]\n"
     ]
    },
    {
     "name": "stdout",
     "output_type": "stream",
     "text": [
      "Partition 231 completed, convergence counter: 22993\n"
     ]
    },
    {
     "name": "stderr",
     "output_type": "stream",
     "text": [
      "Simulation Progress: 100%|██████████| 500000/500000 [02:38<00:00, 3155.26it/s]\n"
     ]
    },
    {
     "name": "stdout",
     "output_type": "stream",
     "text": [
      "Partition 232 completed, convergence counter: 196635\n"
     ]
    },
    {
     "name": "stderr",
     "output_type": "stream",
     "text": [
      "Simulation Progress: 100%|██████████| 500000/500000 [02:40<00:00, 3109.65it/s]\n"
     ]
    },
    {
     "name": "stdout",
     "output_type": "stream",
     "text": [
      "Partition 233 completed, convergence counter: 1531\n"
     ]
    },
    {
     "name": "stderr",
     "output_type": "stream",
     "text": [
      "Simulation Progress: 100%|██████████| 500000/500000 [02:36<00:00, 3189.84it/s]\n"
     ]
    },
    {
     "name": "stdout",
     "output_type": "stream",
     "text": [
      "Partition 234 completed, convergence counter: 1144\n"
     ]
    },
    {
     "name": "stderr",
     "output_type": "stream",
     "text": [
      "Simulation Progress: 100%|██████████| 500000/500000 [02:37<00:00, 3176.78it/s]\n"
     ]
    },
    {
     "name": "stdout",
     "output_type": "stream",
     "text": [
      "Partition 235 completed, convergence counter: 15914\n"
     ]
    },
    {
     "name": "stderr",
     "output_type": "stream",
     "text": [
      "Simulation Progress: 100%|██████████| 500000/500000 [02:30<00:00, 3322.11it/s]\n"
     ]
    },
    {
     "name": "stdout",
     "output_type": "stream",
     "text": [
      "Partition 236 completed, convergence counter: 263\n"
     ]
    },
    {
     "name": "stderr",
     "output_type": "stream",
     "text": [
      "Simulation Progress: 100%|██████████| 500000/500000 [02:29<00:00, 3353.90it/s]\n"
     ]
    },
    {
     "name": "stdout",
     "output_type": "stream",
     "text": [
      "Partition 237 completed, convergence counter: 1055\n"
     ]
    },
    {
     "name": "stderr",
     "output_type": "stream",
     "text": [
      "Simulation Progress: 100%|██████████| 500000/500000 [02:29<00:00, 3337.97it/s]\n"
     ]
    },
    {
     "name": "stdout",
     "output_type": "stream",
     "text": [
      "Partition 238 completed, convergence counter: 3336\n"
     ]
    },
    {
     "name": "stderr",
     "output_type": "stream",
     "text": [
      "Simulation Progress: 100%|██████████| 500000/500000 [02:39<00:00, 3128.54it/s]\n"
     ]
    },
    {
     "name": "stdout",
     "output_type": "stream",
     "text": [
      "Partition 239 completed, convergence counter: 179\n"
     ]
    },
    {
     "name": "stderr",
     "output_type": "stream",
     "text": [
      "Simulation Progress: 100%|██████████| 500000/500000 [02:29<00:00, 3337.57it/s]\n"
     ]
    },
    {
     "name": "stdout",
     "output_type": "stream",
     "text": [
      "Partition 240 completed, convergence counter: 3706\n"
     ]
    },
    {
     "name": "stderr",
     "output_type": "stream",
     "text": [
      "Simulation Progress: 100%|██████████| 500000/500000 [02:24<00:00, 3463.20it/s]\n"
     ]
    },
    {
     "name": "stdout",
     "output_type": "stream",
     "text": [
      "Partition 241 completed, convergence counter: 229829\n"
     ]
    },
    {
     "name": "stderr",
     "output_type": "stream",
     "text": [
      "Simulation Progress: 100%|██████████| 500000/500000 [02:26<00:00, 3410.77it/s]\n"
     ]
    },
    {
     "name": "stdout",
     "output_type": "stream",
     "text": [
      "Partition 242 completed, convergence counter: 354\n"
     ]
    },
    {
     "name": "stderr",
     "output_type": "stream",
     "text": [
      "Simulation Progress: 100%|██████████| 500000/500000 [02:18<00:00, 3615.09it/s]\n"
     ]
    },
    {
     "name": "stdout",
     "output_type": "stream",
     "text": [
      "Partition 243 completed, convergence counter: 1397\n"
     ]
    },
    {
     "name": "stderr",
     "output_type": "stream",
     "text": [
      "Simulation Progress: 100%|██████████| 500000/500000 [02:23<00:00, 3485.79it/s]\n"
     ]
    },
    {
     "name": "stdout",
     "output_type": "stream",
     "text": [
      "Partition 244 completed, convergence counter: 125874\n"
     ]
    },
    {
     "name": "stderr",
     "output_type": "stream",
     "text": [
      "Simulation Progress: 100%|██████████| 500000/500000 [02:36<00:00, 3199.11it/s]\n"
     ]
    },
    {
     "name": "stdout",
     "output_type": "stream",
     "text": [
      "Partition 245 completed, convergence counter: 28665\n"
     ]
    },
    {
     "name": "stderr",
     "output_type": "stream",
     "text": [
      "Simulation Progress: 100%|██████████| 500000/500000 [02:33<00:00, 3251.68it/s]\n"
     ]
    },
    {
     "name": "stdout",
     "output_type": "stream",
     "text": [
      "Partition 246 completed, convergence counter: 4409\n"
     ]
    },
    {
     "name": "stderr",
     "output_type": "stream",
     "text": [
      "Simulation Progress: 100%|██████████| 500000/500000 [02:22<00:00, 3507.78it/s]\n"
     ]
    },
    {
     "name": "stdout",
     "output_type": "stream",
     "text": [
      "Partition 247 completed, convergence counter: 482\n"
     ]
    },
    {
     "name": "stderr",
     "output_type": "stream",
     "text": [
      "Simulation Progress: 100%|██████████| 500000/500000 [02:22<00:00, 3504.34it/s]\n"
     ]
    },
    {
     "name": "stdout",
     "output_type": "stream",
     "text": [
      "Partition 248 completed, convergence counter: 168\n"
     ]
    },
    {
     "name": "stderr",
     "output_type": "stream",
     "text": [
      "Simulation Progress: 100%|██████████| 500000/500000 [02:23<00:00, 3488.45it/s]\n"
     ]
    },
    {
     "name": "stdout",
     "output_type": "stream",
     "text": [
      "Partition 249 completed, convergence counter: 10384\n"
     ]
    },
    {
     "name": "stderr",
     "output_type": "stream",
     "text": [
      "Simulation Progress: 100%|██████████| 500000/500000 [02:19<00:00, 3583.31it/s]\n"
     ]
    },
    {
     "name": "stdout",
     "output_type": "stream",
     "text": [
      "Partition 250 completed, convergence counter: 17019\n"
     ]
    },
    {
     "name": "stderr",
     "output_type": "stream",
     "text": [
      "Simulation Progress: 100%|██████████| 500000/500000 [02:29<00:00, 3352.00it/s]\n"
     ]
    },
    {
     "name": "stdout",
     "output_type": "stream",
     "text": [
      "Partition 251 completed, convergence counter: 9398\n"
     ]
    },
    {
     "name": "stderr",
     "output_type": "stream",
     "text": [
      "Simulation Progress: 100%|██████████| 500000/500000 [02:23<00:00, 3472.28it/s]\n"
     ]
    },
    {
     "name": "stdout",
     "output_type": "stream",
     "text": [
      "Partition 252 completed, convergence counter: 104113\n"
     ]
    },
    {
     "name": "stderr",
     "output_type": "stream",
     "text": [
      "Simulation Progress: 100%|██████████| 500000/500000 [02:27<00:00, 3396.30it/s]\n"
     ]
    },
    {
     "name": "stdout",
     "output_type": "stream",
     "text": [
      "Partition 253 completed, convergence counter: 29235\n"
     ]
    },
    {
     "name": "stderr",
     "output_type": "stream",
     "text": [
      "Simulation Progress: 100%|██████████| 500000/500000 [02:29<00:00, 3336.10it/s]\n"
     ]
    },
    {
     "name": "stdout",
     "output_type": "stream",
     "text": [
      "Partition 254 completed, convergence counter: 2615\n"
     ]
    },
    {
     "name": "stderr",
     "output_type": "stream",
     "text": [
      "Simulation Progress: 100%|██████████| 500000/500000 [02:40<00:00, 3110.95it/s]\n"
     ]
    },
    {
     "name": "stdout",
     "output_type": "stream",
     "text": [
      "Partition 255 completed, convergence counter: 4650\n"
     ]
    },
    {
     "name": "stderr",
     "output_type": "stream",
     "text": [
      "Simulation Progress: 100%|██████████| 500000/500000 [02:30<00:00, 3327.13it/s]\n"
     ]
    },
    {
     "name": "stdout",
     "output_type": "stream",
     "text": [
      "Partition 256 completed, convergence counter: 1250\n"
     ]
    },
    {
     "name": "stderr",
     "output_type": "stream",
     "text": [
      "Simulation Progress: 100%|██████████| 500000/500000 [02:33<00:00, 3253.16it/s]\n"
     ]
    },
    {
     "name": "stdout",
     "output_type": "stream",
     "text": [
      "Partition 257 completed, convergence counter: 8388\n"
     ]
    },
    {
     "name": "stderr",
     "output_type": "stream",
     "text": [
      "Simulation Progress: 100%|██████████| 500000/500000 [02:26<00:00, 3408.65it/s]\n"
     ]
    },
    {
     "name": "stdout",
     "output_type": "stream",
     "text": [
      "Partition 258 completed, convergence counter: 108650\n"
     ]
    },
    {
     "name": "stderr",
     "output_type": "stream",
     "text": [
      "Simulation Progress: 100%|██████████| 500000/500000 [02:26<00:00, 3415.80it/s]\n"
     ]
    },
    {
     "name": "stdout",
     "output_type": "stream",
     "text": [
      "Partition 259 completed, convergence counter: 188901\n"
     ]
    },
    {
     "name": "stderr",
     "output_type": "stream",
     "text": [
      "Simulation Progress: 100%|██████████| 500000/500000 [02:37<00:00, 3182.86it/s]\n"
     ]
    },
    {
     "name": "stdout",
     "output_type": "stream",
     "text": [
      "Partition 260 completed, convergence counter: 25454\n"
     ]
    },
    {
     "name": "stderr",
     "output_type": "stream",
     "text": [
      "Simulation Progress: 100%|██████████| 500000/500000 [13:34<00:00, 613.86it/s] \n"
     ]
    },
    {
     "name": "stdout",
     "output_type": "stream",
     "text": [
      "Partition 261 completed, convergence counter: 5619\n"
     ]
    },
    {
     "name": "stderr",
     "output_type": "stream",
     "text": [
      "Simulation Progress: 100%|██████████| 500000/500000 [02:22<00:00, 3504.46it/s]\n"
     ]
    },
    {
     "name": "stdout",
     "output_type": "stream",
     "text": [
      "Partition 262 completed, convergence counter: 345780\n"
     ]
    },
    {
     "name": "stderr",
     "output_type": "stream",
     "text": [
      "Simulation Progress: 100%|██████████| 500000/500000 [02:23<00:00, 3485.60it/s]\n"
     ]
    },
    {
     "name": "stdout",
     "output_type": "stream",
     "text": [
      "Partition 263 completed, convergence counter: 11216\n"
     ]
    },
    {
     "name": "stderr",
     "output_type": "stream",
     "text": [
      "Simulation Progress: 100%|██████████| 500000/500000 [02:27<00:00, 3380.28it/s]\n"
     ]
    },
    {
     "name": "stdout",
     "output_type": "stream",
     "text": [
      "Partition 264 completed, convergence counter: 2040\n"
     ]
    },
    {
     "name": "stderr",
     "output_type": "stream",
     "text": [
      "Simulation Progress: 100%|██████████| 500000/500000 [02:29<00:00, 3352.14it/s]\n"
     ]
    },
    {
     "name": "stdout",
     "output_type": "stream",
     "text": [
      "Partition 265 completed, convergence counter: 6274\n"
     ]
    },
    {
     "name": "stderr",
     "output_type": "stream",
     "text": [
      "Simulation Progress: 100%|██████████| 500000/500000 [02:31<00:00, 3296.10it/s]\n"
     ]
    },
    {
     "name": "stdout",
     "output_type": "stream",
     "text": [
      "Partition 266 completed, convergence counter: 203857\n"
     ]
    },
    {
     "name": "stderr",
     "output_type": "stream",
     "text": [
      "Simulation Progress: 100%|██████████| 500000/500000 [02:44<00:00, 3041.21it/s]\n"
     ]
    },
    {
     "name": "stdout",
     "output_type": "stream",
     "text": [
      "Partition 267 completed, convergence counter: 191277\n"
     ]
    },
    {
     "name": "stderr",
     "output_type": "stream",
     "text": [
      "Simulation Progress: 100%|██████████| 500000/500000 [02:35<00:00, 3207.95it/s]\n"
     ]
    },
    {
     "name": "stdout",
     "output_type": "stream",
     "text": [
      "Partition 268 completed, convergence counter: 99498\n"
     ]
    },
    {
     "name": "stderr",
     "output_type": "stream",
     "text": [
      "Simulation Progress: 100%|██████████| 500000/500000 [02:38<00:00, 3157.29it/s]\n"
     ]
    },
    {
     "name": "stdout",
     "output_type": "stream",
     "text": [
      "Partition 269 completed, convergence counter: 6108\n"
     ]
    },
    {
     "name": "stderr",
     "output_type": "stream",
     "text": [
      "Simulation Progress: 100%|██████████| 500000/500000 [02:34<00:00, 3231.10it/s]\n"
     ]
    },
    {
     "name": "stdout",
     "output_type": "stream",
     "text": [
      "Partition 270 completed, convergence counter: 466343\n"
     ]
    },
    {
     "name": "stderr",
     "output_type": "stream",
     "text": [
      "Simulation Progress: 100%|██████████| 500000/500000 [02:33<00:00, 3261.68it/s]\n"
     ]
    },
    {
     "name": "stdout",
     "output_type": "stream",
     "text": [
      "Partition 271 completed, convergence counter: 96009\n"
     ]
    },
    {
     "name": "stderr",
     "output_type": "stream",
     "text": [
      "Simulation Progress: 100%|██████████| 500000/500000 [02:23<00:00, 3484.18it/s]\n"
     ]
    },
    {
     "name": "stdout",
     "output_type": "stream",
     "text": [
      "Partition 272 completed, convergence counter: 29853\n"
     ]
    },
    {
     "name": "stderr",
     "output_type": "stream",
     "text": [
      "Simulation Progress: 100%|██████████| 500000/500000 [02:22<00:00, 3516.08it/s]\n"
     ]
    },
    {
     "name": "stdout",
     "output_type": "stream",
     "text": [
      "Partition 273 completed, convergence counter: 50657\n"
     ]
    },
    {
     "name": "stderr",
     "output_type": "stream",
     "text": [
      "Simulation Progress: 100%|██████████| 500000/500000 [02:34<00:00, 3226.14it/s]\n"
     ]
    },
    {
     "name": "stdout",
     "output_type": "stream",
     "text": [
      "Partition 274 completed, convergence counter: 51366\n"
     ]
    },
    {
     "name": "stderr",
     "output_type": "stream",
     "text": [
      "Simulation Progress: 100%|██████████| 500000/500000 [02:30<00:00, 3318.38it/s]\n"
     ]
    },
    {
     "name": "stdout",
     "output_type": "stream",
     "text": [
      "Partition 275 completed, convergence counter: 20303\n"
     ]
    },
    {
     "name": "stderr",
     "output_type": "stream",
     "text": [
      "Simulation Progress: 100%|██████████| 500000/500000 [02:35<00:00, 3217.95it/s]\n"
     ]
    },
    {
     "name": "stdout",
     "output_type": "stream",
     "text": [
      "Partition 276 completed, convergence counter: 145770\n"
     ]
    },
    {
     "name": "stderr",
     "output_type": "stream",
     "text": [
      "Simulation Progress: 100%|██████████| 500000/500000 [02:37<00:00, 3170.42it/s]\n"
     ]
    },
    {
     "name": "stdout",
     "output_type": "stream",
     "text": [
      "Partition 277 completed, convergence counter: 236896\n"
     ]
    },
    {
     "name": "stderr",
     "output_type": "stream",
     "text": [
      "Simulation Progress: 100%|██████████| 500000/500000 [02:35<00:00, 3206.42it/s]\n"
     ]
    },
    {
     "name": "stdout",
     "output_type": "stream",
     "text": [
      "Partition 278 completed, convergence counter: 6418\n"
     ]
    },
    {
     "name": "stderr",
     "output_type": "stream",
     "text": [
      "Simulation Progress: 100%|██████████| 500000/500000 [08:34<00:00, 971.20it/s]  \n"
     ]
    },
    {
     "name": "stdout",
     "output_type": "stream",
     "text": [
      "Partition 279 completed, convergence counter: 14581\n"
     ]
    },
    {
     "name": "stderr",
     "output_type": "stream",
     "text": [
      "Simulation Progress: 100%|██████████| 500000/500000 [02:37<00:00, 3169.63it/s]\n"
     ]
    },
    {
     "name": "stdout",
     "output_type": "stream",
     "text": [
      "Partition 280 completed, convergence counter: 19418\n"
     ]
    },
    {
     "name": "stderr",
     "output_type": "stream",
     "text": [
      "Simulation Progress: 100%|██████████| 500000/500000 [02:32<00:00, 3274.55it/s]\n"
     ]
    },
    {
     "name": "stdout",
     "output_type": "stream",
     "text": [
      "Partition 281 completed, convergence counter: 154736\n"
     ]
    },
    {
     "name": "stderr",
     "output_type": "stream",
     "text": [
      "Simulation Progress: 100%|██████████| 500000/500000 [02:36<00:00, 3189.37it/s]\n"
     ]
    },
    {
     "name": "stdout",
     "output_type": "stream",
     "text": [
      "Partition 282 completed, convergence counter: 16174\n"
     ]
    },
    {
     "name": "stderr",
     "output_type": "stream",
     "text": [
      "Simulation Progress: 100%|██████████| 500000/500000 [02:37<00:00, 3168.37it/s]\n"
     ]
    },
    {
     "name": "stdout",
     "output_type": "stream",
     "text": [
      "Partition 283 completed, convergence counter: 13576\n"
     ]
    },
    {
     "name": "stderr",
     "output_type": "stream",
     "text": [
      "Simulation Progress: 100%|██████████| 500000/500000 [02:24<00:00, 3453.29it/s]\n"
     ]
    },
    {
     "name": "stdout",
     "output_type": "stream",
     "text": [
      "Partition 284 completed, convergence counter: 513519\n"
     ]
    },
    {
     "name": "stderr",
     "output_type": "stream",
     "text": [
      "Simulation Progress: 100%|██████████| 500000/500000 [02:34<00:00, 3240.87it/s]\n"
     ]
    },
    {
     "name": "stdout",
     "output_type": "stream",
     "text": [
      "Partition 285 completed, convergence counter: 74709\n"
     ]
    },
    {
     "name": "stderr",
     "output_type": "stream",
     "text": [
      "Simulation Progress: 100%|██████████| 500000/500000 [02:36<00:00, 3202.69it/s]\n"
     ]
    },
    {
     "name": "stdout",
     "output_type": "stream",
     "text": [
      "Partition 286 completed, convergence counter: 141113\n"
     ]
    },
    {
     "name": "stderr",
     "output_type": "stream",
     "text": [
      "Simulation Progress: 100%|██████████| 500000/500000 [02:31<00:00, 3297.04it/s]\n"
     ]
    },
    {
     "name": "stdout",
     "output_type": "stream",
     "text": [
      "Partition 287 completed, convergence counter: 13571\n"
     ]
    },
    {
     "name": "stderr",
     "output_type": "stream",
     "text": [
      "Simulation Progress: 100%|██████████| 500000/500000 [02:38<00:00, 3156.81it/s]\n"
     ]
    },
    {
     "name": "stdout",
     "output_type": "stream",
     "text": [
      "Partition 288 completed, convergence counter: 178151\n"
     ]
    },
    {
     "name": "stderr",
     "output_type": "stream",
     "text": [
      "Simulation Progress: 100%|██████████| 500000/500000 [02:36<00:00, 3192.95it/s]\n"
     ]
    },
    {
     "name": "stdout",
     "output_type": "stream",
     "text": [
      "Partition 289 completed, convergence counter: 93283\n"
     ]
    },
    {
     "name": "stderr",
     "output_type": "stream",
     "text": [
      "Simulation Progress: 100%|██████████| 500000/500000 [02:28<00:00, 3359.85it/s]\n"
     ]
    },
    {
     "name": "stdout",
     "output_type": "stream",
     "text": [
      "Partition 290 completed, convergence counter: 94410\n"
     ]
    },
    {
     "name": "stderr",
     "output_type": "stream",
     "text": [
      "Simulation Progress: 100%|██████████| 500000/500000 [02:28<00:00, 3369.60it/s]\n"
     ]
    },
    {
     "name": "stdout",
     "output_type": "stream",
     "text": [
      "Partition 291 completed, convergence counter: 10413\n"
     ]
    },
    {
     "name": "stderr",
     "output_type": "stream",
     "text": [
      "Simulation Progress: 100%|██████████| 500000/500000 [02:26<00:00, 3405.46it/s]\n"
     ]
    },
    {
     "name": "stdout",
     "output_type": "stream",
     "text": [
      "Partition 292 completed, convergence counter: 67953\n"
     ]
    },
    {
     "name": "stderr",
     "output_type": "stream",
     "text": [
      "Simulation Progress: 100%|██████████| 500000/500000 [02:41<00:00, 3091.86it/s]\n"
     ]
    },
    {
     "name": "stdout",
     "output_type": "stream",
     "text": [
      "Partition 293 completed, convergence counter: 25329\n"
     ]
    },
    {
     "name": "stderr",
     "output_type": "stream",
     "text": [
      "Simulation Progress: 100%|██████████| 500000/500000 [02:43<00:00, 3061.65it/s]\n"
     ]
    },
    {
     "name": "stdout",
     "output_type": "stream",
     "text": [
      "Partition 294 completed, convergence counter: 71651\n"
     ]
    },
    {
     "name": "stderr",
     "output_type": "stream",
     "text": [
      "Simulation Progress: 100%|██████████| 500000/500000 [02:39<00:00, 3130.11it/s]\n"
     ]
    },
    {
     "name": "stdout",
     "output_type": "stream",
     "text": [
      "Partition 295 completed, convergence counter: 27400\n"
     ]
    },
    {
     "name": "stderr",
     "output_type": "stream",
     "text": [
      "Simulation Progress: 100%|██████████| 500000/500000 [02:56<00:00, 2835.27it/s]\n"
     ]
    },
    {
     "name": "stdout",
     "output_type": "stream",
     "text": [
      "Partition 296 completed, convergence counter: 350605\n"
     ]
    },
    {
     "name": "stderr",
     "output_type": "stream",
     "text": [
      "Simulation Progress: 100%|██████████| 500000/500000 [02:22<00:00, 3519.44it/s]\n"
     ]
    },
    {
     "name": "stdout",
     "output_type": "stream",
     "text": [
      "Partition 297 completed, convergence counter: 80436\n"
     ]
    },
    {
     "name": "stderr",
     "output_type": "stream",
     "text": [
      "Simulation Progress: 100%|██████████| 500000/500000 [02:24<00:00, 3460.45it/s]\n"
     ]
    },
    {
     "name": "stdout",
     "output_type": "stream",
     "text": [
      "Partition 298 completed, convergence counter: 190231\n"
     ]
    },
    {
     "name": "stderr",
     "output_type": "stream",
     "text": [
      "Simulation Progress: 100%|██████████| 500000/500000 [02:21<00:00, 3537.43it/s]\n"
     ]
    },
    {
     "name": "stdout",
     "output_type": "stream",
     "text": [
      "Partition 299 completed, convergence counter: 179310\n"
     ]
    },
    {
     "name": "stderr",
     "output_type": "stream",
     "text": [
      "Simulation Progress: 100%|██████████| 500000/500000 [02:21<00:00, 3540.08it/s]\n"
     ]
    },
    {
     "name": "stdout",
     "output_type": "stream",
     "text": [
      "Partition 300 completed, convergence counter: 786\n"
     ]
    },
    {
     "name": "stderr",
     "output_type": "stream",
     "text": [
      "Simulation Progress: 100%|██████████| 500000/500000 [02:24<00:00, 3462.68it/s]\n"
     ]
    },
    {
     "name": "stdout",
     "output_type": "stream",
     "text": [
      "Partition 301 completed, convergence counter: 460597\n"
     ]
    },
    {
     "name": "stderr",
     "output_type": "stream",
     "text": [
      "Simulation Progress: 100%|██████████| 500000/500000 [02:26<00:00, 3408.99it/s]\n"
     ]
    },
    {
     "name": "stdout",
     "output_type": "stream",
     "text": [
      "Partition 302 completed, convergence counter: 960561\n"
     ]
    },
    {
     "name": "stderr",
     "output_type": "stream",
     "text": [
      "Simulation Progress: 100%|██████████| 500000/500000 [02:21<00:00, 3537.18it/s]\n"
     ]
    },
    {
     "name": "stdout",
     "output_type": "stream",
     "text": [
      "Partition 303 completed, convergence counter: 1460518\n"
     ]
    },
    {
     "ename": "FileNotFoundError",
     "evalue": "[Errno 2] No such file or directory: '/Users/mike/Documents/thesis/constrainedsim_sigma_u=0.1/config.npy'",
     "output_type": "error",
     "traceback": [
      "\u001b[0;31m---------------------------------------------------------------------------\u001b[0m",
      "\u001b[0;31mFileNotFoundError\u001b[0m                         Traceback (most recent call last)",
      "Cell \u001b[0;32mIn[2], line 28\u001b[0m\n\u001b[1;32m     25\u001b[0m     partitions \u001b[38;5;241m+\u001b[39m\u001b[38;5;241m=\u001b[39m \u001b[38;5;241m1\u001b[39m\n\u001b[1;32m     27\u001b[0m \u001b[38;5;66;03m# save config\u001b[39;00m\n\u001b[0;32m---> 28\u001b[0m np\u001b[38;5;241m.\u001b[39msave(\u001b[38;5;124m'\u001b[39m\u001b[38;5;124m/Users/mike/Documents/thesis/constrained\u001b[39m\u001b[38;5;124m'\u001b[39m \u001b[38;5;241m+\u001b[39m save_folder \u001b[38;5;241m+\u001b[39m \u001b[38;5;124m'\u001b[39m\u001b[38;5;124m/config.npy\u001b[39m\u001b[38;5;124m'\u001b[39m, config)\n",
      "File \u001b[0;32m~/anaconda3/envs/sts/lib/python3.12/site-packages/numpy/lib/npyio.py:542\u001b[0m, in \u001b[0;36msave\u001b[0;34m(file, arr, allow_pickle, fix_imports)\u001b[0m\n\u001b[1;32m    540\u001b[0m     \u001b[38;5;28;01mif\u001b[39;00m \u001b[38;5;129;01mnot\u001b[39;00m file\u001b[38;5;241m.\u001b[39mendswith(\u001b[38;5;124m'\u001b[39m\u001b[38;5;124m.npy\u001b[39m\u001b[38;5;124m'\u001b[39m):\n\u001b[1;32m    541\u001b[0m         file \u001b[38;5;241m=\u001b[39m file \u001b[38;5;241m+\u001b[39m \u001b[38;5;124m'\u001b[39m\u001b[38;5;124m.npy\u001b[39m\u001b[38;5;124m'\u001b[39m\n\u001b[0;32m--> 542\u001b[0m     file_ctx \u001b[38;5;241m=\u001b[39m \u001b[38;5;28mopen\u001b[39m(file, \u001b[38;5;124m\"\u001b[39m\u001b[38;5;124mwb\u001b[39m\u001b[38;5;124m\"\u001b[39m)\n\u001b[1;32m    544\u001b[0m \u001b[38;5;28;01mwith\u001b[39;00m file_ctx \u001b[38;5;28;01mas\u001b[39;00m fid:\n\u001b[1;32m    545\u001b[0m     arr \u001b[38;5;241m=\u001b[39m np\u001b[38;5;241m.\u001b[39masanyarray(arr)\n",
      "\u001b[0;31mFileNotFoundError\u001b[0m: [Errno 2] No such file or directory: '/Users/mike/Documents/thesis/constrainedsim_sigma_u=0.1/config.npy'"
     ]
    }
   ],
   "source": [
    "import os\n",
    "\n",
    "sigma_u_list = [0.1, 1, 10, 100]\n",
    "for sigma_u_ in sigma_u_list:\n",
    "    config = Config()\n",
    "    config.sigma_u = sigma_u_\n",
    "\n",
    "    save_folder = 'sim_sigma_u={0}'.format(sigma_u_)\n",
    "\n",
    "    _save_path = '/Users/mike/Documents/thesis/constrained/' + save_folder + '/data_part_0.npy'\n",
    "    if not os.path.exists(os.path.dirname(_save_path)):\n",
    "        os.makedirs(os.path.dirname(_save_path))\n",
    "    log, agents = simulate_constrained(config = config, T = 500000, save_path=_save_path)\n",
    "    # break\n",
    "    convergence_threshold = 1000000\n",
    "    convergence = 0\n",
    "    partitions = 1\n",
    "    while convergence < convergence_threshold:\n",
    "        save_path = f'/Users/mike/Documents/thesis/constrained/' + save_folder+ f'/data_part_{partitions}.npy'\n",
    "        log, agents = simulate_constrained(config = config, T=500000, continue_simulation=_save_path, save_path=save_path)\n",
    "        _save_path = save_path\n",
    "        \n",
    "        convergence = log['convergence_counter']\n",
    "        print(f\"Partition {partitions} completed, convergence counter: {convergence}\")\n",
    "        partitions += 1\n",
    "\n",
    "    # save config\n",
    "    np.save('/Users/mike/Documents/thesis/constrained' + save_folder + '/config.npy', config)"
   ]
  },
  {
   "cell_type": "markdown",
   "metadata": {},
   "source": [
    "### simulate unconstrained"
   ]
  },
  {
   "cell_type": "code",
   "execution_count": 3,
   "metadata": {},
   "outputs": [
    {
     "name": "stderr",
     "output_type": "stream",
     "text": [
      "Simulation Progress: 100%|██████████| 500000/500000 [01:43<00:00, 4838.58it/s]\n",
      "Simulation Progress: 100%|██████████| 500000/500000 [01:46<00:00, 4705.52it/s]\n"
     ]
    },
    {
     "name": "stdout",
     "output_type": "stream",
     "text": [
      "Partition 1 completed, convergence counter: 1123\n"
     ]
    },
    {
     "name": "stderr",
     "output_type": "stream",
     "text": [
      "Simulation Progress: 100%|██████████| 500000/500000 [01:51<00:00, 4498.97it/s]\n"
     ]
    },
    {
     "name": "stdout",
     "output_type": "stream",
     "text": [
      "Partition 2 completed, convergence counter: 193\n"
     ]
    },
    {
     "name": "stderr",
     "output_type": "stream",
     "text": [
      "Simulation Progress: 100%|██████████| 500000/500000 [01:49<00:00, 4553.11it/s]\n"
     ]
    },
    {
     "name": "stdout",
     "output_type": "stream",
     "text": [
      "Partition 3 completed, convergence counter: 2642\n"
     ]
    },
    {
     "name": "stderr",
     "output_type": "stream",
     "text": [
      "Simulation Progress: 100%|██████████| 500000/500000 [01:59<00:00, 4192.64it/s]\n"
     ]
    },
    {
     "name": "stdout",
     "output_type": "stream",
     "text": [
      "Partition 4 completed, convergence counter: 1936\n"
     ]
    },
    {
     "name": "stderr",
     "output_type": "stream",
     "text": [
      "Simulation Progress: 100%|██████████| 500000/500000 [01:53<00:00, 4392.14it/s]\n"
     ]
    },
    {
     "name": "stdout",
     "output_type": "stream",
     "text": [
      "Partition 5 completed, convergence counter: 16727\n"
     ]
    },
    {
     "name": "stderr",
     "output_type": "stream",
     "text": [
      "Simulation Progress: 100%|██████████| 500000/500000 [01:48<00:00, 4616.54it/s]\n"
     ]
    },
    {
     "name": "stdout",
     "output_type": "stream",
     "text": [
      "Partition 6 completed, convergence counter: 24590\n"
     ]
    },
    {
     "name": "stderr",
     "output_type": "stream",
     "text": [
      "Simulation Progress: 100%|██████████| 500000/500000 [01:58<00:00, 4208.84it/s]\n"
     ]
    },
    {
     "name": "stdout",
     "output_type": "stream",
     "text": [
      "Partition 7 completed, convergence counter: 61\n"
     ]
    },
    {
     "name": "stderr",
     "output_type": "stream",
     "text": [
      "Simulation Progress: 100%|██████████| 500000/500000 [02:04<00:00, 4021.75it/s]\n"
     ]
    },
    {
     "name": "stdout",
     "output_type": "stream",
     "text": [
      "Partition 8 completed, convergence counter: 9464\n"
     ]
    },
    {
     "name": "stderr",
     "output_type": "stream",
     "text": [
      "Simulation Progress: 100%|██████████| 500000/500000 [01:56<00:00, 4304.74it/s]\n"
     ]
    },
    {
     "name": "stdout",
     "output_type": "stream",
     "text": [
      "Partition 9 completed, convergence counter: 46174\n"
     ]
    },
    {
     "name": "stderr",
     "output_type": "stream",
     "text": [
      "Simulation Progress: 100%|██████████| 500000/500000 [01:59<00:00, 4194.50it/s]\n"
     ]
    },
    {
     "name": "stdout",
     "output_type": "stream",
     "text": [
      "Partition 10 completed, convergence counter: 1361\n"
     ]
    },
    {
     "name": "stderr",
     "output_type": "stream",
     "text": [
      "Simulation Progress: 100%|██████████| 500000/500000 [01:56<00:00, 4300.65it/s]\n"
     ]
    },
    {
     "name": "stdout",
     "output_type": "stream",
     "text": [
      "Partition 11 completed, convergence counter: 15350\n"
     ]
    },
    {
     "name": "stderr",
     "output_type": "stream",
     "text": [
      "Simulation Progress: 100%|██████████| 500000/500000 [01:59<00:00, 4190.54it/s]\n"
     ]
    },
    {
     "name": "stdout",
     "output_type": "stream",
     "text": [
      "Partition 12 completed, convergence counter: 78690\n"
     ]
    },
    {
     "name": "stderr",
     "output_type": "stream",
     "text": [
      "Simulation Progress: 100%|██████████| 500000/500000 [02:05<00:00, 3999.20it/s]\n"
     ]
    },
    {
     "name": "stdout",
     "output_type": "stream",
     "text": [
      "Partition 13 completed, convergence counter: 64420\n"
     ]
    },
    {
     "name": "stderr",
     "output_type": "stream",
     "text": [
      "Simulation Progress: 100%|██████████| 500000/500000 [02:08<00:00, 3892.65it/s]\n"
     ]
    },
    {
     "name": "stdout",
     "output_type": "stream",
     "text": [
      "Partition 14 completed, convergence counter: 244\n"
     ]
    },
    {
     "name": "stderr",
     "output_type": "stream",
     "text": [
      "Simulation Progress: 100%|██████████| 500000/500000 [02:09<00:00, 3851.70it/s]\n"
     ]
    },
    {
     "name": "stdout",
     "output_type": "stream",
     "text": [
      "Partition 15 completed, convergence counter: 9385\n"
     ]
    },
    {
     "name": "stderr",
     "output_type": "stream",
     "text": [
      "Simulation Progress: 100%|██████████| 500000/500000 [02:19<00:00, 3585.40it/s]\n"
     ]
    },
    {
     "name": "stdout",
     "output_type": "stream",
     "text": [
      "Partition 16 completed, convergence counter: 10444\n"
     ]
    },
    {
     "name": "stderr",
     "output_type": "stream",
     "text": [
      "Simulation Progress: 100%|██████████| 500000/500000 [02:04<00:00, 4018.84it/s]\n"
     ]
    },
    {
     "name": "stdout",
     "output_type": "stream",
     "text": [
      "Partition 17 completed, convergence counter: 8710\n"
     ]
    },
    {
     "name": "stderr",
     "output_type": "stream",
     "text": [
      "Simulation Progress: 100%|██████████| 500000/500000 [02:09<00:00, 3853.06it/s]\n"
     ]
    },
    {
     "name": "stdout",
     "output_type": "stream",
     "text": [
      "Partition 18 completed, convergence counter: 151290\n"
     ]
    },
    {
     "name": "stderr",
     "output_type": "stream",
     "text": [
      "Simulation Progress: 100%|██████████| 500000/500000 [02:18<00:00, 3612.96it/s]\n"
     ]
    },
    {
     "name": "stdout",
     "output_type": "stream",
     "text": [
      "Partition 19 completed, convergence counter: 44997\n"
     ]
    },
    {
     "name": "stderr",
     "output_type": "stream",
     "text": [
      "Simulation Progress: 100%|██████████| 500000/500000 [02:18<00:00, 3623.08it/s]\n"
     ]
    },
    {
     "name": "stdout",
     "output_type": "stream",
     "text": [
      "Partition 20 completed, convergence counter: 237604\n"
     ]
    },
    {
     "name": "stderr",
     "output_type": "stream",
     "text": [
      "Simulation Progress: 100%|██████████| 500000/500000 [02:04<00:00, 4028.46it/s]\n"
     ]
    },
    {
     "name": "stdout",
     "output_type": "stream",
     "text": [
      "Partition 21 completed, convergence counter: 89408\n"
     ]
    },
    {
     "name": "stderr",
     "output_type": "stream",
     "text": [
      "Simulation Progress: 100%|██████████| 500000/500000 [02:14<00:00, 3710.48it/s]\n"
     ]
    },
    {
     "name": "stdout",
     "output_type": "stream",
     "text": [
      "Partition 22 completed, convergence counter: 47075\n"
     ]
    },
    {
     "name": "stderr",
     "output_type": "stream",
     "text": [
      "Simulation Progress: 100%|██████████| 500000/500000 [02:17<00:00, 3643.38it/s]\n"
     ]
    },
    {
     "name": "stdout",
     "output_type": "stream",
     "text": [
      "Partition 23 completed, convergence counter: 190397\n"
     ]
    },
    {
     "name": "stderr",
     "output_type": "stream",
     "text": [
      "Simulation Progress: 100%|██████████| 500000/500000 [02:18<00:00, 3604.02it/s]\n"
     ]
    },
    {
     "name": "stdout",
     "output_type": "stream",
     "text": [
      "Partition 24 completed, convergence counter: 41343\n"
     ]
    },
    {
     "name": "stderr",
     "output_type": "stream",
     "text": [
      "Simulation Progress: 100%|██████████| 500000/500000 [02:18<00:00, 3616.31it/s]\n"
     ]
    },
    {
     "name": "stdout",
     "output_type": "stream",
     "text": [
      "Partition 25 completed, convergence counter: 230141\n"
     ]
    },
    {
     "name": "stderr",
     "output_type": "stream",
     "text": [
      "Simulation Progress: 100%|██████████| 500000/500000 [02:14<00:00, 3715.36it/s]\n"
     ]
    },
    {
     "name": "stdout",
     "output_type": "stream",
     "text": [
      "Partition 26 completed, convergence counter: 726317\n"
     ]
    },
    {
     "name": "stderr",
     "output_type": "stream",
     "text": [
      "Simulation Progress: 100%|██████████| 500000/500000 [02:06<00:00, 3947.86it/s]\n"
     ]
    },
    {
     "name": "stdout",
     "output_type": "stream",
     "text": [
      "Partition 27 completed, convergence counter: 335305\n"
     ]
    },
    {
     "name": "stderr",
     "output_type": "stream",
     "text": [
      "Simulation Progress: 100%|██████████| 500000/500000 [02:21<00:00, 3521.14it/s]\n"
     ]
    },
    {
     "name": "stdout",
     "output_type": "stream",
     "text": [
      "Partition 28 completed, convergence counter: 59225\n"
     ]
    },
    {
     "name": "stderr",
     "output_type": "stream",
     "text": [
      "Simulation Progress: 100%|██████████| 500000/500000 [02:05<00:00, 3976.05it/s]\n"
     ]
    },
    {
     "name": "stdout",
     "output_type": "stream",
     "text": [
      "Partition 29 completed, convergence counter: 557395\n"
     ]
    },
    {
     "name": "stderr",
     "output_type": "stream",
     "text": [
      "Simulation Progress: 100%|██████████| 500000/500000 [02:08<00:00, 3903.62it/s]\n"
     ]
    },
    {
     "name": "stdout",
     "output_type": "stream",
     "text": [
      "Partition 30 completed, convergence counter: 1055997\n"
     ]
    },
    {
     "name": "stderr",
     "output_type": "stream",
     "text": [
      "Simulation Progress: 100%|██████████| 500000/500000 [02:11<00:00, 3793.47it/s]\n"
     ]
    },
    {
     "name": "stdout",
     "output_type": "stream",
     "text": [
      "Partition 31 completed, convergence counter: 81627\n"
     ]
    },
    {
     "name": "stderr",
     "output_type": "stream",
     "text": [
      "Simulation Progress: 100%|██████████| 500000/500000 [02:11<00:00, 3814.97it/s]\n"
     ]
    },
    {
     "name": "stdout",
     "output_type": "stream",
     "text": [
      "Partition 32 completed, convergence counter: 580602\n"
     ]
    },
    {
     "name": "stderr",
     "output_type": "stream",
     "text": [
      "Simulation Progress: 100%|██████████| 500000/500000 [02:21<00:00, 3545.77it/s]\n"
     ]
    },
    {
     "name": "stdout",
     "output_type": "stream",
     "text": [
      "Partition 33 completed, convergence counter: 1079848\n"
     ]
    },
    {
     "name": "stderr",
     "output_type": "stream",
     "text": [
      "Simulation Progress: 100%|██████████| 500000/500000 [02:05<00:00, 3986.15it/s]\n"
     ]
    },
    {
     "name": "stdout",
     "output_type": "stream",
     "text": [
      "Partition 34 completed, convergence counter: 1579270\n"
     ]
    },
    {
     "name": "stderr",
     "output_type": "stream",
     "text": [
      "Simulation Progress: 100%|██████████| 500000/500000 [02:17<00:00, 3641.40it/s]\n"
     ]
    },
    {
     "name": "stdout",
     "output_type": "stream",
     "text": [
      "Partition 35 completed, convergence counter: 494529\n"
     ]
    },
    {
     "name": "stderr",
     "output_type": "stream",
     "text": [
      "Simulation Progress: 100%|██████████| 500000/500000 [02:26<00:00, 3420.85it/s]\n"
     ]
    },
    {
     "name": "stdout",
     "output_type": "stream",
     "text": [
      "Partition 36 completed, convergence counter: 182573\n"
     ]
    },
    {
     "name": "stderr",
     "output_type": "stream",
     "text": [
      "Simulation Progress: 100%|██████████| 500000/500000 [02:52<00:00, 2905.01it/s]\n"
     ]
    },
    {
     "name": "stdout",
     "output_type": "stream",
     "text": [
      "Partition 37 completed, convergence counter: 682273\n"
     ]
    },
    {
     "name": "stderr",
     "output_type": "stream",
     "text": [
      "Simulation Progress: 100%|██████████| 500000/500000 [02:54<00:00, 2866.24it/s]\n"
     ]
    },
    {
     "name": "stdout",
     "output_type": "stream",
     "text": [
      "Partition 38 completed, convergence counter: 1182038\n"
     ]
    },
    {
     "name": "stderr",
     "output_type": "stream",
     "text": [
      "Simulation Progress: 100%|██████████| 500000/500000 [02:27<00:00, 3385.22it/s]\n"
     ]
    },
    {
     "name": "stdout",
     "output_type": "stream",
     "text": [
      "Partition 39 completed, convergence counter: 1681834\n"
     ]
    },
    {
     "name": "stderr",
     "output_type": "stream",
     "text": [
      "Simulation Progress: 100%|██████████| 500000/500000 [02:21<00:00, 3540.81it/s]\n"
     ]
    },
    {
     "name": "stdout",
     "output_type": "stream",
     "text": [
      "Partition 40 completed, convergence counter: 2181645\n"
     ]
    },
    {
     "name": "stderr",
     "output_type": "stream",
     "text": [
      "Simulation Progress: 100%|██████████| 500000/500000 [02:28<00:00, 3367.50it/s]\n"
     ]
    },
    {
     "name": "stdout",
     "output_type": "stream",
     "text": [
      "Partition 41 completed, convergence counter: 2681515\n"
     ]
    },
    {
     "name": "stderr",
     "output_type": "stream",
     "text": [
      "Simulation Progress: 100%|██████████| 500000/500000 [02:54<00:00, 2857.32it/s]\n"
     ]
    },
    {
     "name": "stdout",
     "output_type": "stream",
     "text": [
      "Partition 42 completed, convergence counter: 3181373\n"
     ]
    },
    {
     "name": "stderr",
     "output_type": "stream",
     "text": [
      "Simulation Progress: 100%|██████████| 500000/500000 [02:29<00:00, 3334.78it/s]\n"
     ]
    },
    {
     "name": "stdout",
     "output_type": "stream",
     "text": [
      "Partition 43 completed, convergence counter: 3681297\n"
     ]
    },
    {
     "name": "stderr",
     "output_type": "stream",
     "text": [
      "Simulation Progress: 100%|██████████| 500000/500000 [02:56<00:00, 2832.63it/s]\n"
     ]
    },
    {
     "name": "stdout",
     "output_type": "stream",
     "text": [
      "Partition 44 completed, convergence counter: 63415\n"
     ]
    },
    {
     "name": "stderr",
     "output_type": "stream",
     "text": [
      "Simulation Progress: 100%|██████████| 500000/500000 [02:56<00:00, 2827.35it/s]\n"
     ]
    },
    {
     "name": "stdout",
     "output_type": "stream",
     "text": [
      "Partition 45 completed, convergence counter: 563367\n"
     ]
    },
    {
     "name": "stderr",
     "output_type": "stream",
     "text": [
      "Simulation Progress: 100%|██████████| 500000/500000 [02:20<00:00, 3549.44it/s]\n"
     ]
    },
    {
     "name": "stdout",
     "output_type": "stream",
     "text": [
      "Partition 46 completed, convergence counter: 1063324\n"
     ]
    },
    {
     "name": "stderr",
     "output_type": "stream",
     "text": [
      "Simulation Progress: 100%|██████████| 500000/500000 [02:52<00:00, 2903.03it/s]\n"
     ]
    },
    {
     "name": "stdout",
     "output_type": "stream",
     "text": [
      "Partition 47 completed, convergence counter: 1563305\n"
     ]
    },
    {
     "name": "stderr",
     "output_type": "stream",
     "text": [
      "Simulation Progress: 100%|██████████| 500000/500000 [02:48<00:00, 2966.79it/s]\n"
     ]
    },
    {
     "name": "stdout",
     "output_type": "stream",
     "text": [
      "Partition 48 completed, convergence counter: 2063277\n"
     ]
    },
    {
     "name": "stderr",
     "output_type": "stream",
     "text": [
      "Simulation Progress: 100%|██████████| 500000/500000 [02:48<00:00, 2970.19it/s]\n"
     ]
    },
    {
     "name": "stdout",
     "output_type": "stream",
     "text": [
      "Partition 49 completed, convergence counter: 350439\n"
     ]
    },
    {
     "name": "stderr",
     "output_type": "stream",
     "text": [
      "Simulation Progress: 100%|██████████| 500000/500000 [02:33<00:00, 3267.89it/s]\n"
     ]
    },
    {
     "name": "stdout",
     "output_type": "stream",
     "text": [
      "Partition 50 completed, convergence counter: 261769\n"
     ]
    },
    {
     "name": "stderr",
     "output_type": "stream",
     "text": [
      "Simulation Progress: 100%|██████████| 500000/500000 [02:20<00:00, 3558.27it/s]\n"
     ]
    },
    {
     "name": "stdout",
     "output_type": "stream",
     "text": [
      "Partition 51 completed, convergence counter: 179296\n"
     ]
    },
    {
     "name": "stderr",
     "output_type": "stream",
     "text": [
      "Simulation Progress: 100%|██████████| 500000/500000 [02:30<00:00, 3330.74it/s]\n"
     ]
    },
    {
     "name": "stdout",
     "output_type": "stream",
     "text": [
      "Partition 52 completed, convergence counter: 679285\n"
     ]
    },
    {
     "name": "stderr",
     "output_type": "stream",
     "text": [
      "Simulation Progress: 100%|██████████| 500000/500000 [02:08<00:00, 3889.82it/s]\n"
     ]
    },
    {
     "name": "stdout",
     "output_type": "stream",
     "text": [
      "Partition 53 completed, convergence counter: 247678\n"
     ]
    },
    {
     "name": "stderr",
     "output_type": "stream",
     "text": [
      "Simulation Progress: 100%|██████████| 500000/500000 [02:01<00:00, 4113.52it/s]\n"
     ]
    },
    {
     "name": "stdout",
     "output_type": "stream",
     "text": [
      "Partition 54 completed, convergence counter: 747674\n"
     ]
    },
    {
     "name": "stderr",
     "output_type": "stream",
     "text": [
      "Simulation Progress: 100%|██████████| 500000/500000 [02:14<00:00, 3716.40it/s]\n"
     ]
    },
    {
     "name": "stdout",
     "output_type": "stream",
     "text": [
      "Partition 55 completed, convergence counter: 1247672\n"
     ]
    },
    {
     "name": "stderr",
     "output_type": "stream",
     "text": [
      "Simulation Progress: 100%|██████████| 500000/500000 [02:15<00:00, 3698.88it/s]\n"
     ]
    },
    {
     "name": "stdout",
     "output_type": "stream",
     "text": [
      "Partition 56 completed, convergence counter: 1747671\n"
     ]
    },
    {
     "name": "stderr",
     "output_type": "stream",
     "text": [
      "Simulation Progress: 100%|██████████| 500000/500000 [02:20<00:00, 3555.73it/s]\n"
     ]
    },
    {
     "name": "stdout",
     "output_type": "stream",
     "text": [
      "Partition 57 completed, convergence counter: 2247669\n"
     ]
    },
    {
     "name": "stderr",
     "output_type": "stream",
     "text": [
      "Simulation Progress: 100%|██████████| 500000/500000 [02:12<00:00, 3759.75it/s]\n"
     ]
    },
    {
     "name": "stdout",
     "output_type": "stream",
     "text": [
      "Partition 58 completed, convergence counter: 2747666\n"
     ]
    },
    {
     "name": "stderr",
     "output_type": "stream",
     "text": [
      "Simulation Progress: 100%|██████████| 500000/500000 [02:21<00:00, 3540.42it/s]\n"
     ]
    },
    {
     "name": "stdout",
     "output_type": "stream",
     "text": [
      "Partition 59 completed, convergence counter: 3247662\n"
     ]
    },
    {
     "name": "stderr",
     "output_type": "stream",
     "text": [
      "Simulation Progress: 100%|██████████| 500000/500000 [02:16<00:00, 3673.73it/s]\n"
     ]
    },
    {
     "name": "stdout",
     "output_type": "stream",
     "text": [
      "Partition 60 completed, convergence counter: 87172\n"
     ]
    },
    {
     "name": "stderr",
     "output_type": "stream",
     "text": [
      "Simulation Progress: 100%|██████████| 500000/500000 [02:26<00:00, 3418.20it/s]\n"
     ]
    },
    {
     "name": "stdout",
     "output_type": "stream",
     "text": [
      "Partition 61 completed, convergence counter: 587172\n"
     ]
    },
    {
     "name": "stderr",
     "output_type": "stream",
     "text": [
      "Simulation Progress: 100%|██████████| 500000/500000 [02:01<00:00, 4106.98it/s]\n"
     ]
    },
    {
     "name": "stdout",
     "output_type": "stream",
     "text": [
      "Partition 62 completed, convergence counter: 1087169\n"
     ]
    },
    {
     "name": "stderr",
     "output_type": "stream",
     "text": [
      "Simulation Progress: 100%|██████████| 500000/500000 [02:25<00:00, 3433.05it/s]\n"
     ]
    },
    {
     "name": "stdout",
     "output_type": "stream",
     "text": [
      "Partition 63 completed, convergence counter: 1587169\n"
     ]
    },
    {
     "name": "stderr",
     "output_type": "stream",
     "text": [
      "Simulation Progress: 100%|██████████| 500000/500000 [02:46<00:00, 2994.17it/s]\n"
     ]
    },
    {
     "name": "stdout",
     "output_type": "stream",
     "text": [
      "Partition 64 completed, convergence counter: 21986\n"
     ]
    },
    {
     "name": "stderr",
     "output_type": "stream",
     "text": [
      "Simulation Progress: 100%|██████████| 500000/500000 [02:20<00:00, 3550.31it/s]\n"
     ]
    },
    {
     "name": "stdout",
     "output_type": "stream",
     "text": [
      "Partition 65 completed, convergence counter: 521984\n"
     ]
    },
    {
     "name": "stderr",
     "output_type": "stream",
     "text": [
      "Simulation Progress: 100%|██████████| 500000/500000 [02:22<00:00, 3505.05it/s]\n"
     ]
    },
    {
     "name": "stdout",
     "output_type": "stream",
     "text": [
      "Partition 66 completed, convergence counter: 1021983\n"
     ]
    },
    {
     "name": "stderr",
     "output_type": "stream",
     "text": [
      "Simulation Progress: 100%|██████████| 500000/500000 [02:27<00:00, 3393.87it/s]\n"
     ]
    },
    {
     "name": "stdout",
     "output_type": "stream",
     "text": [
      "Partition 67 completed, convergence counter: 1521983\n"
     ]
    },
    {
     "name": "stderr",
     "output_type": "stream",
     "text": [
      "Simulation Progress: 100%|██████████| 500000/500000 [02:22<00:00, 3509.17it/s]\n"
     ]
    },
    {
     "name": "stdout",
     "output_type": "stream",
     "text": [
      "Partition 68 completed, convergence counter: 2021983\n"
     ]
    },
    {
     "name": "stderr",
     "output_type": "stream",
     "text": [
      "Simulation Progress: 100%|██████████| 500000/500000 [02:34<00:00, 3229.28it/s]\n"
     ]
    },
    {
     "name": "stdout",
     "output_type": "stream",
     "text": [
      "Partition 69 completed, convergence counter: 2521983\n"
     ]
    },
    {
     "name": "stderr",
     "output_type": "stream",
     "text": [
      "Simulation Progress: 100%|██████████| 500000/500000 [02:22<00:00, 3517.95it/s]\n"
     ]
    },
    {
     "name": "stdout",
     "output_type": "stream",
     "text": [
      "Partition 70 completed, convergence counter: 3021983\n"
     ]
    },
    {
     "name": "stderr",
     "output_type": "stream",
     "text": [
      "Simulation Progress: 100%|██████████| 500000/500000 [02:11<00:00, 3791.29it/s]\n"
     ]
    },
    {
     "name": "stdout",
     "output_type": "stream",
     "text": [
      "Partition 71 completed, convergence counter: 3521983\n"
     ]
    },
    {
     "name": "stderr",
     "output_type": "stream",
     "text": [
      "Simulation Progress: 100%|██████████| 500000/500000 [02:10<00:00, 3820.84it/s]\n"
     ]
    },
    {
     "name": "stdout",
     "output_type": "stream",
     "text": [
      "Partition 72 completed, convergence counter: 4021983\n"
     ]
    },
    {
     "name": "stderr",
     "output_type": "stream",
     "text": [
      "Simulation Progress: 100%|██████████| 500000/500000 [02:22<00:00, 3519.12it/s]\n"
     ]
    },
    {
     "name": "stdout",
     "output_type": "stream",
     "text": [
      "Partition 73 completed, convergence counter: 4521983\n"
     ]
    },
    {
     "name": "stderr",
     "output_type": "stream",
     "text": [
      "Simulation Progress: 100%|██████████| 500000/500000 [02:14<00:00, 3711.89it/s]\n"
     ]
    },
    {
     "name": "stdout",
     "output_type": "stream",
     "text": [
      "Partition 74 completed, convergence counter: 5021983\n"
     ]
    },
    {
     "name": "stderr",
     "output_type": "stream",
     "text": [
      "Simulation Progress: 100%|██████████| 500000/500000 [02:15<00:00, 3695.73it/s]\n",
      "Simulation Progress: 100%|██████████| 500000/500000 [02:30<00:00, 3315.55it/s]\n"
     ]
    },
    {
     "name": "stdout",
     "output_type": "stream",
     "text": [
      "Partition 1 completed, convergence counter: 122\n"
     ]
    },
    {
     "name": "stderr",
     "output_type": "stream",
     "text": [
      "Simulation Progress: 100%|██████████| 500000/500000 [02:17<00:00, 3637.38it/s]\n"
     ]
    },
    {
     "name": "stdout",
     "output_type": "stream",
     "text": [
      "Partition 2 completed, convergence counter: 1119\n"
     ]
    },
    {
     "name": "stderr",
     "output_type": "stream",
     "text": [
      "Simulation Progress: 100%|██████████| 500000/500000 [02:29<00:00, 3334.16it/s]\n"
     ]
    },
    {
     "name": "stdout",
     "output_type": "stream",
     "text": [
      "Partition 3 completed, convergence counter: 77\n"
     ]
    },
    {
     "name": "stderr",
     "output_type": "stream",
     "text": [
      "Simulation Progress: 100%|██████████| 500000/500000 [02:43<00:00, 3059.28it/s]\n"
     ]
    },
    {
     "name": "stdout",
     "output_type": "stream",
     "text": [
      "Partition 4 completed, convergence counter: 4769\n"
     ]
    },
    {
     "name": "stderr",
     "output_type": "stream",
     "text": [
      "Simulation Progress: 100%|██████████| 500000/500000 [02:39<00:00, 3130.15it/s]\n"
     ]
    },
    {
     "name": "stdout",
     "output_type": "stream",
     "text": [
      "Partition 5 completed, convergence counter: 4548\n"
     ]
    },
    {
     "name": "stderr",
     "output_type": "stream",
     "text": [
      "Simulation Progress: 100%|██████████| 500000/500000 [02:14<00:00, 3721.76it/s]\n"
     ]
    },
    {
     "name": "stdout",
     "output_type": "stream",
     "text": [
      "Partition 6 completed, convergence counter: 1671\n"
     ]
    },
    {
     "name": "stderr",
     "output_type": "stream",
     "text": [
      "Simulation Progress: 100%|██████████| 500000/500000 [02:21<00:00, 3521.84it/s]\n"
     ]
    },
    {
     "name": "stdout",
     "output_type": "stream",
     "text": [
      "Partition 7 completed, convergence counter: 155\n"
     ]
    },
    {
     "name": "stderr",
     "output_type": "stream",
     "text": [
      "Simulation Progress: 100%|██████████| 500000/500000 [02:32<00:00, 3289.05it/s]\n"
     ]
    },
    {
     "name": "stdout",
     "output_type": "stream",
     "text": [
      "Partition 8 completed, convergence counter: 17976\n"
     ]
    },
    {
     "name": "stderr",
     "output_type": "stream",
     "text": [
      "Simulation Progress: 100%|██████████| 500000/500000 [02:20<00:00, 3565.27it/s]\n"
     ]
    },
    {
     "name": "stdout",
     "output_type": "stream",
     "text": [
      "Partition 9 completed, convergence counter: 26\n"
     ]
    },
    {
     "name": "stderr",
     "output_type": "stream",
     "text": [
      "Simulation Progress: 100%|██████████| 500000/500000 [02:23<00:00, 3476.95it/s]\n"
     ]
    },
    {
     "name": "stdout",
     "output_type": "stream",
     "text": [
      "Partition 10 completed, convergence counter: 7203\n"
     ]
    },
    {
     "name": "stderr",
     "output_type": "stream",
     "text": [
      "Simulation Progress: 100%|██████████| 500000/500000 [02:24<00:00, 3468.28it/s]\n"
     ]
    },
    {
     "name": "stdout",
     "output_type": "stream",
     "text": [
      "Partition 11 completed, convergence counter: 17410\n"
     ]
    },
    {
     "name": "stderr",
     "output_type": "stream",
     "text": [
      "Simulation Progress: 100%|██████████| 500000/500000 [02:14<00:00, 3705.57it/s]\n"
     ]
    },
    {
     "name": "stdout",
     "output_type": "stream",
     "text": [
      "Partition 12 completed, convergence counter: 3\n"
     ]
    },
    {
     "name": "stderr",
     "output_type": "stream",
     "text": [
      "Simulation Progress: 100%|██████████| 500000/500000 [02:36<00:00, 3199.40it/s]\n"
     ]
    },
    {
     "name": "stdout",
     "output_type": "stream",
     "text": [
      "Partition 13 completed, convergence counter: 75765\n"
     ]
    },
    {
     "name": "stderr",
     "output_type": "stream",
     "text": [
      "Simulation Progress: 100%|██████████| 500000/500000 [02:17<00:00, 3648.19it/s]\n"
     ]
    },
    {
     "name": "stdout",
     "output_type": "stream",
     "text": [
      "Partition 14 completed, convergence counter: 86354\n"
     ]
    },
    {
     "name": "stderr",
     "output_type": "stream",
     "text": [
      "Simulation Progress: 100%|██████████| 500000/500000 [02:22<00:00, 3505.32it/s]\n"
     ]
    },
    {
     "name": "stdout",
     "output_type": "stream",
     "text": [
      "Partition 15 completed, convergence counter: 142\n"
     ]
    },
    {
     "name": "stderr",
     "output_type": "stream",
     "text": [
      "Simulation Progress: 100%|██████████| 500000/500000 [02:18<00:00, 3601.32it/s]\n"
     ]
    },
    {
     "name": "stdout",
     "output_type": "stream",
     "text": [
      "Partition 16 completed, convergence counter: 5853\n"
     ]
    },
    {
     "name": "stderr",
     "output_type": "stream",
     "text": [
      "Simulation Progress: 100%|██████████| 500000/500000 [02:37<00:00, 3165.72it/s]\n"
     ]
    },
    {
     "name": "stdout",
     "output_type": "stream",
     "text": [
      "Partition 17 completed, convergence counter: 122767\n"
     ]
    },
    {
     "name": "stderr",
     "output_type": "stream",
     "text": [
      "Simulation Progress: 100%|██████████| 500000/500000 [02:42<00:00, 3069.82it/s]\n"
     ]
    },
    {
     "name": "stdout",
     "output_type": "stream",
     "text": [
      "Partition 18 completed, convergence counter: 107930\n"
     ]
    },
    {
     "name": "stderr",
     "output_type": "stream",
     "text": [
      "Simulation Progress: 100%|██████████| 500000/500000 [02:31<00:00, 3300.39it/s]\n"
     ]
    },
    {
     "name": "stdout",
     "output_type": "stream",
     "text": [
      "Partition 19 completed, convergence counter: 4917\n"
     ]
    },
    {
     "name": "stderr",
     "output_type": "stream",
     "text": [
      "Simulation Progress: 100%|██████████| 500000/500000 [02:35<00:00, 3216.54it/s]\n"
     ]
    },
    {
     "name": "stdout",
     "output_type": "stream",
     "text": [
      "Partition 20 completed, convergence counter: 339389\n"
     ]
    },
    {
     "name": "stderr",
     "output_type": "stream",
     "text": [
      "Simulation Progress: 100%|██████████| 500000/500000 [02:55<00:00, 2850.85it/s]\n"
     ]
    },
    {
     "name": "stdout",
     "output_type": "stream",
     "text": [
      "Partition 21 completed, convergence counter: 234974\n"
     ]
    },
    {
     "name": "stderr",
     "output_type": "stream",
     "text": [
      "Simulation Progress: 100%|██████████| 500000/500000 [02:23<00:00, 3485.64it/s]\n"
     ]
    },
    {
     "name": "stdout",
     "output_type": "stream",
     "text": [
      "Partition 22 completed, convergence counter: 14388\n"
     ]
    },
    {
     "name": "stderr",
     "output_type": "stream",
     "text": [
      "Simulation Progress: 100%|██████████| 500000/500000 [02:17<00:00, 3632.11it/s]\n"
     ]
    },
    {
     "name": "stdout",
     "output_type": "stream",
     "text": [
      "Partition 23 completed, convergence counter: 347417\n"
     ]
    },
    {
     "name": "stderr",
     "output_type": "stream",
     "text": [
      "Simulation Progress: 100%|██████████| 500000/500000 [02:45<00:00, 3017.87it/s]\n"
     ]
    },
    {
     "name": "stdout",
     "output_type": "stream",
     "text": [
      "Partition 24 completed, convergence counter: 90951\n"
     ]
    },
    {
     "name": "stderr",
     "output_type": "stream",
     "text": [
      "Simulation Progress: 100%|██████████| 500000/500000 [02:47<00:00, 2983.39it/s]\n"
     ]
    },
    {
     "name": "stdout",
     "output_type": "stream",
     "text": [
      "Partition 25 completed, convergence counter: 586317\n"
     ]
    },
    {
     "name": "stderr",
     "output_type": "stream",
     "text": [
      "Simulation Progress: 100%|██████████| 500000/500000 [02:15<00:00, 3680.01it/s]\n"
     ]
    },
    {
     "name": "stdout",
     "output_type": "stream",
     "text": [
      "Partition 26 completed, convergence counter: 179772\n"
     ]
    },
    {
     "name": "stderr",
     "output_type": "stream",
     "text": [
      "Simulation Progress: 100%|██████████| 500000/500000 [02:36<00:00, 3191.20it/s]\n"
     ]
    },
    {
     "name": "stdout",
     "output_type": "stream",
     "text": [
      "Partition 27 completed, convergence counter: 475861\n"
     ]
    },
    {
     "name": "stderr",
     "output_type": "stream",
     "text": [
      "Simulation Progress: 100%|██████████| 500000/500000 [02:55<00:00, 2854.17it/s]\n"
     ]
    },
    {
     "name": "stdout",
     "output_type": "stream",
     "text": [
      "Partition 28 completed, convergence counter: 973406\n"
     ]
    },
    {
     "name": "stderr",
     "output_type": "stream",
     "text": [
      "Simulation Progress: 100%|██████████| 500000/500000 [02:40<00:00, 3111.50it/s]\n"
     ]
    },
    {
     "name": "stdout",
     "output_type": "stream",
     "text": [
      "Partition 29 completed, convergence counter: 162566\n"
     ]
    },
    {
     "name": "stderr",
     "output_type": "stream",
     "text": [
      "Simulation Progress: 100%|██████████| 500000/500000 [02:38<00:00, 3160.25it/s]\n"
     ]
    },
    {
     "name": "stdout",
     "output_type": "stream",
     "text": [
      "Partition 30 completed, convergence counter: 661100\n"
     ]
    },
    {
     "name": "stderr",
     "output_type": "stream",
     "text": [
      "Simulation Progress: 100%|██████████| 500000/500000 [02:19<00:00, 3593.27it/s]\n"
     ]
    },
    {
     "name": "stdout",
     "output_type": "stream",
     "text": [
      "Partition 31 completed, convergence counter: 356963\n"
     ]
    },
    {
     "name": "stderr",
     "output_type": "stream",
     "text": [
      "Simulation Progress: 100%|██████████| 500000/500000 [02:17<00:00, 3649.38it/s]\n"
     ]
    },
    {
     "name": "stdout",
     "output_type": "stream",
     "text": [
      "Partition 32 completed, convergence counter: 92751\n"
     ]
    },
    {
     "name": "stderr",
     "output_type": "stream",
     "text": [
      "Simulation Progress: 100%|██████████| 500000/500000 [02:48<00:00, 2970.01it/s]\n"
     ]
    },
    {
     "name": "stdout",
     "output_type": "stream",
     "text": [
      "Partition 33 completed, convergence counter: 592040\n"
     ]
    },
    {
     "name": "stderr",
     "output_type": "stream",
     "text": [
      "Simulation Progress: 100%|██████████| 500000/500000 [02:20<00:00, 3548.49it/s]\n"
     ]
    },
    {
     "name": "stdout",
     "output_type": "stream",
     "text": [
      "Partition 34 completed, convergence counter: 1091479\n"
     ]
    },
    {
     "name": "stderr",
     "output_type": "stream",
     "text": [
      "Simulation Progress: 100%|██████████| 500000/500000 [02:24<00:00, 3471.46it/s]\n"
     ]
    },
    {
     "name": "stdout",
     "output_type": "stream",
     "text": [
      "Partition 35 completed, convergence counter: 1591002\n"
     ]
    },
    {
     "name": "stderr",
     "output_type": "stream",
     "text": [
      "Simulation Progress: 100%|██████████| 500000/500000 [02:19<00:00, 3571.59it/s]\n"
     ]
    },
    {
     "name": "stdout",
     "output_type": "stream",
     "text": [
      "Partition 36 completed, convergence counter: 2090611\n"
     ]
    },
    {
     "name": "stderr",
     "output_type": "stream",
     "text": [
      "Simulation Progress: 100%|██████████| 500000/500000 [02:19<00:00, 3580.87it/s]\n"
     ]
    },
    {
     "name": "stdout",
     "output_type": "stream",
     "text": [
      "Partition 37 completed, convergence counter: 2590291\n"
     ]
    },
    {
     "name": "stderr",
     "output_type": "stream",
     "text": [
      "Simulation Progress: 100%|██████████| 500000/500000 [02:20<00:00, 3558.71it/s]\n"
     ]
    },
    {
     "name": "stdout",
     "output_type": "stream",
     "text": [
      "Partition 38 completed, convergence counter: 3090048\n"
     ]
    },
    {
     "name": "stderr",
     "output_type": "stream",
     "text": [
      "Simulation Progress: 100%|██████████| 500000/500000 [02:17<00:00, 3624.48it/s]\n"
     ]
    },
    {
     "name": "stdout",
     "output_type": "stream",
     "text": [
      "Partition 39 completed, convergence counter: 3589864\n"
     ]
    },
    {
     "name": "stderr",
     "output_type": "stream",
     "text": [
      "Simulation Progress: 100%|██████████| 500000/500000 [02:20<00:00, 3559.32it/s]\n"
     ]
    },
    {
     "name": "stdout",
     "output_type": "stream",
     "text": [
      "Partition 40 completed, convergence counter: 436803\n"
     ]
    },
    {
     "name": "stderr",
     "output_type": "stream",
     "text": [
      "Simulation Progress: 100%|██████████| 500000/500000 [02:50<00:00, 2938.13it/s]\n"
     ]
    },
    {
     "name": "stdout",
     "output_type": "stream",
     "text": [
      "Partition 41 completed, convergence counter: 936666\n"
     ]
    },
    {
     "name": "stderr",
     "output_type": "stream",
     "text": [
      "Simulation Progress: 100%|██████████| 500000/500000 [02:17<00:00, 3648.03it/s]\n"
     ]
    },
    {
     "name": "stdout",
     "output_type": "stream",
     "text": [
      "Partition 42 completed, convergence counter: 1436573\n"
     ]
    },
    {
     "name": "stderr",
     "output_type": "stream",
     "text": [
      "Simulation Progress: 100%|██████████| 500000/500000 [02:21<00:00, 3533.07it/s]\n"
     ]
    },
    {
     "name": "stdout",
     "output_type": "stream",
     "text": [
      "Partition 43 completed, convergence counter: 1936502\n"
     ]
    },
    {
     "name": "stderr",
     "output_type": "stream",
     "text": [
      "Simulation Progress: 100%|██████████| 500000/500000 [02:26<00:00, 3419.79it/s]\n"
     ]
    },
    {
     "name": "stdout",
     "output_type": "stream",
     "text": [
      "Partition 44 completed, convergence counter: 2436455\n"
     ]
    },
    {
     "name": "stderr",
     "output_type": "stream",
     "text": [
      "Simulation Progress: 100%|██████████| 500000/500000 [02:30<00:00, 3326.17it/s]\n"
     ]
    },
    {
     "name": "stdout",
     "output_type": "stream",
     "text": [
      "Partition 45 completed, convergence counter: 2936409\n"
     ]
    },
    {
     "name": "stderr",
     "output_type": "stream",
     "text": [
      "Simulation Progress: 100%|██████████| 500000/500000 [02:39<00:00, 3131.93it/s]\n"
     ]
    },
    {
     "name": "stdout",
     "output_type": "stream",
     "text": [
      "Partition 46 completed, convergence counter: 3436377\n"
     ]
    },
    {
     "name": "stderr",
     "output_type": "stream",
     "text": [
      "Simulation Progress: 100%|██████████| 500000/500000 [02:44<00:00, 3041.56it/s]\n"
     ]
    },
    {
     "name": "stdout",
     "output_type": "stream",
     "text": [
      "Partition 47 completed, convergence counter: 3936349\n"
     ]
    },
    {
     "name": "stderr",
     "output_type": "stream",
     "text": [
      "Simulation Progress: 100%|██████████| 500000/500000 [02:23<00:00, 3490.97it/s]\n"
     ]
    },
    {
     "name": "stdout",
     "output_type": "stream",
     "text": [
      "Partition 48 completed, convergence counter: 372004\n"
     ]
    },
    {
     "name": "stderr",
     "output_type": "stream",
     "text": [
      "Simulation Progress: 100%|██████████| 500000/500000 [02:34<00:00, 3227.74it/s]\n"
     ]
    },
    {
     "name": "stdout",
     "output_type": "stream",
     "text": [
      "Partition 49 completed, convergence counter: 871981\n"
     ]
    },
    {
     "name": "stderr",
     "output_type": "stream",
     "text": [
      "Simulation Progress: 100%|██████████| 500000/500000 [02:53<00:00, 2887.99it/s]\n"
     ]
    },
    {
     "name": "stdout",
     "output_type": "stream",
     "text": [
      "Partition 50 completed, convergence counter: 15439\n"
     ]
    },
    {
     "name": "stderr",
     "output_type": "stream",
     "text": [
      "Simulation Progress: 100%|██████████| 500000/500000 [02:21<00:00, 3523.14it/s]\n"
     ]
    },
    {
     "name": "stdout",
     "output_type": "stream",
     "text": [
      "Partition 51 completed, convergence counter: 260019\n"
     ]
    },
    {
     "name": "stderr",
     "output_type": "stream",
     "text": [
      "Simulation Progress: 100%|██████████| 500000/500000 [02:07<00:00, 3933.20it/s]\n"
     ]
    },
    {
     "name": "stdout",
     "output_type": "stream",
     "text": [
      "Partition 52 completed, convergence counter: 760006\n"
     ]
    },
    {
     "name": "stderr",
     "output_type": "stream",
     "text": [
      "Simulation Progress: 100%|██████████| 500000/500000 [02:11<00:00, 3789.93it/s]\n"
     ]
    },
    {
     "name": "stdout",
     "output_type": "stream",
     "text": [
      "Partition 53 completed, convergence counter: 1259999\n"
     ]
    },
    {
     "name": "stderr",
     "output_type": "stream",
     "text": [
      "Simulation Progress: 100%|██████████| 500000/500000 [02:18<00:00, 3598.88it/s]\n"
     ]
    },
    {
     "name": "stdout",
     "output_type": "stream",
     "text": [
      "Partition 54 completed, convergence counter: 1759988\n"
     ]
    },
    {
     "name": "stderr",
     "output_type": "stream",
     "text": [
      "Simulation Progress: 100%|██████████| 500000/500000 [02:33<00:00, 3258.67it/s]\n"
     ]
    },
    {
     "name": "stdout",
     "output_type": "stream",
     "text": [
      "Partition 55 completed, convergence counter: 2259981\n"
     ]
    },
    {
     "name": "stderr",
     "output_type": "stream",
     "text": [
      "Simulation Progress: 100%|██████████| 500000/500000 [02:22<00:00, 3509.77it/s]\n"
     ]
    },
    {
     "name": "stdout",
     "output_type": "stream",
     "text": [
      "Partition 56 completed, convergence counter: 2759980\n"
     ]
    },
    {
     "name": "stderr",
     "output_type": "stream",
     "text": [
      "Simulation Progress: 100%|██████████| 500000/500000 [02:21<00:00, 3521.50it/s]\n"
     ]
    },
    {
     "name": "stdout",
     "output_type": "stream",
     "text": [
      "Partition 57 completed, convergence counter: 3259979\n"
     ]
    },
    {
     "name": "stderr",
     "output_type": "stream",
     "text": [
      "Simulation Progress: 100%|██████████| 500000/500000 [02:26<00:00, 3419.61it/s]\n"
     ]
    },
    {
     "name": "stdout",
     "output_type": "stream",
     "text": [
      "Partition 58 completed, convergence counter: 3759977\n"
     ]
    },
    {
     "name": "stderr",
     "output_type": "stream",
     "text": [
      "Simulation Progress: 100%|██████████| 500000/500000 [02:02<00:00, 4073.34it/s]\n"
     ]
    },
    {
     "name": "stdout",
     "output_type": "stream",
     "text": [
      "Partition 59 completed, convergence counter: 4259970\n"
     ]
    },
    {
     "name": "stderr",
     "output_type": "stream",
     "text": [
      "Simulation Progress: 100%|██████████| 500000/500000 [01:58<00:00, 4204.17it/s]\n"
     ]
    },
    {
     "name": "stdout",
     "output_type": "stream",
     "text": [
      "Partition 60 completed, convergence counter: 4759965\n"
     ]
    },
    {
     "name": "stderr",
     "output_type": "stream",
     "text": [
      "Simulation Progress: 100%|██████████| 500000/500000 [02:00<00:00, 4164.49it/s]\n"
     ]
    },
    {
     "name": "stdout",
     "output_type": "stream",
     "text": [
      "Partition 61 completed, convergence counter: 5259962\n"
     ]
    },
    {
     "name": "stderr",
     "output_type": "stream",
     "text": [
      "Simulation Progress: 100%|██████████| 500000/500000 [02:04<00:00, 4008.71it/s]\n",
      "Simulation Progress: 100%|██████████| 500000/500000 [02:15<00:00, 3695.64it/s]\n"
     ]
    },
    {
     "name": "stdout",
     "output_type": "stream",
     "text": [
      "Partition 1 completed, convergence counter: 119\n"
     ]
    },
    {
     "name": "stderr",
     "output_type": "stream",
     "text": [
      "Simulation Progress: 100%|██████████| 500000/500000 [02:19<00:00, 3586.75it/s]\n"
     ]
    },
    {
     "name": "stdout",
     "output_type": "stream",
     "text": [
      "Partition 2 completed, convergence counter: 78\n"
     ]
    },
    {
     "name": "stderr",
     "output_type": "stream",
     "text": [
      "Simulation Progress: 100%|██████████| 500000/500000 [02:11<00:00, 3810.91it/s]\n"
     ]
    },
    {
     "name": "stdout",
     "output_type": "stream",
     "text": [
      "Partition 3 completed, convergence counter: 810\n"
     ]
    },
    {
     "name": "stderr",
     "output_type": "stream",
     "text": [
      "Simulation Progress: 100%|██████████| 500000/500000 [02:21<00:00, 3538.95it/s]\n"
     ]
    },
    {
     "name": "stdout",
     "output_type": "stream",
     "text": [
      "Partition 4 completed, convergence counter: 3\n"
     ]
    },
    {
     "name": "stderr",
     "output_type": "stream",
     "text": [
      "Simulation Progress: 100%|██████████| 500000/500000 [02:23<00:00, 3487.00it/s]\n"
     ]
    },
    {
     "name": "stdout",
     "output_type": "stream",
     "text": [
      "Partition 5 completed, convergence counter: 6147\n"
     ]
    },
    {
     "name": "stderr",
     "output_type": "stream",
     "text": [
      "Simulation Progress: 100%|██████████| 500000/500000 [02:11<00:00, 3802.62it/s]\n"
     ]
    },
    {
     "name": "stdout",
     "output_type": "stream",
     "text": [
      "Partition 6 completed, convergence counter: 5394\n"
     ]
    },
    {
     "name": "stderr",
     "output_type": "stream",
     "text": [
      "Simulation Progress: 100%|██████████| 500000/500000 [02:35<00:00, 3219.13it/s]\n"
     ]
    },
    {
     "name": "stdout",
     "output_type": "stream",
     "text": [
      "Partition 7 completed, convergence counter: 6501\n"
     ]
    },
    {
     "name": "stderr",
     "output_type": "stream",
     "text": [
      "Simulation Progress: 100%|██████████| 500000/500000 [02:25<00:00, 3425.15it/s]\n"
     ]
    },
    {
     "name": "stdout",
     "output_type": "stream",
     "text": [
      "Partition 8 completed, convergence counter: 9667\n"
     ]
    },
    {
     "name": "stderr",
     "output_type": "stream",
     "text": [
      "Simulation Progress: 100%|██████████| 500000/500000 [02:17<00:00, 3641.20it/s]\n"
     ]
    },
    {
     "name": "stdout",
     "output_type": "stream",
     "text": [
      "Partition 9 completed, convergence counter: 23852\n"
     ]
    },
    {
     "name": "stderr",
     "output_type": "stream",
     "text": [
      "Simulation Progress: 100%|██████████| 500000/500000 [02:10<00:00, 3819.27it/s]\n"
     ]
    },
    {
     "name": "stdout",
     "output_type": "stream",
     "text": [
      "Partition 10 completed, convergence counter: 69967\n"
     ]
    },
    {
     "name": "stderr",
     "output_type": "stream",
     "text": [
      "Simulation Progress: 100%|██████████| 500000/500000 [02:11<00:00, 3812.92it/s]\n"
     ]
    },
    {
     "name": "stdout",
     "output_type": "stream",
     "text": [
      "Partition 11 completed, convergence counter: 41411\n"
     ]
    },
    {
     "name": "stderr",
     "output_type": "stream",
     "text": [
      "Simulation Progress: 100%|██████████| 500000/500000 [02:10<00:00, 3843.39it/s]\n"
     ]
    },
    {
     "name": "stdout",
     "output_type": "stream",
     "text": [
      "Partition 12 completed, convergence counter: 4754\n"
     ]
    },
    {
     "name": "stderr",
     "output_type": "stream",
     "text": [
      "Simulation Progress: 100%|██████████| 500000/500000 [02:16<00:00, 3661.93it/s]\n"
     ]
    },
    {
     "name": "stdout",
     "output_type": "stream",
     "text": [
      "Partition 13 completed, convergence counter: 47008\n"
     ]
    },
    {
     "name": "stderr",
     "output_type": "stream",
     "text": [
      "Simulation Progress: 100%|██████████| 500000/500000 [02:12<00:00, 3772.27it/s]\n"
     ]
    },
    {
     "name": "stdout",
     "output_type": "stream",
     "text": [
      "Partition 14 completed, convergence counter: 50451\n"
     ]
    },
    {
     "name": "stderr",
     "output_type": "stream",
     "text": [
      "Simulation Progress: 100%|██████████| 500000/500000 [02:18<00:00, 3616.61it/s]\n"
     ]
    },
    {
     "name": "stdout",
     "output_type": "stream",
     "text": [
      "Partition 15 completed, convergence counter: 174182\n"
     ]
    },
    {
     "name": "stderr",
     "output_type": "stream",
     "text": [
      "Simulation Progress: 100%|██████████| 500000/500000 [02:19<00:00, 3587.15it/s]\n"
     ]
    },
    {
     "name": "stdout",
     "output_type": "stream",
     "text": [
      "Partition 16 completed, convergence counter: 48012\n"
     ]
    },
    {
     "name": "stderr",
     "output_type": "stream",
     "text": [
      "Simulation Progress: 100%|██████████| 500000/500000 [02:17<00:00, 3645.11it/s]\n"
     ]
    },
    {
     "name": "stdout",
     "output_type": "stream",
     "text": [
      "Partition 17 completed, convergence counter: 31790\n"
     ]
    },
    {
     "name": "stderr",
     "output_type": "stream",
     "text": [
      "Simulation Progress: 100%|██████████| 500000/500000 [02:13<00:00, 3741.70it/s]\n"
     ]
    },
    {
     "name": "stdout",
     "output_type": "stream",
     "text": [
      "Partition 18 completed, convergence counter: 86092\n"
     ]
    },
    {
     "name": "stderr",
     "output_type": "stream",
     "text": [
      "Simulation Progress: 100%|██████████| 500000/500000 [02:07<00:00, 3932.64it/s]\n"
     ]
    },
    {
     "name": "stdout",
     "output_type": "stream",
     "text": [
      "Partition 19 completed, convergence counter: 148366\n"
     ]
    },
    {
     "name": "stderr",
     "output_type": "stream",
     "text": [
      "Simulation Progress: 100%|██████████| 500000/500000 [02:18<00:00, 3616.85it/s]\n"
     ]
    },
    {
     "name": "stdout",
     "output_type": "stream",
     "text": [
      "Partition 20 completed, convergence counter: 6951\n"
     ]
    },
    {
     "name": "stderr",
     "output_type": "stream",
     "text": [
      "Simulation Progress: 100%|██████████| 500000/500000 [02:16<00:00, 3667.27it/s]\n"
     ]
    },
    {
     "name": "stdout",
     "output_type": "stream",
     "text": [
      "Partition 21 completed, convergence counter: 126459\n"
     ]
    },
    {
     "name": "stderr",
     "output_type": "stream",
     "text": [
      "Simulation Progress: 100%|██████████| 500000/500000 [02:11<00:00, 3789.08it/s]\n"
     ]
    },
    {
     "name": "stdout",
     "output_type": "stream",
     "text": [
      "Partition 22 completed, convergence counter: 291695\n"
     ]
    },
    {
     "name": "stderr",
     "output_type": "stream",
     "text": [
      "Simulation Progress: 100%|██████████| 500000/500000 [02:18<00:00, 3618.81it/s]\n"
     ]
    },
    {
     "name": "stdout",
     "output_type": "stream",
     "text": [
      "Partition 23 completed, convergence counter: 784407\n"
     ]
    },
    {
     "name": "stderr",
     "output_type": "stream",
     "text": [
      "Simulation Progress: 100%|██████████| 500000/500000 [02:25<00:00, 3432.41it/s]\n"
     ]
    },
    {
     "name": "stdout",
     "output_type": "stream",
     "text": [
      "Partition 24 completed, convergence counter: 109113\n"
     ]
    },
    {
     "name": "stderr",
     "output_type": "stream",
     "text": [
      "Simulation Progress: 100%|██████████| 500000/500000 [02:09<00:00, 3863.27it/s]\n"
     ]
    },
    {
     "name": "stdout",
     "output_type": "stream",
     "text": [
      "Partition 25 completed, convergence counter: 324684\n"
     ]
    },
    {
     "name": "stderr",
     "output_type": "stream",
     "text": [
      "Simulation Progress: 100%|██████████| 500000/500000 [02:15<00:00, 3699.26it/s]\n"
     ]
    },
    {
     "name": "stdout",
     "output_type": "stream",
     "text": [
      "Partition 26 completed, convergence counter: 821176\n"
     ]
    },
    {
     "name": "stderr",
     "output_type": "stream",
     "text": [
      "Simulation Progress: 100%|██████████| 500000/500000 [02:12<00:00, 3760.21it/s]\n"
     ]
    },
    {
     "name": "stdout",
     "output_type": "stream",
     "text": [
      "Partition 27 completed, convergence counter: 167804\n"
     ]
    },
    {
     "name": "stderr",
     "output_type": "stream",
     "text": [
      "Simulation Progress: 100%|██████████| 500000/500000 [02:10<00:00, 3830.36it/s]\n"
     ]
    },
    {
     "name": "stdout",
     "output_type": "stream",
     "text": [
      "Partition 28 completed, convergence counter: 438329\n"
     ]
    },
    {
     "name": "stderr",
     "output_type": "stream",
     "text": [
      "Simulation Progress: 100%|██████████| 500000/500000 [02:04<00:00, 4021.90it/s]\n"
     ]
    },
    {
     "name": "stdout",
     "output_type": "stream",
     "text": [
      "Partition 29 completed, convergence counter: 101924\n"
     ]
    },
    {
     "name": "stderr",
     "output_type": "stream",
     "text": [
      "Simulation Progress: 100%|██████████| 500000/500000 [02:17<00:00, 3631.99it/s]\n"
     ]
    },
    {
     "name": "stdout",
     "output_type": "stream",
     "text": [
      "Partition 30 completed, convergence counter: 478067\n"
     ]
    },
    {
     "name": "stderr",
     "output_type": "stream",
     "text": [
      "Simulation Progress: 100%|██████████| 500000/500000 [02:22<00:00, 3504.35it/s]\n"
     ]
    },
    {
     "name": "stdout",
     "output_type": "stream",
     "text": [
      "Partition 31 completed, convergence counter: 285732\n"
     ]
    },
    {
     "name": "stderr",
     "output_type": "stream",
     "text": [
      "Simulation Progress: 100%|██████████| 500000/500000 [02:14<00:00, 3705.27it/s]\n"
     ]
    },
    {
     "name": "stdout",
     "output_type": "stream",
     "text": [
      "Partition 32 completed, convergence counter: 784741\n"
     ]
    },
    {
     "name": "stderr",
     "output_type": "stream",
     "text": [
      "Simulation Progress: 100%|██████████| 500000/500000 [02:12<00:00, 3769.91it/s]\n"
     ]
    },
    {
     "name": "stdout",
     "output_type": "stream",
     "text": [
      "Partition 33 completed, convergence counter: 1283979\n"
     ]
    },
    {
     "name": "stderr",
     "output_type": "stream",
     "text": [
      "Simulation Progress: 100%|██████████| 500000/500000 [02:07<00:00, 3907.78it/s]\n"
     ]
    },
    {
     "name": "stdout",
     "output_type": "stream",
     "text": [
      "Partition 34 completed, convergence counter: 1783349\n"
     ]
    },
    {
     "name": "stderr",
     "output_type": "stream",
     "text": [
      "Simulation Progress: 100%|██████████| 500000/500000 [02:07<00:00, 3924.18it/s]\n"
     ]
    },
    {
     "name": "stdout",
     "output_type": "stream",
     "text": [
      "Partition 35 completed, convergence counter: 338766\n"
     ]
    },
    {
     "name": "stderr",
     "output_type": "stream",
     "text": [
      "Simulation Progress: 100%|██████████| 500000/500000 [02:07<00:00, 3909.34it/s]\n"
     ]
    },
    {
     "name": "stdout",
     "output_type": "stream",
     "text": [
      "Partition 36 completed, convergence counter: 838336\n"
     ]
    },
    {
     "name": "stderr",
     "output_type": "stream",
     "text": [
      "Simulation Progress: 100%|██████████| 500000/500000 [02:09<00:00, 3873.70it/s]\n"
     ]
    },
    {
     "name": "stdout",
     "output_type": "stream",
     "text": [
      "Partition 37 completed, convergence counter: 1338043\n"
     ]
    },
    {
     "name": "stderr",
     "output_type": "stream",
     "text": [
      "Simulation Progress: 100%|██████████| 500000/500000 [02:06<00:00, 3959.98it/s]\n"
     ]
    },
    {
     "name": "stdout",
     "output_type": "stream",
     "text": [
      "Partition 38 completed, convergence counter: 48802\n"
     ]
    },
    {
     "name": "stderr",
     "output_type": "stream",
     "text": [
      "Simulation Progress: 100%|██████████| 500000/500000 [02:09<00:00, 3854.02it/s]\n"
     ]
    },
    {
     "name": "stdout",
     "output_type": "stream",
     "text": [
      "Partition 39 completed, convergence counter: 401698\n"
     ]
    },
    {
     "name": "stderr",
     "output_type": "stream",
     "text": [
      "Simulation Progress: 100%|██████████| 500000/500000 [02:12<00:00, 3760.64it/s]\n"
     ]
    },
    {
     "name": "stdout",
     "output_type": "stream",
     "text": [
      "Partition 40 completed, convergence counter: 901506\n"
     ]
    },
    {
     "name": "stderr",
     "output_type": "stream",
     "text": [
      "Simulation Progress: 100%|██████████| 500000/500000 [02:11<00:00, 3791.80it/s]\n"
     ]
    },
    {
     "name": "stdout",
     "output_type": "stream",
     "text": [
      "Partition 41 completed, convergence counter: 413965\n"
     ]
    },
    {
     "name": "stderr",
     "output_type": "stream",
     "text": [
      "Simulation Progress: 100%|██████████| 500000/500000 [01:58<00:00, 4215.94it/s]\n"
     ]
    },
    {
     "name": "stdout",
     "output_type": "stream",
     "text": [
      "Partition 42 completed, convergence counter: 913868\n"
     ]
    },
    {
     "name": "stderr",
     "output_type": "stream",
     "text": [
      "Simulation Progress: 100%|██████████| 500000/500000 [02:04<00:00, 4012.83it/s]\n"
     ]
    },
    {
     "name": "stdout",
     "output_type": "stream",
     "text": [
      "Partition 43 completed, convergence counter: 1413798\n"
     ]
    },
    {
     "name": "stderr",
     "output_type": "stream",
     "text": [
      "Simulation Progress: 100%|██████████| 500000/500000 [02:02<00:00, 4073.48it/s]\n"
     ]
    },
    {
     "name": "stdout",
     "output_type": "stream",
     "text": [
      "Partition 44 completed, convergence counter: 1913739\n"
     ]
    },
    {
     "name": "stderr",
     "output_type": "stream",
     "text": [
      "Simulation Progress: 100%|██████████| 500000/500000 [02:02<00:00, 4087.98it/s]\n"
     ]
    },
    {
     "name": "stdout",
     "output_type": "stream",
     "text": [
      "Partition 45 completed, convergence counter: 2413678\n"
     ]
    },
    {
     "name": "stderr",
     "output_type": "stream",
     "text": [
      "Simulation Progress: 100%|██████████| 500000/500000 [01:59<00:00, 4182.13it/s]\n"
     ]
    },
    {
     "name": "stdout",
     "output_type": "stream",
     "text": [
      "Partition 46 completed, convergence counter: 2913636\n"
     ]
    },
    {
     "name": "stderr",
     "output_type": "stream",
     "text": [
      "Simulation Progress: 100%|██████████| 500000/500000 [02:25<00:00, 3437.99it/s]\n"
     ]
    },
    {
     "name": "stdout",
     "output_type": "stream",
     "text": [
      "Partition 47 completed, convergence counter: 3413613\n"
     ]
    },
    {
     "name": "stderr",
     "output_type": "stream",
     "text": [
      "Simulation Progress: 100%|██████████| 500000/500000 [02:23<00:00, 3475.91it/s]\n"
     ]
    },
    {
     "name": "stdout",
     "output_type": "stream",
     "text": [
      "Partition 48 completed, convergence counter: 3913583\n"
     ]
    },
    {
     "name": "stderr",
     "output_type": "stream",
     "text": [
      "Simulation Progress: 100%|██████████| 500000/500000 [02:11<00:00, 3804.11it/s]\n"
     ]
    },
    {
     "name": "stdout",
     "output_type": "stream",
     "text": [
      "Partition 49 completed, convergence counter: 4413565\n"
     ]
    },
    {
     "name": "stderr",
     "output_type": "stream",
     "text": [
      "Simulation Progress: 100%|██████████| 500000/500000 [02:11<00:00, 3806.32it/s]\n"
     ]
    },
    {
     "name": "stdout",
     "output_type": "stream",
     "text": [
      "Partition 50 completed, convergence counter: 4913543\n"
     ]
    },
    {
     "name": "stderr",
     "output_type": "stream",
     "text": [
      "Simulation Progress: 100%|██████████| 500000/500000 [02:12<00:00, 3780.28it/s]\n"
     ]
    },
    {
     "name": "stdout",
     "output_type": "stream",
     "text": [
      "Partition 51 completed, convergence counter: 5413529\n"
     ]
    },
    {
     "name": "stderr",
     "output_type": "stream",
     "text": [
      "Simulation Progress: 100%|██████████| 500000/500000 [02:21<00:00, 3540.22it/s]\n",
      "Simulation Progress: 100%|██████████| 500000/500000 [02:20<00:00, 3554.37it/s]\n"
     ]
    },
    {
     "name": "stdout",
     "output_type": "stream",
     "text": [
      "Partition 1 completed, convergence counter: 63\n"
     ]
    },
    {
     "name": "stderr",
     "output_type": "stream",
     "text": [
      "Simulation Progress: 100%|██████████| 500000/500000 [02:10<00:00, 3825.48it/s]\n"
     ]
    },
    {
     "name": "stdout",
     "output_type": "stream",
     "text": [
      "Partition 2 completed, convergence counter: 1067\n"
     ]
    },
    {
     "name": "stderr",
     "output_type": "stream",
     "text": [
      "Simulation Progress: 100%|██████████| 500000/500000 [02:01<00:00, 4109.74it/s]\n"
     ]
    },
    {
     "name": "stdout",
     "output_type": "stream",
     "text": [
      "Partition 3 completed, convergence counter: 11093\n"
     ]
    },
    {
     "name": "stderr",
     "output_type": "stream",
     "text": [
      "Simulation Progress: 100%|██████████| 500000/500000 [02:09<00:00, 3864.16it/s]\n"
     ]
    },
    {
     "name": "stdout",
     "output_type": "stream",
     "text": [
      "Partition 4 completed, convergence counter: 262\n"
     ]
    },
    {
     "name": "stderr",
     "output_type": "stream",
     "text": [
      "Simulation Progress: 100%|██████████| 500000/500000 [02:07<00:00, 3916.13it/s]\n"
     ]
    },
    {
     "name": "stdout",
     "output_type": "stream",
     "text": [
      "Partition 5 completed, convergence counter: 2076\n"
     ]
    },
    {
     "name": "stderr",
     "output_type": "stream",
     "text": [
      "Simulation Progress: 100%|██████████| 500000/500000 [02:13<00:00, 3735.80it/s]\n"
     ]
    },
    {
     "name": "stdout",
     "output_type": "stream",
     "text": [
      "Partition 6 completed, convergence counter: 221\n"
     ]
    },
    {
     "name": "stderr",
     "output_type": "stream",
     "text": [
      "Simulation Progress: 100%|██████████| 500000/500000 [02:24<00:00, 3462.35it/s]\n"
     ]
    },
    {
     "name": "stdout",
     "output_type": "stream",
     "text": [
      "Partition 7 completed, convergence counter: 4269\n"
     ]
    },
    {
     "name": "stderr",
     "output_type": "stream",
     "text": [
      "Simulation Progress: 100%|██████████| 500000/500000 [02:20<00:00, 3554.86it/s]\n"
     ]
    },
    {
     "name": "stdout",
     "output_type": "stream",
     "text": [
      "Partition 8 completed, convergence counter: 8148\n"
     ]
    },
    {
     "name": "stderr",
     "output_type": "stream",
     "text": [
      "Simulation Progress: 100%|██████████| 500000/500000 [02:13<00:00, 3749.68it/s]\n"
     ]
    },
    {
     "name": "stdout",
     "output_type": "stream",
     "text": [
      "Partition 9 completed, convergence counter: 164700\n"
     ]
    },
    {
     "name": "stderr",
     "output_type": "stream",
     "text": [
      "Simulation Progress: 100%|██████████| 500000/500000 [02:20<00:00, 3554.42it/s]\n"
     ]
    },
    {
     "name": "stdout",
     "output_type": "stream",
     "text": [
      "Partition 10 completed, convergence counter: 12638\n"
     ]
    },
    {
     "name": "stderr",
     "output_type": "stream",
     "text": [
      "Simulation Progress: 100%|██████████| 500000/500000 [02:07<00:00, 3928.51it/s]\n"
     ]
    },
    {
     "name": "stdout",
     "output_type": "stream",
     "text": [
      "Partition 11 completed, convergence counter: 9306\n"
     ]
    },
    {
     "name": "stderr",
     "output_type": "stream",
     "text": [
      "Simulation Progress: 100%|██████████| 500000/500000 [02:09<00:00, 3873.35it/s]\n"
     ]
    },
    {
     "name": "stdout",
     "output_type": "stream",
     "text": [
      "Partition 12 completed, convergence counter: 2270\n"
     ]
    },
    {
     "name": "stderr",
     "output_type": "stream",
     "text": [
      "Simulation Progress: 100%|██████████| 500000/500000 [02:18<00:00, 3598.85it/s]\n"
     ]
    },
    {
     "name": "stdout",
     "output_type": "stream",
     "text": [
      "Partition 13 completed, convergence counter: 7616\n"
     ]
    },
    {
     "name": "stderr",
     "output_type": "stream",
     "text": [
      "Simulation Progress: 100%|██████████| 500000/500000 [02:08<00:00, 3880.00it/s]\n"
     ]
    },
    {
     "name": "stdout",
     "output_type": "stream",
     "text": [
      "Partition 14 completed, convergence counter: 95405\n"
     ]
    },
    {
     "name": "stderr",
     "output_type": "stream",
     "text": [
      "Simulation Progress: 100%|██████████| 500000/500000 [02:14<00:00, 3728.00it/s]\n"
     ]
    },
    {
     "name": "stdout",
     "output_type": "stream",
     "text": [
      "Partition 15 completed, convergence counter: 20231\n"
     ]
    },
    {
     "name": "stderr",
     "output_type": "stream",
     "text": [
      "Simulation Progress: 100%|██████████| 500000/500000 [02:25<00:00, 3444.04it/s]\n"
     ]
    },
    {
     "name": "stdout",
     "output_type": "stream",
     "text": [
      "Partition 16 completed, convergence counter: 148127\n"
     ]
    },
    {
     "name": "stderr",
     "output_type": "stream",
     "text": [
      "Simulation Progress: 100%|██████████| 500000/500000 [02:32<00:00, 3269.97it/s]\n"
     ]
    },
    {
     "name": "stdout",
     "output_type": "stream",
     "text": [
      "Partition 17 completed, convergence counter: 11054\n"
     ]
    },
    {
     "name": "stderr",
     "output_type": "stream",
     "text": [
      "Simulation Progress: 100%|██████████| 500000/500000 [02:21<00:00, 3529.73it/s]\n"
     ]
    },
    {
     "name": "stdout",
     "output_type": "stream",
     "text": [
      "Partition 18 completed, convergence counter: 10750\n"
     ]
    },
    {
     "name": "stderr",
     "output_type": "stream",
     "text": [
      "Simulation Progress: 100%|██████████| 500000/500000 [02:19<00:00, 3583.55it/s]\n"
     ]
    },
    {
     "name": "stdout",
     "output_type": "stream",
     "text": [
      "Partition 19 completed, convergence counter: 88626\n"
     ]
    },
    {
     "name": "stderr",
     "output_type": "stream",
     "text": [
      "Simulation Progress: 100%|██████████| 500000/500000 [02:16<00:00, 3660.11it/s]\n"
     ]
    },
    {
     "name": "stdout",
     "output_type": "stream",
     "text": [
      "Partition 20 completed, convergence counter: 60182\n"
     ]
    },
    {
     "name": "stderr",
     "output_type": "stream",
     "text": [
      "Simulation Progress: 100%|██████████| 500000/500000 [02:25<00:00, 3428.38it/s]\n"
     ]
    },
    {
     "name": "stdout",
     "output_type": "stream",
     "text": [
      "Partition 21 completed, convergence counter: 79517\n"
     ]
    },
    {
     "name": "stderr",
     "output_type": "stream",
     "text": [
      "Simulation Progress: 100%|██████████| 500000/500000 [02:26<00:00, 3412.02it/s]\n"
     ]
    },
    {
     "name": "stdout",
     "output_type": "stream",
     "text": [
      "Partition 22 completed, convergence counter: 95723\n"
     ]
    },
    {
     "name": "stderr",
     "output_type": "stream",
     "text": [
      "Simulation Progress: 100%|██████████| 500000/500000 [02:15<00:00, 3689.86it/s]\n"
     ]
    },
    {
     "name": "stdout",
     "output_type": "stream",
     "text": [
      "Partition 23 completed, convergence counter: 588015\n"
     ]
    },
    {
     "name": "stderr",
     "output_type": "stream",
     "text": [
      "Simulation Progress: 100%|██████████| 500000/500000 [02:28<00:00, 3358.92it/s]\n"
     ]
    },
    {
     "name": "stdout",
     "output_type": "stream",
     "text": [
      "Partition 24 completed, convergence counter: 31810\n"
     ]
    },
    {
     "name": "stderr",
     "output_type": "stream",
     "text": [
      "Simulation Progress: 100%|██████████| 500000/500000 [02:45<00:00, 3018.67it/s]\n"
     ]
    },
    {
     "name": "stdout",
     "output_type": "stream",
     "text": [
      "Partition 25 completed, convergence counter: 527216\n"
     ]
    },
    {
     "name": "stderr",
     "output_type": "stream",
     "text": [
      "Simulation Progress: 100%|██████████| 500000/500000 [02:28<00:00, 3359.88it/s]\n"
     ]
    },
    {
     "name": "stdout",
     "output_type": "stream",
     "text": [
      "Partition 26 completed, convergence counter: 251127\n"
     ]
    },
    {
     "name": "stderr",
     "output_type": "stream",
     "text": [
      "Simulation Progress: 100%|██████████| 500000/500000 [02:20<00:00, 3558.45it/s]\n"
     ]
    },
    {
     "name": "stdout",
     "output_type": "stream",
     "text": [
      "Partition 27 completed, convergence counter: 145150\n"
     ]
    },
    {
     "name": "stderr",
     "output_type": "stream",
     "text": [
      "Simulation Progress: 100%|██████████| 500000/500000 [02:17<00:00, 3644.14it/s]\n"
     ]
    },
    {
     "name": "stdout",
     "output_type": "stream",
     "text": [
      "Partition 28 completed, convergence counter: 74808\n"
     ]
    },
    {
     "name": "stderr",
     "output_type": "stream",
     "text": [
      "Simulation Progress: 100%|██████████| 500000/500000 [02:05<00:00, 3968.76it/s]\n"
     ]
    },
    {
     "name": "stdout",
     "output_type": "stream",
     "text": [
      "Partition 29 completed, convergence counter: 16586\n"
     ]
    },
    {
     "name": "stderr",
     "output_type": "stream",
     "text": [
      "Simulation Progress: 100%|██████████| 500000/500000 [02:19<00:00, 3583.74it/s]\n"
     ]
    },
    {
     "name": "stdout",
     "output_type": "stream",
     "text": [
      "Partition 30 completed, convergence counter: 423877\n"
     ]
    },
    {
     "name": "stderr",
     "output_type": "stream",
     "text": [
      "Simulation Progress: 100%|██████████| 500000/500000 [02:25<00:00, 3425.54it/s]\n"
     ]
    },
    {
     "name": "stdout",
     "output_type": "stream",
     "text": [
      "Partition 31 completed, convergence counter: 87372\n"
     ]
    },
    {
     "name": "stderr",
     "output_type": "stream",
     "text": [
      "Simulation Progress: 100%|██████████| 500000/500000 [02:38<00:00, 3150.54it/s]\n"
     ]
    },
    {
     "name": "stdout",
     "output_type": "stream",
     "text": [
      "Partition 32 completed, convergence counter: 38036\n"
     ]
    },
    {
     "name": "stderr",
     "output_type": "stream",
     "text": [
      "Simulation Progress: 100%|██████████| 500000/500000 [02:50<00:00, 2933.12it/s]\n"
     ]
    },
    {
     "name": "stdout",
     "output_type": "stream",
     "text": [
      "Partition 33 completed, convergence counter: 425797\n"
     ]
    },
    {
     "name": "stderr",
     "output_type": "stream",
     "text": [
      "Simulation Progress: 100%|██████████| 500000/500000 [02:34<00:00, 3245.77it/s]\n"
     ]
    },
    {
     "name": "stdout",
     "output_type": "stream",
     "text": [
      "Partition 34 completed, convergence counter: 925202\n"
     ]
    },
    {
     "name": "stderr",
     "output_type": "stream",
     "text": [
      "Simulation Progress: 100%|██████████| 500000/500000 [02:29<00:00, 3333.90it/s]\n"
     ]
    },
    {
     "name": "stdout",
     "output_type": "stream",
     "text": [
      "Partition 35 completed, convergence counter: 441884\n"
     ]
    },
    {
     "name": "stderr",
     "output_type": "stream",
     "text": [
      "Simulation Progress: 100%|██████████| 500000/500000 [02:23<00:00, 3496.13it/s]\n"
     ]
    },
    {
     "name": "stdout",
     "output_type": "stream",
     "text": [
      "Partition 36 completed, convergence counter: 941536\n"
     ]
    },
    {
     "name": "stderr",
     "output_type": "stream",
     "text": [
      "Simulation Progress: 100%|██████████| 500000/500000 [02:38<00:00, 3150.15it/s]\n"
     ]
    },
    {
     "name": "stdout",
     "output_type": "stream",
     "text": [
      "Partition 37 completed, convergence counter: 1441167\n"
     ]
    },
    {
     "name": "stderr",
     "output_type": "stream",
     "text": [
      "Simulation Progress: 100%|██████████| 500000/500000 [02:24<00:00, 3452.28it/s]\n"
     ]
    },
    {
     "name": "stdout",
     "output_type": "stream",
     "text": [
      "Partition 38 completed, convergence counter: 73322\n"
     ]
    },
    {
     "name": "stderr",
     "output_type": "stream",
     "text": [
      "Simulation Progress: 100%|██████████| 500000/500000 [02:22<00:00, 3496.56it/s]\n"
     ]
    },
    {
     "name": "stdout",
     "output_type": "stream",
     "text": [
      "Partition 39 completed, convergence counter: 573113\n"
     ]
    },
    {
     "name": "stderr",
     "output_type": "stream",
     "text": [
      "Simulation Progress: 100%|██████████| 500000/500000 [02:20<00:00, 3559.51it/s]\n"
     ]
    },
    {
     "name": "stdout",
     "output_type": "stream",
     "text": [
      "Partition 40 completed, convergence counter: 1072959\n"
     ]
    },
    {
     "name": "stderr",
     "output_type": "stream",
     "text": [
      "Simulation Progress: 100%|██████████| 500000/500000 [02:20<00:00, 3560.87it/s]\n"
     ]
    },
    {
     "name": "stdout",
     "output_type": "stream",
     "text": [
      "Partition 41 completed, convergence counter: 1572854\n"
     ]
    },
    {
     "name": "stderr",
     "output_type": "stream",
     "text": [
      "Simulation Progress: 100%|██████████| 500000/500000 [02:08<00:00, 3877.74it/s]\n"
     ]
    },
    {
     "name": "stdout",
     "output_type": "stream",
     "text": [
      "Partition 42 completed, convergence counter: 2072734\n"
     ]
    },
    {
     "name": "stderr",
     "output_type": "stream",
     "text": [
      "Simulation Progress: 100%|██████████| 500000/500000 [02:22<00:00, 3502.17it/s]\n"
     ]
    },
    {
     "name": "stdout",
     "output_type": "stream",
     "text": [
      "Partition 43 completed, convergence counter: 310879\n"
     ]
    },
    {
     "name": "stderr",
     "output_type": "stream",
     "text": [
      "Simulation Progress: 100%|██████████| 500000/500000 [02:28<00:00, 3360.89it/s]\n"
     ]
    },
    {
     "name": "stdout",
     "output_type": "stream",
     "text": [
      "Partition 44 completed, convergence counter: 810816\n"
     ]
    },
    {
     "name": "stderr",
     "output_type": "stream",
     "text": [
      "Simulation Progress: 100%|██████████| 500000/500000 [02:23<00:00, 3474.08it/s]\n"
     ]
    },
    {
     "name": "stdout",
     "output_type": "stream",
     "text": [
      "Partition 45 completed, convergence counter: 1310756\n"
     ]
    },
    {
     "name": "stderr",
     "output_type": "stream",
     "text": [
      "Simulation Progress: 100%|██████████| 500000/500000 [02:32<00:00, 3280.03it/s]\n"
     ]
    },
    {
     "name": "stdout",
     "output_type": "stream",
     "text": [
      "Partition 46 completed, convergence counter: 1810705\n"
     ]
    },
    {
     "name": "stderr",
     "output_type": "stream",
     "text": [
      "Simulation Progress: 100%|██████████| 500000/500000 [02:51<00:00, 2912.58it/s]\n"
     ]
    },
    {
     "name": "stdout",
     "output_type": "stream",
     "text": [
      "Partition 47 completed, convergence counter: 2310682\n"
     ]
    },
    {
     "name": "stderr",
     "output_type": "stream",
     "text": [
      "Simulation Progress: 100%|██████████| 500000/500000 [02:05<00:00, 3968.53it/s]\n"
     ]
    },
    {
     "name": "stdout",
     "output_type": "stream",
     "text": [
      "Partition 48 completed, convergence counter: 408480\n"
     ]
    },
    {
     "name": "stderr",
     "output_type": "stream",
     "text": [
      "Simulation Progress: 100%|██████████| 500000/500000 [02:21<00:00, 3543.74it/s]\n"
     ]
    },
    {
     "name": "stdout",
     "output_type": "stream",
     "text": [
      "Partition 49 completed, convergence counter: 908467\n"
     ]
    },
    {
     "name": "stderr",
     "output_type": "stream",
     "text": [
      "Simulation Progress: 100%|██████████| 500000/500000 [02:25<00:00, 3425.61it/s]\n"
     ]
    },
    {
     "name": "stdout",
     "output_type": "stream",
     "text": [
      "Partition 50 completed, convergence counter: 1408456\n"
     ]
    },
    {
     "name": "stderr",
     "output_type": "stream",
     "text": [
      "Simulation Progress: 100%|██████████| 500000/500000 [02:23<00:00, 3481.81it/s]\n"
     ]
    },
    {
     "name": "stdout",
     "output_type": "stream",
     "text": [
      "Partition 51 completed, convergence counter: 1908447\n"
     ]
    },
    {
     "name": "stderr",
     "output_type": "stream",
     "text": [
      "Simulation Progress: 100%|██████████| 500000/500000 [02:19<00:00, 3595.68it/s]\n"
     ]
    },
    {
     "name": "stdout",
     "output_type": "stream",
     "text": [
      "Partition 52 completed, convergence counter: 2408433\n"
     ]
    },
    {
     "name": "stderr",
     "output_type": "stream",
     "text": [
      "Simulation Progress: 100%|██████████| 500000/500000 [02:23<00:00, 3490.60it/s]\n"
     ]
    },
    {
     "name": "stdout",
     "output_type": "stream",
     "text": [
      "Partition 53 completed, convergence counter: 2908428\n"
     ]
    },
    {
     "name": "stderr",
     "output_type": "stream",
     "text": [
      "Simulation Progress: 100%|██████████| 500000/500000 [02:55<00:00, 2855.16it/s]\n"
     ]
    },
    {
     "name": "stdout",
     "output_type": "stream",
     "text": [
      "Partition 54 completed, convergence counter: 3408422\n"
     ]
    },
    {
     "name": "stderr",
     "output_type": "stream",
     "text": [
      "Simulation Progress: 100%|██████████| 500000/500000 [02:46<00:00, 2999.87it/s]\n"
     ]
    },
    {
     "name": "stdout",
     "output_type": "stream",
     "text": [
      "Partition 55 completed, convergence counter: 3908420\n"
     ]
    },
    {
     "name": "stderr",
     "output_type": "stream",
     "text": [
      "Simulation Progress: 100%|██████████| 500000/500000 [02:51<00:00, 2921.44it/s]\n"
     ]
    },
    {
     "name": "stdout",
     "output_type": "stream",
     "text": [
      "Partition 56 completed, convergence counter: 4408416\n"
     ]
    },
    {
     "name": "stderr",
     "output_type": "stream",
     "text": [
      "Simulation Progress: 100%|██████████| 500000/500000 [02:58<00:00, 2799.05it/s]\n"
     ]
    },
    {
     "name": "stdout",
     "output_type": "stream",
     "text": [
      "Partition 57 completed, convergence counter: 4908410\n"
     ]
    },
    {
     "name": "stderr",
     "output_type": "stream",
     "text": [
      "Simulation Progress: 100%|██████████| 500000/500000 [02:30<00:00, 3329.42it/s]\n"
     ]
    },
    {
     "name": "stdout",
     "output_type": "stream",
     "text": [
      "Partition 58 completed, convergence counter: 5408410\n"
     ]
    },
    {
     "name": "stderr",
     "output_type": "stream",
     "text": [
      "Simulation Progress: 100%|██████████| 500000/500000 [02:33<00:00, 3263.20it/s]\n",
      "Simulation Progress: 100%|██████████| 500000/500000 [02:58<00:00, 2801.59it/s]\n"
     ]
    },
    {
     "name": "stdout",
     "output_type": "stream",
     "text": [
      "Partition 1 completed, convergence counter: 85\n"
     ]
    },
    {
     "name": "stderr",
     "output_type": "stream",
     "text": [
      "Simulation Progress: 100%|██████████| 500000/500000 [02:16<00:00, 3670.19it/s]\n"
     ]
    },
    {
     "name": "stdout",
     "output_type": "stream",
     "text": [
      "Partition 2 completed, convergence counter: 6436\n"
     ]
    },
    {
     "name": "stderr",
     "output_type": "stream",
     "text": [
      "Simulation Progress: 100%|██████████| 500000/500000 [02:23<00:00, 3480.66it/s]\n"
     ]
    },
    {
     "name": "stdout",
     "output_type": "stream",
     "text": [
      "Partition 3 completed, convergence counter: 644\n"
     ]
    },
    {
     "name": "stderr",
     "output_type": "stream",
     "text": [
      "Simulation Progress: 100%|██████████| 500000/500000 [02:50<00:00, 2938.77it/s]\n"
     ]
    },
    {
     "name": "stdout",
     "output_type": "stream",
     "text": [
      "Partition 4 completed, convergence counter: 51\n"
     ]
    },
    {
     "name": "stderr",
     "output_type": "stream",
     "text": [
      "Simulation Progress: 100%|██████████| 500000/500000 [02:48<00:00, 2974.22it/s]\n"
     ]
    },
    {
     "name": "stdout",
     "output_type": "stream",
     "text": [
      "Partition 5 completed, convergence counter: 364\n"
     ]
    },
    {
     "name": "stderr",
     "output_type": "stream",
     "text": [
      "Simulation Progress: 100%|██████████| 500000/500000 [02:48<00:00, 2970.43it/s]\n"
     ]
    },
    {
     "name": "stdout",
     "output_type": "stream",
     "text": [
      "Partition 6 completed, convergence counter: 9148\n"
     ]
    },
    {
     "name": "stderr",
     "output_type": "stream",
     "text": [
      "Simulation Progress: 100%|██████████| 500000/500000 [02:38<00:00, 3156.90it/s]\n"
     ]
    },
    {
     "name": "stdout",
     "output_type": "stream",
     "text": [
      "Partition 7 completed, convergence counter: 20762\n"
     ]
    },
    {
     "name": "stderr",
     "output_type": "stream",
     "text": [
      "Simulation Progress: 100%|██████████| 500000/500000 [02:40<00:00, 3114.60it/s]\n"
     ]
    },
    {
     "name": "stdout",
     "output_type": "stream",
     "text": [
      "Partition 8 completed, convergence counter: 227\n"
     ]
    },
    {
     "name": "stderr",
     "output_type": "stream",
     "text": [
      "Simulation Progress: 100%|██████████| 500000/500000 [02:40<00:00, 3121.16it/s]\n"
     ]
    },
    {
     "name": "stdout",
     "output_type": "stream",
     "text": [
      "Partition 9 completed, convergence counter: 79407\n"
     ]
    },
    {
     "name": "stderr",
     "output_type": "stream",
     "text": [
      "Simulation Progress: 100%|██████████| 500000/500000 [02:43<00:00, 3059.49it/s]\n"
     ]
    },
    {
     "name": "stdout",
     "output_type": "stream",
     "text": [
      "Partition 10 completed, convergence counter: 88084\n"
     ]
    },
    {
     "name": "stderr",
     "output_type": "stream",
     "text": [
      "Simulation Progress: 100%|██████████| 500000/500000 [02:23<00:00, 3488.88it/s]\n"
     ]
    },
    {
     "name": "stdout",
     "output_type": "stream",
     "text": [
      "Partition 11 completed, convergence counter: 2401\n"
     ]
    },
    {
     "name": "stderr",
     "output_type": "stream",
     "text": [
      "Simulation Progress: 100%|██████████| 500000/500000 [02:26<00:00, 3404.34it/s]\n"
     ]
    },
    {
     "name": "stdout",
     "output_type": "stream",
     "text": [
      "Partition 12 completed, convergence counter: 16206\n"
     ]
    },
    {
     "name": "stderr",
     "output_type": "stream",
     "text": [
      "Simulation Progress: 100%|██████████| 500000/500000 [02:39<00:00, 3133.67it/s]\n"
     ]
    },
    {
     "name": "stdout",
     "output_type": "stream",
     "text": [
      "Partition 13 completed, convergence counter: 6616\n"
     ]
    },
    {
     "name": "stderr",
     "output_type": "stream",
     "text": [
      "Simulation Progress: 100%|██████████| 500000/500000 [03:00<00:00, 2763.00it/s]\n"
     ]
    },
    {
     "name": "stdout",
     "output_type": "stream",
     "text": [
      "Partition 14 completed, convergence counter: 15784\n"
     ]
    },
    {
     "name": "stderr",
     "output_type": "stream",
     "text": [
      "Simulation Progress: 100%|██████████| 500000/500000 [02:58<00:00, 2798.12it/s]\n"
     ]
    },
    {
     "name": "stdout",
     "output_type": "stream",
     "text": [
      "Partition 15 completed, convergence counter: 83252\n"
     ]
    },
    {
     "name": "stderr",
     "output_type": "stream",
     "text": [
      "Simulation Progress: 100%|██████████| 500000/500000 [02:59<00:00, 2791.65it/s]\n"
     ]
    },
    {
     "name": "stdout",
     "output_type": "stream",
     "text": [
      "Partition 16 completed, convergence counter: 70503\n"
     ]
    },
    {
     "name": "stderr",
     "output_type": "stream",
     "text": [
      "Simulation Progress: 100%|██████████| 500000/500000 [02:25<00:00, 3448.13it/s]\n"
     ]
    },
    {
     "name": "stdout",
     "output_type": "stream",
     "text": [
      "Partition 17 completed, convergence counter: 6974\n"
     ]
    },
    {
     "name": "stderr",
     "output_type": "stream",
     "text": [
      "Simulation Progress: 100%|██████████| 500000/500000 [02:24<00:00, 3463.85it/s]\n"
     ]
    },
    {
     "name": "stdout",
     "output_type": "stream",
     "text": [
      "Partition 18 completed, convergence counter: 83291\n"
     ]
    },
    {
     "name": "stderr",
     "output_type": "stream",
     "text": [
      "Simulation Progress: 100%|██████████| 500000/500000 [03:12<00:00, 2592.72it/s]\n"
     ]
    },
    {
     "name": "stdout",
     "output_type": "stream",
     "text": [
      "Partition 19 completed, convergence counter: 30117\n"
     ]
    },
    {
     "name": "stderr",
     "output_type": "stream",
     "text": [
      "Simulation Progress: 100%|██████████| 500000/500000 [02:59<00:00, 2788.21it/s]\n"
     ]
    },
    {
     "name": "stdout",
     "output_type": "stream",
     "text": [
      "Partition 20 completed, convergence counter: 31697\n"
     ]
    },
    {
     "name": "stderr",
     "output_type": "stream",
     "text": [
      "Simulation Progress: 100%|██████████| 500000/500000 [03:07<00:00, 2662.58it/s]\n"
     ]
    },
    {
     "name": "stdout",
     "output_type": "stream",
     "text": [
      "Partition 21 completed, convergence counter: 13503\n"
     ]
    },
    {
     "name": "stderr",
     "output_type": "stream",
     "text": [
      "Simulation Progress: 100%|██████████| 500000/500000 [03:00<00:00, 2775.83it/s]\n"
     ]
    },
    {
     "name": "stdout",
     "output_type": "stream",
     "text": [
      "Partition 22 completed, convergence counter: 130545\n"
     ]
    },
    {
     "name": "stderr",
     "output_type": "stream",
     "text": [
      "Simulation Progress: 100%|██████████| 500000/500000 [02:26<00:00, 3421.35it/s]\n"
     ]
    },
    {
     "name": "stdout",
     "output_type": "stream",
     "text": [
      "Partition 23 completed, convergence counter: 64048\n"
     ]
    },
    {
     "name": "stderr",
     "output_type": "stream",
     "text": [
      "Simulation Progress: 100%|██████████| 500000/500000 [02:11<00:00, 3814.84it/s]\n"
     ]
    },
    {
     "name": "stdout",
     "output_type": "stream",
     "text": [
      "Partition 24 completed, convergence counter: 169841\n"
     ]
    },
    {
     "name": "stderr",
     "output_type": "stream",
     "text": [
      "Simulation Progress: 100%|██████████| 500000/500000 [02:24<00:00, 3464.15it/s]\n"
     ]
    },
    {
     "name": "stdout",
     "output_type": "stream",
     "text": [
      "Partition 25 completed, convergence counter: 234805\n"
     ]
    },
    {
     "name": "stderr",
     "output_type": "stream",
     "text": [
      "Simulation Progress: 100%|██████████| 500000/500000 [02:56<00:00, 2826.94it/s]\n"
     ]
    },
    {
     "name": "stdout",
     "output_type": "stream",
     "text": [
      "Partition 26 completed, convergence counter: 310482\n"
     ]
    },
    {
     "name": "stderr",
     "output_type": "stream",
     "text": [
      "Simulation Progress: 100%|██████████| 500000/500000 [02:43<00:00, 3066.05it/s]\n"
     ]
    },
    {
     "name": "stdout",
     "output_type": "stream",
     "text": [
      "Partition 27 completed, convergence counter: 807637\n"
     ]
    },
    {
     "name": "stderr",
     "output_type": "stream",
     "text": [
      "Simulation Progress: 100%|██████████| 500000/500000 [02:16<00:00, 3672.91it/s]\n"
     ]
    },
    {
     "name": "stdout",
     "output_type": "stream",
     "text": [
      "Partition 28 completed, convergence counter: 314853\n"
     ]
    },
    {
     "name": "stderr",
     "output_type": "stream",
     "text": [
      "Simulation Progress: 100%|██████████| 500000/500000 [02:15<00:00, 3687.77it/s]\n"
     ]
    },
    {
     "name": "stdout",
     "output_type": "stream",
     "text": [
      "Partition 29 completed, convergence counter: 416023\n"
     ]
    },
    {
     "name": "stderr",
     "output_type": "stream",
     "text": [
      "Simulation Progress: 100%|██████████| 500000/500000 [02:32<00:00, 3272.25it/s]\n"
     ]
    },
    {
     "name": "stdout",
     "output_type": "stream",
     "text": [
      "Partition 30 completed, convergence counter: 352123\n"
     ]
    },
    {
     "name": "stderr",
     "output_type": "stream",
     "text": [
      "Simulation Progress: 100%|██████████| 500000/500000 [02:16<00:00, 3653.32it/s]\n"
     ]
    },
    {
     "name": "stdout",
     "output_type": "stream",
     "text": [
      "Partition 31 completed, convergence counter: 850879\n"
     ]
    },
    {
     "name": "stderr",
     "output_type": "stream",
     "text": [
      "Simulation Progress: 100%|██████████| 500000/500000 [02:43<00:00, 3060.16it/s]\n"
     ]
    },
    {
     "name": "stdout",
     "output_type": "stream",
     "text": [
      "Partition 32 completed, convergence counter: 1349974\n"
     ]
    },
    {
     "name": "stderr",
     "output_type": "stream",
     "text": [
      "Simulation Progress: 100%|██████████| 500000/500000 [02:43<00:00, 3060.02it/s]\n"
     ]
    },
    {
     "name": "stdout",
     "output_type": "stream",
     "text": [
      "Partition 33 completed, convergence counter: 421792\n"
     ]
    },
    {
     "name": "stderr",
     "output_type": "stream",
     "text": [
      "Simulation Progress: 100%|██████████| 500000/500000 [02:19<00:00, 3593.36it/s]\n"
     ]
    },
    {
     "name": "stdout",
     "output_type": "stream",
     "text": [
      "Partition 34 completed, convergence counter: 921204\n"
     ]
    },
    {
     "name": "stderr",
     "output_type": "stream",
     "text": [
      "Simulation Progress: 100%|██████████| 500000/500000 [02:50<00:00, 2934.47it/s]\n"
     ]
    },
    {
     "name": "stdout",
     "output_type": "stream",
     "text": [
      "Partition 35 completed, convergence counter: 1420702\n"
     ]
    },
    {
     "name": "stderr",
     "output_type": "stream",
     "text": [
      "Simulation Progress: 100%|██████████| 500000/500000 [02:54<00:00, 2858.06it/s]\n"
     ]
    },
    {
     "name": "stdout",
     "output_type": "stream",
     "text": [
      "Partition 36 completed, convergence counter: 1920322\n"
     ]
    },
    {
     "name": "stderr",
     "output_type": "stream",
     "text": [
      "Simulation Progress: 100%|██████████| 500000/500000 [02:25<00:00, 3443.51it/s]\n"
     ]
    },
    {
     "name": "stdout",
     "output_type": "stream",
     "text": [
      "Partition 37 completed, convergence counter: 2420047\n"
     ]
    },
    {
     "name": "stderr",
     "output_type": "stream",
     "text": [
      "Simulation Progress: 100%|██████████| 500000/500000 [02:28<00:00, 3366.76it/s]\n"
     ]
    },
    {
     "name": "stdout",
     "output_type": "stream",
     "text": [
      "Partition 38 completed, convergence counter: 84415\n"
     ]
    },
    {
     "name": "stderr",
     "output_type": "stream",
     "text": [
      "Simulation Progress: 100%|██████████| 500000/500000 [02:17<00:00, 3635.27it/s]\n"
     ]
    },
    {
     "name": "stdout",
     "output_type": "stream",
     "text": [
      "Partition 39 completed, convergence counter: 584233\n"
     ]
    },
    {
     "name": "stderr",
     "output_type": "stream",
     "text": [
      "Simulation Progress: 100%|██████████| 500000/500000 [02:38<00:00, 3151.04it/s]\n"
     ]
    },
    {
     "name": "stdout",
     "output_type": "stream",
     "text": [
      "Partition 40 completed, convergence counter: 1084098\n"
     ]
    },
    {
     "name": "stderr",
     "output_type": "stream",
     "text": [
      "Simulation Progress: 100%|██████████| 500000/500000 [02:35<00:00, 3208.28it/s]\n"
     ]
    },
    {
     "name": "stdout",
     "output_type": "stream",
     "text": [
      "Partition 41 completed, convergence counter: 1583965\n"
     ]
    },
    {
     "name": "stderr",
     "output_type": "stream",
     "text": [
      "Simulation Progress: 100%|██████████| 500000/500000 [02:20<00:00, 3570.28it/s]\n"
     ]
    },
    {
     "name": "stdout",
     "output_type": "stream",
     "text": [
      "Partition 42 completed, convergence counter: 2083879\n"
     ]
    },
    {
     "name": "stderr",
     "output_type": "stream",
     "text": [
      "Simulation Progress: 100%|██████████| 500000/500000 [02:29<00:00, 3351.58it/s]\n"
     ]
    },
    {
     "name": "stdout",
     "output_type": "stream",
     "text": [
      "Partition 43 completed, convergence counter: 2583801\n"
     ]
    },
    {
     "name": "stderr",
     "output_type": "stream",
     "text": [
      "Simulation Progress: 100%|██████████| 500000/500000 [02:25<00:00, 3442.75it/s]\n"
     ]
    },
    {
     "name": "stdout",
     "output_type": "stream",
     "text": [
      "Partition 44 completed, convergence counter: 3083734\n"
     ]
    },
    {
     "name": "stderr",
     "output_type": "stream",
     "text": [
      "Simulation Progress: 100%|██████████| 500000/500000 [02:23<00:00, 3495.49it/s]\n"
     ]
    },
    {
     "name": "stdout",
     "output_type": "stream",
     "text": [
      "Partition 45 completed, convergence counter: 3583687\n"
     ]
    },
    {
     "name": "stderr",
     "output_type": "stream",
     "text": [
      "Simulation Progress: 100%|██████████| 500000/500000 [02:29<00:00, 3350.26it/s]\n"
     ]
    },
    {
     "name": "stdout",
     "output_type": "stream",
     "text": [
      "Partition 46 completed, convergence counter: 469540\n"
     ]
    },
    {
     "name": "stderr",
     "output_type": "stream",
     "text": [
      "Simulation Progress: 100%|██████████| 500000/500000 [02:06<00:00, 3954.06it/s]\n"
     ]
    },
    {
     "name": "stdout",
     "output_type": "stream",
     "text": [
      "Partition 47 completed, convergence counter: 969500\n"
     ]
    },
    {
     "name": "stderr",
     "output_type": "stream",
     "text": [
      "Simulation Progress: 100%|██████████| 500000/500000 [02:36<00:00, 3202.96it/s]\n"
     ]
    },
    {
     "name": "stdout",
     "output_type": "stream",
     "text": [
      "Partition 48 completed, convergence counter: 1469467\n"
     ]
    },
    {
     "name": "stderr",
     "output_type": "stream",
     "text": [
      "Simulation Progress: 100%|██████████| 500000/500000 [02:58<00:00, 2805.61it/s]\n"
     ]
    },
    {
     "name": "stdout",
     "output_type": "stream",
     "text": [
      "Partition 49 completed, convergence counter: 1969432\n"
     ]
    },
    {
     "name": "stderr",
     "output_type": "stream",
     "text": [
      "Simulation Progress: 100%|██████████| 500000/500000 [02:03<00:00, 4046.22it/s]\n"
     ]
    },
    {
     "name": "stdout",
     "output_type": "stream",
     "text": [
      "Partition 50 completed, convergence counter: 2469419\n"
     ]
    },
    {
     "name": "stderr",
     "output_type": "stream",
     "text": [
      "Simulation Progress: 100%|██████████| 500000/500000 [02:26<00:00, 3406.85it/s]\n"
     ]
    },
    {
     "name": "stdout",
     "output_type": "stream",
     "text": [
      "Partition 51 completed, convergence counter: 263867\n"
     ]
    },
    {
     "name": "stderr",
     "output_type": "stream",
     "text": [
      "Simulation Progress: 100%|██████████| 500000/500000 [02:04<00:00, 4002.25it/s]\n"
     ]
    },
    {
     "name": "stdout",
     "output_type": "stream",
     "text": [
      "Partition 52 completed, convergence counter: 763854\n"
     ]
    },
    {
     "name": "stderr",
     "output_type": "stream",
     "text": [
      "Simulation Progress: 100%|██████████| 500000/500000 [02:17<00:00, 3642.17it/s]\n"
     ]
    },
    {
     "name": "stdout",
     "output_type": "stream",
     "text": [
      "Partition 53 completed, convergence counter: 1263830\n"
     ]
    },
    {
     "name": "stderr",
     "output_type": "stream",
     "text": [
      "Simulation Progress: 100%|██████████| 500000/500000 [03:11<00:00, 2616.51it/s]\n"
     ]
    },
    {
     "name": "stdout",
     "output_type": "stream",
     "text": [
      "Partition 54 completed, convergence counter: 1763820\n"
     ]
    },
    {
     "name": "stderr",
     "output_type": "stream",
     "text": [
      "Simulation Progress: 100%|██████████| 500000/500000 [03:11<00:00, 2615.16it/s]\n"
     ]
    },
    {
     "name": "stdout",
     "output_type": "stream",
     "text": [
      "Partition 55 completed, convergence counter: 2263818\n"
     ]
    },
    {
     "name": "stderr",
     "output_type": "stream",
     "text": [
      "Simulation Progress: 100%|██████████| 500000/500000 [02:31<00:00, 3310.63it/s]\n"
     ]
    },
    {
     "name": "stdout",
     "output_type": "stream",
     "text": [
      "Partition 56 completed, convergence counter: 2763814\n"
     ]
    },
    {
     "name": "stderr",
     "output_type": "stream",
     "text": [
      "Simulation Progress: 100%|██████████| 500000/500000 [02:33<00:00, 3259.19it/s]\n"
     ]
    },
    {
     "name": "stdout",
     "output_type": "stream",
     "text": [
      "Partition 57 completed, convergence counter: 3263814\n"
     ]
    },
    {
     "name": "stderr",
     "output_type": "stream",
     "text": [
      "Simulation Progress: 100%|██████████| 500000/500000 [02:44<00:00, 3042.33it/s]\n"
     ]
    },
    {
     "name": "stdout",
     "output_type": "stream",
     "text": [
      "Partition 58 completed, convergence counter: 346490\n"
     ]
    },
    {
     "name": "stderr",
     "output_type": "stream",
     "text": [
      "Simulation Progress: 100%|██████████| 500000/500000 [02:58<00:00, 2801.77it/s]\n"
     ]
    },
    {
     "name": "stdout",
     "output_type": "stream",
     "text": [
      "Partition 59 completed, convergence counter: 846488\n"
     ]
    },
    {
     "name": "stderr",
     "output_type": "stream",
     "text": [
      "Simulation Progress: 100%|██████████| 500000/500000 [02:59<00:00, 2793.23it/s]\n"
     ]
    },
    {
     "name": "stdout",
     "output_type": "stream",
     "text": [
      "Partition 60 completed, convergence counter: 1346486\n"
     ]
    },
    {
     "name": "stderr",
     "output_type": "stream",
     "text": [
      "Simulation Progress: 100%|██████████| 500000/500000 [02:12<00:00, 3774.43it/s]\n"
     ]
    },
    {
     "name": "stdout",
     "output_type": "stream",
     "text": [
      "Partition 61 completed, convergence counter: 285815\n"
     ]
    },
    {
     "name": "stderr",
     "output_type": "stream",
     "text": [
      "Simulation Progress: 100%|██████████| 500000/500000 [03:08<00:00, 2647.99it/s]\n"
     ]
    },
    {
     "name": "stdout",
     "output_type": "stream",
     "text": [
      "Partition 62 completed, convergence counter: 785812\n"
     ]
    },
    {
     "name": "stderr",
     "output_type": "stream",
     "text": [
      "Simulation Progress: 100%|██████████| 500000/500000 [03:09<00:00, 2636.56it/s]\n"
     ]
    },
    {
     "name": "stdout",
     "output_type": "stream",
     "text": [
      "Partition 63 completed, convergence counter: 1285809\n"
     ]
    },
    {
     "name": "stderr",
     "output_type": "stream",
     "text": [
      "Simulation Progress: 100%|██████████| 500000/500000 [02:57<00:00, 2823.99it/s]\n"
     ]
    },
    {
     "name": "stdout",
     "output_type": "stream",
     "text": [
      "Partition 64 completed, convergence counter: 1785809\n"
     ]
    },
    {
     "name": "stderr",
     "output_type": "stream",
     "text": [
      "Simulation Progress: 100%|██████████| 500000/500000 [02:31<00:00, 3290.98it/s]\n"
     ]
    },
    {
     "name": "stdout",
     "output_type": "stream",
     "text": [
      "Partition 65 completed, convergence counter: 2285809\n"
     ]
    },
    {
     "name": "stderr",
     "output_type": "stream",
     "text": [
      "Simulation Progress: 100%|██████████| 500000/500000 [02:25<00:00, 3438.82it/s]\n"
     ]
    },
    {
     "name": "stdout",
     "output_type": "stream",
     "text": [
      "Partition 66 completed, convergence counter: 2785809\n"
     ]
    },
    {
     "name": "stderr",
     "output_type": "stream",
     "text": [
      "Simulation Progress: 100%|██████████| 500000/500000 [02:29<00:00, 3350.97it/s]\n"
     ]
    },
    {
     "name": "stdout",
     "output_type": "stream",
     "text": [
      "Partition 67 completed, convergence counter: 3285806\n"
     ]
    },
    {
     "name": "stderr",
     "output_type": "stream",
     "text": [
      "Simulation Progress: 100%|██████████| 500000/500000 [02:38<00:00, 3156.88it/s]\n"
     ]
    },
    {
     "name": "stdout",
     "output_type": "stream",
     "text": [
      "Partition 68 completed, convergence counter: 3785806\n"
     ]
    },
    {
     "name": "stderr",
     "output_type": "stream",
     "text": [
      "Simulation Progress: 100%|██████████| 500000/500000 [02:29<00:00, 3344.12it/s]\n"
     ]
    },
    {
     "name": "stdout",
     "output_type": "stream",
     "text": [
      "Partition 69 completed, convergence counter: 4285806\n"
     ]
    },
    {
     "name": "stderr",
     "output_type": "stream",
     "text": [
      "Simulation Progress: 100%|██████████| 500000/500000 [03:18<00:00, 2518.90it/s]\n"
     ]
    },
    {
     "name": "stdout",
     "output_type": "stream",
     "text": [
      "Partition 70 completed, convergence counter: 4785806\n"
     ]
    },
    {
     "name": "stderr",
     "output_type": "stream",
     "text": [
      "Simulation Progress: 100%|██████████| 500000/500000 [03:01<00:00, 2756.11it/s]\n"
     ]
    },
    {
     "name": "stdout",
     "output_type": "stream",
     "text": [
      "Partition 71 completed, convergence counter: 5285806\n"
     ]
    },
    {
     "name": "stderr",
     "output_type": "stream",
     "text": [
      "Simulation Progress: 100%|██████████| 500000/500000 [02:16<00:00, 3661.75it/s]\n",
      "Simulation Progress: 100%|██████████| 500000/500000 [02:20<00:00, 3559.91it/s]\n"
     ]
    },
    {
     "name": "stdout",
     "output_type": "stream",
     "text": [
      "Partition 1 completed, convergence counter: 200\n"
     ]
    },
    {
     "name": "stderr",
     "output_type": "stream",
     "text": [
      "Simulation Progress: 100%|██████████| 500000/500000 [02:29<00:00, 3341.51it/s]\n"
     ]
    },
    {
     "name": "stdout",
     "output_type": "stream",
     "text": [
      "Partition 2 completed, convergence counter: 1575\n"
     ]
    },
    {
     "name": "stderr",
     "output_type": "stream",
     "text": [
      "Simulation Progress: 100%|██████████| 500000/500000 [02:34<00:00, 3238.81it/s]\n"
     ]
    },
    {
     "name": "stdout",
     "output_type": "stream",
     "text": [
      "Partition 3 completed, convergence counter: 204\n"
     ]
    },
    {
     "name": "stderr",
     "output_type": "stream",
     "text": [
      "Simulation Progress: 100%|██████████| 500000/500000 [02:41<00:00, 3104.91it/s]\n"
     ]
    },
    {
     "name": "stdout",
     "output_type": "stream",
     "text": [
      "Partition 4 completed, convergence counter: 109\n"
     ]
    },
    {
     "name": "stderr",
     "output_type": "stream",
     "text": [
      "Simulation Progress: 100%|██████████| 500000/500000 [02:54<00:00, 2872.31it/s]\n"
     ]
    },
    {
     "name": "stdout",
     "output_type": "stream",
     "text": [
      "Partition 5 completed, convergence counter: 9515\n"
     ]
    },
    {
     "name": "stderr",
     "output_type": "stream",
     "text": [
      "Simulation Progress: 100%|██████████| 500000/500000 [02:41<00:00, 3102.59it/s]\n"
     ]
    },
    {
     "name": "stdout",
     "output_type": "stream",
     "text": [
      "Partition 6 completed, convergence counter: 413\n"
     ]
    },
    {
     "name": "stderr",
     "output_type": "stream",
     "text": [
      "Simulation Progress: 100%|██████████| 500000/500000 [02:21<00:00, 3545.88it/s]\n"
     ]
    },
    {
     "name": "stdout",
     "output_type": "stream",
     "text": [
      "Partition 7 completed, convergence counter: 2867\n"
     ]
    },
    {
     "name": "stderr",
     "output_type": "stream",
     "text": [
      "Simulation Progress: 100%|██████████| 500000/500000 [02:15<00:00, 3691.55it/s]\n"
     ]
    },
    {
     "name": "stdout",
     "output_type": "stream",
     "text": [
      "Partition 8 completed, convergence counter: 38851\n"
     ]
    },
    {
     "name": "stderr",
     "output_type": "stream",
     "text": [
      "Simulation Progress: 100%|██████████| 500000/500000 [02:27<00:00, 3382.05it/s]\n"
     ]
    },
    {
     "name": "stdout",
     "output_type": "stream",
     "text": [
      "Partition 9 completed, convergence counter: 21438\n"
     ]
    },
    {
     "name": "stderr",
     "output_type": "stream",
     "text": [
      "Simulation Progress: 100%|██████████| 500000/500000 [02:33<00:00, 3246.90it/s]\n"
     ]
    },
    {
     "name": "stdout",
     "output_type": "stream",
     "text": [
      "Partition 10 completed, convergence counter: 35\n"
     ]
    },
    {
     "name": "stderr",
     "output_type": "stream",
     "text": [
      "Simulation Progress: 100%|██████████| 500000/500000 [02:45<00:00, 3019.60it/s]\n"
     ]
    },
    {
     "name": "stdout",
     "output_type": "stream",
     "text": [
      "Partition 11 completed, convergence counter: 151390\n"
     ]
    },
    {
     "name": "stderr",
     "output_type": "stream",
     "text": [
      "Simulation Progress: 100%|██████████| 500000/500000 [02:21<00:00, 3530.58it/s]\n"
     ]
    },
    {
     "name": "stdout",
     "output_type": "stream",
     "text": [
      "Partition 12 completed, convergence counter: 2106\n"
     ]
    },
    {
     "name": "stderr",
     "output_type": "stream",
     "text": [
      "Simulation Progress: 100%|██████████| 500000/500000 [02:16<00:00, 3659.92it/s]\n"
     ]
    },
    {
     "name": "stdout",
     "output_type": "stream",
     "text": [
      "Partition 13 completed, convergence counter: 6626\n"
     ]
    },
    {
     "name": "stderr",
     "output_type": "stream",
     "text": [
      "Simulation Progress: 100%|██████████| 500000/500000 [02:49<00:00, 2947.38it/s]\n"
     ]
    },
    {
     "name": "stdout",
     "output_type": "stream",
     "text": [
      "Partition 14 completed, convergence counter: 10\n"
     ]
    },
    {
     "name": "stderr",
     "output_type": "stream",
     "text": [
      "Simulation Progress: 100%|██████████| 500000/500000 [03:03<00:00, 2717.98it/s]\n"
     ]
    },
    {
     "name": "stdout",
     "output_type": "stream",
     "text": [
      "Partition 15 completed, convergence counter: 322279\n"
     ]
    },
    {
     "name": "stderr",
     "output_type": "stream",
     "text": [
      "Simulation Progress: 100%|██████████| 500000/500000 [02:33<00:00, 3264.88it/s]\n"
     ]
    },
    {
     "name": "stdout",
     "output_type": "stream",
     "text": [
      "Partition 16 completed, convergence counter: 32028\n"
     ]
    },
    {
     "name": "stderr",
     "output_type": "stream",
     "text": [
      "Simulation Progress: 100%|██████████| 500000/500000 [02:54<00:00, 2864.31it/s]\n"
     ]
    },
    {
     "name": "stdout",
     "output_type": "stream",
     "text": [
      "Partition 17 completed, convergence counter: 30826\n"
     ]
    },
    {
     "name": "stderr",
     "output_type": "stream",
     "text": [
      "Simulation Progress: 100%|██████████| 500000/500000 [02:29<00:00, 3339.44it/s]\n"
     ]
    },
    {
     "name": "stdout",
     "output_type": "stream",
     "text": [
      "Partition 18 completed, convergence counter: 19184\n"
     ]
    },
    {
     "name": "stderr",
     "output_type": "stream",
     "text": [
      "Simulation Progress: 100%|██████████| 500000/500000 [02:24<00:00, 3461.92it/s]\n"
     ]
    },
    {
     "name": "stdout",
     "output_type": "stream",
     "text": [
      "Partition 19 completed, convergence counter: 10730\n"
     ]
    },
    {
     "name": "stderr",
     "output_type": "stream",
     "text": [
      "Simulation Progress: 100%|██████████| 500000/500000 [02:22<00:00, 3513.83it/s]\n"
     ]
    },
    {
     "name": "stdout",
     "output_type": "stream",
     "text": [
      "Partition 20 completed, convergence counter: 198841\n"
     ]
    },
    {
     "name": "stderr",
     "output_type": "stream",
     "text": [
      "Simulation Progress: 100%|██████████| 500000/500000 [02:21<00:00, 3529.86it/s]\n"
     ]
    },
    {
     "name": "stdout",
     "output_type": "stream",
     "text": [
      "Partition 21 completed, convergence counter: 39740\n"
     ]
    },
    {
     "name": "stderr",
     "output_type": "stream",
     "text": [
      "Simulation Progress: 100%|██████████| 500000/500000 [02:24<00:00, 3456.68it/s]\n"
     ]
    },
    {
     "name": "stdout",
     "output_type": "stream",
     "text": [
      "Partition 22 completed, convergence counter: 530411\n"
     ]
    },
    {
     "name": "stderr",
     "output_type": "stream",
     "text": [
      "Simulation Progress: 100%|██████████| 500000/500000 [03:16<00:00, 2545.88it/s]\n"
     ]
    },
    {
     "name": "stdout",
     "output_type": "stream",
     "text": [
      "Partition 23 completed, convergence counter: 62116\n"
     ]
    },
    {
     "name": "stderr",
     "output_type": "stream",
     "text": [
      "Simulation Progress: 100%|██████████| 500000/500000 [02:29<00:00, 3343.19it/s]\n"
     ]
    },
    {
     "name": "stdout",
     "output_type": "stream",
     "text": [
      "Partition 24 completed, convergence counter: 1\n"
     ]
    },
    {
     "name": "stderr",
     "output_type": "stream",
     "text": [
      "Simulation Progress: 100%|██████████| 500000/500000 [02:34<00:00, 3234.72it/s]\n"
     ]
    },
    {
     "name": "stdout",
     "output_type": "stream",
     "text": [
      "Partition 25 completed, convergence counter: 477021\n"
     ]
    },
    {
     "name": "stderr",
     "output_type": "stream",
     "text": [
      "Simulation Progress: 100%|██████████| 500000/500000 [03:15<00:00, 2552.53it/s]\n"
     ]
    },
    {
     "name": "stdout",
     "output_type": "stream",
     "text": [
      "Partition 26 completed, convergence counter: 973347\n"
     ]
    },
    {
     "name": "stderr",
     "output_type": "stream",
     "text": [
      "Simulation Progress: 100%|██████████| 500000/500000 [03:14<00:00, 2573.65it/s]\n"
     ]
    },
    {
     "name": "stdout",
     "output_type": "stream",
     "text": [
      "Partition 27 completed, convergence counter: 1470317\n"
     ]
    },
    {
     "name": "stderr",
     "output_type": "stream",
     "text": [
      "Simulation Progress: 100%|██████████| 500000/500000 [02:27<00:00, 3391.18it/s]\n"
     ]
    },
    {
     "name": "stdout",
     "output_type": "stream",
     "text": [
      "Partition 28 completed, convergence counter: 77179\n"
     ]
    },
    {
     "name": "stderr",
     "output_type": "stream",
     "text": [
      "Simulation Progress: 100%|██████████| 500000/500000 [02:24<00:00, 3453.03it/s]\n"
     ]
    },
    {
     "name": "stdout",
     "output_type": "stream",
     "text": [
      "Partition 29 completed, convergence counter: 66092\n"
     ]
    },
    {
     "name": "stderr",
     "output_type": "stream",
     "text": [
      "Simulation Progress: 100%|██████████| 500000/500000 [02:27<00:00, 3387.86it/s]\n"
     ]
    },
    {
     "name": "stdout",
     "output_type": "stream",
     "text": [
      "Partition 30 completed, convergence counter: 564704\n"
     ]
    },
    {
     "name": "stderr",
     "output_type": "stream",
     "text": [
      "Simulation Progress: 100%|██████████| 500000/500000 [02:17<00:00, 3636.08it/s]\n"
     ]
    },
    {
     "name": "stdout",
     "output_type": "stream",
     "text": [
      "Partition 31 completed, convergence counter: 1063674\n"
     ]
    },
    {
     "name": "stderr",
     "output_type": "stream",
     "text": [
      "Simulation Progress: 100%|██████████| 500000/500000 [02:41<00:00, 3096.96it/s]\n"
     ]
    },
    {
     "name": "stdout",
     "output_type": "stream",
     "text": [
      "Partition 32 completed, convergence counter: 1562778\n"
     ]
    },
    {
     "name": "stderr",
     "output_type": "stream",
     "text": [
      "Simulation Progress: 100%|██████████| 500000/500000 [03:00<00:00, 2771.55it/s]\n"
     ]
    },
    {
     "name": "stdout",
     "output_type": "stream",
     "text": [
      "Partition 33 completed, convergence counter: 260899\n"
     ]
    },
    {
     "name": "stderr",
     "output_type": "stream",
     "text": [
      "Simulation Progress: 100%|██████████| 500000/500000 [02:42<00:00, 3074.04it/s]\n"
     ]
    },
    {
     "name": "stdout",
     "output_type": "stream",
     "text": [
      "Partition 34 completed, convergence counter: 760289\n"
     ]
    },
    {
     "name": "stderr",
     "output_type": "stream",
     "text": [
      "Simulation Progress: 100%|██████████| 500000/500000 [02:16<00:00, 3658.13it/s]\n"
     ]
    },
    {
     "name": "stdout",
     "output_type": "stream",
     "text": [
      "Partition 35 completed, convergence counter: 1259791\n"
     ]
    },
    {
     "name": "stderr",
     "output_type": "stream",
     "text": [
      "Simulation Progress: 100%|██████████| 500000/500000 [02:16<00:00, 3669.85it/s]\n"
     ]
    },
    {
     "name": "stdout",
     "output_type": "stream",
     "text": [
      "Partition 36 completed, convergence counter: 1759408\n"
     ]
    },
    {
     "name": "stderr",
     "output_type": "stream",
     "text": [
      "Simulation Progress: 100%|██████████| 500000/500000 [02:20<00:00, 3566.12it/s]\n"
     ]
    },
    {
     "name": "stdout",
     "output_type": "stream",
     "text": [
      "Partition 37 completed, convergence counter: 2259099\n"
     ]
    },
    {
     "name": "stderr",
     "output_type": "stream",
     "text": [
      "Simulation Progress: 100%|██████████| 500000/500000 [02:15<00:00, 3693.06it/s]\n"
     ]
    },
    {
     "name": "stdout",
     "output_type": "stream",
     "text": [
      "Partition 38 completed, convergence counter: 2758846\n"
     ]
    },
    {
     "name": "stderr",
     "output_type": "stream",
     "text": [
      "Simulation Progress: 100%|██████████| 500000/500000 [02:35<00:00, 3209.90it/s]\n"
     ]
    },
    {
     "name": "stdout",
     "output_type": "stream",
     "text": [
      "Partition 39 completed, convergence counter: 3258673\n"
     ]
    },
    {
     "name": "stderr",
     "output_type": "stream",
     "text": [
      "Simulation Progress: 100%|██████████| 500000/500000 [03:07<00:00, 2672.34it/s]\n"
     ]
    },
    {
     "name": "stdout",
     "output_type": "stream",
     "text": [
      "Partition 40 completed, convergence counter: 437659\n"
     ]
    },
    {
     "name": "stderr",
     "output_type": "stream",
     "text": [
      "Simulation Progress: 100%|██████████| 500000/500000 [03:12<00:00, 2602.41it/s]\n"
     ]
    },
    {
     "name": "stdout",
     "output_type": "stream",
     "text": [
      "Partition 41 completed, convergence counter: 937547\n"
     ]
    },
    {
     "name": "stderr",
     "output_type": "stream",
     "text": [
      "Simulation Progress: 100%|██████████| 500000/500000 [02:25<00:00, 3432.09it/s]\n"
     ]
    },
    {
     "name": "stdout",
     "output_type": "stream",
     "text": [
      "Partition 42 completed, convergence counter: 1437433\n"
     ]
    },
    {
     "name": "stderr",
     "output_type": "stream",
     "text": [
      "Simulation Progress: 100%|██████████| 500000/500000 [02:11<00:00, 3798.84it/s]\n"
     ]
    },
    {
     "name": "stdout",
     "output_type": "stream",
     "text": [
      "Partition 43 completed, convergence counter: 1937363\n"
     ]
    },
    {
     "name": "stderr",
     "output_type": "stream",
     "text": [
      "Simulation Progress: 100%|██████████| 500000/500000 [03:18<00:00, 2517.14it/s]\n"
     ]
    },
    {
     "name": "stdout",
     "output_type": "stream",
     "text": [
      "Partition 44 completed, convergence counter: 2437279\n"
     ]
    },
    {
     "name": "stderr",
     "output_type": "stream",
     "text": [
      "Simulation Progress: 100%|██████████| 500000/500000 [03:07<00:00, 2664.01it/s]\n"
     ]
    },
    {
     "name": "stdout",
     "output_type": "stream",
     "text": [
      "Partition 45 completed, convergence counter: 2937222\n"
     ]
    },
    {
     "name": "stderr",
     "output_type": "stream",
     "text": [
      "Simulation Progress: 100%|██████████| 500000/500000 [02:19<00:00, 3588.75it/s]\n"
     ]
    },
    {
     "name": "stdout",
     "output_type": "stream",
     "text": [
      "Partition 46 completed, convergence counter: 3437165\n"
     ]
    },
    {
     "name": "stderr",
     "output_type": "stream",
     "text": [
      "Simulation Progress: 100%|██████████| 500000/500000 [02:50<00:00, 2939.78it/s]\n"
     ]
    },
    {
     "name": "stdout",
     "output_type": "stream",
     "text": [
      "Partition 47 completed, convergence counter: 3937124\n"
     ]
    },
    {
     "name": "stderr",
     "output_type": "stream",
     "text": [
      "Simulation Progress: 100%|██████████| 500000/500000 [03:25<00:00, 2433.72it/s]\n"
     ]
    },
    {
     "name": "stdout",
     "output_type": "stream",
     "text": [
      "Partition 48 completed, convergence counter: 4437101\n"
     ]
    },
    {
     "name": "stderr",
     "output_type": "stream",
     "text": [
      "Simulation Progress: 100%|██████████| 500000/500000 [03:16<00:00, 2540.49it/s]\n"
     ]
    },
    {
     "name": "stdout",
     "output_type": "stream",
     "text": [
      "Partition 49 completed, convergence counter: 4937086\n"
     ]
    },
    {
     "name": "stderr",
     "output_type": "stream",
     "text": [
      "Simulation Progress: 100%|██████████| 500000/500000 [02:28<00:00, 3371.49it/s]\n"
     ]
    },
    {
     "name": "stdout",
     "output_type": "stream",
     "text": [
      "Partition 50 completed, convergence counter: 5437053\n"
     ]
    },
    {
     "name": "stderr",
     "output_type": "stream",
     "text": [
      "Simulation Progress: 100%|██████████| 500000/500000 [02:23<00:00, 3492.54it/s]\n",
      "Simulation Progress: 100%|██████████| 500000/500000 [02:16<00:00, 3675.78it/s]\n"
     ]
    },
    {
     "name": "stdout",
     "output_type": "stream",
     "text": [
      "Partition 1 completed, convergence counter: 38\n"
     ]
    },
    {
     "name": "stderr",
     "output_type": "stream",
     "text": [
      "Simulation Progress: 100%|██████████| 500000/500000 [02:30<00:00, 3326.30it/s]\n"
     ]
    },
    {
     "name": "stdout",
     "output_type": "stream",
     "text": [
      "Partition 2 completed, convergence counter: 2457\n"
     ]
    },
    {
     "name": "stderr",
     "output_type": "stream",
     "text": [
      "Simulation Progress: 100%|██████████| 500000/500000 [02:53<00:00, 2881.36it/s]\n"
     ]
    },
    {
     "name": "stdout",
     "output_type": "stream",
     "text": [
      "Partition 3 completed, convergence counter: 43\n"
     ]
    },
    {
     "name": "stderr",
     "output_type": "stream",
     "text": [
      "Simulation Progress: 100%|██████████| 500000/500000 [02:58<00:00, 2796.43it/s]\n"
     ]
    },
    {
     "name": "stdout",
     "output_type": "stream",
     "text": [
      "Partition 4 completed, convergence counter: 2060\n"
     ]
    },
    {
     "name": "stderr",
     "output_type": "stream",
     "text": [
      "Simulation Progress: 100%|██████████| 500000/500000 [02:27<00:00, 3378.85it/s]\n"
     ]
    },
    {
     "name": "stdout",
     "output_type": "stream",
     "text": [
      "Partition 5 completed, convergence counter: 1115\n"
     ]
    },
    {
     "name": "stderr",
     "output_type": "stream",
     "text": [
      "Simulation Progress: 100%|██████████| 500000/500000 [02:23<00:00, 3479.77it/s]\n"
     ]
    },
    {
     "name": "stdout",
     "output_type": "stream",
     "text": [
      "Partition 6 completed, convergence counter: 47508\n"
     ]
    },
    {
     "name": "stderr",
     "output_type": "stream",
     "text": [
      "Simulation Progress: 100%|██████████| 500000/500000 [02:35<00:00, 3224.98it/s]\n"
     ]
    },
    {
     "name": "stdout",
     "output_type": "stream",
     "text": [
      "Partition 7 completed, convergence counter: 35399\n"
     ]
    },
    {
     "name": "stderr",
     "output_type": "stream",
     "text": [
      "Simulation Progress: 100%|██████████| 500000/500000 [02:23<00:00, 3476.25it/s]\n"
     ]
    },
    {
     "name": "stdout",
     "output_type": "stream",
     "text": [
      "Partition 8 completed, convergence counter: 368\n"
     ]
    },
    {
     "name": "stderr",
     "output_type": "stream",
     "text": [
      "Simulation Progress: 100%|██████████| 500000/500000 [02:25<00:00, 3436.28it/s]\n"
     ]
    },
    {
     "name": "stdout",
     "output_type": "stream",
     "text": [
      "Partition 9 completed, convergence counter: 33915\n"
     ]
    },
    {
     "name": "stderr",
     "output_type": "stream",
     "text": [
      "Simulation Progress: 100%|██████████| 500000/500000 [02:59<00:00, 2792.57it/s]\n"
     ]
    },
    {
     "name": "stdout",
     "output_type": "stream",
     "text": [
      "Partition 10 completed, convergence counter: 25269\n"
     ]
    },
    {
     "name": "stderr",
     "output_type": "stream",
     "text": [
      "Simulation Progress: 100%|██████████| 500000/500000 [03:02<00:00, 2733.77it/s]\n"
     ]
    },
    {
     "name": "stdout",
     "output_type": "stream",
     "text": [
      "Partition 11 completed, convergence counter: 206971\n"
     ]
    },
    {
     "name": "stderr",
     "output_type": "stream",
     "text": [
      "Simulation Progress: 100%|██████████| 500000/500000 [02:18<00:00, 3601.66it/s]\n"
     ]
    },
    {
     "name": "stdout",
     "output_type": "stream",
     "text": [
      "Partition 12 completed, convergence counter: 59814\n"
     ]
    },
    {
     "name": "stderr",
     "output_type": "stream",
     "text": [
      "Simulation Progress: 100%|██████████| 500000/500000 [02:31<00:00, 3294.86it/s]\n"
     ]
    },
    {
     "name": "stdout",
     "output_type": "stream",
     "text": [
      "Partition 13 completed, convergence counter: 54598\n"
     ]
    },
    {
     "name": "stderr",
     "output_type": "stream",
     "text": [
      "Simulation Progress: 100%|██████████| 500000/500000 [02:37<00:00, 3179.93it/s]\n"
     ]
    },
    {
     "name": "stdout",
     "output_type": "stream",
     "text": [
      "Partition 14 completed, convergence counter: 71787\n"
     ]
    },
    {
     "name": "stderr",
     "output_type": "stream",
     "text": [
      "Simulation Progress: 100%|██████████| 500000/500000 [02:32<00:00, 3276.11it/s]\n"
     ]
    },
    {
     "name": "stdout",
     "output_type": "stream",
     "text": [
      "Partition 15 completed, convergence counter: 248143\n"
     ]
    },
    {
     "name": "stderr",
     "output_type": "stream",
     "text": [
      "Simulation Progress: 100%|██████████| 500000/500000 [02:36<00:00, 3197.50it/s]\n"
     ]
    },
    {
     "name": "stdout",
     "output_type": "stream",
     "text": [
      "Partition 16 completed, convergence counter: 247634\n"
     ]
    },
    {
     "name": "stderr",
     "output_type": "stream",
     "text": [
      "Simulation Progress: 100%|██████████| 500000/500000 [02:20<00:00, 3560.28it/s]\n"
     ]
    },
    {
     "name": "stdout",
     "output_type": "stream",
     "text": [
      "Partition 17 completed, convergence counter: 318083\n"
     ]
    },
    {
     "name": "stderr",
     "output_type": "stream",
     "text": [
      "Simulation Progress: 100%|██████████| 500000/500000 [02:22<00:00, 3517.96it/s]\n"
     ]
    },
    {
     "name": "stdout",
     "output_type": "stream",
     "text": [
      "Partition 18 completed, convergence counter: 793583\n"
     ]
    },
    {
     "name": "stderr",
     "output_type": "stream",
     "text": [
      "Simulation Progress: 100%|██████████| 500000/500000 [02:25<00:00, 3434.74it/s]\n"
     ]
    },
    {
     "name": "stdout",
     "output_type": "stream",
     "text": [
      "Partition 19 completed, convergence counter: 373434\n"
     ]
    },
    {
     "name": "stderr",
     "output_type": "stream",
     "text": [
      "Simulation Progress: 100%|██████████| 500000/500000 [02:23<00:00, 3496.13it/s]\n"
     ]
    },
    {
     "name": "stdout",
     "output_type": "stream",
     "text": [
      "Partition 20 completed, convergence counter: 102692\n"
     ]
    },
    {
     "name": "stderr",
     "output_type": "stream",
     "text": [
      "Simulation Progress: 100%|██████████| 500000/500000 [02:47<00:00, 2987.70it/s]\n"
     ]
    },
    {
     "name": "stdout",
     "output_type": "stream",
     "text": [
      "Partition 21 completed, convergence counter: 73187\n"
     ]
    },
    {
     "name": "stderr",
     "output_type": "stream",
     "text": [
      "Simulation Progress: 100%|██████████| 500000/500000 [02:12<00:00, 3773.74it/s]\n"
     ]
    },
    {
     "name": "stdout",
     "output_type": "stream",
     "text": [
      "Partition 22 completed, convergence counter: 563270\n"
     ]
    },
    {
     "name": "stderr",
     "output_type": "stream",
     "text": [
      "Simulation Progress: 100%|██████████| 500000/500000 [02:29<00:00, 3348.31it/s]\n"
     ]
    },
    {
     "name": "stdout",
     "output_type": "stream",
     "text": [
      "Partition 23 completed, convergence counter: 1055461\n"
     ]
    },
    {
     "name": "stderr",
     "output_type": "stream",
     "text": [
      "Simulation Progress: 100%|██████████| 500000/500000 [02:11<00:00, 3792.41it/s]\n"
     ]
    },
    {
     "name": "stdout",
     "output_type": "stream",
     "text": [
      "Partition 24 completed, convergence counter: 1549226\n"
     ]
    },
    {
     "name": "stderr",
     "output_type": "stream",
     "text": [
      "Simulation Progress: 100%|██████████| 500000/500000 [02:25<00:00, 3446.72it/s]\n"
     ]
    },
    {
     "name": "stdout",
     "output_type": "stream",
     "text": [
      "Partition 25 completed, convergence counter: 2044281\n"
     ]
    },
    {
     "name": "stderr",
     "output_type": "stream",
     "text": [
      "Simulation Progress: 100%|██████████| 500000/500000 [02:50<00:00, 2929.05it/s]\n"
     ]
    },
    {
     "name": "stdout",
     "output_type": "stream",
     "text": [
      "Partition 26 completed, convergence counter: 2540382\n"
     ]
    },
    {
     "name": "stderr",
     "output_type": "stream",
     "text": [
      "Simulation Progress: 100%|██████████| 500000/500000 [02:57<00:00, 2824.37it/s]\n"
     ]
    },
    {
     "name": "stdout",
     "output_type": "stream",
     "text": [
      "Partition 27 completed, convergence counter: 3037353\n"
     ]
    },
    {
     "name": "stderr",
     "output_type": "stream",
     "text": [
      "Simulation Progress: 100%|██████████| 500000/500000 [02:26<00:00, 3421.46it/s]\n"
     ]
    },
    {
     "name": "stdout",
     "output_type": "stream",
     "text": [
      "Partition 28 completed, convergence counter: 400566\n"
     ]
    },
    {
     "name": "stderr",
     "output_type": "stream",
     "text": [
      "Simulation Progress: 100%|██████████| 500000/500000 [02:50<00:00, 2928.83it/s]\n"
     ]
    },
    {
     "name": "stdout",
     "output_type": "stream",
     "text": [
      "Partition 29 completed, convergence counter: 123343\n"
     ]
    },
    {
     "name": "stderr",
     "output_type": "stream",
     "text": [
      "Simulation Progress: 100%|██████████| 500000/500000 [02:56<00:00, 2826.92it/s]\n"
     ]
    },
    {
     "name": "stdout",
     "output_type": "stream",
     "text": [
      "Partition 30 completed, convergence counter: 621693\n"
     ]
    },
    {
     "name": "stderr",
     "output_type": "stream",
     "text": [
      "Simulation Progress: 100%|██████████| 500000/500000 [02:33<00:00, 3258.46it/s]\n"
     ]
    },
    {
     "name": "stdout",
     "output_type": "stream",
     "text": [
      "Partition 31 completed, convergence counter: 1120529\n"
     ]
    },
    {
     "name": "stderr",
     "output_type": "stream",
     "text": [
      "Simulation Progress: 100%|██████████| 500000/500000 [02:40<00:00, 3112.94it/s]\n"
     ]
    },
    {
     "name": "stdout",
     "output_type": "stream",
     "text": [
      "Partition 32 completed, convergence counter: 1619632\n"
     ]
    },
    {
     "name": "stderr",
     "output_type": "stream",
     "text": [
      "Simulation Progress: 100%|██████████| 500000/500000 [02:40<00:00, 3119.23it/s]\n"
     ]
    },
    {
     "name": "stdout",
     "output_type": "stream",
     "text": [
      "Partition 33 completed, convergence counter: 2118815\n"
     ]
    },
    {
     "name": "stderr",
     "output_type": "stream",
     "text": [
      "Simulation Progress: 100%|██████████| 500000/500000 [02:23<00:00, 3493.79it/s]\n"
     ]
    },
    {
     "name": "stdout",
     "output_type": "stream",
     "text": [
      "Partition 34 completed, convergence counter: 2618185\n"
     ]
    },
    {
     "name": "stderr",
     "output_type": "stream",
     "text": [
      "Simulation Progress: 100%|██████████| 500000/500000 [02:35<00:00, 3222.05it/s]\n"
     ]
    },
    {
     "name": "stdout",
     "output_type": "stream",
     "text": [
      "Partition 35 completed, convergence counter: 3117654\n"
     ]
    },
    {
     "name": "stderr",
     "output_type": "stream",
     "text": [
      "Simulation Progress: 100%|██████████| 500000/500000 [02:58<00:00, 2793.37it/s]\n"
     ]
    },
    {
     "name": "stdout",
     "output_type": "stream",
     "text": [
      "Partition 36 completed, convergence counter: 3617266\n"
     ]
    },
    {
     "name": "stderr",
     "output_type": "stream",
     "text": [
      "Simulation Progress: 100%|██████████| 500000/500000 [03:03<00:00, 2717.95it/s]\n"
     ]
    },
    {
     "name": "stdout",
     "output_type": "stream",
     "text": [
      "Partition 37 completed, convergence counter: 4116981\n"
     ]
    },
    {
     "name": "stderr",
     "output_type": "stream",
     "text": [
      "Simulation Progress: 100%|██████████| 500000/500000 [02:26<00:00, 3415.17it/s]\n"
     ]
    },
    {
     "name": "stdout",
     "output_type": "stream",
     "text": [
      "Partition 38 completed, convergence counter: 4616725\n"
     ]
    },
    {
     "name": "stderr",
     "output_type": "stream",
     "text": [
      "Simulation Progress: 100%|██████████| 500000/500000 [02:23<00:00, 3493.97it/s]\n"
     ]
    },
    {
     "name": "stdout",
     "output_type": "stream",
     "text": [
      "Partition 39 completed, convergence counter: 5116532\n"
     ]
    },
    {
     "name": "stderr",
     "output_type": "stream",
     "text": [
      "Simulation Progress: 100%|██████████| 500000/500000 [02:15<00:00, 3680.51it/s]\n",
      "Simulation Progress: 100%|██████████| 500000/500000 [02:13<00:00, 3745.31it/s]\n"
     ]
    },
    {
     "name": "stdout",
     "output_type": "stream",
     "text": [
      "Partition 1 completed, convergence counter: 188\n"
     ]
    },
    {
     "name": "stderr",
     "output_type": "stream",
     "text": [
      "Simulation Progress: 100%|██████████| 500000/500000 [02:23<00:00, 3489.84it/s]\n"
     ]
    },
    {
     "name": "stdout",
     "output_type": "stream",
     "text": [
      "Partition 2 completed, convergence counter: 7\n"
     ]
    },
    {
     "name": "stderr",
     "output_type": "stream",
     "text": [
      "Simulation Progress: 100%|██████████| 500000/500000 [02:24<00:00, 3452.50it/s]\n"
     ]
    },
    {
     "name": "stdout",
     "output_type": "stream",
     "text": [
      "Partition 3 completed, convergence counter: 2824\n"
     ]
    },
    {
     "name": "stderr",
     "output_type": "stream",
     "text": [
      "Simulation Progress: 100%|██████████| 500000/500000 [02:43<00:00, 3055.34it/s]\n"
     ]
    },
    {
     "name": "stdout",
     "output_type": "stream",
     "text": [
      "Partition 4 completed, convergence counter: 18680\n"
     ]
    },
    {
     "name": "stderr",
     "output_type": "stream",
     "text": [
      "Simulation Progress: 100%|██████████| 500000/500000 [02:43<00:00, 3058.01it/s]\n"
     ]
    },
    {
     "name": "stdout",
     "output_type": "stream",
     "text": [
      "Partition 5 completed, convergence counter: 27725\n"
     ]
    },
    {
     "name": "stderr",
     "output_type": "stream",
     "text": [
      "Simulation Progress: 100%|██████████| 500000/500000 [02:30<00:00, 3318.52it/s]\n"
     ]
    },
    {
     "name": "stdout",
     "output_type": "stream",
     "text": [
      "Partition 6 completed, convergence counter: 10185\n"
     ]
    },
    {
     "name": "stderr",
     "output_type": "stream",
     "text": [
      "Simulation Progress: 100%|██████████| 500000/500000 [02:26<00:00, 3409.97it/s]\n"
     ]
    },
    {
     "name": "stdout",
     "output_type": "stream",
     "text": [
      "Partition 7 completed, convergence counter: 12113\n"
     ]
    },
    {
     "name": "stderr",
     "output_type": "stream",
     "text": [
      "Simulation Progress: 100%|██████████| 500000/500000 [02:43<00:00, 3062.54it/s]\n"
     ]
    },
    {
     "name": "stdout",
     "output_type": "stream",
     "text": [
      "Partition 8 completed, convergence counter: 51071\n"
     ]
    },
    {
     "name": "stderr",
     "output_type": "stream",
     "text": [
      "Simulation Progress: 100%|██████████| 500000/500000 [03:18<00:00, 2520.13it/s]\n"
     ]
    },
    {
     "name": "stdout",
     "output_type": "stream",
     "text": [
      "Partition 9 completed, convergence counter: 72210\n"
     ]
    },
    {
     "name": "stderr",
     "output_type": "stream",
     "text": [
      "Simulation Progress: 100%|██████████| 500000/500000 [03:18<00:00, 2517.09it/s]\n"
     ]
    },
    {
     "name": "stdout",
     "output_type": "stream",
     "text": [
      "Partition 10 completed, convergence counter: 20249\n"
     ]
    },
    {
     "name": "stderr",
     "output_type": "stream",
     "text": [
      "Simulation Progress: 100%|██████████| 500000/500000 [02:30<00:00, 3317.67it/s]\n"
     ]
    },
    {
     "name": "stdout",
     "output_type": "stream",
     "text": [
      "Partition 11 completed, convergence counter: 3801\n"
     ]
    },
    {
     "name": "stderr",
     "output_type": "stream",
     "text": [
      "Simulation Progress: 100%|██████████| 500000/500000 [02:20<00:00, 3555.45it/s]\n"
     ]
    },
    {
     "name": "stdout",
     "output_type": "stream",
     "text": [
      "Partition 12 completed, convergence counter: 63959\n"
     ]
    },
    {
     "name": "stderr",
     "output_type": "stream",
     "text": [
      "Simulation Progress: 100%|██████████| 500000/500000 [03:19<00:00, 2506.77it/s]\n"
     ]
    },
    {
     "name": "stdout",
     "output_type": "stream",
     "text": [
      "Partition 13 completed, convergence counter: 254353\n"
     ]
    },
    {
     "name": "stderr",
     "output_type": "stream",
     "text": [
      "Simulation Progress: 100%|██████████| 500000/500000 [03:06<00:00, 2678.55it/s]\n"
     ]
    },
    {
     "name": "stdout",
     "output_type": "stream",
     "text": [
      "Partition 14 completed, convergence counter: 67376\n"
     ]
    },
    {
     "name": "stderr",
     "output_type": "stream",
     "text": [
      "Simulation Progress: 100%|██████████| 500000/500000 [03:04<00:00, 2715.96it/s]\n"
     ]
    },
    {
     "name": "stdout",
     "output_type": "stream",
     "text": [
      "Partition 15 completed, convergence counter: 27632\n"
     ]
    },
    {
     "name": "stderr",
     "output_type": "stream",
     "text": [
      "Simulation Progress: 100%|██████████| 500000/500000 [02:58<00:00, 2808.21it/s]\n"
     ]
    },
    {
     "name": "stdout",
     "output_type": "stream",
     "text": [
      "Partition 16 completed, convergence counter: 185118\n"
     ]
    },
    {
     "name": "stderr",
     "output_type": "stream",
     "text": [
      "Simulation Progress: 100%|██████████| 500000/500000 [02:45<00:00, 3014.15it/s]\n"
     ]
    },
    {
     "name": "stdout",
     "output_type": "stream",
     "text": [
      "Partition 17 completed, convergence counter: 259623\n"
     ]
    },
    {
     "name": "stderr",
     "output_type": "stream",
     "text": [
      "Simulation Progress: 100%|██████████| 500000/500000 [02:16<00:00, 3673.40it/s]\n"
     ]
    },
    {
     "name": "stdout",
     "output_type": "stream",
     "text": [
      "Partition 18 completed, convergence counter: 120779\n"
     ]
    },
    {
     "name": "stderr",
     "output_type": "stream",
     "text": [
      "Simulation Progress: 100%|██████████| 500000/500000 [02:19<00:00, 3576.72it/s]\n"
     ]
    },
    {
     "name": "stdout",
     "output_type": "stream",
     "text": [
      "Partition 19 completed, convergence counter: 575908\n"
     ]
    },
    {
     "name": "stderr",
     "output_type": "stream",
     "text": [
      "Simulation Progress: 100%|██████████| 500000/500000 [02:32<00:00, 3269.45it/s]\n"
     ]
    },
    {
     "name": "stdout",
     "output_type": "stream",
     "text": [
      "Partition 20 completed, convergence counter: 241572\n"
     ]
    },
    {
     "name": "stderr",
     "output_type": "stream",
     "text": [
      "Simulation Progress: 100%|██████████| 500000/500000 [02:28<00:00, 3376.33it/s]\n"
     ]
    },
    {
     "name": "stdout",
     "output_type": "stream",
     "text": [
      "Partition 21 completed, convergence counter: 185390\n"
     ]
    },
    {
     "name": "stderr",
     "output_type": "stream",
     "text": [
      "Simulation Progress: 100%|██████████| 500000/500000 [02:39<00:00, 3129.11it/s]\n"
     ]
    },
    {
     "name": "stdout",
     "output_type": "stream",
     "text": [
      "Partition 22 completed, convergence counter: 650537\n"
     ]
    },
    {
     "name": "stderr",
     "output_type": "stream",
     "text": [
      "Simulation Progress: 100%|██████████| 500000/500000 [02:40<00:00, 3107.17it/s]\n"
     ]
    },
    {
     "name": "stdout",
     "output_type": "stream",
     "text": [
      "Partition 23 completed, convergence counter: 936\n"
     ]
    },
    {
     "name": "stderr",
     "output_type": "stream",
     "text": [
      "Simulation Progress: 100%|██████████| 500000/500000 [02:20<00:00, 3556.59it/s]\n"
     ]
    },
    {
     "name": "stdout",
     "output_type": "stream",
     "text": [
      "Partition 24 completed, convergence counter: 8098\n"
     ]
    },
    {
     "name": "stderr",
     "output_type": "stream",
     "text": [
      "Simulation Progress: 100%|██████████| 500000/500000 [02:34<00:00, 3239.70it/s]\n"
     ]
    },
    {
     "name": "stdout",
     "output_type": "stream",
     "text": [
      "Partition 25 completed, convergence counter: 478165\n"
     ]
    },
    {
     "name": "stderr",
     "output_type": "stream",
     "text": [
      "Simulation Progress: 100%|██████████| 500000/500000 [02:32<00:00, 3270.88it/s]\n"
     ]
    },
    {
     "name": "stdout",
     "output_type": "stream",
     "text": [
      "Partition 26 completed, convergence counter: 949987\n"
     ]
    },
    {
     "name": "stderr",
     "output_type": "stream",
     "text": [
      "Simulation Progress: 100%|██████████| 500000/500000 [02:21<00:00, 3522.13it/s]\n"
     ]
    },
    {
     "name": "stdout",
     "output_type": "stream",
     "text": [
      "Partition 27 completed, convergence counter: 319803\n"
     ]
    },
    {
     "name": "stderr",
     "output_type": "stream",
     "text": [
      "Simulation Progress: 100%|██████████| 500000/500000 [02:07<00:00, 3927.94it/s]\n"
     ]
    },
    {
     "name": "stdout",
     "output_type": "stream",
     "text": [
      "Partition 28 completed, convergence counter: 211065\n"
     ]
    },
    {
     "name": "stderr",
     "output_type": "stream",
     "text": [
      "Simulation Progress: 100%|██████████| 500000/500000 [02:15<00:00, 3698.91it/s]\n"
     ]
    },
    {
     "name": "stdout",
     "output_type": "stream",
     "text": [
      "Partition 29 completed, convergence counter: 686738\n"
     ]
    },
    {
     "name": "stderr",
     "output_type": "stream",
     "text": [
      "Simulation Progress: 100%|██████████| 500000/500000 [02:20<00:00, 3551.48it/s]\n"
     ]
    },
    {
     "name": "stdout",
     "output_type": "stream",
     "text": [
      "Partition 30 completed, convergence counter: 344411\n"
     ]
    },
    {
     "name": "stderr",
     "output_type": "stream",
     "text": [
      "Simulation Progress: 100%|██████████| 500000/500000 [02:17<00:00, 3648.01it/s]\n"
     ]
    },
    {
     "name": "stdout",
     "output_type": "stream",
     "text": [
      "Partition 31 completed, convergence counter: 819075\n"
     ]
    },
    {
     "name": "stderr",
     "output_type": "stream",
     "text": [
      "Simulation Progress: 100%|██████████| 500000/500000 [02:15<00:00, 3685.54it/s]\n"
     ]
    },
    {
     "name": "stdout",
     "output_type": "stream",
     "text": [
      "Partition 32 completed, convergence counter: 1294040\n"
     ]
    },
    {
     "name": "stderr",
     "output_type": "stream",
     "text": [
      "Simulation Progress: 100%|██████████| 500000/500000 [02:42<00:00, 3068.32it/s]\n"
     ]
    },
    {
     "name": "stdout",
     "output_type": "stream",
     "text": [
      "Partition 33 completed, convergence counter: 105579\n"
     ]
    },
    {
     "name": "stderr",
     "output_type": "stream",
     "text": [
      "Simulation Progress: 100%|██████████| 500000/500000 [02:14<00:00, 3703.79it/s]\n"
     ]
    },
    {
     "name": "stdout",
     "output_type": "stream",
     "text": [
      "Partition 34 completed, convergence counter: 136355\n"
     ]
    },
    {
     "name": "stderr",
     "output_type": "stream",
     "text": [
      "Simulation Progress: 100%|██████████| 500000/500000 [02:06<00:00, 3966.96it/s]\n"
     ]
    },
    {
     "name": "stdout",
     "output_type": "stream",
     "text": [
      "Partition 35 completed, convergence counter: 613703\n"
     ]
    },
    {
     "name": "stderr",
     "output_type": "stream",
     "text": [
      "Simulation Progress: 100%|██████████| 500000/500000 [02:13<00:00, 3750.35it/s]\n"
     ]
    },
    {
     "name": "stdout",
     "output_type": "stream",
     "text": [
      "Partition 36 completed, convergence counter: 1089301\n"
     ]
    },
    {
     "name": "stderr",
     "output_type": "stream",
     "text": [
      "Simulation Progress: 100%|██████████| 500000/500000 [02:18<00:00, 3606.44it/s]\n"
     ]
    },
    {
     "name": "stdout",
     "output_type": "stream",
     "text": [
      "Partition 37 completed, convergence counter: 1566700\n"
     ]
    },
    {
     "name": "stderr",
     "output_type": "stream",
     "text": [
      "Simulation Progress: 100%|██████████| 500000/500000 [02:26<00:00, 3412.06it/s]\n"
     ]
    },
    {
     "name": "stdout",
     "output_type": "stream",
     "text": [
      "Partition 38 completed, convergence counter: 2044796\n"
     ]
    },
    {
     "name": "stderr",
     "output_type": "stream",
     "text": [
      "Simulation Progress: 100%|██████████| 500000/500000 [02:21<00:00, 3530.40it/s]\n"
     ]
    },
    {
     "name": "stdout",
     "output_type": "stream",
     "text": [
      "Partition 39 completed, convergence counter: 94563\n"
     ]
    },
    {
     "name": "stderr",
     "output_type": "stream",
     "text": [
      "Simulation Progress: 100%|██████████| 500000/500000 [02:15<00:00, 3676.50it/s]\n"
     ]
    },
    {
     "name": "stdout",
     "output_type": "stream",
     "text": [
      "Partition 40 completed, convergence counter: 572278\n"
     ]
    },
    {
     "name": "stderr",
     "output_type": "stream",
     "text": [
      "Simulation Progress: 100%|██████████| 500000/500000 [02:22<00:00, 3518.04it/s]\n"
     ]
    },
    {
     "name": "stdout",
     "output_type": "stream",
     "text": [
      "Partition 41 completed, convergence counter: 206629\n"
     ]
    },
    {
     "name": "stderr",
     "output_type": "stream",
     "text": [
      "Simulation Progress: 100%|██████████| 500000/500000 [02:11<00:00, 3802.30it/s]\n"
     ]
    },
    {
     "name": "stdout",
     "output_type": "stream",
     "text": [
      "Partition 42 completed, convergence counter: 683329\n"
     ]
    },
    {
     "name": "stderr",
     "output_type": "stream",
     "text": [
      "Simulation Progress: 100%|██████████| 500000/500000 [02:02<00:00, 4072.34it/s]\n"
     ]
    },
    {
     "name": "stdout",
     "output_type": "stream",
     "text": [
      "Partition 43 completed, convergence counter: 1160617\n"
     ]
    },
    {
     "name": "stderr",
     "output_type": "stream",
     "text": [
      "Simulation Progress: 100%|██████████| 500000/500000 [02:11<00:00, 3807.67it/s]\n"
     ]
    },
    {
     "name": "stdout",
     "output_type": "stream",
     "text": [
      "Partition 44 completed, convergence counter: 1638614\n"
     ]
    },
    {
     "name": "stderr",
     "output_type": "stream",
     "text": [
      "Simulation Progress: 100%|██████████| 500000/500000 [02:12<00:00, 3783.50it/s]\n"
     ]
    },
    {
     "name": "stdout",
     "output_type": "stream",
     "text": [
      "Partition 45 completed, convergence counter: 2115972\n"
     ]
    },
    {
     "name": "stderr",
     "output_type": "stream",
     "text": [
      "Simulation Progress: 100%|██████████| 500000/500000 [02:12<00:00, 3783.66it/s]\n"
     ]
    },
    {
     "name": "stdout",
     "output_type": "stream",
     "text": [
      "Partition 46 completed, convergence counter: 69114\n"
     ]
    },
    {
     "name": "stderr",
     "output_type": "stream",
     "text": [
      "Simulation Progress: 100%|██████████| 500000/500000 [02:24<00:00, 3465.79it/s]\n"
     ]
    },
    {
     "name": "stdout",
     "output_type": "stream",
     "text": [
      "Partition 47 completed, convergence counter: 465973\n"
     ]
    },
    {
     "name": "stderr",
     "output_type": "stream",
     "text": [
      "Simulation Progress: 100%|██████████| 500000/500000 [02:30<00:00, 3317.99it/s]\n"
     ]
    },
    {
     "name": "stdout",
     "output_type": "stream",
     "text": [
      "Partition 48 completed, convergence counter: 943144\n"
     ]
    },
    {
     "name": "stderr",
     "output_type": "stream",
     "text": [
      "Simulation Progress: 100%|██████████| 500000/500000 [02:16<00:00, 3661.55it/s]\n"
     ]
    },
    {
     "name": "stdout",
     "output_type": "stream",
     "text": [
      "Partition 49 completed, convergence counter: 182652\n"
     ]
    },
    {
     "name": "stderr",
     "output_type": "stream",
     "text": [
      "Simulation Progress: 100%|██████████| 500000/500000 [02:14<00:00, 3706.25it/s]\n"
     ]
    },
    {
     "name": "stdout",
     "output_type": "stream",
     "text": [
      "Partition 50 completed, convergence counter: 438781\n"
     ]
    },
    {
     "name": "stderr",
     "output_type": "stream",
     "text": [
      "Simulation Progress: 100%|██████████| 500000/500000 [02:06<00:00, 3948.10it/s]\n"
     ]
    },
    {
     "name": "stdout",
     "output_type": "stream",
     "text": [
      "Partition 51 completed, convergence counter: 375842\n"
     ]
    },
    {
     "name": "stderr",
     "output_type": "stream",
     "text": [
      "Simulation Progress: 100%|██████████| 500000/500000 [02:18<00:00, 3614.92it/s]\n"
     ]
    },
    {
     "name": "stdout",
     "output_type": "stream",
     "text": [
      "Partition 52 completed, convergence counter: 10028\n"
     ]
    },
    {
     "name": "stderr",
     "output_type": "stream",
     "text": [
      "Simulation Progress: 100%|██████████| 500000/500000 [02:50<00:00, 2927.78it/s]\n"
     ]
    },
    {
     "name": "stdout",
     "output_type": "stream",
     "text": [
      "Partition 53 completed, convergence counter: 22976\n"
     ]
    },
    {
     "name": "stderr",
     "output_type": "stream",
     "text": [
      "Simulation Progress: 100%|██████████| 500000/500000 [02:52<00:00, 2903.55it/s]\n"
     ]
    },
    {
     "name": "stdout",
     "output_type": "stream",
     "text": [
      "Partition 54 completed, convergence counter: 82252\n"
     ]
    },
    {
     "name": "stderr",
     "output_type": "stream",
     "text": [
      "Simulation Progress: 100%|██████████| 500000/500000 [02:44<00:00, 3031.60it/s]\n"
     ]
    },
    {
     "name": "stdout",
     "output_type": "stream",
     "text": [
      "Partition 55 completed, convergence counter: 280823\n"
     ]
    },
    {
     "name": "stderr",
     "output_type": "stream",
     "text": [
      "Simulation Progress: 100%|██████████| 500000/500000 [02:15<00:00, 3688.43it/s]\n"
     ]
    },
    {
     "name": "stdout",
     "output_type": "stream",
     "text": [
      "Partition 56 completed, convergence counter: 758215\n"
     ]
    },
    {
     "name": "stderr",
     "output_type": "stream",
     "text": [
      "Simulation Progress: 100%|██████████| 500000/500000 [02:05<00:00, 3997.97it/s]\n"
     ]
    },
    {
     "name": "stdout",
     "output_type": "stream",
     "text": [
      "Partition 57 completed, convergence counter: 92189\n"
     ]
    },
    {
     "name": "stderr",
     "output_type": "stream",
     "text": [
      "Simulation Progress: 100%|██████████| 500000/500000 [02:08<00:00, 3877.75it/s]\n"
     ]
    },
    {
     "name": "stdout",
     "output_type": "stream",
     "text": [
      "Partition 58 completed, convergence counter: 156239\n"
     ]
    },
    {
     "name": "stderr",
     "output_type": "stream",
     "text": [
      "Simulation Progress: 100%|██████████| 500000/500000 [02:18<00:00, 3599.70it/s]\n"
     ]
    },
    {
     "name": "stdout",
     "output_type": "stream",
     "text": [
      "Partition 59 completed, convergence counter: 179886\n"
     ]
    },
    {
     "name": "stderr",
     "output_type": "stream",
     "text": [
      "Simulation Progress: 100%|██████████| 500000/500000 [02:13<00:00, 3740.77it/s]\n"
     ]
    },
    {
     "name": "stdout",
     "output_type": "stream",
     "text": [
      "Partition 60 completed, convergence counter: 234573\n"
     ]
    },
    {
     "name": "stderr",
     "output_type": "stream",
     "text": [
      "Simulation Progress: 100%|██████████| 500000/500000 [02:18<00:00, 3604.49it/s]\n"
     ]
    },
    {
     "name": "stdout",
     "output_type": "stream",
     "text": [
      "Partition 61 completed, convergence counter: 108755\n"
     ]
    },
    {
     "name": "stderr",
     "output_type": "stream",
     "text": [
      "Simulation Progress: 100%|██████████| 500000/500000 [02:18<00:00, 3617.62it/s]\n"
     ]
    },
    {
     "name": "stdout",
     "output_type": "stream",
     "text": [
      "Partition 62 completed, convergence counter: 450560\n"
     ]
    },
    {
     "name": "stderr",
     "output_type": "stream",
     "text": [
      "Simulation Progress: 100%|██████████| 500000/500000 [02:21<00:00, 3537.53it/s]\n"
     ]
    },
    {
     "name": "stdout",
     "output_type": "stream",
     "text": [
      "Partition 63 completed, convergence counter: 471716\n"
     ]
    },
    {
     "name": "stderr",
     "output_type": "stream",
     "text": [
      "Simulation Progress: 100%|██████████| 500000/500000 [02:28<00:00, 3364.36it/s]\n"
     ]
    },
    {
     "name": "stdout",
     "output_type": "stream",
     "text": [
      "Partition 64 completed, convergence counter: 287004\n"
     ]
    },
    {
     "name": "stderr",
     "output_type": "stream",
     "text": [
      "Simulation Progress: 100%|██████████| 500000/500000 [02:29<00:00, 3340.99it/s]\n"
     ]
    },
    {
     "name": "stdout",
     "output_type": "stream",
     "text": [
      "Partition 65 completed, convergence counter: 765256\n"
     ]
    },
    {
     "name": "stderr",
     "output_type": "stream",
     "text": [
      "Simulation Progress: 100%|██████████| 500000/500000 [02:20<00:00, 3552.50it/s]\n"
     ]
    },
    {
     "name": "stdout",
     "output_type": "stream",
     "text": [
      "Partition 66 completed, convergence counter: 302231\n"
     ]
    },
    {
     "name": "stderr",
     "output_type": "stream",
     "text": [
      "Simulation Progress: 100%|██████████| 500000/500000 [02:44<00:00, 3037.70it/s]\n"
     ]
    },
    {
     "name": "stdout",
     "output_type": "stream",
     "text": [
      "Partition 67 completed, convergence counter: 113209\n"
     ]
    },
    {
     "name": "stderr",
     "output_type": "stream",
     "text": [
      "Simulation Progress: 100%|██████████| 500000/500000 [02:38<00:00, 3148.40it/s]\n"
     ]
    },
    {
     "name": "stdout",
     "output_type": "stream",
     "text": [
      "Partition 68 completed, convergence counter: 72031\n"
     ]
    },
    {
     "name": "stderr",
     "output_type": "stream",
     "text": [
      "Simulation Progress: 100%|██████████| 500000/500000 [02:23<00:00, 3485.97it/s]\n"
     ]
    },
    {
     "name": "stdout",
     "output_type": "stream",
     "text": [
      "Partition 69 completed, convergence counter: 44684\n"
     ]
    },
    {
     "name": "stderr",
     "output_type": "stream",
     "text": [
      "Simulation Progress: 100%|██████████| 500000/500000 [02:22<00:00, 3508.33it/s]\n"
     ]
    },
    {
     "name": "stdout",
     "output_type": "stream",
     "text": [
      "Partition 70 completed, convergence counter: 253917\n"
     ]
    },
    {
     "name": "stderr",
     "output_type": "stream",
     "text": [
      "Simulation Progress: 100%|██████████| 500000/500000 [02:22<00:00, 3511.86it/s]\n"
     ]
    },
    {
     "name": "stdout",
     "output_type": "stream",
     "text": [
      "Partition 71 completed, convergence counter: 732040\n"
     ]
    },
    {
     "name": "stderr",
     "output_type": "stream",
     "text": [
      "Simulation Progress: 100%|██████████| 500000/500000 [02:20<00:00, 3551.21it/s]\n"
     ]
    },
    {
     "name": "stdout",
     "output_type": "stream",
     "text": [
      "Partition 72 completed, convergence counter: 203589\n"
     ]
    },
    {
     "name": "stderr",
     "output_type": "stream",
     "text": [
      "Simulation Progress: 100%|██████████| 500000/500000 [02:08<00:00, 3877.71it/s]\n"
     ]
    },
    {
     "name": "stdout",
     "output_type": "stream",
     "text": [
      "Partition 73 completed, convergence counter: 110492\n"
     ]
    },
    {
     "name": "stderr",
     "output_type": "stream",
     "text": [
      "Simulation Progress: 100%|██████████| 500000/500000 [02:13<00:00, 3743.40it/s]\n"
     ]
    },
    {
     "name": "stdout",
     "output_type": "stream",
     "text": [
      "Partition 74 completed, convergence counter: 473962\n"
     ]
    },
    {
     "name": "stderr",
     "output_type": "stream",
     "text": [
      "Simulation Progress: 100%|██████████| 500000/500000 [02:13<00:00, 3746.72it/s]\n"
     ]
    },
    {
     "name": "stdout",
     "output_type": "stream",
     "text": [
      "Partition 75 completed, convergence counter: 953227\n"
     ]
    },
    {
     "name": "stderr",
     "output_type": "stream",
     "text": [
      "Simulation Progress: 100%|██████████| 500000/500000 [02:32<00:00, 3278.01it/s]\n"
     ]
    },
    {
     "name": "stdout",
     "output_type": "stream",
     "text": [
      "Partition 76 completed, convergence counter: 400091\n"
     ]
    },
    {
     "name": "stderr",
     "output_type": "stream",
     "text": [
      "Simulation Progress: 100%|██████████| 500000/500000 [02:17<00:00, 3644.59it/s]\n"
     ]
    },
    {
     "name": "stdout",
     "output_type": "stream",
     "text": [
      "Partition 77 completed, convergence counter: 258235\n"
     ]
    },
    {
     "name": "stderr",
     "output_type": "stream",
     "text": [
      "Simulation Progress: 100%|██████████| 500000/500000 [02:27<00:00, 3378.84it/s]\n"
     ]
    },
    {
     "name": "stdout",
     "output_type": "stream",
     "text": [
      "Partition 78 completed, convergence counter: 205472\n"
     ]
    },
    {
     "name": "stderr",
     "output_type": "stream",
     "text": [
      "Simulation Progress: 100%|██████████| 500000/500000 [02:02<00:00, 4094.98it/s]\n"
     ]
    },
    {
     "name": "stdout",
     "output_type": "stream",
     "text": [
      "Partition 79 completed, convergence counter: 140268\n"
     ]
    },
    {
     "name": "stderr",
     "output_type": "stream",
     "text": [
      "Simulation Progress: 100%|██████████| 500000/500000 [02:12<00:00, 3770.14it/s]\n"
     ]
    },
    {
     "name": "stdout",
     "output_type": "stream",
     "text": [
      "Partition 80 completed, convergence counter: 9657\n"
     ]
    },
    {
     "name": "stderr",
     "output_type": "stream",
     "text": [
      "Simulation Progress: 100%|██████████| 500000/500000 [02:23<00:00, 3487.98it/s]\n"
     ]
    },
    {
     "name": "stdout",
     "output_type": "stream",
     "text": [
      "Partition 81 completed, convergence counter: 26700\n"
     ]
    },
    {
     "name": "stderr",
     "output_type": "stream",
     "text": [
      "Simulation Progress: 100%|██████████| 500000/500000 [02:26<00:00, 3415.89it/s]\n"
     ]
    },
    {
     "name": "stdout",
     "output_type": "stream",
     "text": [
      "Partition 82 completed, convergence counter: 465852\n"
     ]
    },
    {
     "name": "stderr",
     "output_type": "stream",
     "text": [
      "Simulation Progress: 100%|██████████| 500000/500000 [02:27<00:00, 3385.75it/s]\n"
     ]
    },
    {
     "name": "stdout",
     "output_type": "stream",
     "text": [
      "Partition 83 completed, convergence counter: 10413\n"
     ]
    },
    {
     "name": "stderr",
     "output_type": "stream",
     "text": [
      "Simulation Progress: 100%|██████████| 500000/500000 [02:18<00:00, 3604.49it/s]\n"
     ]
    },
    {
     "name": "stdout",
     "output_type": "stream",
     "text": [
      "Partition 84 completed, convergence counter: 241414\n"
     ]
    },
    {
     "name": "stderr",
     "output_type": "stream",
     "text": [
      "Simulation Progress: 100%|██████████| 500000/500000 [02:03<00:00, 4041.94it/s]\n"
     ]
    },
    {
     "name": "stdout",
     "output_type": "stream",
     "text": [
      "Partition 85 completed, convergence counter: 719220\n"
     ]
    },
    {
     "name": "stderr",
     "output_type": "stream",
     "text": [
      "Simulation Progress: 100%|██████████| 500000/500000 [02:15<00:00, 3686.87it/s]\n"
     ]
    },
    {
     "name": "stdout",
     "output_type": "stream",
     "text": [
      "Partition 86 completed, convergence counter: 5559\n"
     ]
    },
    {
     "name": "stderr",
     "output_type": "stream",
     "text": [
      "Simulation Progress: 100%|██████████| 500000/500000 [02:10<00:00, 3830.84it/s]\n"
     ]
    },
    {
     "name": "stdout",
     "output_type": "stream",
     "text": [
      "Partition 87 completed, convergence counter: 226281\n"
     ]
    },
    {
     "name": "stderr",
     "output_type": "stream",
     "text": [
      "Simulation Progress: 100%|██████████| 500000/500000 [02:16<00:00, 3666.39it/s]\n"
     ]
    },
    {
     "name": "stdout",
     "output_type": "stream",
     "text": [
      "Partition 88 completed, convergence counter: 31836\n"
     ]
    },
    {
     "name": "stderr",
     "output_type": "stream",
     "text": [
      "Simulation Progress: 100%|██████████| 500000/500000 [02:21<00:00, 3545.93it/s]\n"
     ]
    },
    {
     "name": "stdout",
     "output_type": "stream",
     "text": [
      "Partition 89 completed, convergence counter: 194715\n"
     ]
    },
    {
     "name": "stderr",
     "output_type": "stream",
     "text": [
      "Simulation Progress: 100%|██████████| 500000/500000 [02:11<00:00, 3806.73it/s]\n"
     ]
    },
    {
     "name": "stdout",
     "output_type": "stream",
     "text": [
      "Partition 90 completed, convergence counter: 198269\n"
     ]
    },
    {
     "name": "stderr",
     "output_type": "stream",
     "text": [
      "Simulation Progress: 100%|██████████| 500000/500000 [02:08<00:00, 3900.42it/s]\n"
     ]
    },
    {
     "name": "stdout",
     "output_type": "stream",
     "text": [
      "Partition 91 completed, convergence counter: 46508\n"
     ]
    },
    {
     "name": "stderr",
     "output_type": "stream",
     "text": [
      "Simulation Progress: 100%|██████████| 500000/500000 [02:15<00:00, 3679.39it/s]\n"
     ]
    },
    {
     "name": "stdout",
     "output_type": "stream",
     "text": [
      "Partition 92 completed, convergence counter: 287177\n"
     ]
    },
    {
     "name": "stderr",
     "output_type": "stream",
     "text": [
      "Simulation Progress: 100%|██████████| 500000/500000 [02:19<00:00, 3572.93it/s]\n"
     ]
    },
    {
     "name": "stdout",
     "output_type": "stream",
     "text": [
      "Partition 93 completed, convergence counter: 29882\n"
     ]
    },
    {
     "name": "stderr",
     "output_type": "stream",
     "text": [
      "Simulation Progress: 100%|██████████| 500000/500000 [02:08<00:00, 3885.55it/s]\n"
     ]
    },
    {
     "name": "stdout",
     "output_type": "stream",
     "text": [
      "Partition 94 completed, convergence counter: 53585\n"
     ]
    },
    {
     "name": "stderr",
     "output_type": "stream",
     "text": [
      "Simulation Progress: 100%|██████████| 500000/500000 [02:17<00:00, 3625.75it/s]\n"
     ]
    },
    {
     "name": "stdout",
     "output_type": "stream",
     "text": [
      "Partition 95 completed, convergence counter: 13797\n"
     ]
    },
    {
     "name": "stderr",
     "output_type": "stream",
     "text": [
      "Simulation Progress: 100%|██████████| 500000/500000 [02:21<00:00, 3532.55it/s]\n"
     ]
    },
    {
     "name": "stdout",
     "output_type": "stream",
     "text": [
      "Partition 96 completed, convergence counter: 31150\n"
     ]
    },
    {
     "name": "stderr",
     "output_type": "stream",
     "text": [
      "Simulation Progress: 100%|██████████| 500000/500000 [02:22<00:00, 3515.50it/s]\n"
     ]
    },
    {
     "name": "stdout",
     "output_type": "stream",
     "text": [
      "Partition 97 completed, convergence counter: 9087\n"
     ]
    },
    {
     "name": "stderr",
     "output_type": "stream",
     "text": [
      "Simulation Progress: 100%|██████████| 500000/500000 [02:20<00:00, 3568.90it/s]\n"
     ]
    },
    {
     "name": "stdout",
     "output_type": "stream",
     "text": [
      "Partition 98 completed, convergence counter: 3479\n"
     ]
    },
    {
     "name": "stderr",
     "output_type": "stream",
     "text": [
      "Simulation Progress: 100%|██████████| 500000/500000 [02:36<00:00, 3198.56it/s]\n"
     ]
    },
    {
     "name": "stdout",
     "output_type": "stream",
     "text": [
      "Partition 99 completed, convergence counter: 60435\n"
     ]
    },
    {
     "name": "stderr",
     "output_type": "stream",
     "text": [
      "Simulation Progress: 100%|██████████| 500000/500000 [02:29<00:00, 3353.70it/s]\n"
     ]
    },
    {
     "name": "stdout",
     "output_type": "stream",
     "text": [
      "Partition 100 completed, convergence counter: 147842\n"
     ]
    },
    {
     "name": "stderr",
     "output_type": "stream",
     "text": [
      "Simulation Progress: 100%|██████████| 500000/500000 [02:28<00:00, 3378.24it/s]\n"
     ]
    },
    {
     "name": "stdout",
     "output_type": "stream",
     "text": [
      "Partition 101 completed, convergence counter: 479437\n"
     ]
    },
    {
     "name": "stderr",
     "output_type": "stream",
     "text": [
      "Simulation Progress: 100%|██████████| 500000/500000 [02:57<00:00, 2810.22it/s]\n"
     ]
    },
    {
     "name": "stdout",
     "output_type": "stream",
     "text": [
      "Partition 102 completed, convergence counter: 959525\n"
     ]
    },
    {
     "name": "stderr",
     "output_type": "stream",
     "text": [
      "Simulation Progress: 100%|██████████| 500000/500000 [03:15<00:00, 2561.99it/s]\n"
     ]
    },
    {
     "name": "stdout",
     "output_type": "stream",
     "text": [
      "Partition 103 completed, convergence counter: 130827\n"
     ]
    },
    {
     "name": "stderr",
     "output_type": "stream",
     "text": [
      "Simulation Progress: 100%|██████████| 500000/500000 [02:43<00:00, 3050.86it/s]\n"
     ]
    },
    {
     "name": "stdout",
     "output_type": "stream",
     "text": [
      "Partition 104 completed, convergence counter: 351336\n"
     ]
    },
    {
     "name": "stderr",
     "output_type": "stream",
     "text": [
      "Simulation Progress: 100%|██████████| 500000/500000 [02:53<00:00, 2878.04it/s]\n"
     ]
    },
    {
     "name": "stdout",
     "output_type": "stream",
     "text": [
      "Partition 105 completed, convergence counter: 48243\n"
     ]
    },
    {
     "name": "stderr",
     "output_type": "stream",
     "text": [
      "Simulation Progress: 100%|██████████| 500000/500000 [03:02<00:00, 2741.17it/s]\n"
     ]
    },
    {
     "name": "stdout",
     "output_type": "stream",
     "text": [
      "Partition 106 completed, convergence counter: 135140\n"
     ]
    },
    {
     "name": "stderr",
     "output_type": "stream",
     "text": [
      "Simulation Progress: 100%|██████████| 500000/500000 [02:52<00:00, 2895.45it/s]\n"
     ]
    },
    {
     "name": "stdout",
     "output_type": "stream",
     "text": [
      "Partition 107 completed, convergence counter: 134887\n"
     ]
    },
    {
     "name": "stderr",
     "output_type": "stream",
     "text": [
      "Simulation Progress: 100%|██████████| 500000/500000 [03:03<00:00, 2720.12it/s]\n"
     ]
    },
    {
     "name": "stdout",
     "output_type": "stream",
     "text": [
      "Partition 108 completed, convergence counter: 283778\n"
     ]
    },
    {
     "name": "stderr",
     "output_type": "stream",
     "text": [
      "Simulation Progress: 100%|██████████| 500000/500000 [03:03<00:00, 2724.46it/s]\n"
     ]
    },
    {
     "name": "stdout",
     "output_type": "stream",
     "text": [
      "Partition 109 completed, convergence counter: 762823\n"
     ]
    },
    {
     "name": "stderr",
     "output_type": "stream",
     "text": [
      "Simulation Progress: 100%|██████████| 500000/500000 [02:54<00:00, 2864.79it/s]\n"
     ]
    },
    {
     "name": "stdout",
     "output_type": "stream",
     "text": [
      "Partition 110 completed, convergence counter: 63640\n"
     ]
    },
    {
     "name": "stderr",
     "output_type": "stream",
     "text": [
      "Simulation Progress: 100%|██████████| 500000/500000 [02:43<00:00, 3051.43it/s]\n"
     ]
    },
    {
     "name": "stdout",
     "output_type": "stream",
     "text": [
      "Partition 111 completed, convergence counter: 261771\n"
     ]
    },
    {
     "name": "stderr",
     "output_type": "stream",
     "text": [
      "Simulation Progress: 100%|██████████| 500000/500000 [02:57<00:00, 2814.98it/s]\n"
     ]
    },
    {
     "name": "stdout",
     "output_type": "stream",
     "text": [
      "Partition 112 completed, convergence counter: 127061\n"
     ]
    },
    {
     "name": "stderr",
     "output_type": "stream",
     "text": [
      "Simulation Progress: 100%|██████████| 500000/500000 [02:38<00:00, 3144.76it/s]\n"
     ]
    },
    {
     "name": "stdout",
     "output_type": "stream",
     "text": [
      "Partition 113 completed, convergence counter: 606469\n"
     ]
    },
    {
     "name": "stderr",
     "output_type": "stream",
     "text": [
      "Simulation Progress: 100%|██████████| 500000/500000 [02:42<00:00, 3077.93it/s]\n"
     ]
    },
    {
     "name": "stdout",
     "output_type": "stream",
     "text": [
      "Partition 114 completed, convergence counter: 50820\n"
     ]
    },
    {
     "name": "stderr",
     "output_type": "stream",
     "text": [
      "Simulation Progress: 100%|██████████| 500000/500000 [02:52<00:00, 2902.79it/s]\n"
     ]
    },
    {
     "name": "stdout",
     "output_type": "stream",
     "text": [
      "Partition 115 completed, convergence counter: 54440\n"
     ]
    },
    {
     "name": "stderr",
     "output_type": "stream",
     "text": [
      "Simulation Progress: 100%|██████████| 500000/500000 [02:59<00:00, 2779.82it/s]\n"
     ]
    },
    {
     "name": "stdout",
     "output_type": "stream",
     "text": [
      "Partition 116 completed, convergence counter: 286888\n"
     ]
    },
    {
     "name": "stderr",
     "output_type": "stream",
     "text": [
      "Simulation Progress: 100%|██████████| 500000/500000 [02:58<00:00, 2798.46it/s]\n"
     ]
    },
    {
     "name": "stdout",
     "output_type": "stream",
     "text": [
      "Partition 117 completed, convergence counter: 126251\n"
     ]
    },
    {
     "name": "stderr",
     "output_type": "stream",
     "text": [
      "Simulation Progress: 100%|██████████| 500000/500000 [02:40<00:00, 3124.10it/s]\n"
     ]
    },
    {
     "name": "stdout",
     "output_type": "stream",
     "text": [
      "Partition 118 completed, convergence counter: 54957\n"
     ]
    },
    {
     "name": "stderr",
     "output_type": "stream",
     "text": [
      "Simulation Progress: 100%|██████████| 500000/500000 [02:57<00:00, 2814.61it/s]\n"
     ]
    },
    {
     "name": "stdout",
     "output_type": "stream",
     "text": [
      "Partition 119 completed, convergence counter: 534853\n"
     ]
    },
    {
     "name": "stderr",
     "output_type": "stream",
     "text": [
      "Simulation Progress: 100%|██████████| 500000/500000 [02:40<00:00, 3111.56it/s]\n"
     ]
    },
    {
     "name": "stdout",
     "output_type": "stream",
     "text": [
      "Partition 120 completed, convergence counter: 245896\n"
     ]
    },
    {
     "name": "stderr",
     "output_type": "stream",
     "text": [
      "Simulation Progress: 100%|██████████| 500000/500000 [02:36<00:00, 3188.32it/s]\n"
     ]
    },
    {
     "name": "stdout",
     "output_type": "stream",
     "text": [
      "Partition 121 completed, convergence counter: 13188\n"
     ]
    },
    {
     "name": "stderr",
     "output_type": "stream",
     "text": [
      "Simulation Progress: 100%|██████████| 500000/500000 [02:53<00:00, 2885.04it/s]\n"
     ]
    },
    {
     "name": "stdout",
     "output_type": "stream",
     "text": [
      "Partition 122 completed, convergence counter: 67999\n"
     ]
    },
    {
     "name": "stderr",
     "output_type": "stream",
     "text": [
      "Simulation Progress: 100%|██████████| 500000/500000 [02:50<00:00, 2926.29it/s]\n"
     ]
    },
    {
     "name": "stdout",
     "output_type": "stream",
     "text": [
      "Partition 123 completed, convergence counter: 241232\n"
     ]
    },
    {
     "name": "stderr",
     "output_type": "stream",
     "text": [
      "Simulation Progress: 100%|██████████| 500000/500000 [02:31<00:00, 3291.35it/s]\n"
     ]
    },
    {
     "name": "stdout",
     "output_type": "stream",
     "text": [
      "Partition 124 completed, convergence counter: 17747\n"
     ]
    },
    {
     "name": "stderr",
     "output_type": "stream",
     "text": [
      "Simulation Progress: 100%|██████████| 500000/500000 [02:51<00:00, 2909.80it/s]\n"
     ]
    },
    {
     "name": "stdout",
     "output_type": "stream",
     "text": [
      "Partition 125 completed, convergence counter: 81446\n"
     ]
    },
    {
     "name": "stderr",
     "output_type": "stream",
     "text": [
      "Simulation Progress: 100%|██████████| 500000/500000 [02:33<00:00, 3248.11it/s]\n"
     ]
    },
    {
     "name": "stdout",
     "output_type": "stream",
     "text": [
      "Partition 126 completed, convergence counter: 11944\n"
     ]
    },
    {
     "name": "stderr",
     "output_type": "stream",
     "text": [
      "Simulation Progress: 100%|██████████| 500000/500000 [03:06<00:00, 2684.87it/s]\n"
     ]
    },
    {
     "name": "stdout",
     "output_type": "stream",
     "text": [
      "Partition 127 completed, convergence counter: 200796\n"
     ]
    },
    {
     "name": "stderr",
     "output_type": "stream",
     "text": [
      "Simulation Progress: 100%|██████████| 500000/500000 [02:48<00:00, 2971.45it/s]\n"
     ]
    },
    {
     "name": "stdout",
     "output_type": "stream",
     "text": [
      "Partition 128 completed, convergence counter: 58615\n"
     ]
    },
    {
     "name": "stderr",
     "output_type": "stream",
     "text": [
      "Simulation Progress: 100%|██████████| 500000/500000 [02:45<00:00, 3029.12it/s]\n"
     ]
    },
    {
     "name": "stdout",
     "output_type": "stream",
     "text": [
      "Partition 129 completed, convergence counter: 154690\n"
     ]
    },
    {
     "name": "stderr",
     "output_type": "stream",
     "text": [
      "Simulation Progress: 100%|██████████| 500000/500000 [02:48<00:00, 2972.39it/s]\n"
     ]
    },
    {
     "name": "stdout",
     "output_type": "stream",
     "text": [
      "Partition 130 completed, convergence counter: 429689\n"
     ]
    },
    {
     "name": "stderr",
     "output_type": "stream",
     "text": [
      "Simulation Progress: 100%|██████████| 500000/500000 [02:44<00:00, 3036.16it/s]\n"
     ]
    },
    {
     "name": "stdout",
     "output_type": "stream",
     "text": [
      "Partition 131 completed, convergence counter: 29109\n"
     ]
    },
    {
     "name": "stderr",
     "output_type": "stream",
     "text": [
      "Simulation Progress: 100%|██████████| 500000/500000 [02:37<00:00, 3182.48it/s]\n"
     ]
    },
    {
     "name": "stdout",
     "output_type": "stream",
     "text": [
      "Partition 132 completed, convergence counter: 137597\n"
     ]
    },
    {
     "name": "stderr",
     "output_type": "stream",
     "text": [
      "Simulation Progress: 100%|██████████| 500000/500000 [02:12<00:00, 3760.93it/s]\n"
     ]
    },
    {
     "name": "stdout",
     "output_type": "stream",
     "text": [
      "Partition 133 completed, convergence counter: 356912\n"
     ]
    },
    {
     "name": "stderr",
     "output_type": "stream",
     "text": [
      "Simulation Progress: 100%|██████████| 500000/500000 [03:02<00:00, 2744.56it/s]\n"
     ]
    },
    {
     "name": "stdout",
     "output_type": "stream",
     "text": [
      "Partition 134 completed, convergence counter: 137940\n"
     ]
    },
    {
     "name": "stderr",
     "output_type": "stream",
     "text": [
      "Simulation Progress: 100%|██████████| 500000/500000 [03:08<00:00, 2655.78it/s]\n"
     ]
    },
    {
     "name": "stdout",
     "output_type": "stream",
     "text": [
      "Partition 135 completed, convergence counter: 618378\n"
     ]
    },
    {
     "name": "stderr",
     "output_type": "stream",
     "text": [
      "Simulation Progress: 100%|██████████| 500000/500000 [02:44<00:00, 3039.92it/s]\n"
     ]
    },
    {
     "name": "stdout",
     "output_type": "stream",
     "text": [
      "Partition 136 completed, convergence counter: 1099390\n"
     ]
    },
    {
     "name": "stderr",
     "output_type": "stream",
     "text": [
      "Simulation Progress: 100%|██████████| 500000/500000 [03:07<00:00, 2666.79it/s]\n"
     ]
    },
    {
     "name": "stdout",
     "output_type": "stream",
     "text": [
      "Partition 137 completed, convergence counter: 154544\n"
     ]
    },
    {
     "name": "stderr",
     "output_type": "stream",
     "text": [
      "Simulation Progress: 100%|██████████| 500000/500000 [03:00<00:00, 2775.64it/s]\n"
     ]
    },
    {
     "name": "stdout",
     "output_type": "stream",
     "text": [
      "Partition 138 completed, convergence counter: 453778\n"
     ]
    },
    {
     "name": "stderr",
     "output_type": "stream",
     "text": [
      "Simulation Progress: 100%|██████████| 500000/500000 [02:58<00:00, 2800.37it/s]\n"
     ]
    },
    {
     "name": "stdout",
     "output_type": "stream",
     "text": [
      "Partition 139 completed, convergence counter: 404831\n"
     ]
    },
    {
     "name": "stderr",
     "output_type": "stream",
     "text": [
      "Simulation Progress: 100%|██████████| 500000/500000 [02:49<00:00, 2942.53it/s]\n"
     ]
    },
    {
     "name": "stdout",
     "output_type": "stream",
     "text": [
      "Partition 140 completed, convergence counter: 885904\n"
     ]
    },
    {
     "name": "stderr",
     "output_type": "stream",
     "text": [
      "Simulation Progress: 100%|██████████| 500000/500000 [02:37<00:00, 3170.50it/s]\n"
     ]
    },
    {
     "name": "stdout",
     "output_type": "stream",
     "text": [
      "Partition 141 completed, convergence counter: 7501\n"
     ]
    },
    {
     "name": "stderr",
     "output_type": "stream",
     "text": [
      "Simulation Progress: 100%|██████████| 500000/500000 [02:49<00:00, 2942.70it/s]\n"
     ]
    },
    {
     "name": "stdout",
     "output_type": "stream",
     "text": [
      "Partition 142 completed, convergence counter: 14751\n"
     ]
    },
    {
     "name": "stderr",
     "output_type": "stream",
     "text": [
      "Simulation Progress: 100%|██████████| 500000/500000 [02:31<00:00, 3309.75it/s]\n"
     ]
    },
    {
     "name": "stdout",
     "output_type": "stream",
     "text": [
      "Partition 143 completed, convergence counter: 210004\n"
     ]
    },
    {
     "name": "stderr",
     "output_type": "stream",
     "text": [
      "Simulation Progress: 100%|██████████| 500000/500000 [02:47<00:00, 2979.95it/s]\n"
     ]
    },
    {
     "name": "stdout",
     "output_type": "stream",
     "text": [
      "Partition 144 completed, convergence counter: 689988\n"
     ]
    },
    {
     "name": "stderr",
     "output_type": "stream",
     "text": [
      "Simulation Progress: 100%|██████████| 500000/500000 [02:33<00:00, 3249.62it/s]\n"
     ]
    },
    {
     "name": "stdout",
     "output_type": "stream",
     "text": [
      "Partition 145 completed, convergence counter: 82869\n"
     ]
    },
    {
     "name": "stderr",
     "output_type": "stream",
     "text": [
      "Simulation Progress: 100%|██████████| 500000/500000 [03:02<00:00, 2743.02it/s]\n"
     ]
    },
    {
     "name": "stdout",
     "output_type": "stream",
     "text": [
      "Partition 146 completed, convergence counter: 86140\n"
     ]
    },
    {
     "name": "stderr",
     "output_type": "stream",
     "text": [
      "Simulation Progress: 100%|██████████| 500000/500000 [02:37<00:00, 3175.57it/s]\n"
     ]
    },
    {
     "name": "stdout",
     "output_type": "stream",
     "text": [
      "Partition 147 completed, convergence counter: 330476\n"
     ]
    },
    {
     "name": "stderr",
     "output_type": "stream",
     "text": [
      "Simulation Progress: 100%|██████████| 500000/500000 [02:54<00:00, 2866.99it/s]\n"
     ]
    },
    {
     "name": "stdout",
     "output_type": "stream",
     "text": [
      "Partition 148 completed, convergence counter: 134275\n"
     ]
    },
    {
     "name": "stderr",
     "output_type": "stream",
     "text": [
      "Simulation Progress: 100%|██████████| 500000/500000 [02:56<00:00, 2830.48it/s]\n"
     ]
    },
    {
     "name": "stdout",
     "output_type": "stream",
     "text": [
      "Partition 149 completed, convergence counter: 33636\n"
     ]
    },
    {
     "name": "stderr",
     "output_type": "stream",
     "text": [
      "Simulation Progress: 100%|██████████| 500000/500000 [02:53<00:00, 2880.52it/s]\n"
     ]
    },
    {
     "name": "stdout",
     "output_type": "stream",
     "text": [
      "Partition 150 completed, convergence counter: 11561\n"
     ]
    },
    {
     "name": "stderr",
     "output_type": "stream",
     "text": [
      "Simulation Progress: 100%|██████████| 500000/500000 [02:53<00:00, 2885.69it/s]\n"
     ]
    },
    {
     "name": "stdout",
     "output_type": "stream",
     "text": [
      "Partition 151 completed, convergence counter: 32508\n"
     ]
    },
    {
     "name": "stderr",
     "output_type": "stream",
     "text": [
      "Simulation Progress: 100%|██████████| 500000/500000 [02:55<00:00, 2849.17it/s]\n"
     ]
    },
    {
     "name": "stdout",
     "output_type": "stream",
     "text": [
      "Partition 152 completed, convergence counter: 513627\n"
     ]
    },
    {
     "name": "stderr",
     "output_type": "stream",
     "text": [
      "Simulation Progress: 100%|██████████| 500000/500000 [02:53<00:00, 2886.91it/s]\n"
     ]
    },
    {
     "name": "stdout",
     "output_type": "stream",
     "text": [
      "Partition 153 completed, convergence counter: 7748\n"
     ]
    },
    {
     "name": "stderr",
     "output_type": "stream",
     "text": [
      "Simulation Progress: 100%|██████████| 500000/500000 [02:37<00:00, 3164.60it/s]\n"
     ]
    },
    {
     "name": "stdout",
     "output_type": "stream",
     "text": [
      "Partition 154 completed, convergence counter: 209428\n"
     ]
    },
    {
     "name": "stderr",
     "output_type": "stream",
     "text": [
      "Simulation Progress: 100%|██████████| 500000/500000 [03:20<00:00, 2495.36it/s]\n"
     ]
    },
    {
     "name": "stdout",
     "output_type": "stream",
     "text": [
      "Partition 155 completed, convergence counter: 42537\n"
     ]
    },
    {
     "name": "stderr",
     "output_type": "stream",
     "text": [
      "Simulation Progress: 100%|██████████| 500000/500000 [02:43<00:00, 3063.31it/s]\n"
     ]
    },
    {
     "name": "stdout",
     "output_type": "stream",
     "text": [
      "Partition 156 completed, convergence counter: 83697\n"
     ]
    },
    {
     "name": "stderr",
     "output_type": "stream",
     "text": [
      "Simulation Progress: 100%|██████████| 500000/500000 [03:13<00:00, 2584.83it/s]\n"
     ]
    },
    {
     "name": "stdout",
     "output_type": "stream",
     "text": [
      "Partition 157 completed, convergence counter: 402124\n"
     ]
    },
    {
     "name": "stderr",
     "output_type": "stream",
     "text": [
      "Simulation Progress: 100%|██████████| 500000/500000 [02:47<00:00, 2983.44it/s]\n"
     ]
    },
    {
     "name": "stdout",
     "output_type": "stream",
     "text": [
      "Partition 158 completed, convergence counter: 883282\n"
     ]
    },
    {
     "name": "stderr",
     "output_type": "stream",
     "text": [
      "Simulation Progress: 100%|██████████| 500000/500000 [03:00<00:00, 2772.25it/s]\n"
     ]
    },
    {
     "name": "stdout",
     "output_type": "stream",
     "text": [
      "Partition 159 completed, convergence counter: 59902\n"
     ]
    },
    {
     "name": "stderr",
     "output_type": "stream",
     "text": [
      "Simulation Progress: 100%|██████████| 500000/500000 [02:47<00:00, 2982.80it/s]\n"
     ]
    },
    {
     "name": "stdout",
     "output_type": "stream",
     "text": [
      "Partition 160 completed, convergence counter: 99338\n"
     ]
    },
    {
     "name": "stderr",
     "output_type": "stream",
     "text": [
      "Simulation Progress: 100%|██████████| 500000/500000 [02:52<00:00, 2892.24it/s]\n"
     ]
    },
    {
     "name": "stdout",
     "output_type": "stream",
     "text": [
      "Partition 161 completed, convergence counter: 359938\n"
     ]
    },
    {
     "name": "stderr",
     "output_type": "stream",
     "text": [
      "Simulation Progress: 100%|██████████| 500000/500000 [02:46<00:00, 3005.97it/s]\n"
     ]
    },
    {
     "name": "stdout",
     "output_type": "stream",
     "text": [
      "Partition 162 completed, convergence counter: 15381\n"
     ]
    },
    {
     "name": "stderr",
     "output_type": "stream",
     "text": [
      "Simulation Progress: 100%|██████████| 500000/500000 [03:05<00:00, 2696.52it/s]\n"
     ]
    },
    {
     "name": "stdout",
     "output_type": "stream",
     "text": [
      "Partition 163 completed, convergence counter: 388601\n"
     ]
    },
    {
     "name": "stderr",
     "output_type": "stream",
     "text": [
      "Simulation Progress: 100%|██████████| 500000/500000 [02:59<00:00, 2792.40it/s]\n"
     ]
    },
    {
     "name": "stdout",
     "output_type": "stream",
     "text": [
      "Partition 164 completed, convergence counter: 408070\n"
     ]
    },
    {
     "name": "stderr",
     "output_type": "stream",
     "text": [
      "Simulation Progress: 100%|██████████| 500000/500000 [03:00<00:00, 2767.10it/s]\n"
     ]
    },
    {
     "name": "stdout",
     "output_type": "stream",
     "text": [
      "Partition 165 completed, convergence counter: 16209\n"
     ]
    },
    {
     "name": "stderr",
     "output_type": "stream",
     "text": [
      "Simulation Progress: 100%|██████████| 500000/500000 [03:12<00:00, 2603.11it/s]\n"
     ]
    },
    {
     "name": "stdout",
     "output_type": "stream",
     "text": [
      "Partition 166 completed, convergence counter: 40536\n"
     ]
    },
    {
     "name": "stderr",
     "output_type": "stream",
     "text": [
      "Simulation Progress: 100%|██████████| 500000/500000 [03:03<00:00, 2718.85it/s]\n"
     ]
    },
    {
     "name": "stdout",
     "output_type": "stream",
     "text": [
      "Partition 167 completed, convergence counter: 72057\n"
     ]
    },
    {
     "name": "stderr",
     "output_type": "stream",
     "text": [
      "Simulation Progress: 100%|██████████| 500000/500000 [03:06<00:00, 2685.03it/s]\n"
     ]
    },
    {
     "name": "stdout",
     "output_type": "stream",
     "text": [
      "Partition 168 completed, convergence counter: 229364\n"
     ]
    },
    {
     "name": "stderr",
     "output_type": "stream",
     "text": [
      "Simulation Progress: 100%|██████████| 500000/500000 [02:36<00:00, 3199.24it/s]\n"
     ]
    },
    {
     "name": "stdout",
     "output_type": "stream",
     "text": [
      "Partition 169 completed, convergence counter: 35004\n"
     ]
    },
    {
     "name": "stderr",
     "output_type": "stream",
     "text": [
      "Simulation Progress: 100%|██████████| 500000/500000 [02:32<00:00, 3273.66it/s]\n"
     ]
    },
    {
     "name": "stdout",
     "output_type": "stream",
     "text": [
      "Partition 170 completed, convergence counter: 108480\n"
     ]
    },
    {
     "name": "stderr",
     "output_type": "stream",
     "text": [
      "Simulation Progress: 100%|██████████| 500000/500000 [02:16<00:00, 3649.82it/s]\n"
     ]
    },
    {
     "name": "stdout",
     "output_type": "stream",
     "text": [
      "Partition 171 completed, convergence counter: 33050\n"
     ]
    },
    {
     "name": "stderr",
     "output_type": "stream",
     "text": [
      "Simulation Progress: 100%|██████████| 500000/500000 [02:55<00:00, 2851.89it/s]\n"
     ]
    },
    {
     "name": "stdout",
     "output_type": "stream",
     "text": [
      "Partition 172 completed, convergence counter: 514588\n"
     ]
    },
    {
     "name": "stderr",
     "output_type": "stream",
     "text": [
      "Simulation Progress: 100%|██████████| 500000/500000 [02:19<00:00, 3572.79it/s]\n"
     ]
    },
    {
     "name": "stdout",
     "output_type": "stream",
     "text": [
      "Partition 173 completed, convergence counter: 54141\n"
     ]
    },
    {
     "name": "stderr",
     "output_type": "stream",
     "text": [
      "Simulation Progress: 100%|██████████| 500000/500000 [02:48<00:00, 2974.07it/s]\n"
     ]
    },
    {
     "name": "stdout",
     "output_type": "stream",
     "text": [
      "Partition 174 completed, convergence counter: 92406\n"
     ]
    },
    {
     "name": "stderr",
     "output_type": "stream",
     "text": [
      "Simulation Progress: 100%|██████████| 500000/500000 [02:21<00:00, 3538.94it/s]\n"
     ]
    },
    {
     "name": "stdout",
     "output_type": "stream",
     "text": [
      "Partition 175 completed, convergence counter: 89166\n"
     ]
    },
    {
     "name": "stderr",
     "output_type": "stream",
     "text": [
      "Simulation Progress: 100%|██████████| 500000/500000 [02:52<00:00, 2906.98it/s]\n"
     ]
    },
    {
     "name": "stdout",
     "output_type": "stream",
     "text": [
      "Partition 176 completed, convergence counter: 570765\n"
     ]
    },
    {
     "name": "stderr",
     "output_type": "stream",
     "text": [
      "Simulation Progress: 100%|██████████| 500000/500000 [02:35<00:00, 3210.00it/s]\n"
     ]
    },
    {
     "name": "stdout",
     "output_type": "stream",
     "text": [
      "Partition 177 completed, convergence counter: 94451\n"
     ]
    },
    {
     "name": "stderr",
     "output_type": "stream",
     "text": [
      "Simulation Progress: 100%|██████████| 500000/500000 [03:13<00:00, 2581.03it/s]\n"
     ]
    },
    {
     "name": "stdout",
     "output_type": "stream",
     "text": [
      "Partition 178 completed, convergence counter: 194350\n"
     ]
    },
    {
     "name": "stderr",
     "output_type": "stream",
     "text": [
      "Simulation Progress: 100%|██████████| 500000/500000 [02:47<00:00, 2977.92it/s]\n"
     ]
    },
    {
     "name": "stdout",
     "output_type": "stream",
     "text": [
      "Partition 179 completed, convergence counter: 119415\n"
     ]
    },
    {
     "name": "stderr",
     "output_type": "stream",
     "text": [
      "Simulation Progress: 100%|██████████| 500000/500000 [02:51<00:00, 2914.76it/s]\n"
     ]
    },
    {
     "name": "stdout",
     "output_type": "stream",
     "text": [
      "Partition 180 completed, convergence counter: 149819\n"
     ]
    },
    {
     "name": "stderr",
     "output_type": "stream",
     "text": [
      "Simulation Progress: 100%|██████████| 500000/500000 [03:08<00:00, 2648.64it/s]\n"
     ]
    },
    {
     "name": "stdout",
     "output_type": "stream",
     "text": [
      "Partition 181 completed, convergence counter: 631967\n"
     ]
    },
    {
     "name": "stderr",
     "output_type": "stream",
     "text": [
      "Simulation Progress: 100%|██████████| 500000/500000 [02:54<00:00, 2866.71it/s]\n"
     ]
    },
    {
     "name": "stdout",
     "output_type": "stream",
     "text": [
      "Partition 182 completed, convergence counter: 1114465\n"
     ]
    },
    {
     "name": "stderr",
     "output_type": "stream",
     "text": [
      "Simulation Progress: 100%|██████████| 500000/500000 [02:45<00:00, 3019.54it/s]\n"
     ]
    },
    {
     "name": "stdout",
     "output_type": "stream",
     "text": [
      "Partition 183 completed, convergence counter: 1596476\n"
     ]
    },
    {
     "name": "stderr",
     "output_type": "stream",
     "text": [
      "Simulation Progress: 100%|██████████| 500000/500000 [02:32<00:00, 3285.29it/s]\n"
     ]
    },
    {
     "name": "stdout",
     "output_type": "stream",
     "text": [
      "Partition 184 completed, convergence counter: 2078703\n"
     ]
    },
    {
     "name": "stderr",
     "output_type": "stream",
     "text": [
      "Simulation Progress: 100%|██████████| 500000/500000 [02:36<00:00, 3194.71it/s]\n"
     ]
    },
    {
     "name": "stdout",
     "output_type": "stream",
     "text": [
      "Partition 185 completed, convergence counter: 104032\n"
     ]
    },
    {
     "name": "stderr",
     "output_type": "stream",
     "text": [
      "Simulation Progress: 100%|██████████| 500000/500000 [03:09<00:00, 2642.40it/s]\n"
     ]
    },
    {
     "name": "stdout",
     "output_type": "stream",
     "text": [
      "Partition 186 completed, convergence counter: 52598\n"
     ]
    },
    {
     "name": "stderr",
     "output_type": "stream",
     "text": [
      "Simulation Progress: 100%|██████████| 500000/500000 [02:59<00:00, 2785.32it/s]\n"
     ]
    },
    {
     "name": "stdout",
     "output_type": "stream",
     "text": [
      "Partition 187 completed, convergence counter: 69\n"
     ]
    },
    {
     "name": "stderr",
     "output_type": "stream",
     "text": [
      "Simulation Progress: 100%|██████████| 500000/500000 [02:45<00:00, 3030.11it/s]\n"
     ]
    },
    {
     "name": "stdout",
     "output_type": "stream",
     "text": [
      "Partition 188 completed, convergence counter: 372199\n"
     ]
    },
    {
     "name": "stderr",
     "output_type": "stream",
     "text": [
      "Simulation Progress: 100%|██████████| 500000/500000 [02:41<00:00, 3098.72it/s]\n"
     ]
    },
    {
     "name": "stdout",
     "output_type": "stream",
     "text": [
      "Partition 189 completed, convergence counter: 853682\n"
     ]
    },
    {
     "name": "stderr",
     "output_type": "stream",
     "text": [
      "Simulation Progress: 100%|██████████| 500000/500000 [02:36<00:00, 3187.84it/s]\n"
     ]
    },
    {
     "name": "stdout",
     "output_type": "stream",
     "text": [
      "Partition 190 completed, convergence counter: 28620\n"
     ]
    },
    {
     "name": "stderr",
     "output_type": "stream",
     "text": [
      "Simulation Progress: 100%|██████████| 500000/500000 [02:31<00:00, 3303.02it/s]\n"
     ]
    },
    {
     "name": "stdout",
     "output_type": "stream",
     "text": [
      "Partition 191 completed, convergence counter: 47325\n"
     ]
    },
    {
     "name": "stderr",
     "output_type": "stream",
     "text": [
      "Simulation Progress: 100%|██████████| 500000/500000 [02:41<00:00, 3098.32it/s]\n"
     ]
    },
    {
     "name": "stdout",
     "output_type": "stream",
     "text": [
      "Partition 192 completed, convergence counter: 105301\n"
     ]
    },
    {
     "name": "stderr",
     "output_type": "stream",
     "text": [
      "Simulation Progress: 100%|██████████| 500000/500000 [02:15<00:00, 3677.41it/s]\n"
     ]
    },
    {
     "name": "stdout",
     "output_type": "stream",
     "text": [
      "Partition 193 completed, convergence counter: 391373\n"
     ]
    },
    {
     "name": "stderr",
     "output_type": "stream",
     "text": [
      "Simulation Progress: 100%|██████████| 500000/500000 [02:18<00:00, 3618.87it/s]\n"
     ]
    },
    {
     "name": "stdout",
     "output_type": "stream",
     "text": [
      "Partition 194 completed, convergence counter: 457056\n"
     ]
    },
    {
     "name": "stderr",
     "output_type": "stream",
     "text": [
      "Simulation Progress: 100%|██████████| 500000/500000 [02:49<00:00, 2943.04it/s]\n"
     ]
    },
    {
     "name": "stdout",
     "output_type": "stream",
     "text": [
      "Partition 195 completed, convergence counter: 383242\n"
     ]
    },
    {
     "name": "stderr",
     "output_type": "stream",
     "text": [
      "Simulation Progress: 100%|██████████| 500000/500000 [02:52<00:00, 2893.90it/s]\n"
     ]
    },
    {
     "name": "stdout",
     "output_type": "stream",
     "text": [
      "Partition 196 completed, convergence counter: 302731\n"
     ]
    },
    {
     "name": "stderr",
     "output_type": "stream",
     "text": [
      "Simulation Progress: 100%|██████████| 500000/500000 [02:45<00:00, 3027.47it/s]\n"
     ]
    },
    {
     "name": "stdout",
     "output_type": "stream",
     "text": [
      "Partition 197 completed, convergence counter: 341187\n"
     ]
    },
    {
     "name": "stderr",
     "output_type": "stream",
     "text": [
      "Simulation Progress: 100%|██████████| 500000/500000 [02:49<00:00, 2944.38it/s]\n"
     ]
    },
    {
     "name": "stdout",
     "output_type": "stream",
     "text": [
      "Partition 198 completed, convergence counter: 823066\n"
     ]
    },
    {
     "name": "stderr",
     "output_type": "stream",
     "text": [
      "Simulation Progress: 100%|██████████| 500000/500000 [02:39<00:00, 3136.36it/s]\n"
     ]
    },
    {
     "name": "stdout",
     "output_type": "stream",
     "text": [
      "Partition 199 completed, convergence counter: 115055\n"
     ]
    },
    {
     "name": "stderr",
     "output_type": "stream",
     "text": [
      "Simulation Progress: 100%|██████████| 500000/500000 [03:13<00:00, 2580.42it/s]\n"
     ]
    },
    {
     "name": "stdout",
     "output_type": "stream",
     "text": [
      "Partition 200 completed, convergence counter: 49913\n"
     ]
    },
    {
     "name": "stderr",
     "output_type": "stream",
     "text": [
      "Simulation Progress: 100%|██████████| 500000/500000 [02:58<00:00, 2801.49it/s]\n"
     ]
    },
    {
     "name": "stdout",
     "output_type": "stream",
     "text": [
      "Partition 201 completed, convergence counter: 81213\n"
     ]
    },
    {
     "name": "stderr",
     "output_type": "stream",
     "text": [
      "Simulation Progress: 100%|██████████| 500000/500000 [03:05<00:00, 2701.62it/s]\n"
     ]
    },
    {
     "name": "stdout",
     "output_type": "stream",
     "text": [
      "Partition 202 completed, convergence counter: 387011\n"
     ]
    },
    {
     "name": "stderr",
     "output_type": "stream",
     "text": [
      "Simulation Progress: 100%|██████████| 500000/500000 [03:18<00:00, 2524.67it/s]\n"
     ]
    },
    {
     "name": "stdout",
     "output_type": "stream",
     "text": [
      "Partition 203 completed, convergence counter: 48827\n"
     ]
    },
    {
     "name": "stderr",
     "output_type": "stream",
     "text": [
      "Simulation Progress: 100%|██████████| 500000/500000 [03:03<00:00, 2731.82it/s]\n"
     ]
    },
    {
     "name": "stdout",
     "output_type": "stream",
     "text": [
      "Partition 204 completed, convergence counter: 426220\n"
     ]
    },
    {
     "name": "stderr",
     "output_type": "stream",
     "text": [
      "Simulation Progress: 100%|██████████| 500000/500000 [03:06<00:00, 2677.89it/s]\n"
     ]
    },
    {
     "name": "stdout",
     "output_type": "stream",
     "text": [
      "Partition 205 completed, convergence counter: 908802\n"
     ]
    },
    {
     "name": "stderr",
     "output_type": "stream",
     "text": [
      "Simulation Progress: 100%|██████████| 500000/500000 [03:06<00:00, 2679.97it/s]\n"
     ]
    },
    {
     "name": "stdout",
     "output_type": "stream",
     "text": [
      "Partition 206 completed, convergence counter: 44984\n"
     ]
    },
    {
     "name": "stderr",
     "output_type": "stream",
     "text": [
      "Simulation Progress: 100%|██████████| 500000/500000 [03:05<00:00, 2691.20it/s]\n"
     ]
    },
    {
     "name": "stdout",
     "output_type": "stream",
     "text": [
      "Partition 207 completed, convergence counter: 527029\n"
     ]
    },
    {
     "name": "stderr",
     "output_type": "stream",
     "text": [
      "Simulation Progress: 100%|██████████| 500000/500000 [02:52<00:00, 2898.63it/s]\n"
     ]
    },
    {
     "name": "stdout",
     "output_type": "stream",
     "text": [
      "Partition 208 completed, convergence counter: 481403\n"
     ]
    },
    {
     "name": "stderr",
     "output_type": "stream",
     "text": [
      "Simulation Progress: 100%|██████████| 500000/500000 [03:27<00:00, 2408.48it/s]\n"
     ]
    },
    {
     "name": "stdout",
     "output_type": "stream",
     "text": [
      "Partition 209 completed, convergence counter: 26930\n"
     ]
    },
    {
     "name": "stderr",
     "output_type": "stream",
     "text": [
      "Simulation Progress: 100%|██████████| 500000/500000 [03:18<00:00, 2518.88it/s]\n"
     ]
    },
    {
     "name": "stdout",
     "output_type": "stream",
     "text": [
      "Partition 210 completed, convergence counter: 101260\n"
     ]
    },
    {
     "name": "stderr",
     "output_type": "stream",
     "text": [
      "Simulation Progress: 100%|██████████| 500000/500000 [03:14<00:00, 2566.48it/s]\n"
     ]
    },
    {
     "name": "stdout",
     "output_type": "stream",
     "text": [
      "Partition 211 completed, convergence counter: 336144\n"
     ]
    },
    {
     "name": "stderr",
     "output_type": "stream",
     "text": [
      "Simulation Progress: 100%|██████████| 500000/500000 [03:10<00:00, 2619.85it/s]\n"
     ]
    },
    {
     "name": "stdout",
     "output_type": "stream",
     "text": [
      "Partition 212 completed, convergence counter: 434729\n"
     ]
    },
    {
     "name": "stderr",
     "output_type": "stream",
     "text": [
      "Simulation Progress: 100%|██████████| 500000/500000 [03:08<00:00, 2659.50it/s]\n"
     ]
    },
    {
     "name": "stdout",
     "output_type": "stream",
     "text": [
      "Partition 213 completed, convergence counter: 917475\n"
     ]
    },
    {
     "name": "stderr",
     "output_type": "stream",
     "text": [
      "Simulation Progress: 100%|██████████| 500000/500000 [03:28<00:00, 2396.39it/s]\n"
     ]
    },
    {
     "name": "stdout",
     "output_type": "stream",
     "text": [
      "Partition 214 completed, convergence counter: 258729\n"
     ]
    },
    {
     "name": "stderr",
     "output_type": "stream",
     "text": [
      "Simulation Progress: 100%|██████████| 500000/500000 [03:22<00:00, 2474.31it/s]\n"
     ]
    },
    {
     "name": "stdout",
     "output_type": "stream",
     "text": [
      "Partition 215 completed, convergence counter: 741489\n"
     ]
    },
    {
     "name": "stderr",
     "output_type": "stream",
     "text": [
      "Simulation Progress: 100%|██████████| 500000/500000 [03:14<00:00, 2573.24it/s]\n"
     ]
    },
    {
     "name": "stdout",
     "output_type": "stream",
     "text": [
      "Partition 216 completed, convergence counter: 1224006\n"
     ]
    },
    {
     "name": "stderr",
     "output_type": "stream",
     "text": [
      "Simulation Progress: 100%|██████████| 500000/500000 [02:58<00:00, 2796.10it/s]\n"
     ]
    },
    {
     "name": "stdout",
     "output_type": "stream",
     "text": [
      "Partition 217 completed, convergence counter: 196390\n"
     ]
    },
    {
     "name": "stderr",
     "output_type": "stream",
     "text": [
      "Simulation Progress: 100%|██████████| 500000/500000 [03:02<00:00, 2741.28it/s]\n"
     ]
    },
    {
     "name": "stdout",
     "output_type": "stream",
     "text": [
      "Partition 218 completed, convergence counter: 678554\n"
     ]
    },
    {
     "name": "stderr",
     "output_type": "stream",
     "text": [
      "Simulation Progress: 100%|██████████| 500000/500000 [03:00<00:00, 2775.88it/s]\n"
     ]
    },
    {
     "name": "stdout",
     "output_type": "stream",
     "text": [
      "Partition 219 completed, convergence counter: 155875\n"
     ]
    },
    {
     "name": "stderr",
     "output_type": "stream",
     "text": [
      "Simulation Progress: 100%|██████████| 500000/500000 [02:31<00:00, 3311.06it/s]\n"
     ]
    },
    {
     "name": "stdout",
     "output_type": "stream",
     "text": [
      "Partition 220 completed, convergence counter: 15082\n"
     ]
    },
    {
     "name": "stderr",
     "output_type": "stream",
     "text": [
      "Simulation Progress: 100%|██████████| 500000/500000 [03:25<00:00, 2434.67it/s]\n"
     ]
    },
    {
     "name": "stdout",
     "output_type": "stream",
     "text": [
      "Partition 221 completed, convergence counter: 33428\n"
     ]
    },
    {
     "name": "stderr",
     "output_type": "stream",
     "text": [
      "Simulation Progress: 100%|██████████| 500000/500000 [03:09<00:00, 2639.29it/s]\n"
     ]
    },
    {
     "name": "stdout",
     "output_type": "stream",
     "text": [
      "Partition 222 completed, convergence counter: 22311\n"
     ]
    },
    {
     "name": "stderr",
     "output_type": "stream",
     "text": [
      "Simulation Progress: 100%|██████████| 500000/500000 [02:41<00:00, 3102.46it/s]\n"
     ]
    },
    {
     "name": "stdout",
     "output_type": "stream",
     "text": [
      "Partition 223 completed, convergence counter: 294754\n"
     ]
    },
    {
     "name": "stderr",
     "output_type": "stream",
     "text": [
      "Simulation Progress: 100%|██████████| 500000/500000 [02:38<00:00, 3146.00it/s]\n"
     ]
    },
    {
     "name": "stdout",
     "output_type": "stream",
     "text": [
      "Partition 224 completed, convergence counter: 60989\n"
     ]
    },
    {
     "name": "stderr",
     "output_type": "stream",
     "text": [
      "Simulation Progress: 100%|██████████| 500000/500000 [03:07<00:00, 2660.63it/s]\n"
     ]
    },
    {
     "name": "stdout",
     "output_type": "stream",
     "text": [
      "Partition 225 completed, convergence counter: 12334\n"
     ]
    },
    {
     "name": "stderr",
     "output_type": "stream",
     "text": [
      "Simulation Progress: 100%|██████████| 500000/500000 [03:18<00:00, 2522.13it/s]\n"
     ]
    },
    {
     "name": "stdout",
     "output_type": "stream",
     "text": [
      "Partition 226 completed, convergence counter: 2232\n"
     ]
    },
    {
     "name": "stderr",
     "output_type": "stream",
     "text": [
      "Simulation Progress: 100%|██████████| 500000/500000 [03:21<00:00, 2486.60it/s]\n"
     ]
    },
    {
     "name": "stdout",
     "output_type": "stream",
     "text": [
      "Partition 227 completed, convergence counter: 193604\n"
     ]
    },
    {
     "name": "stderr",
     "output_type": "stream",
     "text": [
      "Simulation Progress: 100%|██████████| 500000/500000 [03:19<00:00, 2506.54it/s]\n"
     ]
    },
    {
     "name": "stdout",
     "output_type": "stream",
     "text": [
      "Partition 228 completed, convergence counter: 112638\n"
     ]
    },
    {
     "name": "stderr",
     "output_type": "stream",
     "text": [
      "Simulation Progress: 100%|██████████| 500000/500000 [02:53<00:00, 2884.01it/s]\n"
     ]
    },
    {
     "name": "stdout",
     "output_type": "stream",
     "text": [
      "Partition 229 completed, convergence counter: 79391\n"
     ]
    },
    {
     "name": "stderr",
     "output_type": "stream",
     "text": [
      "Simulation Progress: 100%|██████████| 500000/500000 [03:09<00:00, 2640.03it/s]\n"
     ]
    },
    {
     "name": "stdout",
     "output_type": "stream",
     "text": [
      "Partition 230 completed, convergence counter: 12724\n"
     ]
    },
    {
     "name": "stderr",
     "output_type": "stream",
     "text": [
      "Simulation Progress: 100%|██████████| 500000/500000 [03:11<00:00, 2616.40it/s]\n"
     ]
    },
    {
     "name": "stdout",
     "output_type": "stream",
     "text": [
      "Partition 231 completed, convergence counter: 20425\n"
     ]
    },
    {
     "name": "stderr",
     "output_type": "stream",
     "text": [
      "Simulation Progress: 100%|██████████| 500000/500000 [02:36<00:00, 3189.32it/s]\n"
     ]
    },
    {
     "name": "stdout",
     "output_type": "stream",
     "text": [
      "Partition 232 completed, convergence counter: 29850\n"
     ]
    },
    {
     "name": "stderr",
     "output_type": "stream",
     "text": [
      "Simulation Progress: 100%|██████████| 500000/500000 [03:19<00:00, 2501.98it/s]\n"
     ]
    },
    {
     "name": "stdout",
     "output_type": "stream",
     "text": [
      "Partition 233 completed, convergence counter: 59594\n"
     ]
    },
    {
     "name": "stderr",
     "output_type": "stream",
     "text": [
      "Simulation Progress: 100%|██████████| 500000/500000 [03:08<00:00, 2653.58it/s]\n"
     ]
    },
    {
     "name": "stdout",
     "output_type": "stream",
     "text": [
      "Partition 234 completed, convergence counter: 170464\n"
     ]
    },
    {
     "name": "stderr",
     "output_type": "stream",
     "text": [
      "Simulation Progress: 100%|██████████| 500000/500000 [03:18<00:00, 2524.82it/s]\n"
     ]
    },
    {
     "name": "stdout",
     "output_type": "stream",
     "text": [
      "Partition 235 completed, convergence counter: 2615\n"
     ]
    },
    {
     "name": "stderr",
     "output_type": "stream",
     "text": [
      "Simulation Progress: 100%|██████████| 500000/500000 [03:10<00:00, 2619.64it/s]\n"
     ]
    },
    {
     "name": "stdout",
     "output_type": "stream",
     "text": [
      "Partition 236 completed, convergence counter: 9008\n"
     ]
    },
    {
     "name": "stderr",
     "output_type": "stream",
     "text": [
      "Simulation Progress: 100%|██████████| 500000/500000 [03:17<00:00, 2526.20it/s]\n"
     ]
    },
    {
     "name": "stdout",
     "output_type": "stream",
     "text": [
      "Partition 237 completed, convergence counter: 19949\n"
     ]
    },
    {
     "name": "stderr",
     "output_type": "stream",
     "text": [
      "Simulation Progress: 100%|██████████| 500000/500000 [03:19<00:00, 2507.77it/s]\n"
     ]
    },
    {
     "name": "stdout",
     "output_type": "stream",
     "text": [
      "Partition 238 completed, convergence counter: 17012\n"
     ]
    },
    {
     "name": "stderr",
     "output_type": "stream",
     "text": [
      "Simulation Progress: 100%|██████████| 500000/500000 [03:19<00:00, 2503.78it/s]\n"
     ]
    },
    {
     "name": "stdout",
     "output_type": "stream",
     "text": [
      "Partition 239 completed, convergence counter: 46586\n"
     ]
    },
    {
     "name": "stderr",
     "output_type": "stream",
     "text": [
      "Simulation Progress: 100%|██████████| 500000/500000 [02:50<00:00, 2928.97it/s]\n"
     ]
    },
    {
     "name": "stdout",
     "output_type": "stream",
     "text": [
      "Partition 240 completed, convergence counter: 38504\n"
     ]
    },
    {
     "name": "stderr",
     "output_type": "stream",
     "text": [
      "Simulation Progress: 100%|██████████| 500000/500000 [02:55<00:00, 2843.48it/s]\n"
     ]
    },
    {
     "name": "stdout",
     "output_type": "stream",
     "text": [
      "Partition 241 completed, convergence counter: 130821\n"
     ]
    },
    {
     "name": "stderr",
     "output_type": "stream",
     "text": [
      "Simulation Progress: 100%|██████████| 500000/500000 [03:00<00:00, 2771.11it/s]\n"
     ]
    },
    {
     "name": "stdout",
     "output_type": "stream",
     "text": [
      "Partition 242 completed, convergence counter: 157470\n"
     ]
    },
    {
     "name": "stderr",
     "output_type": "stream",
     "text": [
      "Simulation Progress: 100%|██████████| 500000/500000 [03:09<00:00, 2638.99it/s]\n"
     ]
    },
    {
     "name": "stdout",
     "output_type": "stream",
     "text": [
      "Partition 243 completed, convergence counter: 209290\n"
     ]
    },
    {
     "name": "stderr",
     "output_type": "stream",
     "text": [
      "Simulation Progress: 100%|██████████| 500000/500000 [02:34<00:00, 3241.92it/s]\n"
     ]
    },
    {
     "name": "stdout",
     "output_type": "stream",
     "text": [
      "Partition 244 completed, convergence counter: 2716\n"
     ]
    },
    {
     "name": "stderr",
     "output_type": "stream",
     "text": [
      "Simulation Progress: 100%|██████████| 500000/500000 [03:02<00:00, 2745.73it/s]\n"
     ]
    },
    {
     "name": "stdout",
     "output_type": "stream",
     "text": [
      "Partition 245 completed, convergence counter: 226742\n"
     ]
    },
    {
     "name": "stderr",
     "output_type": "stream",
     "text": [
      "Simulation Progress: 100%|██████████| 500000/500000 [02:50<00:00, 2927.73it/s]\n"
     ]
    },
    {
     "name": "stdout",
     "output_type": "stream",
     "text": [
      "Partition 246 completed, convergence counter: 81596\n"
     ]
    },
    {
     "name": "stderr",
     "output_type": "stream",
     "text": [
      "Simulation Progress: 100%|██████████| 500000/500000 [02:36<00:00, 3194.65it/s]\n"
     ]
    },
    {
     "name": "stdout",
     "output_type": "stream",
     "text": [
      "Partition 247 completed, convergence counter: 565134\n"
     ]
    },
    {
     "name": "stderr",
     "output_type": "stream",
     "text": [
      "Simulation Progress: 100%|██████████| 500000/500000 [02:38<00:00, 3162.20it/s]\n"
     ]
    },
    {
     "name": "stdout",
     "output_type": "stream",
     "text": [
      "Partition 248 completed, convergence counter: 1048092\n"
     ]
    },
    {
     "name": "stderr",
     "output_type": "stream",
     "text": [
      "Simulation Progress: 100%|██████████| 500000/500000 [03:04<00:00, 2714.54it/s]\n"
     ]
    },
    {
     "name": "stdout",
     "output_type": "stream",
     "text": [
      "Partition 249 completed, convergence counter: 1531121\n"
     ]
    },
    {
     "name": "stderr",
     "output_type": "stream",
     "text": [
      "Simulation Progress: 100%|██████████| 500000/500000 [02:48<00:00, 2970.36it/s]\n"
     ]
    },
    {
     "name": "stdout",
     "output_type": "stream",
     "text": [
      "Partition 250 completed, convergence counter: 48797\n"
     ]
    },
    {
     "name": "stderr",
     "output_type": "stream",
     "text": [
      "Simulation Progress: 100%|██████████| 500000/500000 [02:51<00:00, 2922.47it/s]\n"
     ]
    },
    {
     "name": "stdout",
     "output_type": "stream",
     "text": [
      "Partition 251 completed, convergence counter: 182843\n"
     ]
    },
    {
     "name": "stderr",
     "output_type": "stream",
     "text": [
      "Simulation Progress: 100%|██████████| 500000/500000 [02:34<00:00, 3244.10it/s]\n"
     ]
    },
    {
     "name": "stdout",
     "output_type": "stream",
     "text": [
      "Partition 252 completed, convergence counter: 147342\n"
     ]
    },
    {
     "name": "stderr",
     "output_type": "stream",
     "text": [
      "Simulation Progress: 100%|██████████| 500000/500000 [03:04<00:00, 2705.55it/s]\n"
     ]
    },
    {
     "name": "stdout",
     "output_type": "stream",
     "text": [
      "Partition 253 completed, convergence counter: 299986\n"
     ]
    },
    {
     "name": "stderr",
     "output_type": "stream",
     "text": [
      "Simulation Progress: 100%|██████████| 500000/500000 [03:15<00:00, 2563.43it/s]\n"
     ]
    },
    {
     "name": "stdout",
     "output_type": "stream",
     "text": [
      "Partition 254 completed, convergence counter: 1895\n"
     ]
    },
    {
     "name": "stderr",
     "output_type": "stream",
     "text": [
      "Simulation Progress: 100%|██████████| 500000/500000 [03:14<00:00, 2566.84it/s]\n"
     ]
    },
    {
     "name": "stdout",
     "output_type": "stream",
     "text": [
      "Partition 255 completed, convergence counter: 485413\n"
     ]
    },
    {
     "name": "stderr",
     "output_type": "stream",
     "text": [
      "Simulation Progress: 100%|██████████| 500000/500000 [02:52<00:00, 2900.80it/s]\n"
     ]
    },
    {
     "name": "stdout",
     "output_type": "stream",
     "text": [
      "Partition 256 completed, convergence counter: 15385\n"
     ]
    },
    {
     "name": "stderr",
     "output_type": "stream",
     "text": [
      "Simulation Progress: 100%|██████████| 500000/500000 [02:53<00:00, 2878.82it/s]\n"
     ]
    },
    {
     "name": "stdout",
     "output_type": "stream",
     "text": [
      "Partition 257 completed, convergence counter: 92684\n"
     ]
    },
    {
     "name": "stderr",
     "output_type": "stream",
     "text": [
      "Simulation Progress: 100%|██████████| 500000/500000 [03:10<00:00, 2630.27it/s]\n"
     ]
    },
    {
     "name": "stdout",
     "output_type": "stream",
     "text": [
      "Partition 258 completed, convergence counter: 576842\n"
     ]
    },
    {
     "name": "stderr",
     "output_type": "stream",
     "text": [
      "Simulation Progress: 100%|██████████| 500000/500000 [03:08<00:00, 2658.29it/s]\n"
     ]
    },
    {
     "name": "stdout",
     "output_type": "stream",
     "text": [
      "Partition 259 completed, convergence counter: 27207\n"
     ]
    },
    {
     "name": "stderr",
     "output_type": "stream",
     "text": [
      "Simulation Progress: 100%|██████████| 500000/500000 [03:06<00:00, 2686.76it/s]\n"
     ]
    },
    {
     "name": "stdout",
     "output_type": "stream",
     "text": [
      "Partition 260 completed, convergence counter: 352800\n"
     ]
    },
    {
     "name": "stderr",
     "output_type": "stream",
     "text": [
      "Simulation Progress: 100%|██████████| 500000/500000 [03:18<00:00, 2525.18it/s]\n"
     ]
    },
    {
     "name": "stdout",
     "output_type": "stream",
     "text": [
      "Partition 261 completed, convergence counter: 50742\n"
     ]
    },
    {
     "name": "stderr",
     "output_type": "stream",
     "text": [
      "Simulation Progress: 100%|██████████| 500000/500000 [03:12<00:00, 2591.95it/s]\n"
     ]
    },
    {
     "name": "stdout",
     "output_type": "stream",
     "text": [
      "Partition 262 completed, convergence counter: 40345\n"
     ]
    },
    {
     "name": "stderr",
     "output_type": "stream",
     "text": [
      "Simulation Progress: 100%|██████████| 500000/500000 [02:59<00:00, 2781.63it/s]\n"
     ]
    },
    {
     "name": "stdout",
     "output_type": "stream",
     "text": [
      "Partition 263 completed, convergence counter: 142991\n"
     ]
    },
    {
     "name": "stderr",
     "output_type": "stream",
     "text": [
      "Simulation Progress: 100%|██████████| 500000/500000 [02:36<00:00, 3187.59it/s]\n"
     ]
    },
    {
     "name": "stdout",
     "output_type": "stream",
     "text": [
      "Partition 264 completed, convergence counter: 626602\n"
     ]
    },
    {
     "name": "stderr",
     "output_type": "stream",
     "text": [
      "Simulation Progress: 100%|██████████| 500000/500000 [02:48<00:00, 2970.32it/s]\n"
     ]
    },
    {
     "name": "stdout",
     "output_type": "stream",
     "text": [
      "Partition 265 completed, convergence counter: 1111105\n"
     ]
    },
    {
     "name": "stderr",
     "output_type": "stream",
     "text": [
      "Simulation Progress: 100%|██████████| 500000/500000 [03:06<00:00, 2676.94it/s]\n"
     ]
    },
    {
     "name": "stdout",
     "output_type": "stream",
     "text": [
      "Partition 266 completed, convergence counter: 1594945\n"
     ]
    },
    {
     "name": "stderr",
     "output_type": "stream",
     "text": [
      "Simulation Progress: 100%|██████████| 500000/500000 [02:49<00:00, 2951.07it/s]\n"
     ]
    },
    {
     "name": "stdout",
     "output_type": "stream",
     "text": [
      "Partition 267 completed, convergence counter: 76072\n"
     ]
    },
    {
     "name": "stderr",
     "output_type": "stream",
     "text": [
      "Simulation Progress: 100%|██████████| 500000/500000 [02:48<00:00, 2967.61it/s]\n"
     ]
    },
    {
     "name": "stdout",
     "output_type": "stream",
     "text": [
      "Partition 268 completed, convergence counter: 560161\n"
     ]
    },
    {
     "name": "stderr",
     "output_type": "stream",
     "text": [
      "Simulation Progress: 100%|██████████| 500000/500000 [02:40<00:00, 3118.47it/s]\n"
     ]
    },
    {
     "name": "stdout",
     "output_type": "stream",
     "text": [
      "Partition 269 completed, convergence counter: 1043665\n"
     ]
    },
    {
     "name": "stderr",
     "output_type": "stream",
     "text": [
      "Simulation Progress: 100%|██████████| 500000/500000 [02:57<00:00, 2814.92it/s]\n"
     ]
    },
    {
     "name": "stdout",
     "output_type": "stream",
     "text": [
      "Partition 270 completed, convergence counter: 1527535\n"
     ]
    },
    {
     "name": "stderr",
     "output_type": "stream",
     "text": [
      "Simulation Progress: 100%|██████████| 500000/500000 [03:01<00:00, 2752.39it/s]\n"
     ]
    },
    {
     "name": "stdout",
     "output_type": "stream",
     "text": [
      "Partition 271 completed, convergence counter: 2011978\n"
     ]
    },
    {
     "name": "stderr",
     "output_type": "stream",
     "text": [
      "Simulation Progress: 100%|██████████| 500000/500000 [03:17<00:00, 2530.36it/s]\n"
     ]
    },
    {
     "name": "stdout",
     "output_type": "stream",
     "text": [
      "Partition 272 completed, convergence counter: 2496456\n"
     ]
    },
    {
     "name": "stderr",
     "output_type": "stream",
     "text": [
      "Simulation Progress: 100%|██████████| 500000/500000 [03:14<00:00, 2573.07it/s]\n"
     ]
    },
    {
     "name": "stdout",
     "output_type": "stream",
     "text": [
      "Partition 273 completed, convergence counter: 2980054\n"
     ]
    },
    {
     "name": "stderr",
     "output_type": "stream",
     "text": [
      "Simulation Progress: 100%|██████████| 500000/500000 [03:09<00:00, 2638.69it/s]\n"
     ]
    },
    {
     "name": "stdout",
     "output_type": "stream",
     "text": [
      "Partition 274 completed, convergence counter: 393802\n"
     ]
    },
    {
     "name": "stderr",
     "output_type": "stream",
     "text": [
      "Simulation Progress: 100%|██████████| 500000/500000 [03:22<00:00, 2474.58it/s]\n"
     ]
    },
    {
     "name": "stdout",
     "output_type": "stream",
     "text": [
      "Partition 275 completed, convergence counter: 877626\n"
     ]
    },
    {
     "name": "stderr",
     "output_type": "stream",
     "text": [
      "Simulation Progress: 100%|██████████| 500000/500000 [03:09<00:00, 2636.16it/s]\n"
     ]
    },
    {
     "name": "stdout",
     "output_type": "stream",
     "text": [
      "Partition 276 completed, convergence counter: 9512\n"
     ]
    },
    {
     "name": "stderr",
     "output_type": "stream",
     "text": [
      "Simulation Progress: 100%|██████████| 500000/500000 [02:54<00:00, 2863.44it/s]\n"
     ]
    },
    {
     "name": "stdout",
     "output_type": "stream",
     "text": [
      "Partition 277 completed, convergence counter: 98822\n"
     ]
    },
    {
     "name": "stderr",
     "output_type": "stream",
     "text": [
      "Simulation Progress: 100%|██████████| 500000/500000 [02:57<00:00, 2810.35it/s]\n"
     ]
    },
    {
     "name": "stdout",
     "output_type": "stream",
     "text": [
      "Partition 278 completed, convergence counter: 33566\n"
     ]
    },
    {
     "name": "stderr",
     "output_type": "stream",
     "text": [
      "Simulation Progress: 100%|██████████| 500000/500000 [02:44<00:00, 3037.08it/s]\n"
     ]
    },
    {
     "name": "stdout",
     "output_type": "stream",
     "text": [
      "Partition 279 completed, convergence counter: 48688\n"
     ]
    },
    {
     "name": "stderr",
     "output_type": "stream",
     "text": [
      "Simulation Progress: 100%|██████████| 500000/500000 [03:00<00:00, 2762.76it/s]\n"
     ]
    },
    {
     "name": "stdout",
     "output_type": "stream",
     "text": [
      "Partition 280 completed, convergence counter: 241668\n"
     ]
    },
    {
     "name": "stderr",
     "output_type": "stream",
     "text": [
      "Simulation Progress: 100%|██████████| 500000/500000 [03:09<00:00, 2637.85it/s]\n"
     ]
    },
    {
     "name": "stdout",
     "output_type": "stream",
     "text": [
      "Partition 281 completed, convergence counter: 280480\n"
     ]
    },
    {
     "name": "stderr",
     "output_type": "stream",
     "text": [
      "Simulation Progress: 100%|██████████| 500000/500000 [03:06<00:00, 2676.91it/s]\n"
     ]
    },
    {
     "name": "stdout",
     "output_type": "stream",
     "text": [
      "Partition 282 completed, convergence counter: 764395\n"
     ]
    },
    {
     "name": "stderr",
     "output_type": "stream",
     "text": [
      "Simulation Progress: 100%|██████████| 500000/500000 [03:00<00:00, 2768.26it/s]\n"
     ]
    },
    {
     "name": "stdout",
     "output_type": "stream",
     "text": [
      "Partition 283 completed, convergence counter: 8705\n"
     ]
    },
    {
     "name": "stderr",
     "output_type": "stream",
     "text": [
      "Simulation Progress: 100%|██████████| 500000/500000 [02:46<00:00, 3003.18it/s]\n"
     ]
    },
    {
     "name": "stdout",
     "output_type": "stream",
     "text": [
      "Partition 284 completed, convergence counter: 73830\n"
     ]
    },
    {
     "name": "stderr",
     "output_type": "stream",
     "text": [
      "Simulation Progress: 100%|██████████| 500000/500000 [02:45<00:00, 3013.07it/s]\n"
     ]
    },
    {
     "name": "stdout",
     "output_type": "stream",
     "text": [
      "Partition 285 completed, convergence counter: 247800\n"
     ]
    },
    {
     "name": "stderr",
     "output_type": "stream",
     "text": [
      "Simulation Progress: 100%|██████████| 500000/500000 [02:32<00:00, 3270.91it/s]\n"
     ]
    },
    {
     "name": "stdout",
     "output_type": "stream",
     "text": [
      "Partition 286 completed, convergence counter: 155121\n"
     ]
    },
    {
     "name": "stderr",
     "output_type": "stream",
     "text": [
      "Simulation Progress: 100%|██████████| 500000/500000 [03:02<00:00, 2741.84it/s]\n"
     ]
    },
    {
     "name": "stdout",
     "output_type": "stream",
     "text": [
      "Partition 287 completed, convergence counter: 3199\n"
     ]
    },
    {
     "name": "stderr",
     "output_type": "stream",
     "text": [
      "Simulation Progress: 100%|██████████| 500000/500000 [02:54<00:00, 2871.21it/s]\n"
     ]
    },
    {
     "name": "stdout",
     "output_type": "stream",
     "text": [
      "Partition 288 completed, convergence counter: 106300\n"
     ]
    },
    {
     "name": "stderr",
     "output_type": "stream",
     "text": [
      "Simulation Progress: 100%|██████████| 500000/500000 [02:52<00:00, 2899.84it/s]\n"
     ]
    },
    {
     "name": "stdout",
     "output_type": "stream",
     "text": [
      "Partition 289 completed, convergence counter: 20906\n"
     ]
    },
    {
     "name": "stderr",
     "output_type": "stream",
     "text": [
      "Simulation Progress: 100%|██████████| 500000/500000 [03:02<00:00, 2742.44it/s]\n"
     ]
    },
    {
     "name": "stdout",
     "output_type": "stream",
     "text": [
      "Partition 290 completed, convergence counter: 289048\n"
     ]
    },
    {
     "name": "stderr",
     "output_type": "stream",
     "text": [
      "Simulation Progress: 100%|██████████| 500000/500000 [02:53<00:00, 2887.23it/s]\n"
     ]
    },
    {
     "name": "stdout",
     "output_type": "stream",
     "text": [
      "Partition 291 completed, convergence counter: 23008\n"
     ]
    },
    {
     "name": "stderr",
     "output_type": "stream",
     "text": [
      "Simulation Progress: 100%|██████████| 500000/500000 [02:49<00:00, 2952.81it/s]\n"
     ]
    },
    {
     "name": "stdout",
     "output_type": "stream",
     "text": [
      "Partition 292 completed, convergence counter: 243079\n"
     ]
    },
    {
     "name": "stderr",
     "output_type": "stream",
     "text": [
      "Simulation Progress: 100%|██████████| 500000/500000 [02:32<00:00, 3288.21it/s]\n"
     ]
    },
    {
     "name": "stdout",
     "output_type": "stream",
     "text": [
      "Partition 293 completed, convergence counter: 6779\n"
     ]
    },
    {
     "name": "stderr",
     "output_type": "stream",
     "text": [
      "Simulation Progress: 100%|██████████| 500000/500000 [02:59<00:00, 2783.54it/s]\n"
     ]
    },
    {
     "name": "stdout",
     "output_type": "stream",
     "text": [
      "Partition 294 completed, convergence counter: 337778\n"
     ]
    },
    {
     "name": "stderr",
     "output_type": "stream",
     "text": [
      "Simulation Progress: 100%|██████████| 500000/500000 [02:47<00:00, 2979.45it/s]\n"
     ]
    },
    {
     "name": "stdout",
     "output_type": "stream",
     "text": [
      "Partition 295 completed, convergence counter: 279329\n"
     ]
    },
    {
     "name": "stderr",
     "output_type": "stream",
     "text": [
      "Simulation Progress: 100%|██████████| 500000/500000 [02:18<00:00, 3616.17it/s]\n"
     ]
    },
    {
     "name": "stdout",
     "output_type": "stream",
     "text": [
      "Partition 296 completed, convergence counter: 763054\n"
     ]
    },
    {
     "name": "stderr",
     "output_type": "stream",
     "text": [
      "Simulation Progress: 100%|██████████| 500000/500000 [02:11<00:00, 3812.78it/s]\n"
     ]
    },
    {
     "name": "stdout",
     "output_type": "stream",
     "text": [
      "Partition 297 completed, convergence counter: 225693\n"
     ]
    },
    {
     "name": "stderr",
     "output_type": "stream",
     "text": [
      "Simulation Progress: 100%|██████████| 500000/500000 [02:06<00:00, 3941.55it/s]\n"
     ]
    },
    {
     "name": "stdout",
     "output_type": "stream",
     "text": [
      "Partition 298 completed, convergence counter: 59968\n"
     ]
    },
    {
     "name": "stderr",
     "output_type": "stream",
     "text": [
      "Simulation Progress: 100%|██████████| 500000/500000 [02:18<00:00, 3602.58it/s]\n"
     ]
    },
    {
     "name": "stdout",
     "output_type": "stream",
     "text": [
      "Partition 299 completed, convergence counter: 214103\n"
     ]
    },
    {
     "name": "stderr",
     "output_type": "stream",
     "text": [
      "Simulation Progress: 100%|██████████| 500000/500000 [02:31<00:00, 3303.99it/s]\n"
     ]
    },
    {
     "name": "stdout",
     "output_type": "stream",
     "text": [
      "Partition 300 completed, convergence counter: 289459\n"
     ]
    },
    {
     "name": "stderr",
     "output_type": "stream",
     "text": [
      "Simulation Progress: 100%|██████████| 500000/500000 [02:27<00:00, 3397.51it/s]\n"
     ]
    },
    {
     "name": "stdout",
     "output_type": "stream",
     "text": [
      "Partition 301 completed, convergence counter: 143645\n"
     ]
    },
    {
     "name": "stderr",
     "output_type": "stream",
     "text": [
      "Simulation Progress: 100%|██████████| 500000/500000 [02:08<00:00, 3904.64it/s]\n"
     ]
    },
    {
     "name": "stdout",
     "output_type": "stream",
     "text": [
      "Partition 302 completed, convergence counter: 123345\n"
     ]
    },
    {
     "name": "stderr",
     "output_type": "stream",
     "text": [
      "Simulation Progress: 100%|██████████| 500000/500000 [02:23<00:00, 3482.05it/s]\n"
     ]
    },
    {
     "name": "stdout",
     "output_type": "stream",
     "text": [
      "Partition 303 completed, convergence counter: 126123\n"
     ]
    },
    {
     "name": "stderr",
     "output_type": "stream",
     "text": [
      "Simulation Progress: 100%|██████████| 500000/500000 [02:22<00:00, 3514.90it/s]\n"
     ]
    },
    {
     "name": "stdout",
     "output_type": "stream",
     "text": [
      "Partition 304 completed, convergence counter: 610927\n"
     ]
    },
    {
     "name": "stderr",
     "output_type": "stream",
     "text": [
      "Simulation Progress: 100%|██████████| 500000/500000 [02:47<00:00, 2990.45it/s]\n"
     ]
    },
    {
     "name": "stdout",
     "output_type": "stream",
     "text": [
      "Partition 305 completed, convergence counter: 1095532\n"
     ]
    },
    {
     "name": "stderr",
     "output_type": "stream",
     "text": [
      "Simulation Progress: 100%|██████████| 500000/500000 [02:36<00:00, 3204.35it/s]\n"
     ]
    },
    {
     "name": "stdout",
     "output_type": "stream",
     "text": [
      "Partition 306 completed, convergence counter: 342926\n"
     ]
    },
    {
     "name": "stderr",
     "output_type": "stream",
     "text": [
      "Simulation Progress: 100%|██████████| 500000/500000 [02:19<00:00, 3573.41it/s]\n"
     ]
    },
    {
     "name": "stdout",
     "output_type": "stream",
     "text": [
      "Partition 307 completed, convergence counter: 827921\n"
     ]
    },
    {
     "name": "stderr",
     "output_type": "stream",
     "text": [
      "Simulation Progress: 100%|██████████| 500000/500000 [02:24<00:00, 3468.21it/s]\n"
     ]
    },
    {
     "name": "stdout",
     "output_type": "stream",
     "text": [
      "Partition 308 completed, convergence counter: 50218\n"
     ]
    },
    {
     "name": "stderr",
     "output_type": "stream",
     "text": [
      "Simulation Progress: 100%|██████████| 500000/500000 [02:06<00:00, 3942.80it/s]\n"
     ]
    },
    {
     "name": "stdout",
     "output_type": "stream",
     "text": [
      "Partition 309 completed, convergence counter: 535608\n"
     ]
    },
    {
     "name": "stderr",
     "output_type": "stream",
     "text": [
      "Simulation Progress: 100%|██████████| 500000/500000 [02:03<00:00, 4058.68it/s]\n"
     ]
    },
    {
     "name": "stdout",
     "output_type": "stream",
     "text": [
      "Partition 310 completed, convergence counter: 272559\n"
     ]
    },
    {
     "name": "stderr",
     "output_type": "stream",
     "text": [
      "Simulation Progress: 100%|██████████| 500000/500000 [02:11<00:00, 3796.19it/s]\n"
     ]
    },
    {
     "name": "stdout",
     "output_type": "stream",
     "text": [
      "Partition 311 completed, convergence counter: 757012\n"
     ]
    },
    {
     "name": "stderr",
     "output_type": "stream",
     "text": [
      "Simulation Progress: 100%|██████████| 500000/500000 [02:19<00:00, 3595.27it/s]\n"
     ]
    },
    {
     "name": "stdout",
     "output_type": "stream",
     "text": [
      "Partition 312 completed, convergence counter: 1241683\n"
     ]
    },
    {
     "name": "stderr",
     "output_type": "stream",
     "text": [
      "Simulation Progress: 100%|██████████| 500000/500000 [02:20<00:00, 3557.74it/s]\n"
     ]
    },
    {
     "name": "stdout",
     "output_type": "stream",
     "text": [
      "Partition 313 completed, convergence counter: 1727358\n"
     ]
    },
    {
     "name": "stderr",
     "output_type": "stream",
     "text": [
      "Simulation Progress: 100%|██████████| 500000/500000 [02:12<00:00, 3781.69it/s]\n"
     ]
    },
    {
     "name": "stdout",
     "output_type": "stream",
     "text": [
      "Partition 314 completed, convergence counter: 2212596\n"
     ]
    },
    {
     "name": "stderr",
     "output_type": "stream",
     "text": [
      "Simulation Progress: 100%|██████████| 500000/500000 [02:07<00:00, 3936.36it/s]\n"
     ]
    },
    {
     "name": "stdout",
     "output_type": "stream",
     "text": [
      "Partition 315 completed, convergence counter: 2697963\n"
     ]
    },
    {
     "name": "stderr",
     "output_type": "stream",
     "text": [
      "Simulation Progress: 100%|██████████| 500000/500000 [02:24<00:00, 3449.80it/s]\n"
     ]
    },
    {
     "name": "stdout",
     "output_type": "stream",
     "text": [
      "Partition 316 completed, convergence counter: 3183174\n"
     ]
    },
    {
     "name": "stderr",
     "output_type": "stream",
     "text": [
      "Simulation Progress: 100%|██████████| 500000/500000 [02:45<00:00, 3014.76it/s]\n"
     ]
    },
    {
     "name": "stdout",
     "output_type": "stream",
     "text": [
      "Partition 317 completed, convergence counter: 3668728\n"
     ]
    },
    {
     "name": "stderr",
     "output_type": "stream",
     "text": [
      "Simulation Progress: 100%|██████████| 500000/500000 [02:30<00:00, 3318.22it/s]\n"
     ]
    },
    {
     "name": "stdout",
     "output_type": "stream",
     "text": [
      "Partition 318 completed, convergence counter: 308403\n"
     ]
    },
    {
     "name": "stderr",
     "output_type": "stream",
     "text": [
      "Simulation Progress: 100%|██████████| 500000/500000 [02:48<00:00, 2960.95it/s]\n"
     ]
    },
    {
     "name": "stdout",
     "output_type": "stream",
     "text": [
      "Partition 319 completed, convergence counter: 328891\n"
     ]
    },
    {
     "name": "stderr",
     "output_type": "stream",
     "text": [
      "Simulation Progress: 100%|██████████| 500000/500000 [02:30<00:00, 3314.25it/s]\n"
     ]
    },
    {
     "name": "stdout",
     "output_type": "stream",
     "text": [
      "Partition 320 completed, convergence counter: 814467\n"
     ]
    },
    {
     "name": "stderr",
     "output_type": "stream",
     "text": [
      "Simulation Progress: 100%|██████████| 500000/500000 [02:34<00:00, 3245.36it/s]\n"
     ]
    },
    {
     "name": "stdout",
     "output_type": "stream",
     "text": [
      "Partition 321 completed, convergence counter: 291529\n"
     ]
    },
    {
     "name": "stderr",
     "output_type": "stream",
     "text": [
      "Simulation Progress: 100%|██████████| 500000/500000 [02:23<00:00, 3487.89it/s]\n"
     ]
    },
    {
     "name": "stdout",
     "output_type": "stream",
     "text": [
      "Partition 322 completed, convergence counter: 133740\n"
     ]
    },
    {
     "name": "stderr",
     "output_type": "stream",
     "text": [
      "Simulation Progress: 100%|██████████| 500000/500000 [02:19<00:00, 3580.02it/s]\n"
     ]
    },
    {
     "name": "stdout",
     "output_type": "stream",
     "text": [
      "Partition 323 completed, convergence counter: 619228\n"
     ]
    },
    {
     "name": "stderr",
     "output_type": "stream",
     "text": [
      "Simulation Progress: 100%|██████████| 500000/500000 [02:14<00:00, 3718.24it/s]\n"
     ]
    },
    {
     "name": "stdout",
     "output_type": "stream",
     "text": [
      "Partition 324 completed, convergence counter: 1103857\n"
     ]
    },
    {
     "name": "stderr",
     "output_type": "stream",
     "text": [
      "Simulation Progress: 100%|██████████| 500000/500000 [02:12<00:00, 3780.53it/s]\n"
     ]
    },
    {
     "name": "stdout",
     "output_type": "stream",
     "text": [
      "Partition 325 completed, convergence counter: 205318\n"
     ]
    },
    {
     "name": "stderr",
     "output_type": "stream",
     "text": [
      "Simulation Progress: 100%|██████████| 500000/500000 [02:12<00:00, 3768.13it/s]\n"
     ]
    },
    {
     "name": "stdout",
     "output_type": "stream",
     "text": [
      "Partition 326 completed, convergence counter: 195632\n"
     ]
    },
    {
     "name": "stderr",
     "output_type": "stream",
     "text": [
      "Simulation Progress: 100%|██████████| 500000/500000 [02:21<00:00, 3540.85it/s]\n"
     ]
    },
    {
     "name": "stdout",
     "output_type": "stream",
     "text": [
      "Partition 327 completed, convergence counter: 289174\n"
     ]
    },
    {
     "name": "stderr",
     "output_type": "stream",
     "text": [
      "Simulation Progress: 100%|██████████| 500000/500000 [02:06<00:00, 3954.60it/s]\n"
     ]
    },
    {
     "name": "stdout",
     "output_type": "stream",
     "text": [
      "Partition 328 completed, convergence counter: 130121\n"
     ]
    },
    {
     "name": "stderr",
     "output_type": "stream",
     "text": [
      "Simulation Progress: 100%|██████████| 500000/500000 [02:10<00:00, 3822.16it/s]\n"
     ]
    },
    {
     "name": "stdout",
     "output_type": "stream",
     "text": [
      "Partition 329 completed, convergence counter: 480040\n"
     ]
    },
    {
     "name": "stderr",
     "output_type": "stream",
     "text": [
      "Simulation Progress: 100%|██████████| 500000/500000 [02:11<00:00, 3799.52it/s]\n"
     ]
    },
    {
     "name": "stdout",
     "output_type": "stream",
     "text": [
      "Partition 330 completed, convergence counter: 46833\n"
     ]
    },
    {
     "name": "stderr",
     "output_type": "stream",
     "text": [
      "Simulation Progress: 100%|██████████| 500000/500000 [02:05<00:00, 3986.22it/s]\n"
     ]
    },
    {
     "name": "stdout",
     "output_type": "stream",
     "text": [
      "Partition 331 completed, convergence counter: 21123\n"
     ]
    },
    {
     "name": "stderr",
     "output_type": "stream",
     "text": [
      "Simulation Progress: 100%|██████████| 500000/500000 [02:07<00:00, 3918.77it/s]\n"
     ]
    },
    {
     "name": "stdout",
     "output_type": "stream",
     "text": [
      "Partition 332 completed, convergence counter: 31550\n"
     ]
    },
    {
     "name": "stderr",
     "output_type": "stream",
     "text": [
      "Simulation Progress: 100%|██████████| 500000/500000 [02:04<00:00, 4004.23it/s]\n"
     ]
    },
    {
     "name": "stdout",
     "output_type": "stream",
     "text": [
      "Partition 333 completed, convergence counter: 6314\n"
     ]
    },
    {
     "name": "stderr",
     "output_type": "stream",
     "text": [
      "Simulation Progress: 100%|██████████| 500000/500000 [02:24<00:00, 3454.28it/s]\n"
     ]
    },
    {
     "name": "stdout",
     "output_type": "stream",
     "text": [
      "Partition 334 completed, convergence counter: 363935\n"
     ]
    },
    {
     "name": "stderr",
     "output_type": "stream",
     "text": [
      "Simulation Progress: 100%|██████████| 500000/500000 [03:05<00:00, 2693.74it/s]\n"
     ]
    },
    {
     "name": "stdout",
     "output_type": "stream",
     "text": [
      "Partition 335 completed, convergence counter: 222028\n"
     ]
    },
    {
     "name": "stderr",
     "output_type": "stream",
     "text": [
      "Simulation Progress: 100%|██████████| 500000/500000 [02:35<00:00, 3223.08it/s]\n"
     ]
    },
    {
     "name": "stdout",
     "output_type": "stream",
     "text": [
      "Partition 336 completed, convergence counter: 26533\n"
     ]
    },
    {
     "name": "stderr",
     "output_type": "stream",
     "text": [
      "Simulation Progress: 100%|██████████| 500000/500000 [02:32<00:00, 3270.03it/s]\n"
     ]
    },
    {
     "name": "stdout",
     "output_type": "stream",
     "text": [
      "Partition 337 completed, convergence counter: 512509\n"
     ]
    },
    {
     "name": "stderr",
     "output_type": "stream",
     "text": [
      "Simulation Progress: 100%|██████████| 500000/500000 [02:47<00:00, 2984.34it/s]\n"
     ]
    },
    {
     "name": "stdout",
     "output_type": "stream",
     "text": [
      "Partition 338 completed, convergence counter: 998058\n"
     ]
    },
    {
     "name": "stderr",
     "output_type": "stream",
     "text": [
      "Simulation Progress: 100%|██████████| 500000/500000 [02:38<00:00, 3161.44it/s]\n"
     ]
    },
    {
     "name": "stdout",
     "output_type": "stream",
     "text": [
      "Partition 339 completed, convergence counter: 1483899\n"
     ]
    },
    {
     "name": "stderr",
     "output_type": "stream",
     "text": [
      "Simulation Progress: 100%|██████████| 500000/500000 [02:10<00:00, 3841.18it/s]\n"
     ]
    },
    {
     "name": "stdout",
     "output_type": "stream",
     "text": [
      "Partition 340 completed, convergence counter: 1969421\n"
     ]
    },
    {
     "name": "stderr",
     "output_type": "stream",
     "text": [
      "Simulation Progress: 100%|██████████| 500000/500000 [02:14<00:00, 3714.63it/s]\n"
     ]
    },
    {
     "name": "stdout",
     "output_type": "stream",
     "text": [
      "Partition 341 completed, convergence counter: 91399\n"
     ]
    },
    {
     "name": "stderr",
     "output_type": "stream",
     "text": [
      "Simulation Progress: 100%|██████████| 500000/500000 [02:30<00:00, 3324.33it/s]\n"
     ]
    },
    {
     "name": "stdout",
     "output_type": "stream",
     "text": [
      "Partition 342 completed, convergence counter: 214144\n"
     ]
    },
    {
     "name": "stderr",
     "output_type": "stream",
     "text": [
      "Simulation Progress: 100%|██████████| 500000/500000 [02:55<00:00, 2848.19it/s]\n"
     ]
    },
    {
     "name": "stdout",
     "output_type": "stream",
     "text": [
      "Partition 343 completed, convergence counter: 70584\n"
     ]
    },
    {
     "name": "stderr",
     "output_type": "stream",
     "text": [
      "Simulation Progress: 100%|██████████| 500000/500000 [02:35<00:00, 3223.94it/s]\n"
     ]
    },
    {
     "name": "stdout",
     "output_type": "stream",
     "text": [
      "Partition 344 completed, convergence counter: 949\n"
     ]
    },
    {
     "name": "stderr",
     "output_type": "stream",
     "text": [
      "Simulation Progress: 100%|██████████| 500000/500000 [02:28<00:00, 3372.55it/s]\n"
     ]
    },
    {
     "name": "stdout",
     "output_type": "stream",
     "text": [
      "Partition 345 completed, convergence counter: 10839\n"
     ]
    },
    {
     "name": "stderr",
     "output_type": "stream",
     "text": [
      "Simulation Progress: 100%|██████████| 500000/500000 [03:02<00:00, 2735.06it/s]\n"
     ]
    },
    {
     "name": "stdout",
     "output_type": "stream",
     "text": [
      "Partition 346 completed, convergence counter: 191163\n"
     ]
    },
    {
     "name": "stderr",
     "output_type": "stream",
     "text": [
      "Simulation Progress: 100%|██████████| 500000/500000 [02:13<00:00, 3746.88it/s]\n"
     ]
    },
    {
     "name": "stdout",
     "output_type": "stream",
     "text": [
      "Partition 347 completed, convergence counter: 677468\n"
     ]
    },
    {
     "name": "stderr",
     "output_type": "stream",
     "text": [
      "Simulation Progress: 100%|██████████| 500000/500000 [02:09<00:00, 3857.10it/s]\n"
     ]
    },
    {
     "name": "stdout",
     "output_type": "stream",
     "text": [
      "Partition 348 completed, convergence counter: 30620\n"
     ]
    },
    {
     "name": "stderr",
     "output_type": "stream",
     "text": [
      "Simulation Progress: 100%|██████████| 500000/500000 [02:08<00:00, 3880.52it/s]\n"
     ]
    },
    {
     "name": "stdout",
     "output_type": "stream",
     "text": [
      "Partition 349 completed, convergence counter: 473092\n"
     ]
    },
    {
     "name": "stderr",
     "output_type": "stream",
     "text": [
      "Simulation Progress: 100%|██████████| 500000/500000 [02:02<00:00, 4076.10it/s]\n"
     ]
    },
    {
     "name": "stdout",
     "output_type": "stream",
     "text": [
      "Partition 350 completed, convergence counter: 69471\n"
     ]
    },
    {
     "name": "stderr",
     "output_type": "stream",
     "text": [
      "Simulation Progress: 100%|██████████| 500000/500000 [02:07<00:00, 3925.25it/s]\n"
     ]
    },
    {
     "name": "stdout",
     "output_type": "stream",
     "text": [
      "Partition 351 completed, convergence counter: 18941\n"
     ]
    },
    {
     "name": "stderr",
     "output_type": "stream",
     "text": [
      "Simulation Progress: 100%|██████████| 500000/500000 [02:06<00:00, 3947.93it/s]\n"
     ]
    },
    {
     "name": "stdout",
     "output_type": "stream",
     "text": [
      "Partition 352 completed, convergence counter: 359214\n"
     ]
    },
    {
     "name": "stderr",
     "output_type": "stream",
     "text": [
      "Simulation Progress: 100%|██████████| 500000/500000 [02:12<00:00, 3783.75it/s]\n"
     ]
    },
    {
     "name": "stdout",
     "output_type": "stream",
     "text": [
      "Partition 353 completed, convergence counter: 845029\n"
     ]
    },
    {
     "name": "stderr",
     "output_type": "stream",
     "text": [
      "Simulation Progress: 100%|██████████| 500000/500000 [02:40<00:00, 3107.39it/s]\n"
     ]
    },
    {
     "name": "stdout",
     "output_type": "stream",
     "text": [
      "Partition 354 completed, convergence counter: 1330946\n"
     ]
    },
    {
     "name": "stderr",
     "output_type": "stream",
     "text": [
      "Simulation Progress: 100%|██████████| 500000/500000 [02:07<00:00, 3928.96it/s]\n"
     ]
    },
    {
     "name": "stdout",
     "output_type": "stream",
     "text": [
      "Partition 355 completed, convergence counter: 1816203\n"
     ]
    },
    {
     "name": "stderr",
     "output_type": "stream",
     "text": [
      "Simulation Progress: 100%|██████████| 500000/500000 [02:07<00:00, 3929.92it/s]\n"
     ]
    },
    {
     "name": "stdout",
     "output_type": "stream",
     "text": [
      "Partition 356 completed, convergence counter: 84241\n"
     ]
    },
    {
     "name": "stderr",
     "output_type": "stream",
     "text": [
      "Simulation Progress: 100%|██████████| 500000/500000 [02:18<00:00, 3619.28it/s]\n"
     ]
    },
    {
     "name": "stdout",
     "output_type": "stream",
     "text": [
      "Partition 357 completed, convergence counter: 52327\n"
     ]
    },
    {
     "name": "stderr",
     "output_type": "stream",
     "text": [
      "Simulation Progress: 100%|██████████| 500000/500000 [02:17<00:00, 3629.75it/s]\n"
     ]
    },
    {
     "name": "stdout",
     "output_type": "stream",
     "text": [
      "Partition 358 completed, convergence counter: 919\n"
     ]
    },
    {
     "name": "stderr",
     "output_type": "stream",
     "text": [
      "Simulation Progress: 100%|██████████| 500000/500000 [02:17<00:00, 3636.93it/s]\n"
     ]
    },
    {
     "name": "stdout",
     "output_type": "stream",
     "text": [
      "Partition 359 completed, convergence counter: 10916\n"
     ]
    },
    {
     "name": "stderr",
     "output_type": "stream",
     "text": [
      "Simulation Progress: 100%|██████████| 500000/500000 [02:28<00:00, 3366.16it/s]\n"
     ]
    },
    {
     "name": "stdout",
     "output_type": "stream",
     "text": [
      "Partition 360 completed, convergence counter: 13755\n"
     ]
    },
    {
     "name": "stderr",
     "output_type": "stream",
     "text": [
      "Simulation Progress: 100%|██████████| 500000/500000 [02:08<00:00, 3879.50it/s]\n"
     ]
    },
    {
     "name": "stdout",
     "output_type": "stream",
     "text": [
      "Partition 361 completed, convergence counter: 222330\n"
     ]
    },
    {
     "name": "stderr",
     "output_type": "stream",
     "text": [
      "Simulation Progress: 100%|██████████| 500000/500000 [02:15<00:00, 3680.91it/s]\n"
     ]
    },
    {
     "name": "stdout",
     "output_type": "stream",
     "text": [
      "Partition 362 completed, convergence counter: 121943\n"
     ]
    },
    {
     "name": "stderr",
     "output_type": "stream",
     "text": [
      "Simulation Progress: 100%|██████████| 500000/500000 [02:42<00:00, 3081.16it/s]\n"
     ]
    },
    {
     "name": "stdout",
     "output_type": "stream",
     "text": [
      "Partition 363 completed, convergence counter: 1099\n"
     ]
    },
    {
     "name": "stderr",
     "output_type": "stream",
     "text": [
      "Simulation Progress: 100%|██████████| 500000/500000 [02:26<00:00, 3401.77it/s]\n"
     ]
    },
    {
     "name": "stdout",
     "output_type": "stream",
     "text": [
      "Partition 364 completed, convergence counter: 77562\n"
     ]
    },
    {
     "name": "stderr",
     "output_type": "stream",
     "text": [
      "Simulation Progress: 100%|██████████| 500000/500000 [02:17<00:00, 3643.43it/s]\n"
     ]
    },
    {
     "name": "stdout",
     "output_type": "stream",
     "text": [
      "Partition 365 completed, convergence counter: 16288\n"
     ]
    },
    {
     "name": "stderr",
     "output_type": "stream",
     "text": [
      "Simulation Progress: 100%|██████████| 500000/500000 [02:28<00:00, 3361.79it/s]\n"
     ]
    },
    {
     "name": "stdout",
     "output_type": "stream",
     "text": [
      "Partition 366 completed, convergence counter: 49027\n"
     ]
    },
    {
     "name": "stderr",
     "output_type": "stream",
     "text": [
      "Simulation Progress: 100%|██████████| 500000/500000 [02:58<00:00, 2805.67it/s]\n"
     ]
    },
    {
     "name": "stdout",
     "output_type": "stream",
     "text": [
      "Partition 367 completed, convergence counter: 8704\n"
     ]
    },
    {
     "name": "stderr",
     "output_type": "stream",
     "text": [
      "Simulation Progress: 100%|██████████| 500000/500000 [02:57<00:00, 2818.52it/s]\n"
     ]
    },
    {
     "name": "stdout",
     "output_type": "stream",
     "text": [
      "Partition 368 completed, convergence counter: 182303\n"
     ]
    },
    {
     "name": "stderr",
     "output_type": "stream",
     "text": [
      "Simulation Progress: 100%|██████████| 500000/500000 [02:59<00:00, 2786.60it/s]\n"
     ]
    },
    {
     "name": "stdout",
     "output_type": "stream",
     "text": [
      "Partition 369 completed, convergence counter: 203478\n"
     ]
    },
    {
     "name": "stderr",
     "output_type": "stream",
     "text": [
      "Simulation Progress: 100%|██████████| 500000/500000 [02:50<00:00, 2928.28it/s]\n"
     ]
    },
    {
     "name": "stdout",
     "output_type": "stream",
     "text": [
      "Partition 370 completed, convergence counter: 82000\n"
     ]
    },
    {
     "name": "stderr",
     "output_type": "stream",
     "text": [
      "Simulation Progress: 100%|██████████| 500000/500000 [02:28<00:00, 3372.33it/s]\n"
     ]
    },
    {
     "name": "stdout",
     "output_type": "stream",
     "text": [
      "Partition 371 completed, convergence counter: 567884\n"
     ]
    },
    {
     "name": "stderr",
     "output_type": "stream",
     "text": [
      "Simulation Progress: 100%|██████████| 500000/500000 [02:14<00:00, 3730.78it/s]\n"
     ]
    },
    {
     "name": "stdout",
     "output_type": "stream",
     "text": [
      "Partition 372 completed, convergence counter: 11782\n"
     ]
    },
    {
     "name": "stderr",
     "output_type": "stream",
     "text": [
      "Simulation Progress: 100%|██████████| 500000/500000 [02:03<00:00, 4049.74it/s]\n"
     ]
    },
    {
     "name": "stdout",
     "output_type": "stream",
     "text": [
      "Partition 373 completed, convergence counter: 230183\n"
     ]
    },
    {
     "name": "stderr",
     "output_type": "stream",
     "text": [
      "Simulation Progress: 100%|██████████| 500000/500000 [02:01<00:00, 4126.23it/s]\n"
     ]
    },
    {
     "name": "stdout",
     "output_type": "stream",
     "text": [
      "Partition 374 completed, convergence counter: 152776\n"
     ]
    },
    {
     "name": "stderr",
     "output_type": "stream",
     "text": [
      "Simulation Progress: 100%|██████████| 500000/500000 [02:15<00:00, 3685.24it/s]\n"
     ]
    },
    {
     "name": "stdout",
     "output_type": "stream",
     "text": [
      "Partition 375 completed, convergence counter: 63107\n"
     ]
    },
    {
     "name": "stderr",
     "output_type": "stream",
     "text": [
      "Simulation Progress: 100%|██████████| 500000/500000 [02:26<00:00, 3406.84it/s]\n"
     ]
    },
    {
     "name": "stdout",
     "output_type": "stream",
     "text": [
      "Partition 376 completed, convergence counter: 99068\n"
     ]
    },
    {
     "name": "stderr",
     "output_type": "stream",
     "text": [
      "Simulation Progress: 100%|██████████| 500000/500000 [02:14<00:00, 3706.80it/s]\n"
     ]
    },
    {
     "name": "stdout",
     "output_type": "stream",
     "text": [
      "Partition 377 completed, convergence counter: 4933\n"
     ]
    },
    {
     "name": "stderr",
     "output_type": "stream",
     "text": [
      "Simulation Progress: 100%|██████████| 500000/500000 [02:24<00:00, 3458.72it/s]\n"
     ]
    },
    {
     "name": "stdout",
     "output_type": "stream",
     "text": [
      "Partition 378 completed, convergence counter: 77052\n"
     ]
    },
    {
     "name": "stderr",
     "output_type": "stream",
     "text": [
      "Simulation Progress: 100%|██████████| 500000/500000 [02:23<00:00, 3489.26it/s]\n"
     ]
    },
    {
     "name": "stdout",
     "output_type": "stream",
     "text": [
      "Partition 379 completed, convergence counter: 144720\n"
     ]
    },
    {
     "name": "stderr",
     "output_type": "stream",
     "text": [
      "Simulation Progress: 100%|██████████| 500000/500000 [02:24<00:00, 3450.30it/s]\n"
     ]
    },
    {
     "name": "stdout",
     "output_type": "stream",
     "text": [
      "Partition 380 completed, convergence counter: 178365\n"
     ]
    },
    {
     "name": "stderr",
     "output_type": "stream",
     "text": [
      "Simulation Progress: 100%|██████████| 500000/500000 [02:30<00:00, 3324.00it/s]\n"
     ]
    },
    {
     "name": "stdout",
     "output_type": "stream",
     "text": [
      "Partition 381 completed, convergence counter: 5791\n"
     ]
    },
    {
     "name": "stderr",
     "output_type": "stream",
     "text": [
      "Simulation Progress: 100%|██████████| 500000/500000 [02:24<00:00, 3469.09it/s]\n"
     ]
    },
    {
     "name": "stdout",
     "output_type": "stream",
     "text": [
      "Partition 382 completed, convergence counter: 110315\n"
     ]
    },
    {
     "name": "stderr",
     "output_type": "stream",
     "text": [
      "Simulation Progress: 100%|██████████| 500000/500000 [02:41<00:00, 3086.97it/s]\n"
     ]
    },
    {
     "name": "stdout",
     "output_type": "stream",
     "text": [
      "Partition 383 completed, convergence counter: 7200\n"
     ]
    },
    {
     "name": "stderr",
     "output_type": "stream",
     "text": [
      "Simulation Progress: 100%|██████████| 500000/500000 [02:54<00:00, 2863.41it/s]\n"
     ]
    },
    {
     "name": "stdout",
     "output_type": "stream",
     "text": [
      "Partition 384 completed, convergence counter: 11609\n"
     ]
    },
    {
     "name": "stderr",
     "output_type": "stream",
     "text": [
      "Simulation Progress: 100%|██████████| 500000/500000 [02:24<00:00, 3451.87it/s]\n"
     ]
    },
    {
     "name": "stdout",
     "output_type": "stream",
     "text": [
      "Partition 385 completed, convergence counter: 129363\n"
     ]
    },
    {
     "name": "stderr",
     "output_type": "stream",
     "text": [
      "Simulation Progress: 100%|██████████| 500000/500000 [02:13<00:00, 3748.29it/s]\n"
     ]
    },
    {
     "name": "stdout",
     "output_type": "stream",
     "text": [
      "Partition 386 completed, convergence counter: 239040\n"
     ]
    },
    {
     "name": "stderr",
     "output_type": "stream",
     "text": [
      "Simulation Progress: 100%|██████████| 500000/500000 [02:11<00:00, 3816.39it/s]\n"
     ]
    },
    {
     "name": "stdout",
     "output_type": "stream",
     "text": [
      "Partition 387 completed, convergence counter: 99125\n"
     ]
    },
    {
     "name": "stderr",
     "output_type": "stream",
     "text": [
      "Simulation Progress: 100%|██████████| 500000/500000 [02:22<00:00, 3502.89it/s]\n"
     ]
    },
    {
     "name": "stdout",
     "output_type": "stream",
     "text": [
      "Partition 388 completed, convergence counter: 32375\n"
     ]
    },
    {
     "name": "stderr",
     "output_type": "stream",
     "text": [
      "Simulation Progress: 100%|██████████| 500000/500000 [02:23<00:00, 3476.20it/s]\n"
     ]
    },
    {
     "name": "stdout",
     "output_type": "stream",
     "text": [
      "Partition 389 completed, convergence counter: 271538\n"
     ]
    },
    {
     "name": "stderr",
     "output_type": "stream",
     "text": [
      "Simulation Progress: 100%|██████████| 500000/500000 [02:31<00:00, 3300.32it/s]\n"
     ]
    },
    {
     "name": "stdout",
     "output_type": "stream",
     "text": [
      "Partition 390 completed, convergence counter: 758728\n"
     ]
    },
    {
     "name": "stderr",
     "output_type": "stream",
     "text": [
      "Simulation Progress: 100%|██████████| 500000/500000 [02:32<00:00, 3276.11it/s]\n"
     ]
    },
    {
     "name": "stdout",
     "output_type": "stream",
     "text": [
      "Partition 391 completed, convergence counter: 1245666\n"
     ]
    },
    {
     "name": "stderr",
     "output_type": "stream",
     "text": [
      "Simulation Progress: 100%|██████████| 500000/500000 [02:32<00:00, 3272.27it/s]\n"
     ]
    },
    {
     "name": "stdout",
     "output_type": "stream",
     "text": [
      "Partition 392 completed, convergence counter: 1731830\n"
     ]
    },
    {
     "name": "stderr",
     "output_type": "stream",
     "text": [
      "Simulation Progress: 100%|██████████| 500000/500000 [02:28<00:00, 3370.14it/s]\n"
     ]
    },
    {
     "name": "stdout",
     "output_type": "stream",
     "text": [
      "Partition 393 completed, convergence counter: 2218787\n"
     ]
    },
    {
     "name": "stderr",
     "output_type": "stream",
     "text": [
      "Simulation Progress: 100%|██████████| 500000/500000 [02:06<00:00, 3956.73it/s]\n"
     ]
    },
    {
     "name": "stdout",
     "output_type": "stream",
     "text": [
      "Partition 394 completed, convergence counter: 2704962\n"
     ]
    },
    {
     "name": "stderr",
     "output_type": "stream",
     "text": [
      "Simulation Progress: 100%|██████████| 500000/500000 [02:03<00:00, 4060.73it/s]\n"
     ]
    },
    {
     "name": "stdout",
     "output_type": "stream",
     "text": [
      "Partition 395 completed, convergence counter: 3190894\n"
     ]
    },
    {
     "name": "stderr",
     "output_type": "stream",
     "text": [
      "Simulation Progress: 100%|██████████| 500000/500000 [02:09<00:00, 3853.88it/s]\n"
     ]
    },
    {
     "name": "stdout",
     "output_type": "stream",
     "text": [
      "Partition 396 completed, convergence counter: 3678081\n"
     ]
    },
    {
     "name": "stderr",
     "output_type": "stream",
     "text": [
      "Simulation Progress: 100%|██████████| 500000/500000 [02:11<00:00, 3790.70it/s]\n"
     ]
    },
    {
     "name": "stdout",
     "output_type": "stream",
     "text": [
      "Partition 397 completed, convergence counter: 4165139\n"
     ]
    },
    {
     "name": "stderr",
     "output_type": "stream",
     "text": [
      "Simulation Progress: 100%|██████████| 500000/500000 [02:15<00:00, 3683.64it/s]\n"
     ]
    },
    {
     "name": "stdout",
     "output_type": "stream",
     "text": [
      "Partition 398 completed, convergence counter: 4651584\n"
     ]
    },
    {
     "name": "stderr",
     "output_type": "stream",
     "text": [
      "Simulation Progress: 100%|██████████| 500000/500000 [02:40<00:00, 3107.51it/s]"
     ]
    },
    {
     "name": "stdout",
     "output_type": "stream",
     "text": [
      "Partition 399 completed, convergence counter: 5137781\n"
     ]
    },
    {
     "name": "stderr",
     "output_type": "stream",
     "text": [
      "\n"
     ]
    }
   ],
   "source": [
    "sigma_list = [10**(i) for i in range(-5, 3)]\n",
    "import os\n",
    "sim_counter = 0\n",
    "for sigma in sigma_list:\n",
    "    save_folder = f'/Users/moyuanchen/Documents/thesis/preferred_with_price/sim_{sim_counter}/'\n",
    "    sim_counter += 1\n",
    "    try:\n",
    "        os.mkdir(save_folder)\n",
    "    except FileExistsError:\n",
    "        pass\n",
    "    config = Config()\n",
    "    config.sigma_u = sigma\n",
    "\n",
    "    _save_path = save_folder + f'data_part_0.npy'\n",
    "    log, agents = simulate(config = config, T = 500000, save_path=_save_path)\n",
    "    convergence_threshold = 5000000\n",
    "    convergence = 0\n",
    "    partitions = 1\n",
    "    while convergence < convergence_threshold:\n",
    "        save_path = save_folder + f'data_part_{partitions}.npy'\n",
    "        log, agents = simulate(config = config, T=500000, continue_simulation=_save_path, save_path=save_path)\n",
    "        _save_path = save_path\n",
    "        \n",
    "        convergence = log['convergence_counter']\n",
    "        print(f\"Partition {partitions} completed, convergence counter: {convergence}\")\n",
    "        partitions += 1\n",
    "\n",
    "    # save config\n",
    "    np.save(save_folder + 'config.npy', config)"
   ]
  },
  {
   "cell_type": "code",
   "execution_count": null,
   "metadata": {},
   "outputs": [],
   "source": [
    "sigma_u_list = [1, 10]\n",
    "for sigma_u_ in sigma_u_list:\n",
    "    config = Config()\n",
    "    config.sigma_u = sigma_u_\n",
    "\n",
    "    save_folder = 'sim_sigma_u={0}'.format(sigma_u_)\n",
    "\n",
    "    _save_path = '/Users/mike/Documents/thesis/unconstrained/' + save_folder + '/data_part_0.npy'\n",
    "    if not os.path.exists(os.path.dirname(_save_path)):\n",
    "        os.makedirs(os.path.dirname(_save_path))\n",
    "    log, agents = simulate(config = config, T = 500000, save_path=_save_path)\n",
    "    # break\n",
    "    convergence_threshold = 1000000\n",
    "    convergence = 0\n",
    "    partitions = 1\n",
    "    while convergence < convergence_threshold:\n",
    "        save_path = f'/Users/mike/Documents/thesis/unconstrained/' + save_folder+ '/data_part_{partitions}.npy'\n",
    "        log, agents = simulate(config = config, T=500000, continue_simulation=_save_path, save_path=save_path)\n",
    "        _save_path = save_path\n",
    "        \n",
    "        convergence = log['convergence_counter']\n",
    "        print(f\"Partition {partitions} completed, convergence counter: {convergence}\")\n",
    "        partitions += 1\n",
    "\n",
    "    # save config\n",
    "    np.save('/Users/mike/Documents/thesis/unconstrained/' + save_folder + '/config.npy', config)"
   ]
  },
  {
   "cell_type": "code",
   "execution_count": null,
   "metadata": {},
   "outputs": [],
   "source": []
  }
 ],
 "metadata": {
  "kernelspec": {
   "display_name": "ai",
   "language": "python",
   "name": "python3"
  },
  "language_info": {
   "codemirror_mode": {
    "name": "ipython",
    "version": 3
   },
   "file_extension": ".py",
   "mimetype": "text/x-python",
   "name": "python",
   "nbconvert_exporter": "python",
   "pygments_lexer": "ipython3",
   "version": "3.12.2"
  }
 },
 "nbformat": 4,
 "nbformat_minor": 2
}
